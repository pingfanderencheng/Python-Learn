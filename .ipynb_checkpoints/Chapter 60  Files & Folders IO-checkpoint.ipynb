{
 "cells": [
  {
   "cell_type": "raw",
   "metadata": {},
   "source": [
    "Parameter Details\n",
    "filename the path to your file or, if the file is in the working directory, the filename of your file\n",
    "access_modea string value that determines how the file is opened\n",
    "buffering an integer value used for optional line buffering\n",
    "When it comes to storing, reading, or communicating data, working with the files of an operating system is both\n",
    "necessary and easy with Python. Unlike other languages where file input and output requires complex reading and\n",
    "writing objects, Python simplifies the process only needing commands to open, read/write and close the file. This\n",
    "topic explains how Python can interface with files on the operating system."
   ]
  },
  {
   "cell_type": "raw",
   "metadata": {},
   "source": [
    "There are different modes you can open a file with, specified by the mode parameter. These include:\n",
    "'r' - reading mode. The default. It allows you only to read the file, not to modify it. When using this mode the\n",
    "file must exist.\n",
    "'w' - writing mode. It will create a new file if it does not exist, otherwise will erase the file and allow you to\n",
    "write to it.\n",
    "'a' - append mode. It will write data to the end of the file. It does not erase the file, and the file must exist for\n",
    "this mode.\n",
    "'rb' - reading mode in binary. This is similar to r except that the reading is forced in binary mode. This is\n",
    "also a default choice.\n",
    "'r+' - reading mode plus writing mode at the same time. This allows you to read and write into files at the\n",
    "same time without having to use r and w .\n",
    "'rb+' - reading and writing mode in binary. The same as r+ except the data is in binary\n",
    "'wb' - writing mode in binary. The same as w except the data is in binary.\n",
    "'w+' - writing and reading mode. The exact same as r+ but if the file does not exist, a new one is made.\n",
    "Otherwise, the file is overwritten.\n",
    "'wb+' - writing and reading mode in binary mode. The same as w+ but the data is in binary.\n",
    "'ab' - appending in binary mode. Similar to a except that the data is in binary.\n",
    "'a+' - appending and reading mode. Similar to w+ as it will create a new file if the file does not exist.\n",
    "Otherwise, the file pointer is at the end of the file if it exists.\n",
    "'ab+' - appending and reading mode in binary. The same as a+ except that the data is in binary."
   ]
  },
  {
   "cell_type": "raw",
   "metadata": {},
   "source": [
    "Python 3 added a new mode for exclusive creation so that you will not accidentally truncate or overwrite and\n",
    "existing file.\n",
    "'x' - open for exclusive creation, will raise FileExistsError if the file already exists\n",
    "'xb' - open for exclusive creation writing mode in binary. The same as x except the data is in binary.\n",
    "'x+' - reading and writing mode. Similar to w+ as it will create a new file if the file does not exist. Otherwise,\n",
    "will raise FileExistsError .\n",
    "'xb+' - writing and reading mode. The exact same as x+ but the data is binary"
   ]
  },
  {
   "cell_type": "code",
   "execution_count": 4,
   "metadata": {},
   "outputs": [
    {
     "name": "stdout",
     "output_type": "stream",
     "text": [
      "songc\n",
      "songh\n",
      "songm\n",
      "songq\n",
      "songw\n",
      "songe\n",
      "songr\n",
      "songt"
     ]
    }
   ],
   "source": [
    "with open('myfile.txt', 'r') as fp:\n",
    "    for line in fp:\n",
    "        print(line, end=\"\")"
   ]
  },
  {
   "cell_type": "code",
   "execution_count": 5,
   "metadata": {},
   "outputs": [
    {
     "name": "stdout",
     "output_type": "stream",
     "text": [
      "songc\n",
      "\n",
      "songh\n",
      "\n",
      "songm\n",
      "\n",
      "songq\n",
      "\n",
      "songw\n",
      "\n",
      "songe\n",
      "\n",
      "songr\n",
      "\n",
      "songt\n"
     ]
    }
   ],
   "source": [
    "with open('myfile.txt', 'r') as fp:\n",
    "    while True:\n",
    "        cur_line = fp.readline()\n",
    "        # If the result is an empty string\n",
    "        if cur_line == '':\n",
    "            break\n",
    "        print(cur_line)"
   ]
  },
  {
   "cell_type": "code",
   "execution_count": 9,
   "metadata": {},
   "outputs": [
    {
     "name": "stdout",
     "output_type": "stream",
     "text": [
      "Line 0: songc\n",
      "\n",
      "Line 1: songh\n",
      "\n",
      "Line 2: songm\n",
      "\n",
      "Line 3: songq\n",
      "\n",
      "Line 4: songw\n",
      "\n",
      "Line 5: songe\n",
      "\n",
      "Line 6: songr\n",
      "\n",
      "Line 7: songt\n"
     ]
    }
   ],
   "source": [
    "with open(\"myfile.txt\", \"r\") as fp:\n",
    "    lines = fp.readlines()\n",
    "for i in range(len(lines)):\n",
    "    print(\"Line \" + str(i) + \": \" + lines[i])"
   ]
  },
  {
   "cell_type": "code",
   "execution_count": 11,
   "metadata": {},
   "outputs": [
    {
     "name": "stdout",
     "output_type": "stream",
     "text": [
      "F:/Linux软件 Anaconda3-5.0.1-Linux-x86_64.sh\n",
      "F:/Linux软件 ideaIU-2016.2.4.tar.gz\n",
      "F:/Linux软件 jdk-8u101-linux-i586.tar.gz\n",
      "F:/Linux软件 spark-2.0.0-bin-hadoop2.7.tar\n",
      "F:/Linux软件 spark-2.0.0-bin-hadoop2.7.tgz\n",
      "F:/Linux软件 spark-2.0.0-bin-without-hadoop.tgz\n",
      "F:/Linux软件\\software hadoop-2.7.2.tar.gz\n",
      "F:/Linux软件\\software hadoop-2.8.2.tar.gz\n",
      "F:/Linux软件\\software hbase-1.2.6-bin.tar (2).gz\n",
      "F:/Linux软件\\software hbase-1.2.6-bin.tar.gz\n",
      "F:/Linux软件\\software jdk-8u101-linux-x64.tar.gz\n",
      "F:/Linux软件\\software scala-2.11.11.deb\n",
      "F:/Linux软件\\software scala-2.11.11.tgz\n",
      "F:/Linux软件\\software spark-2.2.0-bin-hadoop2.7.tgz\n"
     ]
    }
   ],
   "source": [
    "import os\n",
    "root_dir = \"F:/Linux软件\"\n",
    "for root, folders, files in os.walk(root_dir):\n",
    "    for filename in files:\n",
    "        print (root, filename)"
   ]
  },
  {
   "cell_type": "code",
   "execution_count": 15,
   "metadata": {},
   "outputs": [
    {
     "name": "stdout",
     "output_type": "stream",
     "text": [
      "Anaconda3-5.0.1-Linux-x86_64.sh\n",
      "ideaIU-2016.2.4.tar.gz\n",
      "jdk-8u101-linux-i586.tar.gz\n",
      "spark-2.0.0-bin-hadoop2.7.tar\n",
      "spark-2.0.0-bin-hadoop2.7.tgz\n",
      "spark-2.0.0-bin-without-hadoop.tgz\n"
     ]
    }
   ],
   "source": [
    "for entry in os.scandir(root_dir):\n",
    "    if not entry.name.startswith('.') and entry.is_file():\n",
    "        print(entry.name)"
   ]
  },
  {
   "cell_type": "code",
   "execution_count": 16,
   "metadata": {},
   "outputs": [],
   "source": [
    "with open('myfile.txt') as in_file:\n",
    "    content = in_file.read()"
   ]
  },
  {
   "cell_type": "code",
   "execution_count": 18,
   "metadata": {},
   "outputs": [
    {
     "name": "stdout",
     "output_type": "stream",
     "text": [
      "songc\n",
      "songh\n",
      "songm\n",
      "songq\n",
      "songw\n",
      "songe\n",
      "songr\n",
      "songt\n"
     ]
    }
   ],
   "source": [
    "print(content)"
   ]
  },
  {
   "cell_type": "code",
   "execution_count": 26,
   "metadata": {},
   "outputs": [
    {
     "name": "stdout",
     "output_type": "stream",
     "text": [
      "Line 1\n",
      "Line 2\n",
      "Line 3\n",
      "Line 4\n",
      "\n"
     ]
    }
   ],
   "source": [
    "in_file = open('myfile.txt', 'r')\n",
    "content = in_file.read()\n",
    "print(content)\n",
    "in_file.close()"
   ]
  },
  {
   "cell_type": "code",
   "execution_count": 20,
   "metadata": {},
   "outputs": [],
   "source": [
    "with open('myfile.txt', 'w') as f:\n",
    "    f.write(\"Line 1\")\n",
    "    f.write(\"Line 2\")\n",
    "    f.write(\"Line 3\")\n",
    "    f.write(\"Line 4\")"
   ]
  },
  {
   "cell_type": "code",
   "execution_count": 23,
   "metadata": {},
   "outputs": [],
   "source": [
    "with open('myfile.txt', 'w') as f:\n",
    "    f.write(\"Line 1\\n\")\n",
    "    f.write(\"Line 2\\n\")\n",
    "    f.write(\"Line 3\\n\")\n",
    "    f.write(\"Line 4\\n\")"
   ]
  },
  {
   "cell_type": "code",
   "execution_count": 25,
   "metadata": {},
   "outputs": [],
   "source": [
    "with open('my_file.txt', 'w', encoding='utf-8') as f:\n",
    "    f.write('utf-8 text')"
   ]
  },
  {
   "cell_type": "code",
   "execution_count": 27,
   "metadata": {},
   "outputs": [
    {
     "name": "stdout",
     "output_type": "stream",
     "text": [
      "utf-8 text\n"
     ]
    }
   ],
   "source": [
    "in_file = open('my_file.txt', 'r')\n",
    "content = in_file.read()\n",
    "print(content)\n",
    "in_file.close()"
   ]
  },
  {
   "cell_type": "code",
   "execution_count": 28,
   "metadata": {},
   "outputs": [
    {
     "name": "stdout",
     "output_type": "stream",
     "text": [
      "I'm Not Dead Yet!\n",
      "I'm Not Dead Yet!\n",
      "I'm Not Dead Yet!\n"
     ]
    }
   ],
   "source": [
    "with open('fred.txt', 'w') as outfile:\n",
    "    s = \"I'm Not Dead Yet!\"\n",
    "    print(s) # writes to stdout\n",
    "    print(s, file = outfile) # writes to outfile\n",
    "    #Note: it is possible to specify the file parameter AND write to the screen\n",
    "    #by making sure file ends up with a None value either directly or via a variable\n",
    "    myfile = None\n",
    "    print(s, file = myfile) # writes to stdout\n",
    "    print(s, file = None) "
   ]
  },
  {
   "cell_type": "raw",
   "metadata": {},
   "source": [
    "In Python 2 you would have done something like\n",
    "Python 2.x Version ≥ 2.0\n",
    "outfile = open('fred.txt', 'w')\n",
    "s = \"I'm Not Dead Yet!\"\n",
    "print s # writes to stdout\n",
    "print >> outfile, s # writes to outfile"
   ]
  },
  {
   "cell_type": "code",
   "execution_count": 33,
   "metadata": {},
   "outputs": [
    {
     "name": "stdout",
     "output_type": "stream",
     "text": [
      "Error\n"
     ]
    }
   ],
   "source": [
    "import errno\n",
    "path = \"songc.nb\"\n",
    "try:\n",
    "    with open(path) as f:\n",
    "        # File exists\n",
    "        pass\n",
    "except IOError as e:\n",
    "    print('Error')\n",
    "    # Raise the exception if it is not ENOENT (No such file or directory)\n",
    "    if e.errno != errno.ENOENT:\n",
    "        raise\n",
    "    # No such file or directory"
   ]
  },
  {
   "cell_type": "code",
   "execution_count": 34,
   "metadata": {},
   "outputs": [
    {
     "data": {
      "text/plain": [
       "False"
      ]
     },
     "execution_count": 34,
     "metadata": {},
     "output_type": "execute_result"
    }
   ],
   "source": [
    "import os\n",
    "os.path.isfile('/path/to/some/file.txt')"
   ]
  },
  {
   "cell_type": "code",
   "execution_count": 35,
   "metadata": {},
   "outputs": [
    {
     "data": {
      "text/plain": [
       "False"
      ]
     },
     "execution_count": 35,
     "metadata": {},
     "output_type": "execute_result"
    }
   ],
   "source": [
    "os.path.isfile(path)"
   ]
  },
  {
   "cell_type": "code",
   "execution_count": 36,
   "metadata": {},
   "outputs": [
    {
     "data": {
      "text/plain": [
       "False"
      ]
     },
     "execution_count": 36,
     "metadata": {},
     "output_type": "execute_result"
    }
   ],
   "source": [
    "import pathlib\n",
    "path = pathlib.Path('/path/to/some/file.txt')\n",
    "path.is_file()"
   ]
  },
  {
   "cell_type": "code",
   "execution_count": 37,
   "metadata": {},
   "outputs": [
    {
     "data": {
      "text/plain": [
       "False"
      ]
     },
     "execution_count": 37,
     "metadata": {},
     "output_type": "execute_result"
    }
   ],
   "source": [
    "os.path.exists(path)"
   ]
  },
  {
   "cell_type": "raw",
   "metadata": {},
   "source": [
    "Using the mmap module allows the user to randomly access locations in a file by mapping the file into memory. This\n",
    "is an alternative to using normal file operations."
   ]
  },
  {
   "cell_type": "code",
   "execution_count": 42,
   "metadata": {},
   "outputs": [
    {
     "ename": "PermissionError",
     "evalue": "[WinError 5] 拒绝访问。",
     "output_type": "error",
     "traceback": [
      "\u001b[1;31m---------------------------------------------------------------------------\u001b[0m",
      "\u001b[1;31mPermissionError\u001b[0m                           Traceback (most recent call last)",
      "\u001b[1;32m<ipython-input-42-9166fb503a71>\u001b[0m in \u001b[0;36m<module>\u001b[1;34m()\u001b[0m\n\u001b[0;32m      2\u001b[0m \u001b[1;32mwith\u001b[0m \u001b[0mopen\u001b[0m\u001b[1;33m(\u001b[0m\u001b[1;34m'fred.txt'\u001b[0m\u001b[1;33m,\u001b[0m \u001b[1;34m'r'\u001b[0m\u001b[1;33m)\u001b[0m \u001b[1;32mas\u001b[0m \u001b[0mfd\u001b[0m\u001b[1;33m:\u001b[0m\u001b[1;33m\u001b[0m\u001b[0m\n\u001b[0;32m      3\u001b[0m     \u001b[1;31m# 0: map the whole file\u001b[0m\u001b[1;33m\u001b[0m\u001b[1;33m\u001b[0m\u001b[0m\n\u001b[1;32m----> 4\u001b[1;33m     \u001b[0mmm\u001b[0m \u001b[1;33m=\u001b[0m \u001b[0mmmap\u001b[0m\u001b[1;33m.\u001b[0m\u001b[0mmmap\u001b[0m\u001b[1;33m(\u001b[0m\u001b[0mfd\u001b[0m\u001b[1;33m.\u001b[0m\u001b[0mfileno\u001b[0m\u001b[1;33m(\u001b[0m\u001b[1;33m)\u001b[0m\u001b[1;33m,\u001b[0m \u001b[1;36m0\u001b[0m\u001b[1;33m)\u001b[0m\u001b[1;33m\u001b[0m\u001b[0m\n\u001b[0m\u001b[0;32m      5\u001b[0m     \u001b[1;31m# print characters at indices 5 through 10\u001b[0m\u001b[1;33m\u001b[0m\u001b[1;33m\u001b[0m\u001b[0m\n\u001b[0;32m      6\u001b[0m     \u001b[0mprint\u001b[0m \u001b[1;33m(\u001b[0m\u001b[0mmm\u001b[0m\u001b[1;33m[\u001b[0m\u001b[1;36m5\u001b[0m\u001b[1;33m:\u001b[0m\u001b[1;36m10\u001b[0m\u001b[1;33m]\u001b[0m\u001b[1;33m)\u001b[0m\u001b[1;33m\u001b[0m\u001b[0m\n",
      "\u001b[1;31mPermissionError\u001b[0m: [WinError 5] 拒绝访问。"
     ]
    }
   ],
   "source": [
    "import mmap\n",
    "with open('fred.txt', 'r') as fd:\n",
    "    # 0: map the whole file\n",
    "    mm = mmap.mmap(fd.fileno(), 0)\n",
    "    # print characters at indices 5 through 10\n",
    "    print (mm[5:10])\n",
    "    # print the line starting from mm's current position\n",
    "    print (mm.readline())\n",
    "    # write a character to the 5th index\n",
    "    mm[5] = 'a'\n",
    "    # return mm's position to the beginning of the file\n",
    "    mm.seek(0)\n",
    "    # close the mmap object\n",
    "    mm.close()"
   ]
  },
  {
   "cell_type": "code",
   "execution_count": 45,
   "metadata": {},
   "outputs": [],
   "source": [
    "import fileinput\n",
    "replacements = {'Search1': 'Replace1',\n",
    "'Search2': 'Replace2'}\n",
    "for line in fileinput.input('filename.txt', inplace=True):\n",
    "    for search_for in replacements:\n",
    "        replace_with = replacements[search_for]\n",
    "        line = line.replace(search_for, replace_with)\n",
    "    print(line, end='')"
   ]
  },
  {
   "cell_type": "code",
   "execution_count": 46,
   "metadata": {},
   "outputs": [
    {
     "data": {
      "text/plain": [
       "False"
      ]
     },
     "execution_count": 46,
     "metadata": {},
     "output_type": "execute_result"
    }
   ],
   "source": [
    "path_to_file='filename'\n",
    "os.stat(path_to_file).st_size == 0"
   ]
  },
  {
   "cell_type": "code",
   "execution_count": 47,
   "metadata": {},
   "outputs": [
    {
     "data": {
      "text/plain": [
       "51"
      ]
     },
     "execution_count": 47,
     "metadata": {},
     "output_type": "execute_result"
    }
   ],
   "source": [
    "os.stat(path_to_file).st_size"
   ]
  },
  {
   "cell_type": "code",
   "execution_count": 48,
   "metadata": {},
   "outputs": [
    {
     "data": {
      "text/plain": [
       "51"
      ]
     },
     "execution_count": 48,
     "metadata": {},
     "output_type": "execute_result"
    }
   ],
   "source": [
    "os.path.getsize(path_to_file)"
   ]
  },
  {
   "cell_type": "code",
   "execution_count": 52,
   "metadata": {},
   "outputs": [],
   "source": [
    "def is_not_empty_file(fpath):\n",
    "    return os.path.isfile(fpath) and os.path.getsize(fpath) > 0"
   ]
  },
  {
   "cell_type": "code",
   "execution_count": 54,
   "metadata": {},
   "outputs": [
    {
     "data": {
      "text/plain": [
       "False"
      ]
     },
     "execution_count": 54,
     "metadata": {},
     "output_type": "execute_result"
    }
   ],
   "source": [
    "is_not_empty_file('example')"
   ]
  },
  {
   "cell_type": "code",
   "execution_count": 57,
   "metadata": {},
   "outputs": [
    {
     "name": "stdout",
     "output_type": "stream",
     "text": [
      "Line 3\n",
      "\n",
      "Line 4\n",
      "\n"
     ]
    }
   ],
   "source": [
    "import itertools \n",
    "with open('myfile.txt', 'r') as f: \n",
    "    for line in itertools.islice(f, 2,4):\n",
    "        print(line)"
   ]
  },
  {
   "cell_type": "code",
   "execution_count": 61,
   "metadata": {},
   "outputs": [
    {
     "data": {
      "text/plain": [
       "'C:\\\\Users\\\\songc\\\\Desktop\\\\临时\\\\text'"
      ]
     },
     "execution_count": 61,
     "metadata": {},
     "output_type": "execute_result"
    }
   ],
   "source": [
    "import shutil\n",
    "source='C:\\\\Users\\\\songc\\\\Desktop\\\\MouseWithoutBorders'\n",
    "destination='C:\\\\Users\\\\songc\\\\Desktop\\\\临时\\\\text'\n",
    "shutil.copytree(source, destination)"
   ]
  },
  {
   "cell_type": "markdown",
   "metadata": {},
   "source": [
    "**The destination directory must not exist already.**"
   ]
  },
  {
   "cell_type": "markdown",
   "metadata": {},
   "source": [
    "**Copying contents of one file to a different file**"
   ]
  },
  {
   "cell_type": "code",
   "execution_count": 63,
   "metadata": {},
   "outputs": [],
   "source": [
    "input_file = 'my_file.txt'\n",
    "output_file = 'myfile.txt'\n",
    "with open(input_file, 'r') as in_file, open(output_file, 'w') as out_file:\n",
    "    for line in in_file:\n",
    "        out_file.write(line)"
   ]
  },
  {
   "cell_type": "code",
   "execution_count": 64,
   "metadata": {},
   "outputs": [
    {
     "data": {
      "text/plain": [
       "'myfile.txt'"
      ]
     },
     "execution_count": 64,
     "metadata": {},
     "output_type": "execute_result"
    }
   ],
   "source": [
    "import shutil\n",
    "shutil.copyfile(input_file, output_file)"
   ]
  },
  {
   "cell_type": "code",
   "execution_count": null,
   "metadata": {},
   "outputs": [],
   "source": []
  }
 ],
 "metadata": {
  "kernelspec": {
   "display_name": "Python [default]",
   "language": "python",
   "name": "python3"
  },
  "language_info": {
   "codemirror_mode": {
    "name": "ipython",
    "version": 3
   },
   "file_extension": ".py",
   "mimetype": "text/x-python",
   "name": "python",
   "nbconvert_exporter": "python",
   "pygments_lexer": "ipython3",
   "version": "3.6.3"
  }
 },
 "nbformat": 4,
 "nbformat_minor": 2
}
