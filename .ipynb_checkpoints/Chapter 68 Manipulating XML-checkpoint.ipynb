{
 "cells": [
  {
   "cell_type": "markdown",
   "metadata": {},
   "source": [
    "### Section 68.1: Opening and reading using an ElementTree"
   ]
  },
  {
   "cell_type": "code",
   "execution_count": 25,
   "metadata": {},
   "outputs": [],
   "source": [
    "import xml.etree.ElementTree as ET\n",
    "tree = ET.parse(\"myXml.xml\")\n",
    "root = tree.getroot()"
   ]
  },
  {
   "cell_type": "code",
   "execution_count": 26,
   "metadata": {},
   "outputs": [
    {
     "data": {
      "text/plain": [
       "<Element 'Catalog' at 0x00000193D563DEF8>"
      ]
     },
     "execution_count": 26,
     "metadata": {},
     "output_type": "execute_result"
    }
   ],
   "source": [
    "root"
   ]
  },
  {
   "cell_type": "code",
   "execution_count": 27,
   "metadata": {},
   "outputs": [
    {
     "name": "stdout",
     "output_type": "stream",
     "text": [
      "Books {}\n"
     ]
    }
   ],
   "source": [
    "for child in root:\n",
    "    print(child.tag, child.attrib)"
   ]
  },
  {
   "cell_type": "code",
   "execution_count": 28,
   "metadata": {},
   "outputs": [
    {
     "name": "stdout",
     "output_type": "stream",
     "text": [
      "The Colour of Magic\n"
     ]
    }
   ],
   "source": [
    "print(root[0][1][0].text)"
   ]
  },
  {
   "cell_type": "code",
   "execution_count": 29,
   "metadata": {},
   "outputs": [
    {
     "name": "stdout",
     "output_type": "stream",
     "text": [
      "[<Element 'Books' at 0x00000193D563DF48>]\n"
     ]
    }
   ],
   "source": [
    "print(root.findall(\"Books\"))"
   ]
  },
  {
   "cell_type": "code",
   "execution_count": 30,
   "metadata": {},
   "outputs": [
    {
     "name": "stdout",
     "output_type": "stream",
     "text": [
      "<Element 'Book' at 0x00000193D563DF98>\n"
     ]
    }
   ],
   "source": [
    "print(root[0].find(\"Book\"))"
   ]
  },
  {
   "cell_type": "code",
   "execution_count": 31,
   "metadata": {},
   "outputs": [
    {
     "name": "stdout",
     "output_type": "stream",
     "text": [
      "[<Element 'Book' at 0x00000193D563DF98>, <Element 'Book' at 0x00000193D56370E8>, <Element 'Book' at 0x00000193D56371D8>]\n"
     ]
    }
   ],
   "source": [
    "print(root[0].findall(\"Book\"))"
   ]
  },
  {
   "cell_type": "markdown",
   "metadata": {},
   "source": [
    "### Section 68.2: Create and Build XML Documents"
   ]
  },
  {
   "cell_type": "code",
   "execution_count": 32,
   "metadata": {},
   "outputs": [],
   "source": [
    "import xml.etree.ElementTree as ET\n",
    "p=ET.Element('parent')"
   ]
  },
  {
   "cell_type": "code",
   "execution_count": 33,
   "metadata": {},
   "outputs": [],
   "source": [
    "c = ET.SubElement(p, 'child1')"
   ]
  },
  {
   "cell_type": "code",
   "execution_count": 34,
   "metadata": {},
   "outputs": [
    {
     "name": "stdout",
     "output_type": "stream",
     "text": [
      "<parent><child1 /></parent>\n"
     ]
    }
   ],
   "source": [
    "ET.dump(p)"
   ]
  },
  {
   "cell_type": "code",
   "execution_count": 35,
   "metadata": {},
   "outputs": [],
   "source": [
    "tree = ET.ElementTree(p)\n",
    "tree.write(\"output.xml\")"
   ]
  },
  {
   "cell_type": "code",
   "execution_count": 36,
   "metadata": {},
   "outputs": [],
   "source": [
    "comment = ET.Comment('user comment')"
   ]
  },
  {
   "cell_type": "code",
   "execution_count": 37,
   "metadata": {},
   "outputs": [],
   "source": [
    "p.append(comment)"
   ]
  },
  {
   "cell_type": "code",
   "execution_count": 38,
   "metadata": {},
   "outputs": [
    {
     "name": "stdout",
     "output_type": "stream",
     "text": [
      "<parent><child1 /><!--user comment--></parent>\n"
     ]
    }
   ],
   "source": [
    "ET.dump(p)"
   ]
  },
  {
   "cell_type": "markdown",
   "metadata": {},
   "source": [
    "### Section 68.3: Modifying an XML File"
   ]
  },
  {
   "cell_type": "code",
   "execution_count": 40,
   "metadata": {},
   "outputs": [],
   "source": [
    "import xml.etree.ElementTree as ET\n",
    "tree = ET.parse('myXml.xml')\n",
    "root=tree.getroot()\n",
    "element = root[0]"
   ]
  },
  {
   "cell_type": "code",
   "execution_count": 41,
   "metadata": {},
   "outputs": [
    {
     "data": {
      "text/plain": [
       "<Element 'Books' at 0x00000193D5636E08>"
      ]
     },
     "execution_count": 41,
     "metadata": {},
     "output_type": "execute_result"
    }
   ],
   "source": [
    "element"
   ]
  },
  {
   "cell_type": "code",
   "execution_count": 42,
   "metadata": {},
   "outputs": [],
   "source": [
    "element.set('attribute_name', 'attribute_value') #set the attribute to xml element\n",
    "element.text=\"string_text\""
   ]
  },
  {
   "cell_type": "code",
   "execution_count": 44,
   "metadata": {},
   "outputs": [],
   "source": [
    "tree.write('output.xml')"
   ]
  },
  {
   "cell_type": "code",
   "execution_count": 45,
   "metadata": {},
   "outputs": [],
   "source": [
    "root.remove(element)"
   ]
  },
  {
   "cell_type": "code",
   "execution_count": 46,
   "metadata": {},
   "outputs": [],
   "source": [
    "tree.write('output.xml')"
   ]
  },
  {
   "cell_type": "markdown",
   "metadata": {},
   "source": [
    "### Section 68.4: Searching the XML with XPath"
   ]
  },
  {
   "cell_type": "code",
   "execution_count": 47,
   "metadata": {},
   "outputs": [
    {
     "data": {
      "text/plain": [
       "[<Element 'Book' at 0x00000193D56D7B38>,\n",
       " <Element 'Book' at 0x00000193D56D7F48>,\n",
       " <Element 'Book' at 0x00000193D56EA048>]"
      ]
     },
     "execution_count": 47,
     "metadata": {},
     "output_type": "execute_result"
    }
   ],
   "source": [
    "import xml.etree.cElementTree as ET\n",
    "tree = ET.parse('myXml.xml')\n",
    "tree.findall('Books/Book')"
   ]
  },
  {
   "cell_type": "code",
   "execution_count": 49,
   "metadata": {},
   "outputs": [
    {
     "data": {
      "text/plain": [
       "<Element 'Book' at 0x00000193D56D7F48>"
      ]
     },
     "execution_count": 49,
     "metadata": {},
     "output_type": "execute_result"
    }
   ],
   "source": [
    "tree.find(\"Books/Book[Title='The Colour of Magic']\")\n",
    "# always use '' in the right side of the comparison"
   ]
  },
  {
   "cell_type": "code",
   "execution_count": 50,
   "metadata": {},
   "outputs": [
    {
     "data": {
      "text/plain": [
       "<Element 'Book' at 0x00000193D56D7F48>"
      ]
     },
     "execution_count": 50,
     "metadata": {},
     "output_type": "execute_result"
    }
   ],
   "source": [
    "tree.find(\"Books/Book[@id='5']\")\n",
    "# searches with xml attributes must have '@' before the name"
   ]
  },
  {
   "cell_type": "code",
   "execution_count": 53,
   "metadata": {},
   "outputs": [
    {
     "data": {
      "text/plain": [
       "<Element 'Book' at 0x00000193D56D7F48>"
      ]
     },
     "execution_count": 53,
     "metadata": {},
     "output_type": "execute_result"
    }
   ],
   "source": [
    "tree.find(\"Books/Book[2]\")\n",
    "# indexes starts at 1, not 0"
   ]
  },
  {
   "cell_type": "code",
   "execution_count": 54,
   "metadata": {},
   "outputs": [
    {
     "data": {
      "text/plain": [
       "<Element 'Book' at 0x00000193D56EA048>"
      ]
     },
     "execution_count": 54,
     "metadata": {},
     "output_type": "execute_result"
    }
   ],
   "source": [
    "tree.find(\"Books/Book[last()]\")\n",
    "# 'last' is the only xpath function allowed in ElementTree"
   ]
  },
  {
   "cell_type": "code",
   "execution_count": 55,
   "metadata": {},
   "outputs": [
    {
     "data": {
      "text/plain": [
       "[<Element 'Author' at 0x00000193D56D7EF8>,\n",
       " <Element 'Author' at 0x00000193D56EA728>,\n",
       " <Element 'Author' at 0x00000193D56EA0E8>]"
      ]
     },
     "execution_count": 55,
     "metadata": {},
     "output_type": "execute_result"
    }
   ],
   "source": [
    "tree.findall(\".//Author\")\n",
    "#searches with // must use a relative path"
   ]
  },
  {
   "cell_type": "code",
   "execution_count": 63,
   "metadata": {},
   "outputs": [
    {
     "name": "stderr",
     "output_type": "stream",
     "text": [
      "D:\\Users\\songc\\Anaconda3\\lib\\site-packages\\ipykernel\\__main__.py:1: FutureWarning: This search is broken in 1.3 and earlier, and will be fixed in a future version.  If you rely on the current behaviour, change it to './/Book'\n",
      "  if __name__ == '__main__':\n"
     ]
    },
    {
     "data": {
      "text/plain": [
       "[<Element 'Book' at 0x00000193D56D7B38>,\n",
       " <Element 'Book' at 0x00000193D56D7F48>,\n",
       " <Element 'Book' at 0x00000193D56EA048>]"
      ]
     },
     "execution_count": 63,
     "metadata": {},
     "output_type": "execute_result"
    }
   ],
   "source": [
    "tree.findall(\"//Book\")"
   ]
  },
  {
   "cell_type": "code",
   "execution_count": 64,
   "metadata": {},
   "outputs": [
    {
     "data": {
      "text/plain": [
       "[<Element 'Author' at 0x00000193D56D7EF8>,\n",
       " <Element 'Author' at 0x00000193D56EA728>,\n",
       " <Element 'Author' at 0x00000193D56EA0E8>]"
      ]
     },
     "execution_count": 64,
     "metadata": {},
     "output_type": "execute_result"
    }
   ],
   "source": [
    "tree.findall(\"Books/Book/Author\")"
   ]
  },
  {
   "cell_type": "code",
   "execution_count": 65,
   "metadata": {},
   "outputs": [
    {
     "data": {
      "text/plain": [
       "[<Element 'Title' at 0x00000193D56D7EA8>,\n",
       " <Element 'Title' at 0x00000193D56D7F98>,\n",
       " <Element 'Title' at 0x00000193D56EA098>]"
      ]
     },
     "execution_count": 65,
     "metadata": {},
     "output_type": "execute_result"
    }
   ],
   "source": [
    "tree.findall(\".//Title\")"
   ]
  },
  {
   "cell_type": "markdown",
   "metadata": {},
   "source": [
    "### Section 68.5: Opening and reading large XML files using iterparse (incremental parsing)"
   ]
  },
  {
   "cell_type": "code",
   "execution_count": 66,
   "metadata": {},
   "outputs": [],
   "source": [
    "import xml.etree.ElementTree as ET"
   ]
  },
  {
   "cell_type": "code",
   "execution_count": 67,
   "metadata": {},
   "outputs": [
    {
     "name": "stdout",
     "output_type": "stream",
     "text": [
      "end <Element 'Title' at 0x00000193D5B04868>\n",
      "end <Element 'Author' at 0x00000193D5B048B8>\n",
      "end <Element 'Book' at 0x00000193D5B04818>\n",
      "end <Element 'Title' at 0x00000193D5B04958>\n",
      "end <Element 'Author' at 0x00000193D5B049A8>\n",
      "end <Element 'Book' at 0x00000193D5B04908>\n",
      "end <Element 'Title' at 0x00000193D5B04A48>\n",
      "end <Element 'Author' at 0x00000193D5B04A98>\n",
      "end <Element 'Book' at 0x00000193D5B049F8>\n",
      "end <Element 'Books' at 0x00000193D5B047C8>\n",
      "end <Element 'Catalog' at 0x00000193D5B04778>\n"
     ]
    }
   ],
   "source": [
    "for event, elem in ET.iterparse(\"myXml.xml\"):\n",
    "    print(event,elem)"
   ]
  },
  {
   "cell_type": "raw",
   "metadata": {},
   "source": [
    "Alternatively, we can only look for specific events, such as start/end tags or namespaces. If this option is omitted (as\n",
    "above), only \"end\" events are returned:"
   ]
  },
  {
   "cell_type": "code",
   "execution_count": 70,
   "metadata": {},
   "outputs": [
    {
     "name": "stdout",
     "output_type": "stream",
     "text": [
      "start <Element 'Catalog' at 0x00000193D5B04688>\n",
      "start <Element 'Books' at 0x00000193D5B04638>\n",
      "start <Element 'Book' at 0x00000193D5B04408>\n",
      "start <Element 'Title' at 0x00000193D5B042C8>\n",
      "end <Element 'Title' at 0x00000193D5B042C8>\n",
      "start <Element 'Author' at 0x00000193D5B043B8>\n",
      "end <Element 'Author' at 0x00000193D5B043B8>\n",
      "end <Element 'Book' at 0x00000193D5B04408>\n",
      "start <Element 'Book' at 0x00000193D539D318>\n",
      "start <Element 'Title' at 0x00000193D54435E8>\n",
      "end <Element 'Title' at 0x00000193D54435E8>\n",
      "start <Element 'Author' at 0x00000193D56D7A98>\n",
      "end <Element 'Author' at 0x00000193D56D7A98>\n",
      "end <Element 'Book' at 0x00000193D539D318>\n",
      "start <Element 'Book' at 0x00000193D56D7BD8>\n",
      "start <Element 'Title' at 0x00000193D56D7908>\n",
      "end <Element 'Title' at 0x00000193D56D7908>\n",
      "start <Element 'Author' at 0x00000193D56D7818>\n",
      "end <Element 'Author' at 0x00000193D56D7818>\n",
      "end <Element 'Book' at 0x00000193D56D7BD8>\n",
      "end <Element 'Books' at 0x00000193D5B04638>\n",
      "end <Element 'Catalog' at 0x00000193D5B04688>\n"
     ]
    }
   ],
   "source": [
    "events=(\"start\", \"end\", \"start-ns\", \"end-ns\")\n",
    "for event, elem in ET.iterparse(\"myXml.xml\", events=events):\n",
    "    print(event, elem)"
   ]
  },
  {
   "cell_type": "raw",
   "metadata": {},
   "source": [
    "Here is the complete example showing how to clear elements from the in-memory tree when we are finished with\n",
    "them:"
   ]
  },
  {
   "cell_type": "code",
   "execution_count": 74,
   "metadata": {},
   "outputs": [
    {
     "name": "stdout",
     "output_type": "stream",
     "text": [
      "Do Androids Dream of Electric Sheep?\n",
      "The Colour of Magic\n",
      "The Eye of The World\n"
     ]
    }
   ],
   "source": [
    "for event, elem in ET.iterparse(\"myXml.xml\", events=(\"start\",\"end\")):\n",
    "    if elem.tag == \"Title\" and event == \"end\":\n",
    "        print (elem.text)"
   ]
  },
  {
   "cell_type": "code",
   "execution_count": null,
   "metadata": {},
   "outputs": [],
   "source": []
  }
 ],
 "metadata": {
  "kernelspec": {
   "display_name": "Python [default]",
   "language": "python",
   "name": "python3"
  },
  "language_info": {
   "codemirror_mode": {
    "name": "ipython",
    "version": 3
   },
   "file_extension": ".py",
   "mimetype": "text/x-python",
   "name": "python",
   "nbconvert_exporter": "python",
   "pygments_lexer": "ipython3",
   "version": "3.6.3"
  }
 },
 "nbformat": 4,
 "nbformat_minor": 2
}
