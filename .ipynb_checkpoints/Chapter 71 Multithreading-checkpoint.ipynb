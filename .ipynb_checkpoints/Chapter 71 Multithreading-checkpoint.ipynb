{
 "cells": [
  {
   "cell_type": "markdown",
   "metadata": {},
   "source": [
    "### Section 71.1: Basics of multithreading\n",
    "Using the threading module, a new thread of execution may be started by creating a new threading.Thread and\n",
    "assigning it a function to execute:"
   ]
  },
  {
   "cell_type": "code",
   "execution_count": 2,
   "metadata": {},
   "outputs": [],
   "source": [
    "import threading\n",
    "def foo():\n",
    "    print (\"Hello threading!\")\n",
    "my_thread = threading.Thread(target=foo)"
   ]
  },
  {
   "cell_type": "raw",
   "metadata": {},
   "source": [
    "The target parameter references the function (or callable object) to be run. The thread will not begin execution\n",
    "until start is called on the Thread object."
   ]
  },
  {
   "cell_type": "code",
   "execution_count": 3,
   "metadata": {},
   "outputs": [
    {
     "name": "stdout",
     "output_type": "stream",
     "text": [
      "Hello threading!\n"
     ]
    }
   ],
   "source": [
    "my_thread.start()"
   ]
  },
  {
   "cell_type": "raw",
   "metadata": {},
   "source": [
    "Now that my_thread has run and terminated, calling start again will produce a RuntimeError . If you'd like to run\n",
    "your thread as a daemon, passing the daemon=True kwarg, or setting my_thread.daemon to True before calling\n",
    "start() , causes your Thread to run silently in the background as a daemon."
   ]
  },
  {
   "cell_type": "raw",
   "metadata": {},
   "source": [
    "In cases where you split up one big job into several small ones and want to run them concurrently, but need to wait\n",
    "for all of them to finish before continuing, Thread.join() is the method you're looking for."
   ]
  },
  {
   "cell_type": "code",
   "execution_count": null,
   "metadata": {},
   "outputs": [],
   "source": [
    "import requests\n",
    "from threading import Thread\n",
    "from queue import Queue\n",
    "q = Queue(maxsize=20)\n",
    "def put_page_to_q (page_num):\n",
    "    q.put(requests.get('http://some-website.com/page_%s.html' % page_num))        \n",
    "def to_compiles(que):\n",
    "    # magic function that needs all pages before being able to be executed\n",
    "    if not que.full():\n",
    "        raise ValueError\n",
    "    else:\n",
    "        print(\"Done compiling!\")\n",
    "threads = []\n",
    "for page_num in range(20):\n",
    "    t = Thread(target=put_page_to_q, args=(page_num,))\n",
    "    t.start()\n",
    "    threads.append(t)\n",
    "for t in threads:\n",
    "    t.join()\n",
    "to_compiles(q)       "
   ]
  },
  {
   "cell_type": "code",
   "execution_count": null,
   "metadata": {},
   "outputs": [],
   "source": []
  }
 ],
 "metadata": {
  "kernelspec": {
   "display_name": "Python [default]",
   "language": "python",
   "name": "python3"
  },
  "language_info": {
   "codemirror_mode": {
    "name": "ipython",
    "version": 3
   },
   "file_extension": ".py",
   "mimetype": "text/x-python",
   "name": "python",
   "nbconvert_exporter": "python",
   "pygments_lexer": "ipython3",
   "version": "3.6.3"
  }
 },
 "nbformat": 4,
 "nbformat_minor": 2
}
