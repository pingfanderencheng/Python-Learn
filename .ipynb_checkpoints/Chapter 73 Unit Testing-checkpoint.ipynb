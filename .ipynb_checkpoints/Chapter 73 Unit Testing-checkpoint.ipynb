{
 "cells": [
  {
   "cell_type": "markdown",
   "metadata": {},
   "source": [
    "### Section 73.1: Test Setup and Teardown within a unittest.TestCase"
   ]
  },
  {
   "cell_type": "raw",
   "metadata": {},
   "source": [
    "Sometimes we want to prepare a context for each test to be run under. The setUp method is run prior to each test\n",
    "in the class. tearDown is run at the end of every test. These methods are optional. Remember that TestCases are\n",
    "often used in cooperative multiple inheritance so you should be careful to always call super in these methods so\n",
    "that base class's setUp and tearDown methods also get called. The base implementation of TestCase provides\n",
    "empty setUp and tearDown methods so that they can be called without raising exceptions:"
   ]
  },
  {
   "cell_type": "code",
   "execution_count": 1,
   "metadata": {},
   "outputs": [],
   "source": [
    "import unittest\n",
    "class SomeTest(unittest.TestCase):\n",
    "    def setUp(self):\n",
    "        super(SomeTest, self).setUp()\n",
    "        self.mock_data = [1,2,3,4,5]\n",
    "    def test(self):\n",
    "        self.assertEqual(len(self.mock_data), 5)\n",
    "    def tearDown(self):\n",
    "        super(SomeTest, self).tearDown()\n",
    "        self.mock_data = []\n",
    "if __name__ == 'main':\n",
    "    unittest.main()"
   ]
  },
  {
   "cell_type": "raw",
   "metadata": {},
   "source": [
    "Note that in python2.7+, there is also the addCleanup method that registers functions to be called after the test is\n",
    "run. In contrast to tearDown which only gets called if setUp succeeds, functions registered via addCleanup will be\n",
    "called even in the event of an unhandled exception in setUp . As a concrete example, this method can frequently be\n",
    "seen removing various mocks that were registered while the test was running:"
   ]
  },
  {
   "cell_type": "code",
   "execution_count": null,
   "metadata": {},
   "outputs": [],
   "source": [
    "import unittest\n",
    "import some_module\n",
    "class SomeOtherTest(unittest.TestCase):\n",
    "    def setUp(self):\n",
    "        super(SomeOtherTest, self).setUp()\n",
    "        # Replace `some_module.method` with a `mock.Mock`\n",
    "        my_patch = mock.patch.object(some_module, 'method')\n",
    "        my_patch.start()\n",
    "        # When the test finishes running, put the original method back.\n",
    "        self.addCleanup(my_patch.stop)"
   ]
  },
  {
   "cell_type": "markdown",
   "metadata": {},
   "source": [
    "### Section 73.2: Asserting on Exceptions"
   ]
  },
  {
   "cell_type": "raw",
   "metadata": {},
   "source": [
    "You can test that a function throws an exception with the built-in unittest through two different methods."
   ]
  },
  {
   "cell_type": "markdown",
   "metadata": {},
   "source": [
    "#### Using a context manager"
   ]
  },
  {
   "cell_type": "code",
   "execution_count": 2,
   "metadata": {},
   "outputs": [],
   "source": [
    "def division_function(dividend, divisor):\n",
    "    return dividend / divisor\n",
    "class MyTestCase(unittest.TestCase):\n",
    "    def test_using_context_manager(self):\n",
    "        with self.assertRaises(ZeroDivisionError):\n",
    "            x = division_function(1, 0)"
   ]
  },
  {
   "cell_type": "raw",
   "metadata": {},
   "source": [
    "This will run the code inside of the context manager and, if it succeeds, it will fail the test because the exception was not raised. If the code raises an exception of the correct type, the test will continue."
   ]
  },
  {
   "cell_type": "code",
   "execution_count": 3,
   "metadata": {},
   "outputs": [],
   "source": [
    "class MyTestCase(unittest.TestCase):\n",
    "    def test_using_context_manager(self):\n",
    "        with self.assertRaises(ZeroDivisionError) as ex:\n",
    "            x = division_function(1, 0)\n",
    "        self.assertEqual(ex.message, 'integer division or modulo by zero')"
   ]
  },
  {
   "cell_type": "markdown",
   "metadata": {},
   "source": [
    "#### By providing a callable function"
   ]
  },
  {
   "cell_type": "code",
   "execution_count": 4,
   "metadata": {},
   "outputs": [],
   "source": [
    "def division_function(dividend, divisor):\n",
    "    \"\"\"\n",
    "    Dividing two numbers.\n",
    "    :type dividend: int\n",
    "    :type divisor: int\n",
    "    :raises: ZeroDivisionError if divisor is zero (0).\n",
    "    :rtype: int\n",
    "    \"\"\"\n",
    "    return dividend / divisor\n",
    "class MyTestCase(unittest.TestCase):\n",
    "    def test_passing_function(self):\n",
    "        self.assertRaises(ZeroDivisionError, division_function, 1, 0)"
   ]
  },
  {
   "cell_type": "raw",
   "metadata": {},
   "source": [
    "The exception to check for must be the first parameter, and a callable function must be passed as the second\n",
    "parameter. Any other parameters specified will be passed directly to the function that is being called, allowing you\n",
    "to specify the parameters that trigger the exception."
   ]
  },
  {
   "cell_type": "code",
   "execution_count": 15,
   "metadata": {},
   "outputs": [],
   "source": [
    "test = MyTestCase()\n",
    "test.test_passing_function()"
   ]
  },
  {
   "cell_type": "markdown",
   "metadata": {},
   "source": [
    "### Section 73.3: Testing Exceptions"
   ]
  },
  {
   "cell_type": "code",
   "execution_count": 9,
   "metadata": {},
   "outputs": [],
   "source": [
    "class WrongInputException(Exception):\n",
    "    pass"
   ]
  },
  {
   "cell_type": "code",
   "execution_count": 10,
   "metadata": {},
   "outputs": [],
   "source": [
    "def convert2number(random_input):\n",
    "    try:\n",
    "        my_input = int(random_input)\n",
    "    except ValueError:\n",
    "        raise WrongInputException(\"Expected an integer!\")\n",
    "    return my_input"
   ]
  },
  {
   "cell_type": "markdown",
   "metadata": {},
   "source": [
    "#### To check whether an exception has been raised, we use assertRaises to check for that exception. assertRaises can be used in two ways:\n",
    "1. Using the regular function call. The first argument takes the exception type, second a callable (usually a 1.\n",
    "function) and the rest of arguments are passed to this callable.\n",
    "2. Using a with clause, giving only the exception type to the function. This has as advantage that more code can 2.\n",
    "be executed, but should be used with care since multiple functions can use the same exception which can be\n",
    "problematic. An example: with self.assertRaises(WrongInputException): convert2number(\"not a number\")"
   ]
  },
  {
   "cell_type": "code",
   "execution_count": 11,
   "metadata": {},
   "outputs": [],
   "source": [
    "import unittest\n",
    "class ExceptionTestCase(unittest.TestCase):\n",
    "    def test_wrong_input_string(self):\n",
    "        self.assertRaises(WrongInputException, convert2number, \"not a number\")\n",
    "    def test_correct_input(self):\n",
    "        try:\n",
    "            result = convert2number(\"56\")\n",
    "            self.assertIsInstance(result, int)\n",
    "        except WrongInputException:\n",
    "            self.fail()"
   ]
  },
  {
   "cell_type": "code",
   "execution_count": 12,
   "metadata": {},
   "outputs": [],
   "source": [
    "ex = ExceptionTestCase()"
   ]
  },
  {
   "cell_type": "code",
   "execution_count": 13,
   "metadata": {},
   "outputs": [],
   "source": [
    "ex.test_correct_input()"
   ]
  },
  {
   "cell_type": "code",
   "execution_count": 14,
   "metadata": {},
   "outputs": [],
   "source": [
    "ex.test_wrong_input_string()"
   ]
  },
  {
   "cell_type": "markdown",
   "metadata": {},
   "source": [
    "### Section 73.4: Choosing Assertions Within Unittests"
   ]
  },
  {
   "cell_type": "raw",
   "metadata": {},
   "source": [
    "While Python has an assert statement, the Python unit testing framework has better assertions specialized for\n",
    "tests: they are more informative on failures, and do not depend on the execution's debug mode."
   ]
  },
  {
   "cell_type": "code",
   "execution_count": 21,
   "metadata": {},
   "outputs": [],
   "source": [
    "import unittest\n",
    "class SimplisticTest(unittest.TestCase):\n",
    "    def test_basic(self):\n",
    "        self.assertTrue(1 + 1 == 2)"
   ]
  },
  {
   "cell_type": "code",
   "execution_count": 22,
   "metadata": {},
   "outputs": [],
   "source": [
    "SimplisticTest().test_basic()"
   ]
  },
  {
   "cell_type": "code",
   "execution_count": 24,
   "metadata": {},
   "outputs": [],
   "source": [
    "import unittest\n",
    "class SimplisticTest(unittest.TestCase):\n",
    "    def test_basic(self):\n",
    "        self.assertTrue(1 + 1 == 3)"
   ]
  },
  {
   "cell_type": "code",
   "execution_count": 25,
   "metadata": {},
   "outputs": [
    {
     "ename": "AssertionError",
     "evalue": "False is not true",
     "output_type": "error",
     "traceback": [
      "\u001b[1;31m---------------------------------------------------------------------------\u001b[0m",
      "\u001b[1;31mAssertionError\u001b[0m                            Traceback (most recent call last)",
      "\u001b[1;32m<ipython-input-25-394de9bb1e88>\u001b[0m in \u001b[0;36m<module>\u001b[1;34m()\u001b[0m\n\u001b[1;32m----> 1\u001b[1;33m \u001b[0mSimplisticTest\u001b[0m\u001b[1;33m(\u001b[0m\u001b[1;33m)\u001b[0m\u001b[1;33m.\u001b[0m\u001b[0mtest_basic\u001b[0m\u001b[1;33m(\u001b[0m\u001b[1;33m)\u001b[0m\u001b[1;33m\u001b[0m\u001b[0m\n\u001b[0m",
      "\u001b[1;32m<ipython-input-24-9ee1c4ccb49e>\u001b[0m in \u001b[0;36mtest_basic\u001b[1;34m(self)\u001b[0m\n\u001b[0;32m      2\u001b[0m \u001b[1;32mclass\u001b[0m \u001b[0mSimplisticTest\u001b[0m\u001b[1;33m(\u001b[0m\u001b[0munittest\u001b[0m\u001b[1;33m.\u001b[0m\u001b[0mTestCase\u001b[0m\u001b[1;33m)\u001b[0m\u001b[1;33m:\u001b[0m\u001b[1;33m\u001b[0m\u001b[0m\n\u001b[0;32m      3\u001b[0m     \u001b[1;32mdef\u001b[0m \u001b[0mtest_basic\u001b[0m\u001b[1;33m(\u001b[0m\u001b[0mself\u001b[0m\u001b[1;33m)\u001b[0m\u001b[1;33m:\u001b[0m\u001b[1;33m\u001b[0m\u001b[0m\n\u001b[1;32m----> 4\u001b[1;33m         \u001b[0mself\u001b[0m\u001b[1;33m.\u001b[0m\u001b[0massertTrue\u001b[0m\u001b[1;33m(\u001b[0m\u001b[1;36m1\u001b[0m \u001b[1;33m+\u001b[0m \u001b[1;36m1\u001b[0m \u001b[1;33m==\u001b[0m \u001b[1;36m3\u001b[0m\u001b[1;33m)\u001b[0m\u001b[1;33m\u001b[0m\u001b[0m\n\u001b[0m",
      "\u001b[1;32mD:\\Users\\songc\\Anaconda3\\lib\\unittest\\case.py\u001b[0m in \u001b[0;36massertTrue\u001b[1;34m(self, expr, msg)\u001b[0m\n\u001b[0;32m    680\u001b[0m         \u001b[1;32mif\u001b[0m \u001b[1;32mnot\u001b[0m \u001b[0mexpr\u001b[0m\u001b[1;33m:\u001b[0m\u001b[1;33m\u001b[0m\u001b[0m\n\u001b[0;32m    681\u001b[0m             \u001b[0mmsg\u001b[0m \u001b[1;33m=\u001b[0m \u001b[0mself\u001b[0m\u001b[1;33m.\u001b[0m\u001b[0m_formatMessage\u001b[0m\u001b[1;33m(\u001b[0m\u001b[0mmsg\u001b[0m\u001b[1;33m,\u001b[0m \u001b[1;34m\"%s is not true\"\u001b[0m \u001b[1;33m%\u001b[0m \u001b[0msafe_repr\u001b[0m\u001b[1;33m(\u001b[0m\u001b[0mexpr\u001b[0m\u001b[1;33m)\u001b[0m\u001b[1;33m)\u001b[0m\u001b[1;33m\u001b[0m\u001b[0m\n\u001b[1;32m--> 682\u001b[1;33m             \u001b[1;32mraise\u001b[0m \u001b[0mself\u001b[0m\u001b[1;33m.\u001b[0m\u001b[0mfailureException\u001b[0m\u001b[1;33m(\u001b[0m\u001b[0mmsg\u001b[0m\u001b[1;33m)\u001b[0m\u001b[1;33m\u001b[0m\u001b[0m\n\u001b[0m\u001b[0;32m    683\u001b[0m \u001b[1;33m\u001b[0m\u001b[0m\n\u001b[0;32m    684\u001b[0m     \u001b[1;32mdef\u001b[0m \u001b[0m_formatMessage\u001b[0m\u001b[1;33m(\u001b[0m\u001b[0mself\u001b[0m\u001b[1;33m,\u001b[0m \u001b[0mmsg\u001b[0m\u001b[1;33m,\u001b[0m \u001b[0mstandardMsg\u001b[0m\u001b[1;33m)\u001b[0m\u001b[1;33m:\u001b[0m\u001b[1;33m\u001b[0m\u001b[0m\n",
      "\u001b[1;31mAssertionError\u001b[0m: False is not true"
     ]
    }
   ],
   "source": [
    "SimplisticTest().test_basic()"
   ]
  },
  {
   "cell_type": "code",
   "execution_count": 26,
   "metadata": {},
   "outputs": [],
   "source": [
    "import unittest\n",
    "class SimplisticTest(unittest.TestCase):\n",
    "    def test_basic(self):\n",
    "        self.assertEqual(1 + 1, 3)"
   ]
  },
  {
   "cell_type": "code",
   "execution_count": 27,
   "metadata": {},
   "outputs": [
    {
     "ename": "AssertionError",
     "evalue": "2 != 3",
     "output_type": "error",
     "traceback": [
      "\u001b[1;31m---------------------------------------------------------------------------\u001b[0m",
      "\u001b[1;31mAssertionError\u001b[0m                            Traceback (most recent call last)",
      "\u001b[1;32m<ipython-input-27-394de9bb1e88>\u001b[0m in \u001b[0;36m<module>\u001b[1;34m()\u001b[0m\n\u001b[1;32m----> 1\u001b[1;33m \u001b[0mSimplisticTest\u001b[0m\u001b[1;33m(\u001b[0m\u001b[1;33m)\u001b[0m\u001b[1;33m.\u001b[0m\u001b[0mtest_basic\u001b[0m\u001b[1;33m(\u001b[0m\u001b[1;33m)\u001b[0m\u001b[1;33m\u001b[0m\u001b[0m\n\u001b[0m",
      "\u001b[1;32m<ipython-input-26-1d3a2f3c4563>\u001b[0m in \u001b[0;36mtest_basic\u001b[1;34m(self)\u001b[0m\n\u001b[0;32m      2\u001b[0m \u001b[1;32mclass\u001b[0m \u001b[0mSimplisticTest\u001b[0m\u001b[1;33m(\u001b[0m\u001b[0munittest\u001b[0m\u001b[1;33m.\u001b[0m\u001b[0mTestCase\u001b[0m\u001b[1;33m)\u001b[0m\u001b[1;33m:\u001b[0m\u001b[1;33m\u001b[0m\u001b[0m\n\u001b[0;32m      3\u001b[0m     \u001b[1;32mdef\u001b[0m \u001b[0mtest_basic\u001b[0m\u001b[1;33m(\u001b[0m\u001b[0mself\u001b[0m\u001b[1;33m)\u001b[0m\u001b[1;33m:\u001b[0m\u001b[1;33m\u001b[0m\u001b[0m\n\u001b[1;32m----> 4\u001b[1;33m         \u001b[0mself\u001b[0m\u001b[1;33m.\u001b[0m\u001b[0massertEqual\u001b[0m\u001b[1;33m(\u001b[0m\u001b[1;36m1\u001b[0m \u001b[1;33m+\u001b[0m \u001b[1;36m1\u001b[0m\u001b[1;33m,\u001b[0m \u001b[1;36m3\u001b[0m\u001b[1;33m)\u001b[0m\u001b[1;33m\u001b[0m\u001b[0m\n\u001b[0m",
      "\u001b[1;32mD:\\Users\\songc\\Anaconda3\\lib\\unittest\\case.py\u001b[0m in \u001b[0;36massertEqual\u001b[1;34m(self, first, second, msg)\u001b[0m\n\u001b[0;32m    827\u001b[0m         \"\"\"\n\u001b[0;32m    828\u001b[0m         \u001b[0massertion_func\u001b[0m \u001b[1;33m=\u001b[0m \u001b[0mself\u001b[0m\u001b[1;33m.\u001b[0m\u001b[0m_getAssertEqualityFunc\u001b[0m\u001b[1;33m(\u001b[0m\u001b[0mfirst\u001b[0m\u001b[1;33m,\u001b[0m \u001b[0msecond\u001b[0m\u001b[1;33m)\u001b[0m\u001b[1;33m\u001b[0m\u001b[0m\n\u001b[1;32m--> 829\u001b[1;33m         \u001b[0massertion_func\u001b[0m\u001b[1;33m(\u001b[0m\u001b[0mfirst\u001b[0m\u001b[1;33m,\u001b[0m \u001b[0msecond\u001b[0m\u001b[1;33m,\u001b[0m \u001b[0mmsg\u001b[0m\u001b[1;33m=\u001b[0m\u001b[0mmsg\u001b[0m\u001b[1;33m)\u001b[0m\u001b[1;33m\u001b[0m\u001b[0m\n\u001b[0m\u001b[0;32m    830\u001b[0m \u001b[1;33m\u001b[0m\u001b[0m\n\u001b[0;32m    831\u001b[0m     \u001b[1;32mdef\u001b[0m \u001b[0massertNotEqual\u001b[0m\u001b[1;33m(\u001b[0m\u001b[0mself\u001b[0m\u001b[1;33m,\u001b[0m \u001b[0mfirst\u001b[0m\u001b[1;33m,\u001b[0m \u001b[0msecond\u001b[0m\u001b[1;33m,\u001b[0m \u001b[0mmsg\u001b[0m\u001b[1;33m=\u001b[0m\u001b[1;32mNone\u001b[0m\u001b[1;33m)\u001b[0m\u001b[1;33m:\u001b[0m\u001b[1;33m\u001b[0m\u001b[0m\n",
      "\u001b[1;32mD:\\Users\\songc\\Anaconda3\\lib\\unittest\\case.py\u001b[0m in \u001b[0;36m_baseAssertEqual\u001b[1;34m(self, first, second, msg)\u001b[0m\n\u001b[0;32m    820\u001b[0m             \u001b[0mstandardMsg\u001b[0m \u001b[1;33m=\u001b[0m \u001b[1;34m'%s != %s'\u001b[0m \u001b[1;33m%\u001b[0m \u001b[0m_common_shorten_repr\u001b[0m\u001b[1;33m(\u001b[0m\u001b[0mfirst\u001b[0m\u001b[1;33m,\u001b[0m \u001b[0msecond\u001b[0m\u001b[1;33m)\u001b[0m\u001b[1;33m\u001b[0m\u001b[0m\n\u001b[0;32m    821\u001b[0m             \u001b[0mmsg\u001b[0m \u001b[1;33m=\u001b[0m \u001b[0mself\u001b[0m\u001b[1;33m.\u001b[0m\u001b[0m_formatMessage\u001b[0m\u001b[1;33m(\u001b[0m\u001b[0mmsg\u001b[0m\u001b[1;33m,\u001b[0m \u001b[0mstandardMsg\u001b[0m\u001b[1;33m)\u001b[0m\u001b[1;33m\u001b[0m\u001b[0m\n\u001b[1;32m--> 822\u001b[1;33m             \u001b[1;32mraise\u001b[0m \u001b[0mself\u001b[0m\u001b[1;33m.\u001b[0m\u001b[0mfailureException\u001b[0m\u001b[1;33m(\u001b[0m\u001b[0mmsg\u001b[0m\u001b[1;33m)\u001b[0m\u001b[1;33m\u001b[0m\u001b[0m\n\u001b[0m\u001b[0;32m    823\u001b[0m \u001b[1;33m\u001b[0m\u001b[0m\n\u001b[0;32m    824\u001b[0m     \u001b[1;32mdef\u001b[0m \u001b[0massertEqual\u001b[0m\u001b[1;33m(\u001b[0m\u001b[0mself\u001b[0m\u001b[1;33m,\u001b[0m \u001b[0mfirst\u001b[0m\u001b[1;33m,\u001b[0m \u001b[0msecond\u001b[0m\u001b[1;33m,\u001b[0m \u001b[0mmsg\u001b[0m\u001b[1;33m=\u001b[0m\u001b[1;32mNone\u001b[0m\u001b[1;33m)\u001b[0m\u001b[1;33m:\u001b[0m\u001b[1;33m\u001b[0m\u001b[0m\n",
      "\u001b[1;31mAssertionError\u001b[0m: 2 != 3"
     ]
    }
   ],
   "source": [
    "SimplisticTest().test_basic()"
   ]
  },
  {
   "cell_type": "markdown",
   "metadata": {},
   "source": [
    "You can find the list of assertions [in the standard documentation](https://docs.python.org/2/library/unittest.html#assert-methods). In general, it is a good idea to choose the\n",
    "assertion that is the most specifically fitting the condition. Thus, as shown above, for asserting that 1 + 1 == 2 it is\n",
    "better to use assertEqual than assertTrue . Similarly, for asserting that a is None , it is better to use assertIsNone\n",
    "than assertEqual "
   ]
  },
  {
   "cell_type": "markdown",
   "metadata": {},
   "source": [
    "### Section 73.5: Unit tests with pytest"
   ]
  },
  {
   "cell_type": "code",
   "execution_count": null,
   "metadata": {},
   "outputs": [],
   "source": [
    "installing pytest:\n",
    "pip install pytest\n",
    "getting the tests ready:"
   ]
  },
  {
   "cell_type": "code",
   "execution_count": null,
   "metadata": {},
   "outputs": [],
   "source": [
    "mkdir tests\n",
    "touch tests/test_docker.py\n",
    "Functions to test in docker_something/helpers.py :"
   ]
  },
  {
   "cell_type": "code",
   "execution_count": null,
   "metadata": {},
   "outputs": [],
   "source": [
    "from subprocess import Popen, PIPE\n",
    "# this Popen is monkeypatched with the fixture `all_popens`\n",
    "def copy_file_to_docker(src, dest):\n",
    "try:\n",
    "result = Popen(['docker','cp', src, 'something_cont:{}'.format(dest)], stdout=PIPE,\n",
    "stderr=PIPE)\n",
    "err = result.stderr.read()\n",
    "if err:\n",
    "raise Exception(err)\n",
    "except Exception as e:\n",
    "print(e)\n",
    "return result\n",
    "def docker_exec_something(something_file_string):\n",
    "fl = Popen([\"docker\", \"exec\", \"-i\", \"something_cont\", \"something\"], stdin=PIPE, stdout=PIPE,\n",
    "stderr=PIPE)\n",
    "fl.stdin.write(something_file_string)\n",
    "fl.stdin.close()\n",
    "err = fl.stderr.read()\n",
    "fl.stderr.close()\n",
    "if err:\n",
    "print(err)\n",
    "exit()\n",
    "result = fl.stdout.read()\n",
    "print(result)\n",
    "The test imports test_docker.py :\n",
    "import os\n",
    "from tempfile import NamedTemporaryFile\n",
    "import pytest\n",
    "from subprocess import Popen, PIPE\n",
    "from docker_something import helpers\n",
    "copy_file_to_docker = helpers.copy_file_to_docker\n",
    "docker_exec_something = helpers.docker_exec_something\n",
    "mocking a file like object in test_docker.py :\n",
    "class MockBytes():\n",
    "'''Used to collect bytes\n",
    "'''\n",
    "all_read = []\n",
    "all_write = []\n",
    "all_close = []\n",
    "def read(self, *args, **kwargs):\n",
    "# print('read', args, kwargs, dir(self))\n",
    "self.all_read.append((self, args, kwargs))\n",
    "def write(self, *args, **kwargs):\n",
    "# print('wrote', args, kwargs)\n",
    "self.all_write.append((self, args, kwargs))\n",
    "Python® Notes for Professionals 370\n",
    "def close(self, *args, **kwargs):\n",
    "# print('closed', self, args, kwargs)\n",
    "self.all_close.append((self, args, kwargs))\n",
    "def get_all_mock_bytes(self):\n",
    "return self.all_read, self.all_write, self.all_close\n",
    "Monkey patching with pytest in test_docker.py :\n",
    "@pytest.fixture\n",
    "def all_popens(monkeypatch):\n",
    "'''This fixture overrides / mocks the builtin Popen\n",
    "and replaces stdin, stdout, stderr with a MockBytes object\n",
    "note: monkeypatch is magically imported\n",
    "'''\n",
    "all_popens = []\n",
    "class MockPopen(object):\n",
    "def __init__(self, args, stdout=None, stdin=None, stderr=None):\n",
    "all_popens.append(self)\n",
    "self.args = args\n",
    "self.byte_collection = MockBytes()\n",
    "self.stdin = self.byte_collection\n",
    "self.stdout = self.byte_collection\n",
    "self.stderr = self.byte_collection\n",
    "pass\n",
    "monkeypatch.setattr(helpers, 'Popen', MockPopen)\n",
    "return all_popens\n",
    "Example tests, must start with the prefix test_ in the test_docker.py file:\n",
    "def test_docker_install():\n",
    "p = Popen(['which', 'docker'], stdout=PIPE, stderr=PIPE)\n",
    "result = p.stdout.read()\n",
    "assert 'bin/docker' in result\n",
    "def test_copy_file_to_docker(all_popens):\n",
    "result = copy_file_to_docker('asdf', 'asdf')\n",
    "collected_popen = all_popens.pop()\n",
    "mock_read, mock_write, mock_close = collected_popen.byte_collection.get_all_mock_bytes()\n",
    "assert mock_read\n",
    "assert result.args == ['docker', 'cp', 'asdf', 'something_cont:asdf']\n",
    "def test_docker_exec_something(all_popens):\n",
    "docker_exec_something(something_file_string)\n",
    "collected_popen = all_popens.pop()\n",
    "mock_read, mock_write, mock_close = collected_popen.byte_collection.get_all_mock_bytes()\n",
    "assert len(mock_read) == 3\n",
    "something_template_stdin = mock_write[0][1][0]\n",
    "these = [os.environ['USER'], os.environ['password_prod'], 'table_name_here', 'test_vdm',\n",
    "'col_a', 'col_b', '/tmp/test.tsv']\n",
    "assert all([x in something_template_stdin for x in these])\n",
    "running the tests one at a time:\n",
    "Python® Notes for Professionals 371\n",
    "py.test -k test_docker_install tests\n",
    "py.test -k test_copy_file_to_docker tests\n",
    "py.test -k test_docker_exec_something tests\n",
    "running all the tests in the tests folder:\n",
    "py.test -k test_ tests"
   ]
  },
  {
   "cell_type": "markdown",
   "metadata": {},
   "source": [
    "### Section 73.6: Mocking functions with unittest.mock.create_autospec"
   ]
  },
  {
   "cell_type": "raw",
   "metadata": {},
   "source": [
    "One way to mock a function is to use the create_autospec function, which will mock out an object according to its\n",
    "specs. With functions, we can use this to ensure that they are called appropriately."
   ]
  },
  {
   "cell_type": "raw",
   "metadata": {},
   "source": [
    "With a function multiply in custom_math.py :"
   ]
  },
  {
   "cell_type": "code",
   "execution_count": 28,
   "metadata": {},
   "outputs": [],
   "source": [
    "def multiply(a, b):\n",
    "    return a * b"
   ]
  },
  {
   "cell_type": "raw",
   "metadata": {},
   "source": [
    "And a function multiples_of in process_math.py :"
   ]
  },
  {
   "cell_type": "code",
   "execution_count": 29,
   "metadata": {},
   "outputs": [],
   "source": [
    "def multiples_of(integer, *args, num_multiples=0, **kwargs):\n",
    "    \"\"\"\n",
    "    :rtype: list\n",
    "    \"\"\"\n",
    "    multiples = []\n",
    "    for x in range(1, num_multiples + 1):\n",
    "        \"\"\"\n",
    "        Passing in args and kwargs here will only raise TypeError if values were\n",
    "        passed to multiples_of function, otherwise they are ignored. This way we can\n",
    "        test that multiples_of is used correctly. This is here for an illustration\n",
    "        of how create_autospec works. Not recommended for production code.\n",
    "        \"\"\"\n",
    "        multiple = multiply(integer,x, *args, **kwargs)\n",
    "        multiples.append(multiple)\n",
    "    return multiples"
   ]
  },
  {
   "cell_type": "code",
   "execution_count": null,
   "metadata": {},
   "outputs": [],
   "source": [
    "We can test multiples_of alone by mocking out multiply . The below example uses the Python standard library\n",
    "unittest, but this can be used with other testing frameworks as well, like pytest or nose:"
   ]
  },
  {
   "cell_type": "code",
   "execution_count": null,
   "metadata": {},
   "outputs": [],
   "source": [
    "from unittest.mock import create_autospec\n",
    "import unittest\n",
    "# we import the entire module so we can mock out multiply\n",
    "import custom_math\n",
    "custom_math.multiply = create_autospec(custom_math.multiply)\n",
    "from process_math import multiples_of\n",
    "class TestCustomMath(unittest.TestCase):\n",
    "    def test_multiples_of(self):\n",
    "        multiples = multiples_of(3, num_multiples=1)\n",
    "        custom_math.multiply.assert_called_with(3, 1)\n",
    "    def test_multiples_of_with_bad_inputs(self):\n",
    "        with self.assertRaises(TypeError) as e:\n",
    "            multiples_of(1, \"extra arg\", num_multiples=1)"
   ]
  }
 ],
 "metadata": {
  "kernelspec": {
   "display_name": "Python [default]",
   "language": "python",
   "name": "python3"
  },
  "language_info": {
   "codemirror_mode": {
    "name": "ipython",
    "version": 3
   },
   "file_extension": ".py",
   "mimetype": "text/x-python",
   "name": "python",
   "nbconvert_exporter": "python",
   "pygments_lexer": "ipython3",
   "version": "3.6.3"
  }
 },
 "nbformat": 4,
 "nbformat_minor": 2
}
