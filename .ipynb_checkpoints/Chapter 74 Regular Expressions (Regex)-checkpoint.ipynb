{
 "cells": [
  {
   "cell_type": "raw",
   "metadata": {},
   "source": [
    "Python makes regular expressions available through the re module.\n",
    "Regular expressions are combinations of characters that are interpreted as rules for matching substrings. For\n",
    "instance, the expression 'amount\\D+\\d+' will match any string composed by the word amount plus an integral\n",
    "number, separated by one or more non-digits, such as: amount=100 , amount is 3 , amount is equal to: 33 , etc."
   ]
  },
  {
   "cell_type": "markdown",
   "metadata": {},
   "source": [
    "### Section 74.1: Matching the beginning of a string"
   ]
  },
  {
   "cell_type": "raw",
   "metadata": {},
   "source": [
    "The first argument of re.match() is the regular expression, the second is the string to match:"
   ]
  },
  {
   "cell_type": "code",
   "execution_count": 2,
   "metadata": {},
   "outputs": [
    {
     "data": {
      "text/plain": [
       "<_sre.SRE_Match object; span=(0, 3), match='123'>"
      ]
     },
     "execution_count": 2,
     "metadata": {},
     "output_type": "execute_result"
    }
   ],
   "source": [
    "import re\n",
    "pattern = r\"123\"\n",
    "string = \"123zzb\"\n",
    "re.match(pattern, string)"
   ]
  },
  {
   "cell_type": "code",
   "execution_count": 3,
   "metadata": {},
   "outputs": [
    {
     "data": {
      "text/plain": [
       "'123'"
      ]
     },
     "execution_count": 3,
     "metadata": {},
     "output_type": "execute_result"
    }
   ],
   "source": [
    "match = re.match(pattern, string)\n",
    "match.group()"
   ]
  },
  {
   "cell_type": "markdown",
   "metadata": {},
   "source": [
    "1. You may notice that the pattern variable is a string prefixed with r , which indicates that the string is a raw string\n",
    "literal.\n",
    "2. A raw string literal has a slightly different syntax than a string literal, namely a backslash \\ in a raw string literal\n",
    "means \"just a backslash\" and there's no need for doubling up backlashes to escape \"escape sequences\" such as\n",
    "newlines ( \\n ), tabs ( \\t ), backspaces ( \\ ), form-feeds ( \\r ), and so on. In normal string literals, each backslash must be\n",
    "doubled up to avoid being taken as the start of an escape sequence.\n",
    "3. Hence, r\"\\n\" is a string of 2 characters: \\ and n . Regex patterns also use backslashes, e.g. \\d refers to any digit\n",
    "character. We can avoid having to double escape our strings ( \"\\\\d\" ) by using raw strings ( r\"\\d\" )."
   ]
  },
  {
   "cell_type": "code",
   "execution_count": 4,
   "metadata": {},
   "outputs": [
    {
     "ename": "AttributeError",
     "evalue": "'NoneType' object has no attribute 'group'",
     "output_type": "error",
     "traceback": [
      "\u001b[1;31m---------------------------------------------------------------------------\u001b[0m",
      "\u001b[1;31mAttributeError\u001b[0m                            Traceback (most recent call last)",
      "\u001b[1;32m<ipython-input-4-a94c3f3d9e5d>\u001b[0m in \u001b[0;36m<module>\u001b[1;34m()\u001b[0m\n\u001b[0;32m      1\u001b[0m \u001b[0mstring\u001b[0m \u001b[1;33m=\u001b[0m \u001b[1;34m\"\\\\t123zzb\"\u001b[0m \u001b[1;31m# here the backslash is escaped, so there's no tab, just '\\' and 't'\u001b[0m\u001b[1;33m\u001b[0m\u001b[0m\n\u001b[0;32m      2\u001b[0m \u001b[0mpattern\u001b[0m \u001b[1;33m=\u001b[0m \u001b[1;34m\"\\\\t123\"\u001b[0m \u001b[1;31m# this will match \\t (escaping the backslash) followed by 123\u001b[0m\u001b[1;33m\u001b[0m\u001b[0m\n\u001b[1;32m----> 3\u001b[1;33m \u001b[0mre\u001b[0m\u001b[1;33m.\u001b[0m\u001b[0mmatch\u001b[0m\u001b[1;33m(\u001b[0m\u001b[0mpattern\u001b[0m\u001b[1;33m,\u001b[0m \u001b[0mstring\u001b[0m\u001b[1;33m)\u001b[0m\u001b[1;33m.\u001b[0m\u001b[0mgroup\u001b[0m\u001b[1;33m(\u001b[0m\u001b[1;33m)\u001b[0m \u001b[1;31m# no match\u001b[0m\u001b[1;33m\u001b[0m\u001b[0m\n\u001b[0m",
      "\u001b[1;31mAttributeError\u001b[0m: 'NoneType' object has no attribute 'group'"
     ]
    }
   ],
   "source": [
    "string = \"\\\\t123zzb\" # here the backslash is escaped, so there's no tab, just '\\' and 't'\n",
    "pattern = \"\\\\t123\" # this will match \\t (escaping the backslash) followed by 123\n",
    "re.match(pattern, string).group() # no match"
   ]
  },
  {
   "cell_type": "code",
   "execution_count": 5,
   "metadata": {},
   "outputs": [
    {
     "data": {
      "text/plain": [
       "'\\t123'"
      ]
     },
     "execution_count": 5,
     "metadata": {},
     "output_type": "execute_result"
    }
   ],
   "source": [
    "re.match(pattern, \"\\t123zzb\").group()"
   ]
  },
  {
   "cell_type": "code",
   "execution_count": 6,
   "metadata": {},
   "outputs": [
    {
     "data": {
      "text/plain": [
       "'\\\\t123'"
      ]
     },
     "execution_count": 6,
     "metadata": {},
     "output_type": "execute_result"
    }
   ],
   "source": [
    "pattern = r\"\\\\t123\"\n",
    "re.match(pattern, string).group()"
   ]
  },
  {
   "cell_type": "raw",
   "metadata": {},
   "source": [
    "Matching is done from the start of the string only. If you want to match anywhere use re.search instead:"
   ]
  },
  {
   "cell_type": "code",
   "execution_count": 7,
   "metadata": {},
   "outputs": [
    {
     "data": {
      "text/plain": [
       "True"
      ]
     },
     "execution_count": 7,
     "metadata": {},
     "output_type": "execute_result"
    }
   ],
   "source": [
    "match = re.match(r\"(123)\", \"a123zzb\")\n",
    "match is None"
   ]
  },
  {
   "cell_type": "code",
   "execution_count": 8,
   "metadata": {},
   "outputs": [],
   "source": [
    "match = re.search(r\"(123)\", \"a123zzb\")"
   ]
  },
  {
   "cell_type": "code",
   "execution_count": 9,
   "metadata": {},
   "outputs": [
    {
     "data": {
      "text/plain": [
       "'123'"
      ]
     },
     "execution_count": 9,
     "metadata": {},
     "output_type": "execute_result"
    }
   ],
   "source": [
    "match.group()"
   ]
  },
  {
   "cell_type": "markdown",
   "metadata": {},
   "source": [
    "### Section 74.2: Searching"
   ]
  },
  {
   "cell_type": "code",
   "execution_count": 10,
   "metadata": {},
   "outputs": [
    {
     "data": {
      "text/plain": [
       "'your base'"
      ]
     },
     "execution_count": 10,
     "metadata": {},
     "output_type": "execute_result"
    }
   ],
   "source": [
    "pattern = r\"(your base)\"\n",
    "sentence = \"All your base are belong to us.\"\n",
    "match = re.search(pattern, sentence)\n",
    "match.group(1)"
   ]
  },
  {
   "cell_type": "code",
   "execution_count": 11,
   "metadata": {},
   "outputs": [
    {
     "data": {
      "text/plain": [
       "'belong to us.'"
      ]
     },
     "execution_count": 11,
     "metadata": {},
     "output_type": "execute_result"
    }
   ],
   "source": [
    "match = re.search(r\"(belong.*)\", sentence)\n",
    "match.group(1)"
   ]
  },
  {
   "cell_type": "raw",
   "metadata": {},
   "source": [
    "Searching is done anywhere in the string unlike re.match . You can also use re.findall "
   ]
  },
  {
   "cell_type": "raw",
   "metadata": {},
   "source": [
    "You can also search at the beginning of the string (use ^ ),"
   ]
  },
  {
   "cell_type": "code",
   "execution_count": 12,
   "metadata": {},
   "outputs": [
    {
     "data": {
      "text/plain": [
       "'123'"
      ]
     },
     "execution_count": 12,
     "metadata": {},
     "output_type": "execute_result"
    }
   ],
   "source": [
    "match = re.search(r\"^123\", \"123zzb\")\n",
    "match.group(0)"
   ]
  },
  {
   "cell_type": "code",
   "execution_count": 13,
   "metadata": {},
   "outputs": [
    {
     "data": {
      "text/plain": [
       "True"
      ]
     },
     "execution_count": 13,
     "metadata": {},
     "output_type": "execute_result"
    }
   ],
   "source": [
    "match = re.search(r\"^123\", \"a123zzb\")\n",
    "match is None"
   ]
  },
  {
   "cell_type": "raw",
   "metadata": {},
   "source": [
    "at the end of the string (use $ )"
   ]
  },
  {
   "cell_type": "code",
   "execution_count": 14,
   "metadata": {},
   "outputs": [
    {
     "data": {
      "text/plain": [
       "'123'"
      ]
     },
     "execution_count": 14,
     "metadata": {},
     "output_type": "execute_result"
    }
   ],
   "source": [
    "match = re.search(r\"123$\", \"zzb123\")\n",
    "match.group(0)"
   ]
  },
  {
   "cell_type": "code",
   "execution_count": 15,
   "metadata": {},
   "outputs": [
    {
     "data": {
      "text/plain": [
       "True"
      ]
     },
     "execution_count": 15,
     "metadata": {},
     "output_type": "execute_result"
    }
   ],
   "source": [
    "match = re.search(r\"123$\", \"123zzb\")\n",
    "match is None"
   ]
  },
  {
   "cell_type": "code",
   "execution_count": 16,
   "metadata": {},
   "outputs": [
    {
     "data": {
      "text/plain": [
       "'123'"
      ]
     },
     "execution_count": 16,
     "metadata": {},
     "output_type": "execute_result"
    }
   ],
   "source": [
    "match = re.search(r\"^123$\", \"123\")\n",
    "match.group(0)"
   ]
  },
  {
   "cell_type": "markdown",
   "metadata": {},
   "source": [
    "### Section 74.3: Precompiled patterns"
   ]
  },
  {
   "cell_type": "code",
   "execution_count": 17,
   "metadata": {},
   "outputs": [
    {
     "data": {
      "text/plain": [
       "'41'"
      ]
     },
     "execution_count": 17,
     "metadata": {},
     "output_type": "execute_result"
    }
   ],
   "source": [
    "import re\n",
    "precompiled_pattern = re.compile(r\"(\\d+)\")\n",
    "matches = precompiled_pattern.search(\"The answer is 41!\")\n",
    "matches.group(1)"
   ]
  },
  {
   "cell_type": "code",
   "execution_count": 18,
   "metadata": {},
   "outputs": [
    {
     "data": {
      "text/plain": [
       "<_sre.SRE_Match object; span=(14, 16), match='41'>"
      ]
     },
     "execution_count": 18,
     "metadata": {},
     "output_type": "execute_result"
    }
   ],
   "source": [
    "matches"
   ]
  },
  {
   "cell_type": "code",
   "execution_count": 24,
   "metadata": {},
   "outputs": [
    {
     "data": {
      "text/plain": [
       "'41'"
      ]
     },
     "execution_count": 24,
     "metadata": {},
     "output_type": "execute_result"
    }
   ],
   "source": [
    "matches.group(0)"
   ]
  },
  {
   "cell_type": "code",
   "execution_count": 25,
   "metadata": {},
   "outputs": [
    {
     "data": {
      "text/plain": [
       "'42'"
      ]
     },
     "execution_count": 25,
     "metadata": {},
     "output_type": "execute_result"
    }
   ],
   "source": [
    "matches = precompiled_pattern.search(\"Or was it 42?\")\n",
    "matches.group(1)"
   ]
  },
  {
   "cell_type": "raw",
   "metadata": {},
   "source": [
    "Compiling a pattern allows it to be reused later on in a program. However, note that Python caches recently-used expressions (docs, SO answer), so \"programs that use only a few regular expressions at a time needn’t worry about\n",
    "compiling regular expressions\"."
   ]
  },
  {
   "cell_type": "code",
   "execution_count": 26,
   "metadata": {},
   "outputs": [
    {
     "name": "stdout",
     "output_type": "stream",
     "text": [
      "The answer is 41\n",
      "Or was it 42\n"
     ]
    }
   ],
   "source": [
    "import re\n",
    "precompiled_pattern = re.compile(r\"(.*\\d+)\")\n",
    "matches = precompiled_pattern.match(\"The answer is 41!\")\n",
    "print(matches.group(1))\n",
    "# Out: The answer is 41\n",
    "matches = precompiled_pattern.match(\"Or was it 42?\")\n",
    "print(matches.group(1))"
   ]
  },
  {
   "cell_type": "markdown",
   "metadata": {},
   "source": [
    "### Section 74.4: Flags"
   ]
  },
  {
   "cell_type": "raw",
   "metadata": {},
   "source": [
    "For some special cases we need to change the behavior of the Regular Expression, this is done using flags. Flags can\n",
    "be set in two ways, through the flags keyword or directly in the expression."
   ]
  },
  {
   "cell_type": "code",
   "execution_count": 27,
   "metadata": {},
   "outputs": [
    {
     "data": {
      "text/plain": [
       "True"
      ]
     },
     "execution_count": 27,
     "metadata": {},
     "output_type": "execute_result"
    }
   ],
   "source": [
    "m = re.search(\"b\", \"ABC\")\n",
    "m is None"
   ]
  },
  {
   "cell_type": "code",
   "execution_count": 28,
   "metadata": {},
   "outputs": [
    {
     "data": {
      "text/plain": [
       "'B'"
      ]
     },
     "execution_count": 28,
     "metadata": {},
     "output_type": "execute_result"
    }
   ],
   "source": [
    "m = re.search(\"b\", \"ABC\", flags=re.IGNORECASE)\n",
    "m.group()"
   ]
  },
  {
   "cell_type": "code",
   "execution_count": 29,
   "metadata": {},
   "outputs": [
    {
     "data": {
      "text/plain": [
       "True"
      ]
     },
     "execution_count": 29,
     "metadata": {},
     "output_type": "execute_result"
    }
   ],
   "source": [
    "m = re.search(\"a.b\", \"A\\nBC\", flags=re.IGNORECASE)\n",
    "m is None"
   ]
  },
  {
   "cell_type": "code",
   "execution_count": 30,
   "metadata": {},
   "outputs": [
    {
     "data": {
      "text/plain": [
       "'A\\nB'"
      ]
     },
     "execution_count": 30,
     "metadata": {},
     "output_type": "execute_result"
    }
   ],
   "source": [
    "m = re.search(\"a.b\", \"A\\nBC\", flags=re.IGNORECASE|re.DOTALL)\n",
    "m.group()"
   ]
  },
  {
   "cell_type": "raw",
   "metadata": {},
   "source": [
    "Common Flags\n",
    "| Flag Short           | Description                                               |\n",
    "| ---                  | ---                                                       |\n",
    "| re.IGNORECASE , re.I | Makes the pattern ignore the case                         |\n",
    "| re.DOTALL , re.S     | Makes . match everything including newlines               |\n",
    "| re.MULTILINE , re.M  | Makes ^ match the begin of a line and $ the end of a line |\n",
    "| re.DEBUG             | Turns on debug information                                |"
   ]
  },
  {
   "cell_type": "markdown",
   "metadata": {},
   "source": [
    "Inline flags\n",
    "From the docs:\n",
    "> (?iLmsux) (One or more letters from the set 'i', 'L', 'm', 's', 'u', 'x'.)\n",
    "\n",
    "> The group matches the empty string; the letters set the corresponding flags: re.I (ignore case), re.L (locale\n",
    "> dependent), re.M (multi-line), re.S (dot matches all), re.U (Unicode dependent), and re.X (verbose), for the\n",
    "> entire regular expression. This is useful if you wish to include the flags as part of the regular expression,\n",
    "> instead of passing a flag argument to the re.compile() function.\n",
    "> Note that the (?x) flag changes how the expression is parsed. It should be used first in the expression\n",
    "> string, or after one or more whitespace characters. If there are non-whitespace characters before the flag,\n",
    "> the results are undefined."
   ]
  },
  {
   "cell_type": "markdown",
   "metadata": {},
   "source": [
    "### Section 74.5: Replacing"
   ]
  },
  {
   "cell_type": "raw",
   "metadata": {},
   "source": [
    "Replacements can be made on strings using re.sub ."
   ]
  },
  {
   "cell_type": "code",
   "execution_count": 31,
   "metadata": {},
   "outputs": [
    {
     "data": {
      "text/plain": [
       "'my name foo is foo what foo ever foo'"
      ]
     },
     "execution_count": 31,
     "metadata": {},
     "output_type": "execute_result"
    }
   ],
   "source": [
    "re.sub(r\"t[0-9][0-9]\", \"foo\", \"my name t13 is t44 what t99 ever t44\")"
   ]
  },
  {
   "cell_type": "raw",
   "metadata": {},
   "source": [
    "Replacements with a small number of groups can be made as follows:"
   ]
  },
  {
   "cell_type": "code",
   "execution_count": 32,
   "metadata": {},
   "outputs": [
    {
     "data": {
      "text/plain": [
       "'t31 t91 t18 t52'"
      ]
     },
     "execution_count": 32,
     "metadata": {},
     "output_type": "execute_result"
    }
   ],
   "source": [
    "re.sub(r\"t([0-9])([0-9])\", r\"t\\2\\1\", \"t13 t19 t81 t25\")"
   ]
  },
  {
   "cell_type": "raw",
   "metadata": {},
   "source": [
    "However, if you make a group ID like '10', this doesn't work: \\10 is read as 'ID number 1 followed by 0'. So you have\n",
    "to be more specific and use the \\g<i> notation:"
   ]
  },
  {
   "cell_type": "code",
   "execution_count": 33,
   "metadata": {},
   "outputs": [
    {
     "data": {
      "text/plain": [
       "'t31 t91 t18 t52'"
      ]
     },
     "execution_count": 33,
     "metadata": {},
     "output_type": "execute_result"
    }
   ],
   "source": [
    "re.sub(r\"t([0-9])([0-9])\", r\"t\\g<2>\\g<1>\", \"t13 t19 t81 t25\")"
   ]
  },
  {
   "cell_type": "code",
   "execution_count": 34,
   "metadata": {},
   "outputs": [
    {
     "data": {
      "text/plain": [
       "'Items: zero, one, something,two'"
      ]
     },
     "execution_count": 34,
     "metadata": {},
     "output_type": "execute_result"
    }
   ],
   "source": [
    "items = [\"zero\", \"one\", \"two\"]\n",
    "re.sub(r\"a\\[([0-3])\\]\", lambda match: items[int(match.group(1))], \"Items: a[0], a[1], something,a[2]\")"
   ]
  },
  {
   "cell_type": "markdown",
   "metadata": {},
   "source": [
    "### Section 74.6: Find All Non-Overlapping Matches"
   ]
  },
  {
   "cell_type": "code",
   "execution_count": 35,
   "metadata": {},
   "outputs": [
    {
     "data": {
      "text/plain": [
       "['12', '945', '444', '558', '889']"
      ]
     },
     "execution_count": 35,
     "metadata": {},
     "output_type": "execute_result"
    }
   ],
   "source": [
    "re.findall(r\"[0-9]{2,3}\", \"some 1 text 12 is 945 here 4445588899\")"
   ]
  },
  {
   "cell_type": "raw",
   "metadata": {},
   "source": [
    "You could also use re.finditer() which works in the same way as re.findall() but returns an iterator with\n",
    "SRE_Match objects instead of a list of strings:"
   ]
  },
  {
   "cell_type": "code",
   "execution_count": 36,
   "metadata": {},
   "outputs": [
    {
     "name": "stdout",
     "output_type": "stream",
     "text": [
      "<callable_iterator object at 0x000001BE14189080>\n"
     ]
    }
   ],
   "source": [
    "results = re.finditer(r\"([0-9]{2,3})\", \"some 1 text 12 is 945 here 4445588899\")\n",
    "print(results)"
   ]
  },
  {
   "cell_type": "code",
   "execution_count": 37,
   "metadata": {},
   "outputs": [
    {
     "name": "stdout",
     "output_type": "stream",
     "text": [
      "12\n",
      "945\n",
      "444\n",
      "558\n",
      "889\n"
     ]
    }
   ],
   "source": [
    "for result in results:\n",
    "    print(result.group(0))"
   ]
  },
  {
   "cell_type": "markdown",
   "metadata": {},
   "source": [
    "### Section 74.7: Checking for allowed characters"
   ]
  },
  {
   "cell_type": "code",
   "execution_count": 38,
   "metadata": {},
   "outputs": [
    {
     "name": "stdout",
     "output_type": "stream",
     "text": [
      "True\n"
     ]
    }
   ],
   "source": [
    "import re\n",
    "def is_allowed(string):\n",
    "    characherRegex = re.compile(r'[^a-zA-Z0-9.]')\n",
    "    string = characherRegex.search(string)\n",
    "    return not bool(string)\n",
    "print (is_allowed(\"abyzABYZ0099\"))"
   ]
  },
  {
   "cell_type": "code",
   "execution_count": 40,
   "metadata": {},
   "outputs": [
    {
     "name": "stdout",
     "output_type": "stream",
     "text": [
      "False\n"
     ]
    }
   ],
   "source": [
    "print (is_allowed(\"#*@#$%^123\"))"
   ]
  },
  {
   "cell_type": "raw",
   "metadata": {},
   "source": [
    "You can also adapt the expression line from [^a-zA-Z0-9.] to [^a-z0-9.] , to disallow uppercase letters for\n",
    "example."
   ]
  },
  {
   "cell_type": "markdown",
   "metadata": {},
   "source": [
    "### Section 74.8: Splitting a string using regular expressions"
   ]
  },
  {
   "cell_type": "code",
   "execution_count": 41,
   "metadata": {},
   "outputs": [
    {
     "name": "stdout",
     "output_type": "stream",
     "text": [
      "['James', '94', 'Samantha', '417', 'Scarlett', '74']\n"
     ]
    }
   ],
   "source": [
    "import re\n",
    "data = re.split(r'\\s+', 'James 94 Samantha 417 Scarlett 74')\n",
    "print( data )"
   ]
  },
  {
   "cell_type": "markdown",
   "metadata": {},
   "source": [
    "### section 74.9: Grouping"
   ]
  },
  {
   "cell_type": "markdown",
   "metadata": {},
   "source": [
    "Grouping is done with parentheses. Calling group() returns a string formed of the matching parenthesized\n",
    "subgroups"
   ]
  },
  {
   "cell_type": "code",
   "execution_count": 43,
   "metadata": {},
   "outputs": [
    {
     "data": {
      "text/plain": [
       "'123'"
      ]
     },
     "execution_count": 43,
     "metadata": {},
     "output_type": "execute_result"
    }
   ],
   "source": [
    "match.group() # Group without argument returns the entire match found\n",
    "# Out: '123'"
   ]
  },
  {
   "cell_type": "code",
   "execution_count": 44,
   "metadata": {},
   "outputs": [
    {
     "data": {
      "text/plain": [
       "'123'"
      ]
     },
     "execution_count": 44,
     "metadata": {},
     "output_type": "execute_result"
    }
   ],
   "source": [
    "match.group(0) # Specifying 0 gives the same result as specifying no argument\n",
    "# Out: '123'"
   ]
  },
  {
   "cell_type": "raw",
   "metadata": {},
   "source": [
    "If there is a single argument, the result is a single string; if there are multiple arguments, the result is a\n",
    "tuple with one item per argument."
   ]
  },
  {
   "cell_type": "raw",
   "metadata": {},
   "source": [
    "Callring groups() on the other hand, returns a list of tuples containing the subgroups."
   ]
  },
  {
   "cell_type": "code",
   "execution_count": 47,
   "metadata": {},
   "outputs": [
    {
     "data": {
      "text/plain": [
       "('phone', '672-123-456-9910')"
      ]
     },
     "execution_count": 47,
     "metadata": {},
     "output_type": "execute_result"
    }
   ],
   "source": [
    "sentence = \"This is a phone number 672-123-456-9910\"\n",
    "pattern = r\".*(phone).*?([\\d-]+)\"\n",
    "match = re.match(pattern, sentence)\n",
    "match.groups()"
   ]
  },
  {
   "cell_type": "code",
   "execution_count": 49,
   "metadata": {},
   "outputs": [
    {
     "data": {
      "text/plain": [
       "'This is a phone number 672-123-456-9910'"
      ]
     },
     "execution_count": 49,
     "metadata": {},
     "output_type": "execute_result"
    }
   ],
   "source": [
    "match.group()"
   ]
  },
  {
   "cell_type": "code",
   "execution_count": 50,
   "metadata": {},
   "outputs": [
    {
     "data": {
      "text/plain": [
       "'This is a phone number 672-123-456-9910'"
      ]
     },
     "execution_count": 50,
     "metadata": {},
     "output_type": "execute_result"
    }
   ],
   "source": [
    "match.group(0)"
   ]
  },
  {
   "cell_type": "code",
   "execution_count": 51,
   "metadata": {},
   "outputs": [
    {
     "data": {
      "text/plain": [
       "'phone'"
      ]
     },
     "execution_count": 51,
     "metadata": {},
     "output_type": "execute_result"
    }
   ],
   "source": [
    "match.group(1)"
   ]
  },
  {
   "cell_type": "code",
   "execution_count": 52,
   "metadata": {},
   "outputs": [
    {
     "data": {
      "text/plain": [
       "'672-123-456-9910'"
      ]
     },
     "execution_count": 52,
     "metadata": {},
     "output_type": "execute_result"
    }
   ],
   "source": [
    "match.group(2)"
   ]
  },
  {
   "cell_type": "code",
   "execution_count": 54,
   "metadata": {},
   "outputs": [
    {
     "data": {
      "text/plain": [
       "('phone', '672-123-456-9910')"
      ]
     },
     "execution_count": 54,
     "metadata": {},
     "output_type": "execute_result"
    }
   ],
   "source": [
    "match.group(1, 2)"
   ]
  },
  {
   "cell_type": "markdown",
   "metadata": {},
   "source": [
    "##### Named groups"
   ]
  },
  {
   "cell_type": "code",
   "execution_count": 55,
   "metadata": {},
   "outputs": [
    {
     "data": {
      "text/plain": [
       "'John Smith'"
      ]
     },
     "execution_count": 55,
     "metadata": {},
     "output_type": "execute_result"
    }
   ],
   "source": [
    "match = re.search(r'My name is (?P<name>[A-Za-z ]+)', 'My name is John Smith')\n",
    "match.group('name')"
   ]
  },
  {
   "cell_type": "code",
   "execution_count": 56,
   "metadata": {},
   "outputs": [
    {
     "data": {
      "text/plain": [
       "'John Smith'"
      ]
     },
     "execution_count": 56,
     "metadata": {},
     "output_type": "execute_result"
    }
   ],
   "source": [
    "match.group(1)"
   ]
  },
  {
   "cell_type": "markdown",
   "metadata": {},
   "source": [
    "#### Non-capturing groups\n",
    "Using (?:) creates a group, but the group isn't captured. This means you can use it as a group, but it won't pollute\n",
    "your \"group space\"."
   ]
  },
  {
   "cell_type": "code",
   "execution_count": 57,
   "metadata": {},
   "outputs": [
    {
     "data": {
      "text/plain": [
       "('11', '+22', '22')"
      ]
     },
     "execution_count": 57,
     "metadata": {},
     "output_type": "execute_result"
    }
   ],
   "source": [
    "re.match(r'(\\d+)(\\+(\\d+))?', '11+22').groups()"
   ]
  },
  {
   "cell_type": "code",
   "execution_count": 58,
   "metadata": {},
   "outputs": [
    {
     "data": {
      "text/plain": [
       "('11', '22')"
      ]
     },
     "execution_count": 58,
     "metadata": {},
     "output_type": "execute_result"
    }
   ],
   "source": [
    "re.match(r'(\\d+)(?:\\+(\\d+))?', '11+22').groups()"
   ]
  },
  {
   "cell_type": "markdown",
   "metadata": {},
   "source": [
    "### Section 74.10: Escaping Special Characters"
   ]
  },
  {
   "cell_type": "raw",
   "metadata": {},
   "source": [
    "Special characters (like the character class brackets [ and ] below) are not matched literally:"
   ]
  },
  {
   "cell_type": "code",
   "execution_count": 59,
   "metadata": {},
   "outputs": [
    {
     "data": {
      "text/plain": [
       "'b'"
      ]
     },
     "execution_count": 59,
     "metadata": {},
     "output_type": "execute_result"
    }
   ],
   "source": [
    "match = re.search(r'[b]', 'a[b]c')\n",
    "match.group()"
   ]
  },
  {
   "cell_type": "raw",
   "metadata": {},
   "source": [
    "By escaping the special characters, they can be matched literally:"
   ]
  },
  {
   "cell_type": "code",
   "execution_count": 60,
   "metadata": {},
   "outputs": [
    {
     "data": {
      "text/plain": [
       "'[b]'"
      ]
     },
     "execution_count": 60,
     "metadata": {},
     "output_type": "execute_result"
    }
   ],
   "source": [
    "match = re.search(r'\\[b\\]', 'a[b]c')\n",
    "match.group()"
   ]
  },
  {
   "cell_type": "raw",
   "metadata": {},
   "source": [
    "The re.escape() function can be used to do this for you:"
   ]
  },
  {
   "cell_type": "code",
   "execution_count": 61,
   "metadata": {},
   "outputs": [
    {
     "data": {
      "text/plain": [
       "'a\\\\[b\\\\]c'"
      ]
     },
     "execution_count": 61,
     "metadata": {},
     "output_type": "execute_result"
    }
   ],
   "source": [
    "re.escape('a[b]c')"
   ]
  },
  {
   "cell_type": "code",
   "execution_count": 62,
   "metadata": {},
   "outputs": [
    {
     "data": {
      "text/plain": [
       "'a[b]c'"
      ]
     },
     "execution_count": 62,
     "metadata": {},
     "output_type": "execute_result"
    }
   ],
   "source": [
    "match = re.search(re.escape('a[b]c'), 'a[b]c')\n",
    "match.group()"
   ]
  },
  {
   "cell_type": "raw",
   "metadata": {},
   "source": [
    "The re.escape() function escapes all special characters, so it is useful if you are composing a regular expression\n",
    "based on user input:"
   ]
  },
  {
   "cell_type": "code",
   "execution_count": 63,
   "metadata": {},
   "outputs": [
    {
     "data": {
      "text/plain": [
       "['Hi A.C.!', 'Hi ABCD!']"
      ]
     },
     "execution_count": 63,
     "metadata": {},
     "output_type": "execute_result"
    }
   ],
   "source": [
    "username = 'A.C.' # suppose this came from the user\n",
    "re.findall(r'Hi {}!'.format(username), 'Hi A.C.! Hi ABCD!')"
   ]
  },
  {
   "cell_type": "code",
   "execution_count": 64,
   "metadata": {},
   "outputs": [
    {
     "data": {
      "text/plain": [
       "['Hi A.C.!']"
      ]
     },
     "execution_count": 64,
     "metadata": {},
     "output_type": "execute_result"
    }
   ],
   "source": [
    "re.findall(r'Hi {}!'.format(re.escape(username)), 'Hi A.C.! Hi ABCD!')"
   ]
  },
  {
   "cell_type": "markdown",
   "metadata": {},
   "source": [
    "### Section 74.11: Match an expression only in specific locations"
   ]
  },
  {
   "cell_type": "markdown",
   "metadata": {},
   "source": [
    "1. Often you want to match an expression only in specific places (leaving them untouched in others, that is). Consider\n",
    "the following sentence:\n",
    "2. An apple a day keeps the doctor away (I eat an apple everyday).\n",
    "3. Here the \"apple\" occurs twice which can be solved with so called backtracking control verbs which are supported by\n",
    "**the newer regex module**. The idea is:\n",
    "forget_this | or this | and this as well | (but keep this)\n",
    "4. With our apple example, this would be:"
   ]
  },
  {
   "cell_type": "code",
   "execution_count": 73,
   "metadata": {},
   "outputs": [
    {
     "ename": "ModuleNotFoundError",
     "evalue": "No module named 'regex'",
     "output_type": "error",
     "traceback": [
      "\u001b[1;31m---------------------------------------------------------------------------\u001b[0m",
      "\u001b[1;31mModuleNotFoundError\u001b[0m                       Traceback (most recent call last)",
      "\u001b[1;32m<ipython-input-73-03ddd23f9d76>\u001b[0m in \u001b[0;36m<module>\u001b[1;34m()\u001b[0m\n\u001b[1;32m----> 1\u001b[1;33m \u001b[1;32mimport\u001b[0m \u001b[0mregex\u001b[0m \u001b[1;32mas\u001b[0m \u001b[0mre\u001b[0m\u001b[1;33m\u001b[0m\u001b[0m\n\u001b[0m\u001b[0;32m      2\u001b[0m \u001b[0mstring\u001b[0m \u001b[1;33m=\u001b[0m \u001b[1;34m\"An apple a day keeps the doctor away (I eat an apple everyday).\"\u001b[0m\u001b[1;33m\u001b[0m\u001b[0m\n\u001b[0;32m      3\u001b[0m rx = re.compile(r'''\n\u001b[0;32m      4\u001b[0m     \u001b[0;31m\\\u001b[0m\u001b[1;33m(\u001b[0m\u001b[1;33m[\u001b[0m\u001b[1;33m^\u001b[0m\u001b[1;33m(\u001b[0m\u001b[1;33m)\u001b[0m\u001b[1;33m]\u001b[0m\u001b[1;33m*\u001b[0m\u001b[0;31m\\\u001b[0m\u001b[1;33m)\u001b[0m \u001b[1;33m(\u001b[0m\u001b[1;33m*\u001b[0m\u001b[0mSKIP\u001b[0m\u001b[1;33m)\u001b[0m\u001b[1;33m(\u001b[0m\u001b[1;33m*\u001b[0m\u001b[0mFAIL\u001b[0m\u001b[1;33m)\u001b[0m \u001b[1;31m# match anything in parentheses and \"throw it away\"\u001b[0m\u001b[1;33m\u001b[0m\u001b[0m\n\u001b[0;32m      5\u001b[0m     \u001b[1;33m|\u001b[0m                         \u001b[1;31m# or\u001b[0m\u001b[1;33m\u001b[0m\u001b[0m\n",
      "\u001b[1;31mModuleNotFoundError\u001b[0m: No module named 'regex'"
     ]
    }
   ],
   "source": [
    "import regex as re\n",
    "string = \"An apple a day keeps the doctor away (I eat an apple everyday).\"\n",
    "rx = re.compile(r'''\n",
    "    \\([^()]*\\) (*SKIP)(*FAIL) # match anything in parentheses and \"throw it away\"\n",
    "    |                         # or\n",
    "    apple                     # match an apple\n",
    "    ''', re.VERBOSE)\n",
    "apples = rx.findall(string)\n",
    "print(apples)"
   ]
  },
  {
   "cell_type": "code",
   "execution_count": null,
   "metadata": {},
   "outputs": [],
   "source": [
    "没有找到regex 这个新的module"
   ]
  },
  {
   "cell_type": "markdown",
   "metadata": {},
   "source": [
    "### Section 74.12: Iterating over matches using `re.finditer`"
   ]
  },
  {
   "cell_type": "code",
   "execution_count": 71,
   "metadata": {},
   "outputs": [
    {
     "name": "stdout",
     "output_type": "stream",
     "text": [
      "Match \"an\" found at: [5,7]\n",
      "Match \"an\" found at: [20,22]\n",
      "Match \"ant\" found at: [23,26]\n"
     ]
    }
   ],
   "source": [
    "import re\n",
    "text = 'You can try to find an ant in this string'\n",
    "pattern = 'an?\\w' # find 'an' either with or without a following word character\n",
    "for match in re.finditer(pattern, text):\n",
    "    # Start index of match (integer)\n",
    "    sStart = match.start()\n",
    "    # Final index of match (integer)\n",
    "    sEnd = match.end()\n",
    "    # Complete match (string)\n",
    "    sGroup = match.group()\n",
    "    # Print match\n",
    "    print('Match \"{}\" found at: [{},{}]'.format(sGroup, sStart,sEnd))"
   ]
  },
  {
   "cell_type": "code",
   "execution_count": null,
   "metadata": {},
   "outputs": [],
   "source": []
  }
 ],
 "metadata": {
  "kernelspec": {
   "display_name": "Python [default]",
   "language": "python",
   "name": "python3"
  },
  "language_info": {
   "codemirror_mode": {
    "name": "ipython",
    "version": 3
   },
   "file_extension": ".py",
   "mimetype": "text/x-python",
   "name": "python",
   "nbconvert_exporter": "python",
   "pygments_lexer": "ipython3",
   "version": "3.6.3"
  }
 },
 "nbformat": 4,
 "nbformat_minor": 2
}
