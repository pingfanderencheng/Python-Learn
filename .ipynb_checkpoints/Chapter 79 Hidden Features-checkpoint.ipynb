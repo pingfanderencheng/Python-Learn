{
 "cells": [
  {
   "cell_type": "markdown",
   "metadata": {},
   "source": [
    "### Section 79.1: Operator Overloading"
   ]
  },
  {
   "cell_type": "raw",
   "metadata": {},
   "source": [
    "Everything in Python is an object. Each object has some special internal methods which it uses to interact with other\n",
    "objects. Generally, these methods follow the __action__ naming convention. Collectively, this is termed as the\n",
    "Python Data Model."
   ]
  },
  {
   "cell_type": "raw",
   "metadata": {},
   "source": [
    "You can overload any of these methods. This is commonly used in operator overloading in Python. Below is an\n",
    "example of operator overloading using Python's data model. The Vector class creates a simple vector of two\n",
    "variables. We'll add appropriate support for mathematical operations of two vectors using operator overloading"
   ]
  },
  {
   "cell_type": "code",
   "execution_count": 33,
   "metadata": {},
   "outputs": [],
   "source": [
    "class Vector(object):\n",
    "    def __init__(self, x, y):\n",
    "        self.x = x\n",
    "        self.y = y\n",
    "    def __add__(self, v):\n",
    "        # Addition with another vector.\n",
    "        return Vector(self.x + v.x, self.y + v.y)\n",
    "    def __sub__(self, v):\n",
    "        # Subtraction with another vector.\n",
    "        return Vector(self.x - v.x, self.y - v.y)\n",
    "    def __mul__(self, s):\n",
    "        # Multiplication with a scalar.\n",
    "        return Vector(self.x * s, self.y * s)\n",
    "#     def __div__(self, s):\n",
    "#         # Division with a scalar.\n",
    "#         float_s = float(s)\n",
    "#         return Vector(self.x / float_s, self.y / float_s)\n",
    "    def __truediv__(self, s):\n",
    "        # Division with a scalar.\n",
    "        float_s = float(s)\n",
    "        return Vector(self.x / float_s, self.y / float_s)\n",
    "    def __floordiv__(self, s):\n",
    "        # Division with a scalar (value floored).\n",
    "        return Vector(self.x // s, self.y // s)\n",
    "    def __repr__(self):\n",
    "        # Print friendly representation of Vector class. Else, it would\n",
    "        # show up like, <__main__.Vector instance at 0x01DDDDC8>.\n",
    "        return '<Vector (%f, %f)>' % (self.x, self.y, )"
   ]
  },
  {
   "cell_type": "code",
   "execution_count": 34,
   "metadata": {},
   "outputs": [],
   "source": [
    "a = Vector(3, 5)\n",
    "b = Vector(2, 7)"
   ]
  },
  {
   "cell_type": "code",
   "execution_count": 35,
   "metadata": {},
   "outputs": [
    {
     "name": "stdout",
     "output_type": "stream",
     "text": [
      "<Vector (5.000000, 12.000000)>\n"
     ]
    }
   ],
   "source": [
    "print(a + b)"
   ]
  },
  {
   "cell_type": "code",
   "execution_count": 36,
   "metadata": {},
   "outputs": [
    {
     "name": "stdout",
     "output_type": "stream",
     "text": [
      "<Vector (-1.000000, 2.000000)>\n"
     ]
    }
   ],
   "source": [
    "print(b - a)"
   ]
  },
  {
   "cell_type": "code",
   "execution_count": 37,
   "metadata": {},
   "outputs": [
    {
     "name": "stdout",
     "output_type": "stream",
     "text": [
      "<Vector (2.600000, 9.100000)>\n"
     ]
    }
   ],
   "source": [
    "print(b * 1.3)"
   ]
  },
  {
   "cell_type": "code",
   "execution_count": 38,
   "metadata": {},
   "outputs": [
    {
     "name": "stdout",
     "output_type": "stream",
     "text": [
      "<Vector (0.000000, 0.000000)>\n"
     ]
    }
   ],
   "source": [
    "print(a // 17)"
   ]
  },
  {
   "cell_type": "code",
   "execution_count": 39,
   "metadata": {},
   "outputs": [
    {
     "name": "stdout",
     "output_type": "stream",
     "text": [
      "<Vector (0.176471, 0.294118)>\n"
     ]
    }
   ],
   "source": [
    "print(a / 17)"
   ]
  },
  {
   "cell_type": "raw",
   "metadata": {},
   "source": [
    "object.__div__(self, other)\n",
    "object.__truediv__(self, other)\n",
    "The division operator (/) is implemented by these methods. The __truediv__() method is used when __future__.division is in effect, otherwise __div__() is used. If only one of these two methods is defined, the object will not support division in the alternate context; TypeError will be raised instead."
   ]
  },
  {
   "cell_type": "markdown",
   "metadata": {},
   "source": [
    "[Python Data Model](https://docs.python.org/2/reference/datamodel.html?object.__getattr__#emulating-numeric-types)"
   ]
  },
  {
   "cell_type": "code",
   "execution_count": null,
   "metadata": {},
   "outputs": [],
   "source": []
  }
 ],
 "metadata": {
  "kernelspec": {
   "display_name": "Python [default]",
   "language": "python",
   "name": "python3"
  },
  "language_info": {
   "codemirror_mode": {
    "name": "ipython",
    "version": 3
   },
   "file_extension": ".py",
   "mimetype": "text/x-python",
   "name": "python",
   "nbconvert_exporter": "python",
   "pygments_lexer": "ipython3",
   "version": "3.6.3"
  }
 },
 "nbformat": 4,
 "nbformat_minor": 2
}
