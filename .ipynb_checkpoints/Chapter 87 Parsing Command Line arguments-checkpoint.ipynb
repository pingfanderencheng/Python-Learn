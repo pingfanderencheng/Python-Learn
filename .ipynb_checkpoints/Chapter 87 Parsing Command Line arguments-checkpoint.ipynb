{
 "cells": [
  {
   "cell_type": "raw",
   "metadata": {},
   "source": [
    "Most command line tools rely on arguments passed to the program upon its execution. Instead of prompting for\n",
    "input, these programs expect data or specific flags (which become booleans) to be set. This allows both the user\n",
    "and other programs to run the Python file passing it data as it starts. This section explains and demonstrates the\n",
    "implementation and usage of command line arguments in Python."
   ]
  },
  {
   "cell_type": "markdown",
   "metadata": {},
   "source": [
    "### Section 87.1: Hello world in argparse"
   ]
  },
  {
   "cell_type": "code",
   "execution_count": null,
   "metadata": {},
   "outputs": [],
   "source": [
    "The following program says hello to the user. It takes one positional argument, the name of the user, and can also\n",
    "be told the greeting."
   ]
  },
  {
   "cell_type": "code",
   "execution_count": null,
   "metadata": {},
   "outputs": [],
   "source": [
    "%%cmd \n",
    "python hello.py --help"
   ]
  },
  {
   "cell_type": "raw",
   "metadata": {},
   "source": [
    "该命令必须再hello.py的目录下执行。下边是执行的输出。不是在本Notebook中得到的输出"
   ]
  },
  {
   "cell_type": "raw",
   "metadata": {},
   "source": [
    "Microsoft Windows [版本 10.0.16299.125]\n",
    "(c) 2017 Microsoft Corporation。保留所有权利。\n",
    "\n",
    "E:\\MyFile\\Jupyter\\Python-Learn\\Chapter 87 Parsing Command Line arguments>python hello.py --help\n",
    "usage: hello.py [-h] [-g GREETING] name\n",
    "\n",
    "positional arguments:\n",
    "  name                  name of user\n",
    "\n",
    "optional arguments:\n",
    "  -h, --help            show this help message and exit\n",
    "  -g GREETING, --greeting GREETING\n",
    "                        optional alternate greeting\n",
    "\n",
    "E:\\MyFile\\Jupyter\\Python-Learn\\Chapter 87 Parsing Command Line arguments>"
   ]
  },
  {
   "cell_type": "code",
   "execution_count": null,
   "metadata": {},
   "outputs": [],
   "source": [
    "%%cmd\n",
    "python hello.py world"
   ]
  },
  {
   "cell_type": "code",
   "execution_count": null,
   "metadata": {},
   "outputs": [],
   "source": [
    "同上"
   ]
  },
  {
   "cell_type": "raw",
   "metadata": {},
   "source": [
    "Microsoft Windows [版本 10.0.16299.125]\n",
    "(c) 2017 Microsoft Corporation。保留所有权利。\n",
    "\n",
    "E:\\MyFile\\Jupyter\\Python-Learn\\Chapter 87 Parsing Command Line arguments>python hello.py world\n",
    "Hello, world!\n",
    "\n",
    "E:\\MyFile\\Jupyter\\Python-Learn\\Chapter 87 Parsing Command Line arguments>"
   ]
  },
  {
   "cell_type": "code",
   "execution_count": 13,
   "metadata": {},
   "outputs": [
    {
     "name": "stdout",
     "output_type": "stream",
     "text": [
      "Microsoft Windows [版本 10.0.16299.125]\n",
      "(c) 2017 Microsoft Corporation。保留所有权利。\n",
      "\n",
      "E:\\MyFile\\Jupyter\\Python-Learn>python hello.py John -g Howdy\n",
      "\n",
      "E:\\MyFile\\Jupyter\\Python-Learn>"
     ]
    },
    {
     "name": "stderr",
     "output_type": "stream",
     "text": [
      "python: can't open file 'hello.py': [Errno 2] No such file or directory\n"
     ]
    }
   ],
   "source": [
    "%%cmd\n",
    "python hello.py John -g Howdy"
   ]
  },
  {
   "cell_type": "code",
   "execution_count": null,
   "metadata": {},
   "outputs": [],
   "source": []
  }
 ],
 "metadata": {
  "kernelspec": {
   "display_name": "Python [default]",
   "language": "python",
   "name": "python3"
  },
  "language_info": {
   "codemirror_mode": {
    "name": "ipython",
    "version": 3
   },
   "file_extension": ".py",
   "mimetype": "text/x-python",
   "name": "python",
   "nbconvert_exporter": "python",
   "pygments_lexer": "ipython3",
   "version": "3.6.3"
  }
 },
 "nbformat": 4,
 "nbformat_minor": 2
}
