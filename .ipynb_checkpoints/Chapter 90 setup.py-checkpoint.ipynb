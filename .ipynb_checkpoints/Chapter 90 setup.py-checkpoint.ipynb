{
 "cells": [
  {
   "cell_type": "markdown",
   "metadata": {},
   "source": [
    "| Parameter | Usage |\n",
    "| --- | --- |\n",
    "| name | Name of your distribution. |\n",
    "| version | Version string of your distribution. |\n",
    "| packages | List of Python packages (that is, directories containing modules) to include. This can be specified manually, but a call to setuptools.find_packages() is typically used instead.|\n",
    "| py_modules | List of top-level Python modules (that is, single .py files) to include. |"
   ]
  },
  {
   "cell_type": "markdown",
   "metadata": {},
   "source": [
    "### Section 90.1: Purpose of setup.py"
   ]
  },
  {
   "cell_type": "raw",
   "metadata": {},
   "source": [
    "The setup script is the centre of all activity in building, distributing, and installing modules using the Distutils. It's\n",
    "purpose is the correct installation of the software."
   ]
  },
  {
   "cell_type": "raw",
   "metadata": {},
   "source": [
    "If all you want to do is distribute a module called foo, contained in a file foo.py, then your setup script can be as\n",
    "simple as this:"
   ]
  },
  {
   "cell_type": "code",
   "execution_count": null,
   "metadata": {},
   "outputs": [],
   "source": [
    "from distutils.core import setup\n",
    "setup(name='foo',\n",
    "    version='1.0',\n",
    "    py_modules=['foo'],\n",
    ")"
   ]
  },
  {
   "cell_type": "raw",
   "metadata": {},
   "source": [
    "To create a source distribution for this module, you would create a setup script, setup.py, containing the above\n",
    "code, and run this command from a terminal:"
   ]
  },
  {
   "cell_type": "code",
   "execution_count": null,
   "metadata": {},
   "outputs": [],
   "source": [
    "python setup.py sdist"
   ]
  },
  {
   "cell_type": "raw",
   "metadata": {},
   "source": [
    "sdist will create an archive file (e.g., tarball on Unix, ZIP file on Windows) containing your setup script setup.py, and\n",
    "your module foo.py. The archive file will be named foo-1.0.tar.gz (or .zip), and will unpack into a directory foo-1.0."
   ]
  },
  {
   "cell_type": "raw",
   "metadata": {},
   "source": [
    "If an end-user wishes to install your foo module, all she has to do is download foo-1.0.tar.gz (or .zip), unpack it,\n",
    "and—from the foo-1.0 directory—run"
   ]
  },
  {
   "cell_type": "code",
   "execution_count": null,
   "metadata": {},
   "outputs": [],
   "source": [
    "python setup.py install"
   ]
  },
  {
   "cell_type": "markdown",
   "metadata": {},
   "source": [
    "### Section 90.2: Using source control metadata in setup.py"
   ]
  },
  {
   "cell_type": "raw",
   "metadata": {},
   "source": [
    "setuptools_scm is an officially-blessed package that can use Git or Mercurial metadata to determine the version\n",
    "number of your package, and find Python packages and package data to include in it."
   ]
  },
  {
   "cell_type": "code",
   "execution_count": null,
   "metadata": {},
   "outputs": [],
   "source": [
    "from setuptools import setup, find_packages\n",
    "setup(\n",
    "    setup_requires=['setuptools_scm'],\n",
    "    use_scm_version=True,\n",
    "    packages=find_packages(),\n",
    "    include_package_data=True,\n",
    ")"
   ]
  },
  {
   "cell_type": "raw",
   "metadata": {},
   "source": [
    "This example uses both features; to only use SCM metadata for the version, replace the call to find_packages()\n",
    "with your manual package list, or to only use the package finder, remove use_scm_version=True ."
   ]
  },
  {
   "cell_type": "markdown",
   "metadata": {},
   "source": [
    "### Section 90.3: Adding command line scripts to your python package"
   ]
  },
  {
   "cell_type": "raw",
   "metadata": {},
   "source": [
    "Command line scripts inside python packages are common. You can organise your package in such a way that\n",
    "when a user installs the package, the script will be available on their path."
   ]
  },
  {
   "cell_type": "raw",
   "metadata": {},
   "source": [
    "If you had the greetings package which had the command line script hello_world.py ."
   ]
  },
  {
   "cell_type": "code",
   "execution_count": null,
   "metadata": {},
   "outputs": [],
   "source": [
    "greetings/\n",
    "    greetings/\n",
    "        __init__.py\n",
    "        hello_world.py"
   ]
  },
  {
   "cell_type": "raw",
   "metadata": {},
   "source": [
    "You could run that script by running:"
   ]
  },
  {
   "cell_type": "raw",
   "metadata": {},
   "source": [
    "python greetings/greetings/hello_world.py"
   ]
  },
  {
   "cell_type": "raw",
   "metadata": {},
   "source": [
    "However if you would like to run it like so:"
   ]
  },
  {
   "cell_type": "code",
   "execution_count": null,
   "metadata": {},
   "outputs": [],
   "source": [
    "hello_world.py"
   ]
  },
  {
   "cell_type": "raw",
   "metadata": {},
   "source": [
    "You can achieve this by adding scripts to your setup() in setup.py like this:"
   ]
  },
  {
   "cell_type": "code",
   "execution_count": null,
   "metadata": {},
   "outputs": [],
   "source": [
    "from setuptools import setup\n",
    "setup(\n",
    "    name='greetings',\n",
    "    scripts=['hello_world.py']\n",
    ")"
   ]
  },
  {
   "cell_type": "raw",
   "metadata": {},
   "source": [
    "When you install the greetings package now, hello_world.py will be added to your path."
   ]
  },
  {
   "cell_type": "raw",
   "metadata": {},
   "source": [
    "Another possibility would be to add an entry point:"
   ]
  },
  {
   "cell_type": "code",
   "execution_count": null,
   "metadata": {},
   "outputs": [],
   "source": [
    "entry_points={'console_scripts': ['greetings=greetings.hello_world:main']}"
   ]
  },
  {
   "cell_type": "raw",
   "metadata": {},
   "source": [
    "This way you just have to run it like:"
   ]
  },
  {
   "cell_type": "code",
   "execution_count": null,
   "metadata": {},
   "outputs": [],
   "source": [
    "greetings"
   ]
  },
  {
   "cell_type": "markdown",
   "metadata": {},
   "source": [
    "### Section 90.4: Adding installation options"
   ]
  },
  {
   "cell_type": "raw",
   "metadata": {},
   "source": [
    "As seen in previous examples, basic use of this script is:"
   ]
  },
  {
   "cell_type": "code",
   "execution_count": null,
   "metadata": {},
   "outputs": [],
   "source": [
    "python setup.py install"
   ]
  },
  {
   "cell_type": "raw",
   "metadata": {},
   "source": [
    "But there is even more options, like installing the package and have the possibility to change the code and test it\n",
    "without having to re-install it. This is done using:"
   ]
  },
  {
   "cell_type": "code",
   "execution_count": null,
   "metadata": {},
   "outputs": [],
   "source": [
    "python setup.py develop"
   ]
  },
  {
   "cell_type": "raw",
   "metadata": {},
   "source": [
    "If you want to perform specific actions like compiling a Sphinx documentation or building fortran code, you can\n",
    "create your own option like this:"
   ]
  },
  {
   "cell_type": "code",
   "execution_count": null,
   "metadata": {},
   "outputs": [],
   "source": [
    "cmdclasses = dict()\n",
    "class BuildSphinx(Command):\n",
    "    \"\"\"Build Sphinx documentation.\"\"\"\n",
    "    description = 'Build Sphinx documentation'\n",
    "    user_options = []\n",
    "    def initialize_options(self):\n",
    "        pass\n",
    "    def finalize_options(self):\n",
    "        pass\n",
    "    def run(self):\n",
    "        import sphinx\n",
    "        sphinx.build_main(['setup.py', '-b', 'html', './doc', './doc/_build/html'])\n",
    "        sphinx.build_main(['setup.py', '-b', 'man', './doc', './doc/_build/man'])\n",
    "cmdclasses['build_sphinx'] = BuildSphinx\n",
    "setup(\n",
    "...\n",
    "cmdclass=cmdclasses,\n",
    ")"
   ]
  },
  {
   "cell_type": "raw",
   "metadata": {},
   "source": [
    "initialize_options and finalize_options will be executed before and after the run function as their names\n",
    "suggests it."
   ]
  },
  {
   "cell_type": "raw",
   "metadata": {},
   "source": [
    "After that, you will be able to call your option:"
   ]
  },
  {
   "cell_type": "code",
   "execution_count": null,
   "metadata": {},
   "outputs": [],
   "source": [
    "python setup.py build_sphinx"
   ]
  }
 ],
 "metadata": {
  "kernelspec": {
   "display_name": "Python [default]",
   "language": "python",
   "name": "python3"
  },
  "language_info": {
   "codemirror_mode": {
    "name": "ipython",
    "version": 3
   },
   "file_extension": ".py",
   "mimetype": "text/x-python",
   "name": "python",
   "nbconvert_exporter": "python",
   "pygments_lexer": "ipython3",
   "version": "3.6.3"
  }
 },
 "nbformat": 4,
 "nbformat_minor": 2
}
