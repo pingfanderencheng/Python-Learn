{
 "cells": [
  {
   "cell_type": "code",
   "execution_count": 1,
   "metadata": {},
   "outputs": [
    {
     "name": "stdout",
     "output_type": "stream",
     "text": [
      "Hello, world!\n"
     ]
    }
   ],
   "source": [
    "import asyncio\n",
    "async def main():\n",
    "    print(await func())\n",
    "async def func():\n",
    "    # Do time intensive stuff...\n",
    "    return \"Hello, world!\"\n",
    "if __name__ == \"__main__\":\n",
    "    loop = asyncio.get_event_loop()\n",
    "    loop.run_until_complete(main())"
   ]
  },
  {
   "cell_type": "code",
   "execution_count": 2,
   "metadata": {},
   "outputs": [
    {
     "name": "stdout",
     "output_type": "stream",
     "text": [
      "cor1 start\n",
      "cor2 start\n",
      "cor2 0\n",
      "cor1 0\n",
      "cor2 1\n",
      "cor1 1\n",
      "cor2 2\n",
      "cor2 3\n",
      "cor1 2\n",
      "cor2 4\n",
      "cor1 3\n",
      "cor2 5\n",
      "cor2 6\n",
      "cor1 4\n",
      "cor2 7\n",
      "cor1 5\n",
      "cor2 8\n",
      "cor2 9\n",
      "cor1 6\n",
      "cor2 10\n",
      "cor1 7\n",
      "cor2 11\n",
      "cor2 12\n",
      "cor1 8\n",
      "cor2 13\n",
      "cor1 9\n",
      "cor2 14\n"
     ]
    },
    {
     "data": {
      "text/plain": [
       "({<Task finished coro=<cor1() done, defined at <ipython-input-2-2d81c0648196>:2> result=None>,\n",
       "  <Task finished coro=<cor2() done, defined at <ipython-input-2-2d81c0648196>:7> result=None>},\n",
       " set())"
      ]
     },
     "execution_count": 2,
     "metadata": {},
     "output_type": "execute_result"
    }
   ],
   "source": [
    "import asyncio\n",
    "async def cor1():\n",
    "    print(\"cor1 start\")\n",
    "    for i in range(10):\n",
    "        await asyncio.sleep(1.5)\n",
    "        print(\"cor1\", i)\n",
    "async def cor2():\n",
    "    print(\"cor2 start\")\n",
    "    for i in range(15):\n",
    "        await asyncio.sleep(1)\n",
    "        print(\"cor2\", i)\n",
    "loop = asyncio.get_event_loop()\n",
    "cors = asyncio.wait([cor1(), cor2()])\n",
    "loop.run_until_complete(cors)"
   ]
  },
  {
   "cell_type": "code",
   "execution_count": 3,
   "metadata": {},
   "outputs": [
    {
     "name": "stdout",
     "output_type": "stream",
     "text": [
      "Hello, world!\n"
     ]
    }
   ],
   "source": [
    "import asyncio\n",
    "from concurrent.futures import ThreadPoolExecutor\n",
    "def func(a, b):\n",
    "    # Do time intensive stuff...\n",
    "    return a + b\n",
    "async def main(loop):\n",
    "    executor = ThreadPoolExecutor()\n",
    "    result = await loop.run_in_executor(executor, func, \"Hello,\", \" world!\")\n",
    "    print(result)\n",
    "if __name__ == \"__main__\":\n",
    "    loop = asyncio.get_event_loop()\n",
    "    loop.run_until_complete(main(loop))"
   ]
  },
  {
   "cell_type": "code",
   "execution_count": 4,
   "metadata": {},
   "outputs": [
    {
     "name": "stdout",
     "output_type": "stream",
     "text": [
      "Hello, world!\n"
     ]
    }
   ],
   "source": [
    "import asyncio\n",
    "from concurrent.futures import ThreadPoolExecutor\n",
    "def func(a, b):\n",
    "    # Do time intensive stuff...\n",
    "    return a + b\n",
    "async def main(loop):\n",
    "    # NOTE: Using `None` as the first parameter designates the `default` Executor.\n",
    "    result = await loop.run_in_executor(None, func, \"Hello,\", \" world!\")\n",
    "    print(result)\n",
    "if __name__ == \"__main__\":\n",
    "    loop = asyncio.get_event_loop()\n",
    "    loop.set_default_executor(ThreadPoolExecutor())\n",
    "    loop.run_until_complete(main(loop))"
   ]
  },
  {
   "cell_type": "code",
   "execution_count": 5,
   "metadata": {},
   "outputs": [
    {
     "ename": "ModuleNotFoundError",
     "evalue": "No module named 'uvloop'",
     "output_type": "error",
     "traceback": [
      "\u001b[1;31m---------------------------------------------------------------------------\u001b[0m",
      "\u001b[1;31mModuleNotFoundError\u001b[0m                       Traceback (most recent call last)",
      "\u001b[1;32m<ipython-input-5-6133ad1aa3fb>\u001b[0m in \u001b[0;36m<module>\u001b[1;34m()\u001b[0m\n\u001b[0;32m      1\u001b[0m \u001b[1;32mimport\u001b[0m \u001b[0masyncio\u001b[0m\u001b[1;33m\u001b[0m\u001b[0m\n\u001b[1;32m----> 2\u001b[1;33m \u001b[1;32mimport\u001b[0m \u001b[0muvloop\u001b[0m\u001b[1;33m\u001b[0m\u001b[0m\n\u001b[0m\u001b[0;32m      3\u001b[0m \u001b[1;32mif\u001b[0m \u001b[0m__name__\u001b[0m \u001b[1;33m==\u001b[0m \u001b[1;34m\"__main__\"\u001b[0m\u001b[1;33m:\u001b[0m\u001b[1;33m\u001b[0m\u001b[0m\n\u001b[0;32m      4\u001b[0m     \u001b[0masyncio\u001b[0m\u001b[1;33m.\u001b[0m\u001b[0mset_event_loop\u001b[0m\u001b[1;33m(\u001b[0m\u001b[0muvloop\u001b[0m\u001b[1;33m.\u001b[0m\u001b[0mnew_event_loop\u001b[0m\u001b[1;33m(\u001b[0m\u001b[1;33m)\u001b[0m\u001b[1;33m)\u001b[0m\u001b[1;33m\u001b[0m\u001b[0m\n",
      "\u001b[1;31mModuleNotFoundError\u001b[0m: No module named 'uvloop'"
     ]
    }
   ],
   "source": [
    "import asyncio\n",
    "import uvloop\n",
    "if __name__ == \"__main__\":\n",
    "    asyncio.set_event_loop(uvloop.new_event_loop())"
   ]
  },
  {
   "cell_type": "raw",
   "metadata": {},
   "source": [
    "uvloop is an implementation for the asyncio.AbstractEventLoop based on libuv (Used by nodejs). It is compliant\n",
    "with 99% of asyncio features and is much faster than the traditional asyncio.EventLoop . uvloop is currently not\n",
    "available on Windows, install it with pip install uvloop "
   ]
  },
  {
   "cell_type": "code",
   "execution_count": 7,
   "metadata": {},
   "outputs": [
    {
     "name": "stdout",
     "output_type": "stream",
     "text": [
      "Consumer B waiting\n",
      "Consumer A waiting\n",
      "EVENT SET\n",
      "Consumer B triggered\n",
      "Consumer A triggered\n"
     ]
    }
   ],
   "source": [
    "import asyncio\n",
    "import functools\n",
    "# event trigger function\n",
    "def trigger(event):\n",
    "    print('EVENT SET')\n",
    "    event.set() # wake up coroutines waiting\n",
    "# event consumers\n",
    "async def consumer_a(event):\n",
    "    consumer_name = 'Consumer A'\n",
    "    print('{} waiting'.format(consumer_name))\n",
    "    await event.wait()\n",
    "    print('{} triggered'.format(consumer_name))\n",
    "async def consumer_b(event):\n",
    "    consumer_name = 'Consumer B'\n",
    "    print('{} waiting'.format(consumer_name))\n",
    "    await event.wait()\n",
    "    print('{} triggered'.format(consumer_name))\n",
    "# event\n",
    "event = asyncio.Event()\n",
    "main_future = asyncio.wait([consumer_a(event),consumer_b(event)])\n",
    "# event loop\n",
    "event_loop = asyncio.get_event_loop()\n",
    "event_loop.call_later(0.1, functools.partial(trigger, event)) # trigger event in 0.1 sec\n",
    "# complete main_future\n",
    "done, pending = event_loop.run_until_complete(main_future)"
   ]
  },
  {
   "cell_type": "code",
   "execution_count": 9,
   "metadata": {},
   "outputs": [
    {
     "name": "stderr",
     "output_type": "stream",
     "text": [
      "Creating a client session outside of coroutine\n",
      "client_session: <aiohttp.client.ClientSession object at 0x000001B1056280B8>\n"
     ]
    },
    {
     "name": "stdout",
     "output_type": "stream",
     "text": [
      "Hello World!\n"
     ]
    }
   ],
   "source": [
    "import asyncio\n",
    "import aiohttp\n",
    "session = aiohttp.ClientSession() # handles the context manager\n",
    "class EchoWebsocket:\n",
    "    async def connect(self):\n",
    "        self.websocket = await session.ws_connect(\"wss://echo.websocket.org\")\n",
    "    async def send(self, message):\n",
    "        self.websocket.send_str(message)\n",
    "    async def receive(self):\n",
    "        result = (await self.websocket.receive())\n",
    "        return result.data\n",
    "async def main():\n",
    "    echo = EchoWebsocket()\n",
    "    await echo.connect()\n",
    "    await echo.send(\"Hello World!\")\n",
    "    print(await echo.receive()) # \"Hello World!\"\n",
    "if __name__ == '__main__':\n",
    "    # The main loop\n",
    "    loop = asyncio.get_event_loop()\n",
    "    loop.run_until_complete(main())"
   ]
  },
  {
   "cell_type": "code",
   "execution_count": null,
   "metadata": {},
   "outputs": [],
   "source": []
  }
 ],
 "metadata": {
  "kernelspec": {
   "display_name": "Python [default]",
   "language": "python",
   "name": "python3"
  },
  "language_info": {
   "codemirror_mode": {
    "name": "ipython",
    "version": 3
   },
   "file_extension": ".py",
   "mimetype": "text/x-python",
   "name": "python",
   "nbconvert_exporter": "python",
   "pygments_lexer": "ipython3",
   "version": "3.6.3"
  }
 },
 "nbformat": 4,
 "nbformat_minor": 2
}
