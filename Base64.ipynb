{
 "cells": [
  {
   "cell_type": "code",
   "execution_count": 1,
   "metadata": {},
   "outputs": [],
   "source": [
    "import base64\n",
    "s = \"Hello World!\"\n",
    "b = s.encode(\"UTF-8\")"
   ]
  },
  {
   "cell_type": "code",
   "execution_count": 2,
   "metadata": {},
   "outputs": [
    {
     "data": {
      "text/plain": [
       "b'Hello World!'"
      ]
     },
     "execution_count": 2,
     "metadata": {},
     "output_type": "execute_result"
    }
   ],
   "source": [
    "b"
   ]
  },
  {
   "cell_type": "code",
   "execution_count": 3,
   "metadata": {},
   "outputs": [
    {
     "name": "stdout",
     "output_type": "stream",
     "text": [
      "b'SGVsbG8gV29ybGQh'\n"
     ]
    }
   ],
   "source": [
    "e = base64.b64encode(b)\n",
    "print(e)"
   ]
  },
  {
   "cell_type": "code",
   "execution_count": 4,
   "metadata": {},
   "outputs": [
    {
     "name": "stdout",
     "output_type": "stream",
     "text": [
      "SGVsbG8gV29ybGQh\n"
     ]
    }
   ],
   "source": [
    "s = \"Hello World!\"\n",
    "b = s.encode(\"UTF-8\")\n",
    "e = base64.b64encode(b)\n",
    "s1 = e.decode(\"UTF-8\")\n",
    "print(s1)"
   ]
  },
  {
   "cell_type": "code",
   "execution_count": 5,
   "metadata": {},
   "outputs": [
    {
     "name": "stdout",
     "output_type": "stream",
     "text": [
      "Base64 Encoded: SGVsbG8gV29ybGQh\n",
      "Hello World!\n"
     ]
    }
   ],
   "source": [
    "import base64\n",
    "# Creating a string\n",
    "s = \"Hello World!\"\n",
    "# Encoding the string into bytes\n",
    "b = s.encode(\"UTF-8\")\n",
    "# Base64 Encode the bytes\n",
    "e = base64.b64encode(b)\n",
    "# Decoding the Base64 bytes to string\n",
    "s1 = e.decode(\"UTF-8\")\n",
    "# Printing Base64 encoded string\n",
    "print(\"Base64 Encoded:\", s1)\n",
    "# Encoding the Base64 encoded string into bytes\n",
    "b1 = s1.encode(\"UTF-8\")\n",
    "# Decoding the Base64 bytes\n",
    "d = base64.b64decode(b1)\n",
    "# Decoding the bytes to string\n",
    "s2 = d.decode(\"UTF-8\")\n",
    "print(s2)"
   ]
  },
  {
   "cell_type": "code",
   "execution_count": 6,
   "metadata": {},
   "outputs": [
    {
     "name": "stdout",
     "output_type": "stream",
     "text": [
      "Base32 Encoded: JBSWY3DPEBLW64TMMQQQ====\n",
      "Hello World!\n"
     ]
    }
   ],
   "source": [
    "import base64\n",
    "# Creating a string\n",
    "s = \"Hello World!\"\n",
    "# Encoding the string into bytes\n",
    "b = s.encode(\"UTF-8\")\n",
    "# Base32 Encode the bytes\n",
    "e = base64.b32encode(b)\n",
    "# Decoding the Base32 bytes to string\n",
    "s1 = e.decode(\"UTF-8\")\n",
    "# Printing Base32 encoded string\n",
    "print(\"Base32 Encoded:\", s1)\n",
    "# Encoding the Base32 encoded string into bytes\n",
    "b1 = s1.encode(\"UTF-8\")\n",
    "# Decoding the Base32 bytes\n",
    "d = base64.b32decode(b1)\n",
    "# Decoding the bytes to string\n",
    "s2 = d.decode(\"UTF-8\")\n",
    "print(s2)"
   ]
  },
  {
   "cell_type": "code",
   "execution_count": 8,
   "metadata": {},
   "outputs": [
    {
     "name": "stdout",
     "output_type": "stream",
     "text": [
      "Base16 Encoded: 48656C6C6F20576F726C6421\n",
      "Hello World!\n"
     ]
    }
   ],
   "source": [
    "import base64\n",
    "# Creating a string\n",
    "s = \"Hello World!\"\n",
    "# Encoding the string into bytes\n",
    "b = s.encode(\"UTF-8\")\n",
    "# Base16 Encode the bytes\n",
    "e = base64.b16encode(b)\n",
    "# Decoding the Base16 bytes to string\n",
    "s1 = e.decode(\"UTF-8\")\n",
    "# Printing Base16 encoded string\n",
    "print(\"Base16 Encoded:\", s1)\n",
    "# Encoding the Base16 encoded string into bytes\n",
    "b1 = s1.encode(\"UTF-8\")\n",
    "# Decoding the Base16 bytes\n",
    "d = base64.b16decode(b1)\n",
    "# Decoding the bytes to string\n",
    "s2 = d.decode(\"UTF-8\")\n",
    "print(s2)"
   ]
  },
  {
   "cell_type": "code",
   "execution_count": 9,
   "metadata": {},
   "outputs": [
    {
     "name": "stdout",
     "output_type": "stream",
     "text": [
      "ASCII85 Encoded: 87cURD]i,\"Ebo80\n",
      "Hello World!\n"
     ]
    }
   ],
   "source": [
    "import base64\n",
    "# Creating a string\n",
    "s = \"Hello World!\"\n",
    "# Encoding the string into bytes\n",
    "b = s.encode(\"UTF-8\")\n",
    "# ASCII85 Encode the bytes\n",
    "e = base64.a85encode(b)\n",
    "# Decoding the ASCII85 bytes to string\n",
    "s1 = e.decode(\"UTF-8\")\n",
    "# Printing ASCII85 encoded string\n",
    "print(\"ASCII85 Encoded:\", s1)\n",
    "# Encoding the ASCII85 encoded string into bytes\n",
    "b1 = s1.encode(\"UTF-8\")\n",
    "# Decoding the ASCII85 bytes\n",
    "d = base64.a85decode(b1)\n",
    "# Decoding the bytes to string\n",
    "s2 = d.decode(\"UTF-8\")\n",
    "print(s2)"
   ]
  },
  {
   "cell_type": "code",
   "execution_count": 10,
   "metadata": {},
   "outputs": [
    {
     "name": "stdout",
     "output_type": "stream",
     "text": [
      "Base85 Encoded: NM&qnZy;B1a%^NF\n",
      "Hello World!\n"
     ]
    }
   ],
   "source": [
    "import base64\n",
    "# Creating a string\n",
    "s = \"Hello World!\"\n",
    "# Encoding the string into bytes\n",
    "b = s.encode(\"UTF-8\")\n",
    "# Base85 Encode the bytes\n",
    "e = base64.b85encode(b)\n",
    "# Decoding the Base85 bytes to string\n",
    "s1 = e.decode(\"UTF-8\")\n",
    "# Printing Base85 encoded string\n",
    "print(\"Base85 Encoded:\", s1)\n",
    "# Encoding the Base85 encoded string into bytes\n",
    "b1 = s1.encode(\"UTF-8\")\n",
    "# Decoding the Base85 bytes\n",
    "d = base64.b85decode(b1)\n",
    "# Decoding the bytes to string\n",
    "s2 = d.decode(\"UTF-8\")\n",
    "print(s2)"
   ]
  },
  {
   "cell_type": "code",
   "execution_count": null,
   "metadata": {},
   "outputs": [],
   "source": []
  }
 ],
 "metadata": {
  "kernelspec": {
   "display_name": "Python [default]",
   "language": "python",
   "name": "python3"
  },
  "language_info": {
   "codemirror_mode": {
    "name": "ipython",
    "version": 3
   },
   "file_extension": ".py",
   "mimetype": "text/x-python",
   "name": "python",
   "nbconvert_exporter": "python",
   "pygments_lexer": "ipython3",
   "version": "3.6.3"
  }
 },
 "nbformat": 4,
 "nbformat_minor": 2
}
