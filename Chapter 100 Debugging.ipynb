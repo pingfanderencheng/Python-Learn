{
 "cells": [
  {
   "cell_type": "markdown",
   "metadata": {},
   "source": [
    "### Section 100.1: Via IPython and ipdb"
   ]
  },
  {
   "cell_type": "raw",
   "metadata": {},
   "source": [
    "If IPython (or Jupyter) are installed, the debugger can be invoked using:"
   ]
  },
  {
   "cell_type": "code",
   "execution_count": 6,
   "metadata": {},
   "outputs": [
    {
     "name": "stdout",
     "output_type": "stream",
     "text": [
      "--Call--\n",
      "> \u001b[1;32md:\\users\\songc\\anaconda3\\lib\\site-packages\\ipython\\core\\displayhook.py\u001b[0m(247)\u001b[0;36m__call__\u001b[1;34m()\u001b[0m\n",
      "\u001b[1;32m    246 \u001b[1;33m\u001b[1;33m\u001b[0m\u001b[0m\n",
      "\u001b[0m\u001b[1;32m--> 247 \u001b[1;33m    \u001b[1;32mdef\u001b[0m \u001b[0m__call__\u001b[0m\u001b[1;33m(\u001b[0m\u001b[0mself\u001b[0m\u001b[1;33m,\u001b[0m \u001b[0mresult\u001b[0m\u001b[1;33m=\u001b[0m\u001b[1;32mNone\u001b[0m\u001b[1;33m)\u001b[0m\u001b[1;33m:\u001b[0m\u001b[1;33m\u001b[0m\u001b[0m\n",
      "\u001b[0m\u001b[1;32m    248 \u001b[1;33m        \"\"\"Printing with history cache management.\n",
      "\u001b[0m\n"
     ]
    }
   ],
   "source": [
    "import ipdb\n",
    "ipdb.set_trace()"
   ]
  },
  {
   "cell_type": "raw",
   "metadata": {},
   "source": [
    "When reached, the code will exit and print:"
   ]
  },
  {
   "cell_type": "code",
   "execution_count": 7,
   "metadata": {},
   "outputs": [
    {
     "name": "stdout",
     "output_type": "stream",
     "text": [
      "--Return--\n",
      "None\n",
      "> \u001b[1;32m<ipython-input-7-e29c80098ceb>\u001b[0m(2)\u001b[0;36m<module>\u001b[1;34m()\u001b[0m\n",
      "\u001b[1;32m      1 \u001b[1;33m\u001b[1;32mimport\u001b[0m \u001b[0mipdb\u001b[0m\u001b[1;33m\u001b[0m\u001b[0m\n",
      "\u001b[0m\u001b[1;32m----> 2 \u001b[1;33m\u001b[0mipdb\u001b[0m\u001b[1;33m.\u001b[0m\u001b[0mset_trace\u001b[0m\u001b[1;33m(\u001b[0m\u001b[1;33m)\u001b[0m\u001b[1;33m\u001b[0m\u001b[0m\n",
      "\u001b[0m\u001b[1;32m      3 \u001b[1;33m\u001b[0mprint\u001b[0m\u001b[1;33m(\u001b[0m\u001b[1;34m\"Hello world!\"\u001b[0m\u001b[1;33m)\u001b[0m\u001b[1;33m\u001b[0m\u001b[0m\n",
      "\u001b[0m\n",
      "> \u001b[1;32md:\\users\\songc\\anaconda3\\lib\\site-packages\\ipython\\core\\interactiveshell.py\u001b[0m(2865)\u001b[0;36mrun_code\u001b[1;34m()\u001b[0m\n",
      "\u001b[1;32m   2864 \u001b[1;33m                \u001b[1;31m# Reset our crash handler in place\u001b[0m\u001b[1;33m\u001b[0m\u001b[1;33m\u001b[0m\u001b[0m\n",
      "\u001b[0m\u001b[1;32m-> 2865 \u001b[1;33m                \u001b[0msys\u001b[0m\u001b[1;33m.\u001b[0m\u001b[0mexcepthook\u001b[0m \u001b[1;33m=\u001b[0m \u001b[0mold_excepthook\u001b[0m\u001b[1;33m\u001b[0m\u001b[0m\n",
      "\u001b[0m\u001b[1;32m   2866 \u001b[1;33m        \u001b[1;32mexcept\u001b[0m \u001b[0mSystemExit\u001b[0m \u001b[1;32mas\u001b[0m \u001b[0me\u001b[0m\u001b[1;33m:\u001b[0m\u001b[1;33m\u001b[0m\u001b[0m\n",
      "\u001b[0m\n",
      "Hello world!\n"
     ]
    }
   ],
   "source": [
    "import ipdb\n",
    "ipdb.set_trace()\n",
    "print(\"Hello world!\")"
   ]
  },
  {
   "cell_type": "raw",
   "metadata": {},
   "source": [
    "Clearly, this means that one has to edit the code. There is a simpler way:"
   ]
  },
  {
   "cell_type": "code",
   "execution_count": 9,
   "metadata": {},
   "outputs": [],
   "source": [
    "import sys\n",
    "from IPython.core import ultratb\n",
    "sys.excepthook = ultratb.FormattedTB(mode='Verbose', color_scheme='Linux', call_pdb=1)"
   ]
  },
  {
   "cell_type": "raw",
   "metadata": {},
   "source": [
    "This will cause the debugger to be called if there is an uncaught exception raised."
   ]
  },
  {
   "cell_type": "markdown",
   "metadata": {},
   "source": [
    "### Section 100.2: The Python Debugger: Step-through Debugging with _pdb_"
   ]
  },
  {
   "cell_type": "raw",
   "metadata": {},
   "source": [
    "The Python Standard Library includes an interactive debugging library called pdb. pdb has extensive capabilities, the\n",
    "most commonly used being the ability to 'step-through' a program."
   ]
  },
  {
   "cell_type": "raw",
   "metadata": {},
   "source": [
    "To immediately enter into step-through debugging use:"
   ]
  },
  {
   "cell_type": "raw",
   "metadata": {},
   "source": [
    "python -m pdb <my_file.py>"
   ]
  },
  {
   "cell_type": "raw",
   "metadata": {},
   "source": [
    "This will start the debugger at the first line of the program."
   ]
  },
  {
   "cell_type": "raw",
   "metadata": {},
   "source": [
    "Usually you will want to target a specific section of the code for debugging. To do this we import the pdb library and\n",
    "use set_trace() to interrupt the flow of this troubled example code."
   ]
  },
  {
   "cell_type": "code",
   "execution_count": 4,
   "metadata": {},
   "outputs": [
    {
     "name": "stdout",
     "output_type": "stream",
     "text": [
      "> <ipython-input-4-4a68a153c8b4>(4)divide()\n",
      "-> return a/b\n",
      "1\n",
      "2\n",
      "<built-in function locals>\n",
      "1\n",
      "1\n",
      "<built-in function locals>\n",
      "*** NameError: name '__locals__' is not defined\n",
      "--Return--\n",
      "> <ipython-input-4-4a68a153c8b4>(4)divide()->0.5\n",
      "-> return a/b\n"
     ]
    },
    {
     "data": {
      "text/plain": [
       "0.5"
      ]
     },
     "execution_count": 4,
     "metadata": {},
     "output_type": "execute_result"
    }
   ],
   "source": [
    "import pdb\n",
    "def divide(a, b):\n",
    "    pdb.set_trace()\n",
    "    return a/b\n",
    "# What's wrong with this? Hint: 2 != 3\n",
    "divide(1, 2)"
   ]
  },
  {
   "cell_type": "raw",
   "metadata": {},
   "source": [
    "Often this command is used on one line so it can be commented out with a single # character"
   ]
  },
  {
   "cell_type": "raw",
   "metadata": {},
   "source": [
    "import pdf; pdb.set_trace()"
   ]
  },
  {
   "cell_type": "raw",
   "metadata": {},
   "source": [
    "At the (Pdb) prompt commands can be entered. These commands can be debugger commands or python. To print\n",
    "variables we can use p from the debugger, or python's print."
   ]
  },
  {
   "cell_type": "raw",
   "metadata": {},
   "source": [
    "(Pdb) p (a)\n",
    "1\n",
    "(Pdb) print a\n",
    "1"
   ]
  },
  {
   "cell_type": "raw",
   "metadata": {},
   "source": [
    "These are good debugger commands to know:"
   ]
  },
  {
   "cell_type": "raw",
   "metadata": {},
   "source": [
    "b <n> | <f>: set breakpoint at line *n* or function named *f*.\n",
    "# b 3\n",
    "# b divide\n",
    "b: show all breakpoints.\n",
    "c: continue until the next breakpoint.\n",
    "s: step through this line (will enter a function).\n",
    "n: step over this line (jumps over a function).\n",
    "r: continue until the current function returns.\n",
    "l: list a window of code around this line.\n",
    "p <var>: print variable named *var*.\n",
    "# p x\n",
    "q: quit debugger.\n",
    "bt: print the traceback of the current execution call stack\n",
    "up: move your scope up the function call stack to the caller of the current function\n",
    "down: Move your scope back down the function call stack one level\n",
    "step: Run the program until the next line of execution in the program, then return control back to the debugger\n",
    "next: run the program until the next line of execution in the current function, then return control\n",
    "back to the debugger\n",
    "return: run the program until the current function returns, then return control back to the debugger\n",
    "continue: continue running the program until the next breakpoint (or set_trace si called again)"
   ]
  },
  {
   "cell_type": "raw",
   "metadata": {},
   "source": [
    "The debugger can also evaluate python interactively:"
   ]
  },
  {
   "cell_type": "raw",
   "metadata": {},
   "source": [
    "return a/b\n",
    "(Pdb) p a+b\n",
    "3\n",
    "(Pdb) [ str(m) for m in [a,b]]\n",
    "['1', '2']\n",
    "(Pdb) [ d for d in xrange(5)]\n",
    "[0, 1, 2, 3, 4]"
   ]
  },
  {
   "cell_type": "raw",
   "metadata": {},
   "source": [
    "If any of your variable names coincide with the debugger commands, use an exclamation mark '!' before the var to\n",
    "explicitly refer to the variable and not the debugger command. For example, often it might so happen that you use\n",
    "the variable name 'c' for a counter, and you might want to print it while in the debugger. a simple 'c' command\n",
    "would continue execution till the next breakpoint. Instead use '!c' to print the value of the variable as follows:"
   ]
  },
  {
   "cell_type": "markdown",
   "metadata": {},
   "source": [
    "### Section 100.3: Remote debugger"
   ]
  },
  {
   "cell_type": "raw",
   "metadata": {},
   "source": [
    "Some times you need to debug python code which is executed by another process and and in this cases rpdb\n",
    "comes in handy."
   ]
  },
  {
   "cell_type": "raw",
   "metadata": {},
   "source": [
    "rpdb is a wrapper around pdb that re-routes stdin and stdout to a socket handler. By default it opens the\n",
    "debugger on port 4444"
   ]
  },
  {
   "cell_type": "raw",
   "metadata": {},
   "source": [
    "Usage:"
   ]
  },
  {
   "cell_type": "code",
   "execution_count": null,
   "metadata": {},
   "outputs": [],
   "source": [
    "# In the Python file you want to debug.\n",
    "import rpdb\n",
    "rpdb.set_trace()"
   ]
  },
  {
   "cell_type": "raw",
   "metadata": {},
   "source": [
    "And then you need run this in terminal to connect to this process."
   ]
  },
  {
   "cell_type": "code",
   "execution_count": null,
   "metadata": {},
   "outputs": [],
   "source": [
    "# Call in a terminal to see the output\n",
    "$ nc 127.0.0.1 4444"
   ]
  },
  {
   "cell_type": "raw",
   "metadata": {},
   "source": [
    "And you will get pdb promt"
   ]
  },
  {
   "cell_type": "raw",
   "metadata": {},
   "source": [
    "> /home/usr/ook.py(3)<module>()\n",
    "-> print(\"Hello world!\")\n",
    "(Pdb)"
   ]
  }
 ],
 "metadata": {
  "kernelspec": {
   "display_name": "Python [default]",
   "language": "python",
   "name": "python3"
  },
  "language_info": {
   "codemirror_mode": {
    "name": "ipython",
    "version": 3
   },
   "file_extension": ".py",
   "mimetype": "text/x-python",
   "name": "python",
   "nbconvert_exporter": "python",
   "pygments_lexer": "ipython3",
   "version": "3.6.3"
  }
 },
 "nbformat": 4,
 "nbformat_minor": 2
}
