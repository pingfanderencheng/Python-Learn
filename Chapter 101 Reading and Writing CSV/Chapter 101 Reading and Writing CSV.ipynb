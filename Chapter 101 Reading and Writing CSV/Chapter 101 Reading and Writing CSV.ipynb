{
 "cells": [
  {
   "cell_type": "markdown",
   "metadata": {},
   "source": [
    "### Section 101.1 Using pandas"
   ]
  },
  {
   "cell_type": "raw",
   "metadata": {},
   "source": [
    "Write a CSV file from a dict or a DataFrame ."
   ]
  },
  {
   "cell_type": "code",
   "execution_count": 2,
   "metadata": {},
   "outputs": [],
   "source": [
    "import pandas as pd\n",
    "d = {'a': (1, 101), 'b': (2, 202), 'c': (3, 303)}\n",
    "df = pd.DataFrame.from_dict(d, orient=\"index\")\n",
    "df.to_csv(\"data.csv\")"
   ]
  },
  {
   "cell_type": "raw",
   "metadata": {},
   "source": [
    "Read a CSV file as a DataFrame and convert it to a dict "
   ]
  },
  {
   "cell_type": "code",
   "execution_count": 3,
   "metadata": {},
   "outputs": [],
   "source": [
    "df = pd.read_csv(\"data.csv\")\n",
    "d = df.to_dict()"
   ]
  },
  {
   "cell_type": "code",
   "execution_count": 4,
   "metadata": {},
   "outputs": [
    {
     "data": {
      "text/plain": [
       "{'0': {0: 1, 1: 2, 2: 3},\n",
       " '1': {0: 101, 1: 202, 2: 303},\n",
       " 'Unnamed: 0': {0: 'a', 1: 'b', 2: 'c'}}"
      ]
     },
     "execution_count": 4,
     "metadata": {},
     "output_type": "execute_result"
    }
   ],
   "source": [
    "d"
   ]
  },
  {
   "cell_type": "markdown",
   "metadata": {},
   "source": [
    "### Section 101.2: Writing a TSV file"
   ]
  },
  {
   "cell_type": "code",
   "execution_count": 6,
   "metadata": {},
   "outputs": [],
   "source": [
    "import csv\n",
    "with open('output.tsv', 'wt') as out_file:\n",
    "    tsv_writer = csv.writer(out_file, delimiter='\\t')\n",
    "    tsv_writer.writerow(['name', 'field'])\n",
    "    tsv_writer.writerow(['Dijkstra', 'Computer Science'])\n",
    "    tsv_writer.writerow(['Shelah', 'Math'])\n",
    "    tsv_writer.writerow(['Aumann', 'Economic Sciences'])"
   ]
  },
  {
   "cell_type": "code",
   "execution_count": 11,
   "metadata": {},
   "outputs": [
    {
     "name": "stdout",
     "output_type": "stream",
     "text": [
      "name\tfield\n",
      "\n",
      "Dijkstra\tComputer Science\n",
      "\n",
      "Shelah\tMath\n",
      "\n",
      "Aumann\tEconomic Sciences\n",
      "\n"
     ]
    }
   ],
   "source": [
    "with open('output.tsv', 'r') as f:\n",
    "    for line in f.readlines():\n",
    "        print(line, end=\"\")"
   ]
  },
  {
   "cell_type": "code",
   "execution_count": null,
   "metadata": {},
   "outputs": [],
   "source": []
  }
 ],
 "metadata": {
  "kernelspec": {
   "display_name": "Python [default]",
   "language": "python",
   "name": "python3"
  },
  "language_info": {
   "codemirror_mode": {
    "name": "ipython",
    "version": 3
   },
   "file_extension": ".py",
   "mimetype": "text/x-python",
   "name": "python",
   "nbconvert_exporter": "python",
   "pygments_lexer": "ipython3",
   "version": "3.6.3"
  }
 },
 "nbformat": 4,
 "nbformat_minor": 2
}
