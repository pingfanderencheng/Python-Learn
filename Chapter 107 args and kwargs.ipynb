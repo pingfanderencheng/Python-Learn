{
 "cells": [
  {
   "cell_type": "markdown",
   "metadata": {},
   "source": [
    "### Section 107.1: Using **kwargs when writing functions"
   ]
  },
  {
   "cell_type": "raw",
   "metadata": {},
   "source": [
    "You can define a function that takes an arbitrary number of keyword (named) arguments by using the double star ** before a parameter name:"
   ]
  },
  {
   "cell_type": "code",
   "execution_count": 1,
   "metadata": {},
   "outputs": [],
   "source": [
    "def print_kwargs(**kwargs):\n",
    "    print(kwargs)"
   ]
  },
  {
   "cell_type": "raw",
   "metadata": {},
   "source": [
    "When calling the method, Python will construct a dictionary of all keyword arguments and make it available in the\n",
    "function body:"
   ]
  },
  {
   "cell_type": "code",
   "execution_count": 2,
   "metadata": {},
   "outputs": [
    {
     "name": "stdout",
     "output_type": "stream",
     "text": [
      "{'a': 'two', 'b': 3}\n"
     ]
    }
   ],
   "source": [
    "print_kwargs(a=\"two\", b=3)"
   ]
  },
  {
   "cell_type": "raw",
   "metadata": {},
   "source": [
    "Note that the **kwargs parameter in the function definition must always be the last parameter, and it will only match the arguments that were passed in after the previous ones."
   ]
  },
  {
   "cell_type": "code",
   "execution_count": 3,
   "metadata": {},
   "outputs": [
    {
     "name": "stdout",
     "output_type": "stream",
     "text": [
      "{'b': 3, 'c': 4}\n"
     ]
    }
   ],
   "source": [
    "def example(a, **kw):\n",
    "    print (kw)\n",
    "example(a=2, b=3, c=4)"
   ]
  },
  {
   "cell_type": "raw",
   "metadata": {},
   "source": [
    "Inside the function body, kwargs is manipulated in the same way as a dictionary; in order to access individual elements in kwargs you just loop through them as you would with a normal dictionary:"
   ]
  },
  {
   "cell_type": "code",
   "execution_count": 4,
   "metadata": {},
   "outputs": [],
   "source": [
    "def print_kwargs(**kwargs):\n",
    "    for key in kwargs:\n",
    "        print(\"key = {0}, value = {1}\".format(key, kwargs[key]))"
   ]
  },
  {
   "cell_type": "code",
   "execution_count": 5,
   "metadata": {},
   "outputs": [
    {
     "name": "stdout",
     "output_type": "stream",
     "text": [
      "key = a, value = two\n",
      "key = b, value = 1\n"
     ]
    }
   ],
   "source": [
    "print_kwargs(a = \"two\", b = 1)"
   ]
  },
  {
   "cell_type": "markdown",
   "metadata": {},
   "source": [
    "### Section 107.2: Using *args when writing functions"
   ]
  },
  {
   "cell_type": "raw",
   "metadata": {},
   "source": [
    "You can use the star * when writing a function to collect all positional (ie. unnamed) arguments in a tuple:"
   ]
  },
  {
   "cell_type": "code",
   "execution_count": 6,
   "metadata": {},
   "outputs": [],
   "source": [
    "def print_args(farg, *args):\n",
    "    print(\"formal arg: %s\" % farg)\n",
    "    for arg in args:\n",
    "        print(\"another positional arg: %s\" % arg)"
   ]
  },
  {
   "cell_type": "code",
   "execution_count": 7,
   "metadata": {},
   "outputs": [
    {
     "name": "stdout",
     "output_type": "stream",
     "text": [
      "formal arg: 1\n",
      "another positional arg: two\n",
      "another positional arg: 3\n"
     ]
    }
   ],
   "source": [
    "print_args(1, \"two\", 3)"
   ]
  },
  {
   "cell_type": "raw",
   "metadata": {},
   "source": [
    "In that call, farg will be assigned as always, and the two others will be fed into the args tuple, in the order they were received."
   ]
  },
  {
   "cell_type": "markdown",
   "metadata": {},
   "source": [
    "### Section 107.3: Populating kwarg values with a dictionary"
   ]
  },
  {
   "cell_type": "code",
   "execution_count": 8,
   "metadata": {},
   "outputs": [
    {
     "data": {
      "text/plain": [
       "'foobar'"
      ]
     },
     "execution_count": 8,
     "metadata": {},
     "output_type": "execute_result"
    }
   ],
   "source": [
    "def foobar(foo=None, bar=None):\n",
    "    return \"{}{}\".format(foo, bar)\n",
    "values = {\"foo\": \"foo\", \"bar\": \"bar\"}\n",
    "foobar(**values) # \"foobar\""
   ]
  },
  {
   "cell_type": "markdown",
   "metadata": {},
   "source": [
    "### Section 107.4: Keyword-only and Keyword-required arguments"
   ]
  },
  {
   "cell_type": "raw",
   "metadata": {},
   "source": [
    "Python 3 allows you to define function arguments which can only be assigned by keyword, even without default values. This is done by using star * to consume additional positional parameters without setting the keyword parameters. All arguments after the * are keyword-only (i.e. non-positional) arguments. Note that if keyword-only arguments aren't given a default, they are still required when calling the function."
   ]
  },
  {
   "cell_type": "code",
   "execution_count": 9,
   "metadata": {},
   "outputs": [],
   "source": [
    "def print_args(arg1, *args, keyword_required, keyword_only=True):\n",
    "    print(\"first positional arg: {}\".format(arg1))\n",
    "    for arg in args:\n",
    "        print(\"another positional arg: {}\".format(arg))\n",
    "    print(\"keyword_required value: {}\".format(keyword_required))\n",
    "    print(\"keyword_only value: {}\".format(keyword_only))"
   ]
  },
  {
   "cell_type": "code",
   "execution_count": 12,
   "metadata": {},
   "outputs": [
    {
     "ename": "TypeError",
     "evalue": "print_args() missing 1 required keyword-only argument: 'keyword_required'",
     "output_type": "error",
     "traceback": [
      "\u001b[1;31m---------------------------------------------------------------------------\u001b[0m",
      "\u001b[1;31mTypeError\u001b[0m                                 Traceback (most recent call last)",
      "\u001b[1;32m<ipython-input-12-99440f1d7f7e>\u001b[0m in \u001b[0;36m<module>\u001b[1;34m()\u001b[0m\n\u001b[1;32m----> 1\u001b[1;33m \u001b[0mprint_args\u001b[0m\u001b[1;33m(\u001b[0m\u001b[1;36m1\u001b[0m\u001b[1;33m,\u001b[0m \u001b[1;36m2\u001b[0m\u001b[1;33m,\u001b[0m \u001b[1;36m3\u001b[0m\u001b[1;33m,\u001b[0m \u001b[1;36m4\u001b[0m\u001b[1;33m)\u001b[0m\u001b[1;33m\u001b[0m\u001b[0m\n\u001b[0m",
      "\u001b[1;31mTypeError\u001b[0m: print_args() missing 1 required keyword-only argument: 'keyword_required'"
     ]
    }
   ],
   "source": [
    "print_args(1, 2, 3, 4)"
   ]
  },
  {
   "cell_type": "code",
   "execution_count": 13,
   "metadata": {},
   "outputs": [
    {
     "name": "stdout",
     "output_type": "stream",
     "text": [
      "first positional arg: 1\n",
      "another positional arg: 2\n",
      "another positional arg: 3\n",
      "keyword_required value: 4\n",
      "keyword_only value: True\n"
     ]
    }
   ],
   "source": [
    "print_args(1, 2, 3, keyword_required=4)"
   ]
  },
  {
   "cell_type": "markdown",
   "metadata": {},
   "source": [
    "### Section 107.5: Using **kwargs when calling functions"
   ]
  },
  {
   "cell_type": "raw",
   "metadata": {},
   "source": [
    "You can use a dictionary to assign values to the function's parameters; using parameters name as keys in the\n",
    "dictionary and the value of these arguments bound to each key:"
   ]
  },
  {
   "cell_type": "code",
   "execution_count": 15,
   "metadata": {},
   "outputs": [
    {
     "name": "stdout",
     "output_type": "stream",
     "text": [
      "arg1: 1\n",
      "arg2: two\n",
      "arg3: 3\n"
     ]
    }
   ],
   "source": [
    "def test_func(arg1, arg2, arg3): # Usual function with three arguments\n",
    "    print(\"arg1: %s\" % arg1)\n",
    "    print(\"arg2: %s\" % arg2)\n",
    "    print(\"arg3: %s\" % arg3)\n",
    "# Note that dictionaries are unordered, so we can switch arg2 and arg3. Only the names matter.\n",
    "kwargs = {\"arg3\": 3, \"arg2\": \"two\"}\n",
    "# Bind the first argument (ie. arg1) to 1, and use the kwargs dictionary to bind the others\n",
    "test_func(1, **kwargs)"
   ]
  },
  {
   "cell_type": "markdown",
   "metadata": {},
   "source": [
    "### Section 107.6: **kwargs and default values"
   ]
  },
  {
   "cell_type": "code",
   "execution_count": 17,
   "metadata": {},
   "outputs": [
    {
     "name": "stdout",
     "output_type": "stream",
     "text": [
      "0\n",
      "1\n"
     ]
    }
   ],
   "source": [
    "def fun(**kwargs):\n",
    "    print (kwargs.get('value', 0))\n",
    "fun()\n",
    "# print 0\n",
    "fun(value=1)"
   ]
  },
  {
   "cell_type": "markdown",
   "metadata": {},
   "source": [
    "### Section 107.7: Using *args when calling functions"
   ]
  },
  {
   "cell_type": "markdown",
   "metadata": {},
   "source": [
    "The effect of using the * operator on an argument when calling a function is that of unpacking the list or a tuple argument"
   ]
  },
  {
   "cell_type": "code",
   "execution_count": 18,
   "metadata": {},
   "outputs": [],
   "source": [
    "def print_args(arg1, arg2):\n",
    "    print(str(arg1) + str(arg2))"
   ]
  },
  {
   "cell_type": "code",
   "execution_count": 19,
   "metadata": {},
   "outputs": [
    {
     "name": "stdout",
     "output_type": "stream",
     "text": [
      "12\n",
      "34\n"
     ]
    }
   ],
   "source": [
    "a = [1,2]\n",
    "b = tuple([3,4])\n",
    "print_args(*a)\n",
    "# 12\n",
    "print_args(*b)"
   ]
  },
  {
   "cell_type": "raw",
   "metadata": {},
   "source": [
    "Note that the length of the starred argument need to be equal to the number of the function's arguments."
   ]
  },
  {
   "cell_type": "raw",
   "metadata": {},
   "source": [
    "A common python idiom is to use the unpacking operator * with the zip function to reverse its effects:"
   ]
  },
  {
   "cell_type": "code",
   "execution_count": 20,
   "metadata": {},
   "outputs": [],
   "source": [
    "a = [1,3,5,7,9]\n",
    "b = [2,4,6,8,10]\n",
    "zipped = zip(a,b)"
   ]
  },
  {
   "cell_type": "code",
   "execution_count": 30,
   "metadata": {},
   "outputs": [],
   "source": [
    "zipped = zip(a,b)"
   ]
  },
  {
   "cell_type": "code",
   "execution_count": 31,
   "metadata": {},
   "outputs": [],
   "source": [
    "zipped = list(zipped)"
   ]
  },
  {
   "cell_type": "code",
   "execution_count": 32,
   "metadata": {},
   "outputs": [
    {
     "data": {
      "text/plain": [
       "[(1, 2), (3, 4), (5, 6), (7, 8), (9, 10)]"
      ]
     },
     "execution_count": 32,
     "metadata": {},
     "output_type": "execute_result"
    }
   ],
   "source": [
    "zipped"
   ]
  },
  {
   "cell_type": "code",
   "execution_count": 33,
   "metadata": {},
   "outputs": [
    {
     "data": {
      "text/plain": [
       "[(1, 3, 5, 7, 9), (2, 4, 6, 8, 10)]"
      ]
     },
     "execution_count": 33,
     "metadata": {},
     "output_type": "execute_result"
    }
   ],
   "source": [
    "list(zip(*zipped))"
   ]
  },
  {
   "cell_type": "code",
   "execution_count": null,
   "metadata": {},
   "outputs": [],
   "source": []
  }
 ],
 "metadata": {
  "kernelspec": {
   "display_name": "Python [default]",
   "language": "python",
   "name": "python3"
  },
  "language_info": {
   "codemirror_mode": {
    "name": "ipython",
    "version": 3
   },
   "file_extension": ".py",
   "mimetype": "text/x-python",
   "name": "python",
   "nbconvert_exporter": "python",
   "pygments_lexer": "ipython3",
   "version": "3.6.3"
  }
 },
 "nbformat": 4,
 "nbformat_minor": 2
}
