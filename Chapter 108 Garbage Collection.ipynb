{
 "cells": [
  {
   "cell_type": "markdown",
   "metadata": {},
   "source": [
    "### Section 108.1: Reuse of primitive objects"
   ]
  },
  {
   "cell_type": "raw",
   "metadata": {},
   "source": [
    "An interesting thing to note which may help optimize your applications is that primitives are actually also refcounted under the hood. Let's take a look at numbers; for all integers between -5 and 256, Python always reuses the same object:"
   ]
  },
  {
   "cell_type": "code",
   "execution_count": 1,
   "metadata": {},
   "outputs": [
    {
     "data": {
      "text/plain": [
       "5423"
      ]
     },
     "execution_count": 1,
     "metadata": {},
     "output_type": "execute_result"
    }
   ],
   "source": [
    "import sys\n",
    "sys.getrefcount(1)"
   ]
  },
  {
   "cell_type": "code",
   "execution_count": 2,
   "metadata": {},
   "outputs": [],
   "source": [
    "a = 1"
   ]
  },
  {
   "cell_type": "code",
   "execution_count": 3,
   "metadata": {},
   "outputs": [],
   "source": [
    "b = 1"
   ]
  },
  {
   "cell_type": "code",
   "execution_count": 6,
   "metadata": {},
   "outputs": [
    {
     "data": {
      "text/plain": [
       "5016"
      ]
     },
     "execution_count": 6,
     "metadata": {},
     "output_type": "execute_result"
    }
   ],
   "source": [
    "sys.getrefcount(1)"
   ]
  },
  {
   "cell_type": "code",
   "execution_count": 7,
   "metadata": {},
   "outputs": [],
   "source": [
    "c = 1"
   ]
  },
  {
   "cell_type": "code",
   "execution_count": 25,
   "metadata": {},
   "outputs": [
    {
     "data": {
      "text/plain": [
       "5012"
      ]
     },
     "execution_count": 25,
     "metadata": {},
     "output_type": "execute_result"
    }
   ],
   "source": [
    "sys.getrefcount(1)"
   ]
  },
  {
   "cell_type": "code",
   "execution_count": 9,
   "metadata": {},
   "outputs": [],
   "source": [
    "d = 1"
   ]
  },
  {
   "cell_type": "raw",
   "metadata": {},
   "source": [
    "Note that the refcount increases, meaning that a and b reference the same underlying object when they refer to the\n",
    "1 primitive. However, for larger numbers, Python actually doesn't reuse the underlying object:"
   ]
  },
  {
   "cell_type": "code",
   "execution_count": 26,
   "metadata": {},
   "outputs": [
    {
     "data": {
      "text/plain": [
       "3"
      ]
     },
     "execution_count": 26,
     "metadata": {},
     "output_type": "execute_result"
    }
   ],
   "source": [
    "a = 999999999\n",
    "sys.getrefcount(999999999)"
   ]
  },
  {
   "cell_type": "code",
   "execution_count": 27,
   "metadata": {},
   "outputs": [
    {
     "data": {
      "text/plain": [
       "3"
      ]
     },
     "execution_count": 27,
     "metadata": {},
     "output_type": "execute_result"
    }
   ],
   "source": [
    "b = 999999999\n",
    "sys.getrefcount(999999999)"
   ]
  },
  {
   "cell_type": "raw",
   "metadata": {},
   "source": [
    "Because the refcount for 999999999 does not change when assigning it to a and b we can infer that they refer to two different underlying objects, even though they both are assigned the same primitive."
   ]
  },
  {
   "cell_type": "markdown",
   "metadata": {},
   "source": [
    "### Section 108.2: Effects of the del command"
   ]
  },
  {
   "cell_type": "raw",
   "metadata": {},
   "source": [
    "Removing a variable name from the scope using del v , or removing an object from a collection using del v[item] or del[i:j] , or removing an attribute using del v.name , or any other way of removing references to an object, does not trigger any destructor calls or any memory being freed in and of itself. Objects are only destructed when their reference count reaches zero."
   ]
  },
  {
   "cell_type": "code",
   "execution_count": 28,
   "metadata": {},
   "outputs": [],
   "source": [
    "import gc\n",
    "gc.disable()\n",
    "class Tack:\n",
    "    def __init__(self):\n",
    "        print(\"Initialized\")\n",
    "    def __del__(self):\n",
    "        print(\"Destructed\")"
   ]
  },
  {
   "cell_type": "code",
   "execution_count": 31,
   "metadata": {},
   "outputs": [],
   "source": [
    "def bar():\n",
    "    return Tack()"
   ]
  },
  {
   "cell_type": "code",
   "execution_count": 38,
   "metadata": {},
   "outputs": [
    {
     "name": "stdout",
     "output_type": "stream",
     "text": [
      "Initialized\n"
     ]
    }
   ],
   "source": [
    "t = bar()"
   ]
  },
  {
   "cell_type": "code",
   "execution_count": 39,
   "metadata": {},
   "outputs": [],
   "source": [
    "another_t = t"
   ]
  },
  {
   "cell_type": "code",
   "execution_count": 40,
   "metadata": {},
   "outputs": [],
   "source": [
    "del t"
   ]
  },
  {
   "cell_type": "code",
   "execution_count": 41,
   "metadata": {},
   "outputs": [
    {
     "name": "stdout",
     "output_type": "stream",
     "text": [
      "Destructed\n"
     ]
    }
   ],
   "source": [
    "del another_t"
   ]
  },
  {
   "cell_type": "code",
   "execution_count": 36,
   "metadata": {},
   "outputs": [
    {
     "name": "stdout",
     "output_type": "stream",
     "text": [
      "Initialized\n"
     ]
    }
   ],
   "source": [
    "mybar = bar()"
   ]
  },
  {
   "cell_type": "code",
   "execution_count": 37,
   "metadata": {},
   "outputs": [
    {
     "name": "stdout",
     "output_type": "stream",
     "text": [
      "Destructed\n"
     ]
    }
   ],
   "source": [
    "del mybar"
   ]
  },
  {
   "cell_type": "markdown",
   "metadata": {},
   "source": [
    "### Section 108.3: Reference Counting"
   ]
  },
  {
   "cell_type": "raw",
   "metadata": {},
   "source": [
    "The vast majority of Python memory management is handled with reference counting."
   ]
  },
  {
   "cell_type": "raw",
   "metadata": {},
   "source": [
    "Every time an object is referenced (e.g. assigned to a variable), its reference count is automatically increased. When it is dereferenced (e.g. variable goes out of scope), its reference count is automatically decreased."
   ]
  },
  {
   "cell_type": "raw",
   "metadata": {},
   "source": [
    "When the reference count reaches zero, the object is immediately destroyed and the memory is immediately freed. Thus for the majority of cases, the garbage collector is not even needed."
   ]
  },
  {
   "cell_type": "code",
   "execution_count": 42,
   "metadata": {},
   "outputs": [],
   "source": [
    "import gc; gc.disable() \n",
    "class Track:\n",
    "    def __init__(self):\n",
    "        print(\"Initialized\")\n",
    "    def __del__(self):\n",
    "        print(\"Destructed\")"
   ]
  },
  {
   "cell_type": "code",
   "execution_count": 43,
   "metadata": {},
   "outputs": [],
   "source": [
    "def foo():\n",
    "    Track()\n",
    "    # destructed immediately since no longer has any references\n",
    "    print(\"---\")\n",
    "    t = Track()\n",
    "    # variable is referenced, so it's not destructed yet\n",
    "    print(\"---\")\n",
    "    # variable is destructed when function exits"
   ]
  },
  {
   "cell_type": "code",
   "execution_count": 44,
   "metadata": {},
   "outputs": [
    {
     "name": "stdout",
     "output_type": "stream",
     "text": [
      "Initialized\n",
      "Destructed\n",
      "---\n",
      "Initialized\n",
      "---\n",
      "Destructed\n"
     ]
    }
   ],
   "source": [
    "foo()"
   ]
  },
  {
   "cell_type": "raw",
   "metadata": {},
   "source": [
    "To demonstrate further the concept of references:"
   ]
  },
  {
   "cell_type": "code",
   "execution_count": 46,
   "metadata": {},
   "outputs": [],
   "source": [
    "def bar():\n",
    "    return Track()"
   ]
  },
  {
   "cell_type": "code",
   "execution_count": 51,
   "metadata": {},
   "outputs": [
    {
     "name": "stdout",
     "output_type": "stream",
     "text": [
      "Initialized\n"
     ]
    }
   ],
   "source": [
    "t = bar()"
   ]
  },
  {
   "cell_type": "code",
   "execution_count": 52,
   "metadata": {},
   "outputs": [],
   "source": [
    "another_t = t"
   ]
  },
  {
   "cell_type": "code",
   "execution_count": 53,
   "metadata": {},
   "outputs": [],
   "source": [
    "t = None"
   ]
  },
  {
   "cell_type": "code",
   "execution_count": 54,
   "metadata": {},
   "outputs": [
    {
     "name": "stdout",
     "output_type": "stream",
     "text": [
      "Destructed\n"
     ]
    }
   ],
   "source": [
    "another_t = None"
   ]
  },
  {
   "cell_type": "markdown",
   "metadata": {},
   "source": [
    "### Section 108.4: Garbage Collector for Reference Cycles"
   ]
  },
  {
   "cell_type": "raw",
   "metadata": {},
   "source": [
    "The only time the garbage collector is needed is if you have a reference cycle. The simples example of a reference\n",
    "cycle is one in which A refers to B and B refers to A, while nothing else refers to either A or B. Neither A or B are\n",
    "accessible from anywhere in the program, so they can safely be destructed, yet their reference counts are 1 and so\n",
    "they cannot be freed by the reference counting algorithm alone."
   ]
  },
  {
   "cell_type": "code",
   "execution_count": 1,
   "metadata": {},
   "outputs": [],
   "source": [
    "import gc; gc.disable() # disable garbage collector\n",
    "class Track:\n",
    "    def __init__(self):\n",
    "        print(\"Initialized\")\n",
    "    def __del__(self):\n",
    "        print(\"Destructed\")"
   ]
  },
  {
   "cell_type": "code",
   "execution_count": 2,
   "metadata": {},
   "outputs": [
    {
     "name": "stdout",
     "output_type": "stream",
     "text": [
      "Initialized\n"
     ]
    }
   ],
   "source": [
    "A = Track()"
   ]
  },
  {
   "cell_type": "code",
   "execution_count": 3,
   "metadata": {},
   "outputs": [
    {
     "name": "stdout",
     "output_type": "stream",
     "text": [
      "Initialized\n"
     ]
    }
   ],
   "source": [
    "B = Track()"
   ]
  },
  {
   "cell_type": "code",
   "execution_count": 4,
   "metadata": {},
   "outputs": [],
   "source": [
    "A.other = B"
   ]
  },
  {
   "cell_type": "code",
   "execution_count": 5,
   "metadata": {},
   "outputs": [],
   "source": [
    "B.other = A"
   ]
  },
  {
   "cell_type": "code",
   "execution_count": 6,
   "metadata": {},
   "outputs": [],
   "source": [
    "del A; del B"
   ]
  },
  {
   "cell_type": "code",
   "execution_count": 7,
   "metadata": {},
   "outputs": [
    {
     "name": "stdout",
     "output_type": "stream",
     "text": [
      "Destructed\n",
      "Destructed\n"
     ]
    },
    {
     "data": {
      "text/plain": [
       "225"
      ]
     },
     "execution_count": 7,
     "metadata": {},
     "output_type": "execute_result"
    }
   ],
   "source": [
    "gc.collect()"
   ]
  },
  {
   "cell_type": "raw",
   "metadata": {},
   "source": [
    "A reference cycle can be arbitrary long. If A points to B points to C points to ... points to Z which points to A, then neither A through Z will be collected, until the garbage collection phase:"
   ]
  },
  {
   "cell_type": "code",
   "execution_count": 8,
   "metadata": {},
   "outputs": [
    {
     "name": "stdout",
     "output_type": "stream",
     "text": [
      "Initialized\n",
      "Initialized\n",
      "Initialized\n",
      "Initialized\n",
      "Initialized\n",
      "Initialized\n",
      "Initialized\n",
      "Initialized\n",
      "Initialized\n",
      "Initialized\n"
     ]
    }
   ],
   "source": [
    "objs = [Track() for _ in range(10)]"
   ]
  },
  {
   "cell_type": "code",
   "execution_count": 9,
   "metadata": {},
   "outputs": [],
   "source": [
    "for i in range(len(objs)-1):\n",
    "    objs[i].other = objs[ i + 1 ]"
   ]
  },
  {
   "cell_type": "code",
   "execution_count": 10,
   "metadata": {},
   "outputs": [],
   "source": [
    "objs[-1].other = objs[0]"
   ]
  },
  {
   "cell_type": "code",
   "execution_count": 11,
   "metadata": {},
   "outputs": [],
   "source": [
    "del objs"
   ]
  },
  {
   "cell_type": "code",
   "execution_count": 12,
   "metadata": {},
   "outputs": [
    {
     "name": "stdout",
     "output_type": "stream",
     "text": [
      "Destructed\n",
      "Destructed\n",
      "Destructed\n",
      "Destructed\n",
      "Destructed\n",
      "Destructed\n",
      "Destructed\n",
      "Destructed\n",
      "Destructed\n",
      "Destructed\n"
     ]
    },
    {
     "data": {
      "text/plain": [
       "5801"
      ]
     },
     "execution_count": 12,
     "metadata": {},
     "output_type": "execute_result"
    }
   ],
   "source": [
    "gc.collect()"
   ]
  },
  {
   "cell_type": "markdown",
   "metadata": {},
   "source": [
    "### Section 108.5: Forcefully deallocating objects"
   ]
  },
  {
   "cell_type": "raw",
   "metadata": {},
   "source": [
    "You can force deallocate objects even if their refcount isn't 0 in both Python 2 and 3."
   ]
  },
  {
   "cell_type": "raw",
   "metadata": {},
   "source": [
    "Both versions use the ctypes module to do so."
   ]
  },
  {
   "cell_type": "markdown",
   "metadata": {},
   "source": [
    "**WARNING**: doing this will leave your Python environment unstable and prone to crashing without a traceback!\n",
    "Using this method could also introduce security problems (quite unlikely) Only deallocate objects you're sure you'll\n",
    "never reference again. Ever."
   ]
  },
  {
   "cell_type": "raw",
   "metadata": {},
   "source": [
    "Python 3.x Version ≥ 3.0"
   ]
  },
  {
   "cell_type": "code",
   "execution_count": null,
   "metadata": {},
   "outputs": [],
   "source": [
    "import ctypes\n",
    "deallocated = 12345\n",
    "ctypes.pythonapi._Py_Dealloc(ctypes.py_object(deallocated))"
   ]
  },
  {
   "cell_type": "raw",
   "metadata": {},
   "source": [
    "Python 2.x Version ≥ 2.3"
   ]
  },
  {
   "cell_type": "raw",
   "metadata": {},
   "source": [
    "import ctypes, sys\n",
    "deallocated = 12345\n",
    "(ctypes.c_char * sys.getsizeof(deallocated)).from_address(id(deallocated))[:4] = '\\x00' * 4"
   ]
  },
  {
   "cell_type": "raw",
   "metadata": {},
   "source": [
    "After running, any reference to the now deallocated object will cause Python to either produce undefined behavior or crash - without a traceback. There was probably a reason why the garbage collector didn't remove that object..."
   ]
  },
  {
   "cell_type": "raw",
   "metadata": {},
   "source": [
    "If you deallocate None , you get a special message - Fatal Python error: deallocating None before crashing."
   ]
  },
  {
   "cell_type": "markdown",
   "metadata": {},
   "source": [
    "### Section 108.6: Viewing the refcount of an object"
   ]
  },
  {
   "cell_type": "code",
   "execution_count": 13,
   "metadata": {},
   "outputs": [
    {
     "data": {
      "text/plain": [
       "2"
      ]
     },
     "execution_count": 13,
     "metadata": {},
     "output_type": "execute_result"
    }
   ],
   "source": [
    "import sys\n",
    "a = object()\n",
    "sys.getrefcount(a)"
   ]
  },
  {
   "cell_type": "code",
   "execution_count": 14,
   "metadata": {},
   "outputs": [
    {
     "data": {
      "text/plain": [
       "3"
      ]
     },
     "execution_count": 14,
     "metadata": {},
     "output_type": "execute_result"
    }
   ],
   "source": [
    "b = a\n",
    "sys.getrefcount(a)"
   ]
  },
  {
   "cell_type": "code",
   "execution_count": 15,
   "metadata": {},
   "outputs": [],
   "source": [
    "del b"
   ]
  },
  {
   "cell_type": "code",
   "execution_count": 16,
   "metadata": {},
   "outputs": [
    {
     "data": {
      "text/plain": [
       "2"
      ]
     },
     "execution_count": 16,
     "metadata": {},
     "output_type": "execute_result"
    }
   ],
   "source": [
    "sys.getrefcount(a)"
   ]
  },
  {
   "cell_type": "markdown",
   "metadata": {},
   "source": [
    "### Section 108.7: Do not wait for the garbage collection to clean up"
   ]
  },
  {
   "cell_type": "raw",
   "metadata": {},
   "source": [
    "The fact that the garbage collection will clean up does not mean that you should wait for the garbage collection cycle to clean up."
   ]
  },
  {
   "cell_type": "raw",
   "metadata": {},
   "source": [
    "In particular you should not wait for garbage collection to close file handles, database connections and open network connections."
   ]
  },
  {
   "cell_type": "raw",
   "metadata": {},
   "source": [
    "for example:\n",
    "In the following code, you assume that the file will be closed on the next garbage collection cycle, if f was the last reference to the file."
   ]
  },
  {
   "cell_type": "raw",
   "metadata": {},
   "source": [
    ">>> f = open(\"test.txt\")\n",
    ">>> del "
   ]
  },
  {
   "cell_type": "raw",
   "metadata": {},
   "source": [
    "A more explicit way to clean up is to call f.close() . You can do it even more elegant, that is by using the with\n",
    "statement, also known as the context manager :"
   ]
  },
  {
   "cell_type": "raw",
   "metadata": {},
   "source": [
    ">>> with open(\"test.txt\") as f:\n",
    "... pass\n",
    "... # do something with f\n",
    ">>> #now the f object still exists, but it is closed"
   ]
  },
  {
   "cell_type": "raw",
   "metadata": {},
   "source": [
    "The with statement allows you to indent your code under the open file. This makes it explicit and easier to see how\n",
    "long a file is kept open. It also always closes a file, even if an exception is raised in the while block."
   ]
  },
  {
   "cell_type": "markdown",
   "metadata": {},
   "source": [
    "### Section 108.8: Managing garbage collection"
   ]
  },
  {
   "cell_type": "raw",
   "metadata": {},
   "source": [
    "There are two approaches for influencing when a memory cleanup is performed. They are influencing how often\n",
    "the automatic process is performed and the other is manually triggering a cleanup."
   ]
  },
  {
   "cell_type": "raw",
   "metadata": {},
   "source": [
    "The garbage collector can be manipulated by tuning the collection thresholds which affect the frequency at which\n",
    "the collector runs. Python uses a generation based memory management system. New objects are saved in the\n",
    "newest generation - generation0 and with each survived collection, objects are promoted to older generations.\n",
    "After reaching the last generation - generation2, they are no longer promoted."
   ]
  },
  {
   "cell_type": "raw",
   "metadata": {},
   "source": [
    "The thresholds can be changed using the following snippet:"
   ]
  },
  {
   "cell_type": "raw",
   "metadata": {},
   "source": [
    "import gc\n",
    "gc.set_threshold(1000, 100, 10) # Values are just for demonstration purpose"
   ]
  },
  {
   "cell_type": "raw",
   "metadata": {},
   "source": [
    "The first argument represents the threshold for collecting generation0. Every time the number of allocations\n",
    "exceeds the number of deallocations by 1000 the garbage collector will be called."
   ]
  },
  {
   "cell_type": "raw",
   "metadata": {},
   "source": [
    "The older generations are not cleaned at each run to optimize the process. The second and third arguments are\n",
    "optional and control how frequently the older generations are cleaned. If generation0 was processed 100 times\n",
    "without cleaning generation1, then generation1 will be processed. Similarly, objects in generation2 will be\n",
    "processed only when the ones in generation1 were cleaned 10 times without touching generation2."
   ]
  },
  {
   "cell_type": "raw",
   "metadata": {},
   "source": [
    "One instance in which manually setting the thresholds is beneficial is when the program allocates a lot of small\n",
    "objects without deallocating them which leads to the garbage collector running too often (each\n",
    "generation0_threshold object allocations). Even though, the collector is pretty fast, when it runs on huge numbers\n",
    "of objects it poses a performance issue. Anyway, there's no one size fits all strategy for choosing the thresholds and\n",
    "it's use case dependable."
   ]
  },
  {
   "cell_type": "raw",
   "metadata": {},
   "source": [
    "Manually triggering a collection can be done as in the following snippet:"
   ]
  },
  {
   "cell_type": "raw",
   "metadata": {},
   "source": [
    "import gc\n",
    "gc.collect()"
   ]
  },
  {
   "cell_type": "raw",
   "metadata": {},
   "source": [
    "The garbage collection is automatically triggered based on the number of allocations and deallocations, not on the\n",
    "consumed or available memory. Consequently, when working with big objects, the memory might get depleted\n",
    "before the automated cleanup is triggered. This makes a good use case for manually calling the garbage collector."
   ]
  },
  {
   "cell_type": "raw",
   "metadata": {},
   "source": [
    "Even though it's possible, it's not an encouraged practice. Avoiding memory leaks is the best option. Anyway, in big\n",
    "projects detecting the memory leak can be a though task and manually triggering a garbage collection can be used\n",
    "as a quick solution until further debugging."
   ]
  },
  {
   "cell_type": "raw",
   "metadata": {},
   "source": [
    "For long-running programs, the garbage collection can be triggered on a time basis or on an event basis. An\n",
    "example for the first one is a web server that triggers a collection after a fixed number of requests. For the later, a\n",
    "web server that triggers a garbage collection when a certain type of request is received."
   ]
  }
 ],
 "metadata": {
  "kernelspec": {
   "display_name": "Python [default]",
   "language": "python",
   "name": "python3"
  },
  "language_info": {
   "codemirror_mode": {
    "name": "ipython",
    "version": 3
   },
   "file_extension": ".py",
   "mimetype": "text/x-python",
   "name": "python",
   "nbconvert_exporter": "python",
   "pygments_lexer": "ipython3",
   "version": "3.6.3"
  }
 },
 "nbformat": 4,
 "nbformat_minor": 2
}
