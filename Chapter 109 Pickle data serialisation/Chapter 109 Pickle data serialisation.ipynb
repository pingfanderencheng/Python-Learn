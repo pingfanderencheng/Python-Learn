{
 "cells": [
  {
   "cell_type": "markdown",
   "metadata": {},
   "source": [
    "| Parameter | Details |\n",
    "| --- | --- |\n",
    "| object  | The object which is to be stored |\n",
    "| file | The open file which will contain the object |\n",
    "| protocol | The protocol used for pickling the object (optional parameter) |\n",
    "| buffer | A bytes object that contains a serialized object |"
   ]
  },
  {
   "cell_type": "markdown",
   "metadata": {},
   "source": [
    "### Section 109.1: Using Pickle to serialize and deserialize an object"
   ]
  },
  {
   "cell_type": "raw",
   "metadata": {},
   "source": [
    "The pickle module implements an algorithm for turning an arbitrary Python object into a series of bytes. This process is also called serializing the object. The byte stream representing the object can then be transmitted or stored, and later reconstructed to create a new object with the same characteristics."
   ]
  },
  {
   "cell_type": "raw",
   "metadata": {},
   "source": [
    "For the simplest code, we use the dump() and load() functions."
   ]
  },
  {
   "cell_type": "markdown",
   "metadata": {},
   "source": [
    "**To serialize the object**"
   ]
  },
  {
   "cell_type": "code",
   "execution_count": 1,
   "metadata": {},
   "outputs": [],
   "source": [
    "import pickle\n",
    "# An arbitrary collection of objects supported by pickle.\n",
    "data = {\n",
    "'a': [1, 2.0, 3, 4+6j],\n",
    "'b': (\"character string\", b\"byte string\"),\n",
    "'c': {None, True, False}\n",
    "}\n",
    "with open('data.pickle', 'wb') as f:\n",
    "    # Pickle the 'data' dictionary using the highest protocol available.\n",
    "    pickle.dump(data, f, pickle.HIGHEST_PROTOCOL)"
   ]
  },
  {
   "cell_type": "markdown",
   "metadata": {},
   "source": [
    "**To deserialize the object**"
   ]
  },
  {
   "cell_type": "code",
   "execution_count": 3,
   "metadata": {},
   "outputs": [],
   "source": [
    "import pickle\n",
    "with open('data.pickle', 'rb') as f:\n",
    "    # The protocol version used is detected automatically, so we do not\n",
    "    # have to specify it.\n",
    "    data = pickle.load(f)"
   ]
  },
  {
   "cell_type": "code",
   "execution_count": 4,
   "metadata": {},
   "outputs": [
    {
     "data": {
      "text/plain": [
       "{'a': [1, 2.0, 3, (4+6j)],\n",
       " 'b': ('character string', b'byte string'),\n",
       " 'c': {False, None, True}}"
      ]
     },
     "execution_count": 4,
     "metadata": {},
     "output_type": "execute_result"
    }
   ],
   "source": [
    "data"
   ]
  },
  {
   "cell_type": "markdown",
   "metadata": {},
   "source": [
    "**Using pickle and byte objects**"
   ]
  },
  {
   "cell_type": "raw",
   "metadata": {},
   "source": [
    "It is also possible to serialize into and deserialize out of byte objects, using the dumps and loads function, which are\n",
    "equivalent to dump and load ."
   ]
  },
  {
   "cell_type": "code",
   "execution_count": 5,
   "metadata": {},
   "outputs": [],
   "source": [
    "serialized_data = pickle.dumps(data, pickle.HIGHEST_PROTOCOL)\n",
    "# type(serialized_data) is bytes"
   ]
  },
  {
   "cell_type": "code",
   "execution_count": 6,
   "metadata": {},
   "outputs": [
    {
     "data": {
      "text/plain": [
       "bytes"
      ]
     },
     "execution_count": 6,
     "metadata": {},
     "output_type": "execute_result"
    }
   ],
   "source": [
    "type(serialized_data)"
   ]
  },
  {
   "cell_type": "code",
   "execution_count": 7,
   "metadata": {},
   "outputs": [],
   "source": [
    "deserialized_data = pickle.loads(serialized_data)\n",
    "# deserialized_data == data"
   ]
  },
  {
   "cell_type": "code",
   "execution_count": 8,
   "metadata": {},
   "outputs": [
    {
     "data": {
      "text/plain": [
       "True"
      ]
     },
     "execution_count": 8,
     "metadata": {},
     "output_type": "execute_result"
    }
   ],
   "source": [
    "deserialized_data == data"
   ]
  },
  {
   "cell_type": "code",
   "execution_count": 9,
   "metadata": {},
   "outputs": [
    {
     "data": {
      "text/plain": [
       "False"
      ]
     },
     "execution_count": 9,
     "metadata": {},
     "output_type": "execute_result"
    }
   ],
   "source": [
    "deserialized_data is data"
   ]
  },
  {
   "cell_type": "markdown",
   "metadata": {},
   "source": [
    "### Section 109.2: Customize Pickled Data"
   ]
  },
  {
   "cell_type": "raw",
   "metadata": {},
   "source": [
    "Some data cannot be pickled. Other data should not be pickled for other reasons."
   ]
  },
  {
   "cell_type": "raw",
   "metadata": {},
   "source": [
    "What will be pickled can be defined in __getstate__ method. This method must return something that is picklable."
   ]
  },
  {
   "cell_type": "raw",
   "metadata": {},
   "source": [
    "On the oposite side is __setstate__ : it will receive what __getstate__ created and has to initialize the object."
   ]
  },
  {
   "cell_type": "code",
   "execution_count": 10,
   "metadata": {},
   "outputs": [],
   "source": [
    "class A(object):\n",
    "    def __init__(self, important_data):\n",
    "        self.important_data = important_data\n",
    "        # Add data which cannot be pickled:\n",
    "        self.func = lambda: 7\n",
    "        # Add data which should never be pickled, because it expires quickly:\n",
    "        self.is_up_to_date = False\n",
    "    def __getstate__(self):\n",
    "        return [self.important_data] # only this is needed\n",
    "    def __setstate__(self, state):\n",
    "        self.important_data = state[0]\n",
    "        self.func = lambda: 7 # just some hard-coded unpicklable function\n",
    "        self.is_up_to_date = False # even if it was before pickling"
   ]
  },
  {
   "cell_type": "code",
   "execution_count": 11,
   "metadata": {},
   "outputs": [],
   "source": [
    "a1 = A('very important')"
   ]
  },
  {
   "cell_type": "code",
   "execution_count": 12,
   "metadata": {},
   "outputs": [],
   "source": [
    "s = pickle.dumps(a1)"
   ]
  },
  {
   "cell_type": "code",
   "execution_count": 13,
   "metadata": {},
   "outputs": [],
   "source": [
    "a2 = pickle.loads(s)"
   ]
  },
  {
   "cell_type": "code",
   "execution_count": 14,
   "metadata": {},
   "outputs": [
    {
     "data": {
      "text/plain": [
       "<__main__.A at 0x250d73a0080>"
      ]
     },
     "execution_count": 14,
     "metadata": {},
     "output_type": "execute_result"
    }
   ],
   "source": [
    "a2"
   ]
  },
  {
   "cell_type": "code",
   "execution_count": 15,
   "metadata": {},
   "outputs": [
    {
     "data": {
      "text/plain": [
       "'very important'"
      ]
     },
     "execution_count": 15,
     "metadata": {},
     "output_type": "execute_result"
    }
   ],
   "source": [
    "a2.important_data"
   ]
  },
  {
   "cell_type": "code",
   "execution_count": 16,
   "metadata": {},
   "outputs": [
    {
     "data": {
      "text/plain": [
       "7"
      ]
     },
     "execution_count": 16,
     "metadata": {},
     "output_type": "execute_result"
    }
   ],
   "source": [
    "a2.func()"
   ]
  },
  {
   "cell_type": "raw",
   "metadata": {},
   "source": [
    "The implementation here pikles a list with one value: [self.important_data] . That was just an example,\n",
    "__getstate__ could have returned anything that is picklable, as long as __setstate__ knows how to do the\n",
    "oppoisite. A good alternative is a dictionary of all values: {'important_data': self.important_data} ."
   ]
  },
  {
   "cell_type": "markdown",
   "metadata": {},
   "source": [
    "**Constructor is not called! **"
   ]
  },
  {
   "cell_type": "raw",
   "metadata": {},
   "source": [
    "Note that in the previous example instance a2 was created in pickle.loads without\n",
    "ever calling A.__init__ , so A.__setstate__ had to initialize everything that __init__ would have initialized if it\n",
    "were called."
   ]
  },
  {
   "cell_type": "code",
   "execution_count": null,
   "metadata": {},
   "outputs": [],
   "source": []
  }
 ],
 "metadata": {
  "kernelspec": {
   "display_name": "Python [default]",
   "language": "python",
   "name": "python3"
  },
  "language_info": {
   "codemirror_mode": {
    "name": "ipython",
    "version": 3
   },
   "file_extension": ".py",
   "mimetype": "text/x-python",
   "name": "python",
   "nbconvert_exporter": "python",
   "pygments_lexer": "ipython3",
   "version": "3.6.3"
  }
 },
 "nbformat": 4,
 "nbformat_minor": 2
}
