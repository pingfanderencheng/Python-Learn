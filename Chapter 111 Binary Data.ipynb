{
 "cells": [
  {
   "cell_type": "markdown",
   "metadata": {},
   "source": [
    "### Section 111.1: Format a list of values into a byte object"
   ]
  },
  {
   "cell_type": "code",
   "execution_count": 1,
   "metadata": {},
   "outputs": [
    {
     "name": "stdout",
     "output_type": "stream",
     "text": [
      "b'{\\x00\\x00\\x00abc'\n"
     ]
    }
   ],
   "source": [
    "from struct import pack\n",
    "print(pack('I3c', 123, b'a', b'b', b'c')) # b'{\\x00\\x00\\x00abc'"
   ]
  },
  {
   "cell_type": "markdown",
   "metadata": {},
   "source": [
    "### Section 111.2: Unpack a byte object according to a format string"
   ]
  },
  {
   "cell_type": "code",
   "execution_count": 2,
   "metadata": {},
   "outputs": [
    {
     "name": "stdout",
     "output_type": "stream",
     "text": [
      "(123, b'a', b'b', b'c')\n"
     ]
    }
   ],
   "source": [
    "from struct import unpack\n",
    "print(unpack('I3c', b'{\\x00\\x00\\x00abc')) # (123, b'a', b'b', b'c')"
   ]
  },
  {
   "cell_type": "markdown",
   "metadata": {},
   "source": [
    "### Section 111.3: Packing a structure"
   ]
  },
  {
   "cell_type": "raw",
   "metadata": {},
   "source": [
    "The module \"struct\" provides facility to pack python objects as contiguous chunk of bytes or dissemble a chunk of\n",
    "bytes to python structures."
   ]
  },
  {
   "cell_type": "raw",
   "metadata": {},
   "source": [
    "The pack function takes a format string and one or more arguments, and returns a binary string. This looks very\n",
    "much like you are formatting a string except that the output is not a string but a chunk of bytes."
   ]
  },
  {
   "cell_type": "code",
   "execution_count": 6,
   "metadata": {},
   "outputs": [
    {
     "name": "stdout",
     "output_type": "stream",
     "text": [
      "Native byteorder:  little\n",
      "Byte chunk:  b'\\x03\\x00\\x00\\x00\\x04\\x00\\x05'\n",
      "Byte chunk unpacked:  (3, 4, 5)\n",
      "Byte chunk:  b'\\x03\\x00\\x00\\x00\\x04\\x00\\x05\\x00'\n"
     ]
    }
   ],
   "source": [
    "import struct\n",
    "import sys\n",
    "print (\"Native byteorder: \", sys.byteorder)\n",
    "# If no byteorder is specified, native byteorder is used\n",
    "buffer = struct.pack(\"ihb\", 3, 4, 5)\n",
    "print (\"Byte chunk: \", repr(buffer))\n",
    "print (\"Byte chunk unpacked: \", struct.unpack(\"ihb\", buffer))\n",
    "# Last element as unsigned short instead of unsigned char ( 2 Bytes)\n",
    "buffer = struct.pack(\"ihh\", 3, 4, 5)\n",
    "print (\"Byte chunk: \", repr(buffer))"
   ]
  },
  {
   "cell_type": "raw",
   "metadata": {},
   "source": [
    "You could use network byte order with data received from network or pack data to send it to network."
   ]
  },
  {
   "cell_type": "code",
   "execution_count": 7,
   "metadata": {},
   "outputs": [
    {
     "name": "stdout",
     "output_type": "stream",
     "text": [
      "Byte chunk native byte order:  b'\\x03\\x00\\x04\\x00\\x05\\x00'\n",
      "Byte chunk network byte order:  b'\\x00\\x03\\x00\\x04\\x00\\x05'\n"
     ]
    }
   ],
   "source": [
    "import struct\n",
    "# If no byteorder is specified, native byteorder is used\n",
    "buffer = struct.pack(\"hhh\", 3, 4, 5)\n",
    "print (\"Byte chunk native byte order: \", repr(buffer))\n",
    "buffer = struct.pack(\"!hhh\", 3, 4, 5)\n",
    "print (\"Byte chunk network byte order: \", repr(buffer))"
   ]
  },
  {
   "cell_type": "raw",
   "metadata": {},
   "source": [
    "You can optimize by avoiding the overhead of allocating a new buffer by providing a buffer that was created earlier."
   ]
  },
  {
   "cell_type": "code",
   "execution_count": 8,
   "metadata": {},
   "outputs": [
    {
     "name": "stdout",
     "output_type": "stream",
     "text": [
      "Byte chunk:  b'\\x03\\x00\\x04\\x00\\x05\\x00\\x00\\x00'\n",
      "Byte chunk:  b'\\x00\\x00\\x03\\x00\\x04\\x00\\x05\\x00'\n"
     ]
    }
   ],
   "source": [
    "import struct\n",
    "from ctypes import create_string_buffer\n",
    "bufferVar = create_string_buffer(8)\n",
    "bufferVar2 = create_string_buffer(8)\n",
    "# We use a buffer that has already been created\n",
    "# provide format, buffer, offset and data\n",
    "struct.pack_into(\"hhh\", bufferVar, 0, 3, 4, 5)\n",
    "print (\"Byte chunk: \", repr(bufferVar.raw))\n",
    "struct.pack_into(\"hhh\", bufferVar2, 2, 3, 4, 5)\n",
    "print (\"Byte chunk: \", repr(bufferVar2.raw))"
   ]
  },
  {
   "cell_type": "code",
   "execution_count": null,
   "metadata": {},
   "outputs": [],
   "source": []
  }
 ],
 "metadata": {
  "kernelspec": {
   "display_name": "Python [default]",
   "language": "python",
   "name": "python3"
  },
  "language_info": {
   "codemirror_mode": {
    "name": "ipython",
    "version": 3
   },
   "file_extension": ".py",
   "mimetype": "text/x-python",
   "name": "python",
   "nbconvert_exporter": "python",
   "pygments_lexer": "ipython3",
   "version": "3.6.3"
  }
 },
 "nbformat": 4,
 "nbformat_minor": 2
}
