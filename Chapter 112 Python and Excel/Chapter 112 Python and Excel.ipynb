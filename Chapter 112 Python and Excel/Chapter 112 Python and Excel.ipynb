{
 "cells": [
  {
   "cell_type": "markdown",
   "metadata": {},
   "source": [
    "### Section 112.1: Read the excel data using xlrd module"
   ]
  },
  {
   "cell_type": "raw",
   "metadata": {},
   "source": [
    "Reading an excel sheet: Import xlrd module and open excel file using open_workbook() method."
   ]
  },
  {
   "cell_type": "code",
   "execution_count": 1,
   "metadata": {},
   "outputs": [],
   "source": [
    "import xlrd\n",
    "book=xlrd.open_workbook('sample.xlsx')"
   ]
  },
  {
   "cell_type": "code",
   "execution_count": 2,
   "metadata": {},
   "outputs": [
    {
     "data": {
      "text/plain": [
       "1"
      ]
     },
     "execution_count": 2,
     "metadata": {},
     "output_type": "execute_result"
    }
   ],
   "source": [
    "book.nsheets"
   ]
  },
  {
   "cell_type": "code",
   "execution_count": 3,
   "metadata": {},
   "outputs": [
    {
     "data": {
      "text/plain": [
       "['Sheet1']"
      ]
     },
     "execution_count": 3,
     "metadata": {},
     "output_type": "execute_result"
    }
   ],
   "source": [
    "book.sheet_names()"
   ]
  },
  {
   "cell_type": "code",
   "execution_count": 5,
   "metadata": {},
   "outputs": [],
   "source": [
    "sheet = book.sheet_by_index(0)"
   ]
  },
  {
   "cell_type": "code",
   "execution_count": 6,
   "metadata": {},
   "outputs": [],
   "source": [
    "cell = sheet.cell(2,5)"
   ]
  },
  {
   "cell_type": "code",
   "execution_count": 7,
   "metadata": {},
   "outputs": [
    {
     "data": {
      "text/plain": [
       "1.0"
      ]
     },
     "execution_count": 7,
     "metadata": {},
     "output_type": "execute_result"
    }
   ],
   "source": [
    "cell.value"
   ]
  },
  {
   "cell_type": "markdown",
   "metadata": {},
   "source": [
    "**Get number of rows and number of columns in an excel sheet**"
   ]
  },
  {
   "cell_type": "code",
   "execution_count": 8,
   "metadata": {},
   "outputs": [
    {
     "data": {
      "text/plain": [
       "105"
      ]
     },
     "execution_count": 8,
     "metadata": {},
     "output_type": "execute_result"
    }
   ],
   "source": [
    "sheet.nrows"
   ]
  },
  {
   "cell_type": "code",
   "execution_count": 9,
   "metadata": {},
   "outputs": [
    {
     "data": {
      "text/plain": [
       "507"
      ]
     },
     "execution_count": 9,
     "metadata": {},
     "output_type": "execute_result"
    }
   ],
   "source": [
    "sheet.ncols"
   ]
  },
  {
   "cell_type": "markdown",
   "metadata": {},
   "source": [
    "**Get excel sheet by name**"
   ]
  },
  {
   "cell_type": "code",
   "execution_count": 10,
   "metadata": {},
   "outputs": [],
   "source": [
    "sheets = book.sheet_names()\n",
    "cur_sheet = book.sheet_by_name(sheets[0])"
   ]
  },
  {
   "cell_type": "markdown",
   "metadata": {},
   "source": [
    "### Section 112.2: Format Excel files with xlsxwriter"
   ]
  },
  {
   "cell_type": "code",
   "execution_count": 13,
   "metadata": {},
   "outputs": [],
   "source": [
    "import xlsxwriter\n",
    "# create a new file\n",
    "workbook = xlsxwriter.Workbook('your_file.xlsx')\n",
    "# add some new formats to be used by the workbook\n",
    "percent_format = workbook.add_format({'num_format': '0%'})\n",
    "percent_with_decimal = workbook.add_format({'num_format': '0.0%'})\n",
    "bold = workbook.add_format({'bold': True})\n",
    "red_font = workbook.add_format({'font_color': 'red'})\n",
    "remove_format = workbook.add_format()\n",
    "# add a new sheet\n",
    "worksheet = workbook.add_worksheet()\n",
    "# set the width of column A\n",
    "worksheet.set_column('A:A', 30, )\n",
    "# set column B to 20 and include the percent format we created earlier\n",
    "worksheet.set_column('B:B', 20, percent_format)\n",
    "# remove formatting from the first row (change in height=None)\n",
    "# worksheet.set_row('0:0', None, remove_format)\n",
    "workbook.close()"
   ]
  },
  {
   "cell_type": "markdown",
   "metadata": {},
   "source": [
    "### Section 112.3: Put list data into a Excel's file"
   ]
  },
  {
   "cell_type": "code",
   "execution_count": 15,
   "metadata": {},
   "outputs": [],
   "source": [
    "import os, sys\n",
    "from openpyxl import Workbook\n",
    "from datetime import datetime\n",
    "dt = datetime.now()\n",
    "list_values = [[\"01/01/2016\", \"05:00:00\", 3], \\\n",
    "[\"01/02/2016\", \"06:00:00\", 4], \\\n",
    "[\"01/03/2016\", \"07:00:00\", 5], \\\n",
    "[\"01/04/2016\", \"08:00:00\", 6], \\\n",
    "[\"01/05/2016\", \"09:00:00\", 7]]\n",
    "# Create a Workbook on Excel:\n",
    "wb = Workbook()\n",
    "sheet = wb.active\n",
    "sheet.title = 'data'\n",
    "# Print the titles into Excel Workbook:\n",
    "row = 1\n",
    "sheet['A'+str(row)] = 'Date'\n",
    "sheet['B'+str(row)] = 'Hour'\n",
    "sheet['C'+str(row)] = 'Value'\n",
    "# Populate with data\n",
    "for item in list_values:\n",
    "    row += 1\n",
    "    sheet['A'+str(row)] = item[0]\n",
    "    sheet['B'+str(row)] = item[1]\n",
    "    sheet['C'+str(row)] = item[2]\n",
    "# Save a file by date:\n",
    "filename = 'data_' + dt.strftime(\"%Y%m%d_%I%M%S\") + '.xlsx'\n",
    "wb.save(filename)"
   ]
  },
  {
   "cell_type": "markdown",
   "metadata": {},
   "source": [
    "### Section 112.4: OpenPyXL"
   ]
  },
  {
   "cell_type": "raw",
   "metadata": {},
   "source": [
    "OpenPyXL is a module for manipulating and creating xlsx/xlsm/xltx/xltm workbooks in memory."
   ]
  },
  {
   "cell_type": "raw",
   "metadata": {},
   "source": [
    "Manipulating and reading an existing workbook:"
   ]
  },
  {
   "cell_type": "code",
   "execution_count": 16,
   "metadata": {},
   "outputs": [],
   "source": [
    "import openpyxl as opx\n",
    "#To change an existing wookbook we located it by referencing its path\n",
    "workbook = opx.load_workbook(\"sample.xlsx\")"
   ]
  },
  {
   "cell_type": "raw",
   "metadata": {},
   "source": [
    "load_workbook() contains the parameter read_only , setting this to True will load the workbook as read_only, this is\n",
    "helpful when reading larger xlsx files:"
   ]
  },
  {
   "cell_type": "code",
   "execution_count": 17,
   "metadata": {},
   "outputs": [],
   "source": [
    "workbook = opx.load_workbook(\"sample.xlsx\", read_only=True)"
   ]
  },
  {
   "cell_type": "raw",
   "metadata": {},
   "source": [
    "Once you have loaded the workbook into memory, you can access the individual sheets using workbook.sheets"
   ]
  },
  {
   "cell_type": "code",
   "execution_count": 18,
   "metadata": {},
   "outputs": [],
   "source": [
    "first_sheet = workbook.worksheets[0]"
   ]
  },
  {
   "cell_type": "raw",
   "metadata": {},
   "source": [
    "If you want to specify the name of an available sheets, you can use workbook.get_sheet_names() ."
   ]
  },
  {
   "cell_type": "code",
   "execution_count": 19,
   "metadata": {},
   "outputs": [],
   "source": [
    "sheet = workbook.get_sheet_by_name('Sheet1')"
   ]
  },
  {
   "cell_type": "raw",
   "metadata": {},
   "source": [
    "Finally, the rows of the sheet can be accessed using sheet.rows . To iterate over the rows in a sheet, use:"
   ]
  },
  {
   "cell_type": "code",
   "execution_count": 20,
   "metadata": {},
   "outputs": [
    {
     "name": "stdout",
     "output_type": "stream",
     "text": [
      "None\n",
      "0\n",
      "1\n",
      "2\n",
      "3\n",
      "4\n",
      "5\n",
      "6\n",
      "7\n",
      "8\n",
      "9\n",
      "10\n",
      "11\n",
      "12\n",
      "13\n",
      "14\n",
      "15\n",
      "16\n",
      "17\n",
      "18\n",
      "19\n",
      "20\n",
      "21\n",
      "22\n",
      "23\n",
      "24\n",
      "25\n",
      "26\n",
      "27\n",
      "28\n",
      "29\n",
      "30\n",
      "31\n",
      "32\n",
      "33\n",
      "34\n",
      "35\n",
      "36\n",
      "37\n",
      "38\n",
      "39\n",
      "40\n",
      "41\n",
      "42\n",
      "43\n",
      "44\n",
      "45\n",
      "46\n",
      "47\n",
      "48\n",
      "49\n",
      "50\n",
      "51\n",
      "52\n",
      "53\n",
      "54\n",
      "55\n",
      "56\n",
      "57\n",
      "58\n",
      "59\n",
      "60\n",
      "61\n",
      "62\n",
      "63\n",
      "64\n",
      "65\n",
      "66\n",
      "67\n",
      "68\n",
      "69\n",
      "70\n",
      "71\n",
      "72\n",
      "73\n",
      "74\n",
      "75\n",
      "76\n",
      "77\n",
      "78\n",
      "79\n",
      "80\n",
      "81\n",
      "82\n",
      "83\n",
      "84\n",
      "85\n",
      "86\n",
      "87\n",
      "88\n",
      "89\n",
      "90\n",
      "91\n",
      "92\n",
      "93\n",
      "94\n",
      "95\n",
      "96\n",
      "97\n",
      "98\n",
      "99\n",
      "100\n",
      "101\n",
      "102\n",
      "103\n"
     ]
    }
   ],
   "source": [
    "for row in sheet.rows:\n",
    "    print (row[0].value)"
   ]
  },
  {
   "cell_type": "raw",
   "metadata": {},
   "source": [
    "Since each row in rows is a list of Cell s, use Cell.value to get the contents of the Cell."
   ]
  },
  {
   "cell_type": "markdown",
   "metadata": {},
   "source": [
    "#### Creating a new Workbook in memory:"
   ]
  },
  {
   "cell_type": "code",
   "execution_count": 22,
   "metadata": {},
   "outputs": [],
   "source": [
    "#Calling the Workbook() function creates a new book in memory\n",
    "wb = opx.Workbook()\n",
    "#We can then create a new sheet in the wb\n",
    "ws = wb.create_sheet('Sheet Name', 0) #0 refers to the index of the sheet order in the wb"
   ]
  },
  {
   "cell_type": "raw",
   "metadata": {},
   "source": [
    "Several tab properties may be changed through openpyxl, for example the tabColor :"
   ]
  },
  {
   "cell_type": "code",
   "execution_count": 23,
   "metadata": {},
   "outputs": [],
   "source": [
    "ws.sheet_properties.tabColor = 'FFC0CB'"
   ]
  },
  {
   "cell_type": "raw",
   "metadata": {},
   "source": [
    "To save our created workbook we finish with:"
   ]
  },
  {
   "cell_type": "code",
   "execution_count": 24,
   "metadata": {},
   "outputs": [],
   "source": [
    "wb.save('filename.xlsx')"
   ]
  },
  {
   "cell_type": "markdown",
   "metadata": {},
   "source": [
    "### Section 112.5: Create excel charts with xlsxwriter"
   ]
  },
  {
   "cell_type": "code",
   "execution_count": null,
   "metadata": {},
   "outputs": [],
   "source": []
  }
 ],
 "metadata": {
  "kernelspec": {
   "display_name": "Python [default]",
   "language": "python",
   "name": "python3"
  },
  "language_info": {
   "codemirror_mode": {
    "name": "ipython",
    "version": 3
   },
   "file_extension": ".py",
   "mimetype": "text/x-python",
   "name": "python",
   "nbconvert_exporter": "python",
   "pygments_lexer": "ipython3",
   "version": "3.6.3"
  }
 },
 "nbformat": 4,
 "nbformat_minor": 2
}
