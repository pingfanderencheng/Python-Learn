{
 "cells": [
  {
   "cell_type": "markdown",
   "metadata": {},
   "source": [
    "### Section 113.1: Dictionary key initializations"
   ]
  },
  {
   "cell_type": "raw",
   "metadata": {},
   "source": [
    "Prefer dict.get method if you are not sure if the key is present. It allows you to return a default value if key is not\n",
    "found. The traditional method dict[key] would raise a KeyError exception."
   ]
  },
  {
   "cell_type": "raw",
   "metadata": {},
   "source": [
    "Rather than doing"
   ]
  },
  {
   "cell_type": "code",
   "execution_count": 1,
   "metadata": {},
   "outputs": [],
   "source": [
    "def add_student():\n",
    "    try:\n",
    "        students['count'] += 1\n",
    "    except KeyError:\n",
    "        students['count'] = 1"
   ]
  },
  {
   "cell_type": "raw",
   "metadata": {},
   "source": [
    "Do"
   ]
  },
  {
   "cell_type": "code",
   "execution_count": 3,
   "metadata": {},
   "outputs": [],
   "source": [
    "def add_student():\n",
    "    students['count'] = students.get('count', 0) + 1"
   ]
  },
  {
   "cell_type": "markdown",
   "metadata": {},
   "source": [
    "### Section 113.2: Switching variables"
   ]
  },
  {
   "cell_type": "raw",
   "metadata": {},
   "source": [
    "To switch the value of two variables you can use tuple unpacking."
   ]
  },
  {
   "cell_type": "code",
   "execution_count": 4,
   "metadata": {},
   "outputs": [
    {
     "data": {
      "text/plain": [
       "False"
      ]
     },
     "execution_count": 4,
     "metadata": {},
     "output_type": "execute_result"
    }
   ],
   "source": [
    "x = True\n",
    "y = False\n",
    "x, y = y, x\n",
    "x\n",
    "# False"
   ]
  },
  {
   "cell_type": "code",
   "execution_count": 5,
   "metadata": {},
   "outputs": [
    {
     "data": {
      "text/plain": [
       "True"
      ]
     },
     "execution_count": 5,
     "metadata": {},
     "output_type": "execute_result"
    }
   ],
   "source": [
    "y\n",
    "# True"
   ]
  },
  {
   "cell_type": "markdown",
   "metadata": {},
   "source": [
    "### Section 113.3: Use truth value testing"
   ]
  },
  {
   "cell_type": "raw",
   "metadata": {},
   "source": [
    "Python will implicitly convert any object to a Boolean value for testing, so use it wherever possible."
   ]
  },
  {
   "cell_type": "raw",
   "metadata": {},
   "source": [
    "# Good examples, using implicit truth testing\n",
    "if attr:\n",
    "    # do something\n",
    "if not attr:\n",
    "    # do something\n",
    "    \n",
    "    \n",
    "# Bad examples, using specific types\n",
    "if attr == 1:\n",
    "    # do something\n",
    "if attr == True:\n",
    "    # do something\n",
    "if attr != '':\n",
    "    # do something\n",
    "# If you are looking to specifically check for None, use 'is' or 'is not'\n",
    "if attr is None:\n",
    "    # do something"
   ]
  },
  {
   "cell_type": "raw",
   "metadata": {},
   "source": [
    "This generally produces more readable code, and is usually much safer when dealing with unexpected types."
   ]
  },
  {
   "cell_type": "markdown",
   "metadata": {},
   "source": [
    "### Section 113.4: Test for \"__main__\" to avoid unexpected code execution"
   ]
  },
  {
   "cell_type": "raw",
   "metadata": {},
   "source": [
    "It is good practice to test the calling program's __name__ variable before executing your code."
   ]
  },
  {
   "cell_type": "code",
   "execution_count": 7,
   "metadata": {},
   "outputs": [
    {
     "ename": "SystemExit",
     "evalue": "0",
     "output_type": "error",
     "traceback": [
      "An exception has occurred, use %tb to see the full traceback.\n",
      "\u001b[1;31mSystemExit\u001b[0m\u001b[1;31m:\u001b[0m 0\n"
     ]
    },
    {
     "name": "stderr",
     "output_type": "stream",
     "text": [
      "D:\\Users\\songc\\Anaconda3\\lib\\site-packages\\IPython\\core\\interactiveshell.py:2870: UserWarning: To exit: use 'exit', 'quit', or Ctrl-D.\n",
      "  warn(\"To exit: use 'exit', 'quit', or Ctrl-D.\", stacklevel=1)\n"
     ]
    }
   ],
   "source": [
    "import sys\n",
    "def main():\n",
    "    # Your code starts here\n",
    "    # Don't forget to provide a return code\n",
    "    return 0\n",
    "if __name__ == \"__main__\":\n",
    "    sys.exit(main())"
   ]
  },
  {
   "cell_type": "raw",
   "metadata": {},
   "source": [
    "Using this pattern ensures that your code is only executed when you expect it to be; for example, when you run your file explicitly:"
   ]
  },
  {
   "cell_type": "raw",
   "metadata": {},
   "source": [
    "$ python my_program.py"
   ]
  },
  {
   "cell_type": "raw",
   "metadata": {},
   "source": [
    "The benefit, however, comes if you decide to import your file in another program (for example if you are writing it\n",
    "as part of a library). You can then import your file, and the __main__ trap will ensure that no code is executed\n",
    "unexpectedly:"
   ]
  },
  {
   "cell_type": "code",
   "execution_count": null,
   "metadata": {},
   "outputs": [],
   "source": [
    "# A new program file\n",
    "import my_program # main() is not run\n",
    "# But you can run main() explicitly if you really want it to run:\n",
    "my_program.main()"
   ]
  }
 ],
 "metadata": {
  "kernelspec": {
   "display_name": "Python [default]",
   "language": "python",
   "name": "python3"
  },
  "language_info": {
   "codemirror_mode": {
    "name": "ipython",
    "version": 3
   },
   "file_extension": ".py",
   "mimetype": "text/x-python",
   "name": "python",
   "nbconvert_exporter": "python",
   "pygments_lexer": "ipython3",
   "version": "3.6.3"
  }
 },
 "nbformat": 4,
 "nbformat_minor": 2
}
