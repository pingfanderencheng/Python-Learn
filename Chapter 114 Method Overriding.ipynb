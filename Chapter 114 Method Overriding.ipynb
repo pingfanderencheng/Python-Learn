{
 "cells": [
  {
   "cell_type": "markdown",
   "metadata": {},
   "source": [
    "### Section 114.1: Basic method overriding"
   ]
  },
  {
   "cell_type": "raw",
   "metadata": {},
   "source": [
    "Here is an example of basic overriding in Python (for the sake of clarity and compatibility with both Python 2 and 3,\n",
    "using new style class and print with () ):"
   ]
  },
  {
   "cell_type": "code",
   "execution_count": 1,
   "metadata": {},
   "outputs": [],
   "source": [
    "class Parent(object):\n",
    "    def introduce(self):\n",
    "        print(\"Hello!\")\n",
    "    def print_name(self):\n",
    "        print(\"Parent\")\n",
    "class Child(Parent):\n",
    "    def print_name(self):\n",
    "        print(\"Child\")"
   ]
  },
  {
   "cell_type": "code",
   "execution_count": 2,
   "metadata": {},
   "outputs": [
    {
     "name": "stdout",
     "output_type": "stream",
     "text": [
      "Hello!\n",
      "Parent\n",
      "Hello!\n",
      "Child\n"
     ]
    }
   ],
   "source": [
    "p = Parent()\n",
    "c = Child()\n",
    "p.introduce()\n",
    "p.print_name()\n",
    "c.introduce()\n",
    "c.print_name()"
   ]
  },
  {
   "cell_type": "raw",
   "metadata": {},
   "source": [
    "When the Child class is created, it inherits the methods of the Parent class. This means that any methods that the\n",
    "parent class has, the child class will also have. In the example, the introduce is defined for the Child class because\n",
    "it is defined for Parent , despite not being defined explicitly in the class definition of Child ."
   ]
  },
  {
   "cell_type": "raw",
   "metadata": {},
   "source": [
    "In this example, the overriding occurs when Child defines its own print_name method. If this method was not\n",
    "declared, then c.print_name() would have printed \"Parent\" . However, Child has overriden the Parent 's definition\n",
    "of print_name , and so now upon calling c.print_name() , the word \"Child\" is printed."
   ]
  }
 ],
 "metadata": {
  "kernelspec": {
   "display_name": "Python [default]",
   "language": "python",
   "name": "python3"
  },
  "language_info": {
   "codemirror_mode": {
    "name": "ipython",
    "version": 3
   },
   "file_extension": ".py",
   "mimetype": "text/x-python",
   "name": "python",
   "nbconvert_exporter": "python",
   "pygments_lexer": "ipython3",
   "version": "3.6.3"
  }
 },
 "nbformat": 4,
 "nbformat_minor": 2
}
