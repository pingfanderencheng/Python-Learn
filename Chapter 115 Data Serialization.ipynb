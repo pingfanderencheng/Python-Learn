{
 "cells": [
  {
   "cell_type": "markdown",
   "metadata": {},
   "source": [
    "| Parameter | Details |\n",
    "| --- | --- |\n",
    "| protocol | Using pickle or cPickle , it is the method that objects are being Serialized/Unserialized. You probably want to use pickle.HIGHEST_PROTOCOL here, which means the newest method. |"
   ]
  },
  {
   "cell_type": "markdown",
   "metadata": {},
   "source": [
    "### Section 115.1: Serialization using JSON"
   ]
  },
  {
   "cell_type": "raw",
   "metadata": {},
   "source": [
    "JSON is a cross language, widely used method to serialize data"
   ]
  },
  {
   "cell_type": "markdown",
   "metadata": {},
   "source": [
    "Supported data types : int, float, boolean, string, list and dict. See -> [JSON Wiki](https://en.wikipedia.org/wiki/JSON) for more"
   ]
  },
  {
   "cell_type": "markdown",
   "metadata": {},
   "source": [
    "Here is an example demonstrating the basic usage of JSON:"
   ]
  },
  {
   "cell_type": "code",
   "execution_count": null,
   "metadata": {},
   "outputs": [],
   "source": [
    "import json\n",
    "families = (['John'], ['Mark', 'David', {'name': 'Avraham'}])\n",
    "# Dumping it into string\n",
    "json_families = json.dumps(families)\n",
    "# [[\"John\"], [\"Mark\", \"David\", {\"name\": \"Avraham\"}]]\n",
    "# Dumping it to file\n",
    "with open('families.json', 'w') as json_file:\n",
    "    json.dump(families, json_file)\n",
    "# Loading it from string\n",
    "json_families = json.loads(json_families)\n",
    "# Loading it from file\n",
    "with open('families.json', 'r') as json_file:\n",
    "    json_families = json.load(json_file)"
   ]
  },
  {
   "cell_type": "markdown",
   "metadata": {},
   "source": [
    "**See JSON-Module for detailed information about JSON.**"
   ]
  },
  {
   "cell_type": "markdown",
   "metadata": {},
   "source": [
    "### Section 115.2: Serialization using Pickle"
   ]
  },
  {
   "cell_type": "raw",
   "metadata": {},
   "source": [
    "Here is an example demonstrating the basic usage of pickle:"
   ]
  },
  {
   "cell_type": "code",
   "execution_count": null,
   "metadata": {},
   "outputs": [],
   "source": [
    "# Importing pickle\n",
    "try:\n",
    "    import cPickle as pickle # Python 2\n",
    "except ImportError:\n",
    "    import pickle # Python 3\n",
    "# Creating Pythonic object:\n",
    "class Family(object):\n",
    "    def __init__(self, names):\n",
    "        self.sons = names\n",
    "    def __str__(self):\n",
    "        return ' '.join(self.sons)\n",
    "my_family = Family(['John', 'David'])\n",
    "# Dumping to string\n",
    "pickle_data = pickle.dumps(my_family, pickle.HIGHEST_PROTOCOL)\n",
    "# Dumping to file\n",
    "with open('family.p', 'w') as pickle_file:\n",
    "    pickle.dump(families, pickle_file, pickle.HIGHEST_PROTOCOL)\n",
    "# Loading from string\n",
    "my_family = pickle.loads(pickle_data)\n",
    "# Loading from file\n",
    "with open('family.p', 'r') as pickle_file:\n",
    "    my_family = pickle.load(pickle_file)"
   ]
  },
  {
   "cell_type": "markdown",
   "metadata": {},
   "source": [
    "**See Pickle for detailed information about Pickle.**"
   ]
  },
  {
   "cell_type": "code",
   "execution_count": null,
   "metadata": {},
   "outputs": [],
   "source": []
  }
 ],
 "metadata": {
  "kernelspec": {
   "display_name": "Python [default]",
   "language": "python",
   "name": "python3"
  },
  "language_info": {
   "codemirror_mode": {
    "name": "ipython",
    "version": 3
   },
   "file_extension": ".py",
   "mimetype": "text/x-python",
   "name": "python",
   "nbconvert_exporter": "python",
   "pygments_lexer": "ipython3",
   "version": "3.6.3"
  }
 },
 "nbformat": 4,
 "nbformat_minor": 2
}
