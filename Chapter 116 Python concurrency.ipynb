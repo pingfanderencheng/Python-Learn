{
 "cells": [
  {
   "cell_type": "markdown",
   "metadata": {},
   "source": [
    "### Section 116.1: The multiprocessing module"
   ]
  },
  {
   "cell_type": "code",
   "execution_count": 6,
   "metadata": {},
   "outputs": [],
   "source": [
    "from __future__ import print_function\n",
    "import multiprocessing\n",
    "def countdown(count):\n",
    "    while count > 0:\n",
    "        print(\"Count value\", count)\n",
    "        count -= 1\n",
    "    return 0\n",
    "if __name__ == \"__main__\":\n",
    "    p1 = multiprocessing.Process(target=countdown, args=[10])\n",
    "    p1.start()\n",
    "    p2 = multiprocessing.Process(target=countdown, args=[20])\n",
    "    p2.start()\n",
    "    p1.join()\n",
    "    p2.join()"
   ]
  },
  {
   "cell_type": "markdown",
   "metadata": {},
   "source": [
    "**不会有print()的结果显示，如果是多线程的话，会有多进程的话不会有，原因可能是无法获取其他进程的运行情况吧，进程之间资源无法共享。**"
   ]
  },
  {
   "cell_type": "raw",
   "metadata": {},
   "source": [
    "Here, each function is executed in a new process. Since a new instance of Python VM is running the code, there is\n",
    "no GIL and you get parallelism running on multiple cores."
   ]
  },
  {
   "cell_type": "raw",
   "metadata": {},
   "source": [
    "The Process.start method launches this new process and run the function passed in the target argument with\n",
    "the arguments args . The Process.join method waits for the end of the execution of processes p1 and p2 ."
   ]
  },
  {
   "cell_type": "raw",
   "metadata": {},
   "source": [
    "The new processes are launched differently depending on the version of python and the plateform on which the\n",
    "code is running e.g.:"
   ]
  },
  {
   "cell_type": "markdown",
   "metadata": {},
   "source": [
    "1. Windows uses spawn to create the new process.\n",
    "2. With unix systems and version earlier than 3.3, the processes are created using a fork .\n",
    "Note that this method does not respect the POSIX usage of fork and thus leads to unexpected behaviors,\n",
    "especially when interacting with other multiprocessing libraries.\n",
    "3. With unix system and version 3.4+, you can choose to start the new processes with either fork , forkserver\n",
    "or spawn using multiprocessing.set_start_method at the beginning of your program. forkserver and\n",
    "spawn methods are slower than forking but avoid some unexpected behaviors."
   ]
  },
  {
   "cell_type": "markdown",
   "metadata": {},
   "source": [
    "### Section 116.2: The threading module"
   ]
  },
  {
   "cell_type": "code",
   "execution_count": 9,
   "metadata": {},
   "outputs": [
    {
     "name": "stdout",
     "output_type": "stream",
     "text": [
      "Count value 10\n",
      "Count valueCount value  209\n",
      "\n",
      "Count valueCount value  198\n",
      "\n",
      "Count valueCount value  187\n",
      "\n",
      "Count valueCount value  176\n",
      "\n",
      "Count valueCount value  165\n",
      "\n",
      "Count valueCount value  154\n",
      "\n",
      "Count valueCount value  143\n",
      "\n",
      "Count valueCount value  132\n",
      "\n",
      "Count valueCount value  121\n",
      "\n",
      "Count value 11\n",
      "Count value 10\n",
      "Count value 9\n",
      "Count value 8\n",
      "Count value 7\n",
      "Count value 6\n",
      "Count value 5\n",
      "Count value 4\n",
      "Count value 3\n",
      "Count value 2\n",
      "Count value 1\n"
     ]
    }
   ],
   "source": [
    "from __future__ import print_function\n",
    "import threading\n",
    "def counter(count):\n",
    "    while count > 0:\n",
    "        print(\"Count value\", count)\n",
    "        count -= 1\n",
    "    return\n",
    "t1 = threading.Thread(target=countdown,args=(10,))\n",
    "t1.start()\n",
    "t2 = threading.Thread(target=countdown,args=(20,))\n",
    "t2.start()"
   ]
  },
  {
   "cell_type": "raw",
   "metadata": {},
   "source": [
    "In certain implementations of Python such as CPython, true parallelism is not achieved using threads because of\n",
    "using what is known as the GIL, or Global Interpreter Lock."
   ]
  },
  {
   "cell_type": "markdown",
   "metadata": {},
   "source": [
    "Here is an excellent overview of Python concurrency:\n",
    "[Python concurrency by David Beazley (YouTube)](https://www.youtube.com/watch?v=MCs5OvhV9S4)"
   ]
  },
  {
   "cell_type": "markdown",
   "metadata": {},
   "source": [
    "### Section 116.3: Passing data between multiprocessing processes"
   ]
  },
  {
   "cell_type": "raw",
   "metadata": {},
   "source": [
    "Because data is sensitive when dealt with between two threads (think concurrent read and concurrent write can\n",
    "conflict with one another, causing race conditions), a set of unique objects were made in order to facilitate the\n",
    "passing of data back and forth between threads. Any truly atomic operation can be used between threads, but it is\n",
    "always safe to stick with Queue."
   ]
  },
  {
   "cell_type": "code",
   "execution_count": 10,
   "metadata": {},
   "outputs": [],
   "source": [
    "import multiprocessing\n",
    "import queue\n",
    "my_Queue=multiprocessing.Queue()\n",
    "#Creates a queue with an undefined maximum size\n",
    "#this can be dangerous as the queue becomes increasingly large\n",
    "#it will take a long time to copy data to/from each read/write thread"
   ]
  },
  {
   "cell_type": "raw",
   "metadata": {},
   "source": [
    "Most people will suggest that when using queue, to always place the queue data in a try: except: block instead of\n",
    "using empty. However, for applications where it does not matter if you skip a scan cycle (data can be placed in the\n",
    "queue while it is flipping states from queue.Empty==True to queue.Empty==False ) it is usually better to place read\n",
    "and write access in what I call an Iftry block, because an 'if' statement is technically more performant than catching\n",
    "the exception."
   ]
  },
  {
   "cell_type": "code",
   "execution_count": 11,
   "metadata": {},
   "outputs": [],
   "source": [
    "import multiprocessing\n",
    "import queue\n",
    "'''Import necessary Python standard libraries, multiprocessing for classes and queue for the queue\n",
    "exceptions it provides'''\n",
    "def Queue_Iftry_Get(get_queue, default=None, use_default=False, func=None, use_func=False):\n",
    "    '''This global method for the Iftry block is provided for it's reuse and\n",
    "    standard functionality, the if also saves on performance as opposed to catching\n",
    "    the exception, which is expencive.\n",
    "    It also allows the user to specify a function for the outgoing data to use,\n",
    "    and a default value to return if the function cannot return the value from the queue'''\n",
    "    if get_queue.empty():\n",
    "        if use_default:\n",
    "            return default\n",
    "    else:\n",
    "        try:\n",
    "            value = get_queue.get_nowait()\n",
    "        except queue.Empty:\n",
    "            if use_default:\n",
    "                return default\n",
    "        else:\n",
    "            if use_func:\n",
    "                return func(value)\n",
    "            else:\n",
    "                return value\n",
    "def Queue_Iftry_Put(put_queue, value):\n",
    "    '''This global method for the Iftry block is provided because of its reuse\n",
    "    and\n",
    "    standard functionality, the If also saves on performance as opposed to catching\n",
    "    the exception, which is expensive.\n",
    "    Return True if placing value in the queue was successful. Otherwise, false'''\n",
    "    if put_queue.full():\n",
    "        return False\n",
    "    else:\n",
    "        try:\n",
    "            put_queue.put_nowait(value)\n",
    "        except queue.Full:\n",
    "            return False\n",
    "        else:\n",
    "            return True"
   ]
  },
  {
   "cell_type": "code",
   "execution_count": null,
   "metadata": {},
   "outputs": [],
   "source": []
  }
 ],
 "metadata": {
  "kernelspec": {
   "display_name": "Python [default]",
   "language": "python",
   "name": "python3"
  },
  "language_info": {
   "codemirror_mode": {
    "name": "ipython",
    "version": 3
   },
   "file_extension": ".py",
   "mimetype": "text/x-python",
   "name": "python",
   "nbconvert_exporter": "python",
   "pygments_lexer": "ipython3",
   "version": "3.6.3"
  }
 },
 "nbformat": 4,
 "nbformat_minor": 2
}
