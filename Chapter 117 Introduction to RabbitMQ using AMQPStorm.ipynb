{
 "cells": [
  {
   "cell_type": "markdown",
   "metadata": {},
   "source": [
    "**程序运行需要建立ampqstorm 服务器，电脑上没有改程序，无法建立连接，没有运行示例程序。**"
   ]
  },
  {
   "cell_type": "markdown",
   "metadata": {},
   "source": [
    "### Section 117.1: How to consume messages from RabbitMQ"
   ]
  },
  {
   "cell_type": "raw",
   "metadata": {},
   "source": [
    "Start with importing the library."
   ]
  },
  {
   "cell_type": "code",
   "execution_count": 2,
   "metadata": {},
   "outputs": [],
   "source": [
    "from amqpstorm import Connection"
   ]
  },
  {
   "cell_type": "raw",
   "metadata": {},
   "source": [
    "When consuming messages, we first need to define a function to handle the incoming messages. This can be any\n",
    "callable function, and has to take a message object, or a message tuple (depending on the to_tuple parameter\n",
    "defined in start_consuming )."
   ]
  },
  {
   "cell_type": "raw",
   "metadata": {},
   "source": [
    "Besides processing the data from the incoming message, we will also have to Acknowledge or Reject the message.\n",
    "This is important, as we need to let RabbitMQ know that we properly received and processed the message."
   ]
  },
  {
   "cell_type": "code",
   "execution_count": 3,
   "metadata": {},
   "outputs": [],
   "source": [
    "def on_message(message):\n",
    "    \"\"\"This function is called on message received.\n",
    "    :param message: Delivered message.\n",
    "    :return:\n",
    "    \"\"\"\n",
    "    print(\"Message:\", message.body)\n",
    "    # Acknowledge that we handled the message without any issues.\n",
    "    message.ack()\n",
    "    # Reject the message.\n",
    "    # message.reject()\n",
    "    # Reject the message, and put it back in the queue.\n",
    "    # message.reject(requeue=True)"
   ]
  },
  {
   "cell_type": "raw",
   "metadata": {},
   "source": [
    "Next we need to set up the connection to the RabbitMQ server."
   ]
  },
  {
   "cell_type": "code",
   "execution_count": null,
   "metadata": {},
   "outputs": [],
   "source": [
    "connection = Connection('127.0.0.1', 'guest', 'guest')"
   ]
  },
  {
   "cell_type": "raw",
   "metadata": {},
   "source": [
    "After that we need to set up a channel. Each connection can have multiple channels, and in general when\n",
    "performing multi-threaded tasks, it's recommended (but not required) to have one per thread."
   ]
  },
  {
   "cell_type": "code",
   "execution_count": null,
   "metadata": {},
   "outputs": [],
   "source": [
    "channel = connection.channel()"
   ]
  },
  {
   "cell_type": "raw",
   "metadata": {},
   "source": [
    "Once we have our channel set up, we need to let RabbitMQ know that we want to start consuming messages. In this\n",
    "case we will use our previously defined on_message function to handle all our consumed messages."
   ]
  },
  {
   "cell_type": "raw",
   "metadata": {},
   "source": [
    "The queue we will be listening to on the RabbitMQ server is going to be simple_queue , and we are also telling\n",
    "RabbitMQ that we will be acknowledging all incoming messages once we are done with them."
   ]
  },
  {
   "cell_type": "code",
   "execution_count": null,
   "metadata": {},
   "outputs": [],
   "source": [
    "channel.basic.consume(callback=on_message, queue='simple_queue', no_ack=False)"
   ]
  },
  {
   "cell_type": "raw",
   "metadata": {},
   "source": [
    "Finally we need to start the IO loop to start processing messages delivered by the RabbitMQ server."
   ]
  },
  {
   "cell_type": "code",
   "execution_count": null,
   "metadata": {},
   "outputs": [],
   "source": [
    "channel.start_consuming(to_tuple=False)"
   ]
  },
  {
   "cell_type": "markdown",
   "metadata": {},
   "source": [
    "### Section 117.2: How to publish messages to RabbitMQ"
   ]
  },
  {
   "cell_type": "raw",
   "metadata": {},
   "source": [
    "Start with importing the library."
   ]
  },
  {
   "cell_type": "code",
   "execution_count": null,
   "metadata": {},
   "outputs": [],
   "source": [
    "from amqpstorm import Connection\n",
    "from amqpstorm import Message"
   ]
  },
  {
   "cell_type": "raw",
   "metadata": {},
   "source": [
    "Next we need to open a connection to the RabbitMQ server."
   ]
  },
  {
   "cell_type": "code",
   "execution_count": null,
   "metadata": {},
   "outputs": [],
   "source": [
    "connection = Connection('127.0.0.1', 'guest', 'guest')"
   ]
  },
  {
   "cell_type": "raw",
   "metadata": {},
   "source": [
    "After that we need to set up a channel. Each connection can have multiple channels, and in general when\n",
    "performing multi-threaded tasks, it's recommended (but not required) to have one per thread."
   ]
  },
  {
   "cell_type": "code",
   "execution_count": null,
   "metadata": {},
   "outputs": [],
   "source": [
    "channel = connection.channel()"
   ]
  },
  {
   "cell_type": "raw",
   "metadata": {},
   "source": [
    "Once we have our channel set up, we can start to prepare our message."
   ]
  },
  {
   "cell_type": "code",
   "execution_count": null,
   "metadata": {},
   "outputs": [],
   "source": [
    "# Message Properties.\n",
    "properties = {\n",
    "'content_type': 'text/plain',\n",
    "'headers': {'key': 'value'}\n",
    "}"
   ]
  },
  {
   "cell_type": "code",
   "execution_count": null,
   "metadata": {},
   "outputs": [],
   "source": [
    "# Create the message.\n",
    "message = Message.create(channel=channel, body='Hello World!', properties=properties)"
   ]
  },
  {
   "cell_type": "raw",
   "metadata": {},
   "source": [
    "Now we can publish the message by simply calling publish and providing a routing_key . In this case we are going\n",
    "to send the message to a queue called simple_queue ."
   ]
  },
  {
   "cell_type": "code",
   "execution_count": null,
   "metadata": {},
   "outputs": [],
   "source": [
    "message.publish(routing_key='simple_queue')"
   ]
  },
  {
   "cell_type": "markdown",
   "metadata": {},
   "source": [
    "### Section 117.3: How to create a delayed queue in RabbitMQ"
   ]
  },
  {
   "cell_type": "raw",
   "metadata": {},
   "source": [
    "First we need to set up two basic channels, one for the main queue, and one for the delay queue. In my example at\n",
    "the end, I include a couple of additional flags that are not required, but makes the code more reliable; such as\n",
    "confirm delivery , delivery_mode and durable . You can find more information on these in the RabbitMQ manual."
   ]
  },
  {
   "cell_type": "raw",
   "metadata": {},
   "source": [
    "After we have set up the channels we add a binding to the main channel that we can use to send messages from\n",
    "the delay channel to our main queue."
   ]
  },
  {
   "cell_type": "code",
   "execution_count": null,
   "metadata": {},
   "outputs": [],
   "source": [
    "channel.queue.bind(exchange='amq.direct', routing_key='hello', queue='hello')"
   ]
  },
  {
   "cell_type": "code",
   "execution_count": null,
   "metadata": {},
   "outputs": [],
   "source": [
    "Next we need to configure our delay channel to forward messages to the main queue once they have expired."
   ]
  },
  {
   "cell_type": "code",
   "execution_count": null,
   "metadata": {},
   "outputs": [],
   "source": [
    "delay_channel.queue.declare(queue='hello_delay', durable=True, arguments={\n",
    "'x-message-ttl': 5000,\n",
    "'x-dead-letter-exchange': 'amq.direct',\n",
    "'x-dead-letter-routing-key': 'hello'\n",
    "})"
   ]
  },
  {
   "cell_type": "markdown",
   "metadata": {},
   "source": [
    "1. x-message-ttl (Message - Time To Live)\n",
    "\n",
    "This is normally used to automatically remove old messages in the queue after a specific duration, but by\n",
    "adding two optional arguments we can change this behaviour, and instead have this parameter determine in\n",
    "milliseconds how long messages will stay in the delay queue.\n",
    "2. x-dead-letter-routing-key\n",
    "\n",
    "This variable allows us to transfer the message to a different queue once they have expired, instead of the\n",
    "default behaviour of removing it completely.\n",
    "3. x-dead-letter-exchange\n",
    "\n",
    "This variable determines which Exchange used to transfer the message from hello_delay to hello queue."
   ]
  },
  {
   "cell_type": "markdown",
   "metadata": {},
   "source": [
    "**Publishing to the delay queue**"
   ]
  },
  {
   "cell_type": "raw",
   "metadata": {},
   "source": [
    "When we are done setting up all the basic Pika parameters you simply send a message to the delay queue using\n",
    "basic publish."
   ]
  },
  {
   "cell_type": "code",
   "execution_count": null,
   "metadata": {},
   "outputs": [],
   "source": [
    "delay_channel.basic.publish(exchange='',\n",
    "routing_key='hello_delay',\n",
    "body='test',\n",
    "properties={'delivery_mod': 2})"
   ]
  },
  {
   "cell_type": "raw",
   "metadata": {},
   "source": [
    "Once you have executed the script you should see the following queues created in your RabbitMQ management\n",
    "module."
   ]
  },
  {
   "cell_type": "code",
   "execution_count": null,
   "metadata": {},
   "outputs": [],
   "source": [
    "from amqpstorm import Connection\n",
    "connection = Connection('127.0.0.1', 'guest', 'guest')\n",
    "# Create normal 'Hello World' type channel.\n",
    "channel = connection.channel()\n",
    "channel.confirm_deliveries()\n",
    "channel.queue.declare(queue='hello', durable=True)\n",
    "# We need to bind this channel to an exchange, that will be used to transfer\n",
    "# messages from our delay queue.\n",
    "channel.queue.bind(exchange='amq.direct', routing_key='hello', queue='hello')\n",
    "# Create our delay channel.\n",
    "delay_channel = connection.channel()\n",
    "delay_channel.confirm_deliveries()\n",
    "# This is where we declare the delay, and routing for our delay channel.\n",
    "delay_channel.queue.declare(queue='hello_delay', durable=True, arguments={\n",
    "    'x-message-ttl': 5000, # Delay until the message is transferred in milliseconds.\n",
    "    'x-dead-letter-exchange': 'amq.direct', # Exchange used to transfer the message from A to B.\n",
    "    'x-dead-letter-routing-key': 'hello' # Name of the queue we want the message transferred to.\n",
    "})\n",
    "delay_channel.basic.publish(exchange='',\n",
    "    routing_key='hello_delay',\n",
    "    body='test',\n",
    "    properties={'delivery_mode': 2})\n",
    "print(\"[x] Sent\")"
   ]
  },
  {
   "cell_type": "code",
   "execution_count": 7,
   "metadata": {},
   "outputs": [
    {
     "name": "stdout",
     "output_type": "stream",
     "text": [
      "Help on class Connection in module amqpstorm.connection:\n",
      "\n",
      "class Connection(amqpstorm.base.Stateful)\n",
      " |  RabbitMQ Connection.\n",
      " |  \n",
      " |  Method resolution order:\n",
      " |      Connection\n",
      " |      amqpstorm.base.Stateful\n",
      " |      builtins.object\n",
      " |  \n",
      " |  Methods defined here:\n",
      " |  \n",
      " |  __enter__(self)\n",
      " |  \n",
      " |  __exit__(self, exception_type, exception_value, _)\n",
      " |  \n",
      " |  __init__(self, hostname, username, password, port=5672, **kwargs)\n",
      " |      :param str hostname: Hostname\n",
      " |      :param str username: Username\n",
      " |      :param str password: Password\n",
      " |      :param int port: Server port\n",
      " |      :param str virtual_host: Virtual host\n",
      " |      :param int heartbeat: RabbitMQ Heartbeat interval\n",
      " |      :param int|float timeout: Socket timeout\n",
      " |      :param bool ssl: Enable SSL\n",
      " |      :param dict ssl_options: SSL kwargs (from ssl.wrap_socket)\n",
      " |      :param bool lazy: Lazy initialize the connection\n",
      " |      \n",
      " |      :raises AMQPConnectionError: Raises if the connection\n",
      " |                                   encountered an error.\n",
      " |      \n",
      " |      :return:\n",
      " |  \n",
      " |  channel(self, rpc_timeout=60, lazy=False)\n",
      " |      Open Channel.\n",
      " |      \n",
      " |      :param int rpc_timeout: Timeout before we give up waiting for an RPC\n",
      " |                              response from the server.\n",
      " |      \n",
      " |      :raises AMQPInvalidArgument: Invalid Parameters\n",
      " |      :raises AMQPChannelError: Raises if the channel encountered an error.\n",
      " |      :raises AMQPConnectionError: Raises if the connection\n",
      " |                                   encountered an error.\n",
      " |  \n",
      " |  check_for_errors(self)\n",
      " |      Check Connection for errors.\n",
      " |      \n",
      " |      :raises AMQPConnectionError: Raises if the connection\n",
      " |                                   encountered an error.\n",
      " |      :return:\n",
      " |  \n",
      " |  close(self)\n",
      " |      Close connection.\n",
      " |      \n",
      " |      :raises AMQPConnectionError: Raises if the connection\n",
      " |                                   encountered an error.\n",
      " |      :return:\n",
      " |  \n",
      " |  open(self)\n",
      " |      Open Connection.\n",
      " |      \n",
      " |      :raises AMQPConnectionError: Raises if the connection\n",
      " |                                   encountered an error.\n",
      " |  \n",
      " |  write_frame(self, channel_id, frame_out)\n",
      " |      Marshal and write an outgoing pamqp frame to the Socket.\n",
      " |      \n",
      " |      :param int channel_id: Channel ID.\n",
      " |      :param specification.Frame frame_out: Amqp frame.\n",
      " |      \n",
      " |      :return:\n",
      " |  \n",
      " |  write_frames(self, channel_id, frames_out)\n",
      " |      Marshal and write multiple outgoing pamqp frames to the Socket.\n",
      " |      \n",
      " |      :param int channel_id: Channel ID/\n",
      " |      :param list frames_out: Amqp frames.\n",
      " |      \n",
      " |      :return:\n",
      " |  \n",
      " |  ----------------------------------------------------------------------\n",
      " |  Data descriptors defined here:\n",
      " |  \n",
      " |  fileno\n",
      " |      Returns the Socket File number.\n",
      " |      \n",
      " |      :return:\n",
      " |  \n",
      " |  heartbeat\n",
      " |  \n",
      " |  is_blocked\n",
      " |      Is the connection currently being blocked from publishing by\n",
      " |      the remote server.\n",
      " |      \n",
      " |      :rtype: bool\n",
      " |  \n",
      " |  parameters\n",
      " |  \n",
      " |  server_properties\n",
      " |      Returns the RabbitMQ Server Properties.\n",
      " |      \n",
      " |      :rtype: dict\n",
      " |  \n",
      " |  socket\n",
      " |      Returns an instance of the Socket used by the Connection.\n",
      " |      \n",
      " |      :rtype: socket\n",
      " |  \n",
      " |  ----------------------------------------------------------------------\n",
      " |  Methods inherited from amqpstorm.base.Stateful:\n",
      " |  \n",
      " |  set_state(self, state)\n",
      " |      Set State.\n",
      " |      \n",
      " |      :param int state:\n",
      " |      :return:\n",
      " |  \n",
      " |  ----------------------------------------------------------------------\n",
      " |  Data descriptors inherited from amqpstorm.base.Stateful:\n",
      " |  \n",
      " |  __dict__\n",
      " |      dictionary for instance variables (if defined)\n",
      " |  \n",
      " |  __weakref__\n",
      " |      list of weak references to the object (if defined)\n",
      " |  \n",
      " |  current_state\n",
      " |      Get the State.\n",
      " |      \n",
      " |      :rtype: int\n",
      " |  \n",
      " |  exceptions\n",
      " |      Stores all exceptions thrown by this instance.\n",
      " |      \n",
      " |          This is useful for troubleshooting, and is used internally\n",
      " |          to check the health of the connection.\n",
      " |      \n",
      " |      :rtype: list\n",
      " |  \n",
      " |  is_closed\n",
      " |      Is Closed?\n",
      " |      \n",
      " |      :rtype: bool\n",
      " |  \n",
      " |  is_closing\n",
      " |      Is Closing?\n",
      " |      \n",
      " |      :rtype: bool\n",
      " |  \n",
      " |  is_open\n",
      " |      Is Open?\n",
      " |      \n",
      " |      :rtype: bool\n",
      " |  \n",
      " |  is_opening\n",
      " |      Is Opening?\n",
      " |      \n",
      " |      :rtype: bool\n",
      " |  \n",
      " |  lock\n",
      " |      Threading lock.\n",
      " |      \n",
      " |      :return:\n",
      " |  \n",
      " |  ----------------------------------------------------------------------\n",
      " |  Data and other attributes inherited from amqpstorm.base.Stateful:\n",
      " |  \n",
      " |  CLOSED = 0\n",
      " |  \n",
      " |  CLOSING = 1\n",
      " |  \n",
      " |  OPEN = 3\n",
      " |  \n",
      " |  OPENING = 2\n",
      "\n"
     ]
    }
   ],
   "source": [
    "help(Connection)"
   ]
  },
  {
   "cell_type": "code",
   "execution_count": null,
   "metadata": {},
   "outputs": [],
   "source": []
  }
 ],
 "metadata": {
  "kernelspec": {
   "display_name": "Python [default]",
   "language": "python",
   "name": "python3"
  },
  "language_info": {
   "codemirror_mode": {
    "name": "ipython",
    "version": 3
   },
   "file_extension": ".py",
   "mimetype": "text/x-python",
   "name": "python",
   "nbconvert_exporter": "python",
   "pygments_lexer": "ipython3",
   "version": "3.6.3"
  }
 },
 "nbformat": 4,
 "nbformat_minor": 2
}
