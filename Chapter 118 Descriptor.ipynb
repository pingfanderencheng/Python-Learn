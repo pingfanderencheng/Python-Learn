{
 "cells": [
  {
   "cell_type": "markdown",
   "metadata": {},
   "source": [
    "### Section 118.1: Simple descriptor"
   ]
  },
  {
   "cell_type": "raw",
   "metadata": {},
   "source": [
    "There are two different types of descriptors. Data descriptors are defined as objects that define both a __get__()\n",
    "and a __set__() method, whereas non-data descriptors only define a __get__() method. This distinction is\n",
    "important when considering overrides and the namespace of an instance's dictionary. If a data descriptor and an\n",
    "entry in an instance's dictionary share the same name, the data descriptor will take precedence. However, if instead\n",
    "a non-data descriptor and an entry in an instance's dictionary share the same name, the instance dictionary's entry\n",
    "will take precedence."
   ]
  },
  {
   "cell_type": "raw",
   "metadata": {},
   "source": [
    "To make a read-only data descriptor, define both get() and set() with the set() raising an AttributeError when called.\n",
    "Defining the set() method with an exception raising placeholder is enough to make it a data descriptor."
   ]
  },
  {
   "cell_type": "code",
   "execution_count": null,
   "metadata": {},
   "outputs": [],
   "source": [
    "descr.__get__(self, obj, type=None) --> value\n",
    "descr.__set__(self, obj, value) --> None\n",
    "descr.__delete__(self, obj) --> None"
   ]
  },
  {
   "cell_type": "raw",
   "metadata": {},
   "source": [
    "An implemented example:"
   ]
  },
  {
   "cell_type": "code",
   "execution_count": 1,
   "metadata": {},
   "outputs": [],
   "source": [
    "class DescPrinter(object):\n",
    "    \"\"\"A data descriptor that logs activity.\"\"\"\n",
    "    _val = 7\n",
    "    def __get__(self, obj, objtype=None):\n",
    "        print('Getting ...')\n",
    "        return self._val\n",
    "    def __set__(self, obj, val):\n",
    "        print('Setting', val)\n",
    "        self._val = val\n",
    "    def __delete__(self, obj):\n",
    "        print('Deleting ...')\n",
    "        del self._val"
   ]
  },
  {
   "cell_type": "code",
   "execution_count": 2,
   "metadata": {},
   "outputs": [],
   "source": [
    "class Foo():\n",
    "    x = DescPrinter()"
   ]
  },
  {
   "cell_type": "code",
   "execution_count": 3,
   "metadata": {},
   "outputs": [],
   "source": [
    "i = Foo()"
   ]
  },
  {
   "cell_type": "code",
   "execution_count": 4,
   "metadata": {},
   "outputs": [
    {
     "name": "stdout",
     "output_type": "stream",
     "text": [
      "Getting ...\n"
     ]
    },
    {
     "data": {
      "text/plain": [
       "7"
      ]
     },
     "execution_count": 4,
     "metadata": {},
     "output_type": "execute_result"
    }
   ],
   "source": [
    "i.x"
   ]
  },
  {
   "cell_type": "code",
   "execution_count": 5,
   "metadata": {},
   "outputs": [
    {
     "name": "stdout",
     "output_type": "stream",
     "text": [
      "Setting 100\n"
     ]
    }
   ],
   "source": [
    "i.x = 100"
   ]
  },
  {
   "cell_type": "code",
   "execution_count": 6,
   "metadata": {},
   "outputs": [
    {
     "name": "stdout",
     "output_type": "stream",
     "text": [
      "Getting ...\n"
     ]
    },
    {
     "data": {
      "text/plain": [
       "100"
      ]
     },
     "execution_count": 6,
     "metadata": {},
     "output_type": "execute_result"
    }
   ],
   "source": [
    "i.x"
   ]
  },
  {
   "cell_type": "code",
   "execution_count": 7,
   "metadata": {},
   "outputs": [
    {
     "name": "stdout",
     "output_type": "stream",
     "text": [
      "Deleting ...\n"
     ]
    }
   ],
   "source": [
    "del i.x"
   ]
  },
  {
   "cell_type": "code",
   "execution_count": 8,
   "metadata": {},
   "outputs": [
    {
     "name": "stdout",
     "output_type": "stream",
     "text": [
      "Getting ...\n"
     ]
    },
    {
     "data": {
      "text/plain": [
       "7"
      ]
     },
     "execution_count": 8,
     "metadata": {},
     "output_type": "execute_result"
    }
   ],
   "source": [
    "i.x"
   ]
  },
  {
   "cell_type": "markdown",
   "metadata": {},
   "source": [
    "### Section 118.2: Two-way conversions"
   ]
  },
  {
   "cell_type": "raw",
   "metadata": {},
   "source": [
    "Descriptor objects can allow related object attributes to react to changes automatically."
   ]
  },
  {
   "cell_type": "raw",
   "metadata": {},
   "source": [
    "Suppose we want to model an oscillator with a given frequency (in Hertz) and period (in seconds). When we update\n",
    "the frequency we want the period to update, and when we update the period we want the frequency to update:"
   ]
  },
  {
   "cell_type": "raw",
   "metadata": {},
   "source": [
    "We pick one of the values (frequency, in Hertz) as the \"anchor,\" i.e. the one that can be set with no conversion, and\n",
    "write a descriptor class for it:"
   ]
  },
  {
   "cell_type": "code",
   "execution_count": 22,
   "metadata": {},
   "outputs": [],
   "source": [
    "class Hertz(object):\n",
    "    def __get__(self, instance, owner):\n",
    "        return self.value\n",
    "    def __set__(self, instance, value):\n",
    "        self.value = float(value)"
   ]
  },
  {
   "cell_type": "raw",
   "metadata": {},
   "source": [
    "The \"other\" value (period, in seconds) is defined in terms of the anchor. We write a descriptor class that does our\n",
    "conversions:"
   ]
  },
  {
   "cell_type": "code",
   "execution_count": 23,
   "metadata": {},
   "outputs": [],
   "source": [
    "class Second(object):\n",
    "    def __get__(self, instance, owner):\n",
    "    # When reading period, convert from frequency\n",
    "        return 1 / instance.freq\n",
    "    def __set__(self, instance, value):\n",
    "    # When setting period, update the frequency\n",
    "        instance.freq = 1 / float(value)"
   ]
  },
  {
   "cell_type": "raw",
   "metadata": {},
   "source": [
    "Now we can write the Oscillator class:"
   ]
  },
  {
   "cell_type": "code",
   "execution_count": 24,
   "metadata": {},
   "outputs": [],
   "source": [
    "class Oscillator(object):\n",
    "    period = Second() # Set the other value as a class attribute\n",
    "    def __init__(self, freq):\n",
    "        self.freq = Hertz() # Set the anchor value as an instance attribute\n",
    "        self.freq = freq # Assign the passed value - self.period will be adjusted"
   ]
  },
  {
   "cell_type": "code",
   "execution_count": 25,
   "metadata": {},
   "outputs": [],
   "source": [
    "oscillator = Oscillator(freq=100.0)"
   ]
  },
  {
   "cell_type": "code",
   "execution_count": 26,
   "metadata": {},
   "outputs": [
    {
     "data": {
      "text/plain": [
       "0.01"
      ]
     },
     "execution_count": 26,
     "metadata": {},
     "output_type": "execute_result"
    }
   ],
   "source": [
    "oscillator.period"
   ]
  },
  {
   "cell_type": "code",
   "execution_count": 27,
   "metadata": {},
   "outputs": [],
   "source": [
    "oscillator.period = 0.02"
   ]
  },
  {
   "cell_type": "code",
   "execution_count": 28,
   "metadata": {},
   "outputs": [
    {
     "data": {
      "text/plain": [
       "50.0"
      ]
     },
     "execution_count": 28,
     "metadata": {},
     "output_type": "execute_result"
    }
   ],
   "source": [
    "oscillator.freq # The frequency is automatically adjusted"
   ]
  },
  {
   "cell_type": "code",
   "execution_count": 29,
   "metadata": {},
   "outputs": [],
   "source": [
    "oscillator.freq = 200.0 # Set the frequency to 200.0 Hz"
   ]
  },
  {
   "cell_type": "code",
   "execution_count": 31,
   "metadata": {},
   "outputs": [
    {
     "data": {
      "text/plain": [
       "0.005"
      ]
     },
     "execution_count": 31,
     "metadata": {},
     "output_type": "execute_result"
    }
   ],
   "source": [
    "oscillator.period # The period is automatically adjusted"
   ]
  },
  {
   "cell_type": "code",
   "execution_count": null,
   "metadata": {},
   "outputs": [],
   "source": []
  }
 ],
 "metadata": {
  "kernelspec": {
   "display_name": "Python [default]",
   "language": "python",
   "name": "python3"
  },
  "language_info": {
   "codemirror_mode": {
    "name": "ipython",
    "version": 3
   },
   "file_extension": ".py",
   "mimetype": "text/x-python",
   "name": "python",
   "nbconvert_exporter": "python",
   "pygments_lexer": "ipython3",
   "version": "3.6.3"
  }
 },
 "nbformat": 4,
 "nbformat_minor": 2
}
