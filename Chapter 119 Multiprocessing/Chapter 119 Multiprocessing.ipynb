{
 "cells": [
  {
   "cell_type": "markdown",
   "metadata": {},
   "source": [
    "### Section 119.1: Running Two Simple Processes"
   ]
  },
  {
   "cell_type": "raw",
   "metadata": {},
   "source": [
    "A simple example of using multiple processes would be two processes (workers) that are executed separately. In\n",
    "the following example, two processes are started:"
   ]
  },
  {
   "cell_type": "raw",
   "metadata": {},
   "source": [
    "countUp() counts 1 up, every second.\n",
    "countDown() counts 1 down, every second."
   ]
  },
  {
   "cell_type": "code",
   "execution_count": 1,
   "metadata": {},
   "outputs": [],
   "source": [
    "import multiprocessing\n",
    "import time\n",
    "from random import randint\n",
    "def countUp():\n",
    "    i = 0\n",
    "    while i <= 3:\n",
    "        print('Up:\\t{}'.format(i))\n",
    "        time.sleep(randint(1, 3)) # sleep 1, 2 or 3 seconds\n",
    "        i += 1\n",
    "def countDown():\n",
    "    i = 3\n",
    "    while i >= 0:\n",
    "        print('Down:\\t{}'.format(i))\n",
    "        time.sleep(randint(1, 3)) # sleep 1, 2 or 3 seconds\n",
    "        i -= 1\n",
    "if __name__ == '__main__':\n",
    "    # Initiate the workers.\n",
    "    workerUp = multiprocessing.Process(target=countUp)\n",
    "    workerDown = multiprocessing.Process(target=countDown)\n",
    "    # Start the workers.\n",
    "    workerUp.start()\n",
    "    workerDown.start()\n",
    "    # Join the workers. This will block in the main (parent) process\n",
    "    # until the workers are complete.\n",
    "    workerUp.join()\n",
    "    workerDown.join()"
   ]
  },
  {
   "cell_type": "code",
   "execution_count": 2,
   "metadata": {},
   "outputs": [
    {
     "name": "stdout",
     "output_type": "stream",
     "text": [
      "Microsoft Windows [版本 10.0.16299.309]\n",
      "(c) 2017 Microsoft Corporation。保留所有权利。\n",
      "\n",
      "E:\\MyFile\\Jupyter\\Python-Learn\\Chapter 119 Multiprocessing>python multiprocessing-1.py\n",
      "Up:\t0\n",
      "Up:\t1\n",
      "Up:\t2\n",
      "Up:\t3\n",
      "Down:\t3\n",
      "Down:\t2\n",
      "Down:\t1\n",
      "Down:\t0\n",
      "\n",
      "E:\\MyFile\\Jupyter\\Python-Learn\\Chapter 119 Multiprocessing>"
     ]
    }
   ],
   "source": [
    "%%cmd\n",
    "python multiprocessing-1.py"
   ]
  },
  {
   "cell_type": "markdown",
   "metadata": {},
   "source": [
    "### Section 119.2: Using Pool and Map"
   ]
  },
  {
   "cell_type": "code",
   "execution_count": null,
   "metadata": {},
   "outputs": [],
   "source": [
    "from multiprocessing import Pool\n",
    "def cube(x):\n",
    "    return x ** 3\n",
    "if __name__ == '__main__':\n",
    "    with Pool(5) as p:\n",
    "        print(p.map(cube,[1,2,3]))"
   ]
  },
  {
   "cell_type": "code",
   "execution_count": 3,
   "metadata": {},
   "outputs": [
    {
     "name": "stdout",
     "output_type": "stream",
     "text": [
      "Microsoft Windows [版本 10.0.16299.309]\n",
      "(c) 2017 Microsoft Corporation。保留所有权利。\n",
      "\n",
      "E:\\MyFile\\Jupyter\\Python-Learn\\Chapter 119 Multiprocessing>python multiprocessing-2.py\n",
      "[1, 8, 27]\n",
      "\n",
      "E:\\MyFile\\Jupyter\\Python-Learn\\Chapter 119 Multiprocessing>"
     ]
    }
   ],
   "source": [
    "%%cmd\n",
    "python multiprocessing-2.py"
   ]
  },
  {
   "cell_type": "raw",
   "metadata": {},
   "source": [
    "Pool is a class which manages multiple Workers (processes) behind the scenes and lets you, the programmer, use.\n",
    "Pool(5) creates a new Pool with 5 processes, and pool.map works just like map but it uses multiple processes (the\n",
    "amount defined when creating the pool)."
   ]
  },
  {
   "cell_type": "markdown",
   "metadata": {},
   "source": [
    "Similar results can be achieved using map_async , apply and apply_async which can be found in the [documentation](https://docs.python.org/2/library/multiprocessing.html)."
   ]
  },
  {
   "cell_type": "code",
   "execution_count": null,
   "metadata": {},
   "outputs": [],
   "source": []
  }
 ],
 "metadata": {
  "kernelspec": {
   "display_name": "Python [default]",
   "language": "python",
   "name": "python3"
  },
  "language_info": {
   "codemirror_mode": {
    "name": "ipython",
    "version": 3
   },
   "file_extension": ".py",
   "mimetype": "text/x-python",
   "name": "python",
   "nbconvert_exporter": "python",
   "pygments_lexer": "ipython3",
   "version": "3.6.3"
  }
 },
 "nbformat": 4,
 "nbformat_minor": 2
}
