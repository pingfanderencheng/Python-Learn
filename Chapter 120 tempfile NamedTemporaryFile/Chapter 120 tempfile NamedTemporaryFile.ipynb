{
 "cells": [
  {
   "cell_type": "markdown",
   "metadata": {},
   "source": [
    "| param | description |\n",
    "| --- | --- |\n",
    "| mode | mode to open file, default=w+b |\n",
    "| delete | To delete file on closure, default=True |\n",
    "| suffix | filename suffix, default='' |\n",
    "| prefix | filename prefix, default='tmp' | \n",
    "| dir | dirname to place tempfile, default=None |\n",
    "| buffsize | default=-1, (operating system default used) |"
   ]
  },
  {
   "cell_type": "markdown",
   "metadata": {},
   "source": [
    "### Section 120.1: Create (and write to a) known, persistant temporary file"
   ]
  },
  {
   "cell_type": "raw",
   "metadata": {},
   "source": [
    "You can create temporary files which has a visible name on the file system which can be accessed via the name\n",
    "property. The file can, on unix systems, be configured to delete on closure (set by delete param, default is True) or\n",
    "can be reopened later."
   ]
  },
  {
   "cell_type": "raw",
   "metadata": {},
   "source": [
    "The following will create and open a named temporary file and write 'Hello World!' to that file. The filepath of the\n",
    "temporary file can be accessed via name , in this example it is saved to the variable path and printed for the user.\n",
    "The file is then re-opened after closing the file and the contents of the tempfile are read and printed for the user."
   ]
  },
  {
   "cell_type": "code",
   "execution_count": 4,
   "metadata": {},
   "outputs": [
    {
     "name": "stdout",
     "output_type": "stream",
     "text": [
      "C:\\Users\\songc\\AppData\\Local\\Temp\\tmpm7o015nc\n",
      "Hello World!\n"
     ]
    }
   ],
   "source": [
    "import tempfile\n",
    "with tempfile.NamedTemporaryFile(delete=False) as t:\n",
    "    t.write(b'Hello World!')\n",
    "    path = t.name\n",
    "    print (path)\n",
    "with open(path) as t:\n",
    "    print (t.read())"
   ]
  },
  {
   "cell_type": "code",
   "execution_count": null,
   "metadata": {},
   "outputs": [],
   "source": []
  }
 ],
 "metadata": {
  "kernelspec": {
   "display_name": "Python [default]",
   "language": "python",
   "name": "python3"
  },
  "language_info": {
   "codemirror_mode": {
    "name": "ipython",
    "version": 3
   },
   "file_extension": ".py",
   "mimetype": "text/x-python",
   "name": "python",
   "nbconvert_exporter": "python",
   "pygments_lexer": "ipython3",
   "version": "3.6.3"
  }
 },
 "nbformat": 4,
 "nbformat_minor": 2
}
