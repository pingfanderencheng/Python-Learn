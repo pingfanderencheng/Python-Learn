{
 "cells": [
  {
   "cell_type": "markdown",
   "metadata": {},
   "source": [
    "| Parameter | Details |\n",
    "| --- | --- |\n",
    "| open (\"/path/\", \"mode\") | Specify the path to your CSV file |\n",
    "| open (path, \"mode\") | Specify mode to open file in (read, write, etc.) |\n",
    "| csv.writer(file, delimiter) | Pass opened CSV file here |\n",
    "| csv.writer(file, delimiter=' ') | Specify delimiter character or pattern |"
   ]
  },
  {
   "cell_type": "raw",
   "metadata": {},
   "source": [
    "Writing to a .csv file is not unlike writing to a regular file in most regards, and is fairly straightforward. I will, to the\n",
    "best of my ability, cover the easiest, and most efficient approach to the problem."
   ]
  },
  {
   "cell_type": "markdown",
   "metadata": {},
   "source": [
    "### Section 122.1: Basic Write Example"
   ]
  },
  {
   "cell_type": "code",
   "execution_count": 19,
   "metadata": {},
   "outputs": [],
   "source": [
    "import csv\n",
    "#------ We will write to CSV in this function ------------\n",
    "def csv_writer(data, path):\n",
    "    #Open CSV file whose path we passed.\n",
    "    with open(path, \"w\") as csv_file:\n",
    "        writer = csv.writer(csv_file, delimiter=',')\n",
    "        for line in data:\n",
    "            writer.writerow(line)\n",
    "#---- Define our list here, and call function ------------\n",
    "                            \n",
    "if __name__ == \"__main__\":\n",
    "    data = [\"first_name,last_name,age\".split(\",\"),\n",
    "    \"John,Doe,22\".split(\",\"),\n",
    "    \"Jane,Doe,31\".split(\",\"),\n",
    "    \"Jack,Reacher,27\".split(\",\")\n",
    "    ]\n",
    "    # Path to CSV file we want to write to.\n",
    "    path = \"output.csv\"\n",
    "    csv_writer(data, path)"
   ]
  },
  {
   "cell_type": "markdown",
   "metadata": {},
   "source": [
    "### Section 122.2: Appending a String as a newline in a CSV file"
   ]
  },
  {
   "cell_type": "code",
   "execution_count": 20,
   "metadata": {},
   "outputs": [],
   "source": [
    "def append_to_csv(input_string):\n",
    "    with open(\"fileName.csv\", \"a\") as csv_file:\n",
    "        csv_file.write(input_row + \"\\n\")"
   ]
  },
  {
   "cell_type": "code",
   "execution_count": null,
   "metadata": {},
   "outputs": [],
   "source": []
  }
 ],
 "metadata": {
  "kernelspec": {
   "display_name": "Python [default]",
   "language": "python",
   "name": "python3"
  },
  "language_info": {
   "codemirror_mode": {
    "name": "ipython",
    "version": 3
   },
   "file_extension": ".py",
   "mimetype": "text/x-python",
   "name": "python",
   "nbconvert_exporter": "python",
   "pygments_lexer": "ipython3",
   "version": "3.6.3"
  }
 },
 "nbformat": 4,
 "nbformat_minor": 2
}
