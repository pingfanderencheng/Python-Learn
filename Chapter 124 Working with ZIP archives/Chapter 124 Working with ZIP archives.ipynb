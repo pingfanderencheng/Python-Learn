{
 "cells": [
  {
   "cell_type": "markdown",
   "metadata": {},
   "source": [
    "### Section 124.1: Examining Zipfile Contents"
   ]
  },
  {
   "cell_type": "raw",
   "metadata": {},
   "source": [
    "There are a few ways to inspect the contents of a zipfile. You can use the printdir to just get a variety of\n",
    "information sent to stdout"
   ]
  },
  {
   "cell_type": "code",
   "execution_count": 3,
   "metadata": {},
   "outputs": [
    {
     "name": "stdout",
     "output_type": "stream",
     "text": [
      "File Name                                             Modified             Size\n",
      "aio_friend_bg_nor.png                          2014-01-09 11:43:24         2683\n",
      "aio_friend_pic_nor.png                         2014-01-09 11:43:24         1845\n",
      "aio_user_bg_nor.png                            2014-01-09 11:43:24         2694\n",
      "aio_user_pic_nor.png                           2014-01-09 11:43:24         1745\n",
      "config.json                                    2014-01-09 11:43:24          150\n"
     ]
    }
   ],
   "source": [
    "import zipfile\n",
    "filename = \"1.zip\"\n",
    "with zipfile.ZipFile(filename) as zip:\n",
    "    zip.printdir()"
   ]
  },
  {
   "cell_type": "raw",
   "metadata": {},
   "source": [
    "We can also get a list of filenames with the namelist method. Here, we simply print the list:"
   ]
  },
  {
   "cell_type": "code",
   "execution_count": 4,
   "metadata": {},
   "outputs": [
    {
     "name": "stdout",
     "output_type": "stream",
     "text": [
      "['aio_friend_bg_nor.png', 'aio_friend_pic_nor.png', 'aio_user_bg_nor.png', 'aio_user_pic_nor.png', 'config.json']\n"
     ]
    }
   ],
   "source": [
    "with zipfile.ZipFile(filename) as zip:\n",
    "    print(zip.namelist())"
   ]
  },
  {
   "cell_type": "raw",
   "metadata": {},
   "source": [
    "Instead of namelist , we can call the infolist method, which returns a list of ZipInfo objects, which contain\n",
    "additional information about each file, for instance a timestamp and file size:"
   ]
  },
  {
   "cell_type": "code",
   "execution_count": 6,
   "metadata": {},
   "outputs": [
    {
     "name": "stdout",
     "output_type": "stream",
     "text": [
      "aio_friend_bg_nor.png\n",
      "(2014, 1, 9, 11, 43, 24)\n",
      "2683\n"
     ]
    }
   ],
   "source": [
    "with zipfile.ZipFile(filename) as zip:\n",
    "    info = zip.infolist()\n",
    "    print(info[0].filename)\n",
    "    print(info[0].date_time)\n",
    "    print(info[0].file_size)"
   ]
  },
  {
   "cell_type": "markdown",
   "metadata": {},
   "source": [
    "### Section 124.2: Opening Zip Files"
   ]
  },
  {
   "cell_type": "raw",
   "metadata": {},
   "source": [
    "To start, import the zipfile module, and set the filename."
   ]
  },
  {
   "cell_type": "code",
   "execution_count": 7,
   "metadata": {},
   "outputs": [],
   "source": [
    "import zipfile\n",
    "filename = '1.zip'"
   ]
  },
  {
   "cell_type": "raw",
   "metadata": {},
   "source": [
    "Working with zip archives is very similar to working with files, you create the object by opening the zipfile, which lets\n",
    "you work on it before closing the file up again."
   ]
  },
  {
   "cell_type": "code",
   "execution_count": 8,
   "metadata": {},
   "outputs": [
    {
     "name": "stdout",
     "output_type": "stream",
     "text": [
      "<zipfile.ZipFile filename='1.zip' mode='r'>\n"
     ]
    }
   ],
   "source": [
    "zip = zipfile.ZipFile(filename)\n",
    "print(zip)\n",
    "# <zipfile.ZipFile object at 0x0000000002E51A90>\n",
    "zip.close()"
   ]
  },
  {
   "cell_type": "raw",
   "metadata": {},
   "source": [
    "In Python 2.7 and in Python 3 versions higher than 3.2, we can use the with context manager. We open the file in\n",
    "\"read\" mode, and then print a list of filenames:"
   ]
  },
  {
   "cell_type": "code",
   "execution_count": 9,
   "metadata": {},
   "outputs": [
    {
     "name": "stdout",
     "output_type": "stream",
     "text": [
      "<zipfile.ZipFile [closed]>\n"
     ]
    }
   ],
   "source": [
    "with zipfile.ZipFile(filename, 'r') as z:\n",
    "    print(zip)"
   ]
  },
  {
   "cell_type": "markdown",
   "metadata": {},
   "source": [
    "### Section 124.3: Extracting zip file contents to a directory"
   ]
  },
  {
   "cell_type": "code",
   "execution_count": 10,
   "metadata": {},
   "outputs": [],
   "source": [
    "import zipfile\n",
    "with zipfile.ZipFile('1.zip','r') as zfile:\n",
    "    zfile.extractall('path')"
   ]
  },
  {
   "cell_type": "raw",
   "metadata": {},
   "source": [
    "If you want extract single files use extract method, it takes name list and path as input parameter"
   ]
  },
  {
   "cell_type": "code",
   "execution_count": 11,
   "metadata": {},
   "outputs": [],
   "source": [
    "with zipfile.ZipFile('1.zip','r') as zfile:\n",
    "    for cont in zfile.namelist():\n",
    "        zfile.extract(cont,'path2')"
   ]
  },
  {
   "cell_type": "markdown",
   "metadata": {},
   "source": [
    "### Section 124.4: Creating new archives"
   ]
  },
  {
   "cell_type": "raw",
   "metadata": {},
   "source": [
    "To create new archive open zipfile with write mode."
   ]
  },
  {
   "cell_type": "code",
   "execution_count": 12,
   "metadata": {},
   "outputs": [],
   "source": [
    "import zipfile\n",
    "new_arch=zipfile.ZipFile(\"filename.zip\",mode=\"w\")"
   ]
  },
  {
   "cell_type": "raw",
   "metadata": {},
   "source": [
    "To add files to this archive use write() method."
   ]
  },
  {
   "cell_type": "code",
   "execution_count": 13,
   "metadata": {},
   "outputs": [],
   "source": [
    "new_arch.write('path','path_in_archive') #first parameter is filename and second parameter is filename in archive by default filename will taken if not provided\n",
    "new_arch.close()"
   ]
  },
  {
   "cell_type": "raw",
   "metadata": {},
   "source": [
    "If you want to write string of bytes into the archive you can use writestr() method."
   ]
  },
  {
   "cell_type": "code",
   "execution_count": 14,
   "metadata": {},
   "outputs": [],
   "source": [
    "new_arch = zipfile.ZipFile('filename2.zip', mode=\"w\")\n",
    "str_bytes=\"string buffer\"\n",
    "new_arch.writestr('filename_string_in_archive.txt',str_bytes)\n",
    "new_arch.close()"
   ]
  },
  {
   "cell_type": "code",
   "execution_count": 15,
   "metadata": {},
   "outputs": [
    {
     "name": "stdout",
     "output_type": "stream",
     "text": [
      "File Name                                             Modified             Size\n",
      "path_in_archive/                               2018-03-17 21:51:54            0\n"
     ]
    }
   ],
   "source": [
    "with zipfile.ZipFile('filename.zip', mode=\"r\") as zfile:\n",
    "    zfile.printdir()"
   ]
  },
  {
   "cell_type": "code",
   "execution_count": 16,
   "metadata": {},
   "outputs": [
    {
     "name": "stdout",
     "output_type": "stream",
     "text": [
      "File Name                                             Modified             Size\n",
      "filename_string_in_archive.txt                 2018-03-17 21:58:38           13\n"
     ]
    }
   ],
   "source": [
    "with zipfile.ZipFile('filename2.zip', mode=\"r\") as zfile:\n",
    "    zfile.printdir()"
   ]
  },
  {
   "cell_type": "code",
   "execution_count": null,
   "metadata": {},
   "outputs": [],
   "source": []
  }
 ],
 "metadata": {
  "kernelspec": {
   "display_name": "Python [default]",
   "language": "python",
   "name": "python3"
  },
  "language_info": {
   "codemirror_mode": {
    "name": "ipython",
    "version": 3
   },
   "file_extension": ".py",
   "mimetype": "text/x-python",
   "name": "python",
   "nbconvert_exporter": "python",
   "pygments_lexer": "ipython3",
   "version": "3.6.3"
  }
 },
 "nbformat": 4,
 "nbformat_minor": 2
}
