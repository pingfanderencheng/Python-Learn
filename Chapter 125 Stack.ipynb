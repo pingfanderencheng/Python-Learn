{
 "cells": [
  {
   "cell_type": "raw",
   "metadata": {},
   "source": [
    "A stack is a container of objects that are inserted and removed according to the last-in first-out (LIFO) principle. In\n",
    "the pushdown stacks only two operations are allowed: push the item into the stack, and pop the item out of\n",
    "the stack. A stack is a limited access data structure - elements can be added and removed from the stack only\n",
    "at the top. Here is a structural definition of a Stack: a stack is either empty or it consists of a top and the rest which\n",
    "is a Stack."
   ]
  },
  {
   "cell_type": "markdown",
   "metadata": {},
   "source": [
    "### Section 125.1: Creating a Stack class with a List Object"
   ]
  },
  {
   "cell_type": "markdown",
   "metadata": {},
   "source": [
    "Using a list object you can create a fully functional generic Stack with helper methods such as peeking and\n",
    "checking if the stack is Empty. Check out the official python docs for using list as Stack [here](https://docs.python.org/3/tutorial/datastructures.html#using-lists-as-stacks)."
   ]
  },
  {
   "cell_type": "code",
   "execution_count": 1,
   "metadata": {},
   "outputs": [],
   "source": [
    "#define a stack class\n",
    "class Stack:\n",
    "    def __init__(self):\n",
    "        self.items = []\n",
    "    #method to check the stack is empty or not\n",
    "    def isEmpty(self):\n",
    "        return self.items == []\n",
    "    #method for pushing an item\n",
    "    def push(self, item):\n",
    "        self.items.append(item)\n",
    "    #method for popping an item\n",
    "    def pop(self):\n",
    "        return self.items.pop()\n",
    "    #check what item is on top of the stack without removing it\n",
    "    def peek(self):\n",
    "        return self.items[-1]\n",
    "    #method to get the size\n",
    "    def size(self):\n",
    "        return len(self.items)\n",
    "    #to view the entire stack\n",
    "    def fullStack(self):\n",
    "        return self.items"
   ]
  },
  {
   "cell_type": "code",
   "execution_count": 2,
   "metadata": {},
   "outputs": [
    {
     "name": "stdout",
     "output_type": "stream",
     "text": [
      "Current stack: []\n",
      "Stack empty?: True\n",
      "Pushing integer 1\n",
      "Pushing string \"Told you, I am generic stack!\"\n",
      "Pushing integer 3\n",
      "Current stack: [1, 'Told you, I am generic stack!', 3]\n",
      "Popped item: 3\n",
      "Current stack: [1, 'Told you, I am generic stack!']\n",
      "Stack empty?: False\n"
     ]
    }
   ],
   "source": [
    "stack = Stack()\n",
    "print('Current stack:', stack.fullStack())\n",
    "print('Stack empty?:', stack.isEmpty())\n",
    "print('Pushing integer 1')\n",
    "stack.push(1)\n",
    "print('Pushing string \"Told you, I am generic stack!\"')\n",
    "stack.push('Told you, I am generic stack!')\n",
    "print('Pushing integer 3')\n",
    "stack.push(3)\n",
    "print('Current stack:', stack.fullStack())\n",
    "print('Popped item:', stack.pop())\n",
    "print('Current stack:', stack.fullStack())\n",
    "print('Stack empty?:', stack.isEmpty())"
   ]
  },
  {
   "cell_type": "markdown",
   "metadata": {},
   "source": [
    "### Section 125.2: Parsing Parentheses"
   ]
  },
  {
   "cell_type": "raw",
   "metadata": {},
   "source": [
    "Stacks are often used for parsing. A simple parsing task is to check whether a string of parentheses are matching."
   ]
  },
  {
   "cell_type": "raw",
   "metadata": {},
   "source": [
    "For example, the string ([]) is matching, because the outer and inner brackets form pairs. ()<>) is not matching,\n",
    "because the last ) has no partner. ([)] is also not matching, because pairs must be either entirely inside or outside\n",
    "other pairs."
   ]
  },
  {
   "cell_type": "code",
   "execution_count": 4,
   "metadata": {},
   "outputs": [],
   "source": [
    "def checkParenth(str):\n",
    "    stack = Stack()\n",
    "    pushChars, popChars = \"<({[\", \">)}]\"\n",
    "    for c in str:\n",
    "        if c in pushChars:\n",
    "            stack.push(c)\n",
    "        elif c in popChars:\n",
    "            if stack.isEmpty():\n",
    "                return False\n",
    "            else:\n",
    "                stackTop = stack.pop()\n",
    "                # Checks to see whether the opening bracket matches the closing one\n",
    "                balancingBracket = pushChars[popChars.index(c)]\n",
    "                if stackTop != balancingBracket:\n",
    "                    return False\n",
    "        else:\n",
    "            return False\n",
    "    return not stack.isEmpty()"
   ]
  },
  {
   "cell_type": "code",
   "execution_count": null,
   "metadata": {},
   "outputs": [],
   "source": []
  }
 ],
 "metadata": {
  "kernelspec": {
   "display_name": "Python [default]",
   "language": "python",
   "name": "python3"
  },
  "language_info": {
   "codemirror_mode": {
    "name": "ipython",
    "version": 3
   },
   "file_extension": ".py",
   "mimetype": "text/x-python",
   "name": "python",
   "nbconvert_exporter": "python",
   "pygments_lexer": "ipython3",
   "version": "3.6.3"
  }
 },
 "nbformat": 4,
 "nbformat_minor": 2
}
