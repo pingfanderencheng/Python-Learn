{
 "cells": [
  {
   "cell_type": "markdown",
   "metadata": {},
   "source": [
    "### Section 128.1: Multiprocessing.Pool"
   ]
  },
  {
   "cell_type": "raw",
   "metadata": {},
   "source": [
    "The simple answer, when asking how to use threads in Python is: \"Don't. Use processes, instead.\" The\n",
    "multiprocessing module lets you create processes with similar syntax to creating threads, but I prefer using their\n",
    "convenient Pool object."
   ]
  },
  {
   "cell_type": "markdown",
   "metadata": {},
   "source": [
    "Using [the code that David Beazley first used to show the dangers of threads against the GIL](http://www.dabeaz.com/GIL/gilvis/measure2.py), we'll rewrite it using\n",
    "[multiprocessing.Pool](http://www.dabeaz.com/GIL/gilvis/measure2.py):"
   ]
  },
  {
   "cell_type": "raw",
   "metadata": {},
   "source": [
    "David Beazley's code that showed GIL threading problems"
   ]
  },
  {
   "cell_type": "code",
   "execution_count": 1,
   "metadata": {},
   "outputs": [
    {
     "name": "stdout",
     "output_type": "stream",
     "text": [
      "0.6211702823638916\n"
     ]
    }
   ],
   "source": [
    "from threading import Thread\n",
    "import time\n",
    "def countdown(n):\n",
    "    while n > 0:\n",
    "        n -= 1\n",
    "COUNT = 10000000\n",
    "t1 = Thread(target=countdown,args=(COUNT/2,))\n",
    "t2 = Thread(target=countdown,args=(COUNT/2,))\n",
    "start = time.time()\n",
    "t1.start();t2.start()\n",
    "t1.join();t2.join()\n",
    "end = time.time()\n",
    "print (end-start)"
   ]
  },
  {
   "cell_type": "raw",
   "metadata": {},
   "source": [
    "Re-written using multiprocessing.Pool:"
   ]
  },
  {
   "cell_type": "code",
   "execution_count": null,
   "metadata": {},
   "outputs": [],
   "source": [
    "import multiprocessing\n",
    "import time\n",
    "def countdown(n):\n",
    "    while n > 0:\n",
    "        n -= 1\n",
    "    return n\n",
    "COUNT = 10000000\n",
    "start = time.time()\n",
    "with multiprocessing.Pool() as pool:\n",
    "    pool.map(countdown, [COUNT/2, COUNT/2])\n",
    "end = time.time()\n",
    "print(end-start)"
   ]
  },
  {
   "cell_type": "code",
   "execution_count": 1,
   "metadata": {},
   "outputs": [
    {
     "name": "stdout",
     "output_type": "stream",
     "text": [
      "Microsoft Windows [版本 10.0.16299.309]\n",
      "(c) 2017 Microsoft Corporation。保留所有权利。\n",
      "\n",
      "E:\\MyFile\\Jupyter\\Python-Learn\\Chapter 128 Working around the Global Interpreter Lock (GIL)>python test.py\n",
      "0.0\n",
      "0.0\n",
      "0.0\n",
      "0.0\n",
      "0.5089254379272461\n",
      "\n",
      "E:\\MyFile\\Jupyter\\Python-Learn\\Chapter 128 Working around the Global Interpreter Lock (GIL)>"
     ]
    }
   ],
   "source": [
    "%%cmd\n",
    "python test.py"
   ]
  },
  {
   "cell_type": "raw",
   "metadata": {},
   "source": [
    "I've found that, even using the with statement, if you don't close and join the pool, the processes continue to exist.To clean up resources, I always close and join my pools."
   ]
  },
  {
   "cell_type": "markdown",
   "metadata": {},
   "source": [
    "### Section 128.2: Cython nogil:"
   ]
  },
  {
   "cell_type": "markdown",
   "metadata": {},
   "source": [
    "Cython is an alternative python interpreter. It uses the GIL, but lets you disable it. See [their documentation](http://docs.cython.org/en/latest/src/userguide/external_C_code.html?highlight=nogil.html#acquiring-and-releasing-the-gil)"
   ]
  },
  {
   "cell_type": "raw",
   "metadata": {},
   "source": [
    "As an example, using the code that David Beazley first used to show the dangers of threads against the GIL, we'll\n",
    "rewrite it using nogil:"
   ]
  },
  {
   "cell_type": "raw",
   "metadata": {},
   "source": [
    "David Beazley's code that showed GIL threading problems"
   ]
  },
  {
   "cell_type": "code",
   "execution_count": 1,
   "metadata": {},
   "outputs": [
    {
     "name": "stdout",
     "output_type": "stream",
     "text": [
      "0.7755618095397949\n"
     ]
    }
   ],
   "source": [
    "from threading import Thread\n",
    "import time\n",
    "def countdown(n):\n",
    "    while n > 0:\n",
    "        n -= 1\n",
    "COUNT = 10000000\n",
    "t1 = Thread(target=countdown,args=(COUNT/2,))\n",
    "t2 = Thread(target=countdown,args=(COUNT/2,))\n",
    "start = time.time()\n",
    "t1.start();t2.start()\n",
    "t1.join();t2.join()\n",
    "end = time.time()\n",
    "print (end-start)"
   ]
  },
  {
   "cell_type": "raw",
   "metadata": {},
   "source": [
    "Re-written using nogil (ONLY WORKS IN CYTHON):"
   ]
  },
  {
   "cell_type": "code",
   "execution_count": null,
   "metadata": {},
   "outputs": [],
   "source": [
    "from threading import Thread\n",
    "import time\n",
    "def countdown(n):\n",
    "    while n > 0:\n",
    "        n -= 1\n",
    "COUNT = 10000000\n",
    "with nogil:\n",
    "    t1 = Thread(target=countdown,args=(COUNT/2,))\n",
    "    t2 = Thread(target=countdown,args=(COUNT/2,))\n",
    "    start = time.time()\n",
    "    t1.start();t2.start()\n",
    "    t1.join();t2.join()\n",
    "end = time.time()\n",
    "print (end-start)"
   ]
  },
  {
   "cell_type": "raw",
   "metadata": {},
   "source": [
    "It's that simple, as long as you're using cython. Note that the documentation says you must make sure not to\n",
    "change any python objects:"
   ]
  },
  {
   "cell_type": "raw",
   "metadata": {},
   "source": [
    "Code in the body of the statement must not manipulate Python objects in any way, and must not call\n",
    "anything that manipulates Python objects without first re-acquiring the GIL. Cython currently does not\n",
    "check this."
   ]
  },
  {
   "cell_type": "code",
   "execution_count": null,
   "metadata": {},
   "outputs": [],
   "source": []
  }
 ],
 "metadata": {
  "kernelspec": {
   "display_name": "Python [default]",
   "language": "python",
   "name": "python3"
  },
  "language_info": {
   "codemirror_mode": {
    "name": "ipython",
    "version": 3
   },
   "file_extension": ".py",
   "mimetype": "text/x-python",
   "name": "python",
   "nbconvert_exporter": "python",
   "pygments_lexer": "ipython3",
   "version": "3.6.3"
  }
 },
 "nbformat": 4,
 "nbformat_minor": 2
}
