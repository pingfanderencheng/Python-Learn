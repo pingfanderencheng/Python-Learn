{
 "cells": [
  {
   "cell_type": "markdown",
   "metadata": {},
   "source": [
    "### Section 130.1: Introduction to Python Logging"
   ]
  },
  {
   "cell_type": "raw",
   "metadata": {},
   "source": [
    "This module defines functions and classes which implement a flexible event logging system for applications and\n",
    "libraries."
   ]
  },
  {
   "cell_type": "raw",
   "metadata": {},
   "source": [
    "The key benefit of having the logging API provided by a standard library module is that all Python modules can\n",
    "participate in logging, so your application log can include your own messages integrated with messages from third-\n",
    "party modules."
   ]
  },
  {
   "cell_type": "code",
   "execution_count": 3,
   "metadata": {},
   "outputs": [
    {
     "name": "stderr",
     "output_type": "stream",
     "text": [
      "2018-03-20 20:59:58,192 root         DEBUG    this is a debug test\n"
     ]
    }
   ],
   "source": [
    "import logging\n",
    "logger = logging.getLogger()\n",
    "handler = logging.StreamHandler()\n",
    "formatter = logging.Formatter(\n",
    "'%(asctime)s %(name)-12s %(levelname)-8s %(message)s')\n",
    "handler.setFormatter(formatter)\n",
    "logger.addHandler(handler)\n",
    "logger.setLevel(logging.DEBUG)\n",
    "logger.debug('this is a %s test', 'debug')"
   ]
  },
  {
   "cell_type": "code",
   "execution_count": null,
   "metadata": {},
   "outputs": [],
   "source": [
    "Example Configuration via an INI File"
   ]
  },
  {
   "cell_type": "markdown",
   "metadata": {},
   "source": [
    "Assuming the file is named logging_config.ini. More details for the file format are in the [logging configuration](https://docs.python.org/3/howto/logging.html#configuring-logging)\n",
    "section of the [logging tutorial](https://docs.python.org/3/howto/logging.html)."
   ]
  },
  {
   "cell_type": "raw",
   "metadata": {},
   "source": [
    "[loggers]\n",
    "keys=root\n",
    "[handlers]\n",
    "keys=stream_handler\n",
    "[formatters]\n",
    "keys=formatter\n",
    "[logger_root]\n",
    "level=DEBUG\n",
    "handlers=stream_handler\n",
    "[handler_stream_handler]\n",
    "class=StreamHandler\n",
    "level=DEBUG\n",
    "formatter=formatter\n",
    "args=(sys.stderr,)\n",
    "[formatter_formatter]\n",
    "format=%(asctime)s %(name)-12s %(levelname)-8s %(message)s"
   ]
  },
  {
   "cell_type": "raw",
   "metadata": {},
   "source": [
    "Then use logging.config.fileConfig() in the code:"
   ]
  },
  {
   "cell_type": "code",
   "execution_count": 4,
   "metadata": {},
   "outputs": [
    {
     "name": "stderr",
     "output_type": "stream",
     "text": [
      "2018-03-20 21:07:10,834 root         DEBUG    often makes a very good meal of visiting tourists\n"
     ]
    }
   ],
   "source": [
    "import logging\n",
    "from logging.config import fileConfig\n",
    "fileConfig('logging_config.ini')\n",
    "logger = logging.getLogger()\n",
    "logger.debug('often makes a very good meal of %s', 'visiting tourists')"
   ]
  },
  {
   "cell_type": "markdown",
   "metadata": {},
   "source": [
    "**Example Configuration via a Dictionary**"
   ]
  },
  {
   "cell_type": "raw",
   "metadata": {},
   "source": [
    "As of Python 2.7, you can use a dictionary with configuration details. PEP 391 contains a list of the mandatory and\n",
    "optional elements in the configuration dictionary."
   ]
  },
  {
   "cell_type": "code",
   "execution_count": 5,
   "metadata": {},
   "outputs": [
    {
     "name": "stderr",
     "output_type": "stream",
     "text": [
      "2018-03-20 21:09:21,681 root         DEBUG    often makes a very good meal of visiting tourists\n"
     ]
    }
   ],
   "source": [
    "import logging\n",
    "from logging.config import dictConfig\n",
    "logging_config = dict(\n",
    "    version = 1,\n",
    "    formatters = {\n",
    "    'f': {'format':\n",
    "    '%(asctime)s %(name)-12s %(levelname)-8s %(message)s'}\n",
    "    },\n",
    "    handlers = {\n",
    "    'h': {'class': 'logging.StreamHandler',\n",
    "    'formatter': 'f',\n",
    "    'level': logging.DEBUG}\n",
    "    },\n",
    "    root = {\n",
    "    'handlers': ['h'],\n",
    "    'level': logging.DEBUG,\n",
    "    },\n",
    ")\n",
    "dictConfig(logging_config)\n",
    "logger = logging.getLogger()\n",
    "logger.debug('often makes a very good meal of %s', 'visiting tourists')"
   ]
  },
  {
   "cell_type": "markdown",
   "metadata": {},
   "source": [
    "### Section 130.2: Logging exceptions"
   ]
  },
  {
   "cell_type": "raw",
   "metadata": {},
   "source": [
    "If you want to log exceptions you can and should make use of the logging.exception(msg) method:"
   ]
  },
  {
   "cell_type": "code",
   "execution_count": 6,
   "metadata": {},
   "outputs": [
    {
     "name": "stderr",
     "output_type": "stream",
     "text": [
      "2018-03-20 21:13:16,800 root         ERROR    bar\n",
      "Traceback (most recent call last):\n",
      "  File \"<ipython-input-6-495d6d4349f4>\", line 4, in <module>\n",
      "    raise Exception('foo')\n",
      "Exception: foo\n"
     ]
    }
   ],
   "source": [
    "import logging\n",
    "logging.basicConfig()\n",
    "try:\n",
    "    raise Exception('foo')\n",
    "except:\n",
    "    logging.exception('bar')"
   ]
  },
  {
   "cell_type": "raw",
   "metadata": {},
   "source": [
    "Do not pass the exception as argument:"
   ]
  },
  {
   "cell_type": "raw",
   "metadata": {},
   "source": [
    "As logging.exception(msg) expects a msg arg, it is a common pitfall to pass the exception into the logging call like\n",
    "this:"
   ]
  },
  {
   "cell_type": "code",
   "execution_count": 7,
   "metadata": {},
   "outputs": [
    {
     "name": "stderr",
     "output_type": "stream",
     "text": [
      "2018-03-20 21:16:16,254 root         ERROR    foo\n",
      "Traceback (most recent call last):\n",
      "  File \"<ipython-input-7-37ffcb844fb5>\", line 2, in <module>\n",
      "    raise Exception('foo')\n",
      "Exception: foo\n"
     ]
    }
   ],
   "source": [
    "try:\n",
    "    raise Exception('foo')\n",
    "except Exception as e:\n",
    "    logging.exception(e)"
   ]
  },
  {
   "cell_type": "raw",
   "metadata": {},
   "source": [
    "While it might look as if this is the right thing to do at first, it is actually problematic due to the reason how\n",
    "exceptions and various encoding work together in the logging module:"
   ]
  },
  {
   "cell_type": "code",
   "execution_count": 8,
   "metadata": {},
   "outputs": [
    {
     "name": "stderr",
     "output_type": "stream",
     "text": [
      "2018-03-20 21:17:39,031 root         ERROR    föö\n",
      "Traceback (most recent call last):\n",
      "  File \"<ipython-input-8-d09ae1775110>\", line 2, in <module>\n",
      "    raise Exception(u'föö')\n",
      "Exception: föö\n"
     ]
    }
   ],
   "source": [
    "try:\n",
    "    raise Exception(u'föö')\n",
    "except Exception as e:\n",
    "    logging.exception(e)"
   ]
  },
  {
   "cell_type": "markdown",
   "metadata": {},
   "source": [
    "**在Python2.7会出现错误UnicodeEncodeError**"
   ]
  },
  {
   "cell_type": "markdown",
   "metadata": {},
   "source": [
    "**Logging exceptions with non ERROR log levels**"
   ]
  },
  {
   "cell_type": "raw",
   "metadata": {},
   "source": [
    "If you want to log an exception with another log level than ERROR, you can use the the exc_info argument of the\n",
    "default loggers:"
   ]
  },
  {
   "cell_type": "code",
   "execution_count": 10,
   "metadata": {},
   "outputs": [
    {
     "name": "stderr",
     "output_type": "stream",
     "text": [
      "2018-03-20 21:19:23,320 root         DEBUG    exception occurred\n",
      "NoneType: None\n",
      "2018-03-20 21:19:23,322 root         INFO     exception occurred\n",
      "NoneType: None\n",
      "2018-03-20 21:19:23,323 root         WARNING  exception occurred\n",
      "NoneType: None\n"
     ]
    }
   ],
   "source": [
    "logging.debug('exception occurred', exc_info=1)\n",
    "logging.info('exception occurred', exc_info=1)\n",
    "logging.warning('exception occurred', exc_info=1)"
   ]
  },
  {
   "cell_type": "markdown",
   "metadata": {},
   "source": [
    "**Accessing the exception's message**"
   ]
  },
  {
   "cell_type": "raw",
   "metadata": {},
   "source": [
    "Be aware that libraries out there might throw exceptions with messages as any of unicode or (utf-8 if you're lucky)\n",
    "byte-strings. If you really need to access an exception's text, the only reliable way, that will always work, is to use\n",
    "repr(e) or the %r string formatting:"
   ]
  },
  {
   "cell_type": "code",
   "execution_count": 11,
   "metadata": {},
   "outputs": [
    {
     "name": "stderr",
     "output_type": "stream",
     "text": [
      "2018-03-20 21:25:26,652 root         ERROR    received this exception: Exception('föö',)\n",
      "Traceback (most recent call last):\n",
      "  File \"<ipython-input-11-2c3b8978d3e4>\", line 2, in <module>\n",
      "    raise Exception(u'föö')\n",
      "Exception: föö\n"
     ]
    }
   ],
   "source": [
    "try:\n",
    "    raise Exception(u'föö')\n",
    "except Exception as e:\n",
    "    logging.exception('received this exception: %r' % e)"
   ]
  },
  {
   "cell_type": "code",
   "execution_count": null,
   "metadata": {},
   "outputs": [],
   "source": []
  }
 ],
 "metadata": {
  "kernelspec": {
   "display_name": "Python [default]",
   "language": "python",
   "name": "python3"
  },
  "language_info": {
   "codemirror_mode": {
    "name": "ipython",
    "version": 3
   },
   "file_extension": ".py",
   "mimetype": "text/x-python",
   "name": "python",
   "nbconvert_exporter": "python",
   "pygments_lexer": "ipython3",
   "version": "3.6.3"
  }
 },
 "nbformat": 4,
 "nbformat_minor": 2
}
