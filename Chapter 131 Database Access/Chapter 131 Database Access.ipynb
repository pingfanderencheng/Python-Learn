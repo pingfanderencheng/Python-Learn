{
 "cells": [
  {
   "cell_type": "markdown",
   "metadata": {},
   "source": [
    "### Section 131.1: SQLite"
   ]
  },
  {
   "cell_type": "raw",
   "metadata": {},
   "source": [
    "SQLite is a lightweight, disk-based database. Since it does not require a separate database server, it is often used\n",
    "for prototyping or for small applications that are often used by a single user or by one user at a given time."
   ]
  },
  {
   "cell_type": "code",
   "execution_count": 1,
   "metadata": {},
   "outputs": [
    {
     "name": "stdout",
     "output_type": "stream",
     "text": [
      "[('User A', 42), ('User B', 43)]\n"
     ]
    }
   ],
   "source": [
    "import sqlite3\n",
    "conn = sqlite3.connect(\"users.db\")\n",
    "c = conn.cursor()\n",
    "c.execute(\"CREATE TABLE user (name text, age integer)\")\n",
    "c.execute(\"INSERT INTO user VALUES ('User A', 42)\")\n",
    "c.execute(\"INSERT INTO user VALUES ('User B', 43)\")\n",
    "conn.commit()\n",
    "c.execute(\"SELECT * FROM user\")\n",
    "print(c.fetchall())\n",
    "conn.close()"
   ]
  },
  {
   "cell_type": "raw",
   "metadata": {},
   "source": [
    "The code above connects to the database stored in the file named users.db , creating the file first if it doesn't\n",
    "already exist. You can interact with the database via SQL statements."
   ]
  },
  {
   "cell_type": "raw",
   "metadata": {},
   "source": [
    "To use the module, you must first create a Connection object that represents the database. Here the data will be stored in the example.db file:"
   ]
  },
  {
   "cell_type": "raw",
   "metadata": {},
   "source": [
    ">>> conn = sqlite3.connect('users.db')"
   ]
  },
  {
   "cell_type": "raw",
   "metadata": {},
   "source": [
    "Alternatively, you can also supply the special name :memory: to create a temporary database in RAM, as follows:"
   ]
  },
  {
   "cell_type": "raw",
   "metadata": {},
   "source": [
    ">>> conn = sqlite3.connect(':memory:')"
   ]
  },
  {
   "cell_type": "raw",
   "metadata": {},
   "source": [
    "Once you have a Connection , you can create a Cursor object and call its execute() method to perform SQL 3. commands:"
   ]
  },
  {
   "cell_type": "code",
   "execution_count": null,
   "metadata": {},
   "outputs": [],
   "source": [
    "c = conn.cursor()\n",
    "c.execute('''CREATE TABLE stocks (date text, trans text, symbol text, qty real, price real)''')\n",
    "# Insert a row of data\n",
    "c.execute(\"INSERT INTO stocks VALUES ('2006-01-05','BUY','RHAT',100,35.14)\")\n",
    "# Save (commit) the changes\n",
    "conn.commit()\n",
    "# We can also close the connection if we are done with it.\n",
    "# Just be sure any changes have been committed or they will be lost.\n",
    "conn.close()"
   ]
  },
  {
   "cell_type": "markdown",
   "metadata": {},
   "source": [
    "**Important Attributes and Functions of Connection**"
   ]
  },
  {
   "cell_type": "markdown",
   "metadata": {},
   "source": [
    "| Attributes | Function |\n",
    "| --- | --- |\n",
    "| isolation_level | It is an attribute used to get or set the current isolation level. None for autocommit mode or one of DEFERRED ,IMMEDIATE or EXCLUSIVE . |\n",
    "| cursor | The cursor object is used to execute SQL commands and queries. |\n",
    "| commit() | Commits the current transaction. |\n",
    "| rollback() | Rolls back any changes made since the previous call to commit() |\n",
    "| close() | Closes the database connection. It does not call commit() automatically. If close() is called without first calling commit() (assuming you are not in autocommit mode) then all changes made will be lost. |\n",
    "| total_changes | An attribute that logs the total number of rows modified, deleted or inserted since the database was opened. |\n",
    "| execute , executemany , and executescript | These functions perform the same way as those of the cursor object. This is a shortcut since calling these functions through the connection object results in the creation of an intermediate cursor object and calls the corresponding method of the cursor object |\n",
    "| row_factory | You can change this attribute to a callable that accepts the cursor and the original row as a tuple and will return the real result row. |"
   ]
  },
  {
   "cell_type": "code",
   "execution_count": 2,
   "metadata": {},
   "outputs": [],
   "source": [
    "def dict_factory(cursor, row):\n",
    "    d = {}\n",
    "    for i, col in enumerate(cursor.description):\n",
    "        d[col[0]] = row[i]\n",
    "    return d\n",
    "conn = sqlite3.connect(\":memory:\")\n",
    "conn.row_factory = dict_factory"
   ]
  },
  {
   "cell_type": "markdown",
   "metadata": {},
   "source": [
    "#### Important Functions of Cursor"
   ]
  },
  {
   "cell_type": "markdown",
   "metadata": {},
   "source": [
    "**execute(sql[, parameters])**"
   ]
  },
  {
   "cell_type": "raw",
   "metadata": {},
   "source": [
    "Executes a single SQL statement. The SQL statement may be parametrized (i. e. placeholders instead of SQL\n",
    "literals). The sqlite3 module supports two kinds of placeholders: question marks ? (“qmark style”) and named\n",
    "placeholders :name (“named style”)."
   ]
  },
  {
   "cell_type": "code",
   "execution_count": 3,
   "metadata": {},
   "outputs": [
    {
     "name": "stdout",
     "output_type": "stream",
     "text": [
      "('Sophia', 37)\n"
     ]
    }
   ],
   "source": [
    "import sqlite3\n",
    "conn = sqlite3.connect(\":memory:\")\n",
    "cur = conn.cursor()\n",
    "cur.execute(\"create table people (name, age)\")\n",
    "who = \"Sophia\"\n",
    "age = 37\n",
    "# This is the qmark style:\n",
    "cur.execute(\"insert into people values (?, ?)\",(who, age))\n",
    "# And this is the named style:\n",
    "cur.execute(\"select * from people where name=:who and age=:age\", {\"who\": who, \"age\": age}) # the keys correspond to the placeholders in SQL\n",
    "print(cur.fetchone())"
   ]
  },
  {
   "cell_type": "markdown",
   "metadata": {},
   "source": [
    "> Beware: don't use %s for inserting strings into SQL commands as it can make your program vulnerable to\n",
    "an SQL injection attack (see SQL Injection )."
   ]
  },
  {
   "cell_type": "markdown",
   "metadata": {},
   "source": [
    "**executemany(sql, seq_of_parameters) **"
   ]
  },
  {
   "cell_type": "raw",
   "metadata": {},
   "source": [
    "Executes an SQL command against all parameter sequences or mappings found in the sequence sql. The sqlite3 module also allows using an iterator yielding parameters instead of a sequence."
   ]
  },
  {
   "cell_type": "code",
   "execution_count": 4,
   "metadata": {},
   "outputs": [
    {
     "data": {
      "text/plain": [
       "<sqlite3.Cursor at 0x1c74ac38960>"
      ]
     },
     "execution_count": 4,
     "metadata": {},
     "output_type": "execute_result"
    }
   ],
   "source": [
    "L = [(1, 'abcd', 'dfj', 300), # A list of tuples to be inserted into the database\n",
    "(2, 'cfgd', 'dyfj', 400),\n",
    "(3, 'sdd', 'dfjh', 300.50)]\n",
    "conn = sqlite3.connect(\"test1.db\")\n",
    "conn.execute(\"create table if not exists book (id int, name text, author text, price real)\")\n",
    "conn.executemany(\"insert into book values (?, ?, ?, ?)\", L)"
   ]
  },
  {
   "cell_type": "code",
   "execution_count": 5,
   "metadata": {},
   "outputs": [
    {
     "name": "stdout",
     "output_type": "stream",
     "text": [
      "(1, 'abcd', 'dfj', 300.0)\n",
      "(2, 'cfgd', 'dyfj', 400.0)\n",
      "(3, 'sdd', 'dfjh', 300.5)\n"
     ]
    }
   ],
   "source": [
    "for row in conn.execute(\"select * from book\"):\n",
    "    print(row)"
   ]
  },
  {
   "cell_type": "raw",
   "metadata": {},
   "source": [
    "You can also pass iterator objects as a parameter to executemany, and the function will iterate over the each tuple of values that the iterator returns. The iterator must return a tuple of values."
   ]
  },
  {
   "cell_type": "code",
   "execution_count": 6,
   "metadata": {},
   "outputs": [
    {
     "name": "stdout",
     "output_type": "stream",
     "text": [
      "a\n",
      "b\n",
      "c\n",
      "d\n",
      "e\n",
      "f\n",
      "g\n",
      "h\n",
      "i\n",
      "j\n",
      "k\n",
      "l\n",
      "m\n",
      "n\n",
      "o\n",
      "p\n",
      "q\n",
      "r\n",
      "s\n",
      "t\n",
      "u\n",
      "v\n",
      "w\n",
      "x\n",
      "y\n",
      "z\n"
     ]
    }
   ],
   "source": [
    "import sqlite3\n",
    "class IterChars:\n",
    "    def __init__(self):\n",
    "        self.count = ord('a')\n",
    "    def __iter__(self):\n",
    "        return self\n",
    "    def __next__(self): # (use next(self) for Python 2)\n",
    "        if self.count > ord('z'):\n",
    "            raise StopIteration\n",
    "        self.count += 1\n",
    "        return (chr(self.count - 1),)\n",
    "conn = sqlite3.connect(\"abc.db\")\n",
    "cur = conn.cursor()\n",
    "cur.execute(\"create table characters(c)\")\n",
    "theIter = IterChars()\n",
    "cur.executemany(\"insert into characters(c) values (?)\", theIter)\n",
    "rows = cur.execute(\"select c from characters\")\n",
    "for row in rows:\n",
    "    print(row[0]),"
   ]
  },
  {
   "cell_type": "markdown",
   "metadata": {},
   "source": [
    "**executescript(sql_script)** "
   ]
  },
  {
   "cell_type": "raw",
   "metadata": {},
   "source": [
    "This is a nonstandard convenience method for executing multiple SQL statements at once. It issues a COMMIT statement first, then executes the SQL script it gets as a parameter."
   ]
  },
  {
   "cell_type": "raw",
   "metadata": {},
   "source": [
    "sql_script can be an instance of str or bytes "
   ]
  },
  {
   "cell_type": "code",
   "execution_count": 7,
   "metadata": {},
   "outputs": [
    {
     "data": {
      "text/plain": [
       "<sqlite3.Cursor at 0x1c74ac38b90>"
      ]
     },
     "execution_count": 7,
     "metadata": {},
     "output_type": "execute_result"
    }
   ],
   "source": [
    "import sqlite3\n",
    "conn = sqlite3.connect(\":memory:\")\n",
    "cur = conn.cursor()\n",
    "cur.executescript(\"\"\"\n",
    "    create table person(\n",
    "        firstname,\n",
    "        lastname,\n",
    "        age\n",
    "    );\n",
    "    create table book(\n",
    "        title,\n",
    "        author,\n",
    "        published\n",
    "    );\n",
    "    insert into book(title, author, published)\n",
    "    values (\n",
    "        'Dirk Gently''s Holistic Detective Agency',\n",
    "        'Douglas Adams',\n",
    "        1987\n",
    "        );\n",
    "    \"\"\")"
   ]
  },
  {
   "cell_type": "raw",
   "metadata": {},
   "source": [
    "The next set of functions are used in conjunction with SELECT statements in SQL. To retrieve data after\n",
    "executing a SELECT statement, you can either treat the cursor as an iterator, call the cursor’s fetchone()\n",
    "method to retrieve a single matching row, or call fetchall() to get a list of the matching rows."
   ]
  },
  {
   "cell_type": "code",
   "execution_count": 8,
   "metadata": {},
   "outputs": [
    {
     "name": "stdout",
     "output_type": "stream",
     "text": [
      "('2006-01-05', 'BUY', 'RHAT', 100, 35.14)\n",
      "('2006-03-28', 'BUY', 'IBM', 1000, 45.0)\n",
      "('2006-04-06', 'SELL', 'IBM', 500, 53.0)\n",
      "('2006-04-05', 'BUY', 'MSFT', 1000, 72.0)\n"
     ]
    }
   ],
   "source": [
    "import sqlite3\n",
    "stocks = [('2006-01-05', 'BUY', 'RHAT', 100, 35.14),\n",
    "    ('2006-03-28', 'BUY', 'IBM', 1000, 45.0),\n",
    "    ('2006-04-06', 'SELL', 'IBM', 500, 53.0),\n",
    "    ('2006-04-05', 'BUY', 'MSFT', 1000, 72.0)]\n",
    "conn = sqlite3.connect(\":memory:\")\n",
    "conn.execute(\"create table stocks (date text, buysell text, symb text, amount int, price real)\")\n",
    "conn.executemany(\"insert into stocks values (?, ?, ?, ?, ?)\", stocks)\n",
    "cur = conn.cursor()\n",
    "for row in cur.execute('SELECT * FROM stocks ORDER BY price'):\n",
    "    print(row)"
   ]
  },
  {
   "cell_type": "markdown",
   "metadata": {},
   "source": [
    "**fetchone() **"
   ]
  },
  {
   "cell_type": "raw",
   "metadata": {},
   "source": [
    "Fetches the next row of a query result set, returning a single sequence, or None when no more data is available."
   ]
  },
  {
   "cell_type": "code",
   "execution_count": 9,
   "metadata": {},
   "outputs": [
    {
     "name": "stdout",
     "output_type": "stream",
     "text": [
      "('2006-01-05', 'BUY', 'RHAT', 100, 35.14)\n",
      "('2006-03-28', 'BUY', 'IBM', 1000, 45.0)\n",
      "('2006-04-06', 'SELL', 'IBM', 500, 53.0)\n",
      "('2006-04-05', 'BUY', 'MSFT', 1000, 72.0)\n"
     ]
    }
   ],
   "source": [
    "cur.execute('SELECT * FROM stocks ORDER BY price')\n",
    "i = cur.fetchone()\n",
    "while(i):\n",
    "    print(i)\n",
    "    i = cur.fetchone()"
   ]
  },
  {
   "cell_type": "markdown",
   "metadata": {},
   "source": [
    "**fetchmany(size=cursor.arraysize)** "
   ]
  },
  {
   "cell_type": "raw",
   "metadata": {},
   "source": [
    "Fetches the next set of rows of a query result (specified by size), returning a list. If size is omitted, fetchmany returns a single row. An empty list is returned when no more rows are available."
   ]
  },
  {
   "cell_type": "code",
   "execution_count": 10,
   "metadata": {},
   "outputs": [
    {
     "name": "stdout",
     "output_type": "stream",
     "text": [
      "[('2006-01-05', 'BUY', 'RHAT', 100, 35.14), ('2006-03-28', 'BUY', 'IBM', 1000, 45.0)]\n"
     ]
    }
   ],
   "source": [
    "cur.execute('SELECT * FROM stocks ORDER BY price')\n",
    "print(cur.fetchmany(2))"
   ]
  },
  {
   "cell_type": "markdown",
   "metadata": {},
   "source": [
    "**fetchall() **"
   ]
  },
  {
   "cell_type": "raw",
   "metadata": {},
   "source": [
    "Fetches all (remaining) rows of a query result, returning a list."
   ]
  },
  {
   "cell_type": "code",
   "execution_count": 11,
   "metadata": {},
   "outputs": [
    {
     "name": "stdout",
     "output_type": "stream",
     "text": [
      "[('2006-01-05', 'BUY', 'RHAT', 100, 35.14), ('2006-03-28', 'BUY', 'IBM', 1000, 45.0), ('2006-04-06', 'SELL', 'IBM', 500, 53.0), ('2006-04-05', 'BUY', 'MSFT', 1000, 72.0)]\n"
     ]
    }
   ],
   "source": [
    "cur.execute('SELECT * FROM stocks ORDER BY price')\n",
    "print(cur.fetchall())"
   ]
  },
  {
   "cell_type": "markdown",
   "metadata": {},
   "source": [
    "#### SQLite and Python data types"
   ]
  },
  {
   "cell_type": "raw",
   "metadata": {},
   "source": [
    "SQLite natively supports the following types: NULL, INTEGER, REAL, TEXT, BLOB."
   ]
  },
  {
   "cell_type": "raw",
   "metadata": {},
   "source": [
    "This is how the data types are converted when moving from SQL to Python or vice versa."
   ]
  },
  {
   "cell_type": "code",
   "execution_count": null,
   "metadata": {},
   "outputs": [],
   "source": [
    "None <-> NULL\n",
    "int <-> INTEGER/INT\n",
    "float <-> REAL/FLOAT\n",
    "str <-> TEXT/VARCHAR(n)\n",
    "bytes <-> BLOB"
   ]
  },
  {
   "cell_type": "markdown",
   "metadata": {},
   "source": [
    "### Section 131.2: Accessing MySQL database using MySQLdb"
   ]
  },
  {
   "cell_type": "markdown",
   "metadata": {},
   "source": [
    "### 该模块是适用于Python2的，在Python3中使用的是其他模块。[相关文章](https://www.jianshu.com/p/94f79e5c29c4)"
   ]
  },
  {
   "cell_type": "raw",
   "metadata": {},
   "source": [
    "The first thing you need to do is create a connection to the database using the connect method. After that, you will need a cursor that will operate with that connection."
   ]
  },
  {
   "cell_type": "raw",
   "metadata": {},
   "source": [
    "Use the execute method of the cursor to interact with the database, and every once in a while, commit the changes using the commit method of the connection object."
   ]
  },
  {
   "cell_type": "raw",
   "metadata": {},
   "source": [
    "Once everything is done, don't forget to close the cursor and the connection."
   ]
  },
  {
   "cell_type": "raw",
   "metadata": {},
   "source": [
    "Here is a Dbconnect class with everything you'll need."
   ]
  },
  {
   "cell_type": "code",
   "execution_count": null,
   "metadata": {},
   "outputs": [],
   "source": [
    "import MySQLdb\n",
    "class Dbconnect(object):\n",
    "    def __init__(self):\n",
    "        self.dbconection = MySQLdb.connect(host='localhost',\n",
    "            port=int('3306'),\n",
    "            user='root',\n",
    "            passwd='455',\n",
    "            db='world')\n",
    "        self.dbcursor = self.dbconection.cursor()\n",
    "    def commit_db(self):\n",
    "        self.dbconection.commit()\n",
    "    def close_db(self):\n",
    "        self.dbcursor.close()\n",
    "        self.dbconection.close()"
   ]
  },
  {
   "cell_type": "raw",
   "metadata": {},
   "source": [
    "Interacting with the database is simple. After creating the object, just use the execute method."
   ]
  },
  {
   "cell_type": "code",
   "execution_count": null,
   "metadata": {},
   "outputs": [],
   "source": [
    "db = Dbconnect()\n",
    "db.dbcursor.execute('SELECT * FROM %s' % 'table_example')"
   ]
  },
  {
   "cell_type": "raw",
   "metadata": {},
   "source": [
    "If you want to call a stored procedure, use the following syntax. Note that the parameters list is optional."
   ]
  },
  {
   "cell_type": "code",
   "execution_count": null,
   "metadata": {},
   "outputs": [],
   "source": [
    "db = Dbconnect()\n",
    "db.callproc('stored_procedure_name', [parameters] )"
   ]
  },
  {
   "cell_type": "raw",
   "metadata": {},
   "source": [
    "After the query is done, you can access the results multiple ways. The cursor object is a generator that can fetch all\n",
    "the results or be looped."
   ]
  },
  {
   "cell_type": "code",
   "execution_count": null,
   "metadata": {},
   "outputs": [],
   "source": [
    "results = db.dbcursor.fetchall()\n",
    "for individual_row in results:\n",
    "    first_field = individual_row[0]"
   ]
  },
  {
   "cell_type": "raw",
   "metadata": {},
   "source": [
    "If you want a loop using directly the generator:"
   ]
  },
  {
   "cell_type": "code",
   "execution_count": null,
   "metadata": {},
   "outputs": [],
   "source": [
    "for individual_row in db.dbcursor:\n",
    "    first_field = individual_row[0]"
   ]
  },
  {
   "cell_type": "raw",
   "metadata": {},
   "source": [
    "If you want to commit changes to the database:"
   ]
  },
  {
   "cell_type": "code",
   "execution_count": null,
   "metadata": {},
   "outputs": [],
   "source": [
    "db.commit_db()"
   ]
  },
  {
   "cell_type": "raw",
   "metadata": {},
   "source": [
    "If you want to close the cursor and the connection:"
   ]
  },
  {
   "cell_type": "code",
   "execution_count": null,
   "metadata": {},
   "outputs": [],
   "source": [
    "db.close_db()"
   ]
  },
  {
   "cell_type": "markdown",
   "metadata": {},
   "source": [
    "### Section 131.3: Connection"
   ]
  },
  {
   "cell_type": "raw",
   "metadata": {},
   "source": [
    "Creating a connection"
   ]
  },
  {
   "cell_type": "raw",
   "metadata": {},
   "source": [
    "According to PEP 249, the connection to a database should be established using a connect() constructor, which\n",
    "returns a Connection object. The arguments for this constructor are database dependent. Refer to the database\n",
    "specific topics for the relevant arguments."
   ]
  },
  {
   "cell_type": "code",
   "execution_count": 13,
   "metadata": {},
   "outputs": [],
   "source": [
    "import MyDBAPI\n",
    "con = MyDBAPI.connect(*database_dependent_args)"
   ]
  },
  {
   "cell_type": "raw",
   "metadata": {},
   "source": [
    "This connection object has four methods:"
   ]
  },
  {
   "cell_type": "raw",
   "metadata": {},
   "source": [
    "1: close"
   ]
  },
  {
   "cell_type": "code",
   "execution_count": 13,
   "metadata": {},
   "outputs": [],
   "source": [
    "con.close()"
   ]
  },
  {
   "cell_type": "raw",
   "metadata": {},
   "source": [
    "Closes the connection instantly. Note that the connection is automatically closed if the Connection.__del___\n",
    "method is called. Any pending transactions will implicitely be rolled back."
   ]
  },
  {
   "cell_type": "raw",
   "metadata": {},
   "source": [
    "2: commit"
   ]
  },
  {
   "cell_type": "code",
   "execution_count": 13,
   "metadata": {},
   "outputs": [],
   "source": [
    "con.commit()"
   ]
  },
  {
   "cell_type": "raw",
   "metadata": {},
   "source": [
    "Commits any pending transaction the to database."
   ]
  },
  {
   "cell_type": "raw",
   "metadata": {},
   "source": [
    "3: rollback"
   ]
  },
  {
   "cell_type": "code",
   "execution_count": 13,
   "metadata": {},
   "outputs": [],
   "source": [
    "con.rollback()"
   ]
  },
  {
   "cell_type": "raw",
   "metadata": {},
   "source": [
    "Rolls back to the start of any pending transaction. In other words: this cancels any non-committed transaction to\n",
    "the database."
   ]
  },
  {
   "cell_type": "raw",
   "metadata": {},
   "source": [
    "4: cursor"
   ]
  },
  {
   "cell_type": "raw",
   "metadata": {},
   "source": [
    "cur = con.cursor()"
   ]
  },
  {
   "cell_type": "raw",
   "metadata": {},
   "source": [
    "Returns a Cursor object. This is used to do transactions on the database."
   ]
  },
  {
   "cell_type": "markdown",
   "metadata": {},
   "source": [
    "### Section 131.4: PostgreSQL Database access using psycopg2"
   ]
  },
  {
   "cell_type": "raw",
   "metadata": {},
   "source": [
    "psycopg2 is the most popular PostgreSQL database adapter that is both lightweight and efficient. It is the current\n",
    "implementation of the PostgreSQL adapter."
   ]
  },
  {
   "cell_type": "raw",
   "metadata": {},
   "source": [
    "Its main features are the complete implementation of the Python DB API 2.0 specification and the thread\n",
    "safety (several threads can share the same connection)"
   ]
  },
  {
   "cell_type": "raw",
   "metadata": {},
   "source": [
    "Establishing a connection to the database and creating a table"
   ]
  },
  {
   "cell_type": "code",
   "execution_count": null,
   "metadata": {},
   "outputs": [],
   "source": [
    "import psycopg2\n",
    "# Establish a connection to the database.\n",
    "# Replace parameter values with database credentials.\n",
    "conn = psycopg2.connect(database=\"testpython\",\n",
    "    user=\"postgres\",\n",
    "    host=\"localhost\",\n",
    "    password=\"abc123\",\n",
    "    port=\"5432\")\n",
    "# Create a cursor. The cursor allows you to execute database queries.\n",
    "cur = conn.cursor()\n",
    "# Create a table. Initialise the table name, the column names and data type.\n",
    "cur.execute(\"\"\"CREATE TABLE FRUITS (\n",
    "        id INT ,\n",
    "        fruit_name TEXT,\n",
    "        color TEXT,\n",
    "        price REAL\n",
    "        )\"\"\")\n",
    "conn.commit()\n",
    "conn.close()"
   ]
  },
  {
   "cell_type": "raw",
   "metadata": {},
   "source": [
    "Inserting data into the table:"
   ]
  },
  {
   "cell_type": "code",
   "execution_count": null,
   "metadata": {},
   "outputs": [],
   "source": [
    "# After creating the table as shown above, insert values into it.\n",
    "cur.execute(\"\"\"INSERT INTO FRUITS (id, fruit_name, color, price)\n",
    "VALUES (1, 'Apples', 'green', 1.00)\"\"\")\n",
    "cur.execute(\"\"\"INSERT INTO FRUITS (id, fruit_name, color, price)\n",
    "VALUES (1, 'Bananas', 'yellow', 0.80)\"\"\")"
   ]
  },
  {
   "cell_type": "raw",
   "metadata": {},
   "source": [
    "Retrieving table data:"
   ]
  },
  {
   "cell_type": "code",
   "execution_count": null,
   "metadata": {},
   "outputs": [],
   "source": [
    "# Set up a query and execute it\n",
    "cur.execute(\"\"\"SELECT id, fruit_name, color, price\n",
    "FROM fruits\"\"\")\n",
    "# Fetch the data\n",
    "rows = cur.fetchall()\n",
    "# Do stuff with the data\n",
    "for row in rows:\n",
    "    print \"ID = {} \".format(row[0])\n",
    "    print \"FRUIT NAME = {}\".format(row[1])\n",
    "    print(\"COLOR = {}\".format(row[2]))\n",
    "    print(\"PRICE = {}\".format(row[3]))"
   ]
  },
  {
   "cell_type": "raw",
   "metadata": {},
   "source": [
    "The output of the above would be:"
   ]
  },
  {
   "cell_type": "raw",
   "metadata": {},
   "source": [
    "ID = 1\n",
    "NAME = Apples\n",
    "COLOR = green\n",
    "PRICE = 1.0\n",
    "ID = 2\n",
    "NAME = Bananas\n",
    "COLOR = yellow\n",
    "PRICE = 0.8"
   ]
  },
  {
   "cell_type": "raw",
   "metadata": {},
   "source": [
    "And so, there you go, you now know half of all you need to know about psycopg2! :)"
   ]
  },
  {
   "cell_type": "markdown",
   "metadata": {},
   "source": [
    "### Section 131.5: Oracle database"
   ]
  },
  {
   "cell_type": "raw",
   "metadata": {},
   "source": [
    "Pre-requisites:\n",
    "    cx_Oracle package - See here for all versions\n",
    "    Oracle instant client - For Windows x64, Linux x64\n",
    "Setup:\n",
    "    Install the cx_Oracle package as:\n",
    "    sudo rpm -i <YOUR_PACKAGE_FILENAME>\n",
    "    Extract the Oracle instant client and set environment variables as:\n",
    "\n",
    "    ORACLE_HOME=<PATH_TO_INSTANTCLIENT>\n",
    "    PATH=$ORACLE_HOME:$PATH\n",
    "    LD_LIBRARY_PATH=<PATH_TO_INSTANTCLIENT>:$LD_LIBRARY_PATH"
   ]
  },
  {
   "cell_type": "raw",
   "metadata": {},
   "source": [
    "Creating a connection:"
   ]
  },
  {
   "cell_type": "code",
   "execution_count": null,
   "metadata": {},
   "outputs": [],
   "source": [
    "import cx_Oracle\n",
    "class OraExec(object):\n",
    "    _db_connection = None\n",
    "    _db_cur = None\n",
    "    def __init__(self):\n",
    "        self._db_connection =\n",
    "            cx_Oracle.connect('<USERNAME>/<PASSWORD>@<HOSTNAME>:<PORT>/<SERVICE_NAME>')\n",
    "        self._db_cur = self._db_connection.cursor()"
   ]
  },
  {
   "cell_type": "raw",
   "metadata": {},
   "source": [
    "Get database version:"
   ]
  },
  {
   "cell_type": "code",
   "execution_count": null,
   "metadata": {},
   "outputs": [],
   "source": [
    "ver = con.version.split(\".\")\n",
    "print (ver)"
   ]
  },
  {
   "cell_type": "raw",
   "metadata": {},
   "source": [
    "Sample Output: ['12', '1', '0', '2', '0']"
   ]
  },
  {
   "cell_type": "raw",
   "metadata": {},
   "source": [
    "Execute query: SELECT"
   ]
  },
  {
   "cell_type": "code",
   "execution_count": null,
   "metadata": {},
   "outputs": [],
   "source": [
    "_db_cur.execute(\"select * from employees order by emp_id\")\n",
    "for result in _db_cur:\n",
    "    print (result)"
   ]
  },
  {
   "cell_type": "raw",
   "metadata": {},
   "source": [
    "Output will be in Python tuples:"
   ]
  },
  {
   "cell_type": "raw",
   "metadata": {},
   "source": [
    "(10, 'SYSADMIN', 'IT-INFRA', 7)\n",
    "(23, 'HR ASSOCIATE', 'HUMAN RESOURCES', 6)"
   ]
  },
  {
   "cell_type": "raw",
   "metadata": {},
   "source": [
    "Execute query: INSERT"
   ]
  },
  {
   "cell_type": "code",
   "execution_count": null,
   "metadata": {},
   "outputs": [],
   "source": [
    "_db_cur.execute(\"insert into employees(emp_id, title, dept, grade)\n",
    "    values (31, 'MTS', 'ENGINEERING', 7)\n",
    "_db_connection.commit()"
   ]
  },
  {
   "cell_type": "raw",
   "metadata": {},
   "source": [
    "When you perform insert/update/delete operations in an Oracle Database, the changes are only available within\n",
    "your session until commit is issued. When the updated data is committed to the database, it is then available to\n",
    "other users and sessions."
   ]
  },
  {
   "cell_type": "raw",
   "metadata": {},
   "source": [
    "Execute query: INSERT using Bind variables"
   ]
  },
  {
   "cell_type": "markdown",
   "metadata": {},
   "source": [
    "[Reference](http://www.oracle.com/technetwork/articles/dsl/python-091105.html)"
   ]
  },
  {
   "cell_type": "raw",
   "metadata": {},
   "source": [
    "Bind variables enable you to re-execute statements with new values, without the overhead of re-parsing the\n",
    "statement. Bind variables improve code re-usability, and can reduce the risk of SQL Injection attacks."
   ]
  },
  {
   "cell_type": "code",
   "execution_count": null,
   "metadata": {},
   "outputs": [],
   "source": [
    "rows = [ (1, \"First\" ),\n",
    "    (2, \"Second\" ),\n",
    "    (3, \"Third\" ) ]\n",
    "_db_cur.bindarraysize = 3\n",
    "_db_cur.setinputsizes(int, 10)\n",
    "_db_cur.executemany(\"insert into mytab(id, data) values (:1, :2)\", rows)\n",
    "_db_connection.commit()"
   ]
  },
  {
   "cell_type": "raw",
   "metadata": {},
   "source": [
    "Close connection:"
   ]
  },
  {
   "cell_type": "code",
   "execution_count": null,
   "metadata": {},
   "outputs": [],
   "source": [
    "_db_connection.close()"
   ]
  },
  {
   "cell_type": "raw",
   "metadata": {},
   "source": [
    "The close() method closes the connection. Any connections not explicitly closed will be automatically released when\n",
    "the script ends."
   ]
  },
  {
   "cell_type": "markdown",
   "metadata": {},
   "source": [
    "### Section 131.6: Using sqlalchemy"
   ]
  },
  {
   "cell_type": "raw",
   "metadata": {},
   "source": [
    "To use sqlalchemy for database:"
   ]
  },
  {
   "cell_type": "code",
   "execution_count": null,
   "metadata": {},
   "outputs": [],
   "source": [
    "from sqlalchemy import create_engine\n",
    "from sqlalchemy.engine.url import URL\n",
    "    url = URL(drivername='mysql',\n",
    "    username='user',\n",
    "    password='passwd',\n",
    "    host='host',\n",
    "    database='db')\n",
    "engine = create_engine(url) # sqlalchemy engine"
   ]
  },
  {
   "cell_type": "raw",
   "metadata": {},
   "source": [
    "Now this engine can be used: e.g. with pandas to fetch dataframes directly from mysql"
   ]
  },
  {
   "cell_type": "code",
   "execution_count": null,
   "metadata": {},
   "outputs": [],
   "source": [
    "import pandas as pd\n",
    "con = engine.connect()\n",
    "dataframe = pd.read_sql(sql=query, con=con)"
   ]
  }
 ],
 "metadata": {
  "kernelspec": {
   "display_name": "Python [default]",
   "language": "python",
   "name": "python3"
  },
  "language_info": {
   "codemirror_mode": {
    "name": "ipython",
    "version": 3
   },
   "file_extension": ".py",
   "mimetype": "text/x-python",
   "name": "python",
   "nbconvert_exporter": "python",
   "pygments_lexer": "ipython3",
   "version": "3.6.3"
  }
 },
 "nbformat": 4,
 "nbformat_minor": 2
}
