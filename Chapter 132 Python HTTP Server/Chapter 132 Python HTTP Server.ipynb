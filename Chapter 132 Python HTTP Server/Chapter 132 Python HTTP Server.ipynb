{
 "cells": [
  {
   "cell_type": "markdown",
   "metadata": {},
   "source": [
    "### Section 132.1 Running a simple HTTP server"
   ]
  },
  {
   "cell_type": "raw",
   "metadata": {},
   "source": [
    "Python 2.x Version ≥ 2.3\n",
    "python -m SimpleHTTPServer 9000"
   ]
  },
  {
   "cell_type": "code",
   "execution_count": null,
   "metadata": {},
   "outputs": [],
   "source": [
    "Python 3.x Version ≥ 3.0"
   ]
  },
  {
   "cell_type": "code",
   "execution_count": null,
   "metadata": {},
   "outputs": [],
   "source": [
    "%%cmd\n",
    "python -m http.server 9000"
   ]
  },
  {
   "cell_type": "raw",
   "metadata": {},
   "source": [
    "Running this command serves the files of the current directory at port 9000 .\n",
    "If no argument is provided as port number then server will run on default port 8000 .\n",
    "The -m flag will search sys.path for the corresponding .py file to run as a module.\n",
    "If you want to only serve on localhost you'll need to write a custom Python program such as:"
   ]
  },
  {
   "cell_type": "raw",
   "metadata": {},
   "source": [
    "import sys\n",
    "import BaseHTTPServer\n",
    "from SimpleHTTPServer import SimpleHTTPRequestHandler\n",
    "HandlerClass = SimpleHTTPRequestHandler\n",
    "ServerClass = BaseHTTPServer.HTTPServer\n",
    "Protocol = \"HTTP/1.0\"\n",
    "if sys.argv[1:]:\n",
    "    port = int(sys.argv[1])\n",
    "else:\n",
    "    port = 8000\n",
    "server_address = ('127.0.0.1', port)\n",
    "HandlerClass.protocol_version = Protocol\n",
    "httpd = ServerClass(server_address, HandlerClass)\n",
    "sa = httpd.socket.getsockname()\n",
    "print (\"Serving HTTP on\", sa[0], \"port\", sa[1], \"...\")\n",
    "httpd.serve_forever()"
   ]
  },
  {
   "cell_type": "markdown",
   "metadata": {},
   "source": [
    "### Section 132.2: Serving files"
   ]
  },
  {
   "cell_type": "code",
   "execution_count": 3,
   "metadata": {},
   "outputs": [
    {
     "name": "stdout",
     "output_type": "stream",
     "text": [
      "serving at port 8000\n"
     ]
    },
    {
     "name": "stderr",
     "output_type": "stream",
     "text": [
      "127.0.0.1 - - [21/Mar/2018 23:05:16] \"GET / HTTP/1.1\" 200 -\n",
      "127.0.0.1 - - [21/Mar/2018 23:05:17] code 404, message File not found\n",
      "127.0.0.1 - - [21/Mar/2018 23:05:17] \"GET /favicon.ico HTTP/1.1\" 404 -\n"
     ]
    },
    {
     "ename": "KeyboardInterrupt",
     "evalue": "",
     "output_type": "error",
     "traceback": [
      "\u001b[1;31m---------------------------------------------------------------------------\u001b[0m",
      "\u001b[1;31mKeyboardInterrupt\u001b[0m                         Traceback (most recent call last)",
      "\u001b[1;32m<ipython-input-3-5bd0e62ee899>\u001b[0m in \u001b[0;36m<module>\u001b[1;34m()\u001b[0m\n\u001b[0;32m      5\u001b[0m \u001b[0mhttpd\u001b[0m \u001b[1;33m=\u001b[0m \u001b[0msocketserver\u001b[0m\u001b[1;33m.\u001b[0m\u001b[0mTCPServer\u001b[0m\u001b[1;33m(\u001b[0m\u001b[1;33m(\u001b[0m\u001b[1;34m\"\"\u001b[0m\u001b[1;33m,\u001b[0m \u001b[0mPORT\u001b[0m\u001b[1;33m)\u001b[0m\u001b[1;33m,\u001b[0m \u001b[0mhandler\u001b[0m\u001b[1;33m)\u001b[0m\u001b[1;33m\u001b[0m\u001b[0m\n\u001b[0;32m      6\u001b[0m \u001b[0mprint\u001b[0m\u001b[1;33m(\u001b[0m\u001b[1;34m\"serving at port\"\u001b[0m\u001b[1;33m,\u001b[0m \u001b[0mPORT\u001b[0m\u001b[1;33m)\u001b[0m\u001b[1;33m\u001b[0m\u001b[0m\n\u001b[1;32m----> 7\u001b[1;33m \u001b[0mhttpd\u001b[0m\u001b[1;33m.\u001b[0m\u001b[0mserve_forever\u001b[0m\u001b[1;33m(\u001b[0m\u001b[1;33m)\u001b[0m\u001b[1;33m\u001b[0m\u001b[0m\n\u001b[0m",
      "\u001b[1;32mD:\\Users\\songc\\Anaconda3\\lib\\socketserver.py\u001b[0m in \u001b[0;36mserve_forever\u001b[1;34m(self, poll_interval)\u001b[0m\n\u001b[0;32m    234\u001b[0m \u001b[1;33m\u001b[0m\u001b[0m\n\u001b[0;32m    235\u001b[0m                 \u001b[1;32mwhile\u001b[0m \u001b[1;32mnot\u001b[0m \u001b[0mself\u001b[0m\u001b[1;33m.\u001b[0m\u001b[0m__shutdown_request\u001b[0m\u001b[1;33m:\u001b[0m\u001b[1;33m\u001b[0m\u001b[0m\n\u001b[1;32m--> 236\u001b[1;33m                     \u001b[0mready\u001b[0m \u001b[1;33m=\u001b[0m \u001b[0mselector\u001b[0m\u001b[1;33m.\u001b[0m\u001b[0mselect\u001b[0m\u001b[1;33m(\u001b[0m\u001b[0mpoll_interval\u001b[0m\u001b[1;33m)\u001b[0m\u001b[1;33m\u001b[0m\u001b[0m\n\u001b[0m\u001b[0;32m    237\u001b[0m                     \u001b[1;32mif\u001b[0m \u001b[0mready\u001b[0m\u001b[1;33m:\u001b[0m\u001b[1;33m\u001b[0m\u001b[0m\n\u001b[0;32m    238\u001b[0m                         \u001b[0mself\u001b[0m\u001b[1;33m.\u001b[0m\u001b[0m_handle_request_noblock\u001b[0m\u001b[1;33m(\u001b[0m\u001b[1;33m)\u001b[0m\u001b[1;33m\u001b[0m\u001b[0m\n",
      "\u001b[1;32mD:\\Users\\songc\\Anaconda3\\lib\\selectors.py\u001b[0m in \u001b[0;36mselect\u001b[1;34m(self, timeout)\u001b[0m\n\u001b[0;32m    321\u001b[0m         \u001b[0mready\u001b[0m \u001b[1;33m=\u001b[0m \u001b[1;33m[\u001b[0m\u001b[1;33m]\u001b[0m\u001b[1;33m\u001b[0m\u001b[0m\n\u001b[0;32m    322\u001b[0m         \u001b[1;32mtry\u001b[0m\u001b[1;33m:\u001b[0m\u001b[1;33m\u001b[0m\u001b[0m\n\u001b[1;32m--> 323\u001b[1;33m             \u001b[0mr\u001b[0m\u001b[1;33m,\u001b[0m \u001b[0mw\u001b[0m\u001b[1;33m,\u001b[0m \u001b[0m_\u001b[0m \u001b[1;33m=\u001b[0m \u001b[0mself\u001b[0m\u001b[1;33m.\u001b[0m\u001b[0m_select\u001b[0m\u001b[1;33m(\u001b[0m\u001b[0mself\u001b[0m\u001b[1;33m.\u001b[0m\u001b[0m_readers\u001b[0m\u001b[1;33m,\u001b[0m \u001b[0mself\u001b[0m\u001b[1;33m.\u001b[0m\u001b[0m_writers\u001b[0m\u001b[1;33m,\u001b[0m \u001b[1;33m[\u001b[0m\u001b[1;33m]\u001b[0m\u001b[1;33m,\u001b[0m \u001b[0mtimeout\u001b[0m\u001b[1;33m)\u001b[0m\u001b[1;33m\u001b[0m\u001b[0m\n\u001b[0m\u001b[0;32m    324\u001b[0m         \u001b[1;32mexcept\u001b[0m \u001b[0mInterruptedError\u001b[0m\u001b[1;33m:\u001b[0m\u001b[1;33m\u001b[0m\u001b[0m\n\u001b[0;32m    325\u001b[0m             \u001b[1;32mreturn\u001b[0m \u001b[0mready\u001b[0m\u001b[1;33m\u001b[0m\u001b[0m\n",
      "\u001b[1;32mD:\\Users\\songc\\Anaconda3\\lib\\selectors.py\u001b[0m in \u001b[0;36m_select\u001b[1;34m(self, r, w, _, timeout)\u001b[0m\n\u001b[0;32m    312\u001b[0m     \u001b[1;32mif\u001b[0m \u001b[0msys\u001b[0m\u001b[1;33m.\u001b[0m\u001b[0mplatform\u001b[0m \u001b[1;33m==\u001b[0m \u001b[1;34m'win32'\u001b[0m\u001b[1;33m:\u001b[0m\u001b[1;33m\u001b[0m\u001b[0m\n\u001b[0;32m    313\u001b[0m         \u001b[1;32mdef\u001b[0m \u001b[0m_select\u001b[0m\u001b[1;33m(\u001b[0m\u001b[0mself\u001b[0m\u001b[1;33m,\u001b[0m \u001b[0mr\u001b[0m\u001b[1;33m,\u001b[0m \u001b[0mw\u001b[0m\u001b[1;33m,\u001b[0m \u001b[0m_\u001b[0m\u001b[1;33m,\u001b[0m \u001b[0mtimeout\u001b[0m\u001b[1;33m=\u001b[0m\u001b[1;32mNone\u001b[0m\u001b[1;33m)\u001b[0m\u001b[1;33m:\u001b[0m\u001b[1;33m\u001b[0m\u001b[0m\n\u001b[1;32m--> 314\u001b[1;33m             \u001b[0mr\u001b[0m\u001b[1;33m,\u001b[0m \u001b[0mw\u001b[0m\u001b[1;33m,\u001b[0m \u001b[0mx\u001b[0m \u001b[1;33m=\u001b[0m \u001b[0mselect\u001b[0m\u001b[1;33m.\u001b[0m\u001b[0mselect\u001b[0m\u001b[1;33m(\u001b[0m\u001b[0mr\u001b[0m\u001b[1;33m,\u001b[0m \u001b[0mw\u001b[0m\u001b[1;33m,\u001b[0m \u001b[0mw\u001b[0m\u001b[1;33m,\u001b[0m \u001b[0mtimeout\u001b[0m\u001b[1;33m)\u001b[0m\u001b[1;33m\u001b[0m\u001b[0m\n\u001b[0m\u001b[0;32m    315\u001b[0m             \u001b[1;32mreturn\u001b[0m \u001b[0mr\u001b[0m\u001b[1;33m,\u001b[0m \u001b[0mw\u001b[0m \u001b[1;33m+\u001b[0m \u001b[0mx\u001b[0m\u001b[1;33m,\u001b[0m \u001b[1;33m[\u001b[0m\u001b[1;33m]\u001b[0m\u001b[1;33m\u001b[0m\u001b[0m\n\u001b[0;32m    316\u001b[0m     \u001b[1;32melse\u001b[0m\u001b[1;33m:\u001b[0m\u001b[1;33m\u001b[0m\u001b[0m\n",
      "\u001b[1;31mKeyboardInterrupt\u001b[0m: "
     ]
    }
   ],
   "source": [
    "import http.server\n",
    "import socketserver\n",
    "PORT = 8000\n",
    "handler = http.server.SimpleHTTPRequestHandler\n",
    "httpd = socketserver.TCPServer((\"\", PORT), handler)\n",
    "print(\"serving at port\", PORT)\n",
    "httpd.serve_forever()"
   ]
  },
  {
   "cell_type": "raw",
   "metadata": {},
   "source": [
    "The SocketServer module provides the classes and functionalities to setup a network server.\n",
    "SocketServer 's TCPServer class sets up a server using the TCP protocol. The constructor accepts a tuple\n",
    "representing the address of the server (i.e. the IP address and port) and the class that handles the server requests.\n",
    "The SimpleHTTPRequestHandler class of the SimpleHTTPServer module allows the files at the current directory to\n",
    "be served."
   ]
  },
  {
   "cell_type": "raw",
   "metadata": {},
   "source": [
    "Save the script at the same directory and run it."
   ]
  },
  {
   "cell_type": "raw",
   "metadata": {},
   "source": [
    "Python 3.x Version ≥ 3.0"
   ]
  },
  {
   "cell_type": "code",
   "execution_count": null,
   "metadata": {},
   "outputs": [],
   "source": [
    "%%cmd\n",
    "python -m http.server 8001"
   ]
  },
  {
   "cell_type": "markdown",
   "metadata": {},
   "source": [
    "### Section 132.3: Basic handling of GET, POST, PUT using BaseHTTPRequestHandler"
   ]
  },
  {
   "cell_type": "code",
   "execution_count": null,
   "metadata": {},
   "outputs": [],
   "source": [
    "from http.server import BaseHTTPRequestHandler, HTTPServer # python3\n",
    "class HandleRequests(BaseHTTPRequestHandler):\n",
    "    def _set_headers(self):\n",
    "        self.send_response(200)\n",
    "        self.send_header('Content-type', 'text/html')\n",
    "        self.end_headers()\n",
    "    def do_GET(self):\n",
    "        self._set_headers()\n",
    "        self.wfile.write(b\"received get request\")\n",
    "    def do_POST(self):\n",
    "        '''Reads post request body'''\n",
    "        self._set_headers()\n",
    "        content_len = int(self.headers.getheader('content-length', 0))\n",
    "        post_body = self.rfile.read(content_len)\n",
    "        self.wfile.write(b\"received post request:<br>{}\".format(post_body))\n",
    "    def do_PUT(self):\n",
    "        self.do_POST()\n",
    "host = ''\n",
    "port = 80\n",
    "HTTPServer((host, port), HandleRequests).serve_forever()"
   ]
  },
  {
   "cell_type": "markdown",
   "metadata": {},
   "source": [
    "**有些问题，do.post方法有问题运行会保存暂时未解决** "
   ]
  },
  {
   "cell_type": "markdown",
   "metadata": {},
   "source": [
    "### Section 132.4: Programmatic API of SimpleHTTPServer"
   ]
  },
  {
   "cell_type": "markdown",
   "metadata": {},
   "source": [
    "**这部分的内容是Python2的内容，就不写了**"
   ]
  }
 ],
 "metadata": {
  "kernelspec": {
   "display_name": "Python [default]",
   "language": "python",
   "name": "python3"
  },
  "language_info": {
   "codemirror_mode": {
    "name": "ipython",
    "version": 3
   },
   "file_extension": ".py",
   "mimetype": "text/x-python",
   "name": "python",
   "nbconvert_exporter": "python",
   "pygments_lexer": "ipython3",
   "version": "3.6.3"
  }
 },
 "nbformat": 4,
 "nbformat_minor": 2
}
