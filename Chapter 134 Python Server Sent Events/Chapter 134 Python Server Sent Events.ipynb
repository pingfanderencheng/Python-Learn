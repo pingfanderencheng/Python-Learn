{
 "cells": [
  {
   "cell_type": "raw",
   "metadata": {},
   "source": [
    "Server Sent Events (SSE) is a unidirectional connection between a server and a client (usually a web browser) that\n",
    "allows the server to \"push\" information to the client. It is much like websockets and long polling. The main\n",
    "difference between SSE and websockets is that SSE is unidirectional, only the server can send info to the client,\n",
    "where as with websockets, both can send info to each other. SSE is typically considered to be much simpler to\n",
    "use/implement than websockets."
   ]
  },
  {
   "cell_type": "markdown",
   "metadata": {},
   "source": [
    "### Section 134.1: Flask SSE"
   ]
  },
  {
   "cell_type": "code",
   "execution_count": 8,
   "metadata": {},
   "outputs": [],
   "source": [
    "from flask import Flask"
   ]
  },
  {
   "cell_type": "code",
   "execution_count": 10,
   "metadata": {},
   "outputs": [],
   "source": [
    "app = Flask(__name__)\n",
    "@app.route(\"/stream\")\n",
    "def stream():\n",
    "    def event_stream():\n",
    "        while True:\n",
    "            if message_to_send:\n",
    "                yield \"data: {}\\n\\n\".format(message_to_send)\n",
    "    return Response(event_stream(), mimetype=\"text/event-stream\")\n",
    "if __name__ == 'main':\n",
    "    app.run(host=\"0.0.0.0\", port=5000)"
   ]
  },
  {
   "cell_type": "markdown",
   "metadata": {},
   "source": [
    "### Section 134.2: Asyncio SSE"
   ]
  },
  {
   "cell_type": "raw",
   "metadata": {},
   "source": [
    "This example uses the asyncio SSE library: https://github.com/brutasse/asyncio-sse"
   ]
  },
  {
   "cell_type": "code",
   "execution_count": null,
   "metadata": {},
   "outputs": [],
   "source": [
    "import asyncio\n",
    "import sse\n",
    "class Handler(sse.Handler):\n",
    "    @asyncio.coroutine\n",
    "    def handle_request(self):\n",
    "        yield from asyncio.sleep(2)\n",
    "        self.send('foo')\n",
    "        yield from asyncio.sleep(2)\n",
    "        self.send('bar', event='wakeup')\n",
    "start_server = sse.serve(Handler, 'localhost', 8888)\n",
    "asyncio.get_event_loop().run_until_complete(start_server)\n",
    "asyncio.get_event_loop().run_forever()"
   ]
  }
 ],
 "metadata": {
  "kernelspec": {
   "display_name": "Python [default]",
   "language": "python",
   "name": "python3"
  },
  "language_info": {
   "codemirror_mode": {
    "name": "ipython",
    "version": 3
   },
   "file_extension": ".py",
   "mimetype": "text/x-python",
   "name": "python",
   "nbconvert_exporter": "python",
   "pygments_lexer": "ipython3",
   "version": "3.6.3"
  }
 },
 "nbformat": 4,
 "nbformat_minor": 2
}
