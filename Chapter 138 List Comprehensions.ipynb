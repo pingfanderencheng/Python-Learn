{
 "cells": [
  {
   "cell_type": "raw",
   "metadata": {},
   "source": [
    "A list comprehension is a syntactical tool for creating lists in a natural and concise way, as illustrated in the\n",
    "following code to make a list of squares of the numbers 1 to 10: [i ** 2 for i in range(1,11)] The dummy i\n",
    "from an existing list range is used to make a new element pattern. It is used where a for loop would be necessary in\n",
    "less expressive languages."
   ]
  },
  {
   "cell_type": "markdown",
   "metadata": {},
   "source": [
    "### Section 138.1: Conditional List Comprehensions"
   ]
  },
  {
   "cell_type": "markdown",
   "metadata": {},
   "source": [
    "Given a [list comprehension](https://docs.python.org/3/tutorial/datastructures.html#list-comprehensions) you can append one or more if conditions to filter values"
   ]
  },
  {
   "cell_type": "code",
   "execution_count": null,
   "metadata": {},
   "outputs": [],
   "source": [
    "[<expression> for <element> in <iterable> if <condition>]"
   ]
  },
  {
   "cell_type": "raw",
   "metadata": {},
   "source": [
    "For each <element> in <iterable> ; if <condition> evaluates to True , add <expression> (usually a function of\n",
    "<element> ) to the returned list."
   ]
  },
  {
   "cell_type": "raw",
   "metadata": {},
   "source": [
    "For example, this can be used to extract only even numbers from a sequence of integers:"
   ]
  },
  {
   "cell_type": "code",
   "execution_count": 1,
   "metadata": {},
   "outputs": [
    {
     "data": {
      "text/plain": [
       "[0, 2, 4, 6, 8]"
      ]
     },
     "execution_count": 1,
     "metadata": {},
     "output_type": "execute_result"
    }
   ],
   "source": [
    "[x for x in range(10) if x % 2 == 0]"
   ]
  },
  {
   "cell_type": "raw",
   "metadata": {},
   "source": [
    "The above code is equivalent to:"
   ]
  },
  {
   "cell_type": "code",
   "execution_count": 4,
   "metadata": {},
   "outputs": [
    {
     "name": "stdout",
     "output_type": "stream",
     "text": [
      "[0, 2, 4, 6, 8]\n"
     ]
    }
   ],
   "source": [
    "even_numbers = []\n",
    "for x in range(10):\n",
    "    if x % 2 == 0:\n",
    "        even_numbers.append(x)\n",
    "print(even_numbers)"
   ]
  },
  {
   "cell_type": "raw",
   "metadata": {},
   "source": [
    "Also, a conditional list comprehension of the form [e for x in y if c] (where e and c are expressions in terms of\n",
    "x ) is equivalent to list(filter(lambda x: c, map(lambda x: e, y))) ."
   ]
  },
  {
   "cell_type": "markdown",
   "metadata": {},
   "source": [
    "Despite providing the same result, pay attention to the fact that the former example is almost 2x faster than the\n",
    "latter one. For those who are curious, [this](http://stackoverflow.com/questions/39518899/3-array-generators-faster-than-1-for-loop/39519661#39519661) is a nice explanation of the reason why."
   ]
  },
  {
   "cell_type": "raw",
   "metadata": {},
   "source": [
    "Note that this is quite different from the ... if ... else ... conditional expression (sometimes known as a\n",
    "ternary expression) that you can use for the <expression> part of the list comprehension. Consider the following\n",
    "example:"
   ]
  },
  {
   "cell_type": "code",
   "execution_count": 5,
   "metadata": {},
   "outputs": [
    {
     "data": {
      "text/plain": [
       "[0, None, 2, None, 4, None, 6, None, 8, None]"
      ]
     },
     "execution_count": 5,
     "metadata": {},
     "output_type": "execute_result"
    }
   ],
   "source": [
    "[x if x % 2 == 0 else None for x in range(10)]"
   ]
  },
  {
   "cell_type": "raw",
   "metadata": {},
   "source": [
    "Here the conditional expression isn't a filter, but rather an operator determining the value to be used for the list\n",
    "items:"
   ]
  },
  {
   "cell_type": "code",
   "execution_count": null,
   "metadata": {},
   "outputs": [],
   "source": [
    "<value-if-condition-is-true> if <condition> else <value-if-condition-is-false>"
   ]
  },
  {
   "cell_type": "raw",
   "metadata": {},
   "source": [
    "This becomes more obvious if you combine it with other operators:"
   ]
  },
  {
   "cell_type": "code",
   "execution_count": 6,
   "metadata": {},
   "outputs": [
    {
     "data": {
      "text/plain": [
       "[1, -1, 5, -1, 9, -1, 13, -1, 17, -1]"
      ]
     },
     "execution_count": 6,
     "metadata": {},
     "output_type": "execute_result"
    }
   ],
   "source": [
    "[2 * (x if x % 2 == 0 else -1) + 1 for x in range(10)]"
   ]
  },
  {
   "cell_type": "code",
   "execution_count": 7,
   "metadata": {},
   "outputs": [
    {
     "data": {
      "text/plain": [
       "['*', '*', '*', '*', 4, '*', 6, '*', 8, '*']"
      ]
     },
     "execution_count": 7,
     "metadata": {},
     "output_type": "execute_result"
    }
   ],
   "source": [
    "[x if (x > 2 and x % 2 == 0) else '*' for x in range(10)]"
   ]
  },
  {
   "cell_type": "markdown",
   "metadata": {},
   "source": [
    "### Section 138.2: List Comprehensions with Nested Loops"
   ]
  },
  {
   "cell_type": "raw",
   "metadata": {},
   "source": [
    "List Comprehensions can use nested for loops. You can code any number of nested for loops within a list\n",
    "comprehension, and each for loop may have an optional associated if test. When doing so, the order of the for\n",
    "constructs is the same order as when writing a series of nested for statements. The general structure of list\n",
    "comprehensions looks like this:"
   ]
  },
  {
   "cell_type": "code",
   "execution_count": null,
   "metadata": {},
   "outputs": [],
   "source": [
    "[ expression for target1 in iterable1 [if condition1]\n",
    "    for target2 in iterable2 [if condition2]...\n",
    "    for targetN in iterableN [if conditionN] ]"
   ]
  },
  {
   "cell_type": "raw",
   "metadata": {},
   "source": [
    "For example, the following code flattening a list of lists using multiple for statements:"
   ]
  },
  {
   "cell_type": "code",
   "execution_count": 8,
   "metadata": {},
   "outputs": [
    {
     "name": "stdout",
     "output_type": "stream",
     "text": [
      "[1, 2, 3, 4, 5, 6]\n"
     ]
    }
   ],
   "source": [
    "data = [[1, 2], [3, 4], [5, 6]]\n",
    "output = []\n",
    "for each_list in data:\n",
    "    for element in each_list:\n",
    "        output.append(element)\n",
    "print(output)"
   ]
  },
  {
   "cell_type": "raw",
   "metadata": {},
   "source": [
    "can be equivalently written as a list comprehension with multiple for constructs:"
   ]
  },
  {
   "cell_type": "code",
   "execution_count": 9,
   "metadata": {},
   "outputs": [
    {
     "name": "stdout",
     "output_type": "stream",
     "text": [
      "[1, 2, 3, 4, 5, 6]\n"
     ]
    }
   ],
   "source": [
    "data = [[1, 2], [3, 4], [5, 6]]\n",
    "output = [element for each_list in data for element in each_list]\n",
    "print(output)"
   ]
  },
  {
   "cell_type": "raw",
   "metadata": {},
   "source": [
    "In both the expanded form and the list comprehension, the outer loop (first for statement) comes first.\n",
    "In addition to being more compact, the nested comprehension is also significantly faster."
   ]
  },
  {
   "cell_type": "code",
   "execution_count": 10,
   "metadata": {},
   "outputs": [],
   "source": [
    "data = [[1,2],[3,4],[5,6]]"
   ]
  },
  {
   "cell_type": "code",
   "execution_count": 11,
   "metadata": {},
   "outputs": [],
   "source": [
    "def f():\n",
    "    output=[]\n",
    "    for each_list in data:\n",
    "        for element in each_list:\n",
    "            output.append(element)\n",
    "    return output"
   ]
  },
  {
   "cell_type": "code",
   "execution_count": 14,
   "metadata": {},
   "outputs": [
    {
     "name": "stdout",
     "output_type": "stream",
     "text": [
      "635 ns ± 23.7 ns per loop (mean ± std. dev. of 7 runs, 1000000 loops each)\n"
     ]
    }
   ],
   "source": [
    "timeit f()"
   ]
  },
  {
   "cell_type": "code",
   "execution_count": 15,
   "metadata": {},
   "outputs": [
    {
     "name": "stdout",
     "output_type": "stream",
     "text": [
      "413 ns ± 67.8 ns per loop (mean ± std. dev. of 7 runs, 1000000 loops each)\n"
     ]
    }
   ],
   "source": [
    "timeit [inner for outer in data for inner in outer]"
   ]
  },
  {
   "cell_type": "raw",
   "metadata": {},
   "source": [
    "Inline if s are nested similarly, and may occur in any position after the first for :"
   ]
  },
  {
   "cell_type": "code",
   "execution_count": 16,
   "metadata": {},
   "outputs": [
    {
     "name": "stdout",
     "output_type": "stream",
     "text": [
      "[2, 3, 4]\n"
     ]
    }
   ],
   "source": [
    "data = [[1], [2, 3], [4, 5]]\n",
    "output = [element for each_list in data\n",
    "    if len(each_list) == 2\n",
    "    for element in each_list\n",
    "    if element != 5]\n",
    "print(output)"
   ]
  },
  {
   "cell_type": "raw",
   "metadata": {},
   "source": [
    "For the sake of readability, however, you should consider using traditional for-loops. This is especially true when\n",
    "nesting is more than 2 levels deep, and/or the logic of the comprehension is too complex. multiple nested loop list\n",
    "comprehension could be error prone or it gives unexpected result."
   ]
  },
  {
   "cell_type": "markdown",
   "metadata": {},
   "source": [
    "### Section 138.3: Refactoring filter and map to list comprehensions"
   ]
  },
  {
   "cell_type": "raw",
   "metadata": {},
   "source": [
    "The filter or map functions should often be replaced by list comprehensions. Guido Van Rossum describes this\n",
    "well in an open letter in 2005:"
   ]
  },
  {
   "cell_type": "raw",
   "metadata": {},
   "source": [
    "filter(P, S) is almost always written clearer as [x for x in S if P(x)] , and this has the huge\n",
    "advantage that the most common usages involve predicates that are comparisons, e.g. x==42 , and\n",
    "defining a lambda for that just requires much more effort for the reader (plus the lambda is slower than\n",
    "the list comprehension). Even more so for map(F, S) which becomes [F(x) for x in S] . Of course, in\n",
    "many cases you'd be able to use generator expressions instead."
   ]
  },
  {
   "cell_type": "raw",
   "metadata": {},
   "source": [
    "The following lines of code are considered \"not pythonic\" and will raise errors in many python linters."
   ]
  },
  {
   "cell_type": "code",
   "execution_count": 18,
   "metadata": {},
   "outputs": [
    {
     "data": {
      "text/plain": [
       "<map at 0x1c202acd4e0>"
      ]
     },
     "execution_count": 18,
     "metadata": {},
     "output_type": "execute_result"
    }
   ],
   "source": [
    "filter(lambda x: x % 2 == 0, range(10)) # even numbers < 10\n",
    "map(lambda x: 2*x, range(10)) # multiply each number by two"
   ]
  },
  {
   "cell_type": "raw",
   "metadata": {},
   "source": [
    "Taking what we have learned from the previous quote, we can break down these filter and map expressions into\n",
    "their equivalent list comprehensions; also removing the lambda functions from each - making the code more\n",
    "readable in the process."
   ]
  },
  {
   "cell_type": "code",
   "execution_count": 19,
   "metadata": {},
   "outputs": [
    {
     "data": {
      "text/plain": [
       "[0, 2, 4, 6, 8]"
      ]
     },
     "execution_count": 19,
     "metadata": {},
     "output_type": "execute_result"
    }
   ],
   "source": [
    "[x for x in range(10) if x % 2 == 0]"
   ]
  },
  {
   "cell_type": "code",
   "execution_count": 20,
   "metadata": {},
   "outputs": [
    {
     "data": {
      "text/plain": [
       "[0, 2, 4, 6, 8, 10, 12, 14, 16, 18]"
      ]
     },
     "execution_count": 20,
     "metadata": {},
     "output_type": "execute_result"
    }
   ],
   "source": [
    "[2*x for x in range(10)]"
   ]
  },
  {
   "cell_type": "raw",
   "metadata": {},
   "source": [
    "Readability becomes even more apparent when dealing with chaining functions. Where due to readability, the\n",
    "results of one map or filter function should be passed as a result to the next; with simple cases, these can be\n",
    "replaced with a single list comprehension. Further, we can easily tell from the list comprehension what the outcome\n",
    "of our process is, where there is more cognitive load when reasoning about the chained Map & Filter process."
   ]
  },
  {
   "cell_type": "code",
   "execution_count": 21,
   "metadata": {},
   "outputs": [],
   "source": [
    "filtered = filter(lambda x: x % 2 == 0, range(10))\n",
    "results = map(lambda x: 2*x, filtered)"
   ]
  },
  {
   "cell_type": "code",
   "execution_count": 22,
   "metadata": {},
   "outputs": [],
   "source": [
    "results = [2*x for x in range(10) if x % 2 == 0]"
   ]
  },
  {
   "cell_type": "code",
   "execution_count": 23,
   "metadata": {},
   "outputs": [
    {
     "data": {
      "text/plain": [
       "[0, 4, 8, 12, 16]"
      ]
     },
     "execution_count": 23,
     "metadata": {},
     "output_type": "execute_result"
    }
   ],
   "source": [
    "results"
   ]
  },
  {
   "cell_type": "markdown",
   "metadata": {},
   "source": [
    "### Section 138.4: Nested List Comprehensions"
   ]
  },
  {
   "cell_type": "raw",
   "metadata": {},
   "source": [
    "Nested list comprehensions, unlike list comprehensions with nested loops, are List comprehensions within a list\n",
    "comprehension. The initial expression can be any arbitrary expression, including another list comprehension."
   ]
  },
  {
   "cell_type": "code",
   "execution_count": 24,
   "metadata": {},
   "outputs": [
    {
     "data": {
      "text/plain": [
       "[4, 5, 6, 5, 6, 7, 6, 7, 8]"
      ]
     },
     "execution_count": 24,
     "metadata": {},
     "output_type": "execute_result"
    }
   ],
   "source": [
    "[x + y for x in [1, 2, 3] for y in [3, 4, 5]]"
   ]
  },
  {
   "cell_type": "code",
   "execution_count": 25,
   "metadata": {},
   "outputs": [
    {
     "data": {
      "text/plain": [
       "[[4, 5, 6], [5, 6, 7], [6, 7, 8]]"
      ]
     },
     "execution_count": 25,
     "metadata": {},
     "output_type": "execute_result"
    }
   ],
   "source": [
    "[[x + y for x in [1, 2, 3]] for y in [3, 4, 5]]"
   ]
  },
  {
   "cell_type": "raw",
   "metadata": {},
   "source": [
    "The Nested example is equivalent to"
   ]
  },
  {
   "cell_type": "code",
   "execution_count": 26,
   "metadata": {},
   "outputs": [],
   "source": [
    "l = []\n",
    "for y in [3, 4, 5]:\n",
    "    temp = []\n",
    "    for x in [1, 2, 3]:\n",
    "        temp.append(x + y)\n",
    "    l.append(temp)"
   ]
  },
  {
   "cell_type": "code",
   "execution_count": 27,
   "metadata": {},
   "outputs": [
    {
     "data": {
      "text/plain": [
       "[[4, 5, 6], [5, 6, 7], [6, 7, 8]]"
      ]
     },
     "execution_count": 27,
     "metadata": {},
     "output_type": "execute_result"
    }
   ],
   "source": [
    "l"
   ]
  },
  {
   "cell_type": "raw",
   "metadata": {},
   "source": [
    "One example where a nested comprehension can be used it to transpose a matrix."
   ]
  },
  {
   "cell_type": "code",
   "execution_count": 28,
   "metadata": {},
   "outputs": [],
   "source": [
    "matrix = [[1,2,3],\n",
    "[4,5,6],\n",
    "[7,8,9]]"
   ]
  },
  {
   "cell_type": "code",
   "execution_count": 29,
   "metadata": {},
   "outputs": [
    {
     "data": {
      "text/plain": [
       "[[1, 4, 7], [2, 5, 8], [3, 6, 9]]"
      ]
     },
     "execution_count": 29,
     "metadata": {},
     "output_type": "execute_result"
    }
   ],
   "source": [
    "[[row[i] for row in matrix] for i in range(len(matrix))]"
   ]
  },
  {
   "cell_type": "raw",
   "metadata": {},
   "source": [
    "Like nested for loops, there is not limit to how deep comprehensions can be nested."
   ]
  },
  {
   "cell_type": "code",
   "execution_count": 30,
   "metadata": {},
   "outputs": [
    {
     "data": {
      "text/plain": [
       "[[['1ac', '1ad'], ['1bc', '1bd']], [['2ac', '2ad'], ['2bc', '2bd']]]"
      ]
     },
     "execution_count": 30,
     "metadata": {},
     "output_type": "execute_result"
    }
   ],
   "source": [
    "[[[i + j + k for k in 'cd'] for j in 'ab'] for i in '12']"
   ]
  },
  {
   "cell_type": "markdown",
   "metadata": {},
   "source": [
    "### Section 138.5: Iterate two or more list simultaneously within list comprehension"
   ]
  },
  {
   "cell_type": "raw",
   "metadata": {},
   "source": [
    "For iterating more than two lists simultaneously within list comprehension, one may use zip() as:"
   ]
  },
  {
   "cell_type": "code",
   "execution_count": 32,
   "metadata": {},
   "outputs": [],
   "source": [
    "list_1 = [1, 2, 3 , 4]\n",
    "list_2 = ['a', 'b', 'c', 'd']\n",
    "list_3 = ['6', '7', '8', '9']"
   ]
  },
  {
   "cell_type": "code",
   "execution_count": 33,
   "metadata": {},
   "outputs": [
    {
     "data": {
      "text/plain": [
       "[(1, 'a'), (2, 'b'), (3, 'c'), (4, 'd')]"
      ]
     },
     "execution_count": 33,
     "metadata": {},
     "output_type": "execute_result"
    }
   ],
   "source": [
    "[(i, j) for i, j in zip(list_1, list_2)]"
   ]
  },
  {
   "cell_type": "code",
   "execution_count": 34,
   "metadata": {},
   "outputs": [
    {
     "data": {
      "text/plain": [
       "[(1, 'a', '6'), (2, 'b', '7'), (3, 'c', '8'), (4, 'd', '9')]"
      ]
     },
     "execution_count": 34,
     "metadata": {},
     "output_type": "execute_result"
    }
   ],
   "source": [
    "[(i, j, k) for i, j, k in zip(list_1, list_2, list_3)]"
   ]
  }
 ],
 "metadata": {
  "kernelspec": {
   "display_name": "Python [default]",
   "language": "python",
   "name": "python3"
  },
  "language_info": {
   "codemirror_mode": {
    "name": "ipython",
    "version": 3
   },
   "file_extension": ".py",
   "mimetype": "text/x-python",
   "name": "python",
   "nbconvert_exporter": "python",
   "pygments_lexer": "ipython3",
   "version": "3.6.3"
  }
 },
 "nbformat": 4,
 "nbformat_minor": 2
}
