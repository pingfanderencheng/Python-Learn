{
 "cells": [
  {
   "cell_type": "markdown",
   "metadata": {},
   "source": [
    "### Section 141.1: Mixin"
   ]
  },
  {
   "cell_type": "raw",
   "metadata": {},
   "source": [
    "A Mixin is a set of properties and methods that can be used in different classes, which don't come from a base\n",
    "class. In Object Oriented Programming languages, you typically use inheritance to give objects of different classes\n",
    "the same functionality; if a set of objects have some ability, you put that ability in a base class that both objects\n",
    "inherit from."
   ]
  },
  {
   "cell_type": "raw",
   "metadata": {},
   "source": [
    "For instance, say you have the classes Car , Boat , and Plane . Objects from all of these classes have the\n",
    "ability to travel, so they get the function travel . In this scenario, they all travel the same basic way, too;\n",
    "by getting a route, and moving along it. To implement this function, you could derive all of the classes\n",
    "from Vehicle , and put the function in that shared class:"
   ]
  },
  {
   "cell_type": "code",
   "execution_count": 2,
   "metadata": {},
   "outputs": [],
   "source": [
    "class Vehicle(object):\n",
    "    \"\"\"A generic vehicle class.\"\"\"\n",
    "    def __init__(self, position):\n",
    "        self.position = position\n",
    "    def travel(self, destination):\n",
    "        route = calculate_route(begin=self.position, to=destination)\n",
    "        self.move_along(route)\n",
    "class Car(Vehicle):\n",
    "    pass\n",
    "class Boat(Vehicle):\n",
    "    pass\n",
    "class Plane(Vehicle):\n",
    "    pass"
   ]
  },
  {
   "cell_type": "raw",
   "metadata": {},
   "source": [
    "With this code, you can call travel on a car ( car.travel(\"Montana\") ), boat ( boat.travel(\"Hawaii\") ),\n",
    "and plane ( plane.travel(\"France\") )"
   ]
  },
  {
   "cell_type": "raw",
   "metadata": {},
   "source": [
    "However, what if you have functionality that's not available to a base class? Say, for instance, you want to give Car a\n",
    "radio and the ability to use it to play a song on a radio station, with play_song_on_station , but you also have a\n",
    "Clock that can use a radio too. Car and Clock could share a base class ( Machine ). However, not all machines can\n",
    "play songs; Boat and Plane can't (at least in this example). So how do you accomplish without duplicating code? You\n",
    "can use a mixin. In Python, giving a class a mixin is as simple as adding it to the list of subclasses, like this"
   ]
  },
  {
   "cell_type": "code",
   "execution_count": null,
   "metadata": {},
   "outputs": [],
   "source": [
    "class Foo(main_super, mixin):\n",
    "    pass"
   ]
  },
  {
   "cell_type": "raw",
   "metadata": {},
   "source": [
    "Foo will inherit all of the properties and methods of main_super , but also those of mixin as well."
   ]
  },
  {
   "cell_type": "raw",
   "metadata": {},
   "source": [
    "So, to give the classes Car and clock the ability to use a radio, you could override Car from the last\n",
    "example and write this:"
   ]
  },
  {
   "cell_type": "code",
   "execution_count": 4,
   "metadata": {},
   "outputs": [],
   "source": [
    "class RadioUserMixin(object):\n",
    "    def __init__(self):\n",
    "        self.radio = Radio()\n",
    "    def play_song_on_station(self, station):\n",
    "        self.radio.set_station(station)\n",
    "        self.radio.play_song()"
   ]
  },
  {
   "cell_type": "code",
   "execution_count": 5,
   "metadata": {},
   "outputs": [],
   "source": [
    "class Car(Vehicle, RadioUserMixin):\n",
    "    pass\n",
    "class Clock(Vehicle, RadioUserMixin):\n",
    "    pass"
   ]
  },
  {
   "cell_type": "raw",
   "metadata": {},
   "source": [
    "Now you can call car.play_song_on_station(98.7) and clock.play_song_on_station(101.3) , but not\n",
    "something like boat.play_song_on_station(100.5)"
   ]
  },
  {
   "cell_type": "raw",
   "metadata": {},
   "source": [
    "The important thing with mixins is that they allow you to add functionality to much different objects, that don't\n",
    "share a \"main\" subclass with this functionality but still share the code for it nonetheless. Without mixins, doing\n",
    "something like the above example would be much harder, and/or might require some repetition."
   ]
  },
  {
   "cell_type": "markdown",
   "metadata": {},
   "source": [
    "### Section 141.2: Overriding Methods in Mixins"
   ]
  },
  {
   "cell_type": "raw",
   "metadata": {},
   "source": [
    "Mixins are a sort of class that is used to \"mix in\" extra properties and methods into a class. This is usually fine\n",
    "because many times the mixin classes don't override each other's, or the base class' methods. But if you do\n",
    "override methods or properties in your mixins this can lead to unexpected results because in Python the class\n",
    "hierarchy is defined right to left."
   ]
  },
  {
   "cell_type": "raw",
   "metadata": {},
   "source": [
    "For instance, take the following classes"
   ]
  },
  {
   "cell_type": "code",
   "execution_count": 7,
   "metadata": {},
   "outputs": [],
   "source": [
    "class Mixin1(object):\n",
    "    def test(self):\n",
    "        print (\"Mixin1\")\n",
    "class Mixin2(object):\n",
    "    def test(self):\n",
    "        print (\"Mixin2\")\n",
    "class BaseClass(object):\n",
    "    def test(self):\n",
    "        print (\"Base\")\n",
    "class MyClass(BaseClass, Mixin1, Mixin2):\n",
    "    pass"
   ]
  },
  {
   "cell_type": "raw",
   "metadata": {},
   "source": [
    "In this case the Mixin2 class is the base class, extended by Mixin1 and finally by BaseClass. Thus, if we execute the\n",
    "following code snippet:"
   ]
  },
  {
   "cell_type": "code",
   "execution_count": 8,
   "metadata": {},
   "outputs": [],
   "source": [
    "x = MyClass()"
   ]
  },
  {
   "cell_type": "code",
   "execution_count": 9,
   "metadata": {},
   "outputs": [
    {
     "name": "stdout",
     "output_type": "stream",
     "text": [
      "Base\n"
     ]
    }
   ],
   "source": [
    "x.test()"
   ]
  },
  {
   "cell_type": "raw",
   "metadata": {},
   "source": [
    "We see the result returned is from the Base class. This can lead to unexpected errors in the logic of your code and\n",
    "needs to be accounted for and kept in mind"
   ]
  }
 ],
 "metadata": {
  "kernelspec": {
   "display_name": "Python [default]",
   "language": "python",
   "name": "python3"
  },
  "language_info": {
   "codemirror_mode": {
    "name": "ipython",
    "version": 3
   },
   "file_extension": ".py",
   "mimetype": "text/x-python",
   "name": "python",
   "nbconvert_exporter": "python",
   "pygments_lexer": "ipython3",
   "version": "3.6.3"
  }
 },
 "nbformat": 4,
 "nbformat_minor": 2
}
