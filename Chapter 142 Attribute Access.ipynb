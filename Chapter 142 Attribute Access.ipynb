{
 "cells": [
  {
   "cell_type": "markdown",
   "metadata": {},
   "source": [
    "### Section 142.1: Basic Attribute Access using the Dot Notation"
   ]
  },
  {
   "cell_type": "code",
   "execution_count": 2,
   "metadata": {},
   "outputs": [],
   "source": [
    "class Book:\n",
    "    def __init__(self, title, author):\n",
    "        self.title = title\n",
    "        self.author = author\n",
    "book1 = Book(title=\"Right Ho, Jeeves\", author=\"P.G. Wodehouse\")"
   ]
  },
  {
   "cell_type": "raw",
   "metadata": {},
   "source": [
    "In Python you can access the attribute title of the class using the dot notation."
   ]
  },
  {
   "cell_type": "code",
   "execution_count": 3,
   "metadata": {},
   "outputs": [
    {
     "data": {
      "text/plain": [
       "'Right Ho, Jeeves'"
      ]
     },
     "execution_count": 3,
     "metadata": {},
     "output_type": "execute_result"
    }
   ],
   "source": [
    "book1.title"
   ]
  },
  {
   "cell_type": "raw",
   "metadata": {},
   "source": [
    "If an attribute doesn't exist, Python throws an error:"
   ]
  },
  {
   "cell_type": "code",
   "execution_count": 4,
   "metadata": {},
   "outputs": [
    {
     "ename": "AttributeError",
     "evalue": "'Book' object has no attribute 'series'",
     "output_type": "error",
     "traceback": [
      "\u001b[1;31m---------------------------------------------------------------------------\u001b[0m",
      "\u001b[1;31mAttributeError\u001b[0m                            Traceback (most recent call last)",
      "\u001b[1;32m<ipython-input-4-c27c1c408623>\u001b[0m in \u001b[0;36m<module>\u001b[1;34m()\u001b[0m\n\u001b[1;32m----> 1\u001b[1;33m \u001b[0mbook1\u001b[0m\u001b[1;33m.\u001b[0m\u001b[0mseries\u001b[0m\u001b[1;33m\u001b[0m\u001b[0m\n\u001b[0m",
      "\u001b[1;31mAttributeError\u001b[0m: 'Book' object has no attribute 'series'"
     ]
    }
   ],
   "source": [
    "book1.series"
   ]
  },
  {
   "cell_type": "markdown",
   "metadata": {},
   "source": [
    "### Section 142.2: Setters, Getters & Properties"
   ]
  },
  {
   "cell_type": "raw",
   "metadata": {},
   "source": [
    "For the sake of data encapsulation, sometimes you want to have an attribute which value comes from other\n",
    "attributes or, in general, which value shall be computed at the moment. The standard way to deal with this situation\n",
    "is to create a method, called getter or a setter."
   ]
  },
  {
   "cell_type": "code",
   "execution_count": 5,
   "metadata": {},
   "outputs": [],
   "source": [
    "class Book:\n",
    "    def __init__(self, title, author):\n",
    "        self.title = title\n",
    "        self.author = author"
   ]
  },
  {
   "cell_type": "raw",
   "metadata": {},
   "source": [
    "In the example above, it's easy to see what happens if we create a new Book that contains a title and a author. If all\n",
    "books we're to add to our Library have authors and titles, then we can skip the getters and setters and use the dot\n",
    "notation. However, suppose we have some books that do not have an author and we want to set the author to\n",
    "\"Unknown\". Or if they have multiple authors and we plan to return a list of authors."
   ]
  },
  {
   "cell_type": "code",
   "execution_count": 6,
   "metadata": {},
   "outputs": [],
   "source": [
    "class P:\n",
    "    def __init__(self,title,author):\n",
    "        self.title = title\n",
    "        self.setAuthor(author)\n",
    "    def get_author(self):\n",
    "        return self.author\n",
    "    def set_author(self, author):\n",
    "        if not author:\n",
    "            self.author = \"Unknown\"\n",
    "        else:\n",
    "            self.author = author"
   ]
  },
  {
   "cell_type": "raw",
   "metadata": {},
   "source": [
    "This scheme is not recommended."
   ]
  },
  {
   "cell_type": "raw",
   "metadata": {},
   "source": [
    "One reason is that there is a catch: Let's assume we have designed our class with the public attribute and no\n",
    "methods. People have already used it a lot and they have written code like this:"
   ]
  },
  {
   "cell_type": "code",
   "execution_count": 7,
   "metadata": {},
   "outputs": [],
   "source": [
    "book = Book(title=\"Ancient Manuscript\", author=\"Some Guy\")"
   ]
  },
  {
   "cell_type": "code",
   "execution_count": 9,
   "metadata": {},
   "outputs": [],
   "source": [
    "book.author = \"\""
   ]
  },
  {
   "cell_type": "raw",
   "metadata": {},
   "source": [
    "Now we have a problem. Because author is not an attribute! Python offers a solution to this problem called\n",
    "properties. A method to get properties is decorated with the @property before it's header. The method that we\n",
    "want to function as a setter is decorated with @attributeName.setter before it."
   ]
  },
  {
   "cell_type": "code",
   "execution_count": 24,
   "metadata": {},
   "outputs": [],
   "source": [
    "class Book:\n",
    "    def __init__(self, title, author):\n",
    "        self.title = title\n",
    "        self.author = author\n",
    "    @property\n",
    "    def author(self):\n",
    "        return self.__author\n",
    "    @author.setter\n",
    "    def author(self, author):\n",
    "        if not author:\n",
    "            self.__author = \"Unknown\"\n",
    "        else:\n",
    "            self.__author = author"
   ]
  },
  {
   "cell_type": "raw",
   "metadata": {},
   "source": [
    "Note, normally Python doesn't allow you to have multiple methods with the same name and different number of\n",
    "parameters. However, in this case Python allows this because of the decorators used."
   ]
  },
  {
   "cell_type": "code",
   "execution_count": 27,
   "metadata": {},
   "outputs": [
    {
     "data": {
      "text/plain": [
       "'Unknown'"
      ]
     },
     "execution_count": 27,
     "metadata": {},
     "output_type": "execute_result"
    }
   ],
   "source": [
    "book = Book(title=\"Ancient Manuscript\", author=\"Some Guy\")\n",
    "book.author=\"\"\n",
    "book.author"
   ]
  },
  {
   "cell_type": "code",
   "execution_count": null,
   "metadata": {},
   "outputs": [],
   "source": []
  }
 ],
 "metadata": {
  "kernelspec": {
   "display_name": "Python [default]",
   "language": "python",
   "name": "python3"
  },
  "language_info": {
   "codemirror_mode": {
    "name": "ipython",
    "version": 3
   },
   "file_extension": ".py",
   "mimetype": "text/x-python",
   "name": "python",
   "nbconvert_exporter": "python",
   "pygments_lexer": "ipython3",
   "version": "3.6.3"
  }
 },
 "nbformat": 4,
 "nbformat_minor": 2
}
