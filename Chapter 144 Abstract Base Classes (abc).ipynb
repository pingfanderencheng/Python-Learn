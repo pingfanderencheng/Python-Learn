{
 "cells": [
  {
   "cell_type": "markdown",
   "metadata": {},
   "source": [
    "### Section 144.1: Setting the ABCMeta metaclass"
   ]
  },
  {
   "cell_type": "raw",
   "metadata": {},
   "source": [
    "Abstract classes are classes that are meant to be inherited but avoid implementing specific methods, leaving\n",
    "behind only method signatures that subclasses must implement."
   ]
  },
  {
   "cell_type": "raw",
   "metadata": {},
   "source": [
    "Abstract classes are useful for defining and enforcing class abstractions at a high level, similar to the concept of\n",
    "interfaces in typed languages, without the need for method implementation."
   ]
  },
  {
   "cell_type": "raw",
   "metadata": {},
   "source": [
    "One conceptual approach to defining an abstract class is to stub out the class methods, and then raise a\n",
    "NotImplementedError if accessed. This prevents children classes from accessing parent methods without\n",
    "overriding them first. Like so:"
   ]
  },
  {
   "cell_type": "code",
   "execution_count": 1,
   "metadata": {},
   "outputs": [
    {
     "ename": "NotImplementedError",
     "evalue": "check_ripeness method not implemented!",
     "output_type": "error",
     "traceback": [
      "\u001b[1;31m---------------------------------------------------------------------------\u001b[0m",
      "\u001b[1;31mNotImplementedError\u001b[0m                       Traceback (most recent call last)",
      "\u001b[1;32m<ipython-input-1-1a73210f0a5f>\u001b[0m in \u001b[0;36m<module>\u001b[1;34m()\u001b[0m\n\u001b[0;32m      5\u001b[0m     \u001b[1;32mpass\u001b[0m\u001b[1;33m\u001b[0m\u001b[0m\n\u001b[0;32m      6\u001b[0m \u001b[0ma\u001b[0m \u001b[1;33m=\u001b[0m \u001b[0mApple\u001b[0m\u001b[1;33m(\u001b[0m\u001b[1;33m)\u001b[0m\u001b[1;33m\u001b[0m\u001b[0m\n\u001b[1;32m----> 7\u001b[1;33m \u001b[0ma\u001b[0m\u001b[1;33m.\u001b[0m\u001b[0mcheck_ripeness\u001b[0m\u001b[1;33m(\u001b[0m\u001b[1;33m)\u001b[0m\u001b[1;33m\u001b[0m\u001b[0m\n\u001b[0m",
      "\u001b[1;32m<ipython-input-1-1a73210f0a5f>\u001b[0m in \u001b[0;36mcheck_ripeness\u001b[1;34m(self)\u001b[0m\n\u001b[0;32m      1\u001b[0m \u001b[1;32mclass\u001b[0m \u001b[0mFruit\u001b[0m\u001b[1;33m:\u001b[0m\u001b[1;33m\u001b[0m\u001b[0m\n\u001b[0;32m      2\u001b[0m     \u001b[1;32mdef\u001b[0m \u001b[0mcheck_ripeness\u001b[0m\u001b[1;33m(\u001b[0m\u001b[0mself\u001b[0m\u001b[1;33m)\u001b[0m\u001b[1;33m:\u001b[0m\u001b[1;33m\u001b[0m\u001b[0m\n\u001b[1;32m----> 3\u001b[1;33m         \u001b[1;32mraise\u001b[0m \u001b[0mNotImplementedError\u001b[0m\u001b[1;33m(\u001b[0m\u001b[1;34m\"check_ripeness method not implemented!\"\u001b[0m\u001b[1;33m)\u001b[0m\u001b[1;33m\u001b[0m\u001b[0m\n\u001b[0m\u001b[0;32m      4\u001b[0m \u001b[1;32mclass\u001b[0m \u001b[0mApple\u001b[0m\u001b[1;33m(\u001b[0m\u001b[0mFruit\u001b[0m\u001b[1;33m)\u001b[0m\u001b[1;33m:\u001b[0m\u001b[1;33m\u001b[0m\u001b[0m\n\u001b[0;32m      5\u001b[0m     \u001b[1;32mpass\u001b[0m\u001b[1;33m\u001b[0m\u001b[0m\n",
      "\u001b[1;31mNotImplementedError\u001b[0m: check_ripeness method not implemented!"
     ]
    }
   ],
   "source": [
    "class Fruit:\n",
    "    def check_ripeness(self):\n",
    "        raise NotImplementedError(\"check_ripeness method not implemented!\")\n",
    "class Apple(Fruit):\n",
    "    pass\n",
    "a = Apple()\n",
    "a.check_ripeness()"
   ]
  },
  {
   "cell_type": "raw",
   "metadata": {},
   "source": [
    "Creating an abstract class in this way prevents improper usage of methods that are not overriden, and certainly\n",
    "encourages methods to be defined in child classes, but it does not enforce their definition. With the abc module we\n",
    "can prevent child classes from being instantiated when they fail to override abstract class methods of their parents\n",
    "and ancestors:"
   ]
  },
  {
   "cell_type": "code",
   "execution_count": 10,
   "metadata": {},
   "outputs": [],
   "source": [
    "from abc import ABCMeta, abstractmethod\n",
    "class AbstractClass(object):\n",
    "    # the metaclass attribute must always be set as a class variable\n",
    "    __metaclass__ = ABCMeta\n",
    "    # the abstractmethod decorator registers this method as undefined\n",
    "    @abstractmethod\n",
    "    def virtual_method_subclasses_must_define(self):\n",
    "        pass"
   ]
  },
  {
   "cell_type": "code",
   "execution_count": 12,
   "metadata": {},
   "outputs": [],
   "source": [
    "class Subclass(AbstractClass):\n",
    "    def virtual_method_subclasses_must_define(self):\n",
    "        return"
   ]
  },
  {
   "cell_type": "markdown",
   "metadata": {},
   "source": [
    "### Section 144.2: Why/How to use ABCMeta and @abstractmethod"
   ]
  },
  {
   "cell_type": "raw",
   "metadata": {},
   "source": [
    "Abstract base classes (ABCs) enforce what derived classes implement particular methods from the base class.\n",
    "To understand how this works and why we should use it, let's take a look at an example that Van Rossum would\n",
    "enjoy. Let's say we have a Base class \"MontyPython\" with two methods (joke & punchline) that must be\n",
    "implemented by all derived classes."
   ]
  },
  {
   "cell_type": "code",
   "execution_count": 13,
   "metadata": {},
   "outputs": [],
   "source": [
    "class MontyPython:\n",
    "    def joke(self):\n",
    "        raise NotImplementedError()\n",
    "    def punchline(self):\n",
    "        raise NotImplementedError()\n",
    "class ArgumentClinic(MontyPython):\n",
    "    def joke(self):\n",
    "        return \"Hahahahahah\""
   ]
  },
  {
   "cell_type": "raw",
   "metadata": {},
   "source": [
    "When we instantiate an object and call it's two methods, we'll get an error (as expected) with the punchline() method."
   ]
  },
  {
   "cell_type": "code",
   "execution_count": 14,
   "metadata": {},
   "outputs": [
    {
     "ename": "NotImplementedError",
     "evalue": "",
     "output_type": "error",
     "traceback": [
      "\u001b[1;31m---------------------------------------------------------------------------\u001b[0m",
      "\u001b[1;31mNotImplementedError\u001b[0m                       Traceback (most recent call last)",
      "\u001b[1;32m<ipython-input-14-5686dcc4a2ec>\u001b[0m in \u001b[0;36m<module>\u001b[1;34m()\u001b[0m\n\u001b[0;32m      1\u001b[0m \u001b[0msketch\u001b[0m \u001b[1;33m=\u001b[0m \u001b[0mArgumentClinic\u001b[0m\u001b[1;33m(\u001b[0m\u001b[1;33m)\u001b[0m\u001b[1;33m\u001b[0m\u001b[0m\n\u001b[1;32m----> 2\u001b[1;33m \u001b[0msketch\u001b[0m\u001b[1;33m.\u001b[0m\u001b[0mpunchline\u001b[0m\u001b[1;33m(\u001b[0m\u001b[1;33m)\u001b[0m\u001b[1;33m\u001b[0m\u001b[0m\n\u001b[0m",
      "\u001b[1;32m<ipython-input-13-b8c90ccec005>\u001b[0m in \u001b[0;36mpunchline\u001b[1;34m(self)\u001b[0m\n\u001b[0;32m      3\u001b[0m         \u001b[1;32mraise\u001b[0m \u001b[0mNotImplementedError\u001b[0m\u001b[1;33m(\u001b[0m\u001b[1;33m)\u001b[0m\u001b[1;33m\u001b[0m\u001b[0m\n\u001b[0;32m      4\u001b[0m     \u001b[1;32mdef\u001b[0m \u001b[0mpunchline\u001b[0m\u001b[1;33m(\u001b[0m\u001b[0mself\u001b[0m\u001b[1;33m)\u001b[0m\u001b[1;33m:\u001b[0m\u001b[1;33m\u001b[0m\u001b[0m\n\u001b[1;32m----> 5\u001b[1;33m         \u001b[1;32mraise\u001b[0m \u001b[0mNotImplementedError\u001b[0m\u001b[1;33m(\u001b[0m\u001b[1;33m)\u001b[0m\u001b[1;33m\u001b[0m\u001b[0m\n\u001b[0m\u001b[0;32m      6\u001b[0m \u001b[1;32mclass\u001b[0m \u001b[0mArgumentClinic\u001b[0m\u001b[1;33m(\u001b[0m\u001b[0mMontyPython\u001b[0m\u001b[1;33m)\u001b[0m\u001b[1;33m:\u001b[0m\u001b[1;33m\u001b[0m\u001b[0m\n\u001b[0;32m      7\u001b[0m     \u001b[1;32mdef\u001b[0m \u001b[0mjoke\u001b[0m\u001b[1;33m(\u001b[0m\u001b[0mself\u001b[0m\u001b[1;33m)\u001b[0m\u001b[1;33m:\u001b[0m\u001b[1;33m\u001b[0m\u001b[0m\n",
      "\u001b[1;31mNotImplementedError\u001b[0m: "
     ]
    }
   ],
   "source": [
    "sketch = ArgumentClinic()\n",
    "sketch.punchline()"
   ]
  },
  {
   "cell_type": "raw",
   "metadata": {},
   "source": [
    "However, this still allows us to instantiate an object of the ArgumentClinic class without getting an error. In fact we\n",
    "don't get an error until we look for the punchline()."
   ]
  },
  {
   "cell_type": "raw",
   "metadata": {},
   "source": [
    "This is avoided by using the Abstract Base Class (ABC) module. Let's see how this works with the same example:"
   ]
  },
  {
   "cell_type": "code",
   "execution_count": 15,
   "metadata": {},
   "outputs": [],
   "source": [
    "from abc import ABCMeta, abstractmethod\n",
    "class MontyPython(metaclass=ABCMeta):\n",
    "    @abstractmethod\n",
    "    def joke(self):\n",
    "        pass\n",
    "    @abstractmethod\n",
    "    def punchline(self):\n",
    "        pass\n",
    "class ArgumentClinic(MontyPython):\n",
    "    def joke(self):\n",
    "        return \"Hahahahahah\""
   ]
  },
  {
   "cell_type": "raw",
   "metadata": {},
   "source": [
    "This time when we try to instantiate an object from the incomplete class, we immediately get a TypeError!"
   ]
  },
  {
   "cell_type": "code",
   "execution_count": 16,
   "metadata": {},
   "outputs": [
    {
     "ename": "TypeError",
     "evalue": "Can't instantiate abstract class ArgumentClinic with abstract methods punchline",
     "output_type": "error",
     "traceback": [
      "\u001b[1;31m---------------------------------------------------------------------------\u001b[0m",
      "\u001b[1;31mTypeError\u001b[0m                                 Traceback (most recent call last)",
      "\u001b[1;32m<ipython-input-16-05e50cda5da6>\u001b[0m in \u001b[0;36m<module>\u001b[1;34m()\u001b[0m\n\u001b[1;32m----> 1\u001b[1;33m \u001b[0mc\u001b[0m \u001b[1;33m=\u001b[0m \u001b[0mArgumentClinic\u001b[0m\u001b[1;33m(\u001b[0m\u001b[1;33m)\u001b[0m\u001b[1;33m\u001b[0m\u001b[0m\n\u001b[0m",
      "\u001b[1;31mTypeError\u001b[0m: Can't instantiate abstract class ArgumentClinic with abstract methods punchline"
     ]
    }
   ],
   "source": [
    "c = ArgumentClinic()"
   ]
  },
  {
   "cell_type": "code",
   "execution_count": 17,
   "metadata": {},
   "outputs": [],
   "source": [
    "class ArgumentClinic(MontyPython):\n",
    "    def joke(self):\n",
    "        return \"Hahahahahah\"\n",
    "    def punchline(self):\n",
    "        return \"Send in the constable!\""
   ]
  },
  {
   "cell_type": "raw",
   "metadata": {},
   "source": [
    "This time when you instantiate an object it works!"
   ]
  },
  {
   "cell_type": "code",
   "execution_count": null,
   "metadata": {},
   "outputs": [],
   "source": []
  },
  {
   "cell_type": "code",
   "execution_count": null,
   "metadata": {},
   "outputs": [],
   "source": []
  }
 ],
 "metadata": {
  "kernelspec": {
   "display_name": "Python [default]",
   "language": "python",
   "name": "python3"
  },
  "language_info": {
   "codemirror_mode": {
    "name": "ipython",
    "version": 3
   },
   "file_extension": ".py",
   "mimetype": "text/x-python",
   "name": "python",
   "nbconvert_exporter": "python",
   "pygments_lexer": "ipython3",
   "version": "3.6.3"
  }
 },
 "nbformat": 4,
 "nbformat_minor": 2
}
