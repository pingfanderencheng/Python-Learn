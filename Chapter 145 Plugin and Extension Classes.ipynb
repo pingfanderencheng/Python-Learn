{
 "cells": [
  {
   "cell_type": "markdown",
   "metadata": {},
   "source": [
    "### Section 145.1: Mixins"
   ]
  },
  {
   "cell_type": "raw",
   "metadata": {},
   "source": [
    "In Object oriented programming language, a mixin is a class that contains methods for use by other classes without\n",
    "having to be the parent class of those other classes. How those other classes gain access to the mixin's methods\n",
    "depends on the language."
   ]
  },
  {
   "cell_type": "raw",
   "metadata": {},
   "source": [
    "It provides a mechanism for multiple inheritance by allowing multiple classes to use the common functionality, but\n",
    "without the complex semantics of multiple inheritance. Mixins are useful when a programmer wants to share\n",
    "functionality between different classes. Instead of repeating the same code over and over again, the common\n",
    "functionality can simply be grouped into a mixin and then inherited into each class that requires it."
   ]
  },
  {
   "cell_type": "raw",
   "metadata": {},
   "source": [
    "When we use more than one mixins, Order of mixins are important. here is a simple example:"
   ]
  },
  {
   "cell_type": "code",
   "execution_count": 2,
   "metadata": {},
   "outputs": [],
   "source": [
    "class Mixin1(object):\n",
    "    def test(self):\n",
    "        print (\"Mixin1\")\n",
    "class Mixin2(object):\n",
    "    def test(self):\n",
    "        print (\"Mixin2\")\n",
    "class MyClass(Mixin1, Mixin2):\n",
    "    pass"
   ]
  },
  {
   "cell_type": "code",
   "execution_count": 3,
   "metadata": {},
   "outputs": [
    {
     "name": "stdout",
     "output_type": "stream",
     "text": [
      "Mixin1\n"
     ]
    }
   ],
   "source": [
    "obj = MyClass()\n",
    "obj.test()"
   ]
  },
  {
   "cell_type": "raw",
   "metadata": {},
   "source": [
    "Result must be Mixin1 because Order is left to right. This could be show unexpected results when super classes add\n",
    "with it. So reverse order is more good just like this:"
   ]
  },
  {
   "cell_type": "code",
   "execution_count": 4,
   "metadata": {},
   "outputs": [],
   "source": [
    "class MyClass(Mixin2, Mixin1):\n",
    "    pass"
   ]
  },
  {
   "cell_type": "code",
   "execution_count": 5,
   "metadata": {},
   "outputs": [
    {
     "name": "stdout",
     "output_type": "stream",
     "text": [
      "Mixin2\n"
     ]
    }
   ],
   "source": [
    "obj = MyClass()\n",
    "obj.test()"
   ]
  },
  {
   "cell_type": "code",
   "execution_count": 6,
   "metadata": {},
   "outputs": [
    {
     "name": "stdout",
     "output_type": "stream",
     "text": [
      "Base.\n",
      "Plugin A.\n"
     ]
    }
   ],
   "source": [
    "class Base(object):\n",
    "    def test(self):\n",
    "        print(\"Base.\")\n",
    "class PluginA(object):\n",
    "    def test(self):\n",
    "        super().test()\n",
    "        print(\"Plugin A.\")\n",
    "class PluginB(object):\n",
    "    def test(self):\n",
    "        super().test()\n",
    "        print(\"Plugin B.\")\n",
    "plugins = PluginA, PluginB\n",
    "class PluginSystemA(PluginA, Base):\n",
    "    pass\n",
    "class PluginSystemB(PluginB, Base):\n",
    "    pass\n",
    "PluginSystemA().test()"
   ]
  },
  {
   "cell_type": "code",
   "execution_count": 7,
   "metadata": {},
   "outputs": [
    {
     "name": "stdout",
     "output_type": "stream",
     "text": [
      "Base.\n",
      "Plugin B.\n"
     ]
    }
   ],
   "source": [
    "PluginSystemB().test()"
   ]
  },
  {
   "cell_type": "markdown",
   "metadata": {},
   "source": [
    "### Section 145.2: Plugins with Customized Classes"
   ]
  },
  {
   "cell_type": "raw",
   "metadata": {},
   "source": [
    "In Python 3.6, PEP 487 added the __init_subclass__ special method, which simplifies and extends class\n",
    "customization without using metaclasses. Consequently, this feature allows for creating simple plugins. Here we\n",
    "demonstrate this feature by modifying a prior example:"
   ]
  },
  {
   "cell_type": "code",
   "execution_count": 8,
   "metadata": {},
   "outputs": [],
   "source": [
    "class Base:\n",
    "    plugins = []\n",
    "    def __init_subclass__(cls, **kwargs):\n",
    "        super().__init_subclass__(**kwargs)\n",
    "        cls.plugins.append(cls)\n",
    "    def test(self):\n",
    "        print(\"Base.\")\n",
    "class PluginA(Base):\n",
    "    def test(self):\n",
    "        super().test()\n",
    "        print(\"Plugin A.\")\n",
    "class PluginB(Base):\n",
    "    def test(self):\n",
    "        super().test()\n",
    "        print(\"Plugin B.\")"
   ]
  },
  {
   "cell_type": "code",
   "execution_count": 9,
   "metadata": {},
   "outputs": [
    {
     "name": "stdout",
     "output_type": "stream",
     "text": [
      "Base.\n",
      "Plugin A.\n"
     ]
    }
   ],
   "source": [
    "PluginA().test()"
   ]
  },
  {
   "cell_type": "code",
   "execution_count": 10,
   "metadata": {},
   "outputs": [
    {
     "name": "stdout",
     "output_type": "stream",
     "text": [
      "Base.\n",
      "Plugin B.\n"
     ]
    }
   ],
   "source": [
    "PluginB().test()"
   ]
  },
  {
   "cell_type": "code",
   "execution_count": 11,
   "metadata": {},
   "outputs": [
    {
     "data": {
      "text/plain": [
       "[__main__.PluginA, __main__.PluginB]"
      ]
     },
     "execution_count": 11,
     "metadata": {},
     "output_type": "execute_result"
    }
   ],
   "source": [
    "Base.plugins"
   ]
  }
 ],
 "metadata": {
  "kernelspec": {
   "display_name": "Python [default]",
   "language": "python",
   "name": "python3"
  },
  "language_info": {
   "codemirror_mode": {
    "name": "ipython",
    "version": 3
   },
   "file_extension": ".py",
   "mimetype": "text/x-python",
   "name": "python",
   "nbconvert_exporter": "python",
   "pygments_lexer": "ipython3",
   "version": "3.6.3"
  }
 },
 "nbformat": 4,
 "nbformat_minor": 2
}
