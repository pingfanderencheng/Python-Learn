{
 "cells": [
  {
   "cell_type": "markdown",
   "metadata": {},
   "source": [
    "### Section 146.1: Simple Echo with aiohttp"
   ]
  },
  {
   "cell_type": "markdown",
   "metadata": {},
   "source": [
    "[aiohttp](http://aiohttp.readthedocs.io/) provides asynchronous websockets."
   ]
  },
  {
   "cell_type": "code",
   "execution_count": 3,
   "metadata": {},
   "outputs": [
    {
     "ename": "ModuleNotFoundError",
     "evalue": "No module named 'aiohttp'",
     "output_type": "error",
     "traceback": [
      "\u001b[1;31m---------------------------------------------------------------------------\u001b[0m",
      "\u001b[1;31mModuleNotFoundError\u001b[0m                       Traceback (most recent call last)",
      "\u001b[1;32m<ipython-input-3-482e412dcf6c>\u001b[0m in \u001b[0;36m<module>\u001b[1;34m()\u001b[0m\n\u001b[0;32m      1\u001b[0m \u001b[1;32mimport\u001b[0m \u001b[0masyncio\u001b[0m\u001b[1;33m\u001b[0m\u001b[0m\n\u001b[1;32m----> 2\u001b[1;33m \u001b[1;32mfrom\u001b[0m \u001b[0maiohttp\u001b[0m \u001b[1;32mimport\u001b[0m \u001b[0mClientSession\u001b[0m\u001b[1;33m\u001b[0m\u001b[0m\n\u001b[0m\u001b[0;32m      3\u001b[0m \u001b[1;32mwith\u001b[0m \u001b[0mClientSession\u001b[0m\u001b[1;33m(\u001b[0m\u001b[1;33m)\u001b[0m \u001b[1;32mas\u001b[0m \u001b[0msession\u001b[0m\u001b[1;33m:\u001b[0m\u001b[1;33m\u001b[0m\u001b[0m\n\u001b[0;32m      4\u001b[0m     \u001b[1;33masync\u001b[0m \u001b[1;32mdef\u001b[0m \u001b[0mhello_world\u001b[0m\u001b[1;33m(\u001b[0m\u001b[1;33m)\u001b[0m\u001b[1;33m:\u001b[0m\u001b[1;33m\u001b[0m\u001b[0m\n\u001b[0;32m      5\u001b[0m         \u001b[0mwebsocket\u001b[0m \u001b[1;33m=\u001b[0m \u001b[0mawait\u001b[0m \u001b[0msession\u001b[0m\u001b[1;33m.\u001b[0m\u001b[0mws_connect\u001b[0m\u001b[1;33m(\u001b[0m\u001b[1;34m\"wss://echo.websocket.org\"\u001b[0m\u001b[1;33m)\u001b[0m\u001b[1;33m\u001b[0m\u001b[0m\n",
      "\u001b[1;31mModuleNotFoundError\u001b[0m: No module named 'aiohttp'"
     ]
    }
   ],
   "source": [
    "import asyncio\n",
    "from aiohttp import ClientSession\n",
    "with ClientSession() as session:\n",
    "    async def hello_world():\n",
    "        websocket = await session.ws_connect(\"wss://echo.websocket.org\")\n",
    "        websocket.send_str(\"Hello, world!\")\n",
    "        print(\"Received:\", (await websocket.receive()).data)\n",
    "        await websocket.close()\n",
    "    loop = asyncio.get_event_loop()\n",
    "    loop.run_until_complete(hello_world())"
   ]
  },
  {
   "cell_type": "markdown",
   "metadata": {},
   "source": [
    "### Section 146.2: Wrapper Class with aiohttp"
   ]
  },
  {
   "cell_type": "code",
   "execution_count": null,
   "metadata": {},
   "outputs": [],
   "source": [
    "import asyncio\n",
    "from aiohttp import ClientSession\n",
    "class EchoWebSocket(ClientSession):\n",
    "    URL = \"wss://echo.websocket.org\"\n",
    "    def __init__(self):\n",
    "        super().__init__()\n",
    "        self.websocket = None\n",
    "    async def connect(self):\n",
    "        \"\"\"Connect to the WebSocket.\"\"\"\n",
    "        self.websocket = await self.ws_connect(self.URL)\n",
    "    async def send(self, message):\n",
    "        \"\"\"Send a message to the WebSocket.\"\"\"\n",
    "        assert self.websocket is not None, \"You must connect first!\"\n",
    "        self.websocket.send_str(message)\n",
    "        print(\"Sent:\", message)\n",
    "    async def receive(self):\n",
    "        \"\"\"Receive one message from the WebSocket.\"\"\"\n",
    "        assert self.websocket is not None, \"You must connect first!\"\n",
    "        return (await self.websocket.receive()).data\n",
    "    async def read(self):\n",
    "        \"\"\"Read messages from the WebSocket.\"\"\"\n",
    "        assert self.websocket is not None, \"You must connect first!\"\n",
    "        while self.websocket.receive():\n",
    "            message = await self.receive()\n",
    "            print(\"Received:\", message)\n",
    "            if message == \"Echo 9!\":\n",
    "                break\n",
    "async def send(websocket):\n",
    "    for n in range(10):\n",
    "        await websocket.send(\"Echo {}!\".format(n))\n",
    "        await asyncio.sleep(1)\n",
    "\n",
    "loop = asyncio.get_event_loop()\n",
    "with EchoWebSocket() as websocket:\n",
    "    loop.run_until_complete(websocket.connect())\n",
    "    tasks = (\n",
    "    send(websocket),\n",
    "    websocket.read()\n",
    "    )\n",
    "    loop.run_until_complete(asyncio.wait(tasks))\n",
    "    loop.close()"
   ]
  },
  {
   "cell_type": "markdown",
   "metadata": {},
   "source": [
    "### Section 146.3: Using Autobahn as a Websocket Factory"
   ]
  },
  {
   "cell_type": "markdown",
   "metadata": {},
   "source": [
    "The Autobahn package can be used for Python web socket server factories.\n",
    "\n",
    "[Python Autobahn package documentation](http://autobahn.ws/python/)\n",
    "\n",
    "To install, typically one would simply use the terminal command\n",
    "\n",
    "(For Linux):\n",
    "sudo pip install autobahn"
   ]
  },
  {
   "cell_type": "raw",
   "metadata": {},
   "source": [
    "Then, a simple echo server can be created in a Python script:"
   ]
  },
  {
   "cell_type": "code",
   "execution_count": null,
   "metadata": {},
   "outputs": [],
   "source": [
    "from autobahn.asyncio.websocket import WebSocketServerProtocol\n",
    "class MyServerProtocol(WebSocketServerProtocol):\n",
    "    '''When creating server protocol, the\n",
    "    user defined class inheriting the\n",
    "    WebSocketServerProtocol needs to override\n",
    "    the onMessage, onConnect, et-c events for\n",
    "    user specified functionality, these events\n",
    "    define your server's protocol, in essence'''\n",
    "    def onMessage(self,payload,isBinary):\n",
    "        '''The onMessage routine is called\n",
    "        when the server receives a message.\n",
    "        It has the required arguments payload\n",
    "        and the bool isBinary. The payload is the\n",
    "        actual contents of the \"message\" and isBinary\n",
    "        is simply a flag to let the user know that\n",
    "        Python® Notes for Professionals 619\n",
    "        the payload contains binary data. I typically\n",
    "        elsewise assume that the payload is a string.\n",
    "        In this example, the payload is returned to sender verbatim.'''\n",
    "        self.sendMessage(payload,isBinary)\n",
    "if__name__=='__main__':\n",
    "    try:\n",
    "        importasyncio\n",
    "    except ImportError:\n",
    "        '''Trollius = 0.3 was renamed'''\n",
    "        import trollius as asyncio\n",
    "    from autobahn.asyncio.websocketimportWebSocketServerFactory\n",
    "    factory=WebSocketServerFactory()\n",
    "    '''Initialize the websocket factory, and set the protocol to the\n",
    "    above defined protocol(the class that inherits from\n",
    "    autobahn.asyncio.websocket.WebSocketServerProtocol)'''\n",
    "    factory.protocol=MyServerProtocol\n",
    "    '''This above line can be thought of as \"binding\" the methods\n",
    "    onConnect, onMessage, et-c that were described in the MyServerProtocol class\n",
    "    to the server, setting the servers functionality, ie, protocol'''\n",
    "    loop=asyncio.get_event_loop()\n",
    "    coro=loop.create_server(factory,'127.0.0.1',9000)\n",
    "    server=loop.run_until_complete(coro)\n",
    "    '''Run the server in an infinite loop'''\n",
    "    try:\n",
    "        loop.run_forever()\n",
    "    except KeyboardInterrupt:\n",
    "        pass\n",
    "    finally:\n",
    "        server.close()\n",
    "        loop.close()"
   ]
  },
  {
   "cell_type": "raw",
   "metadata": {},
   "source": [
    "In this example, a server is being created on the localhost (127.0.0.1) on port 9000. This is the listening IP and port.\n",
    "This is important information, as using this, you could identify your computer's LAN address and port forward from\n",
    "your modem, though whatever routers you have to the computer. Then, using google to investigate your WAN IP,\n",
    "you could design your website to send WebSocket messages to your WAN IP, on port 9000 (in this example)."
   ]
  },
  {
   "cell_type": "raw",
   "metadata": {},
   "source": [
    "It is important that you port forward from your modem back, meaning that if you have routers daisy chained to the\n",
    "modem, enter into the modem's configuration settings, port forward from the modem to the connected router, and\n",
    "so forth until the final router your computer is connected to is having the information being received on modem\n",
    "port 9000 (in this example) forwarded to it."
   ]
  }
 ],
 "metadata": {
  "kernelspec": {
   "display_name": "Python [default]",
   "language": "python",
   "name": "python3"
  },
  "language_info": {
   "codemirror_mode": {
    "name": "ipython",
    "version": 3
   },
   "file_extension": ".py",
   "mimetype": "text/x-python",
   "name": "python",
   "nbconvert_exporter": "python",
   "pygments_lexer": "ipython3",
   "version": "3.6.3"
  }
 },
 "nbformat": 4,
 "nbformat_minor": 2
}
