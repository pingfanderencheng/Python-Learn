{
 "cells": [
  {
   "cell_type": "markdown",
   "metadata": {},
   "source": [
    "### Section 148.1: Motivation"
   ]
  },
  {
   "cell_type": "raw",
   "metadata": {},
   "source": [
    "So you've just created your first class in Python, a neat little class that encapsulates a playing card:"
   ]
  },
  {
   "cell_type": "code",
   "execution_count": 1,
   "metadata": {},
   "outputs": [],
   "source": [
    "class Card:\n",
    "    def __init__(self, suit, pips):\n",
    "        self.suit = suit\n",
    "        self.pips = pips"
   ]
  },
  {
   "cell_type": "raw",
   "metadata": {},
   "source": [
    "Elsewhere in your code, you create a few instances of this class:"
   ]
  },
  {
   "cell_type": "code",
   "execution_count": 2,
   "metadata": {},
   "outputs": [],
   "source": [
    "ace_of_spades = Card('Spades', 1)\n",
    "four_of_clubs = Card('Clubs', 4)\n",
    "six_of_hearts = Card('Hearts', 6)"
   ]
  },
  {
   "cell_type": "raw",
   "metadata": {},
   "source": [
    "You've even created a list of cards, in order to represent a \"hand\":"
   ]
  },
  {
   "cell_type": "code",
   "execution_count": 3,
   "metadata": {},
   "outputs": [],
   "source": [
    "my_hand = [ace_of_spades, four_of_clubs, six_of_hearts]"
   ]
  },
  {
   "cell_type": "raw",
   "metadata": {},
   "source": [
    "Now, during debugging, you want to see what your hand looks like, so you do what comes naturally and write:"
   ]
  },
  {
   "cell_type": "code",
   "execution_count": 4,
   "metadata": {},
   "outputs": [
    {
     "name": "stdout",
     "output_type": "stream",
     "text": [
      "[<__main__.Card object at 0x000001F50CA026A0>, <__main__.Card object at 0x000001F50CA02668>, <__main__.Card object at 0x000001F50CA026D8>]\n"
     ]
    }
   ],
   "source": [
    "print(my_hand)"
   ]
  },
  {
   "cell_type": "code",
   "execution_count": 5,
   "metadata": {},
   "outputs": [
    {
     "name": "stdout",
     "output_type": "stream",
     "text": [
      "<__main__.Card object at 0x000001F50CA026A0>\n"
     ]
    }
   ],
   "source": [
    "print(ace_of_spades)"
   ]
  },
  {
   "cell_type": "raw",
   "metadata": {},
   "source": [
    "First, however, it's important to understand what's going on here. When you wrote print(ace_of_spades) you told\n",
    "Python you wanted it to print information about the Card instance your code is calling ace_of_spades . And to be\n",
    "fair, it did."
   ]
  },
  {
   "cell_type": "raw",
   "metadata": {},
   "source": [
    "That output is comprised of two important bits: the type of the object and the object's id . The second part alone\n",
    "(the hexidecimal number) is enough to uniquely identify the object at the time of the print call.[1]"
   ]
  },
  {
   "cell_type": "raw",
   "metadata": {},
   "source": [
    "What really went on was that you asked Python to \"put into words\" the essence of that object and then display it to\n",
    "you. A more explicit version of the same machinery might be:"
   ]
  },
  {
   "cell_type": "code",
   "execution_count": 6,
   "metadata": {},
   "outputs": [
    {
     "name": "stdout",
     "output_type": "stream",
     "text": [
      "<__main__.Card object at 0x000001F50CA026A0>\n"
     ]
    }
   ],
   "source": [
    "string_of_card = str(ace_of_spades)\n",
    "print(string_of_card)"
   ]
  },
  {
   "cell_type": "markdown",
   "metadata": {},
   "source": [
    "**The Problem**"
   ]
  },
  {
   "cell_type": "raw",
   "metadata": {},
   "source": [
    "The issue you're encountering arises due to the fact that, while you told Python everything it needed to know about\n",
    "the Card class for you to create cards, you didn't tell it how you wanted Card instances to be converted to strings.\n",
    "And since it didn't know, when you (implicitly) wrote str(ace_of_spades) , it gave you what you saw, a generic\n",
    "representation of the Card instance."
   ]
  },
  {
   "cell_type": "markdown",
   "metadata": {},
   "source": [
    "**The Solution (Part 1)**"
   ]
  },
  {
   "cell_type": "raw",
   "metadata": {},
   "source": [
    "But we can tell Python how we want instances of our custom classes to be converted to strings. And the way we do\n",
    "this is with the __str__ \"dunder\" (for double-underscore) or \"magic\" method.\n",
    "Whenever you tell Python to create a string from a class instance, it will look for a __str__ method on the class, and\n",
    "call it."
   ]
  },
  {
   "cell_type": "code",
   "execution_count": 12,
   "metadata": {},
   "outputs": [],
   "source": [
    "class Card:\n",
    "    def __init__(self, suit, pips):\n",
    "        self.suit = suit\n",
    "        self.pips = pips\n",
    "    def __str__(self):\n",
    "        special_names = {1:'Ace', 11:'Jack', 12:'Queen', 13:'King'}\n",
    "        card_name = special_names.get(self.pips, str(self.pips))\n",
    "        return \"%s of %s\" % (card_name, self.suit)"
   ]
  },
  {
   "cell_type": "raw",
   "metadata": {},
   "source": [
    "Here, we've now defined the __str__ method on our Card class which, after a simple dictionary lookup for face\n",
    "cards, returns a string formatted however we decide."
   ]
  },
  {
   "cell_type": "raw",
   "metadata": {},
   "source": [
    "(Note that \"returns\" is in bold here, to stress the importance of returning a string, and not simply printing it.\n",
    "Printing it may seem to work, but then you'd have the card printed when you did something like\n",
    "str(ace_of_spades) , without even having a print function call in your main program. So to be clear, make sure that\n",
    "__str__ returns a string.)."
   ]
  },
  {
   "cell_type": "raw",
   "metadata": {},
   "source": [
    "The __str__ method is a method, so the first argument will be self and it should neither accept, nor be passed\n",
    "additonal arguments."
   ]
  },
  {
   "cell_type": "raw",
   "metadata": {},
   "source": [
    "Returning to our problem of displaying the card in a more user-friendly manner, if we again run:"
   ]
  },
  {
   "cell_type": "code",
   "execution_count": 13,
   "metadata": {},
   "outputs": [
    {
     "name": "stdout",
     "output_type": "stream",
     "text": [
      "Ace of Spades\n"
     ]
    }
   ],
   "source": [
    "ace_of_spades = Card('Spades', 1)\n",
    "print(ace_of_spades)"
   ]
  },
  {
   "cell_type": "raw",
   "metadata": {},
   "source": [
    "And, to our surprise, we get those funny hex codes again:"
   ]
  },
  {
   "cell_type": "code",
   "execution_count": 16,
   "metadata": {},
   "outputs": [],
   "source": [
    "ace_of_spades = Card('Spades', 1)\n",
    "four_of_clubs = Card('Clubs', 4)\n",
    "six_of_hearts = Card('Hearts', 6)"
   ]
  },
  {
   "cell_type": "code",
   "execution_count": 17,
   "metadata": {},
   "outputs": [
    {
     "name": "stdout",
     "output_type": "stream",
     "text": [
      "[<__main__.Card object at 0x000001F50CA0F438>, <__main__.Card object at 0x000001F50CA0F4A8>, <__main__.Card object at 0x000001F50CA0F5F8>]\n"
     ]
    }
   ],
   "source": [
    "my_hand = [ace_of_spades, four_of_clubs, six_of_hearts]\n",
    "print(my_hand)"
   ]
  },
  {
   "cell_type": "raw",
   "metadata": {},
   "source": [
    "What's going on? We told Python how we wanted our Card instances to be displayed, why did it apparently seem to\n",
    "forget?"
   ]
  },
  {
   "cell_type": "markdown",
   "metadata": {},
   "source": [
    "**The Solution (Part 2)**"
   ]
  },
  {
   "cell_type": "raw",
   "metadata": {},
   "source": [
    "Well, the behind-the-scenes machinery is a bit different when Python wants to get the string representation of\n",
    "items in a list. It turns out, Python doesn't care about __str__ for this purpose."
   ]
  },
  {
   "cell_type": "raw",
   "metadata": {},
   "source": [
    "Instead, it looks for a different method, __repr__ , and if that's not found, it falls back on the \"hexidecimal thing\".[2]\n",
    "So you're saying I have to make two methods to do the same thing? One for when I want to print my card by itself and\n",
    "another when it's in some sort of container?"
   ]
  },
  {
   "cell_type": "raw",
   "metadata": {},
   "source": [
    "No, but first let's look at what our class would be like if we were to implement both __str__ and __repr__ methods:"
   ]
  },
  {
   "cell_type": "code",
   "execution_count": 18,
   "metadata": {},
   "outputs": [],
   "source": [
    "class Card:\n",
    "    special_names = {1:'Ace', 11:'Jack', 12:'Queen', 13:'King'}\n",
    "    def __init__(self, suit, pips):\n",
    "        self.suit = suit\n",
    "        self.pips = pips\n",
    "    def __str__(self):\n",
    "        card_name = Card.special_names.get(self.pips, str(self.pips))\n",
    "        return \"%s of %s (S)\" % (card_name, self.suit)\n",
    "    def __repr__(self):\n",
    "        card_name = Card.special_names.get(self.pips, str(self.pips))\n",
    "        return \"%s of %s (R)\" % (card_name, self.suit)"
   ]
  },
  {
   "cell_type": "raw",
   "metadata": {},
   "source": [
    "Here, the implementation of the two methods __str__ and __repr__ are exactly the same, except that, to\n",
    "differentiate between the two methods, (S) is added to strings returned by __str__ and (R) is added to strings\n",
    "returned by __repr__ "
   ]
  },
  {
   "cell_type": "raw",
   "metadata": {},
   "source": [
    "Note that just like our __str__ method, __repr__ accepts no arguments and returns a string."
   ]
  },
  {
   "cell_type": "code",
   "execution_count": 19,
   "metadata": {},
   "outputs": [
    {
     "name": "stdout",
     "output_type": "stream",
     "text": [
      "[Ace of Spades (R), 4 of Clubs (R), 6 of Hearts (R)]\n",
      "Ace of Spades (S)\n"
     ]
    }
   ],
   "source": [
    "ace_of_spades = Card('Spades', 1)\n",
    "four_of_clubs = Card('Clubs', 4)\n",
    "six_of_hearts = Card('Hearts', 6)\n",
    "my_hand = [ace_of_spades, four_of_clubs, six_of_hearts]\n",
    "print(my_hand) # [Ace of Spades (R), 4 of Clubs (R), 6 of Hearts (R)]\n",
    "print(ace_of_spades) "
   ]
  },
  {
   "cell_type": "raw",
   "metadata": {},
   "source": [
    "As was covered, the __str__ method was called when we passed our Card instance to print and the __repr__\n",
    "method was called when we passed a list of our instances to print ."
   ]
  },
  {
   "cell_type": "raw",
   "metadata": {},
   "source": [
    "At this point it's worth pointing out that just as we can explicitly create a string from a custom class instance using\n",
    "str() as we did earlier, we can also explicitly create a string representation of our class with a built-in function\n",
    "called repr() "
   ]
  },
  {
   "cell_type": "code",
   "execution_count": 20,
   "metadata": {},
   "outputs": [
    {
     "name": "stdout",
     "output_type": "stream",
     "text": [
      "4 of Clubs (S)\n",
      "4 of Clubs (R)\n"
     ]
    }
   ],
   "source": [
    "str_card = str(four_of_clubs)\n",
    "print(str_card) # 4 of Clubs (S)\n",
    "repr_card = repr(four_of_clubs)\n",
    "print(repr_card) "
   ]
  },
  {
   "cell_type": "raw",
   "metadata": {},
   "source": [
    "And additionally, if defined, we could call the methods directly (although it seems a bit unclear and unnecessary):"
   ]
  },
  {
   "cell_type": "code",
   "execution_count": 21,
   "metadata": {},
   "outputs": [
    {
     "name": "stdout",
     "output_type": "stream",
     "text": [
      "4 of Clubs (S)\n",
      "4 of Clubs (R)\n"
     ]
    }
   ],
   "source": [
    "print(four_of_clubs.__str__()) # 4 of Clubs (S)\n",
    "print(four_of_clubs.__repr__()) # 4 of Clubs (R)"
   ]
  },
  {
   "cell_type": "markdown",
   "metadata": {},
   "source": [
    "**About those duplicated functions...**"
   ]
  },
  {
   "cell_type": "raw",
   "metadata": {},
   "source": [
    "Python developers realized, in the case you wanted identical strings to be returned from str() and repr() you\n",
    "might have to functionally-duplicate methods -- something nobody likes."
   ]
  },
  {
   "cell_type": "raw",
   "metadata": {},
   "source": [
    "So instead, there is a mechanism in place to eliminate the need for that. One I snuck you past up to this point. It\n",
    "turns out that if a class implements the __repr__ method but not the __str__ method, and you pass an instance of\n",
    "that class to str() (whether implicitly or explicitly), Python will fallback on your __repr__ implementation and use\n",
    "that."
   ]
  },
  {
   "cell_type": "raw",
   "metadata": {},
   "source": [
    "So, to be clear, consider the following version of the Card class:"
   ]
  },
  {
   "cell_type": "code",
   "execution_count": 22,
   "metadata": {},
   "outputs": [],
   "source": [
    "class Card:\n",
    "    special_names = {1:'Ace', 11:'Jack', 12:'Queen', 13:'King'}\n",
    "    def __init__(self, suit, pips):\n",
    "        self.suit = suit\n",
    "        self.pips = pips\n",
    "    def __repr__(self):\n",
    "        card_name = Card.special_names.get(self.pips, str(self.pips))\n",
    "        return \"%s of %s\" % (card_name, self.suit)"
   ]
  },
  {
   "cell_type": "raw",
   "metadata": {},
   "source": [
    "Note this version only implements the __repr__ method. Nonetheless, calls to str() result in the user-friendly\n",
    "version:"
   ]
  },
  {
   "cell_type": "code",
   "execution_count": 23,
   "metadata": {},
   "outputs": [
    {
     "name": "stdout",
     "output_type": "stream",
     "text": [
      "6 of Hearts (S)\n",
      "6 of Hearts (S)\n"
     ]
    }
   ],
   "source": [
    "print(six_of_hearts) # 6 of Hearts (implicit conversion)\n",
    "print(str(six_of_hearts)) # 6 of Hearts (explicit conversion)"
   ]
  },
  {
   "cell_type": "raw",
   "metadata": {},
   "source": [
    "as do calls to repr() :"
   ]
  },
  {
   "cell_type": "code",
   "execution_count": 24,
   "metadata": {},
   "outputs": [
    {
     "name": "stdout",
     "output_type": "stream",
     "text": [
      "[6 of Hearts (R)]\n"
     ]
    }
   ],
   "source": [
    "print([six_of_hearts]) "
   ]
  },
  {
   "cell_type": "code",
   "execution_count": 25,
   "metadata": {},
   "outputs": [
    {
     "name": "stdout",
     "output_type": "stream",
     "text": [
      "6 of Hearts (R)\n"
     ]
    }
   ],
   "source": [
    "print(repr(six_of_hearts)) "
   ]
  },
  {
   "cell_type": "markdown",
   "metadata": {},
   "source": [
    "**Summary**"
   ]
  },
  {
   "cell_type": "raw",
   "metadata": {},
   "source": [
    "In order for you to empower your class instances to \"show themselves\" in user-friendly ways, you'll want to\n",
    "consider implementing at least your class's __repr__ method. If memory serves, during a talk Raymond Hettinger\n",
    "said that ensuring classes implement __repr__ is one of the first things he looks for while doing Python code\n",
    "reviews, and by now it should be clear why. The amount of information you could have added to debugging\n",
    "statements, crash reports, or log files with a simple method is overwhelming when compared to the paltry, and\n",
    "often less-than-helpful (type, id) information that is given by default."
   ]
  },
  {
   "cell_type": "raw",
   "metadata": {},
   "source": [
    "If you want different representations for when, for example, inside a container, you'll want to implement both\n",
    "__repr__ and __str__ methods. (More on how you might use these two methods differently below)."
   ]
  },
  {
   "cell_type": "markdown",
   "metadata": {},
   "source": [
    "### Section 148.2: Both methods implemented, eval-round-trip style __repr__()"
   ]
  },
  {
   "cell_type": "code",
   "execution_count": 27,
   "metadata": {},
   "outputs": [],
   "source": [
    "class Card:\n",
    "    special_names = {1:'Ace', 11:'Jack', 12:'Queen', 13:'King'}\n",
    "    def __init__(self, suit, pips):\n",
    "        self.suit = suit\n",
    "        self.pips = pips\n",
    "    # Called when instance is converted to a string via str()\n",
    "    # Examples:\n",
    "    # print(card1)\n",
    "    # print(str(card1)\n",
    "    def __str__(self):\n",
    "        card_name = Card.special_names.get(self.pips, str(self.pips))\n",
    "        return \"%s of %s\" % (card_name, self.suit)\n",
    "    # Called when instance is converted to a string via repr()\n",
    "    # Examples:\n",
    "    # print([card1, card2, card3])\n",
    "    # print(repr(card1))\n",
    "    def __repr__(self):\n",
    "        return \"Card(%s, %d)\" % (self.suit, self.pips)"
   ]
  }
 ],
 "metadata": {
  "kernelspec": {
   "display_name": "Python [default]",
   "language": "python",
   "name": "python3"
  },
  "language_info": {
   "codemirror_mode": {
    "name": "ipython",
    "version": 3
   },
   "file_extension": ".py",
   "mimetype": "text/x-python",
   "name": "python",
   "nbconvert_exporter": "python",
   "pygments_lexer": "ipython3",
   "version": "3.6.3"
  }
 },
 "nbformat": 4,
 "nbformat_minor": 2
}
