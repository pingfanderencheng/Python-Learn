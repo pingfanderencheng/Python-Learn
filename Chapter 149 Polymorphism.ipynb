{
 "cells": [
  {
   "cell_type": "markdown",
   "metadata": {},
   "source": [
    "### Section 149.1: Duck Typing"
   ]
  },
  {
   "cell_type": "raw",
   "metadata": {},
   "source": [
    "Polymorphism without inheritance in the form of duck typing as available in Python due to its dynamic typing\n",
    "system. This means that as long as the classes contain the same methods the Python interpreter does not\n",
    "distinguish between them, as the only checking of the calls occurs at run-time."
   ]
  },
  {
   "cell_type": "code",
   "execution_count": 1,
   "metadata": {},
   "outputs": [
    {
     "name": "stdout",
     "output_type": "stream",
     "text": [
      "Quaaaaaack!\n",
      "The duck has white and gray feathers.\n",
      "The person imitates a duck.\n",
      "The person takes a feather from the ground and shows it.\n"
     ]
    }
   ],
   "source": [
    "class Duck:\n",
    "    def quack(self):\n",
    "        print(\"Quaaaaaack!\")\n",
    "    def feathers(self):\n",
    "        print(\"The duck has white and gray feathers.\")\n",
    "class Person:\n",
    "    def quack(self):\n",
    "        print(\"The person imitates a duck.\")\n",
    "    def feathers(self):\n",
    "        print(\"The person takes a feather from the ground and shows it.\")\n",
    "    def name(self):\n",
    "        print(\"John Smith\")\n",
    "def in_the_forest(obj):\n",
    "    obj.quack()\n",
    "    obj.feathers()\n",
    "donald = Duck()\n",
    "john = Person()\n",
    "in_the_forest(donald)\n",
    "in_the_forest(john)"
   ]
  },
  {
   "cell_type": "markdown",
   "metadata": {},
   "source": [
    "### Section 149.2: Basic Polymorphism"
   ]
  },
  {
   "cell_type": "raw",
   "metadata": {},
   "source": [
    "Polymorphism is the ability to perform an action on an object regardless of its type. This is generally implemented\n",
    "by creating a base class and having two or more subclasses that all implement methods with the same signature.\n",
    "Any other function or method that manipulates these objects can call the same methods regardless of which type\n",
    "of object it is operating on, without needing to do a type check first. In object-oriented terminology when class X\n",
    "extend class Y , then Y is called super class or base class and X is called subclass or derived class."
   ]
  },
  {
   "cell_type": "code",
   "execution_count": 4,
   "metadata": {},
   "outputs": [],
   "source": [
    "class Shape:\n",
    "    \"\"\"\n",
    "    This is a parent class that is intended to be inherited by other classes\n",
    "    \"\"\"\n",
    "    def calculate_area(self):\n",
    "        \"\"\"\n",
    "        This method is intended to be overridden in subclasses.\n",
    "        If a subclass doesn't implement it but it is called, NotImplemented will be raised.\n",
    "        \"\"\"\n",
    "        raise NotImplementedError\n",
    "class Square(Shape):\n",
    "    \"\"\"\n",
    "    This is a subclass of the Shape class, and represents a square\n",
    "    \"\"\"\n",
    "    side_length = 2 # in this example, the sides are 2 units long\n",
    "    def calculate_area(self):\n",
    "        \"\"\"\n",
    "        This method overrides Shape.calculate_area(). When an object of type\n",
    "        Square has its calculate_area() method called, this is the method that\n",
    "        will be called, rather than the parent class' version.\n",
    "        It performs the calculation necessary for this shape, a square, and\n",
    "        returns the result.\n",
    "        \"\"\"\n",
    "        return self.side_length * 2\n",
    "    \n",
    "class Triangle(Shape):\n",
    "    \"\"\"\n",
    "    This is also a subclass of the Shape class, and it represents a triangle\n",
    "    \"\"\"\n",
    "    base_length = 4\n",
    "    height = 3\n",
    "    def calculate_area(self):\n",
    "        \"\"\"\n",
    "        This method also overrides Shape.calculate_area() and performs the area\n",
    "        calculation for a triangle, returning the result.\n",
    "        \"\"\"\n",
    "        return 0.5 * self.base_length * self.height\n",
    "def get_area(input_obj):\n",
    "    \"\"\"\n",
    "    This function accepts an input object, and will call that object's\n",
    "    calculate_area() method. Note that the object type is not specified. It\n",
    "    could be a Square, Triangle, or Shape object.\n",
    "    \"\"\"\n",
    "    print(input_obj.calculate_area())"
   ]
  },
  {
   "cell_type": "code",
   "execution_count": 7,
   "metadata": {},
   "outputs": [
    {
     "name": "stdout",
     "output_type": "stream",
     "text": [
      "4\n",
      "6.0\n"
     ]
    },
    {
     "ename": "NotImplementedError",
     "evalue": "",
     "output_type": "error",
     "traceback": [
      "\u001b[1;31m---------------------------------------------------------------------------\u001b[0m",
      "\u001b[1;31mNotImplementedError\u001b[0m                       Traceback (most recent call last)",
      "\u001b[1;32m<ipython-input-7-b9433f8b2286>\u001b[0m in \u001b[0;36m<module>\u001b[1;34m()\u001b[0m\n\u001b[0;32m      7\u001b[0m \u001b[0mget_area\u001b[0m\u001b[1;33m(\u001b[0m\u001b[0msquare_obj\u001b[0m\u001b[1;33m)\u001b[0m\u001b[1;33m\u001b[0m\u001b[0m\n\u001b[0;32m      8\u001b[0m \u001b[0mget_area\u001b[0m\u001b[1;33m(\u001b[0m\u001b[0mtriangle_obj\u001b[0m\u001b[1;33m)\u001b[0m\u001b[1;33m\u001b[0m\u001b[0m\n\u001b[1;32m----> 9\u001b[1;33m \u001b[0mget_area\u001b[0m\u001b[1;33m(\u001b[0m\u001b[0mshape_obj\u001b[0m\u001b[1;33m)\u001b[0m\u001b[1;33m\u001b[0m\u001b[0m\n\u001b[0m",
      "\u001b[1;32m<ipython-input-4-30357cc8839c>\u001b[0m in \u001b[0;36mget_area\u001b[1;34m(input_obj)\u001b[0m\n\u001b[0;32m     42\u001b[0m     \u001b[0mcould\u001b[0m \u001b[0mbe\u001b[0m \u001b[0ma\u001b[0m \u001b[0mSquare\u001b[0m\u001b[1;33m,\u001b[0m \u001b[0mTriangle\u001b[0m\u001b[1;33m,\u001b[0m \u001b[1;32mor\u001b[0m \u001b[0mShape\u001b[0m \u001b[0mobject\u001b[0m\u001b[1;33m.\u001b[0m\u001b[1;33m\u001b[0m\u001b[0m\n\u001b[0;32m     43\u001b[0m     \"\"\"\n\u001b[1;32m---> 44\u001b[1;33m     \u001b[0mprint\u001b[0m\u001b[1;33m(\u001b[0m\u001b[0minput_obj\u001b[0m\u001b[1;33m.\u001b[0m\u001b[0mcalculate_area\u001b[0m\u001b[1;33m(\u001b[0m\u001b[1;33m)\u001b[0m\u001b[1;33m)\u001b[0m\u001b[1;33m\u001b[0m\u001b[0m\n\u001b[0m",
      "\u001b[1;32m<ipython-input-4-30357cc8839c>\u001b[0m in \u001b[0;36mcalculate_area\u001b[1;34m(self)\u001b[0m\n\u001b[0;32m      8\u001b[0m         \u001b[0mIf\u001b[0m \u001b[0ma\u001b[0m \u001b[0msubclass\u001b[0m \u001b[0mdoesn\u001b[0m\u001b[0;31m'\u001b[0m\u001b[0mt\u001b[0m \u001b[0mimplement\u001b[0m \u001b[0mit\u001b[0m \u001b[0mbut\u001b[0m \u001b[0mit\u001b[0m \u001b[1;32mis\u001b[0m \u001b[0mcalled\u001b[0m\u001b[1;33m,\u001b[0m \u001b[0mNotImplemented\u001b[0m \u001b[0mwill\u001b[0m \u001b[0mbe\u001b[0m \u001b[0mraised\u001b[0m\u001b[1;33m.\u001b[0m\u001b[1;33m\u001b[0m\u001b[0m\n\u001b[0;32m      9\u001b[0m         \"\"\"\n\u001b[1;32m---> 10\u001b[1;33m         \u001b[1;32mraise\u001b[0m \u001b[0mNotImplementedError\u001b[0m\u001b[1;33m\u001b[0m\u001b[0m\n\u001b[0m\u001b[0;32m     11\u001b[0m \u001b[1;32mclass\u001b[0m \u001b[0mSquare\u001b[0m\u001b[1;33m(\u001b[0m\u001b[0mShape\u001b[0m\u001b[1;33m)\u001b[0m\u001b[1;33m:\u001b[0m\u001b[1;33m\u001b[0m\u001b[0m\n\u001b[0;32m     12\u001b[0m     \"\"\"\n",
      "\u001b[1;31mNotImplementedError\u001b[0m: "
     ]
    }
   ],
   "source": [
    "# Create one object of each class\n",
    "shape_obj = Shape()\n",
    "square_obj = Square()\n",
    "triangle_obj = Triangle()\n",
    "# Now pass each object, one at a time, to the get_area() function and see the\n",
    "# result.\n",
    "get_area(square_obj)\n",
    "get_area(triangle_obj)\n",
    "get_area(shape_obj)"
   ]
  },
  {
   "cell_type": "raw",
   "metadata": {},
   "source": [
    "What happens without polymorphism?"
   ]
  },
  {
   "cell_type": "raw",
   "metadata": {},
   "source": [
    "Without polymorphism, a type check may be required before performing an action on an object to determine the\n",
    "correct method to call. The following counter example performs the same task as the previous code, but without\n",
    "the use of polymorphism, the get_area() function has to do more work."
   ]
  },
  {
   "cell_type": "code",
   "execution_count": 8,
   "metadata": {},
   "outputs": [
    {
     "name": "stdout",
     "output_type": "stream",
     "text": [
      "4\n",
      "6.0\n"
     ]
    }
   ],
   "source": [
    "class Square:\n",
    "    side_length = 2\n",
    "    def calculate_square_area(self):\n",
    "        return self.side_length ** 2\n",
    "class Triangle:\n",
    "    base_length = 4\n",
    "    height = 3\n",
    "    def calculate_triangle_area(self):\n",
    "        return (0.5 * self.base_length) * self.height\n",
    "def get_area(input_obj):\n",
    "    # Notice the type checks that are now necessary here. These type checks\n",
    "    # could get very complicated for a more complex example, resulting in\n",
    "    # duplicate and difficult to maintain code.\n",
    "    if type(input_obj).__name__ == \"Square\":\n",
    "        area = input_obj.calculate_square_area()\n",
    "    elif type(input_obj).__name__ == \"Triangle\":\n",
    "        area = input_obj.calculate_triangle_area()\n",
    "    print(area)\n",
    "# Create one object of each class\n",
    "square_obj = Square()\n",
    "triangle_obj = Triangle()\n",
    "# Now pass each object, one at a time, to the get_area() function and see the\n",
    "# result.\n",
    "get_area(square_obj)\n",
    "get_area(triangle_obj)"
   ]
  },
  {
   "cell_type": "raw",
   "metadata": {},
   "source": [
    "Important Note"
   ]
  },
  {
   "cell_type": "raw",
   "metadata": {},
   "source": [
    "Note that the classes used in the counter example are \"new style\" classes and implicitly inherit from the object class\n",
    "if Python 3 is being used. Polymorphism will work in both Python 2.x and 3.x, but the polymorphism\n",
    "counterexample code will raise an exception if run in a Python 2.x interpreter because type(input_obj).name will\n",
    "return \"instance\" instead of the class name if they do not explicitly inherit from object, resulting in area never being\n",
    "assigned to."
   ]
  },
  {
   "cell_type": "code",
   "execution_count": null,
   "metadata": {},
   "outputs": [],
   "source": []
  }
 ],
 "metadata": {
  "kernelspec": {
   "display_name": "Python [default]",
   "language": "python",
   "name": "python3"
  },
  "language_info": {
   "codemirror_mode": {
    "name": "ipython",
    "version": 3
   },
   "file_extension": ".py",
   "mimetype": "text/x-python",
   "name": "python",
   "nbconvert_exporter": "python",
   "pygments_lexer": "ipython3",
   "version": "3.6.3"
  }
 },
 "nbformat": 4,
 "nbformat_minor": 2
}
