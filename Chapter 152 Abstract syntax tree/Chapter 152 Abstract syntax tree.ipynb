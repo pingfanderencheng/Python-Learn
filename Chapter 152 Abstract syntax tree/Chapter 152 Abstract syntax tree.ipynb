{
 "cells": [
  {
   "cell_type": "markdown",
   "metadata": {},
   "source": [
    "### Section 152.1: Analyze functions in a python script"
   ]
  },
  {
   "cell_type": "raw",
   "metadata": {},
   "source": [
    "This analyzes a python script and, for each defined function, reports the line number where the function began,\n",
    "where the signature ends, where the docstring ends, and where the function definition ends."
   ]
  },
  {
   "cell_type": "code",
   "execution_count": 1,
   "metadata": {},
   "outputs": [
    {
     "ename": "FileNotFoundError",
     "evalue": "[Errno 2] No such file or directory: '-f'",
     "output_type": "error",
     "traceback": [
      "\u001b[1;31m---------------------------------------------------------------------------\u001b[0m",
      "\u001b[1;31mFileNotFoundError\u001b[0m                         Traceback (most recent call last)",
      "\u001b[1;32m<ipython-input-1-5964080c5698>\u001b[0m in \u001b[0;36m<module>\u001b[1;34m()\u001b[0m\n\u001b[0;32m     45\u001b[0m     \u001b[1;32mif\u001b[0m \u001b[0mlen\u001b[0m\u001b[1;33m(\u001b[0m\u001b[0msys\u001b[0m\u001b[1;33m.\u001b[0m\u001b[0margv\u001b[0m\u001b[1;33m)\u001b[0m\u001b[1;33m>\u001b[0m\u001b[1;36m1\u001b[0m\u001b[1;33m:\u001b[0m\u001b[1;33m\u001b[0m\u001b[0m\n\u001b[0;32m     46\u001b[0m         \u001b[1;32mfor\u001b[0m \u001b[0mfile\u001b[0m \u001b[1;32min\u001b[0m \u001b[0msys\u001b[0m\u001b[1;33m.\u001b[0m\u001b[0margv\u001b[0m\u001b[1;33m[\u001b[0m\u001b[1;36m1\u001b[0m\u001b[1;33m:\u001b[0m\u001b[1;33m]\u001b[0m\u001b[1;33m:\u001b[0m\u001b[1;33m\u001b[0m\u001b[0m\n\u001b[1;32m---> 47\u001b[1;33m             \u001b[0manalyze\u001b[0m\u001b[1;33m(\u001b[0m\u001b[0mfile\u001b[0m\u001b[1;33m,\u001b[0m\u001b[0mprocess\u001b[0m\u001b[1;33m)\u001b[0m\u001b[1;33m\u001b[0m\u001b[0m\n\u001b[0m\u001b[0;32m     48\u001b[0m     \u001b[1;32melse\u001b[0m\u001b[1;33m:\u001b[0m\u001b[1;33m\u001b[0m\u001b[0m\n\u001b[0;32m     49\u001b[0m         \u001b[0manalyze\u001b[0m\u001b[1;33m(\u001b[0m\u001b[0msys\u001b[0m\u001b[1;33m.\u001b[0m\u001b[0margv\u001b[0m\u001b[1;33m[\u001b[0m\u001b[1;36m0\u001b[0m\u001b[1;33m]\u001b[0m\u001b[1;33m,\u001b[0m\u001b[0mprocess\u001b[0m\u001b[1;33m)\u001b[0m\u001b[1;33m\u001b[0m\u001b[0m\n",
      "\u001b[1;32m<ipython-input-1-5964080c5698>\u001b[0m in \u001b[0;36manalyze\u001b[1;34m(file, process)\u001b[0m\n\u001b[0;32m     40\u001b[0m \u001b[1;32mdef\u001b[0m \u001b[0manalyze\u001b[0m\u001b[1;33m(\u001b[0m\u001b[0mfile\u001b[0m\u001b[1;33m,\u001b[0m\u001b[0mprocess\u001b[0m\u001b[1;33m)\u001b[0m\u001b[1;33m:\u001b[0m\u001b[1;33m\u001b[0m\u001b[0m\n\u001b[0;32m     41\u001b[0m     \u001b[1;34m\"\"\" Read the file and process the function data. \"\"\"\u001b[0m\u001b[1;33m\u001b[0m\u001b[0m\n\u001b[1;32m---> 42\u001b[1;33m     \u001b[0mreadin\u001b[0m\u001b[1;33m(\u001b[0m\u001b[0mfile\u001b[0m\u001b[1;33m)\u001b[0m\u001b[1;33m\u001b[0m\u001b[0m\n\u001b[0m\u001b[0;32m     43\u001b[0m     \u001b[0mprocess\u001b[0m\u001b[1;33m(\u001b[0m\u001b[0mfunctions\u001b[0m\u001b[1;33m)\u001b[0m\u001b[1;33m\u001b[0m\u001b[0m\n\u001b[0;32m     44\u001b[0m \u001b[1;32mif\u001b[0m \u001b[0m__name__\u001b[0m \u001b[1;33m==\u001b[0m \u001b[1;34m'__main__'\u001b[0m\u001b[1;33m:\u001b[0m\u001b[1;33m\u001b[0m\u001b[0m\n",
      "\u001b[1;32m<ipython-input-1-5964080c5698>\u001b[0m in \u001b[0;36mreadin\u001b[1;34m(pythonfilename)\u001b[0m\n\u001b[0;32m     35\u001b[0m \u001b[1;32mdef\u001b[0m \u001b[0mreadin\u001b[0m\u001b[1;33m(\u001b[0m\u001b[0mpythonfilename\u001b[0m\u001b[1;33m)\u001b[0m\u001b[1;33m:\u001b[0m\u001b[1;33m\u001b[0m\u001b[0m\n\u001b[0;32m     36\u001b[0m     \u001b[1;34m\"\"\" Read the file name and store the function data into functions. \"\"\"\u001b[0m\u001b[1;33m\u001b[0m\u001b[0m\n\u001b[1;32m---> 37\u001b[1;33m     \u001b[1;32mwith\u001b[0m \u001b[0mopen\u001b[0m\u001b[1;33m(\u001b[0m\u001b[0mpythonfilename\u001b[0m\u001b[1;33m)\u001b[0m \u001b[1;32mas\u001b[0m \u001b[0mf\u001b[0m\u001b[1;33m:\u001b[0m\u001b[1;33m\u001b[0m\u001b[0m\n\u001b[0m\u001b[0;32m     38\u001b[0m         \u001b[0mcode\u001b[0m \u001b[1;33m=\u001b[0m \u001b[0mf\u001b[0m\u001b[1;33m.\u001b[0m\u001b[0mread\u001b[0m\u001b[1;33m(\u001b[0m\u001b[1;33m)\u001b[0m\u001b[1;33m\u001b[0m\u001b[0m\n\u001b[0;32m     39\u001b[0m     \u001b[0mFuncLister\u001b[0m\u001b[1;33m(\u001b[0m\u001b[1;33m)\u001b[0m\u001b[1;33m.\u001b[0m\u001b[0mvisit\u001b[0m\u001b[1;33m(\u001b[0m\u001b[0mast\u001b[0m\u001b[1;33m.\u001b[0m\u001b[0mparse\u001b[0m\u001b[1;33m(\u001b[0m\u001b[0mcode\u001b[0m\u001b[1;33m)\u001b[0m\u001b[1;33m)\u001b[0m\u001b[1;33m\u001b[0m\u001b[0m\n",
      "\u001b[1;31mFileNotFoundError\u001b[0m: [Errno 2] No such file or directory: '-f'"
     ]
    }
   ],
   "source": [
    "import ast\n",
    "import sys\n",
    "\"\"\" The data we collect. Each key is a function name; each value is a dict\n",
    "with keys: firstline, sigend, docend, and lastline and values of line numbers\n",
    "where that happens. \"\"\"\n",
    "functions = {}\n",
    "def process(functions):\n",
    "    \"\"\" Handle the function data stored in functions. \"\"\"\n",
    "    for funcname,data in functions.items():\n",
    "        print(\"function:\",funcname)\n",
    "        print(\"\\tstarts at line:\",data['firstline'])\n",
    "        print(\"\\tsignature ends at line:\",data['sigend'])\n",
    "    if ( data['sigend'] < data['docend'] ):\n",
    "        print(\"\\tdocstring ends at line:\",data['docend'])\n",
    "    else:\n",
    "        print(\"\\tno docstring\")\n",
    "        print(\"\\tfunction ends at line:\",data['lastline'])\n",
    "        print()\n",
    "class FuncLister(ast.NodeVisitor):\n",
    "    def visit_FunctionDef(self, node):\n",
    "        \"\"\" Recursively visit all functions, determining where each function\n",
    "        starts, where its signature ends, where the docstring ends, and where\n",
    "        the function ends. \"\"\"\n",
    "        functions[node.name] = {'firstline':node.lineno}\n",
    "        sigend = max(node.lineno,lastline(node.args))\n",
    "        functions[node.name]['sigend'] = sigend\n",
    "        docstring = ast.get_docstring(node)\n",
    "        docstringlength = len(docstring.split('\\n')) if docstring else -1\n",
    "        functions[node.name]['docend'] = sigend+docstringlength\n",
    "        functions[node.name]['lastline'] = lastline(node)\n",
    "        self.generic_visit(node)\n",
    "def lastline(node):\n",
    "    \"\"\" Recursively find the last line of a node \"\"\"\n",
    "    return max( [ node.lineno if hasattr(node,'lineno') else -1 , ]+[lastline(child) for child in ast.iter_child_nodes(node)] )\n",
    "def readin(pythonfilename):\n",
    "    \"\"\" Read the file name and store the function data into functions. \"\"\"\n",
    "    with open(pythonfilename) as f:\n",
    "        code = f.read()\n",
    "    FuncLister().visit(ast.parse(code))\n",
    "def analyze(file,process):\n",
    "    \"\"\" Read the file and process the function data. \"\"\"\n",
    "    readin(file)\n",
    "    process(functions)\n",
    "if __name__ == '__main__':\n",
    "    if len(sys.argv)>1:\n",
    "        for file in sys.argv[1:]:\n",
    "            analyze(file,process)\n",
    "    else:\n",
    "        analyze(sys.argv[0],process)"
   ]
  },
  {
   "cell_type": "code",
   "execution_count": 2,
   "metadata": {},
   "outputs": [
    {
     "name": "stdout",
     "output_type": "stream",
     "text": [
      "E:\\MyFile\\Jupyter\\Python-Learn\\Chapter 152 Abstract syntax tree\n"
     ]
    }
   ],
   "source": [
    "cd \"Chapter 152 Abstract syntax tree\""
   ]
  },
  {
   "cell_type": "code",
   "execution_count": 3,
   "metadata": {},
   "outputs": [
    {
     "name": "stdout",
     "output_type": "stream",
     "text": [
      "Microsoft Windows [版本 10.0.16299.309]\n",
      "(c) 2017 Microsoft Corporation。保留所有权利。\n",
      "\n",
      "E:\\MyFile\\Jupyter\\Python-Learn\\Chapter 152 Abstract syntax tree>python analysis.py analysis.py\n",
      "function: process\n",
      "\tstarts at line: 7\n",
      "\tsignature ends at line: 7\n",
      "function: visit_FunctionDef\n",
      "\tstarts at line: 20\n",
      "\tsignature ends at line: 20\n",
      "function: lastline\n",
      "\tstarts at line: 32\n",
      "\tsignature ends at line: 32\n",
      "function: readin\n",
      "\tstarts at line: 35\n",
      "\tsignature ends at line: 35\n",
      "function: analyze\n",
      "\tstarts at line: 40\n",
      "\tsignature ends at line: 40\n",
      "\tdocstring ends at line: 41\n",
      "\n",
      "E:\\MyFile\\Jupyter\\Python-Learn\\Chapter 152 Abstract syntax tree>"
     ]
    }
   ],
   "source": [
    "%%cmd\n",
    "python analysis.py analysis.py"
   ]
  },
  {
   "cell_type": "code",
   "execution_count": null,
   "metadata": {},
   "outputs": [],
   "source": []
  }
 ],
 "metadata": {
  "kernelspec": {
   "display_name": "Python [default]",
   "language": "python",
   "name": "python3"
  },
  "language_info": {
   "codemirror_mode": {
    "name": "ipython",
    "version": 3
   },
   "file_extension": ".py",
   "mimetype": "text/x-python",
   "name": "python",
   "nbconvert_exporter": "python",
   "pygments_lexer": "ipython3",
   "version": "3.6.3"
  }
 },
 "nbformat": 4,
 "nbformat_minor": 2
}
