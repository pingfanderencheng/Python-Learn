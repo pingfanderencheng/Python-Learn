{
 "cells": [
  {
   "cell_type": "markdown",
   "metadata": {},
   "source": [
    "## curses 不支持windows 无法测试，这是用于命令交互界面的module"
   ]
  },
  {
   "cell_type": "markdown",
   "metadata": {},
   "source": [
    "### Section 156.1: The wrapper() helper function"
   ]
  },
  {
   "cell_type": "raw",
   "metadata": {},
   "source": [
    "While the basic invocation above is easy enough, the curses package provides the wrapper(func, ...) helper\n",
    "function. The example below contains the equivalent of above:"
   ]
  },
  {
   "cell_type": "code",
   "execution_count": null,
   "metadata": {},
   "outputs": [],
   "source": [
    "main(scr, *args):\n",
    "    # -- Perform an action with Screen --\n",
    "    scr.border(0)\n",
    "    scr.addstr(5, 5, 'Hello from Curses!', curses.A_BOLD)\n",
    "    scr.addstr(6, 5, 'Press q to close this screen', curses.A_NORMAL)\n",
    "    while True:\n",
    "        # stay in this loop till the user presses 'q'\n",
    "        ch = scr.getch()\n",
    "        if ch == ord('q'):\n",
    "curses.wrapper(main)"
   ]
  },
  {
   "cell_type": "raw",
   "metadata": {},
   "source": [
    "Here, wrapper will initialize curses, create stdscr , a WindowObject and pass both stdscr, and any further\n",
    "arguments to func . When func returns, wrapper will restore the terminal before the program exits."
   ]
  },
  {
   "cell_type": "markdown",
   "metadata": {},
   "source": [
    "### Section 156.2: Basic Invocation Example"
   ]
  },
  {
   "cell_type": "code",
   "execution_count": null,
   "metadata": {},
   "outputs": [],
   "source": [
    "import curses\n",
    "import traceback\n",
    "try:\n",
    "    # -- Initialize --\n",
    "    stdscr = curses.initscr() # initialize curses screen\n",
    "    curses.noecho() # turn off auto echoing of keypress on to screen\n",
    "    curses.cbreak() # enter break mode where pressing Enter key\n",
    "    # after keystroke is not required for it to register\n",
    "    stdscr.keypad(1) # enable special Key values such as curses.KEY_LEFT etc\n",
    "    # -- Perform an action with Screen --\n",
    "    stdscr.border(0)\n",
    "    stdscr.addstr(5, 5, 'Hello from Curses!', curses.A_BOLD)\n",
    "    stdscr.addstr(6, 5, 'Press q to close this screen', curses.A_NORMAL)\n",
    "    while True:\n",
    "        # stay in this loop till the user presses 'q'\n",
    "        ch = stdscr.getch()\n",
    "        if ch == ord('q'):\n",
    "            break\n",
    "        # -- End of user code --\n",
    "except:\n",
    "    traceback.print_exc() # print trace back log of the error\n",
    "finally:\n",
    "    # --- Cleanup on exit ---\n",
    "    stdscr.keypad(0)\n",
    "    curses.echo()\n",
    "    curses.nocbreak()\n",
    "    curses.endwin()"
   ]
  },
  {
   "cell_type": "code",
   "execution_count": null,
   "metadata": {},
   "outputs": [],
   "source": []
  }
 ],
 "metadata": {
  "kernelspec": {
   "display_name": "Python [default]",
   "language": "python",
   "name": "python3"
  },
  "language_info": {
   "codemirror_mode": {
    "name": "ipython",
    "version": 3
   },
   "file_extension": ".py",
   "mimetype": "text/x-python",
   "name": "python",
   "nbconvert_exporter": "python",
   "pygments_lexer": "ipython3",
   "version": "3.6.3"
  }
 },
 "nbformat": 4,
 "nbformat_minor": 2
}
