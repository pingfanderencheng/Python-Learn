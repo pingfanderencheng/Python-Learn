{
 "cells": [
  {
   "cell_type": "markdown",
   "metadata": {},
   "source": [
    "### Section 158.1: Simple data output program using template"
   ]
  },
  {
   "cell_type": "code",
   "execution_count": 1,
   "metadata": {},
   "outputs": [
    {
     "name": "stdout",
     "output_type": "stream",
     "text": [
      "Simon bought 2 candy for 8 dollar\n"
     ]
    }
   ],
   "source": [
    "from string import Template\n",
    "data = dict(item = \"candy\", price = 8, qty = 2)\n",
    "# define the template\n",
    "t = Template(\"Simon bought $qty $item for $price dollar\")\n",
    "print(t.substitute(data))"
   ]
  },
  {
   "cell_type": "raw",
   "metadata": {},
   "source": [
    "Templates support $-based substitutions instead of %-based substitution. Substitute (mapping, keywords)\n",
    "performs template substitution, returning a new string."
   ]
  },
  {
   "cell_type": "raw",
   "metadata": {},
   "source": [
    "Mapping is any dictionary-like object with keys that match with the template placeholders. In this example, price\n",
    "and qty are placeholders. Keyword arguments can also be used as placeholders. Placeholders from keywords take\n",
    "precedence if both are present."
   ]
  },
  {
   "cell_type": "markdown",
   "metadata": {},
   "source": [
    "### Section 158.2: Changing delimiter"
   ]
  },
  {
   "cell_type": "raw",
   "metadata": {},
   "source": [
    "You can change the \"$\" delimiter to any other. The following example:"
   ]
  },
  {
   "cell_type": "code",
   "execution_count": 2,
   "metadata": {},
   "outputs": [
    {
     "name": "stdout",
     "output_type": "stream",
     "text": [
      "My name is Ricardo and I have the id: 1\n"
     ]
    }
   ],
   "source": [
    "from string import Template\n",
    "class MyOtherTemplate(Template):\n",
    "    delimiter = \"#\"\n",
    "data = dict(id = 1, name = \"Ricardo\")\n",
    "t = MyOtherTemplate(\"My name is #name and I have the id: #id\")\n",
    "print(t.substitute(data))"
   ]
  },
  {
   "cell_type": "markdown",
   "metadata": {},
   "source": [
    "You can read de docs [here](https://docs.python.org/3/library/string.html?highlight=template#string.Template.template)"
   ]
  }
 ],
 "metadata": {
  "kernelspec": {
   "display_name": "Python [default]",
   "language": "python",
   "name": "python3"
  },
  "language_info": {
   "codemirror_mode": {
    "name": "ipython",
    "version": 3
   },
   "file_extension": ".py",
   "mimetype": "text/x-python",
   "name": "python",
   "nbconvert_exporter": "python",
   "pygments_lexer": "ipython3",
   "version": "3.6.3"
  }
 },
 "nbformat": 4,
 "nbformat_minor": 2
}
