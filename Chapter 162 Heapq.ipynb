{
 "cells": [
  {
   "cell_type": "markdown",
   "metadata": {},
   "source": [
    "### Section 162.1: Largest and smallest items in a collection"
   ]
  },
  {
   "cell_type": "raw",
   "metadata": {},
   "source": [
    "To find the largest items in a collection, heapq module has a function called nlargest , we pass it two arguments, the\n",
    "first one is the number of items that we want to retrieve, the second one is the collection name:"
   ]
  },
  {
   "cell_type": "code",
   "execution_count": 1,
   "metadata": {},
   "outputs": [
    {
     "name": "stdout",
     "output_type": "stream",
     "text": [
      "[200, 150, 100, 50]\n"
     ]
    }
   ],
   "source": [
    "import heapq\n",
    "numbers = [1, 4, 2, 100, 20, 50, 32, 200, 150, 8]\n",
    "print(heapq.nlargest(4, numbers))"
   ]
  },
  {
   "cell_type": "raw",
   "metadata": {},
   "source": [
    "Similarly, to find the smallest items in a collection, we use nsmallest function:"
   ]
  },
  {
   "cell_type": "code",
   "execution_count": 2,
   "metadata": {},
   "outputs": [
    {
     "name": "stdout",
     "output_type": "stream",
     "text": [
      "[1, 2, 4, 8]\n"
     ]
    }
   ],
   "source": [
    "print(heapq.nsmallest(4, numbers))"
   ]
  },
  {
   "cell_type": "raw",
   "metadata": {},
   "source": [
    "Both nlargest and nsmallest functions take an optional argument (key parameter) for complicated data\n",
    "structures. The following example shows the use of age property to retrieve the oldest and the youngest people\n",
    "from people dictionary:"
   ]
  },
  {
   "cell_type": "code",
   "execution_count": 3,
   "metadata": {},
   "outputs": [],
   "source": [
    "people = [\n",
    "    {'firstname': 'John', 'lastname': 'Doe', 'age': 30},\n",
    "    {'firstname': 'Jane', 'lastname': 'Doe', 'age': 25},\n",
    "    {'firstname': 'Janie', 'lastname': 'Doe', 'age': 10},\n",
    "    {'firstname': 'Jane', 'lastname': 'Roe', 'age': 22},\n",
    "    {'firstname': 'Johnny', 'lastname': 'Doe', 'age': 12},\n",
    "    {'firstname': 'John', 'lastname': 'Roe', 'age': 45}\n",
    "]"
   ]
  },
  {
   "cell_type": "code",
   "execution_count": 4,
   "metadata": {},
   "outputs": [
    {
     "data": {
      "text/plain": [
       "[{'age': 45, 'firstname': 'John', 'lastname': 'Roe'},\n",
       " {'age': 30, 'firstname': 'John', 'lastname': 'Doe'}]"
      ]
     },
     "execution_count": 4,
     "metadata": {},
     "output_type": "execute_result"
    }
   ],
   "source": [
    "oldest = heapq.nlargest(2, people, key=lambda s: s['age'])\n",
    "oldest"
   ]
  },
  {
   "cell_type": "code",
   "execution_count": 5,
   "metadata": {},
   "outputs": [
    {
     "name": "stdout",
     "output_type": "stream",
     "text": [
      "[{'firstname': 'Janie', 'lastname': 'Doe', 'age': 10}, {'firstname': 'Johnny', 'lastname': 'Doe', 'age': 12}]\n"
     ]
    }
   ],
   "source": [
    "youngest = heapq.nsmallest(2, people, key=lambda s: s['age'])\n",
    "print(youngest)"
   ]
  },
  {
   "cell_type": "markdown",
   "metadata": {},
   "source": [
    "### Section 162.2: Smallest item in a collection"
   ]
  },
  {
   "cell_type": "raw",
   "metadata": {},
   "source": [
    "The most interesting property of a heap is that its smallest element is always the first element: heap[0]"
   ]
  },
  {
   "cell_type": "code",
   "execution_count": 6,
   "metadata": {},
   "outputs": [],
   "source": [
    "import heapq\n",
    "numbers = [10, 4, 2, 100, 20, 50, 32, 200, 150, 8]\n",
    "heapq.heapify(numbers)"
   ]
  },
  {
   "cell_type": "code",
   "execution_count": 7,
   "metadata": {},
   "outputs": [
    {
     "data": {
      "text/plain": [
       "[2, 4, 10, 100, 8, 50, 32, 200, 150, 20]"
      ]
     },
     "execution_count": 7,
     "metadata": {},
     "output_type": "execute_result"
    }
   ],
   "source": [
    "numbers"
   ]
  },
  {
   "cell_type": "code",
   "execution_count": 8,
   "metadata": {},
   "outputs": [
    {
     "data": {
      "text/plain": [
       "[4, 8, 10, 100, 20, 50, 32, 200, 150]"
      ]
     },
     "execution_count": 8,
     "metadata": {},
     "output_type": "execute_result"
    }
   ],
   "source": [
    "heapq.heappop(numbers) \n",
    "numbers"
   ]
  },
  {
   "cell_type": "code",
   "execution_count": 9,
   "metadata": {},
   "outputs": [
    {
     "name": "stdout",
     "output_type": "stream",
     "text": [
      "[8, 20, 10, 100, 150, 50, 32, 200]\n"
     ]
    }
   ],
   "source": [
    "heapq.heappop(numbers) # 4\n",
    "print(numbers)"
   ]
  }
 ],
 "metadata": {
  "kernelspec": {
   "display_name": "Python [default]",
   "language": "python",
   "name": "python3"
  },
  "language_info": {
   "codemirror_mode": {
    "name": "ipython",
    "version": 3
   },
   "file_extension": ".py",
   "mimetype": "text/x-python",
   "name": "python",
   "nbconvert_exporter": "python",
   "pygments_lexer": "ipython3",
   "version": "3.6.3"
  }
 },
 "nbformat": 4,
 "nbformat_minor": 2
}
