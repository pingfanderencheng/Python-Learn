{
 "cells": [
  {
   "cell_type": "raw",
   "metadata": {},
   "source": [
    "Released in Tkinter is Python's most popular GUI (Graphical User Interface) library. This topic explains proper usage\n",
    "of this library and its features."
   ]
  },
  {
   "cell_type": "markdown",
   "metadata": {},
   "source": [
    "### Section 163.1: Geometry Managers"
   ]
  },
  {
   "cell_type": "raw",
   "metadata": {},
   "source": [
    "Tkinter has three mechanisms for geometry management: place , pack , and grid .\n",
    "The place manager uses absolute pixel coordinates.\n",
    "The pack manager places widgets into one of 4 sides. New widgets are placed next to existing widgets.\n",
    "The grid manager places widgets into a grid similar to a dynamically resizing spreadsheet."
   ]
  },
  {
   "cell_type": "raw",
   "metadata": {},
   "source": [
    "Place\n",
    "The most common keyword arguments for widget.place are as follows:\n",
    "1. x , the absolute x-coordinate of the widget\n",
    "2. y , the absolute y-coordinate of the widget\n",
    "3. height , the absolute height of the widget\n",
    "4. width , the absolute width of the widget"
   ]
  },
  {
   "cell_type": "raw",
   "metadata": {},
   "source": [
    "A code example using place "
   ]
  },
  {
   "cell_type": "code",
   "execution_count": 3,
   "metadata": {},
   "outputs": [],
   "source": [
    "from tkinter import *\n",
    "class PlaceExample(Frame):\n",
    "    def __init__(self,master):\n",
    "        Frame.__init__(self,master)\n",
    "        self.grid()\n",
    "        top_text=Label(master,text=\"This is on top at the origin\")\n",
    "        #top_text.pack()\n",
    "        top_text.place(x=0,y=0,height=50,width=200)\n",
    "        bottom_right_text=Label(master,text=\"This is at position 200,400\")\n",
    "        #top_text.pack()\n",
    "        bottom_right_text.place(x=200,y=400,height=50,width=200)\n",
    "        # Spawn Window\n",
    "if __name__==\"__main__\":\n",
    "    root=Tk()\n",
    "    place_frame=PlaceExample(root)\n",
    "    place_frame.mainloop()"
   ]
  },
  {
   "cell_type": "markdown",
   "metadata": {},
   "source": [
    "## Never mix pack and grid within the same frame! Doing so will lead to application deadlock!"
   ]
  },
  {
   "cell_type": "markdown",
   "metadata": {},
   "source": [
    "### Section 163.2: A minimal tkinter Application"
   ]
  },
  {
   "cell_type": "raw",
   "metadata": {},
   "source": [
    "tkinter is a GUI toolkit that provides a wrapper around the Tk/Tcl GUI library and is included with Python. The\n",
    "following code creates a new window using tkinter and places some text in the window body."
   ]
  },
  {
   "cell_type": "code",
   "execution_count": 4,
   "metadata": {},
   "outputs": [],
   "source": [
    "import tkinter as tk\n",
    "# GUI window is a subclass of the basic tkinter Frame object\n",
    "class HelloWorldFrame(tk.Frame):\n",
    "    def __init__(self, master):\n",
    "        # Call superclass constructor\n",
    "        tk.Frame.__init__(self, master)\n",
    "        # Place frame into main window\n",
    "        self.grid()\n",
    "        # Create text box with \"Hello World\" text\n",
    "        hello = tk.Label(self, text=\"Hello World! This label can hold strings!\")\n",
    "        # Place text box into frame\n",
    "        hello.grid(row=0, column=0)\n",
    "        # Spawn window\n",
    "if __name__ == \"__main__\":\n",
    "    # Create main window object\n",
    "    root = tk.Tk()\n",
    "    # Set title of window\n",
    "    root.title(\"Hello World!\")\n",
    "    # Instantiate HelloWorldFrame object\n",
    "    hello_frame = HelloWorldFrame(root)\n",
    "    # Start GUI\n",
    "    hello_frame.mainloop()"
   ]
  }
 ],
 "metadata": {
  "kernelspec": {
   "display_name": "Python [default]",
   "language": "python",
   "name": "python3"
  },
  "language_info": {
   "codemirror_mode": {
    "name": "ipython",
    "version": 3
   },
   "file_extension": ".py",
   "mimetype": "text/x-python",
   "name": "python",
   "nbconvert_exporter": "python",
   "pygments_lexer": "ipython3",
   "version": "3.6.3"
  }
 },
 "nbformat": 4,
 "nbformat_minor": 2
}
