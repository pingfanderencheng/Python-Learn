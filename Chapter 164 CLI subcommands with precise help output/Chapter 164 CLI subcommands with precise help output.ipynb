{
 "cells": [
  {
   "cell_type": "raw",
   "metadata": {},
   "source": [
    "Different ways to create subcommands like in hg or svn with the exact command line interface and help output as\n",
    "shown in Remarks section."
   ]
  },
  {
   "cell_type": "raw",
   "metadata": {},
   "source": [
    "Parsing Command Line arguments covers broader topic of arguments parsing."
   ]
  },
  {
   "cell_type": "markdown",
   "metadata": {},
   "source": [
    "### Section 164.1: Native way (no libraries)"
   ]
  },
  {
   "cell_type": "code",
   "execution_count": null,
   "metadata": {},
   "outputs": [],
   "source": [
    "\"\"\"\n",
    "usage: sub <command>\n",
    "commands:\n",
    "status - show status\n",
    "list - print list\n",
    "\"\"\"\n",
    "import sys\n",
    "def check():\n",
    "    print(\"status\")\n",
    "    return 0\n",
    "if sys.argv[1:] == ['status']:\n",
    "    sys.exit(check())\n",
    "elif sys.argv[1:] == ['list']:\n",
    "    print(\"list\")\n",
    "else:\n",
    "    print(__doc__.strip())"
   ]
  },
  {
   "cell_type": "code",
   "execution_count": 1,
   "metadata": {},
   "outputs": [
    {
     "name": "stdout",
     "output_type": "stream",
     "text": [
      "Microsoft Windows [版本 10.0.16299.309]\n",
      "(c) 2017 Microsoft Corporation。保留所有权利。\n",
      "\n",
      "E:\\MyFile\\Jupyter\\Python-Learn\\Chapter 164 CLI subcommands with precise help output>python shell.py\n",
      "usage: sub <command>\n",
      "commands:\n",
      "status - show status\n",
      "list - print list\n",
      "\n",
      "E:\\MyFile\\Jupyter\\Python-Learn\\Chapter 164 CLI subcommands with precise help output>"
     ]
    }
   ],
   "source": [
    "%%cmd\n",
    "python shell.py"
   ]
  },
  {
   "cell_type": "raw",
   "metadata": {},
   "source": [
    "Pros:\n",
    "    no deps\n",
    "    everybody should be able to read that\n",
    "    complete control over help formatting"
   ]
  },
  {
   "cell_type": "markdown",
   "metadata": {},
   "source": [
    "### Section 164.2: argparse (default help formatter)"
   ]
  },
  {
   "cell_type": "code",
   "execution_count": null,
   "metadata": {},
   "outputs": [],
   "source": [
    "import argparse\n",
    "import sys\n",
    "def check():\n",
    "    print(\"status\")\n",
    "    return 0\n",
    "parser = argparse.ArgumentParser(prog=\"sub\", add_help=False)\n",
    "subparser = parser.add_subparsers(dest=\"cmd\")\n",
    "subparser.add_parser('status', help='show status')\n",
    "subparser.add_parser('list', help='print list')\n",
    "# hack to show help when no arguments supplied\n",
    "if len(sys.argv) == 1:\n",
    "    parser.print_help()\n",
    "    sys.exit(0)\n",
    "args = parser.parse_args()\n",
    "if args.cmd == 'list':\n",
    "    print('list')\n",
    "elif args.cmd == 'status':\n",
    "    sys.exit(check())"
   ]
  },
  {
   "cell_type": "code",
   "execution_count": 2,
   "metadata": {},
   "outputs": [
    {
     "name": "stdout",
     "output_type": "stream",
     "text": [
      "Microsoft Windows [版本 10.0.16299.309]\n",
      "(c) 2017 Microsoft Corporation。保留所有权利。\n",
      "\n",
      "E:\\MyFile\\Jupyter\\Python-Learn\\Chapter 164 CLI subcommands with precise help output>python shell2.py\n",
      "usage: sub {status,list} ...\n",
      "\n",
      "positional arguments:\n",
      "  {status,list}\n",
      "    status       show status\n",
      "    list         print list\n",
      "\n",
      "E:\\MyFile\\Jupyter\\Python-Learn\\Chapter 164 CLI subcommands with precise help output>"
     ]
    }
   ],
   "source": [
    "%%cmd\n",
    "python shell2.py"
   ]
  },
  {
   "cell_type": "markdown",
   "metadata": {},
   "source": [
    "### Section 164.3: argparse (custom help formatter)"
   ]
  },
  {
   "cell_type": "code",
   "execution_count": null,
   "metadata": {},
   "outputs": [],
   "source": [
    "import argparse\n",
    "import sys\n",
    "class CustomHelpFormatter(argparse.HelpFormatter):\n",
    "    def _format_action(self, action):\n",
    "        if type(action) == argparse._SubParsersAction:\n",
    "            # inject new class variable for subcommand formatting\n",
    "            subactions = action._get_subactions()\n",
    "            invocations = [self._format_action_invocation(a) for a in subactions]\n",
    "            self._subcommand_max_length = max(len(i) for i in invocations)\n",
    "        if type(action) == argparse._SubParsersAction._ChoicesPseudoAction:\n",
    "            # format subcommand help line\n",
    "            subcommand = self._format_action_invocation(action) # type: str\n",
    "            width = self._subcommand_max_length\n",
    "            help_text = \"\"\n",
    "            if action.help:\n",
    "                help_text = self._expand_help(action)\n",
    "            return \" {:{width}} - {}\\n\".format(subcommand, help_text, width=width)\n",
    "        elif type(action) == argparse._SubParsersAction:\n",
    "            # process subcommand help section\n",
    "            msg = '\\n'\n",
    "            for subaction in action._get_subactions():\n",
    "                msg += self._format_action(subaction)\n",
    "            return msg\n",
    "        else:\n",
    "            return super(CustomHelpFormatter, self)._format_action(action)\n",
    "def check():\n",
    "    print(\"status\")\n",
    "    return 0\n",
    "parser = argparse.ArgumentParser(usage=\"sub <command>\", add_help=False, formatter_class=CustomHelpFormatter)\n",
    "subparser = parser.add_subparsers(dest=\"cmd\")\n",
    "subparser.add_parser('status', help='show status')\n",
    "subparser.add_parser('list', help='print list')\n",
    "# custom help messge\n",
    "parser._positionals.title = \"commands\"\n",
    "# hack to show help when no arguments supplied\n",
    "if len(sys.argv) == 1:\n",
    "    parser.print_help()\n",
    "    sys.exit(0)\n",
    "args = parser.parse_args()\n",
    "if args.cmd == 'list':\n",
    "    print('list')\n",
    "elif args.cmd == 'status':\n",
    "    sys.exit(check())"
   ]
  },
  {
   "cell_type": "code",
   "execution_count": 3,
   "metadata": {},
   "outputs": [
    {
     "name": "stdout",
     "output_type": "stream",
     "text": [
      "Microsoft Windows [版本 10.0.16299.309]\n",
      "(c) 2017 Microsoft Corporation。保留所有权利。\n",
      "\n",
      "E:\\MyFile\\Jupyter\\Python-Learn\\Chapter 164 CLI subcommands with precise help output>python shell3.py\n",
      "usage: sub <command>\n",
      "\n",
      "commands:\n",
      "\n",
      " status - show status\n",
      " list   - print list\n",
      "\n",
      "E:\\MyFile\\Jupyter\\Python-Learn\\Chapter 164 CLI subcommands with precise help output>"
     ]
    }
   ],
   "source": [
    "%%cmd\n",
    "python shell3.py"
   ]
  }
 ],
 "metadata": {
  "kernelspec": {
   "display_name": "Python [default]",
   "language": "python",
   "name": "python3"
  },
  "language_info": {
   "codemirror_mode": {
    "name": "ipython",
    "version": 3
   },
   "file_extension": ".py",
   "mimetype": "text/x-python",
   "name": "python",
   "nbconvert_exporter": "python",
   "pygments_lexer": "ipython3",
   "version": "3.6.3"
  }
 },
 "nbformat": 4,
 "nbformat_minor": 2
}
