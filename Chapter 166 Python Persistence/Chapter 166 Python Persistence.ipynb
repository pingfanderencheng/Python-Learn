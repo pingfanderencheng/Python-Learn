{
 "cells": [
  {
   "cell_type": "markdown",
   "metadata": {},
   "source": [
    "| Parameter | Details |\n",
    "| --- | --- |\n",
    "| obj | pickled representation of obj to the open file object file |\n",
    "| protocol | an integer, tells the pickler to use the given protocol, 0 -ASCII, 1 - old binary format |\n",
    "| file | The file argument must have a write() method wb for dump method and for loading read() method rb |"
   ]
  },
  {
   "cell_type": "markdown",
   "metadata": {},
   "source": [
    "### Section 166.1: Python Persistence"
   ]
  },
  {
   "cell_type": "raw",
   "metadata": {},
   "source": [
    "Objects like numbers, lists, dictionaries,nested structures and class instance objects live in your computer’s memory\n",
    "and are lost as soon as the script ends."
   ]
  },
  {
   "cell_type": "raw",
   "metadata": {},
   "source": [
    "pickle stores data persistently in separate file."
   ]
  },
  {
   "cell_type": "raw",
   "metadata": {},
   "source": [
    "pickled representation of an object is always a bytes object in all cases so one must open files in wb to store data\n",
    "and rb to load data from pickle."
   ]
  },
  {
   "cell_type": "raw",
   "metadata": {},
   "source": [
    "the data may may be off any kind , for example,"
   ]
  },
  {
   "cell_type": "code",
   "execution_count": 2,
   "metadata": {},
   "outputs": [],
   "source": [
    "data={'a':'some_value',\n",
    "    'b':[9,4,7],\n",
    "    'c':['some_str','another_str','spam','ham'],\n",
    "    'd':{'key':'nested_dictionary'},\n",
    "}"
   ]
  },
  {
   "cell_type": "markdown",
   "metadata": {},
   "source": [
    "**Store data**"
   ]
  },
  {
   "cell_type": "code",
   "execution_count": 3,
   "metadata": {},
   "outputs": [],
   "source": [
    "import pickle\n",
    "file=open('filename','wb') #file object in binary write mode\n",
    "pickle.dump(data,file) #dump the data in the file object\n",
    "file.close() #close the file to write into the file"
   ]
  },
  {
   "cell_type": "markdown",
   "metadata": {},
   "source": [
    "**Load data**"
   ]
  },
  {
   "cell_type": "code",
   "execution_count": 4,
   "metadata": {},
   "outputs": [],
   "source": [
    "import pickle\n",
    "file=open('filename','rb') #file object in binary read mode\n",
    "data=pickle.load(file) #load the data back\n",
    "file.close()"
   ]
  },
  {
   "cell_type": "code",
   "execution_count": 5,
   "metadata": {},
   "outputs": [
    {
     "data": {
      "text/plain": [
       "{'a': 'some_value',\n",
       " 'b': [9, 4, 7],\n",
       " 'c': ['some_str', 'another_str', 'spam', 'ham'],\n",
       " 'd': {'key': 'nested_dictionary'}}"
      ]
     },
     "execution_count": 5,
     "metadata": {},
     "output_type": "execute_result"
    }
   ],
   "source": [
    "data"
   ]
  },
  {
   "cell_type": "raw",
   "metadata": {},
   "source": [
    "The following types can be pickled\n",
    "1. None, True, and False 1.\n",
    "2. integers, floating point numbers, complex numbers 2.\n",
    "3. strings, bytes, bytearrays 3.\n",
    "4. tuples, lists, sets, and dictionaries containing only picklable objects 4.\n",
    "5. functions defined at the top level of a module (using def, not lambda) 5.\n",
    "6. built-in functions defined at the top level of a module 6.\n",
    "7. classes that are defined at the top level of a module 7.\n",
    "8. instances of such classes whose dict or the result of calling getstate() "
   ]
  },
  {
   "cell_type": "markdown",
   "metadata": {},
   "source": [
    "### Section 166.2: Function utility for save and load"
   ]
  },
  {
   "cell_type": "code",
   "execution_count": 6,
   "metadata": {},
   "outputs": [],
   "source": [
    "import pickle\n",
    "def save(filename,object):\n",
    "    file=open(filename,'wb')\n",
    "    pickle.dump(object,file)\n",
    "    file.close()\n",
    "def load(filename):\n",
    "    file=open(filename,'rb')\n",
    "    object=pickle.load(file)\n",
    "    file.close()\n",
    "    return object"
   ]
  },
  {
   "cell_type": "code",
   "execution_count": 7,
   "metadata": {},
   "outputs": [],
   "source": [
    "list_object=[1,1,2,3,5,8,'a','e','i','o','u']"
   ]
  },
  {
   "cell_type": "code",
   "execution_count": 8,
   "metadata": {},
   "outputs": [
    {
     "data": {
      "text/plain": [
       "[1, 1, 2, 3, 5, 8, 'a', 'e', 'i', 'o', 'u']"
      ]
     },
     "execution_count": 8,
     "metadata": {},
     "output_type": "execute_result"
    }
   ],
   "source": [
    "list_file = \"listfile\"\n",
    "save(list_file,list_object)\n",
    "new_list=load(list_file)\n",
    "new_list"
   ]
  },
  {
   "cell_type": "code",
   "execution_count": null,
   "metadata": {},
   "outputs": [],
   "source": []
  }
 ],
 "metadata": {
  "kernelspec": {
   "display_name": "Python [default]",
   "language": "python",
   "name": "python3"
  },
  "language_info": {
   "codemirror_mode": {
    "name": "ipython",
    "version": 3
   },
   "file_extension": ".py",
   "mimetype": "text/x-python",
   "name": "python",
   "nbconvert_exporter": "python",
   "pygments_lexer": "ipython3",
   "version": "3.6.3"
  }
 },
 "nbformat": 4,
 "nbformat_minor": 2
}
