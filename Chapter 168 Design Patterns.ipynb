{
 "cells": [
  {
   "cell_type": "raw",
   "metadata": {},
   "source": [
    "A design pattern is a general solution to a commonly occurring problem in software development. This\n",
    "documentation topic is specifically aimed at providing examples of common design patterns in Python."
   ]
  },
  {
   "cell_type": "markdown",
   "metadata": {},
   "source": [
    "### Section 168.1: Introduction to design patterns and Singleton Pattern"
   ]
  },
  {
   "cell_type": "raw",
   "metadata": {},
   "source": [
    "Design Patterns provide solutions to the commonly occurring problems in software design. The design patterns\n",
    "were first introduced by GoF(Gang of Four) where they described the common patterns as problems which occur\n",
    "over and over again and solutions to those problems."
   ]
  },
  {
   "cell_type": "markdown",
   "metadata": {},
   "source": [
    "**Design patterns have four essential elements:**"
   ]
  },
  {
   "cell_type": "markdown",
   "metadata": {},
   "source": [
    "1. The pattern name is a handle we can use to describe a design problem, its solutions, and consequences in a  word or two.\n",
    "2. The problem describes when to apply the pattern. \n",
    "3. The solution describes the elements that make up the design, their relationships, responsibilities, and collaborations.\n",
    "4. The consequences are the results and trade-offs of applying the pattern."
   ]
  },
  {
   "cell_type": "markdown",
   "metadata": {},
   "source": [
    "**Advantages of design patterns:**"
   ]
  },
  {
   "cell_type": "markdown",
   "metadata": {},
   "source": [
    "1. They are reusable across multiple projects. \n",
    "2. The architectural level of problems can be solved \n",
    "3. They are time-tested and well-proven, which is the experience of developers and architects \n",
    "4. They have reliability and dependence "
   ]
  },
  {
   "cell_type": "markdown",
   "metadata": {},
   "source": [
    "**Design patterns can be classified into three categories:**"
   ]
  },
  {
   "cell_type": "markdown",
   "metadata": {},
   "source": [
    "1. Creational Pattern \n",
    "2. Structural Pattern \n",
    "3. Behavioral Pattern "
   ]
  },
  {
   "cell_type": "raw",
   "metadata": {},
   "source": [
    "Creational Pattern - They are concerned with how the object can be created and they isolate the details of object creation."
   ]
  },
  {
   "cell_type": "raw",
   "metadata": {},
   "source": [
    "Structural Pattern - They design the structure of classes and objects so that they can compose to achieve larger results."
   ]
  },
  {
   "cell_type": "raw",
   "metadata": {},
   "source": [
    "Behavioral Pattern - They are concerned with interaction among objects and responsibility of objects."
   ]
  },
  {
   "cell_type": "markdown",
   "metadata": {},
   "source": [
    "**Singleton Pattern:**"
   ]
  },
  {
   "cell_type": "raw",
   "metadata": {},
   "source": [
    "It is a type of creational pattern which provides a mechanism to have only one and one object of a given type\n",
    "and provides a global point of access."
   ]
  },
  {
   "cell_type": "raw",
   "metadata": {},
   "source": [
    "e.g. Singleton can be used in database operations, where we want database object to maintain data consistency."
   ]
  },
  {
   "cell_type": "code",
   "execution_count": 4,
   "metadata": {},
   "outputs": [],
   "source": [
    "class Singleton(object):\n",
    "    def __new__(cls):\n",
    "        # hasattr method checks if the class object an instance property or not.\n",
    "        if not hasattr(cls, 'instance'):\n",
    "            cls.instance = super(Singleton, cls).__new__(cls)\n",
    "        return cls.instance"
   ]
  },
  {
   "cell_type": "code",
   "execution_count": 5,
   "metadata": {},
   "outputs": [
    {
     "name": "stdout",
     "output_type": "stream",
     "text": [
      "Object created <__main__.Singleton object at 0x000002011B609E48>\n",
      "Object2 created <__main__.Singleton object at 0x000002011B609E48>\n"
     ]
    }
   ],
   "source": [
    "s = Singleton()\n",
    "print (\"Object created\", s)\n",
    "s1 = Singleton()\n",
    "print (\"Object2 created\", s1)"
   ]
  },
  {
   "cell_type": "raw",
   "metadata": {},
   "source": [
    "Note that in languages like C++ or Java, this pattern is implemented by making the constructor private and creating\n",
    "a static method that does the object initialization. This way, one object gets created on the first call and class\n",
    "returns the same object thereafter. But in Python, we do not have any way to create private constructors."
   ]
  },
  {
   "cell_type": "markdown",
   "metadata": {},
   "source": [
    "**Factory Pattern**"
   ]
  },
  {
   "cell_type": "raw",
   "metadata": {},
   "source": [
    "Factory pattern is also a Creational pattern . The term factory means that a class is responsible for creating\n",
    "objects of other types. There is a class that acts as a factory which has objects and methods associated with it. The\n",
    "client creates an object by calling the methods with certain parameters and factory creates the object of the desired\n",
    "type and return it to the client."
   ]
  },
  {
   "cell_type": "code",
   "execution_count": 1,
   "metadata": {},
   "outputs": [
    {
     "name": "stdout",
     "output_type": "stream",
     "text": [
      "Playing .mp3 music!\n"
     ]
    }
   ],
   "source": [
    "from abc import ABCMeta, abstractmethod\n",
    "class Music():\n",
    "    __metaclass__ = ABCMeta\n",
    "    @abstractmethod\n",
    "    def do_play(self):\n",
    "        pass\n",
    "class Mp3(Music):\n",
    "    def do_play(self):\n",
    "        print (\"Playing .mp3 music!\")\n",
    "class Ogg(Music):\n",
    "    def do_play(self):\n",
    "        print (\"Playing .ogg music!\")\n",
    "class MusicFactory(object):\n",
    "    def play_sound(self, object_type):\n",
    "        return eval(object_type)().do_play()\n",
    "if __name__ == \"__main__\":\n",
    "    mf = MusicFactory()\n",
    "    music = input(\"Which music you want to play Mp3 or Ogg\")\n",
    "    mf.play_sound(music)"
   ]
  },
  {
   "cell_type": "raw",
   "metadata": {},
   "source": [
    "MusicFactory is the factory class here that creates either an object of type Mp3 or Ogg depending on the choice user\n",
    "provides."
   ]
  },
  {
   "cell_type": "markdown",
   "metadata": {},
   "source": [
    "### Section 168.2: Strategy Pattern"
   ]
  },
  {
   "cell_type": "raw",
   "metadata": {},
   "source": [
    "This design pattern is called Strategy Pattern. It is used to define a family of algorithms, encapsulates each one, and\n",
    "make them interchangeable. Strategy design pattern lets an algorithm vary independently from clients that use it.\n",
    "For example, animals can \"walk\" in many different ways. Walking could be considered a strategy that is\n",
    "implemented by different types of animals:"
   ]
  },
  {
   "cell_type": "code",
   "execution_count": 2,
   "metadata": {},
   "outputs": [],
   "source": [
    "from types import MethodType\n",
    "class Animal(object):\n",
    "    def __init__(self, *args, **kwargs):\n",
    "        self.name = kwargs.pop('name', None) or 'Animal'\n",
    "        if kwargs.get('walk', None):\n",
    "            self.walk = MethodType(kwargs.pop('walk'), self)\n",
    "    def walk(self):\n",
    "        \"\"\"\n",
    "        Cause animal instance to walk\n",
    "        Walking funcionallity is a strategy, and is intended to\n",
    "        be implemented separately by different types of animals.\n",
    "        \"\"\"\n",
    "        message = '{} should implement a walk method'.format(self.__class__.__name__)\n",
    "        raise NotImplementedError(message)\n",
    "    # Here are some different walking algorithms that can be used with Animal\n",
    "def snake_walk(self):\n",
    "    print('I am slithering side to side because I am a {}.'.format(self.name))\n",
    "def four_legged_animal_walk(self):\n",
    "    print('I am using all four of my legs to walk because I am a(n) {}.'.format(self.name))\n",
    "def two_legged_animal_walk(self):\n",
    "    print('I am standing up on my two legs to walk because I am a {}.'.format(self.name))"
   ]
  },
  {
   "cell_type": "code",
   "execution_count": 3,
   "metadata": {},
   "outputs": [],
   "source": [
    "generic_animal = Animal()\n",
    "king_cobra = Animal(name='King Cobra', walk=snake_walk)\n",
    "elephant = Animal(name='Elephant', walk=four_legged_animal_walk)\n",
    "kangaroo = Animal(name='Kangaroo', walk=two_legged_animal_walk)"
   ]
  },
  {
   "cell_type": "code",
   "execution_count": 4,
   "metadata": {},
   "outputs": [
    {
     "name": "stdout",
     "output_type": "stream",
     "text": [
      "I am standing up on my two legs to walk because I am a Kangaroo.\n"
     ]
    }
   ],
   "source": [
    "kangaroo.walk()"
   ]
  },
  {
   "cell_type": "code",
   "execution_count": 5,
   "metadata": {},
   "outputs": [
    {
     "name": "stdout",
     "output_type": "stream",
     "text": [
      "I am using all four of my legs to walk because I am a(n) Elephant.\n"
     ]
    }
   ],
   "source": [
    "elephant.walk()"
   ]
  },
  {
   "cell_type": "code",
   "execution_count": 6,
   "metadata": {},
   "outputs": [
    {
     "ename": "NotImplementedError",
     "evalue": "Animal should implement a walk method",
     "output_type": "error",
     "traceback": [
      "\u001b[1;31m---------------------------------------------------------------------------\u001b[0m",
      "\u001b[1;31mNotImplementedError\u001b[0m                       Traceback (most recent call last)",
      "\u001b[1;32m<ipython-input-6-d02061297778>\u001b[0m in \u001b[0;36m<module>\u001b[1;34m()\u001b[0m\n\u001b[1;32m----> 1\u001b[1;33m \u001b[0mgeneric_animal\u001b[0m\u001b[1;33m.\u001b[0m\u001b[0mwalk\u001b[0m\u001b[1;33m(\u001b[0m\u001b[1;33m)\u001b[0m\u001b[1;33m\u001b[0m\u001b[0m\n\u001b[0m",
      "\u001b[1;32m<ipython-input-2-51111dc15666>\u001b[0m in \u001b[0;36mwalk\u001b[1;34m(self)\u001b[0m\n\u001b[0;32m     12\u001b[0m         \"\"\"\n\u001b[0;32m     13\u001b[0m         \u001b[0mmessage\u001b[0m \u001b[1;33m=\u001b[0m \u001b[1;34m'{} should implement a walk method'\u001b[0m\u001b[1;33m.\u001b[0m\u001b[0mformat\u001b[0m\u001b[1;33m(\u001b[0m\u001b[0mself\u001b[0m\u001b[1;33m.\u001b[0m\u001b[0m__class__\u001b[0m\u001b[1;33m.\u001b[0m\u001b[0m__name__\u001b[0m\u001b[1;33m)\u001b[0m\u001b[1;33m\u001b[0m\u001b[0m\n\u001b[1;32m---> 14\u001b[1;33m         \u001b[1;32mraise\u001b[0m \u001b[0mNotImplementedError\u001b[0m\u001b[1;33m(\u001b[0m\u001b[0mmessage\u001b[0m\u001b[1;33m)\u001b[0m\u001b[1;33m\u001b[0m\u001b[0m\n\u001b[0m\u001b[0;32m     15\u001b[0m     \u001b[1;31m# Here are some different walking algorithms that can be used with Animal\u001b[0m\u001b[1;33m\u001b[0m\u001b[1;33m\u001b[0m\u001b[0m\n\u001b[0;32m     16\u001b[0m \u001b[1;32mdef\u001b[0m \u001b[0msnake_walk\u001b[0m\u001b[1;33m(\u001b[0m\u001b[0mself\u001b[0m\u001b[1;33m)\u001b[0m\u001b[1;33m:\u001b[0m\u001b[1;33m\u001b[0m\u001b[0m\n",
      "\u001b[1;31mNotImplementedError\u001b[0m: Animal should implement a walk method"
     ]
    }
   ],
   "source": [
    "generic_animal.walk()"
   ]
  },
  {
   "cell_type": "raw",
   "metadata": {},
   "source": [
    "Note that in languages like C++ or Java, this pattern is implemented using an abstract class or an interface to define\n",
    "a a strategy. In Python it makes more sense to just define some functions externally that can be added dynamically\n",
    "to a class using types.MethodType ."
   ]
  },
  {
   "cell_type": "markdown",
   "metadata": {},
   "source": [
    "### Section 168.3: Proxy"
   ]
  },
  {
   "cell_type": "raw",
   "metadata": {},
   "source": [
    "Proxy object is often used to ensure guarded access to another object, which internal business logic we don't want to pollute with safety requirements."
   ]
  },
  {
   "cell_type": "raw",
   "metadata": {},
   "source": [
    "Suppose we'd like to guarantee that only user of specific permissions can access resource."
   ]
  },
  {
   "cell_type": "raw",
   "metadata": {},
   "source": [
    "Proxy definition: (it ensure that only users which actually can see reservations will be able to consumer\n",
    "reservation_service)"
   ]
  },
  {
   "cell_type": "code",
   "execution_count": 7,
   "metadata": {},
   "outputs": [],
   "source": [
    "from datetime import date\n",
    "from operator import attrgetter\n",
    "class Proxy:\n",
    "    def __init__(self, current_user, reservation_service):\n",
    "        self.current_user = current_user\n",
    "        self.reservation_service = reservation_service\n",
    "    def highest_total_price_reservations(self, date_from, date_to, reservations_count):\n",
    "        if self.current_user.can_see_reservations:\n",
    "            return self.reservation_service.highest_total_price_reservations(\n",
    "            date_from,\n",
    "            date_to,\n",
    "            reservations_count\n",
    "            )\n",
    "        else:\n",
    "            return []\n",
    "#Models and ReservationService:\n",
    "class Reservation:\n",
    "    def __init__(self, date, total_price):\n",
    "        self.date = date\n",
    "        self.total_price = total_price\n",
    "class ReservationService:\n",
    "    def highest_total_price_reservations(self, date_from, date_to, reservations_count):\n",
    "        # normally it would be read from database/external service\n",
    "        reservations = [\n",
    "            Reservation(date(2014, 5, 15), 100),\n",
    "            Reservation(date(2017, 5, 15), 10),\n",
    "            Reservation(date(2017, 1, 15), 50)\n",
    "        ]\n",
    "        filtered_reservations = [r for r in reservations if (date_from <= r.date <= date_to)]\n",
    "        sorted_reservations = sorted(filtered_reservations, key=attrgetter('total_price'), reverse=True)\n",
    "        return sorted_reservations[0:reservations_count]\n",
    "class User:\n",
    "    def __init__(self, can_see_reservations, name):\n",
    "        self.can_see_reservations = can_see_reservations\n",
    "        self.name = name\n",
    "#Consumer service:\n",
    "class StatsService:\n",
    "    def __init__(self, reservation_service):\n",
    "        self.reservation_service = reservation_service\n",
    "    def year_top_100_reservations_average_total_price(self, year):\n",
    "        reservations = self.reservation_service.highest_total_price_reservations(\n",
    "        date(year, 1, 1),\n",
    "        date(year, 12, 31),\n",
    "        1\n",
    "        )\n",
    "        if len(reservations) > 0:\n",
    "            total = sum(r.total_price for r in reservations)\n",
    "            return total / len(reservations)\n",
    "        else:\n",
    "            return 0"
   ]
  },
  {
   "cell_type": "code",
   "execution_count": 8,
   "metadata": {},
   "outputs": [
    {
     "name": "stdout",
     "output_type": "stream",
     "text": [
      "John the Admin will see: 50.0\n",
      "Guest will see: 0\n"
     ]
    }
   ],
   "source": [
    "def test(user, year):\n",
    "    reservations_service = Proxy(user, ReservationService())\n",
    "    stats_service = StatsService(reservations_service)\n",
    "    average_price = stats_service.year_top_100_reservations_average_total_price(year)\n",
    "    print(\"{0} will see: {1}\".format(user.name, average_price))\n",
    "test(User(True, \"John the Admin\"), 2017)\n",
    "test(User(False, \"Guest\"), 2017)"
   ]
  },
  {
   "cell_type": "markdown",
   "metadata": {},
   "source": [
    "**BENEFITS**"
   ]
  },
  {
   "cell_type": "raw",
   "metadata": {},
   "source": [
    "we're avoiding any changes in ReservationService when access restrictions are changed.\n",
    "we're not mixing business related data ( date_from , date_to , reservations_count ) with domain unrelated concepts (user permissions) in service.\n",
    "Consumer ( StatsService ) is free from permissions related logic as well"
   ]
  },
  {
   "cell_type": "markdown",
   "metadata": {},
   "source": [
    "**CAVEATS**"
   ]
  },
  {
   "cell_type": "raw",
   "metadata": {},
   "source": [
    "Proxy interface is always exactly the same as the object it hides, so that user that consumes service wrapped\n",
    "by proxy wasn't even aware of proxy presence."
   ]
  }
 ],
 "metadata": {
  "kernelspec": {
   "display_name": "Python [conda env:Anaconda3]",
   "language": "python",
   "name": "conda-env-Anaconda3-py"
  },
  "language_info": {
   "codemirror_mode": {
    "name": "ipython",
    "version": 3
   },
   "file_extension": ".py",
   "mimetype": "text/x-python",
   "name": "python",
   "nbconvert_exporter": "python",
   "pygments_lexer": "ipython3",
   "version": "3.6.3"
  }
 },
 "nbformat": 4,
 "nbformat_minor": 2
}
