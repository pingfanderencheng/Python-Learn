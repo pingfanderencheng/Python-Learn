{
 "cells": [
  {
   "cell_type": "markdown",
   "metadata": {},
   "source": [
    "### Section 170.1: Working with WAV files"
   ]
  },
  {
   "cell_type": "markdown",
   "metadata": {},
   "source": [
    "**winsound**\n",
    "\n",
    "   + Windows environment"
   ]
  },
  {
   "cell_type": "code",
   "execution_count": 1,
   "metadata": {},
   "outputs": [],
   "source": [
    "import winsound\n",
    "file= \"1.wav\"\n",
    "winsound.PlaySound(file,winsound.SND_FILENAME)"
   ]
  },
  {
   "cell_type": "markdown",
   "metadata": {},
   "source": [
    "**wave**\n",
    "\n",
    "+ Support mono/stereo\n",
    "+ Doesn't support compression/decompression"
   ]
  },
  {
   "cell_type": "code",
   "execution_count": 10,
   "metadata": {},
   "outputs": [
    {
     "name": "stdout",
     "output_type": "stream",
     "text": [
      "39292 1 19646 2\n"
     ]
    }
   ],
   "source": [
    "import wave\n",
    "with wave.open(file, \"rb\") as wav_file: # Open WAV file in read-only mode.\n",
    "    # Get basic information.\n",
    "    n_channels = wav_file.getnchannels() # Number of channels. (1=Mono, 2=Stereo).\n",
    "    sample_width = wav_file.getsampwidth() # Sample width in bytes.\n",
    "    framerate = wav_file.getframerate() # Frame rate.\n",
    "    n_frames = wav_file.getnframes() # Number of frames.\n",
    "    comp_type = wav_file.getcomptype() # Compression type (only supports \"NONE\").\n",
    "    comp_name = wav_file.getcompname() # Compression name.\n",
    "    # Read audio data.\n",
    "    frames = wav_file.readframes(n_frames) # Read n_frames new frames.\n",
    "    print(len(frames), sample_width, n_frames, n_channels)\n",
    "    assert len(bytearray(frames)) == sample_width * n_frames * n_channels"
   ]
  },
  {
   "cell_type": "code",
   "execution_count": 6,
   "metadata": {},
   "outputs": [],
   "source": [
    "with wave.open(\"new.wav\", \"wb\") as wav_file: # Open WAV file in write-only mode.\n",
    "    # Write audio data.\n",
    "    params = (n_channels, sample_width, framerate, n_frames, comp_type, comp_name)\n",
    "    wav_file.setparams(params)\n",
    "    wav_file.writeframes(frames)"
   ]
  },
  {
   "cell_type": "code",
   "execution_count": 7,
   "metadata": {},
   "outputs": [],
   "source": [
    "winsound.PlaySound(\"new.wav\",winsound.SND_FILENAME)"
   ]
  },
  {
   "cell_type": "markdown",
   "metadata": {},
   "source": [
    "### Section 170.2: Convert any soundfile with python and ffmpeg"
   ]
  },
  {
   "cell_type": "code",
   "execution_count": null,
   "metadata": {},
   "outputs": [],
   "source": [
    "from subprocess import check_call\n",
    "ok = check_call(['ffmpeg','-i', 'output.wav', 'input.mp3'])\n",
    "if ok:\n",
    "    with open('input.mp3', 'rb') as f:\n",
    "        wav_file = f.read()"
   ]
  },
  {
   "cell_type": "markdown",
   "metadata": {},
   "source": [
    "**需要电脑上安装ffmpeg**"
   ]
  },
  {
   "cell_type": "markdown",
   "metadata": {},
   "source": [
    "**note:** \n",
    "    \n",
    "+ http://superuser.com/questions/507386/why-would-i-choose-libav-over-ffmpeg-or-is-there-even-a-difference\n",
    "+ [What are the differences and similarities between ffmpeg, libav, and avconv?](http://stackoverflow.com/questions/9477115/what-are-the-differences-and-similarities-between-ffmpeg-libav-and-avconv)"
   ]
  },
  {
   "cell_type": "markdown",
   "metadata": {},
   "source": [
    "### Section 170.3: Playing Windows' beeps"
   ]
  },
  {
   "cell_type": "raw",
   "metadata": {},
   "source": [
    "Windows provides an explicit interface through which the winsound module allows you to play raw beeps at a given\n",
    "frequency and duration."
   ]
  },
  {
   "cell_type": "code",
   "execution_count": 16,
   "metadata": {},
   "outputs": [],
   "source": [
    "import winsound\n",
    "freq = 2500 # Set frequency To 2500 Hertz\n",
    "dur = 1000 # Set duration To 1000 ms == 1 second\n",
    "winsound.Beep(freq, dur)"
   ]
  },
  {
   "cell_type": "markdown",
   "metadata": {},
   "source": [
    "### Section 170.4: Audio With Pyglet"
   ]
  },
  {
   "cell_type": "code",
   "execution_count": 24,
   "metadata": {},
   "outputs": [
    {
     "data": {
      "text/plain": [
       "<bound method Player.play of <pyglet.media.player.Player object at 0x000001F36B4D6710>>"
      ]
     },
     "execution_count": 24,
     "metadata": {},
     "output_type": "execute_result"
    }
   ],
   "source": [
    "import pyglet\n",
    "audio = pyglet.media.load(\"1.wav\")\n",
    "audio.play()"
   ]
  },
  {
   "cell_type": "markdown",
   "metadata": {},
   "source": [
    "**这个好像使用subprocess的功能进行播放的。在notebook中播放没有声音**"
   ]
  },
  {
   "cell_type": "markdown",
   "metadata": {},
   "source": [
    "For further information, see [pyglet](https://pyglet.readthedocs.io/en/pyglet-1.2-maintenance/programming_guide/media.html)"
   ]
  }
 ],
 "metadata": {
  "kernelspec": {
   "display_name": "Python [default]",
   "language": "python",
   "name": "python3"
  },
  "language_info": {
   "codemirror_mode": {
    "name": "ipython",
    "version": 3
   },
   "file_extension": ".py",
   "mimetype": "text/x-python",
   "name": "python",
   "nbconvert_exporter": "python",
   "pygments_lexer": "ipython3",
   "version": "3.6.3"
  }
 },
 "nbformat": 4,
 "nbformat_minor": 2
}
