{
 "cells": [
  {
   "cell_type": "markdown",
   "metadata": {},
   "source": [
    "| Parameter | Details |\n",
    "| --- | --- |\n",
    "| iterable | Any python iterable |\n",
    "| key | Function(criteria) on which to group the iterable |\n",
    "\n",
    "In Python, the itertools.groupby() method allows developers to group values of an iterable class based on a\n",
    "specified property into another iterable set of values."
   ]
  },
  {
   "cell_type": "markdown",
   "metadata": {},
   "source": [
    "### Section 173.1: Example 4"
   ]
  },
  {
   "cell_type": "code",
   "execution_count": 2,
   "metadata": {},
   "outputs": [
    {
     "data": {
      "text/plain": [
       "{'animal': [('animal', 'bear'), ('animal', 'duck')],\n",
       " 'plant': [('plant', 'cactus')],\n",
       " 'vehicle': [('vehicle', 'harley'),\n",
       "  ('vehicle', 'speed boat'),\n",
       "  ('vehicle', 'school bus')]}"
      ]
     },
     "execution_count": 2,
     "metadata": {},
     "output_type": "execute_result"
    }
   ],
   "source": [
    "from itertools import groupby\n",
    "things = [(\"animal\", \"bear\"), (\"animal\", \"duck\"), (\"plant\", \"cactus\"), (\"vehicle\", \"harley\"), \\\n",
    "(\"vehicle\", \"speed boat\"), (\"vehicle\", \"school bus\")]\n",
    "dic = {}\n",
    "f = lambda x: x[0]\n",
    "for key, group in groupby(sorted(things, key=f), f):\n",
    "    dic[key] = list(group)\n",
    "dic"
   ]
  },
  {
   "cell_type": "raw",
   "metadata": {},
   "source": [
    "This example below is essentially the same as the one above it. The only difference is that I have changed all the\n",
    "tuples to lists."
   ]
  },
  {
   "cell_type": "code",
   "execution_count": 3,
   "metadata": {},
   "outputs": [
    {
     "data": {
      "text/plain": [
       "{'animal': [['animal', 'bear'], ['animal', 'duck']],\n",
       " 'plant': [['plant', 'cactus']],\n",
       " 'vehicle': [['vehicle', 'harley'],\n",
       "  ['vehicle', 'speed boat'],\n",
       "  ['vehicle', 'school bus']]}"
      ]
     },
     "execution_count": 3,
     "metadata": {},
     "output_type": "execute_result"
    }
   ],
   "source": [
    "things = [[\"animal\", \"bear\"], [\"animal\", \"duck\"], [\"vehicle\", \"harley\"], [\"plant\", \"cactus\"], \\\n",
    "[\"vehicle\", \"speed boat\"], [\"vehicle\", \"school bus\"]]\n",
    "dic = {}\n",
    "f = lambda x: x[0]\n",
    "for key, group in groupby(sorted(things, key=f), f):\n",
    "    dic[key] = list(group)\n",
    "dic"
   ]
  },
  {
   "cell_type": "markdown",
   "metadata": {},
   "source": [
    "### Section 173.2: Example 2"
   ]
  },
  {
   "cell_type": "code",
   "execution_count": 4,
   "metadata": {},
   "outputs": [
    {
     "data": {
      "text/plain": [
       "{'goat': ['goat'],\n",
       " 'dog': ['dog'],\n",
       " 'cow': ['cow'],\n",
       " 1: [1, 1],\n",
       " 2: [2],\n",
       " 3: [3],\n",
       " 11: [11],\n",
       " 10: [10],\n",
       " ('persons', 'man', 'woman'): [('persons', 'man', 'woman')]}"
      ]
     },
     "execution_count": 4,
     "metadata": {},
     "output_type": "execute_result"
    }
   ],
   "source": [
    "c = groupby(['goat', 'dog', 'cow', 1, 1, 2, 3, 11, 10, ('persons', 'man', 'woman')])\n",
    "dic = {}\n",
    "for k, v in c:\n",
    "    dic[k] = list(v)\n",
    "dic"
   ]
  },
  {
   "cell_type": "markdown",
   "metadata": {},
   "source": [
    "**Notice here that the tuple as a whole counts as one key in this list**"
   ]
  },
  {
   "cell_type": "markdown",
   "metadata": {},
   "source": [
    "### Section 173.3: Example 3"
   ]
  },
  {
   "cell_type": "raw",
   "metadata": {},
   "source": [
    "Notice in this example that mulato and camel don't show up in our result. Only the last element with the specified\n",
    "key shows up. The last result for c actually wipes out two previous results. But watch the new version where I have\n",
    "the data sorted first on same key."
   ]
  },
  {
   "cell_type": "code",
   "execution_count": 5,
   "metadata": {},
   "outputs": [
    {
     "data": {
      "text/plain": [
       "{'c': ['camel'],\n",
       " 'd': ['dog', 'donkey'],\n",
       " 'g': ['goat'],\n",
       " 'm': ['mongoose', 'malloo'],\n",
       " 'persons': [('persons', 'man', 'woman')],\n",
       " 'w': ['wombat']}"
      ]
     },
     "execution_count": 5,
     "metadata": {},
     "output_type": "execute_result"
    }
   ],
   "source": [
    "list_things = ['goat', 'dog', 'donkey', 'mulato', 'cow', 'cat', ('persons', 'man', 'woman'), \\\n",
    "'wombat', 'mongoose', 'malloo', 'camel']\n",
    "c = groupby(list_things, key=lambda x: x[0])\n",
    "dic = {}\n",
    "for k, v in c:\n",
    "    dic[k] = list(v)\n",
    "dic"
   ]
  },
  {
   "cell_type": "markdown",
   "metadata": {},
   "source": [
    "**Sorted Version**"
   ]
  },
  {
   "cell_type": "code",
   "execution_count": 6,
   "metadata": {},
   "outputs": [
    {
     "name": "stdout",
     "output_type": "stream",
     "text": [
      "['cow', 'cat', 'camel', 'dog', 'donkey', 'goat', 'mulato', 'mongoose', 'malloo', ('persons', 'man', 'woman'), 'wombat']\n",
      "\n"
     ]
    },
    {
     "data": {
      "text/plain": [
       "{'c': ['cow', 'cat', 'camel'],\n",
       " 'd': ['dog', 'donkey'],\n",
       " 'g': ['goat'],\n",
       " 'm': ['mulato', 'mongoose', 'malloo'],\n",
       " 'persons': [('persons', 'man', 'woman')],\n",
       " 'w': ['wombat']}"
      ]
     },
     "execution_count": 6,
     "metadata": {},
     "output_type": "execute_result"
    }
   ],
   "source": [
    "list_things = ['goat', 'dog', 'donkey', 'mulato', 'cow', 'cat', ('persons', 'man', 'woman'), \\\n",
    "'wombat', 'mongoose', 'malloo', 'camel']\n",
    "sorted_list = sorted(list_things, key = lambda x: x[0])\n",
    "print(sorted_list)\n",
    "print()\n",
    "c = groupby(sorted_list, key=lambda x: x[0])\n",
    "dic = {}\n",
    "for k, v in c:\n",
    "    dic[k] = list(v)\n",
    "dic"
   ]
  }
 ],
 "metadata": {
  "kernelspec": {
   "display_name": "Python [default]",
   "language": "python",
   "name": "python3"
  },
  "language_info": {
   "codemirror_mode": {
    "name": "ipython",
    "version": 3
   },
   "file_extension": ".py",
   "mimetype": "text/x-python",
   "name": "python",
   "nbconvert_exporter": "python",
   "pygments_lexer": "ipython3",
   "version": "3.6.3"
  }
 },
 "nbformat": 4,
 "nbformat_minor": 2
}
