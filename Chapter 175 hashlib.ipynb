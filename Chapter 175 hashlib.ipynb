{
 "cells": [
  {
   "cell_type": "raw",
   "metadata": {},
   "source": [
    "hashlib implements a common interface to many different secure hash and message digest algorithms. Included\n",
    "are the FIPS secure hash algorithms SHA1, SHA224, SHA256, SHA384, and SHA512."
   ]
  },
  {
   "cell_type": "markdown",
   "metadata": {},
   "source": [
    "### Section 175.1: MD5 hash of a string"
   ]
  },
  {
   "cell_type": "raw",
   "metadata": {},
   "source": [
    "This module implements a common interface to many different secure hash and message digest algorithms.\n",
    "Included are the FIPS secure hash algorithms SHA1, SHA224, SHA256, SHA384, and SHA512 (defined in FIPS 180-2)\n",
    "as well as RSA’s MD5 algorithm (defined in Internet RFC 1321)."
   ]
  },
  {
   "cell_type": "raw",
   "metadata": {},
   "source": [
    "There is one constructor method named for each type of hash. All return a hash object with the same simple\n",
    "interface. For example: use sha1() to create a SHA1 hash object."
   ]
  },
  {
   "cell_type": "code",
   "execution_count": null,
   "metadata": {},
   "outputs": [],
   "source": [
    "hash.sha1()"
   ]
  },
  {
   "cell_type": "raw",
   "metadata": {},
   "source": [
    "Constructors for hash algorithms that are always present in this module are md5() , sha1() , sha224() , sha256() ,\n",
    "sha384() , and sha512() ."
   ]
  },
  {
   "cell_type": "raw",
   "metadata": {},
   "source": [
    "You can now feed this object with arbitrary strings using the update() method. At any point you can ask it for the\n",
    "digest of the concatenation of the strings fed to it so far using the digest() or hexdigest() methods."
   ]
  },
  {
   "cell_type": "raw",
   "metadata": {},
   "source": [
    "1. hash.update(arg)\n",
    "\n",
    "   Update the hash object with the string arg. Repeated calls are equivalent to a single call with the concatenation of all the arguments: m.update(a); m.update(b) is equivalent to m.update(a+b)."
   ]
  },
  {
   "cell_type": "raw",
   "metadata": {},
   "source": [
    "2. hash.digest()\n",
    "\n",
    "   Return the digest of the strings passed to the update() method so far. This is a string of digest_size bytes which may contain non-ASCII characters, including null bytes."
   ]
  },
  {
   "cell_type": "raw",
   "metadata": {},
   "source": [
    "3. hash.hexdigest()\n",
    "\n",
    "    Like digest() except the digest is returned as a string of double length, containing only hexadecimal digits. This may be used to exchange the value safely in email or other non-binary environments."
   ]
  },
  {
   "cell_type": "code",
   "execution_count": 3,
   "metadata": {},
   "outputs": [
    {
     "data": {
      "text/plain": [
       "b'\\xbbd\\x9c\\x83\\xdd\\x1e\\xa5\\xc9\\xd9\\xde\\xc9\\xa1\\x8d\\xf0\\xff\\xe9'"
      ]
     },
     "execution_count": 3,
     "metadata": {},
     "output_type": "execute_result"
    }
   ],
   "source": [
    "import hashlib\n",
    "m = hashlib.md5()\n",
    "m.update(\"Nobody inspects\".encode())\n",
    "m.update(\" the spammish repetition\".encode())\n",
    "m.digest()"
   ]
  },
  {
   "cell_type": "code",
   "execution_count": 4,
   "metadata": {},
   "outputs": [
    {
     "data": {
      "text/plain": [
       "'bb649c83dd1ea5c9d9dec9a18df0ffe9'"
      ]
     },
     "execution_count": 4,
     "metadata": {},
     "output_type": "execute_result"
    }
   ],
   "source": [
    "m.hexdigest()"
   ]
  },
  {
   "cell_type": "code",
   "execution_count": 5,
   "metadata": {},
   "outputs": [
    {
     "data": {
      "text/plain": [
       "16"
      ]
     },
     "execution_count": 5,
     "metadata": {},
     "output_type": "execute_result"
    }
   ],
   "source": [
    "m.digest_size"
   ]
  },
  {
   "cell_type": "code",
   "execution_count": 6,
   "metadata": {},
   "outputs": [
    {
     "data": {
      "text/plain": [
       "64"
      ]
     },
     "execution_count": 6,
     "metadata": {},
     "output_type": "execute_result"
    }
   ],
   "source": [
    "m.block_size"
   ]
  },
  {
   "cell_type": "code",
   "execution_count": 8,
   "metadata": {},
   "outputs": [
    {
     "data": {
      "text/plain": [
       "'bb649c83dd1ea5c9d9dec9a18df0ffe9'"
      ]
     },
     "execution_count": 8,
     "metadata": {},
     "output_type": "execute_result"
    }
   ],
   "source": [
    "hashlib.md5(\"Nobody inspects the spammish repetition\".encode('utf-8')).hexdigest()"
   ]
  },
  {
   "cell_type": "markdown",
   "metadata": {},
   "source": [
    "### Section 175.2: algorithm provided by OpenSSL"
   ]
  },
  {
   "cell_type": "raw",
   "metadata": {},
   "source": [
    "A generic new() constructor that takes the string name of the desired algorithm as its first parameter also exists to\n",
    "allow access to the above listed hashes as well as any other algorithms that your OpenSSL library may offer. The\n",
    "named constructors are much faster than new() and should be preferred."
   ]
  },
  {
   "cell_type": "code",
   "execution_count": 9,
   "metadata": {},
   "outputs": [
    {
     "data": {
      "text/plain": [
       "'cc4a5ce1b3df48aec5d22d1f16b894a0b894eccc'"
      ]
     },
     "execution_count": 9,
     "metadata": {},
     "output_type": "execute_result"
    }
   ],
   "source": [
    "h = hashlib.new('ripemd160')\n",
    "h.update(\"Nobody inspects the spammish repetition\".encode())\n",
    "h.hexdigest()"
   ]
  }
 ],
 "metadata": {
  "kernelspec": {
   "display_name": "Python [default]",
   "language": "python",
   "name": "python3"
  },
  "language_info": {
   "codemirror_mode": {
    "name": "ipython",
    "version": 3
   },
   "file_extension": ".py",
   "mimetype": "text/x-python",
   "name": "python",
   "nbconvert_exporter": "python",
   "pygments_lexer": "ipython3",
   "version": "3.6.3"
  }
 },
 "nbformat": 4,
 "nbformat_minor": 2
}
