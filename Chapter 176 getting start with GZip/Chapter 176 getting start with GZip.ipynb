{
 "cells": [
  {
   "cell_type": "raw",
   "metadata": {},
   "source": [
    "This module provides a simple interface to compress and decompress files just like the GNU programs gzip and\n",
    "gunzip would."
   ]
  },
  {
   "cell_type": "raw",
   "metadata": {},
   "source": [
    "The data compression is provided by the zlib module."
   ]
  },
  {
   "cell_type": "raw",
   "metadata": {},
   "source": [
    "The gzip module provides the GzipFile class which is modeled after Python’s File Object. The GzipFile class reads\n",
    "and writes gzip-format files, automatically compressing or decompressing the data so that it looks like an ordinary\n",
    "file object."
   ]
  },
  {
   "cell_type": "markdown",
   "metadata": {},
   "source": [
    "### Section 176.1: Read and write GNU zip files"
   ]
  },
  {
   "cell_type": "code",
   "execution_count": 2,
   "metadata": {},
   "outputs": [
    {
     "name": "stdout",
     "output_type": "stream",
     "text": [
      "outfile.txt.gz contains 68 bytes of compressed data\n"
     ]
    },
    {
     "data": {
      "text/plain": [
       "1"
      ]
     },
     "execution_count": 2,
     "metadata": {},
     "output_type": "execute_result"
    }
   ],
   "source": [
    "import gzip\n",
    "import os\n",
    "outfilename = 'outfile.txt.gz'\n",
    "output = gzip.open(outfilename, 'wb')\n",
    "try:\n",
    "    output.write(b'Contents of the example file go here.\\n')\n",
    "finally:\n",
    "    output.close()\n",
    "print (outfilename, 'contains', os.stat(outfilename).st_size, 'bytes of compressed data')\n",
    "os.system('file -b --mime %s' % outfilename)"
   ]
  }
 ],
 "metadata": {
  "kernelspec": {
   "display_name": "Python [default]",
   "language": "python",
   "name": "python3"
  },
  "language_info": {
   "codemirror_mode": {
    "name": "ipython",
    "version": 3
   },
   "file_extension": ".py",
   "mimetype": "text/x-python",
   "name": "python",
   "nbconvert_exporter": "python",
   "pygments_lexer": "ipython3",
   "version": "3.6.3"
  }
 },
 "nbformat": 4,
 "nbformat_minor": 2
}
