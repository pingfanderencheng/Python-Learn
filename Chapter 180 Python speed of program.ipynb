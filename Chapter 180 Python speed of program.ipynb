{
 "cells": [
  {
   "cell_type": "markdown",
   "metadata": {},
   "source": [
    "### Section 180.1: Deque operations"
   ]
  },
  {
   "cell_type": "raw",
   "metadata": {},
   "source": [
    "A deque is a double-ended queue."
   ]
  },
  {
   "cell_type": "code",
   "execution_count": 1,
   "metadata": {},
   "outputs": [],
   "source": [
    "class Deque:\n",
    "    def __init__(self):\n",
    "        self.items = []\n",
    "    def isEmpty(self):\n",
    "        return self.items == []\n",
    "    def addFront(self, item):\n",
    "        self.items.append(item)\n",
    "    def addRear(self, item):\n",
    "        self.items.insert(0,item)\n",
    "    def removeFront(self):\n",
    "        return self.items.pop()\n",
    "    def removeRear(self):\n",
    "        return self.items.pop(0)\n",
    "    def size(self):\n",
    "        return len(self.items)"
   ]
  },
  {
   "cell_type": "raw",
   "metadata": {},
   "source": [
    "Operations : Average Case (assumes parameters are randomly generated)\n",
    "Append : O(1)\n",
    "    \n",
    "Appendleft : O(1)\n",
    "    \n",
    "Copy : O(n)\n",
    "    \n",
    "Extend : O(k)\n",
    "    \n",
    "Extendleft : O(k)\n",
    "    \n",
    "Pop : O(1)\n",
    "    \n",
    "Popleft : O(1)\n",
    "\n",
    "Remove : O(n)\n",
    "\n",
    "Rotate : O(k)"
   ]
  },
  {
   "cell_type": "markdown",
   "metadata": {},
   "source": [
    "### Section 180.2: Algorithmic Notations.."
   ]
  },
  {
   "cell_type": "raw",
   "metadata": {},
   "source": [
    "There are certain principles that apply to optimization in any computer language, and Python is no exception. Don't\n",
    "optimize as you go: Write your program without regard to possible optimizations, concentrating instead on\n",
    "making sure that the code is clean, correct, and understandable. If it's too big or too slow when you've finished,\n",
    "then you can consider optimizing it."
   ]
  },
  {
   "cell_type": "markdown",
   "metadata": {},
   "source": [
    "**Remember the 80/20 rule:** In many fields you can get 80% of the result with 20% of the effort (also called the\n",
    "90/10 rule - it depends on who you talk to). Whenever you're about to optimize code, use profiling to find out where\n",
    "that 80% of execution time is going, so you know where to concentrate your effort."
   ]
  },
  {
   "cell_type": "markdown",
   "metadata": {},
   "source": [
    "**Always run \"before\" and \"after\" benchmarks:** How else will you know that your optimizations actually made a\n",
    "difference? If your optimized code turns out to be only slightly faster or smaller than the original version, undo your\n",
    "changes and go back to the original, clear code."
   ]
  },
  {
   "cell_type": "raw",
   "metadata": {},
   "source": [
    "Use the right algorithms and data structures: Don't use an O(n2) bubble sort algorithm to sort a thousand elements\n",
    "when there's an O(n log n) quicksort available. Similarly, don't store a thousand items in an array that requires an\n",
    "O(n) search when you could use an O(log n) binary tree, or an O(1) Python hash table."
   ]
  },
  {
   "cell_type": "markdown",
   "metadata": {},
   "source": [
    "For more visit the link below... [Python Speed Up](https://wiki.python.org/moin/PythonSpeed/PerformanceTips)"
   ]
  },
  {
   "cell_type": "markdown",
   "metadata": {},
   "source": [
    "The following 3 asymptotic notations are mostly used to represent time complexity of algorithms.\n",
    "1. ? Notation: The theta notation bounds a functions from above and below, so it defines exact asymptotic 1.\n",
    "behavior. A simple way to get Theta notation of an expression is to drop low order terms and ignore leading\n",
    "constants. For example, consider the following expression. 3n3 + 6n2 + 6000 = ?(n3) Dropping lower order\n",
    "terms is always fine because there will always be a n0 after which ?(n3) has higher values than ?n2)\n",
    "irrespective of the constants involved. For a given function g(n), we denote ?(g(n)) is following set of functions.\n",
    "?(g(n)) = {f(n): there exist positive constants c1, c2 and n0 such that 0 <= c1g(n) <= f(n) <= c2g(n) for all n >= n0}\n",
    "The above definition means, if f(n) is theta of g(n), then the value f(n) is always between c1g(n) and c2g(n) for\n",
    "large values of n (n >= n0). The definition of theta also requires that f(n) must be non-negative for values of n\n",
    "greater than n0.\n",
    "2. Big O Notation: The Big O notation defines an upper bound of an algorithm, it bounds a function only from 2.\n",
    "above. For example, consider the case of Insertion Sort. It takes linear time in best case and quadratic time in\n",
    "worst case. We can safely say that the time complexity of Insertion sort is O(n^2). Note that O(n^2) also\n",
    "covers linear time. If we use ? notation to represent time complexity of Insertion sort, we have to use two\n",
    "statements for best and worst cases:\n",
    "    1. The worst case time complexity of Insertion Sort is ?(n^2). 1.\n",
    "    2. The best case time complexity of Insertion Sort is ?(n). \n",
    "    3. The Big O notation is useful when we only have upper bound on time complexity of an algorithm. Many times we\n",
    "easily find an upper bound by simply looking at the algorithm. O(g(n)) = { f(n): there exist positive constants c and n0\n",
    "such that 0 <= f(n) <= cg(n) for all n >= n0}\n",
    "\n",
    "3. Notation: Just as Big O notation provides an asymptotic upper bound on a function, ? notation provides an 3.\n",
    "asymptotic lower bound. ? Notation< can be useful when we have lower bound on time complexity of an\n",
    "algorithm. As discussed in the previous post, the best case performance of an algorithm is generally not\n",
    "useful, the Omega notation is the least used notation among all three. For a given function g(n), we denote by\n",
    "?(g(n)) the set of functions. ? (g(n)) = {f(n): there exist positive constants c and n0 such that 0 <= cg(n) <= f(n)\n",
    "for all n >= n0}. Let us consider the same Insertion sort example here. The time complexity of Insertion Sort\n",
    "can be written as ?(n), but it is not a very useful information about insertion sort, as we are generally\n",
    "interested in worst case and sometimes in average case."
   ]
  },
  {
   "cell_type": "markdown",
   "metadata": {},
   "source": [
    "### Section 180.3: Notation"
   ]
  },
  {
   "cell_type": "raw",
   "metadata": {},
   "source": [
    "The notation used when describing the speed of your Python program is called Big-O notation. Let's say you have a\n",
    "function:"
   ]
  },
  {
   "cell_type": "code",
   "execution_count": 2,
   "metadata": {},
   "outputs": [],
   "source": [
    "def list_check(to_check, the_list):\n",
    "    for item in the_list:\n",
    "        if to_check == item:\n",
    "            return True\n",
    "    return False"
   ]
  },
  {
   "cell_type": "raw",
   "metadata": {},
   "source": [
    "This is a simple function to check if an item is in a list. To describe the complexity of this function, you will say O(n).\n",
    "This means \"Order of n\" as the O function is known as the Order function."
   ]
  },
  {
   "cell_type": "raw",
   "metadata": {},
   "source": [
    "O(n) - generally n is the number of items in container\n",
    "O(k) - generally k is the value of the parameter or the number of elements in the parameter"
   ]
  },
  {
   "cell_type": "markdown",
   "metadata": {},
   "source": [
    "### Section 180.4: List operations"
   ]
  },
  {
   "cell_type": "raw",
   "metadata": {},
   "source": [
    "Operations : Average Case (assumes parameters are randomly generated)\n",
    "Append : O(1)\n",
    "Copy : O(n)\n",
    "Del slice : O(n)\n",
    "Delete item : O(n)\n",
    "Insert : O(n)\n",
    "Get item : O(1)\n",
    "Set item : O(1)\n",
    "Iteration : O(n)\n",
    "Get slice : O(k)\n",
    "Set slice : O(n + k)\n",
    "Extend : O(k)\n",
    "Sort : O(n log n)\n",
    "Multiply : O(nk)\n",
    "x in s : O(n)\n",
    "min(s), max(s) :O(n)\n",
    "Get length : O(1)"
   ]
  },
  {
   "cell_type": "markdown",
   "metadata": {},
   "source": [
    "### Section 180.5: Set operations"
   ]
  },
  {
   "cell_type": "raw",
   "metadata": {},
   "source": [
    "Operation : Average Case (assumes parameters generated randomly) : Worst case\n",
    "x in s : O(1)\n",
    "Difference s - t : O(len(s))\n",
    "Intersection s&t : O(min(len(s), len(t))) : O(len(s) * len(t)\n",
    "Multiple intersection s1&s2&s3&...&sn : : (n-1) * O(l) where l is max(len(s1),...,len(sn))\n",
    "s.difference_update(t) : O(len(t)) : O(len(t) * len(s))\n",
    "s.symetric_difference_update(t) : O(len(t))\n",
    "Symetric difference s^t : O(len(s)) : O(len(s) * len(t))\n",
    "Union s|t : O(len(s) + len(t))"
   ]
  },
  {
   "cell_type": "code",
   "execution_count": null,
   "metadata": {},
   "outputs": [],
   "source": []
  }
 ],
 "metadata": {
  "kernelspec": {
   "display_name": "Python [default]",
   "language": "python",
   "name": "python3"
  },
  "language_info": {
   "codemirror_mode": {
    "name": "ipython",
    "version": 3
   },
   "file_extension": ".py",
   "mimetype": "text/x-python",
   "name": "python",
   "nbconvert_exporter": "python",
   "pygments_lexer": "ipython3",
   "version": "3.6.3"
  }
 },
 "nbformat": 4,
 "nbformat_minor": 2
}
