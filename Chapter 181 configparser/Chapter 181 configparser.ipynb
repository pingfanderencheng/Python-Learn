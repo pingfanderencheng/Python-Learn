{
 "cells": [
  {
   "cell_type": "raw",
   "metadata": {},
   "source": [
    "This module provides the ConfigParser class which implements a basic configuration language in INI files. You can\n",
    "use this to write Python programs which can be customized by end users easily."
   ]
  },
  {
   "cell_type": "markdown",
   "metadata": {},
   "source": [
    "### Section 181.1: Creating configuration file programatically"
   ]
  },
  {
   "cell_type": "raw",
   "metadata": {},
   "source": [
    "Configuration file contains sections, each section contains keys and values. configparser module can be used to\n",
    "read and write config files. Creating the configuration file:"
   ]
  },
  {
   "cell_type": "code",
   "execution_count": 1,
   "metadata": {},
   "outputs": [],
   "source": [
    "import configparser\n",
    "config = configparser.ConfigParser()\n",
    "config['settings']={'resolution':'320x240',\n",
    "'color':'blue'}\n",
    "with open('example.ini', 'w') as configfile:\n",
    "    config.write(configfile)"
   ]
  },
  {
   "cell_type": "raw",
   "metadata": {},
   "source": [
    "If you want to change particular field ,get the field and assign the value"
   ]
  },
  {
   "cell_type": "code",
   "execution_count": 2,
   "metadata": {},
   "outputs": [],
   "source": [
    "settings=config['settings']\n",
    "settings['color']='red'"
   ]
  },
  {
   "cell_type": "markdown",
   "metadata": {},
   "source": [
    "### Section 181.2: Basic usage"
   ]
  },
  {
   "cell_type": "raw",
   "metadata": {},
   "source": [
    "In config.ini:"
   ]
  },
  {
   "cell_type": "raw",
   "metadata": {},
   "source": [
    "[DEFAULT]\n",
    "debug = True\n",
    "name = Test\n",
    "password = password\n",
    "[FILES]\n",
    "path = /path/to/file"
   ]
  },
  {
   "cell_type": "code",
   "execution_count": 5,
   "metadata": {},
   "outputs": [
    {
     "data": {
      "text/plain": [
       "'True'"
      ]
     },
     "execution_count": 5,
     "metadata": {},
     "output_type": "execute_result"
    }
   ],
   "source": [
    "from configparser import ConfigParser\n",
    "config = ConfigParser()\n",
    "#Load configuration file\n",
    "config.read(\"config.ini\")\n",
    "# Access the key \"debug\" in \"DEFAULT\" section\n",
    "config.get(\"DEFAULT\", \"debug\")"
   ]
  },
  {
   "cell_type": "code",
   "execution_count": 6,
   "metadata": {},
   "outputs": [
    {
     "data": {
      "text/plain": [
       "'/path/to/file'"
      ]
     },
     "execution_count": 6,
     "metadata": {},
     "output_type": "execute_result"
    }
   ],
   "source": [
    "config.get(\"FILES\", \"path\")"
   ]
  },
  {
   "cell_type": "code",
   "execution_count": null,
   "metadata": {},
   "outputs": [],
   "source": []
  }
 ],
 "metadata": {
  "kernelspec": {
   "display_name": "Python [default]",
   "language": "python",
   "name": "python3"
  },
  "language_info": {
   "codemirror_mode": {
    "name": "ipython",
    "version": 3
   },
   "file_extension": ".py",
   "mimetype": "text/x-python",
   "name": "python",
   "nbconvert_exporter": "python",
   "pygments_lexer": "ipython3",
   "version": "3.6.3"
  }
 },
 "nbformat": 4,
 "nbformat_minor": 2
}
