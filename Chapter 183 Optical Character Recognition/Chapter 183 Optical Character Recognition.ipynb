{
 "cells": [
  {
   "cell_type": "raw",
   "metadata": {},
   "source": [
    "Optical Character Recognition is converting images of text into actual text. In these examples find ways of using\n",
    "OCR in python."
   ]
  },
  {
   "cell_type": "markdown",
   "metadata": {},
   "source": [
    "### Section 183.1: PyTesseract"
   ]
  },
  {
   "cell_type": "raw",
   "metadata": {},
   "source": [
    "PyTesseract is an in-development python package for OCR."
   ]
  },
  {
   "cell_type": "code",
   "execution_count": 4,
   "metadata": {},
   "outputs": [
    {
     "name": "stdout",
     "output_type": "stream",
     "text": [
      "This is a lot of 12 point text to test the\n",
      "cor code and see if it works on all types\n",
      "of file format.\n",
      "\n",
      "The quick brown dog jumped over the\n",
      "lazy fox. The quick brown dog jumped\n",
      "over the lazy fox. The quick brown dog\n",
      "jumped over the lazy fox. The quick\n",
      "brown dog jumped over the lazy fox.\n"
     ]
    }
   ],
   "source": [
    "try:\n",
    "    import Image\n",
    "except ImportError:\n",
    "    from PIL import Image\n",
    "import pytesseract\n",
    "# pytesseract.pytesseract.tesseract_cmd = \"C:\\\\Program Files (x86)\\\\Tesseract-OCR\\\\tesseract\"\n",
    "#Basic OCR\n",
    "print(pytesseract.image_to_string(Image.open('test.png')))\n",
    "#In French\n",
    "# print(pytesseract.image_to_string(Image.open('test-european.jpg'), lang='fra'))"
   ]
  },
  {
   "cell_type": "markdown",
   "metadata": {},
   "source": [
    "**没有按照法语的包**"
   ]
  },
  {
   "cell_type": "markdown",
   "metadata": {},
   "source": [
    "PyTesseract is open source and can be found [here.](https://github.com/madmaze/pytesseract)"
   ]
  },
  {
   "cell_type": "markdown",
   "metadata": {},
   "source": [
    "### Section 183.2: PyOCR"
   ]
  },
  {
   "cell_type": "markdown",
   "metadata": {},
   "source": [
    "Another module of some use is PyOCR , source code of which is [here.](https://github.com/jflesch/pyocr)"
   ]
  },
  {
   "cell_type": "raw",
   "metadata": {},
   "source": [
    "Also simple to use and has more features than PyTesseract "
   ]
  },
  {
   "cell_type": "code",
   "execution_count": 5,
   "metadata": {},
   "outputs": [],
   "source": [
    "from PIL import Image\n",
    "import sys\n",
    "import pyocr\n",
    "import pyocr.builders\n",
    "tools = pyocr.get_available_tools()\n",
    "# The tools are returned in the recommended order of usage\n",
    "tool = tools[0]\n",
    "langs = tool.get_available_languages()\n",
    "lang = langs[0]"
   ]
  },
  {
   "cell_type": "code",
   "execution_count": 9,
   "metadata": {},
   "outputs": [],
   "source": [
    "txt = tool.image_to_string(\n",
    "    Image.open('test.png'),\n",
    "    lang=lang,\n",
    "    builder=pyocr.builders.TextBuilder()\n",
    ")\n",
    "\n",
    "word_boxes = tool.image_to_string(\n",
    "    Image.open('test.png'),\n",
    "    lang=\"eng\",\n",
    "    builder=pyocr.builders.WordBoxBuilder()\n",
    ")\n",
    "# list of box objects. For each box object:\n",
    "# box.content is the word in the box\n",
    "# box.position is its position on the page (in pixels)\n",
    "#\n",
    "# Beware that some OCR tools (Tesseract for instance)\n",
    "# may return empty boxes\n",
    "\n",
    "# line_and_word_boxes = tool.image_to_string(\n",
    "#     Image.open('test.png'), lang=\"fra\",\n",
    "#     builder=pyocr.builders.LineBoxBuilder()\n",
    "# )\n",
    "\n",
    "\n",
    "# list of line objects. For each line object:\n",
    "# line.word_boxes is a list of word boxes (the individual words in the line)\n",
    "# line.content is the whole text of the line\n",
    "# line.position is the position of the whole line on the page (in pixels)\n",
    "#\n",
    "# Beware that some OCR tools (Tesseract for instance)\n",
    "# may return empty boxes\n",
    "# Digits - Only Tesseract (not 'libtesseract' yet !)\n",
    "\n",
    "\n",
    "# digits = tool.image_to_string(\n",
    "#     Image.open('test-digits.png'),\n",
    "#     lang=lang,\n",
    "#     builder=pyocr.tesseract.DigitBuilder()\n",
    "# )\n",
    "\n",
    "\n",
    "# digits is a python string"
   ]
  },
  {
   "cell_type": "code",
   "execution_count": 13,
   "metadata": {},
   "outputs": [
    {
     "data": {
      "text/plain": [
       "<pyocr.builders.Box at 0x290c09d70b8>"
      ]
     },
     "execution_count": 13,
     "metadata": {},
     "output_type": "execute_result"
    }
   ],
   "source": [
    "word_boxes.pop()"
   ]
  },
  {
   "cell_type": "code",
   "execution_count": 15,
   "metadata": {},
   "outputs": [
    {
     "name": "stdout",
     "output_type": "stream",
     "text": [
      "This is a lot of 12 point text to test the\n",
      "cor code and see if it works on all types\n",
      "of file format.\n",
      "\n",
      "The quick brown dog jumped over the\n",
      "lazy fox. The quick brown dog jumped\n",
      "over the lazy fox. The quick brown dog\n",
      "jumped over the lazy fox. The quick\n",
      "brown dog jumped over the lazy fox.\n"
     ]
    }
   ],
   "source": [
    "print(txt)"
   ]
  },
  {
   "cell_type": "code",
   "execution_count": null,
   "metadata": {},
   "outputs": [],
   "source": []
  }
 ],
 "metadata": {
  "kernelspec": {
   "display_name": "Python [default]",
   "language": "python",
   "name": "python3"
  },
  "language_info": {
   "codemirror_mode": {
    "name": "ipython",
    "version": 3
   },
   "file_extension": ".py",
   "mimetype": "text/x-python",
   "name": "python",
   "nbconvert_exporter": "python",
   "pygments_lexer": "ipython3",
   "version": "3.6.3"
  }
 },
 "nbformat": 4,
 "nbformat_minor": 2
}
