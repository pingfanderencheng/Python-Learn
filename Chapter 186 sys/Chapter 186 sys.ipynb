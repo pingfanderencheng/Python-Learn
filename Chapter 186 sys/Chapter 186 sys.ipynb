{
 "cells": [
  {
   "cell_type": "raw",
   "metadata": {},
   "source": [
    "The sys module provides access to functions and values concerning the program's runtime environment, such as\n",
    "the command line parameters in sys.argv or the function sys.exit() to end the current process from any point in\n",
    "the program flow."
   ]
  },
  {
   "cell_type": "raw",
   "metadata": {},
   "source": [
    "While cleanly separated into a module, it's actually built-in and as such will always be available under normal\n",
    "circumstances."
   ]
  },
  {
   "cell_type": "markdown",
   "metadata": {},
   "source": [
    "### Section 186.1: Command line arguments"
   ]
  },
  {
   "cell_type": "markdown",
   "metadata": {},
   "source": [
    "```Python\n",
    "import sys\n",
    "if len(sys.argv) != 4: # The script name needs to be accounted for as well.\n",
    "    raise RuntimeError(\"expected 3 command line arguments\")\n",
    "f = open(sys.argv[1], 'rb') # Use first command line argument.\n",
    "start_line = int(sys.argv[2]) # All arguments come as strings, so need to be\n",
    "end_line = int(sys.argv[3]) # converted explicitly if other types are required.\n",
    "```"
   ]
  },
  {
   "cell_type": "code",
   "execution_count": 15,
   "metadata": {},
   "outputs": [
    {
     "name": "stdout",
     "output_type": "stream",
     "text": [
      "Microsoft Windows [版本 10.0.16299.309]\n",
      "(c) 2017 Microsoft Corporation。保留所有权利。\n",
      "\n",
      "E:\\MyFile\\Jupyter\\Python-Learn\\Chapter 186 sys>python example.py example.py 5 10\n",
      "[b'import sys\\n']\n",
      "[b'if len(sys.argv) != 4: # The script name needs to be accounted for as well.\\n']\n",
      "\n",
      "E:\\MyFile\\Jupyter\\Python-Learn\\Chapter 186 sys>"
     ]
    }
   ],
   "source": [
    "%%cmd\n",
    "python example.py example.py 5 10"
   ]
  },
  {
   "cell_type": "markdown",
   "metadata": {},
   "source": [
    "Note that in larger and more polished programs you would use modules such as [click](http://click.pocoo.org/) to handle command line\n",
    "arguments instead of doing it yourself."
   ]
  },
  {
   "cell_type": "markdown",
   "metadata": {},
   "source": [
    "### Section 186.2: Script name"
   ]
  },
  {
   "cell_type": "markdown",
   "metadata": {},
   "source": [
    "```Python\n",
    "# The name of the executed script is at the beginning of the argv list.\n",
    "print('usage:', sys.argv[0], '<filename> <start> <end>')\n",
    "# You can use it to generate the path prefix of the executed program\n",
    "# (as opposed to the current module) to access files relative to that,\n",
    "# which would be good for assets of a game, for instance.\n",
    "program_file = sys.argv[0]\n",
    "import pathlib\n",
    "program_path = pathlib.Path(program_file).resolve().parent\n",
    "```"
   ]
  },
  {
   "cell_type": "code",
   "execution_count": 17,
   "metadata": {},
   "outputs": [
    {
     "name": "stdout",
     "output_type": "stream",
     "text": [
      "Microsoft Windows [版本 10.0.16299.309]\n",
      "(c) 2017 Microsoft Corporation。保留所有权利。\n",
      "\n",
      "E:\\MyFile\\Jupyter\\Python-Learn\\Chapter 186 sys>python example2.py\n",
      "usage: example2.py <filename> <start> <end>\n",
      "E:\\MyFile\\Jupyter\\Python-Learn\\Chapter 186 sys\n",
      "\n",
      "E:\\MyFile\\Jupyter\\Python-Learn\\Chapter 186 sys>"
     ]
    }
   ],
   "source": [
    "%%cmd\n",
    "python example2.py"
   ]
  },
  {
   "cell_type": "markdown",
   "metadata": {},
   "source": [
    "### Section 186.3: Standard error stream"
   ]
  },
  {
   "cell_type": "markdown",
   "metadata": {},
   "source": [
    "```Python\n",
    "# Error messages should not go to standard output, if possible.\n",
    "print('ERROR: We have no cheese at all.', file=sys.stderr)\n",
    "try:\n",
    "    f = open('nonexistent-file.xyz', 'rb')\n",
    "except OSError as e:\n",
    "    print(e, file=sys.stderr)\n",
    "```"
   ]
  },
  {
   "cell_type": "code",
   "execution_count": 18,
   "metadata": {},
   "outputs": [
    {
     "name": "stdout",
     "output_type": "stream",
     "text": [
      "Microsoft Windows [版本 10.0.16299.309]\n",
      "(c) 2017 Microsoft Corporation。保留所有权利。\n",
      "\n",
      "E:\\MyFile\\Jupyter\\Python-Learn\\Chapter 186 sys>python example3.py\n",
      "\n",
      "E:\\MyFile\\Jupyter\\Python-Learn\\Chapter 186 sys>"
     ]
    },
    {
     "name": "stderr",
     "output_type": "stream",
     "text": [
      "ERROR: We have no cheese at all.\n",
      "[Errno 2] No such file or directory: 'nonexistent-file.xyz'\n"
     ]
    }
   ],
   "source": [
    "%%cmd\n",
    "python example3.py"
   ]
  },
  {
   "cell_type": "markdown",
   "metadata": {},
   "source": [
    "### Section 186.4: Ending the process prematurely and returning an exit code"
   ]
  },
  {
   "cell_type": "markdown",
   "metadata": {},
   "source": [
    "```Python\n",
    "def main():\n",
    "    if len(sys.argv) != 4 or '--help' in sys.argv[1:]:\n",
    "        print('usage: my_program <arg1> <arg2> <arg3>', file=sys.stderr)\n",
    "        sys.exit(1) # use an exit code to signal the program was unsuccessful\n",
    "    process_data()\n",
    "```"
   ]
  },
  {
   "cell_type": "code",
   "execution_count": 20,
   "metadata": {},
   "outputs": [
    {
     "name": "stdout",
     "output_type": "stream",
     "text": [
      "Microsoft Windows [版本 10.0.16299.309]\n",
      "(c) 2017 Microsoft Corporation。保留所有权利。\n",
      "\n",
      "E:\\MyFile\\Jupyter\\Python-Learn\\Chapter 186 sys>python example4.py\n",
      "\n",
      "E:\\MyFile\\Jupyter\\Python-Learn\\Chapter 186 sys>"
     ]
    },
    {
     "name": "stderr",
     "output_type": "stream",
     "text": [
      "usage: my_program <arg1> <arg2> <arg3>\n"
     ]
    }
   ],
   "source": [
    "%%cmd\n",
    "python example4.py"
   ]
  },
  {
   "cell_type": "code",
   "execution_count": null,
   "metadata": {},
   "outputs": [],
   "source": []
  }
 ],
 "metadata": {
  "kernelspec": {
   "display_name": "Python [default]",
   "language": "python",
   "name": "python3"
  },
  "language_info": {
   "codemirror_mode": {
    "name": "ipython",
    "version": 3
   },
   "file_extension": ".py",
   "mimetype": "text/x-python",
   "name": "python",
   "nbconvert_exporter": "python",
   "pygments_lexer": "ipython3",
   "version": "3.6.3"
  }
 },
 "nbformat": 4,
 "nbformat_minor": 2
}
