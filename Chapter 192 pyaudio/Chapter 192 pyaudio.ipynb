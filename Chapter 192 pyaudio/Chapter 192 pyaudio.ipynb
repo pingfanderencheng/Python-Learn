{
 "cells": [
  {
   "cell_type": "markdown",
   "metadata": {},
   "source": [
    "PyAudio provides Python bindings for PortAudio, the cross-platform audio I/O library. With PyAudio, you can easily\n",
    "use Python to play and record audio on a variety of platforms. PyAudio is inspired by:\n",
    "\n",
    "1. pyPortAudio/fastaudio: Python bindings for PortAudio v18 API.\n",
    "2. kSnack: cross-platform sound toolkit for Tcl/Tk and Python."
   ]
  },
  {
   "cell_type": "markdown",
   "metadata": {},
   "source": [
    "### Section 192.1: Callback Mode Audio I/O"
   ]
  },
  {
   "cell_type": "markdown",
   "metadata": {},
   "source": [
    "```Python\n",
    "\"\"\"PyAudio Example: Play a wave file (callback version).\"\"\"\n",
    "import pyaudio\n",
    "import wave\n",
    "import time\n",
    "import sys\n",
    "if len(sys.argv) < 2:\n",
    "    print(\"Plays a wave file.\\n\\nUsage: %s filename.wav\" % sys.argv[0])\n",
    "    sys.exit(-1)\n",
    "wf = wave.open(sys.argv[1], 'rb')\n",
    "# instantiate PyAudio (1)\n",
    "p = pyaudio.PyAudio()\n",
    "# define callback (2)\n",
    "def callback(in_data, frame_count, time_info, status):\n",
    "    data = wf.readframes(frame_count)\n",
    "    return (data, pyaudio.paContinue)\n",
    "# open stream using callback (3)\n",
    "stream = p.open(format=p.get_format_from_width(wf.getsampwidth()),\n",
    "    channels=wf.getnchannels(),\n",
    "    rate=wf.getframerate(),\n",
    "    output=True,\n",
    "    stream_callback=callback)\n",
    "# start the stream (4)\n",
    "stream.start_stream()\n",
    "# wait for stream to finish (5)\n",
    "while stream.is_active():\n",
    "    time.sleep(0.1)\n",
    "# stop stream (6)\n",
    "stream.stop_stream()\n",
    "stream.close()\n",
    "wf.close()\n",
    "# close PyAudio (7)\n",
    "p.terminate()\n",
    "```"
   ]
  },
  {
   "cell_type": "code",
   "execution_count": 3,
   "metadata": {},
   "outputs": [
    {
     "name": "stdout",
     "output_type": "stream",
     "text": [
      "Microsoft Windows [版本 10.0.16299.309]\n",
      "(c) 2017 Microsoft Corporation。保留所有权利。\n",
      "\n",
      "E:\\MyFile\\Jupyter\\Python-Learn\\Chapter 192 pyaudio>python audio.py 1.wav\n",
      "\n",
      "E:\\MyFile\\Jupyter\\Python-Learn\\Chapter 192 pyaudio>"
     ]
    }
   ],
   "source": [
    "%%cmd\n",
    "python audio.py 1.wav"
   ]
  },
  {
   "cell_type": "raw",
   "metadata": {},
   "source": [
    "In callback mode, PyAudio will call a specified callback function (2) whenever it needs new audio data (to play) and/or when there is new (recorded) audio data available. Note that PyAudio calls the callback function in a separate thread. The function has the following signature callback(<input_data>, <frame_count>,\n",
    "<time_info>, <status_flag>) and must return a tuple containing frame_count frames of audio data and a flag signifying whether there are more frames to play/record."
   ]
  },
  {
   "cell_type": "markdown",
   "metadata": {},
   "source": [
    "Start processing the audio stream using pyaudio.Stream.start_stream() (4), which will call the callback function repeatedly until that function returns pyaudio.paComplete."
   ]
  },
  {
   "cell_type": "markdown",
   "metadata": {},
   "source": [
    "To keep the stream active, the main thread must not terminate, e.g., by sleeping (5)."
   ]
  },
  {
   "cell_type": "markdown",
   "metadata": {},
   "source": [
    "### Section 192.2: Blocking Mode Audio I/O"
   ]
  },
  {
   "cell_type": "markdown",
   "metadata": {},
   "source": [
    "```Python\n",
    "import pyaudio\n",
    "import wave\n",
    "import sys\n",
    "CHUNK = 1024\n",
    "if len(sys.argv) < 2:\n",
    "    print(\"Plays a wave file.\\n\\nUsage: %s filename.wav\" % sys.argv[0])\n",
    "    sys.exit(-1)\n",
    "wf = wave.open(sys.argv[1], 'rb')\n",
    "# instantiate PyAudio (1)\n",
    "p = pyaudio.PyAudio()\n",
    "# open stream (2)\n",
    "stream = p.open(format=p.get_format_from_width(wf.getsampwidth()),\n",
    "    channels=wf.getnchannels(),\n",
    "    rate=wf.getframerate(),\n",
    "    output=True)\n",
    "# read data\n",
    "data = wf.readframes(CHUNK)\n",
    "# play stream (3)\n",
    "while len(data) > 0:\n",
    "    stream.write(data)\n",
    "    data = wf.readframes(CHUNK)\n",
    "# stop stream (4)\n",
    "stream.stop_stream()\n",
    "stream.close()\n",
    "# close PyAud`io (5)\n",
    "p.terminate()\n",
    "```"
   ]
  },
  {
   "cell_type": "code",
   "execution_count": 4,
   "metadata": {},
   "outputs": [
    {
     "name": "stdout",
     "output_type": "stream",
     "text": [
      "Microsoft Windows [版本 10.0.16299.309]\n",
      "(c) 2017 Microsoft Corporation。保留所有权利。\n",
      "\n",
      "E:\\MyFile\\Jupyter\\Python-Learn\\Chapter 192 pyaudio>python audio2.py 1.wav\n",
      "\n",
      "E:\\MyFile\\Jupyter\\Python-Learn\\Chapter 192 pyaudio>"
     ]
    }
   ],
   "source": [
    "%%cmd\n",
    "python audio2.py 1.wav"
   ]
  },
  {
   "cell_type": "raw",
   "metadata": {},
   "source": [
    "To use PyAudio, first instantiate PyAudio using pyaudio.PyAudio() (1), which sets up the portaudio system."
   ]
  },
  {
   "cell_type": "raw",
   "metadata": {},
   "source": [
    "To record or play audio, open a stream on the desired device with the desired audio parameters using pyaudio.PyAudio.open() (2). This sets up a pyaudio.Stream to play or record audio."
   ]
  },
  {
   "cell_type": "raw",
   "metadata": {},
   "source": [
    "Play audio by writing audio data to the stream using pyaudio.Stream.write(), or read audio data from the stream\n",
    "using pyaudio.Stream.read(). (3)"
   ]
  },
  {
   "cell_type": "raw",
   "metadata": {},
   "source": [
    "Note that in “blocking mode”, each pyaudio.Stream.write() or pyaudio.Stream.read() blocks until all the given/requested frames have been played/recorded. Alternatively, to generate audio data on the fly or immediately process recorded audio data, use the “callback mode”(refer the example on call back mode)"
   ]
  },
  {
   "cell_type": "raw",
   "metadata": {},
   "source": [
    "Use pyaudio.Stream.stop_stream() to pause playing/recording, and pyaudio.Stream.close() to terminate the stream. (4)"
   ]
  },
  {
   "cell_type": "raw",
   "metadata": {},
   "source": [
    "Finally, terminate the portaudio session using pyaudio.PyAudio.terminate() (5)"
   ]
  }
 ],
 "metadata": {
  "kernelspec": {
   "display_name": "Python [default]",
   "language": "python",
   "name": "python3"
  },
  "language_info": {
   "codemirror_mode": {
    "name": "ipython",
    "version": 3
   },
   "file_extension": ".py",
   "mimetype": "text/x-python",
   "name": "python",
   "nbconvert_exporter": "python",
   "pygments_lexer": "ipython3",
   "version": "3.6.3"
  }
 },
 "nbformat": 4,
 "nbformat_minor": 2
}
