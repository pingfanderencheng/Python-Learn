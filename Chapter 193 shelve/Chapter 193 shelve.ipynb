{
 "cells": [
  {
   "cell_type": "markdown",
   "metadata": {},
   "source": [
    "Shelve is a python module used to store objects in a file. The shelve module implements persistent storage for\n",
    "arbitrary Python objects which can be pickled, using a dictionary-like API. The shelve module can be used as a\n",
    "simple persistent storage option for Python objects when a relational database is overkill. The shelf is accessed by\n",
    "keys, just as with a dictionary. The values are pickled and written to a database created and managed by anydbm."
   ]
  },
  {
   "cell_type": "markdown",
   "metadata": {},
   "source": [
    "### Section 193.1: Creating a new Shelf"
   ]
  },
  {
   "cell_type": "raw",
   "metadata": {},
   "source": [
    "The simplest way to use shelve is via the DbfilenameShelf class. It uses anydbm to store the data. You can use the\n",
    "class directly, or simply call shelve.open():"
   ]
  },
  {
   "cell_type": "code",
   "execution_count": 1,
   "metadata": {},
   "outputs": [],
   "source": [
    "import shelve\n",
    "s = shelve.open('test_shelf.db')\n",
    "try:\n",
    "    s['key1'] = { 'int': 10, 'float':9.5, 'string':'Sample data' }\n",
    "finally:\n",
    "    s.close()"
   ]
  },
  {
   "cell_type": "raw",
   "metadata": {},
   "source": [
    "To access the data again, open the shelf and use it like a dictionary:"
   ]
  },
  {
   "cell_type": "code",
   "execution_count": 3,
   "metadata": {},
   "outputs": [
    {
     "data": {
      "text/plain": [
       "{'float': 9.5, 'int': 10, 'string': 'Sample data'}"
      ]
     },
     "execution_count": 3,
     "metadata": {},
     "output_type": "execute_result"
    }
   ],
   "source": [
    "import shelve\n",
    "s = shelve.open('test_shelf.db')\n",
    "try:\n",
    "    existing = s['key1']\n",
    "finally:\n",
    "    s.close()\n",
    "existing"
   ]
  },
  {
   "cell_type": "raw",
   "metadata": {},
   "source": [
    "The dbm module does not support multiple applications writing to the same database at the same time. If you\n",
    "know your client will not be modifying the shelf, you can tell shelve to open the database read-only."
   ]
  },
  {
   "cell_type": "code",
   "execution_count": 4,
   "metadata": {},
   "outputs": [
    {
     "data": {
      "text/plain": [
       "{'float': 9.5, 'int': 10, 'string': 'Sample data'}"
      ]
     },
     "execution_count": 4,
     "metadata": {},
     "output_type": "execute_result"
    }
   ],
   "source": [
    "import shelve\n",
    "s = shelve.open('test_shelf.db', flag='r')\n",
    "try:\n",
    "    existing = s['key1']\n",
    "finally:\n",
    "    s.close()\n",
    "existing"
   ]
  },
  {
   "cell_type": "raw",
   "metadata": {},
   "source": [
    "If your program tries to modify the database while it is opened read-only, an access error exception is generated.\n",
    "The exception type depends on the database module selected by anydbm when the database was created."
   ]
  },
  {
   "cell_type": "markdown",
   "metadata": {},
   "source": [
    "### Section 193.2: Sample code for shelve"
   ]
  },
  {
   "cell_type": "raw",
   "metadata": {},
   "source": [
    "To shelve an object, first import the module and then assign the object value as follows:"
   ]
  },
  {
   "cell_type": "markdown",
   "metadata": {},
   "source": [
    "```Python\n",
    "import shelve\n",
    "database = shelve.open(filename.suffix)\n",
    "object = Object()\n",
    "database['key'] = object\n",
    "```"
   ]
  },
  {
   "cell_type": "markdown",
   "metadata": {},
   "source": [
    "### Section 193.3: To summarize the interface (key is a string, data is an arbitrary object):"
   ]
  },
  {
   "cell_type": "markdown",
   "metadata": {},
   "source": [
    "```Python\n",
    "import shelve\n",
    "d = shelve.open(filename) # open -- file may get suffix added by low-level\n",
    "# library\n",
    "d[key] = data # store data at key (overwrites old data if\n",
    "# using an existing key)\n",
    "data = d[key] # retrieve a COPY of data at key (raise KeyError\n",
    "# if no such key)\n",
    "del d[key] # delete data stored at key (raises KeyError\n",
    "# if no such key)\n",
    "flag = key in d # true if the key exists\n",
    "klist = list(d.keys()) # a list of all existing keys (slow!)\n",
    "# as d was opened WITHOUT writeback=True, beware:\n",
    "d['xx'] = [0, 1, 2] # this works as expected, but...\n",
    "d['xx'].append(3) # *this doesn't!* -- d['xx'] is STILL [0, 1, 2]!\n",
    "# having opened d without writeback=True, you need to code carefully:\n",
    "temp = d['xx'] # extracts the copy\n",
    "temp.append(5) # mutates the copy\n",
    "d['xx'] = temp # stores the copy right back, to persist it\n",
    "# or, d=shelve.open(filename,writeback=True) would let you just code\n",
    "# d['xx'].append(5) and have it work as expected, BUT it would also\n",
    "# consume more memory and make the d.close() operation slower.\n",
    "d.close() # close it\n",
    "```"
   ]
  },
  {
   "cell_type": "markdown",
   "metadata": {},
   "source": [
    "### Section 193.4: Write-back"
   ]
  },
  {
   "cell_type": "raw",
   "metadata": {},
   "source": [
    "Shelves do not track modifications to volatile objects, by default. That means if you change the contents of an item\n",
    "stored in the shelf, you must update the shelf explicitly by storing the item again."
   ]
  },
  {
   "cell_type": "code",
   "execution_count": 6,
   "metadata": {},
   "outputs": [
    {
     "name": "stdout",
     "output_type": "stream",
     "text": [
      "{'int': 10, 'float': 9.5, 'string': 'Sample data'}\n",
      "{'int': 10, 'float': 9.5, 'string': 'Sample data'}\n"
     ]
    }
   ],
   "source": [
    "import shelve\n",
    "s = shelve.open('test_shelf.db')\n",
    "try:\n",
    "    print (s['key1'])\n",
    "    s['key1']['new_value'] = 'this was not here before'\n",
    "finally:\n",
    "    s.close()\n",
    "s = shelve.open('test_shelf.db', writeback=True)\n",
    "try:\n",
    "    print (s['key1'])\n",
    "finally:\n",
    "    s.close()"
   ]
  },
  {
   "cell_type": "raw",
   "metadata": {},
   "source": [
    "In this example, the dictionary at ‘key1’ is not stored again, so when the shelf is re-opened, the changes have not\n",
    "been preserved."
   ]
  },
  {
   "cell_type": "raw",
   "metadata": {},
   "source": [
    "To automatically catch changes to volatile objects stored in the shelf, open the shelf with writeback enabled. The\n",
    "writeback flag causes the shelf to remember all of the objects retrieved from the database using an in-memory\n",
    "cache. Each cache object is also written back to the database when the shelf is closed."
   ]
  },
  {
   "cell_type": "code",
   "execution_count": 8,
   "metadata": {},
   "outputs": [
    {
     "name": "stdout",
     "output_type": "stream",
     "text": [
      "{'int': 10, 'float': 9.5, 'string': 'Sample data'}\n",
      "{'int': 10, 'float': 9.5, 'string': 'Sample data', 'new_value': 'this was not here before'}\n",
      "{'int': 10, 'float': 9.5, 'string': 'Sample data', 'new_value': 'this was not here before'}\n"
     ]
    }
   ],
   "source": [
    "import shelve\n",
    "s = shelve.open('test_shelf.db', writeback=True)\n",
    "try:\n",
    "    print (s['key1'])\n",
    "    s['key1']['new_value'] = 'this was not here before'\n",
    "    print (s['key1'])\n",
    "finally:\n",
    "    s.close()\n",
    "s = shelve.open('test_shelf.db', writeback=True)\n",
    "try:\n",
    "    print (s['key1'])\n",
    "finally:\n",
    "    s.close()"
   ]
  },
  {
   "cell_type": "raw",
   "metadata": {},
   "source": [
    "Although it reduces the chance of programmer error, and can make object persistence more transparent, using\n",
    "writeback mode may not be desirable in every situation. The cache consumes extra memory while the shelf is open,\n",
    "and pausing to write every cached object back to the database when it is closed can take extra time. Since there is\n",
    "no way to tell if the cached objects have been modified, they are all written back. If your application reads data\n",
    "more than it writes, writeback will add more overhead than you might want."
   ]
  }
 ],
 "metadata": {
  "kernelspec": {
   "display_name": "Python [default]",
   "language": "python",
   "name": "python3"
  },
  "language_info": {
   "codemirror_mode": {
    "name": "ipython",
    "version": 3
   },
   "file_extension": ".py",
   "mimetype": "text/x-python",
   "name": "python",
   "nbconvert_exporter": "python",
   "pygments_lexer": "ipython3",
   "version": "3.6.3"
  }
 },
 "nbformat": 4,
 "nbformat_minor": 2
}
