{
 "cells": [
  {
   "cell_type": "raw",
   "metadata": {},
   "source": [
    "NUI : A natural user interface (NUI) is a system for human-computer interaction that the user operates through\n",
    "intuitive actions related to natural, everyday human behavior."
   ]
  },
  {
   "cell_type": "raw",
   "metadata": {},
   "source": [
    "Kivy is a Python library for development of multi-touch enabled media rich applications which can be installed on\n",
    "different devices. Multi-touch refers to the ability of a touch-sensing surface (usually a touch screen or a trackpad)\n",
    "to detect or sense input from two or more points of contact simultaneously."
   ]
  },
  {
   "cell_type": "markdown",
   "metadata": {},
   "source": [
    "### Section 195.1: First App"
   ]
  },
  {
   "cell_type": "markdown",
   "metadata": {},
   "source": [
    "To create an kivy application\n",
    "1. sub class the app class \n",
    "2. Implement the build method, which will return the widget. \n",
    "3. Instantiate the class an invoke the run. "
   ]
  },
  {
   "cell_type": "markdown",
   "metadata": {},
   "source": [
    "```Python\n",
    "from kivy.app import App\n",
    "from kivy.uix.label import Label\n",
    "class Test(App):\n",
    "    def build(self):\n",
    "        return Label(text='Hello world')\n",
    "if __name__ == '__main__':\n",
    "    Test().run()\n",
    "```"
   ]
  },
  {
   "cell_type": "markdown",
   "metadata": {},
   "source": [
    "**Explanation** \n",
    "\n",
    "```Python\n",
    "from kivy.app import App\n",
    "```\n",
    "The above statement will import the parent class app. This will be present in your installation directory\n",
    "your_installtion_directory/kivy/app.py\n",
    "\n",
    "```Python\n",
    "from kivy.uix.label import Label\n",
    "```\n",
    "The above statement will import the ux element Label. All the ux element are present in your installation directory\n",
    "your_installation_directory/kivy/uix/.\n",
    "\n",
    "```Python\n",
    "class Test(App):\n",
    "```\n",
    "The above statement is for to create your app and class name will be your app name. This class is inherited the\n",
    "parent app class.\n",
    "```Python\n",
    "def build(self):\n",
    "```\n",
    "The above statement override the build method of app class. Which will return the widget that needs to be shown\n",
    "when you will start the app.\n",
    "```Python\n",
    "return Label(text='Hello world')\n",
    "```\n",
    "The above statement is the body of the build method. It is returning the Label with its text Hello world."
   ]
  },
  {
   "cell_type": "markdown",
   "metadata": {},
   "source": [
    "```Python\n",
    "if __name__ == '__main__':\n",
    "```\n",
    "The above statement is the entry point from where python interpreter start executing your app.\n",
    "```Python\n",
    "Test().run()\n",
    "```\n",
    "The above statement Initialise your Test class by creating its instance. And invoke the app class function run()."
   ]
  }
 ],
 "metadata": {
  "kernelspec": {
   "display_name": "Python [default]",
   "language": "python",
   "name": "python3"
  },
  "language_info": {
   "codemirror_mode": {
    "name": "ipython",
    "version": 3
   },
   "file_extension": ".py",
   "mimetype": "text/x-python",
   "name": "python",
   "nbconvert_exporter": "python",
   "pygments_lexer": "ipython3",
   "version": "3.6.3"
  }
 },
 "nbformat": 4,
 "nbformat_minor": 2
}
