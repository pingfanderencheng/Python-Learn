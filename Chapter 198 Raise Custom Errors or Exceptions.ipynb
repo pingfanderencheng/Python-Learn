{
 "cells": [
  {
   "cell_type": "raw",
   "metadata": {},
   "source": [
    "Python has many built-in exceptions which force your program to output an error when something in it goes\n",
    "wrong."
   ]
  },
  {
   "cell_type": "raw",
   "metadata": {},
   "source": [
    "However, sometimes you may need to create custom exceptions that serve your purpose."
   ]
  },
  {
   "cell_type": "raw",
   "metadata": {},
   "source": [
    "In Python, users can define such exceptions by creating a new class. This exception class has to be derived, either\n",
    "directly or indirectly, from Exception class. Most of the built-in exceptions are also derived from this class."
   ]
  },
  {
   "cell_type": "markdown",
   "metadata": {},
   "source": [
    "### Section 198.1: Custom Exception"
   ]
  },
  {
   "cell_type": "raw",
   "metadata": {},
   "source": [
    "Here, we have created a user-defined exception called CustomError which is derived from the Exception class. This\n",
    "new exception can be raised, like other exceptions, using the raise statement with an optional error message."
   ]
  },
  {
   "cell_type": "code",
   "execution_count": 2,
   "metadata": {},
   "outputs": [
    {
     "ename": "CustomError",
     "evalue": "This is custom error",
     "output_type": "error",
     "traceback": [
      "\u001b[1;31m---------------------------------------------------------------------------\u001b[0m",
      "\u001b[1;31mCustomError\u001b[0m                               Traceback (most recent call last)",
      "\u001b[1;32m<ipython-input-2-7732aa0d191f>\u001b[0m in \u001b[0;36m<module>\u001b[1;34m()\u001b[0m\n\u001b[0;32m      3\u001b[0m \u001b[0mx\u001b[0m \u001b[1;33m=\u001b[0m \u001b[1;36m1\u001b[0m\u001b[1;33m\u001b[0m\u001b[0m\n\u001b[0;32m      4\u001b[0m \u001b[1;32mif\u001b[0m \u001b[0mx\u001b[0m \u001b[1;33m==\u001b[0m \u001b[1;36m1\u001b[0m\u001b[1;33m:\u001b[0m\u001b[1;33m\u001b[0m\u001b[0m\n\u001b[1;32m----> 5\u001b[1;33m     \u001b[1;32mraise\u001b[0m \u001b[0mCustomError\u001b[0m\u001b[1;33m(\u001b[0m\u001b[1;34m'This is custom error'\u001b[0m\u001b[1;33m)\u001b[0m\u001b[1;33m\u001b[0m\u001b[0m\n\u001b[0m",
      "\u001b[1;31mCustomError\u001b[0m: This is custom error"
     ]
    }
   ],
   "source": [
    "class CustomError(Exception):\n",
    "    pass\n",
    "x = 1\n",
    "if x == 1:\n",
    "    raise CustomError('This is custom error')"
   ]
  },
  {
   "cell_type": "markdown",
   "metadata": {},
   "source": [
    "### Section 198.2: Catch custom Exception"
   ]
  },
  {
   "cell_type": "code",
   "execution_count": 3,
   "metadata": {},
   "outputs": [
    {
     "name": "stdout",
     "output_type": "stream",
     "text": [
      "Catched CustomError :Can you catch me ?\n"
     ]
    }
   ],
   "source": [
    "class CustomError(Exception):\n",
    "    pass\n",
    "try:\n",
    "    raise CustomError('Can you catch me ?')\n",
    "except CustomError as e:\n",
    "    print ('Catched CustomError :{}'.format(e))\n",
    "except Exception as e:\n",
    "    print ('Generic exception: {}'.format(e))"
   ]
  }
 ],
 "metadata": {
  "kernelspec": {
   "display_name": "Python [default]",
   "language": "python",
   "name": "python3"
  },
  "language_info": {
   "codemirror_mode": {
    "name": "ipython",
    "version": 3
   },
   "file_extension": ".py",
   "mimetype": "text/x-python",
   "name": "python",
   "nbconvert_exporter": "python",
   "pygments_lexer": "ipython3",
   "version": "3.6.3"
  }
 },
 "nbformat": 4,
 "nbformat_minor": 2
}
