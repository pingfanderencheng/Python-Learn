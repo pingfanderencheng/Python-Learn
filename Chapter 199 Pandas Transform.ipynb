{
 "cells": [
  {
   "cell_type": "markdown",
   "metadata": {},
   "source": [
    "### Section 199.1: Simple transform"
   ]
  },
  {
   "cell_type": "raw",
   "metadata": {},
   "source": [
    "First, Lets create a dummy dataframe"
   ]
  },
  {
   "cell_type": "raw",
   "metadata": {},
   "source": [
    "We assume that a customer can have n orders, an order can have m items, and items can be ordered more multiple times"
   ]
  },
  {
   "cell_type": "code",
   "execution_count": 1,
   "metadata": {},
   "outputs": [],
   "source": [
    "import pandas as pd\n",
    "orders_df = pd.DataFrame()\n",
    "orders_df['customer_id'] = [1,1,1,1,1,2,2,3,3,3,3,3]\n",
    "orders_df['order_id'] = [1,1,1,2,2,3,3,4,5,6,6,6]\n",
    "orders_df['item'] = ['apples', 'chocolate', 'chocolate', 'coffee', 'coffee', 'apples',\n",
    "'bananas', 'coffee', 'milkshake', 'chocolate', 'strawberry', 'strawberry']"
   ]
  },
  {
   "cell_type": "code",
   "execution_count": 2,
   "metadata": {},
   "outputs": [
    {
     "name": "stdout",
     "output_type": "stream",
     "text": [
      "    customer_id  order_id        item\n",
      "0             1         1      apples\n",
      "1             1         1   chocolate\n",
      "2             1         1   chocolate\n",
      "3             1         2      coffee\n",
      "4             1         2      coffee\n",
      "5             2         3      apples\n",
      "6             2         3     bananas\n",
      "7             3         4      coffee\n",
      "8             3         5   milkshake\n",
      "9             3         6   chocolate\n",
      "10            3         6  strawberry\n",
      "11            3         6  strawberry\n"
     ]
    }
   ],
   "source": [
    "print(orders_df)"
   ]
  },
  {
   "cell_type": "raw",
   "metadata": {},
   "source": [
    "Now, we will use pandas transform function to count the number of orders per customer"
   ]
  },
  {
   "cell_type": "code",
   "execution_count": 3,
   "metadata": {},
   "outputs": [
    {
     "name": "stdout",
     "output_type": "stream",
     "text": [
      "    customer_id  order_id        item  number_of_orders_per_cient\n",
      "0             1         1      apples                           2\n",
      "1             1         1   chocolate                           2\n",
      "2             1         1   chocolate                           2\n",
      "3             1         2      coffee                           2\n",
      "4             1         2      coffee                           2\n",
      "5             2         3      apples                           1\n",
      "6             2         3     bananas                           1\n",
      "7             3         4      coffee                           3\n",
      "8             3         5   milkshake                           3\n",
      "9             3         6   chocolate                           3\n",
      "10            3         6  strawberry                           3\n",
      "11            3         6  strawberry                           3\n"
     ]
    }
   ],
   "source": [
    "# First, we define the function that will be applied per customer_id\n",
    "count_number_of_orders = lambda x: len(x.unique())\n",
    "# And now, we can tranform each group using the logic defined above\n",
    "orders_df['number_of_orders_per_cient'] = ( # Put the results into a new column that is called 'number_of_orders_per_cient'\n",
    "    orders_df # Take the original dataframe\n",
    "    .groupby(['customer_id'])['order_id'] # Create a seperate group for each customer_id & select the order_id\n",
    "    .transform(count_number_of_orders)) # Apply the function to each group seperatly\n",
    "    # Inspecting the results ...\n",
    "print(orders_df)"
   ]
  },
  {
   "cell_type": "code",
   "execution_count": 11,
   "metadata": {},
   "outputs": [
    {
     "data": {
      "text/plain": [
       "[(1, 0    1\n",
       "  1    1\n",
       "  2    1\n",
       "  3    2\n",
       "  4    2\n",
       "  Name: order_id, dtype: int64), (2, 5    3\n",
       "  6    3\n",
       "  Name: order_id, dtype: int64), (3, 7     4\n",
       "  8     5\n",
       "  9     6\n",
       "  10    6\n",
       "  11    6\n",
       "  Name: order_id, dtype: int64)]"
      ]
     },
     "execution_count": 11,
     "metadata": {},
     "output_type": "execute_result"
    }
   ],
   "source": [
    "list(orders_df.groupby(['customer_id'])['order_id'])"
   ]
  },
  {
   "cell_type": "markdown",
   "metadata": {},
   "source": [
    "### Section 199.2: Multiple results per group"
   ]
  },
  {
   "cell_type": "raw",
   "metadata": {},
   "source": [
    "Using transform functions that return sub-calculations per group"
   ]
  },
  {
   "cell_type": "raw",
   "metadata": {},
   "source": [
    "In the previous example, we had one result per client. However, functions returning different values for the group can also be applied."
   ]
  },
  {
   "cell_type": "code",
   "execution_count": 8,
   "metadata": {},
   "outputs": [],
   "source": [
    "# Create a dummy dataframe\n",
    "orders_df = pd.DataFrame()\n",
    "orders_df['customer_id'] = [1,1,1,1,1,2,2,3,3,3,3,3]\n",
    "orders_df['order_id'] = [1,1,1,2,2,3,3,4,5,6,6,6]\n",
    "orders_df['item'] = ['apples', 'chocolate', 'chocolate', 'coffee', 'coffee', 'apples',\n",
    "'bananas', 'coffee', 'milkshake', 'chocolate', 'strawberry', 'strawberry']"
   ]
  },
  {
   "cell_type": "code",
   "execution_count": 9,
   "metadata": {},
   "outputs": [],
   "source": [
    "# Let's try to see if the items were ordered more than once in each orders\n",
    "# First, we define a fuction that will be applied per group\n",
    "def multiple_items_per_order(_items):\n",
    "    # Apply .duplicated, which will return True is the item occurs more than once.\n",
    "    multiple_item_bool = _items.duplicated(keep=False)\n",
    "    return(multiple_item_bool)"
   ]
  },
  {
   "cell_type": "code",
   "execution_count": 10,
   "metadata": {},
   "outputs": [
    {
     "name": "stdout",
     "output_type": "stream",
     "text": [
      "    customer_id  order_id        item  item_duplicated_per_order\n",
      "0             1         1      apples                      False\n",
      "1             1         1   chocolate                       True\n",
      "2             1         1   chocolate                       True\n",
      "3             1         2      coffee                       True\n",
      "4             1         2      coffee                       True\n",
      "5             2         3      apples                      False\n",
      "6             2         3     bananas                      False\n",
      "7             3         4      coffee                      False\n",
      "8             3         5   milkshake                      False\n",
      "9             3         6   chocolate                      False\n",
      "10            3         6  strawberry                       True\n",
      "11            3         6  strawberry                       True\n"
     ]
    }
   ],
   "source": [
    "# Then, we transform each group according to the defined function\n",
    "orders_df['item_duplicated_per_order'] = ( # Put the results into a new column\n",
    "orders_df # Take the orders dataframe\n",
    "    .groupby(['order_id'])['item'] # Create a seperate group for each order_id & select the item\n",
    "    .transform(multiple_items_per_order)) # Apply the defined function to each group separately\n",
    "# Inspecting the results ...\n",
    "print(orders_df)"
   ]
  },
  {
   "cell_type": "code",
   "execution_count": null,
   "metadata": {},
   "outputs": [],
   "source": []
  }
 ],
 "metadata": {
  "kernelspec": {
   "display_name": "Python [default]",
   "language": "python",
   "name": "python3"
  },
  "language_info": {
   "codemirror_mode": {
    "name": "ipython",
    "version": 3
   },
   "file_extension": ".py",
   "mimetype": "text/x-python",
   "name": "python",
   "nbconvert_exporter": "python",
   "pygments_lexer": "ipython3",
   "version": "3.6.3"
  }
 },
 "nbformat": 4,
 "nbformat_minor": 2
}
