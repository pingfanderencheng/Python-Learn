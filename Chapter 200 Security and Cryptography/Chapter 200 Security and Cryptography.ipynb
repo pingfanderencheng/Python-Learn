{
 "cells": [
  {
   "cell_type": "raw",
   "metadata": {},
   "source": [
    "Python, being one of the most popular languages in computer and network security, has great potential in security\n",
    "and cryptography. This topic deals with the cryptographic features and implementations in Python from its uses in\n",
    "computer and network security to hashing and encryption/decryption algorithms.`r"
   ]
  },
  {
   "cell_type": "markdown",
   "metadata": {},
   "source": [
    "### Section 200.1: Secure Password Hashing"
   ]
  },
  {
   "cell_type": "markdown",
   "metadata": {},
   "source": [
    "The [PBKDF2 algorithm](https://en.wikipedia.org/wiki/PBKDF2) exposed by hashlib module can be used to perform secure password hashing. While this algorithm cannot prevent brute-force attacks in order to recover the original password from the stored hash, it makes such attacks very expensive."
   ]
  },
  {
   "cell_type": "code",
   "execution_count": 8,
   "metadata": {},
   "outputs": [],
   "source": [
    "import hashlib\n",
    "import os\n",
    "salt = os.urandom(16)\n",
    "hh = hashlib.pbkdf2_hmac('sha256', b'password', salt, 100000)"
   ]
  },
  {
   "cell_type": "raw",
   "metadata": {},
   "source": [
    "PBKDF2 can work with any digest algorithm, the above example uses SHA256 which is usually recommended. The random salt should be stored along with the hashed password, you will need it again in order to compare an entered password to the stored hash. It is essential that each password is hashed with a different salt. As to the number of rounds, it is recommended to set it as high as possible for your application."
   ]
  },
  {
   "cell_type": "raw",
   "metadata": {},
   "source": [
    "If you want the result in hexadecimal, you can use the binascii module:"
   ]
  },
  {
   "cell_type": "code",
   "execution_count": 9,
   "metadata": {},
   "outputs": [],
   "source": [
    "import binascii\n",
    "hexhash = binascii.hexlify(hh)"
   ]
  },
  {
   "cell_type": "code",
   "execution_count": 10,
   "metadata": {},
   "outputs": [
    {
     "data": {
      "text/plain": [
       "b'808a4715a2d803bd323f029ef795114350c053306b4df3883ba188a25dba5c31'"
      ]
     },
     "execution_count": 10,
     "metadata": {},
     "output_type": "execute_result"
    }
   ],
   "source": [
    "hexhash"
   ]
  },
  {
   "cell_type": "raw",
   "metadata": {},
   "source": [
    "Note: While PBKDF2 isn't bad, bcrypt and especially scrypt are considered stronger against brute-force attacks. Neither is part of the Python standard library at the moment."
   ]
  },
  {
   "cell_type": "markdown",
   "metadata": {},
   "source": [
    "### Section 200.2: Calculating a Message Digest"
   ]
  },
  {
   "cell_type": "raw",
   "metadata": {},
   "source": [
    "The hashlib module allows creating message digest generators via the new method. These generators will turn an arbitrary string into a fixed-length digest:"
   ]
  },
  {
   "cell_type": "code",
   "execution_count": 11,
   "metadata": {},
   "outputs": [
    {
     "data": {
      "text/plain": [
       "b'.\\xdf\\xda\\xdaVR[\\x12\\x90\\xff\\x16\\xfb\\x17D\\xcf\\xb4\\x82\\xdd)\\x14\\xff\\xbc\\xb6Iy\\x0c\\x0eX\\x9eF-='"
      ]
     },
     "execution_count": 11,
     "metadata": {},
     "output_type": "execute_result"
    }
   ],
   "source": [
    "import hashlib\n",
    "h = hashlib.new('sha256')\n",
    "h.update(b'Nobody expects the Spanish Inquisition.')\n",
    "h.digest()"
   ]
  },
  {
   "cell_type": "code",
   "execution_count": 12,
   "metadata": {},
   "outputs": [
    {
     "data": {
      "text/plain": [
       "b'2edfdada56525b1290ff16fb1744cfb482dd2914ffbcb649790c0e589e462d3d'"
      ]
     },
     "execution_count": 12,
     "metadata": {},
     "output_type": "execute_result"
    }
   ],
   "source": [
    "binascii.hexlify(h.digest())"
   ]
  },
  {
   "cell_type": "raw",
   "metadata": {},
   "source": [
    "Note that you can call update an arbitrary number of times before calling digest which is useful to hash a large file\n",
    "chunk by chunk. You can also get the digest in hexadecimal format by using hexdigest "
   ]
  },
  {
   "cell_type": "code",
   "execution_count": 13,
   "metadata": {},
   "outputs": [
    {
     "data": {
      "text/plain": [
       "'2edfdada56525b1290ff16fb1744cfb482dd2914ffbcb649790c0e589e462d3d'"
      ]
     },
     "execution_count": 13,
     "metadata": {},
     "output_type": "execute_result"
    }
   ],
   "source": [
    "h.hexdigest()"
   ]
  },
  {
   "cell_type": "markdown",
   "metadata": {},
   "source": [
    "### Section 200.3: Available Hashing Algorithms"
   ]
  },
  {
   "cell_type": "raw",
   "metadata": {},
   "source": [
    "hashlib.new requires the name of an algorithm when you call it to produce a generator. To find out what algorithms are available in the current Python interpreter, use hashlib.algorithms_available "
   ]
  },
  {
   "cell_type": "code",
   "execution_count": 14,
   "metadata": {},
   "outputs": [
    {
     "data": {
      "text/plain": [
       "{'DSA',\n",
       " 'DSA-SHA',\n",
       " 'MD4',\n",
       " 'MD5',\n",
       " 'RIPEMD160',\n",
       " 'SHA',\n",
       " 'SHA1',\n",
       " 'SHA224',\n",
       " 'SHA256',\n",
       " 'SHA384',\n",
       " 'SHA512',\n",
       " 'blake2b',\n",
       " 'blake2s',\n",
       " 'dsaEncryption',\n",
       " 'dsaWithSHA',\n",
       " 'ecdsa-with-SHA1',\n",
       " 'md4',\n",
       " 'md5',\n",
       " 'ripemd160',\n",
       " 'sha',\n",
       " 'sha1',\n",
       " 'sha224',\n",
       " 'sha256',\n",
       " 'sha384',\n",
       " 'sha3_224',\n",
       " 'sha3_256',\n",
       " 'sha3_384',\n",
       " 'sha3_512',\n",
       " 'sha512',\n",
       " 'shake_128',\n",
       " 'shake_256',\n",
       " 'whirlpool'}"
      ]
     },
     "execution_count": 14,
     "metadata": {},
     "output_type": "execute_result"
    }
   ],
   "source": [
    "import hashlib\n",
    "hashlib.algorithms_available"
   ]
  },
  {
   "cell_type": "raw",
   "metadata": {},
   "source": [
    "The returned list will vary according to platform and interpreter; make sure you check your algorithm is available."
   ]
  },
  {
   "cell_type": "raw",
   "metadata": {},
   "source": [
    "There are also some algorithms that are guaranteed to be available on all platforms and interpreters, which are available using hashlib.algorithms_guaranteed "
   ]
  },
  {
   "cell_type": "code",
   "execution_count": 15,
   "metadata": {},
   "outputs": [
    {
     "data": {
      "text/plain": [
       "{'blake2b',\n",
       " 'blake2s',\n",
       " 'md5',\n",
       " 'sha1',\n",
       " 'sha224',\n",
       " 'sha256',\n",
       " 'sha384',\n",
       " 'sha3_224',\n",
       " 'sha3_256',\n",
       " 'sha3_384',\n",
       " 'sha3_512',\n",
       " 'sha512',\n",
       " 'shake_128',\n",
       " 'shake_256'}"
      ]
     },
     "execution_count": 15,
     "metadata": {},
     "output_type": "execute_result"
    }
   ],
   "source": [
    "hashlib.algorithms_guaranteed"
   ]
  },
  {
   "cell_type": "markdown",
   "metadata": {},
   "source": [
    "### Section 200.4: File Hashing"
   ]
  },
  {
   "cell_type": "raw",
   "metadata": {},
   "source": [
    "A hash is a function that converts a variable length sequence of bytes to a fixed length sequence. Hashing files can\n",
    "be advantageous for many reasons. Hashes can be used to check if two files are identical or verify that the contents\n",
    "of a file haven't been corrupted or changed."
   ]
  },
  {
   "cell_type": "raw",
   "metadata": {},
   "source": [
    "You can use hashlib to generate a hash for a file:"
   ]
  },
  {
   "cell_type": "code",
   "execution_count": 18,
   "metadata": {},
   "outputs": [
    {
     "data": {
      "text/plain": [
       "'2c26b46b68ffc68ff99b453c1d30413413422d706483bfa0f98a5e886266e7ae'"
      ]
     },
     "execution_count": 18,
     "metadata": {},
     "output_type": "execute_result"
    }
   ],
   "source": [
    "import hashlib\n",
    "hasher = hashlib.new('sha256')\n",
    "with open('foo.txt', 'r') as f:\n",
    "    contents = f.read()\n",
    "    hasher.update(contents.encode())\n",
    "hasher.hexdigest()"
   ]
  },
  {
   "cell_type": "raw",
   "metadata": {},
   "source": [
    "For larger files, a buffer of fixed length can be used:"
   ]
  },
  {
   "cell_type": "code",
   "execution_count": 21,
   "metadata": {},
   "outputs": [
    {
     "name": "stdout",
     "output_type": "stream",
     "text": [
      "2c26b46b68ffc68ff99b453c1d30413413422d706483bfa0f98a5e886266e7ae\n"
     ]
    }
   ],
   "source": [
    "import hashlib\n",
    "SIZE = 65536\n",
    "hasher = hashlib.new('sha256')\n",
    "with open('foo.txt', 'r') as f:\n",
    "    buffer = f.read(SIZE)\n",
    "    while len(buffer) > 0:\n",
    "        hasher.update(buffer.encode())\n",
    "        buffer = f.read(SIZE)\n",
    "print(hasher.hexdigest())"
   ]
  },
  {
   "cell_type": "markdown",
   "metadata": {},
   "source": [
    "### Section 200.5: Generating RSA signatures using pycrypto"
   ]
  },
  {
   "cell_type": "raw",
   "metadata": {},
   "source": [
    "RSA can be used to create a message signature. A valid signature can only be generated with access to the private RSA key, validating on the other hand is possible with merely the corresponding public key. So as long as the other side knows your public key they can verify the message to be signed by you and unchanged - an approach used for email for example. Currently, a third-party module like pycrypto is required for this functionality."
   ]
  },
  {
   "cell_type": "code",
   "execution_count": 1,
   "metadata": {},
   "outputs": [],
   "source": [
    "import errno\n",
    "from Crypto.Hash import SHA256\n",
    "from Crypto.PublicKey import RSA\n",
    "from Crypto.Signature import PKCS1_v1_5\n",
    "\n",
    "message = b'This message is from me, I promise.'\n",
    "try:\n",
    "    with open('privkey.pem', 'r') as f:\n",
    "        key = RSA.importKey(f.read())\n",
    "except IOError as e:\n",
    "    if e.errno != errno.ENOENT:\n",
    "        raise\n",
    "    # No private key, generate a new one. This can take a few seconds.\n",
    "    key = RSA.generate(4096)\n",
    "    with open('privkey.pem', 'wb') as f:\n",
    "        f.write(key.exportKey('PEM'))\n",
    "    with open('pubkey.pem', 'wb') as f:\n",
    "        f.write(key.publickey().exportKey('PEM'))\n",
    "hasher = SHA256.new(message)\n",
    "signer = PKCS1_v1_5.new(key)\n",
    "signature = signer.sign(hasher)"
   ]
  },
  {
   "cell_type": "raw",
   "metadata": {},
   "source": [
    "Verifying the signature works similarly but uses the public key rather than the private key:"
   ]
  },
  {
   "cell_type": "code",
   "execution_count": 3,
   "metadata": {},
   "outputs": [
    {
     "name": "stdout",
     "output_type": "stream",
     "text": [
      "Nice, the signature is valid!\n"
     ]
    }
   ],
   "source": [
    "with open('pubkey.pem', 'rb') as f:\n",
    "    key = RSA.importKey(f.read())\n",
    "hasher = SHA256.new(message)\n",
    "verifier = PKCS1_v1_5.new(key)\n",
    "if verifier.verify(hasher, signature):\n",
    "    print('Nice, the signature is valid!')\n",
    "else:\n",
    "    print('No, the message was signed with the wrong private key or modified')"
   ]
  },
  {
   "cell_type": "raw",
   "metadata": {},
   "source": [
    "Note: The above examples use PKCS#1 v1.5 signing algorithm which is very common. pycrypto also implements the\n",
    "newer PKCS#1 PSS algorithm, replacing PKCS1_v1_5 by PKCS1_PSS in the examples should work if you want to use\n",
    "that one. Currently there seems to be little reason to use it however."
   ]
  },
  {
   "cell_type": "code",
   "execution_count": 6,
   "metadata": {},
   "outputs": [
    {
     "data": {
      "text/plain": [
       "'a044e49b435a0acadde9a78e0f80e595c8759dc22c56f6e971b27033a2dc3cb9'"
      ]
     },
     "execution_count": 6,
     "metadata": {},
     "output_type": "execute_result"
    }
   ],
   "source": [
    "hasher.hexdigest()"
   ]
  },
  {
   "cell_type": "code",
   "execution_count": 10,
   "metadata": {},
   "outputs": [
    {
     "data": {
      "text/plain": [
       "b'9317777e2564280331c8215395fdd321b1f8f0caf39747aca19d02d045d294e7b9a6d61e8c71cde9ee264f9ac8adad9e3a12ef5cd84334f32ad128a297154c884176449ae929f7f45bfdddc128d2a65c6e745589c2c308382950a8f544c684629de9e9629c32d641452b435d34939a1a7e4cac869a07796eeb21408cb0d3a1862669e5f7a2b72b9780f1ddb39c374f7ab619a1826027292f46ae95b365540d8c28d870520d7a6af9383e82cf2df925057e64245644037d4975db6f56f8226b0346c66582b7213fd498f879bd7eeac04a2a104f9073eafe21fafb5acdfbe4a3a7508920f45848d354ceba085f2503f16794df499a192db5b9a49b2542372c5c09e9ede2148428a2a74b8b85427d5dada98cc993f3716eb284d28dcfd81bbd4d102e00df90439962ecc8b4dc54c93a0f9c920d21886011daa2b5032158dc9eb34a1f7ccba71f181b036d532c7265261dcc73479ad9b719c3b8559d66e1e1ad1625be537dfeacc96c68d2cc0c9bb71fb2bd088cf609db52b28fe9123eaa84b0490f5ccac6071ecfe13dc222b9dc6f09403462a8f5007813575832a0c2d5521f569e67c54aed2d4b97e26c72ff1008266cb32ba4e6a061ccea169b5c70205c05e254ebd6ce4023b227427057125e7163d8a8e419dea4130193ecd1050d7bd17157aa259fbb66e0ea322c9e5e4c8701e70c8f4172a38d2c09e3df209ab7fa2b960f24'"
      ]
     },
     "execution_count": 10,
     "metadata": {},
     "output_type": "execute_result"
    }
   ],
   "source": [
    "import binascii\n",
    "binascii.hexlify(signature)"
   ]
  },
  {
   "cell_type": "markdown",
   "metadata": {},
   "source": [
    "### Section 200.6: Asymmetric RSA encryption using pycrypto"
   ]
  },
  {
   "cell_type": "raw",
   "metadata": {},
   "source": [
    "Asymmetric encryption has the advantage that a message can be encrypted without exchanging a secret key with\n",
    "the recipient of the message. The sender merely needs to know the recipients public key, this allows encrypting the\n",
    "message in such a way that only the designated recipient (who has the corresponding private key) can decrypt it.\n",
    "Currently, a third-party module like pycrypto is required for this functionality."
   ]
  },
  {
   "cell_type": "code",
   "execution_count": 11,
   "metadata": {},
   "outputs": [],
   "source": [
    "from Crypto.Cipher import PKCS1_OAEP\n",
    "from Crypto.PublicKey import RSA\n",
    "message = b'This is a very secret message.'\n",
    "with open('pubkey.pem', 'rb') as f:\n",
    "    key = RSA.importKey(f.read())\n",
    "cipher = PKCS1_OAEP.new(key)\n",
    "encrypted = cipher.encrypt(message)"
   ]
  },
  {
   "cell_type": "raw",
   "metadata": {},
   "source": [
    "The recipient can decrypt the message then if they have the right private key:"
   ]
  },
  {
   "cell_type": "code",
   "execution_count": 12,
   "metadata": {},
   "outputs": [],
   "source": [
    "with open('privkey.pem', 'rb') as f:\n",
    "    key = RSA.importKey(f.read())\n",
    "cipher = PKCS1_OAEP.new(key)\n",
    "decrypted = cipher.decrypt(encrypted)"
   ]
  },
  {
   "cell_type": "markdown",
   "metadata": {},
   "source": [
    "Note: The above examples use PKCS#1 OAEP encryption scheme. pycrypto also implements PKCS#1 v1.5 encryption\n",
    "scheme, this one is not recommended for new protocols however due to known [caveats.](http://security.stackexchange.com/questions/32050/what-specific-padding-weakness-does-oaep-address-in-rsa)"
   ]
  },
  {
   "cell_type": "code",
   "execution_count": 13,
   "metadata": {},
   "outputs": [
    {
     "data": {
      "text/plain": [
       "b'This is a very secret message.'"
      ]
     },
     "execution_count": 13,
     "metadata": {},
     "output_type": "execute_result"
    }
   ],
   "source": [
    "decrypted"
   ]
  },
  {
   "cell_type": "code",
   "execution_count": 15,
   "metadata": {},
   "outputs": [
    {
     "data": {
      "text/plain": [
       "'923ead1b4d58e53346621cd06b446b4ff1612f95c252d9a0c8884f99be4964e133aafd0718bce04ec578e5a44d1848cc28b6df8a152f4f7a9be61bbb64c9f14440c27d958a62fc3b2bf7c4f88a87f25921cb01711eafb6ebbebbd2160018ab0001187a9c612204f156323f5cf67298b9c055d056a470f3891790d90985bd01b7c57292208c8636ca98ca7f55f7085626b4d1366d2bda6bd158ace5b8c015ee7d1863d409c2b13901609b94c2c98242f95da81ccdc8cb2741f6cf299cc010879b419df2aae70b054998dd3b903245e9a0460d5dd78563358e39cd2a97ab238861cc6ca70bb322c9031b45776811d0ca15433922703d3e75bddacaf63b54c485df2b982c99293d89a24bda0625389923d976ea7930445cc0615b7394d82b9639ae2c66ef7783332e6a6fb3883ca42f54c6aa3e9c448562f6f51f7a96dc2dc505129ca43bfb96c76256f880a7304c3fe6e6232331dbff9698ee4dfdbde6952aeb9283be4c01a7dc3bad4d083487f982788f5a7e5a1db876cc4cf6a3d38f194820439968393fbd4c8b4fd3dd86adc1169268f542157336d2bea18f89ff01e05828967d67ac63fa247c783d33eb028c4c09e044fe0280735e83a856afb49053c8e1bbbaedd180bb1201ee179af6bcb9fd22b092b9e82830b33545139f380da06d902a972ed24f4c4bcccacdf42d71c7d88b04b94e5f94fda63cdd67479ab84db906cc'"
      ]
     },
     "execution_count": 15,
     "metadata": {},
     "output_type": "execute_result"
    }
   ],
   "source": [
    "encrypted.hex()"
   ]
  },
  {
   "cell_type": "markdown",
   "metadata": {},
   "source": [
    "### Section 200.7: Symmetric encryption using pycrypto"
   ]
  },
  {
   "cell_type": "raw",
   "metadata": {},
   "source": [
    "Python's built-in crypto functionality is currently limited to hashing. Encryption requires a third-party module like pycrypto. For example, it provides the AES algorithm which is considered state of the art for symmetric encryption. The following code will encrypt a given message using a passphrase:"
   ]
  },
  {
   "cell_type": "code",
   "execution_count": 16,
   "metadata": {},
   "outputs": [],
   "source": [
    "import hashlib\n",
    "import math\n",
    "import os\n",
    "from Crypto.Cipher import AES\n",
    "IV_SIZE = 16 # 128 bit, fixed for the AES algorithm\n",
    "KEY_SIZE = 32 # 256 bit meaning AES-256, can also be 128 or 192 bits\n",
    "SALT_SIZE = 16 # This size is arbitrary\n",
    "cleartext = b'Lorem ipsum'\n",
    "password = b'highly secure encryption password'\n",
    "salt = os.urandom(SALT_SIZE)\n",
    "derived = hashlib.pbkdf2_hmac('sha256', password, salt, 100000, dklen=IV_SIZE + KEY_SIZE)\n",
    "iv = derived[0:IV_SIZE]\n",
    "key = derived[IV_SIZE:]\n",
    "encrypted = salt + AES.new(key, AES.MODE_CFB, iv).encrypt(cleartext)"
   ]
  },
  {
   "cell_type": "code",
   "execution_count": 18,
   "metadata": {},
   "outputs": [
    {
     "data": {
      "text/plain": [
       "'ebae70ab82ae4b40fce3bbf74abb378ffbff6104379d173200ddfe'"
      ]
     },
     "execution_count": 18,
     "metadata": {},
     "output_type": "execute_result"
    }
   ],
   "source": [
    "encrypted.hex()"
   ]
  },
  {
   "cell_type": "raw",
   "metadata": {},
   "source": [
    "The AES algorithm takes three parameters: encryption key, initialization vector (IV) and the actual message to be\n",
    "encrypted. If you have a randomly generated AES key then you can use that one directly and merely generate a\n",
    "random initialization vector. A passphrase doesn't have the right size however, nor would it be recommendable to\n",
    "use it directly given that it isn't truly random and thus has comparably little entropy. Instead, we use the built-in\n",
    "implementation of the PBKDF2 algorithm to generate a 128 bit initialization vector and 256 bit encryption key from\n",
    "the password."
   ]
  },
  {
   "cell_type": "raw",
   "metadata": {},
   "source": [
    "Note the random salt which is important to have a different initialization vector and key for each message\n",
    "encrypted. This ensures in particular that two equal messages won't result in identical encrypted text, but it also\n",
    "prevents attackers from reusing work spent guessing one passphrase on messages encrypted with another\n",
    "passphrase. This salt has to be stored along with the encrypted message in order to derive the same initialization\n",
    "vector and key for decrypting."
   ]
  },
  {
   "cell_type": "code",
   "execution_count": 19,
   "metadata": {},
   "outputs": [],
   "source": [
    "salt = encrypted[0:SALT_SIZE]\n",
    "derived = hashlib.pbkdf2_hmac('sha256', password, salt, 100000,\n",
    "dklen=IV_SIZE + KEY_SIZE)\n",
    "iv = derived[0:IV_SIZE]\n",
    "key = derived[IV_SIZE:]\n",
    "cleartext = AES.new(key, AES.MODE_CFB, iv).decrypt(encrypted[SALT_SIZE:])"
   ]
  },
  {
   "cell_type": "code",
   "execution_count": 20,
   "metadata": {},
   "outputs": [
    {
     "data": {
      "text/plain": [
       "b'Lorem ipsum'"
      ]
     },
     "execution_count": 20,
     "metadata": {},
     "output_type": "execute_result"
    }
   ],
   "source": [
    "cleartext"
   ]
  },
  {
   "cell_type": "code",
   "execution_count": null,
   "metadata": {},
   "outputs": [],
   "source": []
  }
 ],
 "metadata": {
  "kernelspec": {
   "display_name": "Python [default]",
   "language": "python",
   "name": "python3"
  },
  "language_info": {
   "codemirror_mode": {
    "name": "ipython",
    "version": 3
   },
   "file_extension": ".py",
   "mimetype": "text/x-python",
   "name": "python",
   "nbconvert_exporter": "python",
   "pygments_lexer": "ipython3",
   "version": "3.6.3"
  }
 },
 "nbformat": 4,
 "nbformat_minor": 2
}
