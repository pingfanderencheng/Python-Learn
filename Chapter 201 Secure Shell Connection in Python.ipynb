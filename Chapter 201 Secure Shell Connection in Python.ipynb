{
 "cells": [
  {
   "cell_type": "markdown",
   "metadata": {},
   "source": [
    "| Parameter | Usage |\n",
    "| --- | --- |\n",
    "| hostname | This parameter tells the host to which the connection needs to be established |\n",
    "| username | username required to access the host |\n",
    "| port | host port |\n",
    "| password | password for the account |"
   ]
  },
  {
   "cell_type": "markdown",
   "metadata": {},
   "source": [
    "### Section 201.1: ssh connection"
   ]
  },
  {
   "cell_type": "markdown",
   "metadata": {},
   "source": [
    "```Python\n",
    "from paramiko import client\n",
    "ssh = client.SSHClient() # create a new SSHClient object\n",
    "ssh.set_missing_host_key_policy(paramiko.AutoAddPolicy()) #auto-accept unknown host keys\n",
    "ssh.connect(hostname, username=username, port=port, password=password) #connect with a host\n",
    "stdin, stdout, stderr = ssh.exec_command(command) # submit a command to ssh\n",
    "stdout.channel.recv_exit_status() #tells the status 1 - job failed\n",
    "```"
   ]
  }
 ],
 "metadata": {
  "kernelspec": {
   "display_name": "Python [default]",
   "language": "python",
   "name": "python3"
  },
  "language_info": {
   "codemirror_mode": {
    "name": "ipython",
    "version": 3
   },
   "file_extension": ".py",
   "mimetype": "text/x-python",
   "name": "python",
   "nbconvert_exporter": "python",
   "pygments_lexer": "ipython3",
   "version": "3.6.3"
  }
 },
 "nbformat": 4,
 "nbformat_minor": 2
}
