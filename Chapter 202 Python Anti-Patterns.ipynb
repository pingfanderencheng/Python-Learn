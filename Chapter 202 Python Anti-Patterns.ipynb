{
 "cells": [
  {
   "cell_type": "markdown",
   "metadata": {},
   "source": [
    "### Section 202.1: Overzealous except clause"
   ]
  },
  {
   "cell_type": "raw",
   "metadata": {},
   "source": [
    "Exceptions are powerful, but a single overzealous except clause can take it all away in a single line."
   ]
  },
  {
   "cell_type": "markdown",
   "metadata": {},
   "source": [
    "```Python\n",
    "try: res = get_result() res = res[0] log('got result: %r' % res) except: if not res: res = '' print('got exception')\n",
    "```"
   ]
  },
  {
   "cell_type": "raw",
   "metadata": {},
   "source": [
    "This example demonstrates 3 symptoms of the antipattern:"
   ]
  },
  {
   "cell_type": "markdown",
   "metadata": {},
   "source": [
    "1. The except with no exception type (line 5) will catch even healthy exceptions, including KeyboardInterrupt . That will prevent the program from exiting in some cases.\n",
    "2. The except block does not reraise the error, meaning that we won't be able to tell if the exception came from within get_result or because res was an empty list.\n",
    "3. Worst of all, if we were worried about result being empty, we've caused something much worse. If get_result fails, res will stay completely unset, and the reference to res in the except block, will raise NameError , completely masking the original error."
   ]
  },
  {
   "cell_type": "raw",
   "metadata": {},
   "source": [
    "Always think about the type of exception you're trying to handle. Give the exceptions page a read and get a feel for\n",
    "what basic exceptions exist."
   ]
  },
  {
   "cell_type": "raw",
   "metadata": {},
   "source": [
    "Here is a fixed version of the example above:"
   ]
  },
  {
   "cell_type": "markdown",
   "metadata": {},
   "source": [
    "```Python\n",
    "import traceback try: res = get_result() except Exception: log_exception(traceback.format_exc()) raise try: res = res[0]\n",
    "except IndexError: res = '' log('got result: %r' % res)\n",
    "```"
   ]
  },
  {
   "cell_type": "raw",
   "metadata": {},
   "source": [
    "We catch more specific exceptions, reraising where necessary. A few more lines, but infinitely more correct."
   ]
  },
  {
   "cell_type": "markdown",
   "metadata": {},
   "source": [
    "### Section 202.2: Looking before you leap with processor-intensive function"
   ]
  },
  {
   "cell_type": "raw",
   "metadata": {},
   "source": [
    "A program can easily waste time by calling a processor-intensive function multiple times."
   ]
  },
  {
   "cell_type": "raw",
   "metadata": {},
   "source": [
    "For example, take a function which looks like this: it returns an integer if the input value can produce one, else None:"
   ]
  },
  {
   "cell_type": "markdown",
   "metadata": {},
   "source": [
    "```Python\n",
    "def intensive_f(value): # int -> Optional[int]\n",
    "    # complex, and time-consuming code\n",
    "    if process_has_failed:\n",
    "        return None\n",
    "    return integer_output\n",
    "```"
   ]
  },
  {
   "cell_type": "raw",
   "metadata": {},
   "source": [
    "And it could be used in the following way:"
   ]
  },
  {
   "cell_type": "markdown",
   "metadata": {},
   "source": [
    "```Python\n",
    "x = 5\n",
    "if intensive_f(x) is not None:\n",
    "    print(intensive_f(x) / 2)\n",
    "else:\n",
    "    print(x, \"could not be processed\")\n",
    "print(x)\n",
    "```"
   ]
  },
  {
   "cell_type": "raw",
   "metadata": {},
   "source": [
    "Whilst this will work, it has the problem of calling intensive_f , which doubles the length of time for the code to\n",
    "run. A better solution would be to get the return value of the function beforehand."
   ]
  },
  {
   "cell_type": "markdown",
   "metadata": {},
   "source": [
    "```Python\n",
    "x = 5\n",
    "result = intensive_f(x)\n",
    "if result is not None:\n",
    "    print(result / 2)\n",
    "else:\n",
    "    print(x, \"could not be processed\")\n",
    "```"
   ]
  },
  {
   "cell_type": "markdown",
   "metadata": {},
   "source": [
    "However, a clearer and possibly more [pythonic way](https://docs.python.org/3/glossary.html#term-eafp) is to use exceptions, for example:"
   ]
  },
  {
   "cell_type": "markdown",
   "metadata": {},
   "source": [
    "```Python\n",
    "x = 5\n",
    "try:\n",
    "    print(intensive_f(x) / 2)\n",
    "except TypeError: # The exception raised if None + 1 is attempted\n",
    "    print(x, \"could not be processed\")\n",
    "```"
   ]
  },
  {
   "cell_type": "raw",
   "metadata": {},
   "source": [
    "Here no temporary variable is needed. It may often be preferable to use a assert statement, and to catch the\n",
    "AssertionError instead."
   ]
  },
  {
   "cell_type": "markdown",
   "metadata": {},
   "source": [
    "**Dictionary keys**"
   ]
  },
  {
   "cell_type": "raw",
   "metadata": {},
   "source": [
    "A common example of where this may be found is accessing dictionary keys. For example compare:"
   ]
  },
  {
   "cell_type": "markdown",
   "metadata": {},
   "source": [
    "```Python\n",
    "bird_speeds = get_very_long_dictionary()\n",
    "if \"european swallow\" in bird_speeds:\n",
    "    speed = bird_speeds[\"european swallow\"]\n",
    "else:\n",
    "    speed = input(\"What is the air-speed velocity of an unladen swallow?\")\n",
    "print(speed)\n",
    "```"
   ]
  },
  {
   "cell_type": "markdown",
   "metadata": {},
   "source": [
    "```Python\n",
    "bird_speeds = get_very_long_dictionary()\n",
    "try:\n",
    "    speed = bird_speeds[\"european swallow\"]\n",
    "except KeyError:\n",
    "    speed = input(\"What is the air-speed velocity of an unladen swallow?\")\n",
    "print(speed)\n",
    "```"
   ]
  },
  {
   "cell_type": "raw",
   "metadata": {},
   "source": [
    "The first example has to look through the dictionary twice, and as this is a long dictionary, it may take a long time to do so each time. The second only requires one search through the dictionary, and thus saves a lot of processor time."
   ]
  },
  {
   "cell_type": "raw",
   "metadata": {},
   "source": [
    "An alternative to this is to use dict.get(key, default) , however many circumstances may require more complex\n",
    "operations to be done in the case that the key is not present"
   ]
  }
 ],
 "metadata": {
  "kernelspec": {
   "display_name": "Python [default]",
   "language": "python",
   "name": "python3"
  },
  "language_info": {
   "codemirror_mode": {
    "name": "ipython",
    "version": 3
   },
   "file_extension": ".py",
   "mimetype": "text/x-python",
   "name": "python",
   "nbconvert_exporter": "python",
   "pygments_lexer": "ipython3",
   "version": "3.6.3"
  }
 },
 "nbformat": 4,
 "nbformat_minor": 2
}
