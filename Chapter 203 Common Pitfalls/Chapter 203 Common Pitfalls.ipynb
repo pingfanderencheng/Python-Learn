{
 "cells": [
  {
   "cell_type": "raw",
   "metadata": {},
   "source": [
    "Python is a language meant to be clear and readable without any ambiguities and unexpected behaviors. Unfortunately, these goals are not achievable in all cases, and that is why Python does have a few corner cases where it might do something different than what you were expecting."
   ]
  },
  {
   "cell_type": "raw",
   "metadata": {},
   "source": [
    "This section will show you some issues that you might encounter when writing Python code."
   ]
  },
  {
   "cell_type": "markdown",
   "metadata": {},
   "source": [
    "### Section 203.1: List multiplication and common references"
   ]
  },
  {
   "cell_type": "raw",
   "metadata": {},
   "source": [
    "Consider the case of creating a nested list structure by multiplying:"
   ]
  },
  {
   "cell_type": "code",
   "execution_count": 1,
   "metadata": {},
   "outputs": [
    {
     "name": "stdout",
     "output_type": "stream",
     "text": [
      "[[], [], []]\n"
     ]
    }
   ],
   "source": [
    "li = [[]] * 3\n",
    "print(li)\n",
    "# Out: [[], [], []]"
   ]
  },
  {
   "cell_type": "raw",
   "metadata": {},
   "source": [
    "At first glance we would think we have a list of containing 3 different nested lists. Let's try to append 1 to the first one:"
   ]
  },
  {
   "cell_type": "code",
   "execution_count": 2,
   "metadata": {},
   "outputs": [
    {
     "name": "stdout",
     "output_type": "stream",
     "text": [
      "[[1], [1], [1]]\n"
     ]
    }
   ],
   "source": [
    "li[0].append(1)\n",
    "print(li)\n",
    "# Out: [[1], [1], [1]]"
   ]
  },
  {
   "cell_type": "raw",
   "metadata": {},
   "source": [
    "1 got appended to all of the lists in li "
   ]
  },
  {
   "cell_type": "raw",
   "metadata": {},
   "source": [
    "The reason is that [[]] * 3 doesn't create a list of 3 different list s. Rather, it creates a list holding 3 references to the same list object. As such, when we append to li[0] the change is visible in all sub-elements of li . This is equivalent of:"
   ]
  },
  {
   "cell_type": "code",
   "execution_count": 4,
   "metadata": {},
   "outputs": [
    {
     "name": "stdout",
     "output_type": "stream",
     "text": [
      "[[], [], []]\n",
      "[[1], [1], [1]]\n"
     ]
    }
   ],
   "source": [
    "li = []\n",
    "element = [[]]\n",
    "li = element + element + element\n",
    "print(li)\n",
    "# Out: [[], [], []]\n",
    "element[0].append(1)\n",
    "print(li)"
   ]
  },
  {
   "cell_type": "code",
   "execution_count": 5,
   "metadata": {},
   "outputs": [
    {
     "data": {
      "text/plain": [
       "[[1]]"
      ]
     },
     "execution_count": 5,
     "metadata": {},
     "output_type": "execute_result"
    }
   ],
   "source": [
    "element"
   ]
  },
  {
   "cell_type": "raw",
   "metadata": {},
   "source": [
    "This can be further corroborated if we print the memory addresses of the contained list by using id "
   ]
  },
  {
   "cell_type": "code",
   "execution_count": 6,
   "metadata": {},
   "outputs": [
    {
     "name": "stdout",
     "output_type": "stream",
     "text": [
      "[2054790881096, 2054790881096, 2054790881096]\n"
     ]
    }
   ],
   "source": [
    "li = [[]] * 3\n",
    "print([id(inner_list) for inner_list in li])"
   ]
  },
  {
   "cell_type": "raw",
   "metadata": {},
   "source": [
    "The solution is to create the inner lists with a loop:"
   ]
  },
  {
   "cell_type": "code",
   "execution_count": 8,
   "metadata": {},
   "outputs": [],
   "source": [
    "li = [[] for _ in range(3)]"
   ]
  },
  {
   "cell_type": "code",
   "execution_count": 9,
   "metadata": {},
   "outputs": [
    {
     "data": {
      "text/plain": [
       "[[], [], []]"
      ]
     },
     "execution_count": 9,
     "metadata": {},
     "output_type": "execute_result"
    }
   ],
   "source": [
    "li"
   ]
  },
  {
   "cell_type": "raw",
   "metadata": {},
   "source": [
    "Instead of creating a single list and then making 3 references to it, we now create 3 different distinct lists. This, again, can be verified by using the id function:"
   ]
  },
  {
   "cell_type": "code",
   "execution_count": 10,
   "metadata": {},
   "outputs": [
    {
     "name": "stdout",
     "output_type": "stream",
     "text": [
      "[2054789852168, 2054790553096, 2054790879752]\n"
     ]
    }
   ],
   "source": [
    "print([id(inner_list) for inner_list in li])"
   ]
  },
  {
   "cell_type": "raw",
   "metadata": {},
   "source": [
    "You can also do this. It causes a new empty list to be created in each append call."
   ]
  },
  {
   "cell_type": "code",
   "execution_count": 11,
   "metadata": {},
   "outputs": [
    {
     "name": "stdout",
     "output_type": "stream",
     "text": [
      "2054790911624\n",
      "2054790879624\n",
      "2054790880648\n"
     ]
    }
   ],
   "source": [
    "li = []\n",
    "li.append([])\n",
    "li.append([])\n",
    "li.append([])\n",
    "for k in li: print(id(k))"
   ]
  },
  {
   "cell_type": "raw",
   "metadata": {},
   "source": [
    "Don't use index to loop over a sequence."
   ]
  },
  {
   "cell_type": "markdown",
   "metadata": {},
   "source": [
    "**Don't:**"
   ]
  },
  {
   "cell_type": "markdown",
   "metadata": {},
   "source": [
    "```Python\n",
    "for i in range(len(tab)):\n",
    "    print(tab[i])\n",
    "```\n",
    "**Do:**\n",
    "```Python\n",
    "for elem in tab:\n",
    "    print(elem)\n",
    "```"
   ]
  },
  {
   "cell_type": "raw",
   "metadata": {},
   "source": [
    "for will automate most iteration operations for you."
   ]
  },
  {
   "cell_type": "markdown",
   "metadata": {},
   "source": [
    "**Use enumerate if you really need both the index and the element.**"
   ]
  },
  {
   "cell_type": "markdown",
   "metadata": {},
   "source": [
    "```Python\n",
    "for i, elem in enumerate(tab):\n",
    "    print((i, elem))\n",
    "````"
   ]
  },
  {
   "cell_type": "markdown",
   "metadata": {},
   "source": [
    "**Be careful when using \"==\" to check against True or False**\n",
    "```Python\n",
    "if (var == True):\n",
    "    # this will execute if var is True or 1, 1.0, 1L\n",
    "if (var != True):\n",
    "    # this will execute if var is neither True nor 1\n",
    "if (var == False):\n",
    "    # this will execute if var is False or 0 (or 0.0, 0L, 0j)\n",
    "if (var == None):\n",
    "    # only execute if var is None\n",
    "if var:\n",
    "    # execute if var is a non-empty string/list/dictionary/tuple, non-0, etc\n",
    "if not var:\n",
    "    # execute if var is \"\", {}, [], (), 0, None, etc.\n",
    "if var is True:\n",
    "    # only execute if var is boolean True, not 1\n",
    "if var is False:\n",
    "    # only execute if var is boolean False, not 0\n",
    "if var is None:\n",
    "    # same as var == None\n",
    "````"
   ]
  },
  {
   "cell_type": "markdown",
   "metadata": {},
   "source": [
    "**Do not check if you can, just do it and handle the error**\n",
    "\n",
    "Pythonistas usually say \"It's easier to ask for forgiveness than permission\".\n",
    "\n",
    "**Don't:**\n",
    "```Python\n",
    "if os.path.isfile(file_path):\n",
    "    file = open(file_path)\n",
    "else:\n",
    "    # do something\n",
    "```\n",
    "**Do:**\n",
    "```Python\n",
    "try:\n",
    "    file = open(file_path)\n",
    "except OSError as e:\n",
    "    # do something\n",
    "```\n",
    "**Or even better with Python 2.6+ :**\n",
    "```Python\n",
    "with open(file_path) as file:\n",
    "```\n",
    "It is much better because it is much more generic. You can apply try/except to almost anything. You don't need to\n",
    "care about what to do to prevent it, just care about the error you are risking."
   ]
  },
  {
   "cell_type": "markdown",
   "metadata": {},
   "source": [
    "**Do not check against type**\n",
    "\n",
    "Python is dynamically typed, therefore checking for type makes you lose flexibility. Instead, use duck typing by\n",
    "checking behavior. If you expect a string in a function, then use str() to convert any object to a string. If you expect\n",
    "a list, use list() to convert any iterable to a list.\n",
    "\n",
    "**Don't:**\n",
    "```Python\n",
    "def foo(name):\n",
    "    if isinstance(name, str):\n",
    "        print(name.lower())\n",
    "def bar(listing):\n",
    "    if isinstance(listing, list):\n",
    "        listing.extend((1, 2, 3))\n",
    "        return \", \".join(listing)\n",
    "```\n",
    "**Do:**\n",
    "```Python\n",
    "def foo(name) :\n",
    "    print(str(name).lower())\n",
    "def bar(listing) :\n",
    "    l = list(listing)\n",
    "    l.extend((1, 2, 3))\n",
    "    return \", \".join(l)\n",
    "```\n",
    "\n",
    "Using the last way, foo will accept any object. bar will accept strings, tuples, sets, lists and much more. Cheap DRY."
   ]
  },
  {
   "cell_type": "markdown",
   "metadata": {},
   "source": [
    "**Don't mix spaces and tabs**\n",
    "\n",
    "**Use object as first parent**\n",
    "\n",
    "This is tricky, but it will bite you as your program grows. There are old and new classes in Python 2.x . The old ones\n",
    "are, well, old. They lack some features, and can have awkward behavior with inheritance. To be usable, any of your\n",
    "class must be of the \"new style\". To do so, make it inherit from object\n",
    "\n",
    "**Don't:**\n",
    "```Python\n",
    "class Father:\n",
    "    pass\n",
    "class Child(Father):\n",
    "    pass\n",
    "```\n",
    "**Do:**\n",
    "```Python\n",
    "class Father(object):\n",
    "    pass\n",
    "class Child(Father):\n",
    "    pass\n",
    "```\n",
    "In Python 3.x all classes are new style so you don't need to do that."
   ]
  },
  {
   "cell_type": "markdown",
   "metadata": {},
   "source": [
    "**Don't initialize class attributes outside the init method**\n",
    "People coming from other languages find it tempting because that is what you do in Java or PHP. You write the class\n",
    "name, then list your attributes and give them a default value. It seems to work in Python, however, this doesn't\n",
    "work the way you think. Doing that will setup class attributes (static attributes), then when you will try to get the\n",
    "object attribute, it will gives you its value unless it's empty. In that case it will return the class attributes. It implies\n",
    "two big hazards:\n",
    "    \n",
    "1. If the class attribute is changed, then the initial value is changed.\n",
    "2. If you set a mutable object as a default value, you'll get the same object shared across instances."
   ]
  },
  {
   "cell_type": "markdown",
   "metadata": {},
   "source": [
    "**Don't (unless you want static):**\n",
    "```Python\n",
    "class Car(object):\n",
    "    color = \"red\"\n",
    "    wheels = [Wheel(), Wheel(), Wheel(), Wheel()]\n",
    "```\n",
    "**Do :**\n",
    "```Python\n",
    "class Car(object):\n",
    "    def __init__(self):\n",
    "        self.color = \"red\"\n",
    "        self.wheels = [Wheel(), Wheel(), Wheel(), Wheel()]\n",
    "```"
   ]
  },
  {
   "cell_type": "markdown",
   "metadata": {},
   "source": [
    "### Section 203.2: Mutable default argument"
   ]
  },
  {
   "cell_type": "code",
   "execution_count": 13,
   "metadata": {},
   "outputs": [
    {
     "name": "stdout",
     "output_type": "stream",
     "text": [
      "[2, 1]\n",
      "[3, 1]\n"
     ]
    }
   ],
   "source": [
    "def foo(li=[]):\n",
    "    li.append(1)\n",
    "    print(li)\n",
    "foo([2])\n",
    "# Out: [2, 1]\n",
    "foo([3])\n",
    "# Out: [3, 1]"
   ]
  },
  {
   "cell_type": "raw",
   "metadata": {},
   "source": [
    "This code behaves as expected, but what if we don't pass an argument?"
   ]
  },
  {
   "cell_type": "code",
   "execution_count": 14,
   "metadata": {},
   "outputs": [
    {
     "name": "stdout",
     "output_type": "stream",
     "text": [
      "[1]\n",
      "[1, 1]\n"
     ]
    }
   ],
   "source": [
    "foo()\n",
    "# Out: [1] As expected...\n",
    "foo()"
   ]
  },
  {
   "cell_type": "raw",
   "metadata": {},
   "source": [
    "This is because default arguments of functions and methods are evaluated at definition time rather than run time.\n",
    "So we only ever have a single instance of the li list."
   ]
  },
  {
   "cell_type": "raw",
   "metadata": {},
   "source": [
    "The way to get around it is to use only immutable types for default arguments:"
   ]
  },
  {
   "cell_type": "code",
   "execution_count": 15,
   "metadata": {},
   "outputs": [
    {
     "name": "stdout",
     "output_type": "stream",
     "text": [
      "[1]\n",
      "[1]\n"
     ]
    }
   ],
   "source": [
    "def foo(li=None):\n",
    "    if not li:\n",
    "        li = []\n",
    "    li.append(1)\n",
    "    print(li)\n",
    "foo()\n",
    "foo()"
   ]
  },
  {
   "cell_type": "markdown",
   "metadata": {},
   "source": [
    "While an improvement and although if not li correctly evaluates to False , many other objects do as well, such as zero-length sequences. The following example arguments can cause unintended results:"
   ]
  },
  {
   "cell_type": "code",
   "execution_count": 16,
   "metadata": {},
   "outputs": [
    {
     "name": "stdout",
     "output_type": "stream",
     "text": [
      "[1]\n",
      "[1]\n",
      "[1]\n"
     ]
    }
   ],
   "source": [
    "x = []\n",
    "foo(li=x)\n",
    "# Out: [1]\n",
    "foo(li=\"\")\n",
    "# Out: [1]\n",
    "foo(li=0)\n",
    "# Out: [1]"
   ]
  },
  {
   "cell_type": "raw",
   "metadata": {},
   "source": [
    "The idiomatic approach is to directly check the argument against the None object:"
   ]
  },
  {
   "cell_type": "code",
   "execution_count": 17,
   "metadata": {},
   "outputs": [
    {
     "name": "stdout",
     "output_type": "stream",
     "text": [
      "[1]\n"
     ]
    }
   ],
   "source": [
    "def foo(li=None):\n",
    "    if li is None:\n",
    "        li = []\n",
    "    li.append(1)\n",
    "    print(li)\n",
    "foo()\n",
    "# Out: [1]"
   ]
  },
  {
   "cell_type": "markdown",
   "metadata": {},
   "source": [
    "### Section 203.3: Changing the sequence you are iterating over"
   ]
  },
  {
   "cell_type": "raw",
   "metadata": {},
   "source": [
    "A for loop iterates over a sequence, so altering this sequence inside the loop could lead to unexpected results (especially when adding or removing elements):"
   ]
  },
  {
   "cell_type": "code",
   "execution_count": 18,
   "metadata": {},
   "outputs": [
    {
     "name": "stdout",
     "output_type": "stream",
     "text": [
      "[1]\n"
     ]
    }
   ],
   "source": [
    "alist = [0, 1, 2]\n",
    "for index, value in enumerate(alist):\n",
    "    alist.pop(index)\n",
    "print(alist)"
   ]
  },
  {
   "cell_type": "raw",
   "metadata": {},
   "source": [
    "Note: list.pop() is being used to remove elements from the list."
   ]
  },
  {
   "cell_type": "raw",
   "metadata": {},
   "source": [
    "The second element was not deleted because the iteration goes through the indices in order. The above loop\n",
    "iterates twice, with the following results:"
   ]
  },
  {
   "cell_type": "code",
   "execution_count": 19,
   "metadata": {},
   "outputs": [],
   "source": [
    "# Iteration #1\n",
    "index = 0\n",
    "alist = [0, 1, 2]\n",
    "alist.pop(0) # removes '0'\n",
    "# Iteration #2\n",
    "index = 1\n",
    "alist = [1, 2]\n",
    "alist.pop(1) # removes '2'\n",
    "# loop terminates, but alist is not empty:\n",
    "alist = [1]"
   ]
  },
  {
   "cell_type": "raw",
   "metadata": {},
   "source": [
    "This problem arises because the indices are changing while iterating in the direction of increasing index. To avoid\n",
    "this problem, you can iterate through the loop backwards:"
   ]
  },
  {
   "cell_type": "code",
   "execution_count": 20,
   "metadata": {},
   "outputs": [
    {
     "name": "stdout",
     "output_type": "stream",
     "text": [
      "[1, 3, 5, 7]\n"
     ]
    }
   ],
   "source": [
    "alist = [1,2,3,4,5,6,7]\n",
    "for index, item in reversed(list(enumerate(alist))):\n",
    "# delete all even items\n",
    "    if item % 2 == 0:\n",
    "        alist.pop(index)\n",
    "print(alist)"
   ]
  },
  {
   "cell_type": "raw",
   "metadata": {},
   "source": [
    "By iterating through the loop starting at the end, as items are removed (or added), it does not affect the indices of\n",
    "items earlier in the list. So this example will properly remove all items that are even from alist ."
   ]
  },
  {
   "cell_type": "markdown",
   "metadata": {},
   "source": [
    "A similar problem arises when **inserting or appending elements to a list that you are iterating over**, which can\n",
    "result in an infinite loop:"
   ]
  },
  {
   "cell_type": "code",
   "execution_count": 22,
   "metadata": {},
   "outputs": [
    {
     "name": "stdout",
     "output_type": "stream",
     "text": [
      "['a', 'a', 'a', 'a', 'a', 'a', 'a', 'a', 'a', 'a', 'a', 'a', 'a', 'a', 'a', 'a', 'a', 'a', 'a', 'a', 0, 1, 2]\n"
     ]
    }
   ],
   "source": [
    "alist = [0, 1, 2]\n",
    "for index, value in enumerate(alist):\n",
    "    # break to avoid infinite loop:\n",
    "    if index == 20:\n",
    "        break\n",
    "    alist.insert(index, 'a')\n",
    "print(alist)"
   ]
  },
  {
   "cell_type": "raw",
   "metadata": {},
   "source": [
    "Without the break condition the loop would insert 'a' as long as the computer does not run out of memory and the program is allowed to continue. In a situation like this, it is usually preferred to create a new list, and add items to the new list as you loop through the original list."
   ]
  },
  {
   "cell_type": "markdown",
   "metadata": {},
   "source": [
    "When using a for loop, **you cannot modify the list elements with the placeholder variable:**"
   ]
  },
  {
   "cell_type": "code",
   "execution_count": 23,
   "metadata": {},
   "outputs": [
    {
     "name": "stdout",
     "output_type": "stream",
     "text": [
      "[1, 2, 3, 4]\n"
     ]
    }
   ],
   "source": [
    "alist = [1,2,3,4]\n",
    "for item in alist:\n",
    "    if item % 2 == 0:\n",
    "        item = 'even'\n",
    "print(alist)\n",
    "# Out: [1,2,3,4]"
   ]
  },
  {
   "cell_type": "markdown",
   "metadata": {},
   "source": [
    "In the above example, **changing item doesn't actually change anything in the original list.** You need to use the\n",
    "list index ( alist[2] ), and enumerate() works well for this:"
   ]
  },
  {
   "cell_type": "code",
   "execution_count": 24,
   "metadata": {},
   "outputs": [
    {
     "name": "stdout",
     "output_type": "stream",
     "text": [
      "[1, 'even', 3, 'even']\n"
     ]
    }
   ],
   "source": [
    "alist = [1,2,3,4]\n",
    "for index, item in enumerate(alist):\n",
    "    if item % 2 == 0:\n",
    "        alist[index] = 'even'\n",
    "print(alist)\n",
    "# Out: [1, 'even', 3, 'even']"
   ]
  },
  {
   "cell_type": "raw",
   "metadata": {},
   "source": [
    "A while loop might be a better choice in some cases:"
   ]
  },
  {
   "cell_type": "raw",
   "metadata": {},
   "source": [
    "If you are going to delete all the items in the list:"
   ]
  },
  {
   "cell_type": "code",
   "execution_count": 25,
   "metadata": {},
   "outputs": [
    {
     "name": "stdout",
     "output_type": "stream",
     "text": [
      "0\n",
      "1\n",
      "2\n",
      "After: zlist = []\n"
     ]
    }
   ],
   "source": [
    "zlist = [0, 1, 2]\n",
    "while zlist:\n",
    "    print(zlist[0])\n",
    "    zlist.pop(0)\n",
    "print('After: zlist =', zlist)"
   ]
  },
  {
   "cell_type": "raw",
   "metadata": {},
   "source": [
    "Although simply resetting zlist will accomplish the same result;"
   ]
  },
  {
   "cell_type": "code",
   "execution_count": 26,
   "metadata": {},
   "outputs": [],
   "source": [
    "zlist = []"
   ]
  },
  {
   "cell_type": "raw",
   "metadata": {},
   "source": [
    "The above example can also be combined with len() to stop after a certain point, or to delete all but x items in the list:"
   ]
  },
  {
   "cell_type": "code",
   "execution_count": 27,
   "metadata": {},
   "outputs": [
    {
     "name": "stdout",
     "output_type": "stream",
     "text": [
      "0\n",
      "1\n",
      "After: zlist = [2]\n"
     ]
    }
   ],
   "source": [
    "zlist = [0, 1, 2]\n",
    "x = 1\n",
    "while len(zlist) > x:\n",
    "    print(zlist[0])\n",
    "    zlist.pop(0)\n",
    "print('After: zlist =', zlist)"
   ]
  },
  {
   "cell_type": "markdown",
   "metadata": {},
   "source": [
    "Or to **loop through a list while deleting elements that meet a certain condition** (in this case deleting all even elements):"
   ]
  },
  {
   "cell_type": "code",
   "execution_count": 28,
   "metadata": {},
   "outputs": [
    {
     "name": "stdout",
     "output_type": "stream",
     "text": [
      "[1, 3, 5]\n"
     ]
    }
   ],
   "source": [
    "zlist = [1,2,3,4,5]\n",
    "i = 0\n",
    "while i < len(zlist):\n",
    "    if zlist[i] % 2 == 0:\n",
    "        zlist.pop(i)\n",
    "    else:\n",
    "        i += 1\n",
    "print(zlist)"
   ]
  },
  {
   "cell_type": "raw",
   "metadata": {},
   "source": [
    "Notice that you don't increment i after deleting an element. By deleting the element at zlist[i] , the index of the\n",
    "next item has decreased by one, so by checking zlist[i] with the same value for i on the next iteration, you will\n",
    "be correctly checking the next item in the list."
   ]
  },
  {
   "cell_type": "raw",
   "metadata": {},
   "source": [
    "A contrary way to think about removing unwanted items from a list, is to add wanted items to a new list. The\n",
    "following example is an alternative to the latter while loop example:"
   ]
  },
  {
   "cell_type": "code",
   "execution_count": 29,
   "metadata": {},
   "outputs": [
    {
     "name": "stdout",
     "output_type": "stream",
     "text": [
      "[1, 3, 5]\n"
     ]
    }
   ],
   "source": [
    "zlist = [1,2,3,4,5]\n",
    "z_temp = []\n",
    "for item in zlist:\n",
    "    if item % 2 != 0:\n",
    "        z_temp.append(item)\n",
    "zlist = z_temp\n",
    "print(zlist)\n",
    "# Out: [1, 3, 5]"
   ]
  },
  {
   "cell_type": "raw",
   "metadata": {},
   "source": [
    "Here we are funneling desired results into a new list. We can then optionally reassign the temporary list to the\n",
    "original variable."
   ]
  },
  {
   "cell_type": "raw",
   "metadata": {},
   "source": [
    "With this trend of thinking, you can invoke one of Python's most elegant and powerful features, list comprehensions, which eliminates temporary lists and diverges from the previously discussed in-place list/index mutation ideology."
   ]
  },
  {
   "cell_type": "code",
   "execution_count": 30,
   "metadata": {},
   "outputs": [
    {
     "data": {
      "text/plain": [
       "[1, 3, 5]"
      ]
     },
     "execution_count": 30,
     "metadata": {},
     "output_type": "execute_result"
    }
   ],
   "source": [
    "zlist = [1,2,3,4,5]\n",
    "[item for item in zlist if item % 2 != 0]"
   ]
  },
  {
   "cell_type": "markdown",
   "metadata": {},
   "source": [
    "### Section 203.4: Integer and String identity"
   ]
  },
  {
   "cell_type": "raw",
   "metadata": {},
   "source": [
    "Python uses internal caching for a range of integers to reduce unnecessary overhead from their repeated creation."
   ]
  },
  {
   "cell_type": "raw",
   "metadata": {},
   "source": [
    "In effect, this can lead to confusing behavior when comparing integer identities:"
   ]
  },
  {
   "cell_type": "code",
   "execution_count": 31,
   "metadata": {},
   "outputs": [
    {
     "data": {
      "text/plain": [
       "False"
      ]
     },
     "execution_count": 31,
     "metadata": {},
     "output_type": "execute_result"
    }
   ],
   "source": [
    "-8 is (-7 - 1)"
   ]
  },
  {
   "cell_type": "code",
   "execution_count": 32,
   "metadata": {},
   "outputs": [
    {
     "data": {
      "text/plain": [
       "True"
      ]
     },
     "execution_count": 32,
     "metadata": {},
     "output_type": "execute_result"
    }
   ],
   "source": [
    "-3 is (-2 - 1)"
   ]
  },
  {
   "cell_type": "raw",
   "metadata": {},
   "source": [
    "and, using another example:"
   ]
  },
  {
   "cell_type": "code",
   "execution_count": 33,
   "metadata": {},
   "outputs": [
    {
     "data": {
      "text/plain": [
       "True"
      ]
     },
     "execution_count": 33,
     "metadata": {},
     "output_type": "execute_result"
    }
   ],
   "source": [
    "(255 + 1) is (255 + 1)"
   ]
  },
  {
   "cell_type": "code",
   "execution_count": 34,
   "metadata": {},
   "outputs": [
    {
     "data": {
      "text/plain": [
       "False"
      ]
     },
     "execution_count": 34,
     "metadata": {},
     "output_type": "execute_result"
    }
   ],
   "source": [
    "(256 + 1) is (256 + 1)"
   ]
  },
  {
   "cell_type": "markdown",
   "metadata": {},
   "source": [
    "Wait what?\n",
    "\n",
    "We can see that the identity operation is yields True for some integers ( -3 , 256 ) but no for others ( -8 , 257 ).\n",
    "To be more specific, integers in the range [-5, 256] are internally cached during interpreter startup and are only\n",
    "created once. As such, they are identical and comparing their identities with is yields True ; integers outside this\n",
    "range are (usually) created on-the-fly and their identities compare to False .\n",
    "\n",
    "This is a common pitfall since this is a common range for testing, but often enough, the code fails in the later\n",
    "staging process (or worse - production) with no apparent reason after working perfectly in development."
   ]
  },
  {
   "cell_type": "raw",
   "metadata": {},
   "source": [
    "The solution is to always compare values using the equality (\n",
    "==\n",
    ") operator and not the identity ( is ) operator."
   ]
  },
  {
   "cell_type": "raw",
   "metadata": {},
   "source": [
    "Python also keeps references to commonly used strings and can result in similarly confusing behavior when\n",
    "comparing identities (i.e. using is ) of strings."
   ]
  },
  {
   "cell_type": "code",
   "execution_count": 35,
   "metadata": {},
   "outputs": [
    {
     "data": {
      "text/plain": [
       "True"
      ]
     },
     "execution_count": 35,
     "metadata": {},
     "output_type": "execute_result"
    }
   ],
   "source": [
    "'python' is 'py' + 'thon'"
   ]
  },
  {
   "cell_type": "raw",
   "metadata": {},
   "source": [
    "The string 'python' is commonly used, so Python has one object that all references to the string 'python' use."
   ]
  },
  {
   "cell_type": "raw",
   "metadata": {},
   "source": [
    "For uncommon strings, comparing identity fails even when the strings are equal."
   ]
  },
  {
   "cell_type": "code",
   "execution_count": 36,
   "metadata": {},
   "outputs": [
    {
     "data": {
      "text/plain": [
       "False"
      ]
     },
     "execution_count": 36,
     "metadata": {},
     "output_type": "execute_result"
    }
   ],
   "source": [
    "'this is not a common string' is 'this is not' + ' a common string'"
   ]
  },
  {
   "cell_type": "code",
   "execution_count": 37,
   "metadata": {},
   "outputs": [
    {
     "data": {
      "text/plain": [
       "True"
      ]
     },
     "execution_count": 37,
     "metadata": {},
     "output_type": "execute_result"
    }
   ],
   "source": [
    "'this is not a common string' == 'this is not' + ' a common string'"
   ]
  },
  {
   "cell_type": "raw",
   "metadata": {},
   "source": [
    "So, just like the rule for Integers, always compare string values using the equality (\n",
    "==\n",
    ") operator and not the identity ( is ) operator."
   ]
  },
  {
   "cell_type": "markdown",
   "metadata": {},
   "source": [
    "### Section 203.5: Dictionaries are unordered"
   ]
  },
  {
   "cell_type": "raw",
   "metadata": {},
   "source": [
    "You might expect a Python dictionary to be sorted by keys like, for example, a C++ std::map , but this is not the case:"
   ]
  },
  {
   "cell_type": "code",
   "execution_count": 38,
   "metadata": {},
   "outputs": [
    {
     "name": "stdout",
     "output_type": "stream",
     "text": [
      "{'first': 1, 'second': 2, 'third': 3}\n",
      "['first', 'second', 'third']\n"
     ]
    }
   ],
   "source": [
    "myDict = {'first': 1, 'second': 2, 'third': 3}\n",
    "print(myDict)\n",
    "# Out: {'first': 1, 'second': 2, 'third': 3}\n",
    "print([k for k in myDict])\n",
    "# Out: ['second', 'third', 'first']"
   ]
  },
  {
   "cell_type": "raw",
   "metadata": {},
   "source": [
    "Python doesn't have any built-in class that automatically sorts its elements by key."
   ]
  },
  {
   "cell_type": "raw",
   "metadata": {},
   "source": [
    "However, if sorting is not a must, and you just want your dictionary to remember the order of insertion of its\n",
    "key/value pairs, you can use collections.OrderedDict :"
   ]
  },
  {
   "cell_type": "code",
   "execution_count": 39,
   "metadata": {},
   "outputs": [
    {
     "name": "stdout",
     "output_type": "stream",
     "text": [
      "['first', 'second', 'third']\n"
     ]
    }
   ],
   "source": [
    "from collections import OrderedDict\n",
    "oDict = OrderedDict([('first', 1), ('second', 2), ('third', 3)])\n",
    "print([k for k in oDict])\n",
    "# Out: ['first', 'second', 'third']"
   ]
  },
  {
   "cell_type": "raw",
   "metadata": {},
   "source": [
    "Keep in mind that initializing an OrderedDict with a standard dictionary won't sort in any way the dictionary for you. All that this structure does is to preserve the order of key insertion."
   ]
  },
  {
   "cell_type": "markdown",
   "metadata": {},
   "source": [
    "The implementation of dictionaries was [changed in Python 3.6](https://docs.python.org/3.6/whatsnew/3.6.html#new-dict-implementation) to improve their memory consumption. A side effect\n",
    "of this new implementation is that it also preserves the order of keyword arguments passed to a function:"
   ]
  },
  {
   "cell_type": "code",
   "execution_count": 41,
   "metadata": {},
   "outputs": [
    {
     "name": "stdout",
     "output_type": "stream",
     "text": [
      "dict_keys(['a', 'b', 'c', 'd', 'e'])\n"
     ]
    }
   ],
   "source": [
    "def func(**kw): \n",
    "    print(kw.keys())\n",
    "func(a=1, b=2, c=3, d=4, e=5)"
   ]
  },
  {
   "cell_type": "markdown",
   "metadata": {},
   "source": [
    "> Caveat: beware that [“the order-preserving aspect of this new implementation is considered an implementation\n",
    "detail and should not be relied upon”](https://docs.python.org/3.6/whatsnew/3.6.html#new-dict-implementation), as it may change in the future."
   ]
  },
  {
   "cell_type": "markdown",
   "metadata": {},
   "source": [
    "### Section 203.6: Variable leaking in list comprehensions and for loops"
   ]
  },
  {
   "cell_type": "raw",
   "metadata": {},
   "source": [
    "Consider the following list comprehension"
   ]
  },
  {
   "cell_type": "raw",
   "metadata": {},
   "source": [
    "Python 2.x Version ≤ 2.7"
   ]
  },
  {
   "cell_type": "markdown",
   "metadata": {},
   "source": [
    "```Python\n",
    "i = 0\n",
    "a = [i for i in range(3)]\n",
    "print(i) # Outputs 2\n",
    "```"
   ]
  },
  {
   "cell_type": "markdown",
   "metadata": {},
   "source": [
    "This occurs only in Python 2 due to the fact that the list comprehension “leaks” the loop control variable into the\n",
    "surrounding scope (source). This behavior can lead to hard-to-find bugs and **it has been fixed in Python 3.**"
   ]
  },
  {
   "cell_type": "code",
   "execution_count": 43,
   "metadata": {},
   "outputs": [
    {
     "name": "stdout",
     "output_type": "stream",
     "text": [
      "0\n"
     ]
    }
   ],
   "source": [
    "i = 0\n",
    "a = [i for i in range(3)]\n",
    "print(i) # Outputs 0"
   ]
  },
  {
   "cell_type": "raw",
   "metadata": {},
   "source": [
    "Similarly, for loops have no private scope for their iteration variable"
   ]
  },
  {
   "cell_type": "code",
   "execution_count": 44,
   "metadata": {},
   "outputs": [
    {
     "name": "stdout",
     "output_type": "stream",
     "text": [
      "2\n"
     ]
    }
   ],
   "source": [
    "i = 0\n",
    "for i in range(3):\n",
    "    pass\n",
    "print(i) # Outputs 2"
   ]
  },
  {
   "cell_type": "raw",
   "metadata": {},
   "source": [
    "This type of behavior occurs both in Python 2 and Python 3."
   ]
  },
  {
   "cell_type": "raw",
   "metadata": {},
   "source": [
    "To avoid issues with leaking variables, use new variables in list comprehensions and for loops as appropriate."
   ]
  },
  {
   "cell_type": "markdown",
   "metadata": {},
   "source": [
    "### Section 203.7: Chaining of or operator"
   ]
  },
  {
   "cell_type": "raw",
   "metadata": {},
   "source": [
    "When testing for any of several equality comparisons:"
   ]
  },
  {
   "cell_type": "markdown",
   "metadata": {},
   "source": [
    "```Python\n",
    "if a == 3 or b == 3 or c == 3:\n",
    "```"
   ]
  },
  {
   "cell_type": "raw",
   "metadata": {},
   "source": [
    "it is tempting to abbreviate this to"
   ]
  },
  {
   "cell_type": "markdown",
   "metadata": {},
   "source": [
    "```Python\n",
    "if a or b or c == 3: # Wrong\n",
    "```"
   ]
  },
  {
   "cell_type": "markdown",
   "metadata": {},
   "source": [
    "This is wrong; the or operator has [lower precedence](https://docs.python.org/3/reference/expressions.html#operator-precedence) than =="
   ]
  },
  {
   "cell_type": "raw",
   "metadata": {},
   "source": [
    ", so the expression will be evaluated as if (a) or (b) or (c == 3): . The correct way is explicitly checking all the\n",
    "conditions:"
   ]
  },
  {
   "cell_type": "code",
   "execution_count": null,
   "metadata": {},
   "outputs": [],
   "source": [
    "if a == 3 or b == 3 or c == 3: # Right Way"
   ]
  },
  {
   "cell_type": "raw",
   "metadata": {},
   "source": [
    "Alternately, the built-in any() function may be used in place of chained or operators:"
   ]
  },
  {
   "cell_type": "code",
   "execution_count": null,
   "metadata": {},
   "outputs": [],
   "source": [
    "if any([a == 3, b == 3, c == 3]): # Right"
   ]
  },
  {
   "cell_type": "raw",
   "metadata": {},
   "source": [
    "Or, to make it more efficient:"
   ]
  },
  {
   "cell_type": "code",
   "execution_count": null,
   "metadata": {},
   "outputs": [],
   "source": [
    "if any(x == 3 for x in (a, b, c)): # Right"
   ]
  },
  {
   "cell_type": "raw",
   "metadata": {},
   "source": [
    "Or, to make it shorter:"
   ]
  },
  {
   "cell_type": "code",
   "execution_count": null,
   "metadata": {},
   "outputs": [],
   "source": [
    "if 3 in (a, b, c): # Right"
   ]
  },
  {
   "cell_type": "raw",
   "metadata": {},
   "source": [
    "Here, we use the in operator to test if the value is present in a tuple containing the values we want to compare against."
   ]
  },
  {
   "cell_type": "raw",
   "metadata": {},
   "source": [
    "Similarly, it is incorrect to write"
   ]
  },
  {
   "cell_type": "code",
   "execution_count": null,
   "metadata": {},
   "outputs": [],
   "source": [
    "if a == 1 or 2 or 3:"
   ]
  },
  {
   "cell_type": "raw",
   "metadata": {},
   "source": [
    "which should be written as"
   ]
  },
  {
   "cell_type": "code",
   "execution_count": null,
   "metadata": {},
   "outputs": [],
   "source": [
    "if a in (1, 2, 3):"
   ]
  },
  {
   "cell_type": "markdown",
   "metadata": {},
   "source": [
    "### Section 203.8: sys.argv[0] is the name of the file being executed"
   ]
  },
  {
   "cell_type": "raw",
   "metadata": {},
   "source": [
    "The first element of sys.argv[0] is the name of the python file being executed. The remaining elements are the script arguments."
   ]
  },
  {
   "cell_type": "markdown",
   "metadata": {},
   "source": [
    "```Python\n",
    "# script.py\n",
    "import sys\n",
    "print(sys.argv[0])\n",
    "print(sys.argv)\n",
    "```"
   ]
  },
  {
   "cell_type": "code",
   "execution_count": 2,
   "metadata": {},
   "outputs": [
    {
     "name": "stdout",
     "output_type": "stream",
     "text": [
      "Microsoft Windows [版本 10.0.16299.309]\n",
      "(c) 2017 Microsoft Corporation。保留所有权利。\n",
      "\n",
      "E:\\MyFile\\Jupyter\\Python-Learn\\Chapter 203 Common Pitfalls>python script.py\n",
      "script.py\n",
      "['script.py']\n",
      "\n",
      "E:\\MyFile\\Jupyter\\Python-Learn\\Chapter 203 Common Pitfalls>"
     ]
    }
   ],
   "source": [
    "%%cmd\n",
    "python script.py"
   ]
  },
  {
   "cell_type": "code",
   "execution_count": 3,
   "metadata": {},
   "outputs": [
    {
     "name": "stdout",
     "output_type": "stream",
     "text": [
      "Microsoft Windows [版本 10.0.16299.309]\n",
      "(c) 2017 Microsoft Corporation。保留所有权利。\n",
      "\n",
      "E:\\MyFile\\Jupyter\\Python-Learn\\Chapter 203 Common Pitfalls>python script.py fizz\n",
      "script.py\n",
      "['script.py', 'fizz']\n",
      "\n",
      "E:\\MyFile\\Jupyter\\Python-Learn\\Chapter 203 Common Pitfalls>"
     ]
    }
   ],
   "source": [
    "%%cmd\n",
    "python script.py fizz"
   ]
  },
  {
   "cell_type": "code",
   "execution_count": 4,
   "metadata": {},
   "outputs": [
    {
     "name": "stdout",
     "output_type": "stream",
     "text": [
      "Microsoft Windows [版本 10.0.16299.309]\n",
      "(c) 2017 Microsoft Corporation。保留所有权利。\n",
      "\n",
      "E:\\MyFile\\Jupyter\\Python-Learn\\Chapter 203 Common Pitfalls>python script.py fizz buzz\n",
      "script.py\n",
      "['script.py', 'fizz', 'buzz']\n",
      "\n",
      "E:\\MyFile\\Jupyter\\Python-Learn\\Chapter 203 Common Pitfalls>"
     ]
    }
   ],
   "source": [
    "%%cmd\n",
    "python script.py fizz buzz"
   ]
  },
  {
   "cell_type": "markdown",
   "metadata": {},
   "source": [
    "### Section 203.9: Accessing int literals' attributes"
   ]
  },
  {
   "cell_type": "raw",
   "metadata": {},
   "source": [
    "You might have heard that everything in Python is an object, even literals. This means, for example, 7 is an object as\n",
    "well, which means it has attributes. For example, one of these attributes is the bit_length . It returns the amount of\n",
    "bits needed to represent the value it is called upon."
   ]
  },
  {
   "cell_type": "code",
   "execution_count": 5,
   "metadata": {},
   "outputs": [
    {
     "data": {
      "text/plain": [
       "3"
      ]
     },
     "execution_count": 5,
     "metadata": {},
     "output_type": "execute_result"
    }
   ],
   "source": [
    "x = 7\n",
    "x.bit_length()"
   ]
  },
  {
   "cell_type": "raw",
   "metadata": {},
   "source": [
    "Seeing the above code works, you might intuitively think that 7.bit_length() would work as well, only to find out it\n",
    "raises a SyntaxError . Why? because the interpreter needs to differentiate between an attribute access and a\n",
    "floating number (for example 7.2 or 7.bit_length() ). It can't, and that's why an exception is raised."
   ]
  },
  {
   "cell_type": "raw",
   "metadata": {},
   "source": [
    "There are a few ways to access an int literals' attributes:"
   ]
  },
  {
   "cell_type": "code",
   "execution_count": 6,
   "metadata": {},
   "outputs": [
    {
     "data": {
      "text/plain": [
       "3"
      ]
     },
     "execution_count": 6,
     "metadata": {},
     "output_type": "execute_result"
    }
   ],
   "source": [
    "# parenthesis\n",
    "(7).bit_length()"
   ]
  },
  {
   "cell_type": "code",
   "execution_count": 7,
   "metadata": {},
   "outputs": [
    {
     "data": {
      "text/plain": [
       "3"
      ]
     },
     "execution_count": 7,
     "metadata": {},
     "output_type": "execute_result"
    }
   ],
   "source": [
    "# a space\n",
    "7 .bit_length()"
   ]
  },
  {
   "cell_type": "raw",
   "metadata": {},
   "source": [
    "Using two dots (like this 7..bit_length() ) doesn't work in this case, because that creates a float literal and floats\n",
    "don't have the bit_length() method."
   ]
  },
  {
   "cell_type": "raw",
   "metadata": {},
   "source": [
    "This problem doesn't exist when accessing float literals' attributes since the interperter is \"smart\" enough to know\n",
    "that a float literal can't contain two . , for example:"
   ]
  },
  {
   "cell_type": "code",
   "execution_count": 8,
   "metadata": {},
   "outputs": [
    {
     "data": {
      "text/plain": [
       "(8106479329266893, 1125899906842624)"
      ]
     },
     "execution_count": 8,
     "metadata": {},
     "output_type": "execute_result"
    }
   ],
   "source": [
    "7.2.as_integer_ratio()"
   ]
  },
  {
   "cell_type": "markdown",
   "metadata": {},
   "source": [
    "### Section 203.10: Global Interpreter Lock (GIL) and blocking threads"
   ]
  },
  {
   "cell_type": "markdown",
   "metadata": {},
   "source": [
    "Plenty has been written about [Python's GIL](https://wiki.python.org/moin/GlobalInterpreterLock). It can sometimes cause confusion when dealing with multi-threaded\n",
    "(not to be confused with multiprocess) applications."
   ]
  },
  {
   "cell_type": "code",
   "execution_count": 10,
   "metadata": {},
   "outputs": [
    {
     "name": "stdout",
     "output_type": "stream",
     "text": [
      "About to calculate: 600000!\n",
      "Calculating...\n",
      "Calculated\n"
     ]
    }
   ],
   "source": [
    "import math\n",
    "from threading import Thread\n",
    "def calc_fact(num):\n",
    "    math.factorial(num)\n",
    "num = 600000\n",
    "t = Thread(target=calc_fact, daemon=True, args=[num])\n",
    "print(\"About to calculate: {}!\".format(num))\n",
    "t.start()\n",
    "print(\"Calculating...\")\n",
    "t.join()\n",
    "print(\"Calculated\")"
   ]
  },
  {
   "cell_type": "raw",
   "metadata": {},
   "source": [
    "You would expect to see Calculating... printed out immediately after the thread is started, we wanted the calculation to happen in a new thread after all! But in actuality, you see it get printed after the calculation is complete. That is because the new thread relies on a C function ( math.factorial ) which will lock the GIL while it executes."
   ]
  },
  {
   "cell_type": "raw",
   "metadata": {},
   "source": [
    "There are a couple ways around this. The first is to implement your factorial function in native Python. This will allow the main thread to grab control while you are inside your loop. The downside is that this solution will be a lot slower, since we're not using the C function anymore."
   ]
  },
  {
   "cell_type": "code",
   "execution_count": 11,
   "metadata": {},
   "outputs": [],
   "source": [
    "def calc_fact(num):\n",
    "    \"\"\" A slow version of factorial in native Python \"\"\"\n",
    "    res = 1\n",
    "    while num >= 1:\n",
    "        res = res * num\n",
    "        num -= 1\n",
    "    return res"
   ]
  },
  {
   "cell_type": "code",
   "execution_count": 12,
   "metadata": {},
   "outputs": [
    {
     "name": "stdout",
     "output_type": "stream",
     "text": [
      "About to calculate: 600000!\n",
      "Calculating...\n",
      "Calculated\n"
     ]
    }
   ],
   "source": [
    "t = Thread(target=calc_fact, daemon=True, args=[num])\n",
    "print(\"About to calculate: {}!\".format(num))\n",
    "t.start()\n",
    "print(\"Calculating...\")\n",
    "t.join()\n",
    "print(\"Calculated\")"
   ]
  },
  {
   "cell_type": "raw",
   "metadata": {},
   "source": [
    "You can also sleep for a period of time before starting your execution. Note: this won't actually allow your program\n",
    "to interrupt the computation happening inside the C function, but it will allow your main thread to continue after\n",
    "the spawn, which is what you may expect."
   ]
  },
  {
   "cell_type": "code",
   "execution_count": 15,
   "metadata": {},
   "outputs": [
    {
     "name": "stdout",
     "output_type": "stream",
     "text": [
      "About to calculate: 600000!\n",
      "Calculating...\n",
      "Calculated\n"
     ]
    }
   ],
   "source": [
    "from time import sleep\n",
    "def calc_fact(num):\n",
    "    sleep(0.001)\n",
    "    math.factorial(num)\n",
    "t = Thread(target=calc_fact, daemon=True, args=[num])\n",
    "print(\"About to calculate: {}!\".format(num))\n",
    "t.start()\n",
    "print(\"Calculating...\")\n",
    "t.join()\n",
    "print(\"Calculated\")"
   ]
  },
  {
   "cell_type": "markdown",
   "metadata": {},
   "source": [
    "### Section 203.11: Multiple return"
   ]
  },
  {
   "cell_type": "raw",
   "metadata": {},
   "source": [
    "Function xyz returns two values a and b:"
   ]
  },
  {
   "cell_type": "code",
   "execution_count": 16,
   "metadata": {},
   "outputs": [],
   "source": [
    "def xyz():\n",
    "    return 1, 3"
   ]
  },
  {
   "cell_type": "raw",
   "metadata": {},
   "source": [
    "Code calling xyz stores result into one variable assuming xyz returns only one value:"
   ]
  },
  {
   "cell_type": "code",
   "execution_count": 17,
   "metadata": {},
   "outputs": [],
   "source": [
    "t = xyz()"
   ]
  },
  {
   "cell_type": "code",
   "execution_count": 18,
   "metadata": {},
   "outputs": [
    {
     "data": {
      "text/plain": [
       "(1, 3)"
      ]
     },
     "execution_count": 18,
     "metadata": {},
     "output_type": "execute_result"
    }
   ],
   "source": [
    "t"
   ]
  },
  {
   "cell_type": "markdown",
   "metadata": {},
   "source": [
    "Value of t is actually a tuple (a, b) so any action on t assuming it is not a tuple may fail deep in the code with a an\n",
    "unexpected error about tuples.\n",
    "\n",
    "> TypeError: type tuple doesn't define ... method"
   ]
  },
  {
   "cell_type": "raw",
   "metadata": {},
   "source": [
    "The fix would be to do:"
   ]
  },
  {
   "cell_type": "code",
   "execution_count": 20,
   "metadata": {},
   "outputs": [],
   "source": [
    "a, b = xyz()"
   ]
  },
  {
   "cell_type": "code",
   "execution_count": 22,
   "metadata": {},
   "outputs": [
    {
     "data": {
      "text/plain": [
       "1"
      ]
     },
     "execution_count": 22,
     "metadata": {},
     "output_type": "execute_result"
    }
   ],
   "source": [
    "a"
   ]
  },
  {
   "cell_type": "code",
   "execution_count": 23,
   "metadata": {},
   "outputs": [
    {
     "data": {
      "text/plain": [
       "3"
      ]
     },
     "execution_count": 23,
     "metadata": {},
     "output_type": "execute_result"
    }
   ],
   "source": [
    "b"
   ]
  },
  {
   "cell_type": "raw",
   "metadata": {},
   "source": [
    "Beginners will have trouble finding the reason of this message by only reading the tuple error message !"
   ]
  },
  {
   "cell_type": "markdown",
   "metadata": {},
   "source": [
    "### Section 203.12: Pythonic JSON keys"
   ]
  },
  {
   "cell_type": "code",
   "execution_count": 24,
   "metadata": {},
   "outputs": [],
   "source": [
    "my_var = 'bla';\n",
    "api_key = 'key';\n",
    "params = {\"language\": \"en\", my_var: api_key}"
   ]
  },
  {
   "cell_type": "raw",
   "metadata": {},
   "source": [
    "If you are used to JavaScript, variable evaluation in Python dictionaries won't be what you expect it to be. This\n",
    "statement in JavaScript would result in the params object as follows:"
   ]
  },
  {
   "cell_type": "markdown",
   "metadata": {},
   "source": [
    "```JavaScript\n",
    "{\n",
    "    \"language\": \"en\",\n",
    "    \"my_var\": \"key\"\n",
    "}\n",
    "```"
   ]
  },
  {
   "cell_type": "raw",
   "metadata": {},
   "source": [
    "In Python, however, it would result in the following dictionary:"
   ]
  },
  {
   "cell_type": "markdown",
   "metadata": {},
   "source": [
    "```Python\n",
    "{\n",
    "    \"language\": \"en\",\n",
    "    \"bla\": \"key\"\n",
    "}\n",
    "```"
   ]
  },
  {
   "cell_type": "raw",
   "metadata": {},
   "source": [
    "my_var is evaluated and its value is used as the key."
   ]
  },
  {
   "cell_type": "code",
   "execution_count": null,
   "metadata": {},
   "outputs": [],
   "source": []
  },
  {
   "cell_type": "code",
   "execution_count": null,
   "metadata": {},
   "outputs": [],
   "source": []
  }
 ],
 "metadata": {
  "kernelspec": {
   "display_name": "Python [default]",
   "language": "python",
   "name": "python3"
  },
  "language_info": {
   "codemirror_mode": {
    "name": "ipython",
    "version": 3
   },
   "file_extension": ".py",
   "mimetype": "text/x-python",
   "name": "python",
   "nbconvert_exporter": "python",
   "pygments_lexer": "ipython3",
   "version": "3.6.3"
  }
 },
 "nbformat": 4,
 "nbformat_minor": 2
}
