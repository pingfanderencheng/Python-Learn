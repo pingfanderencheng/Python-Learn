{
 "cells": [
  {
   "cell_type": "code",
   "execution_count": 1,
   "metadata": {},
   "outputs": [
    {
     "name": "stdout",
     "output_type": "stream",
     "text": [
      "This string will be displayed in the output\n"
     ]
    }
   ],
   "source": [
    "print(\"This string will be displayed in the output\")"
   ]
  },
  {
   "cell_type": "code",
   "execution_count": 2,
   "metadata": {},
   "outputs": [
    {
     "name": "stdout",
     "output_type": "stream",
     "text": [
      "You can print \n",
      " escape characters too.\n"
     ]
    }
   ],
   "source": [
    "print(\"You can print \\n escape characters too.\")"
   ]
  },
  {
   "cell_type": "code",
   "execution_count": 3,
   "metadata": {},
   "outputs": [],
   "source": [
    "with open('shoppinglist.txt', 'w') as fileobj:\n",
    "    fileobj.write('tomato\\npasta\\ngarlic')"
   ]
  },
  {
   "cell_type": "code",
   "execution_count": 4,
   "metadata": {},
   "outputs": [
    {
     "name": "stdout",
     "output_type": "stream",
     "text": [
      "['tomato\\n', 'pasta\\n', 'garlic']\n"
     ]
    }
   ],
   "source": [
    "with open('shoppinglist.txt', 'r') as fileobj:\n",
    "    # this method makes a list where each line\n",
    "    # of the file is an element in the list\n",
    "    lines = fileobj.readlines()\n",
    "print(lines)"
   ]
  },
  {
   "cell_type": "code",
   "execution_count": 5,
   "metadata": {},
   "outputs": [
    {
     "name": "stdout",
     "output_type": "stream",
     "text": [
      "['tomato', 'pasta', 'garlic']\n"
     ]
    }
   ],
   "source": [
    "with open('shoppinglist.txt', 'r') as fileobj:\n",
    "    # here we read the whole content into one string:\n",
    "    content = fileobj.read()\n",
    "    # get a list of lines, just like int the previous example:\n",
    "    lines = content.split('\\n')\n",
    "print(lines)"
   ]
  },
  {
   "cell_type": "code",
   "execution_count": 6,
   "metadata": {},
   "outputs": [],
   "source": [
    "with open('shoppinglist.txt', 'r') as fileobj:\n",
    "    # this method reads line by line:\n",
    "    lines = []\n",
    "    for line in fileobj:\n",
    "        lines.append(line.strip())"
   ]
  },
  {
   "cell_type": "code",
   "execution_count": 7,
   "metadata": {},
   "outputs": [
    {
     "data": {
      "text/plain": [
       "['tomato', 'pasta', 'garlic']"
      ]
     },
     "execution_count": 7,
     "metadata": {},
     "output_type": "execute_result"
    }
   ],
   "source": [
    "lines"
   ]
  },
  {
   "cell_type": "code",
   "execution_count": 8,
   "metadata": {},
   "outputs": [
    {
     "name": "stdout",
     "output_type": "stream",
     "text": [
      "We are at 0.\n"
     ]
    }
   ],
   "source": [
    "fileobj = open('shoppinglist.txt', 'r')\n",
    "pos = fileobj.tell()\n",
    "print('We are at %u.' % pos) # We are at 0."
   ]
  },
  {
   "cell_type": "code",
   "execution_count": 9,
   "metadata": {},
   "outputs": [
    {
     "name": "stdout",
     "output_type": "stream",
     "text": [
      "This file was 21 characters long.\n"
     ]
    }
   ],
   "source": [
    "content = fileobj.read()\n",
    "end = fileobj.tell()\n",
    "print('This file was %u characters long.' % end)\n",
    "# This file was 22 characters long.\n",
    "fileobj.close()"
   ]
  },
  {
   "cell_type": "code",
   "execution_count": 10,
   "metadata": {},
   "outputs": [
    {
     "name": "stdout",
     "output_type": "stream",
     "text": [
      "We are at character #7.\n"
     ]
    }
   ],
   "source": [
    "fileobj = open('shoppinglist.txt', 'r')\n",
    "fileobj.seek(7)\n",
    "pos = fileobj.tell()\n",
    "print('We are at character #%u.' % pos)"
   ]
  },
  {
   "cell_type": "code",
   "execution_count": 11,
   "metadata": {},
   "outputs": [
    {
     "name": "stdout",
     "output_type": "stream",
     "text": [
      "\n",
      "pas\n",
      "We are at 11.\n"
     ]
    }
   ],
   "source": [
    "next4 = fileobj.read(4)\n",
    "# what we got?\n",
    "print(next4) # 'cucu'\n",
    "# where we are now?\n",
    "pos = fileobj.tell()\n",
    "print('We are at %u.' % pos) # We are at 11, as we was at 7, and read 4 chars.\n",
    "fileobj.close()"
   ]
  },
  {
   "cell_type": "code",
   "execution_count": 12,
   "metadata": {},
   "outputs": [
    {
     "name": "stdout",
     "output_type": "stream",
     "text": [
      "<class 'str'>\n"
     ]
    }
   ],
   "source": [
    "with open('shoppinglist.txt', 'r') as fileobj:\n",
    "    print(type(fileobj.read()))"
   ]
  },
  {
   "cell_type": "code",
   "execution_count": 13,
   "metadata": {},
   "outputs": [
    {
     "name": "stdout",
     "output_type": "stream",
     "text": [
      "<class 'bytes'>\n"
     ]
    }
   ],
   "source": [
    "with open('shoppinglist.txt', 'rb') as fileobj:\n",
    "    print(type(fileobj.read()))"
   ]
  },
  {
   "cell_type": "raw",
   "metadata": {},
   "source": [
    "Python programs can read from unix pipelines. Here is a simple example how to read from stdin :\n",
    "import sys\n",
    "for line in sys.stdin:\n",
    "print(line)\n",
    "Be aware that sys.stdin is a stream. It means that the for-loop will only terminate when the stream has ended.\n",
    "You can now pipe the output of another program into your python program as follows:\n",
    "$ cat myfile | python myprogram.py\n",
    "In this example cat myfile can be any unix command that outputs to stdout .\n",
    "Alternatively, using the fileinput module can come in handy:\n",
    "import fileinput\n",
    "for line in fileinput.input():\n",
    "process(line)"
   ]
  },
  {
   "cell_type": "code",
   "execution_count": 12,
   "metadata": {},
   "outputs": [
    {
     "name": "stdout",
     "output_type": "stream",
     "text": [
      "songc\n"
     ]
    }
   ],
   "source": [
    "import sys\n",
    "for line in sys.stdin:\n",
    "    print(line)"
   ]
  },
  {
   "cell_type": "code",
   "execution_count": null,
   "metadata": {},
   "outputs": [],
   "source": [
    "import fileinput\n",
    "for line in fileinput.input('shoppinglist.txt'):\n",
    "    print(line)"
   ]
  },
  {
   "cell_type": "code",
   "execution_count": 21,
   "metadata": {},
   "outputs": [],
   "source": [
    "foo = input(\"Put a message here that asks the user for input\")"
   ]
  },
  {
   "cell_type": "code",
   "execution_count": 22,
   "metadata": {},
   "outputs": [
    {
     "data": {
      "text/plain": [
       "'songc'"
      ]
     },
     "execution_count": 22,
     "metadata": {},
     "output_type": "execute_result"
    }
   ],
   "source": [
    "foo"
   ]
  },
  {
   "cell_type": "raw",
   "metadata": {},
   "source": [
    "Python 2.x Version ≥ 2.3\n",
    "raw_input will wait for the user to enter text and then return the result as a string.\n",
    "foo = raw_input(\"Put a message here that asks the user for input\")\n",
    "In the above example foo will store whatever input the user provides.\n",
    "Python 3.x Version ≥ 3.0\n",
    "input will wait for the user to enter text and then return the result as a string.\n",
    "foo = input(\"Put a message here that asks the user for input\")\n",
    "In the above example foo will store whatever input the user provides."
   ]
  },
  {
   "cell_type": "code",
   "execution_count": 1,
   "metadata": {},
   "outputs": [],
   "source": [
    "# def input_number(msg, err_msg=None):\n",
    "#     while True:\n",
    "#         try:\n",
    "#             return float(raw_input(msg))\n",
    "#         except ValueError:\n",
    "#             if err_msg is not None:\n",
    "#                 print(err_msg)\n",
    "def input_number(msg, err_msg=None):\n",
    "    while True:\n",
    "        try:\n",
    "            return float(input(msg))\n",
    "        except ValueError:\n",
    "            if err_msg is not None:\n",
    "                print(err_msg)"
   ]
  },
  {
   "cell_type": "code",
   "execution_count": 3,
   "metadata": {},
   "outputs": [
    {
     "name": "stdout",
     "output_type": "stream",
     "text": [
      "that's not a number!\n"
     ]
    }
   ],
   "source": [
    "user_number = input_number(\"input a number: \", \"that's not a number!\")"
   ]
  },
  {
   "cell_type": "code",
   "execution_count": 4,
   "metadata": {},
   "outputs": [
    {
     "data": {
      "text/plain": [
       "123.0"
      ]
     },
     "execution_count": 4,
     "metadata": {},
     "output_type": "execute_result"
    }
   ],
   "source": [
    "user_number"
   ]
  },
  {
   "cell_type": "code",
   "execution_count": 5,
   "metadata": {},
   "outputs": [],
   "source": [
    "user_number = input_number(\"input a number: \")"
   ]
  },
  {
   "cell_type": "code",
   "execution_count": 6,
   "metadata": {},
   "outputs": [
    {
     "data": {
      "text/plain": [
       "1234.0"
      ]
     },
     "execution_count": 6,
     "metadata": {},
     "output_type": "execute_result"
    }
   ],
   "source": [
    "user_number"
   ]
  },
  {
   "cell_type": "raw",
   "metadata": {},
   "source": [
    "Python 2.x Version ≥ 2.3\n",
    "In Python 2.x, to continue a line with print , end the print statement with a comma. It will automatically add a\n",
    "space.\n",
    "print \"Hello,\",\n",
    "print \"World!\"\n",
    "# Hello, World!"
   ]
  },
  {
   "cell_type": "raw",
   "metadata": {},
   "source": [
    "Python 3.x Version ≥ 3.0\n",
    "In Python 3.x, the print function has an optional end parameter that is what it prints at the end of the given string.\n",
    "By default it's a newline character, so equivalent to this:"
   ]
  },
  {
   "cell_type": "code",
   "execution_count": 7,
   "metadata": {},
   "outputs": [
    {
     "name": "stdout",
     "output_type": "stream",
     "text": [
      "Hello, \n",
      "World!\n"
     ]
    }
   ],
   "source": [
    "print(\"Hello, \", end=\"\\n\")\n",
    "print(\"World!\")"
   ]
  },
  {
   "cell_type": "code",
   "execution_count": 8,
   "metadata": {},
   "outputs": [
    {
     "name": "stdout",
     "output_type": "stream",
     "text": [
      "Hello, World!\n"
     ]
    }
   ],
   "source": [
    "print(\"Hello, \", end=\"\")\n",
    "print(\"World!\")"
   ]
  },
  {
   "cell_type": "code",
   "execution_count": 9,
   "metadata": {},
   "outputs": [
    {
     "name": "stdout",
     "output_type": "stream",
     "text": [
      "Hello, <br>World!\n"
     ]
    }
   ],
   "source": [
    "print(\"Hello, \", end=\"<br>\")\n",
    "print(\"World!\")"
   ]
  },
  {
   "cell_type": "code",
   "execution_count": 10,
   "metadata": {},
   "outputs": [
    {
     "name": "stdout",
     "output_type": "stream",
     "text": [
      "Hello, BREAKWorld!\n"
     ]
    }
   ],
   "source": [
    "print(\"Hello, \", end=\"BREAK\")\n",
    "print(\"World!\")"
   ]
  },
  {
   "cell_type": "code",
   "execution_count": 11,
   "metadata": {},
   "outputs": [
    {
     "name": "stdout",
     "output_type": "stream",
     "text": [
      "Hello, World!"
     ]
    }
   ],
   "source": [
    "import sys\n",
    "sys.stdout.write(\"Hello, \")\n",
    "sys.stdout.write(\"World!\")"
   ]
  },
  {
   "cell_type": "code",
   "execution_count": null,
   "metadata": {},
   "outputs": [],
   "source": []
  }
 ],
 "metadata": {
  "kernelspec": {
   "display_name": "Python [default]",
   "language": "python",
   "name": "python3"
  },
  "language_info": {
   "codemirror_mode": {
    "name": "ipython",
    "version": 3
   },
   "file_extension": ".py",
   "mimetype": "text/x-python",
   "name": "python",
   "nbconvert_exporter": "python",
   "pygments_lexer": "ipython3",
   "version": "3.6.3"
  }
 },
 "nbformat": 4,
 "nbformat_minor": 2
}
