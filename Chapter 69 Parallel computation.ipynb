{
 "cells": [
  {
   "cell_type": "markdown",
   "metadata": {},
   "source": [
    "### Section 69.1: Using the multiprocessing module to parallelise tasks"
   ]
  },
  {
   "cell_type": "code",
   "execution_count": null,
   "metadata": {},
   "outputs": [],
   "source": [
    "import multiprocessing\n",
    "def fib(n):\n",
    "    \"\"\"computing the Fibonacci in an inefficient way\n",
    "    was chosen to slow down the CPU.\"\"\"\n",
    "    if n <= 2:\n",
    "        return 1\n",
    "    else:\n",
    "        return fib(n-1)+fib(n-2)\n",
    "p = multiprocessing.Pool()\n",
    "print(p.map(fib,[38,37,36,35,34,33]))"
   ]
  },
  {
   "cell_type": "markdown",
   "metadata": {},
   "source": [
    "### Section 69.2: Using a C-extension to parallelize tasks"
   ]
  },
  {
   "cell_type": "raw",
   "metadata": {},
   "source": [
    "The idea here is to move the computationally intensive jobs to C (using special macros), independent of Python, and\n",
    "have the C code release the GIL while it's working."
   ]
  },
  {
   "cell_type": "code",
   "execution_count": null,
   "metadata": {},
   "outputs": [],
   "source": [
    "#include \"Python.h\"\n",
    "...\n",
    "PyObject *pyfunc(PyObject *self, PyObject *args) {\n",
    "    ...\n",
    "    Py_BEGIN_ALLOW_THREADS\n",
    "    // Threaded C code\n",
    "    ...\n",
    "    Py_END_ALLOW_THREADS\n",
    "    ...\n",
    "}"
   ]
  },
  {
   "cell_type": "markdown",
   "metadata": {},
   "source": [
    "### Section 69.3: Using Parent and Children scripts to execute code in parallel"
   ]
  },
  {
   "cell_type": "raw",
   "metadata": {},
   "source": [
    "child.py"
   ]
  },
  {
   "cell_type": "code",
   "execution_count": 2,
   "metadata": {},
   "outputs": [
    {
     "name": "stdout",
     "output_type": "stream",
     "text": [
      "starting work\n",
      "work work work work work\n",
      "done working\n"
     ]
    }
   ],
   "source": [
    "import time\n",
    "def main():\n",
    "    print (\"starting work\")\n",
    "    time.sleep(1)\n",
    "    print (\"work work work work work\")\n",
    "    time.sleep(1)\n",
    "    print (\"done working\")\n",
    "if __name__ == '__main__':\n",
    "    main()"
   ]
  },
  {
   "cell_type": "raw",
   "metadata": {},
   "source": [
    "parent.py"
   ]
  },
  {
   "cell_type": "code",
   "execution_count": null,
   "metadata": {},
   "outputs": [],
   "source": [
    "import os\n",
    "def main():\n",
    "    for i in range(5):\n",
    "        os.system(\"python child.py &\")\n",
    "if __name__ == '__main__':\n",
    "    main()"
   ]
  },
  {
   "cell_type": "raw",
   "metadata": {},
   "source": [
    "This is useful for parallel, independent HTTP request/response tasks or Database select/inserts. Command line\n",
    "arguments can be given to the child.py script as well. Synchronization between scripts can be achieved by all\n",
    "scripts regularly checking a separate server (like a Redis instance)."
   ]
  },
  {
   "cell_type": "markdown",
   "metadata": {},
   "source": [
    "### Section 69.4: Using PyPar module to parallelize"
   ]
  },
  {
   "cell_type": "code",
   "execution_count": 5,
   "metadata": {},
   "outputs": [
    {
     "ename": "AttributeError",
     "evalue": "module 'ipyparallel' has no attribute 'size'",
     "output_type": "error",
     "traceback": [
      "\u001b[1;31m---------------------------------------------------------------------------\u001b[0m",
      "\u001b[1;31mAttributeError\u001b[0m                            Traceback (most recent call last)",
      "\u001b[1;32m<ipython-input-5-2c81053d5392>\u001b[0m in \u001b[0;36m<module>\u001b[1;34m()\u001b[0m\n\u001b[0;32m      1\u001b[0m \u001b[1;32mimport\u001b[0m \u001b[0mipyparallel\u001b[0m \u001b[1;32mas\u001b[0m \u001b[0mpp\u001b[0m\u001b[1;33m\u001b[0m\u001b[0m\n\u001b[1;32m----> 2\u001b[1;33m \u001b[0mncpus\u001b[0m \u001b[1;33m=\u001b[0m \u001b[0mpp\u001b[0m\u001b[1;33m.\u001b[0m\u001b[0msize\u001b[0m\u001b[1;33m(\u001b[0m\u001b[1;33m)\u001b[0m\u001b[1;33m\u001b[0m\u001b[0m\n\u001b[0m\u001b[0;32m      3\u001b[0m \u001b[0mrank\u001b[0m \u001b[1;33m=\u001b[0m \u001b[0mpp\u001b[0m\u001b[1;33m.\u001b[0m\u001b[0mrank\u001b[0m\u001b[1;33m(\u001b[0m\u001b[1;33m)\u001b[0m\u001b[1;33m\u001b[0m\u001b[0m\n\u001b[0;32m      4\u001b[0m \u001b[0mnode\u001b[0m \u001b[1;33m=\u001b[0m \u001b[0mpp\u001b[0m\u001b[1;33m.\u001b[0m\u001b[0mget_processor_name\u001b[0m\u001b[1;33m(\u001b[0m\u001b[1;33m)\u001b[0m\u001b[1;33m\u001b[0m\u001b[0m\n\u001b[0;32m      5\u001b[0m \u001b[0mprint\u001b[0m \u001b[1;33m(\u001b[0m\u001b[1;34m'I am rank %d of %d on node %s'\u001b[0m \u001b[1;33m%\u001b[0m \u001b[1;33m(\u001b[0m\u001b[0mrank\u001b[0m\u001b[1;33m,\u001b[0m \u001b[0mncpus\u001b[0m\u001b[1;33m,\u001b[0m \u001b[0mnode\u001b[0m\u001b[1;33m)\u001b[0m\u001b[1;33m)\u001b[0m\u001b[1;33m\u001b[0m\u001b[0m\n",
      "\u001b[1;31mAttributeError\u001b[0m: module 'ipyparallel' has no attribute 'size'"
     ]
    }
   ],
   "source": [
    "import pypar as pp\n",
    "ncpus = pp.size()\n",
    "rank = pp.rank()\n",
    "node = pp.get_processor_name()\n",
    "print ('I am rank %d of %d on node %s' % (rank, ncpus, node))"
   ]
  },
  {
   "cell_type": "code",
   "execution_count": null,
   "metadata": {},
   "outputs": [],
   "source": [
    "if rank == 0:\n",
    "    msh = 'P0'\n",
    "    pp.send(msg, destination=1)\n",
    "    msg = pp.receive(source=rank-1)\n",
    "    print （'Processor 0 received message \"%s\" from rank %d' % (msg, rank-1)）\n",
    "else:\n",
    "    source = rank-1\n",
    "    destination = (rank+1) % ncpus\n",
    "    msg = pp.receive(source)\n",
    "    msg = msg + 'P' + str(rank)\n",
    "    pypar.send(msg, destination)\n",
    "pp.finalize()"
   ]
  }
 ],
 "metadata": {
  "kernelspec": {
   "display_name": "Python [default]",
   "language": "python",
   "name": "python3"
  },
  "language_info": {
   "codemirror_mode": {
    "name": "ipython",
    "version": 3
   },
   "file_extension": ".py",
   "mimetype": "text/x-python",
   "name": "python",
   "nbconvert_exporter": "python",
   "pygments_lexer": "ipython3",
   "version": "3.6.3"
  }
 },
 "nbformat": 4,
 "nbformat_minor": 2
}
