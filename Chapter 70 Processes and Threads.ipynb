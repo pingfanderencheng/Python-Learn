{
 "cells": [
  {
   "cell_type": "raw",
   "metadata": {},
   "source": [
    "Most programs are executed line by line, only running a single process at a time. Threads allow multiple processes\n",
    "to flow independent of each other. Threading with multiple processors permits programs to run multiple processes\n",
    "simultaneously. This topic documents the implementation and usage of threads in Python."
   ]
  },
  {
   "cell_type": "markdown",
   "metadata": {},
   "source": [
    "### Section 70.1: Global Interpreter Lock"
   ]
  },
  {
   "cell_type": "raw",
   "metadata": {},
   "source": [
    "Python multithreading performance can often suffer due to the Global Interpreter Lock. In short, even though\n",
    "you can have multiple threads in a Python program, only one bytecode instruction can execute in parallel at any\n",
    "one time, regardless of the number of CPUs."
   ]
  },
  {
   "cell_type": "code",
   "execution_count": 2,
   "metadata": {},
   "outputs": [
    {
     "name": "stdout",
     "output_type": "stream",
     "text": [
      "One run took 2.00s\n",
      "Four runs took 2.00s\n"
     ]
    }
   ],
   "source": [
    "import threading\n",
    "import time\n",
    "def process():\n",
    "    time.sleep(2)\n",
    "start = time.time()\n",
    "process()\n",
    "print(\"One run took %.2fs\" % (time.time() - start))\n",
    "start = time.time()\n",
    "threads = [threading.Thread(target=process) for _ in range(4)]\n",
    "for t in threads:\n",
    "    t.start()\n",
    "for t in threads:\n",
    "    t.join()\n",
    "print(\"Four runs took %.2fs\" % (time.time() - start))"
   ]
  },
  {
   "cell_type": "raw",
   "metadata": {},
   "source": [
    "Note that even though each process took 2 seconds to execute, the four processes together were able to effectively\n",
    "run in parallel, taking 2 seconds total."
   ]
  },
  {
   "cell_type": "raw",
   "metadata": {},
   "source": [
    "However, multithreading in cases where intensive computations are being done in Python code - such as a lot of\n",
    "computation - does not result in much improvement, and can even be slower than running in parallel:"
   ]
  },
  {
   "cell_type": "code",
   "execution_count": 9,
   "metadata": {},
   "outputs": [
    {
     "name": "stdout",
     "output_type": "stream",
     "text": [
      "One run took 0.03s\n",
      "Four runs took 0.09s\n"
     ]
    }
   ],
   "source": [
    "import threading\n",
    "import time\n",
    "def somefunc(i):\n",
    "    return i * i\n",
    "def otherfunc(m, i):\n",
    "    return m + i\n",
    "def process():\n",
    "    for j in range(100):\n",
    "        result = 0\n",
    "    for i in range(100000):\n",
    "        result = otherfunc(result, somefunc(i))\n",
    "start = time.time()\n",
    "process()\n",
    "print(\"One run took %.2fs\" % (time.time() - start))\n",
    "start = time.time()\n",
    "threads = [threading.Thread(target=process) for _ in range(4)]\n",
    "for t in threads:\n",
    "    t.start()\n",
    "for t in threads:\n",
    "    t.join()\n",
    "print(\"Four runs took %.2fs\" % (time.time() - start))"
   ]
  },
  {
   "cell_type": "raw",
   "metadata": {},
   "source": [
    "In the latter case, multiprocessing can be effective as multiple processes can, of course, execute multiple\n",
    "instructions simultaneously:"
   ]
  },
  {
   "cell_type": "code",
   "execution_count": 10,
   "metadata": {},
   "outputs": [
    {
     "name": "stdout",
     "output_type": "stream",
     "text": [
      "One run took 0.02s\n",
      "Four runs took 0.20s\n"
     ]
    }
   ],
   "source": [
    "import multiprocessing\n",
    "import time\n",
    "def somefunc(i):\n",
    "    return i * i\n",
    "def otherfunc(m, i):\n",
    "    return m + i\n",
    "def process():\n",
    "    for j in range(100):\n",
    "        result = 0\n",
    "    for i in range(100000):\n",
    "        result = otherfunc(result, somefunc(i))\n",
    "start = time.time()\n",
    "process()\n",
    "print(\"One run took %.2fs\" % (time.time() - start))\n",
    "start = time.time()\n",
    "processes = [multiprocessing.Process(target=process) for _ in range(4)]\n",
    "for p in processes:\n",
    "    p.start()\n",
    "for p in processes:\n",
    "    p.join()\n",
    "print(\"Four runs took %.2fs\" % (time.time() - start))"
   ]
  },
  {
   "cell_type": "markdown",
   "metadata": {},
   "source": [
    "### Section 70.2: Running in Multiple Threads"
   ]
  },
  {
   "cell_type": "raw",
   "metadata": {},
   "source": [
    "Use threading.Thread to run a function in another thread."
   ]
  },
  {
   "cell_type": "code",
   "execution_count": 11,
   "metadata": {},
   "outputs": [
    {
     "name": "stdout",
     "output_type": "stream",
     "text": [
      "Pid is 6944, thread id is Thread-18\n",
      "Pid is 6944, thread id is Thread-19\n",
      "Pid is 6944, thread id is Thread-20\n",
      "Pid is 6944, thread id is Thread-21\n"
     ]
    }
   ],
   "source": [
    "import threading\n",
    "import os\n",
    "def process():\n",
    "    print(\"Pid is %s, thread id is %s\" % (os.getpid(), threading.current_thread().name))\n",
    "threads = [threading.Thread(target=process) for _ in range(4)]\n",
    "for t in threads:\n",
    "    t.start()\n",
    "for t in threads:\n",
    "    t.join()"
   ]
  },
  {
   "cell_type": "markdown",
   "metadata": {},
   "source": [
    "### Section 70.3: Running in Multiple Processes"
   ]
  },
  {
   "cell_type": "code",
   "execution_count": 20,
   "metadata": {},
   "outputs": [],
   "source": [
    "import multiprocessing\n",
    "import os\n",
    "def process():\n",
    "    print(\"songc\")\n",
    "    print(\"Pid is %s\" % (os.getpid(),))\n",
    "processes = [multiprocessing.Process(target=process) for _ in range(4)]\n",
    "for p in processes:\n",
    "    p.start()\n",
    "for p in processes:\n",
    "    p.join()"
   ]
  },
  {
   "cell_type": "markdown",
   "metadata": {},
   "source": [
    "### Section 70.4: Sharing State Between Threads"
   ]
  },
  {
   "cell_type": "raw",
   "metadata": {},
   "source": [
    "As all threads are running in the same process, all threads have access to the same data.\n",
    "However, concurrent access to shared data should be protected with a lock to avoid synchronization issues."
   ]
  },
  {
   "cell_type": "code",
   "execution_count": 24,
   "metadata": {},
   "outputs": [
    {
     "name": "stdout",
     "output_type": "stream",
     "text": [
      "Obj has 0 values\n",
      "Obj has 1 valuesObj has 2 valuesObj now has 1 values\n",
      "\n",
      "Obj has 2 valuesObj final result:\n",
      "Obj now has 2 valuesObj now has 3 values\n",
      "\n",
      "{'0': 0, '1': 1, '2': 2, '3': 3}\n",
      "\n",
      "Obj now has 4 values\n",
      "\n"
     ]
    }
   ],
   "source": [
    "import threading\n",
    "obj = {}\n",
    "obj_lock = threading.Lock()\n",
    "def objify(key, val):\n",
    "    print(\"Obj has %d values\" % len(obj))\n",
    "    with obj_lock:\n",
    "        obj[key] = val\n",
    "    print(\"Obj now has %d values\" % len(obj))\n",
    "ts = [threading.Thread(target=objify, args=(str(n), n)) for n in range(4)]\n",
    "for t in ts:\n",
    "    t.start()\n",
    "for t in ts:\n",
    "    t.join()\n",
    "print(\"Obj final result:\")\n",
    "import pprint; pprint.pprint(obj)"
   ]
  },
  {
   "cell_type": "markdown",
   "metadata": {},
   "source": [
    "### Section 70.5: Sharing State Between Processes"
   ]
  },
  {
   "cell_type": "raw",
   "metadata": {},
   "source": [
    "Code running in different processes do not, by default, share the same data. However, the multiprocessing\n",
    "module contains primitives to help share values across multiple processes."
   ]
  },
  {
   "cell_type": "code",
   "execution_count": 25,
   "metadata": {},
   "outputs": [
    {
     "name": "stdout",
     "output_type": "stream",
     "text": [
      "plain_num is 0, shared_num is 0\n"
     ]
    }
   ],
   "source": [
    "import multiprocessing\n",
    "plain_num = 0\n",
    "shared_num = multiprocessing.Value('d', 0)\n",
    "lock = multiprocessing.Lock()\n",
    "def increment():\n",
    "    global plain_num\n",
    "    with lock:\n",
    "        # ordinary variable modifications are not visible across processes\n",
    "        plain_num += 1\n",
    "        # multiprocessing.Value modifications are\n",
    "        shared_num.value += 1\n",
    "ps = [multiprocessing.Process(target=increment) for n in range(4)]\n",
    "for p in ps:\n",
    "    p.start()\n",
    "for p in ps:\n",
    "    p.join()\n",
    "print(\"plain_num is %d, shared_num is %d\" % (plain_num, shared_num.value))"
   ]
  },
  {
   "cell_type": "code",
   "execution_count": null,
   "metadata": {},
   "outputs": [],
   "source": []
  }
 ],
 "metadata": {
  "kernelspec": {
   "display_name": "Python [default]",
   "language": "python",
   "name": "python3"
  },
  "language_info": {
   "codemirror_mode": {
    "name": "ipython",
    "version": 3
   },
   "file_extension": ".py",
   "mimetype": "text/x-python",
   "name": "python",
   "nbconvert_exporter": "python",
   "pygments_lexer": "ipython3",
   "version": "3.6.3"
  }
 },
 "nbformat": 4,
 "nbformat_minor": 2
}
