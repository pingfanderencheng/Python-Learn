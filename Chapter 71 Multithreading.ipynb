{
 "cells": [
  {
   "cell_type": "markdown",
   "metadata": {},
   "source": [
    "### Section 71.1: Basics of multithreading\n",
    "Using the threading module, a new thread of execution may be started by creating a new threading.Thread and\n",
    "assigning it a function to execute:"
   ]
  },
  {
   "cell_type": "code",
   "execution_count": 1,
   "metadata": {},
   "outputs": [],
   "source": [
    "import threading\n",
    "def foo():\n",
    "    print (\"Hello threading!\")\n",
    "my_thread = threading.Thread(target=foo)"
   ]
  },
  {
   "cell_type": "raw",
   "metadata": {},
   "source": [
    "The target parameter references the function (or callable object) to be run. The thread will not begin execution\n",
    "until start is called on the Thread object."
   ]
  },
  {
   "cell_type": "code",
   "execution_count": 2,
   "metadata": {},
   "outputs": [
    {
     "name": "stdout",
     "output_type": "stream",
     "text": [
      "Hello threading!\n"
     ]
    }
   ],
   "source": [
    "my_thread.start()"
   ]
  },
  {
   "cell_type": "raw",
   "metadata": {},
   "source": [
    "Now that my_thread has run and terminated, calling start again will produce a RuntimeError . If you'd like to run\n",
    "your thread as a daemon, passing the daemon=True kwarg, or setting my_thread.daemon to True before calling\n",
    "start() , causes your Thread to run silently in the background as a daemon."
   ]
  },
  {
   "cell_type": "raw",
   "metadata": {},
   "source": [
    "In cases where you split up one big job into several small ones and want to run them concurrently, but need to wait\n",
    "for all of them to finish before continuing, Thread.join() is the method you're looking for."
   ]
  },
  {
   "cell_type": "code",
   "execution_count": null,
   "metadata": {},
   "outputs": [],
   "source": [
    "import requests\n",
    "from threading import Thread\n",
    "from queue import Queue\n",
    "q = Queue(maxsize=20)\n",
    "def put_page_to_q (page_num):\n",
    "    q.put(requests.get('http://some-website.com/page_%s.html' % page_num))        \n",
    "def to_compiles(que):\n",
    "    # magic function that needs all pages before being able to be executed\n",
    "    if not que.full():\n",
    "        raise ValueError\n",
    "    else:\n",
    "        print(\"Done compiling!\")\n",
    "threads = []\n",
    "for page_num in range(20):\n",
    "    t = Thread(target=put_page_to_q, args=(page_num,))\n",
    "    t.start()\n",
    "    threads.append(t)\n",
    "for t in threads:\n",
    "    t.join()\n",
    "to_compiles(q)       "
   ]
  },
  {
   "cell_type": "code",
   "execution_count": 1,
   "metadata": {},
   "outputs": [
    {
     "name": "stdout",
     "output_type": "stream",
     "text": [
      "Hello form ThreadThe main program continues to run in the foreground.\n",
      "\n"
     ]
    }
   ],
   "source": [
    "from threading import Thread\n",
    "import time\n",
    "class Sleepy(Thread):\n",
    "    def run(self):\n",
    "        time.sleep(5)\n",
    "        print(\"Hello form Thread\")\n",
    "if __name__ == \"__main__\":\n",
    "    t = Sleepy()\n",
    "    t.start() # start method automatic call Thread class run method.\n",
    "    # print 'The main program continues to run in foreground.'\n",
    "    t.join()\n",
    "    print(\"The main program continues to run in the foreground.\")"
   ]
  },
  {
   "cell_type": "markdown",
   "metadata": {},
   "source": [
    "### Section 71.2: Communicating between threads"
   ]
  },
  {
   "cell_type": "code",
   "execution_count": 2,
   "metadata": {},
   "outputs": [],
   "source": [
    "from queue import Queue\n",
    "from threading import Thread\n",
    "# create a data producer\n",
    "def producer(output_queue):\n",
    "    while True:\n",
    "        data = 5\n",
    "        output_queue.put(data)\n",
    "# create a consumer\n",
    "def consumer(input_queue):\n",
    "    while True:\n",
    "        # retrieve data (blocking)\n",
    "        data = input_queue.get()\n",
    "        # do something with the data\n",
    "        # indicate data has been consumed\n",
    "        input_queue.task_done()"
   ]
  },
  {
   "cell_type": "code",
   "execution_count": 3,
   "metadata": {},
   "outputs": [],
   "source": [
    "q = Queue()\n",
    "t1 = Thread(target=consumer, args=(q,))\n",
    "t2 = Thread(target=producer, args=(q,))\n",
    "t1.start()\n",
    "t2.start()"
   ]
  },
  {
   "cell_type": "markdown",
   "metadata": {},
   "source": [
    "### Section 71.3: Creating a worker pool"
   ]
  },
  {
   "cell_type": "code",
   "execution_count": 4,
   "metadata": {},
   "outputs": [
    {
     "name": "stdout",
     "output_type": "stream",
     "text": [
      "Echo server running at ('', 15000)\n"
     ]
    },
    {
     "ename": "NameError",
     "evalue": "name 'echo_client' is not defined",
     "output_type": "error",
     "traceback": [
      "\u001b[1;31m---------------------------------------------------------------------------\u001b[0m",
      "\u001b[1;31mNameError\u001b[0m                                 Traceback (most recent call last)",
      "\u001b[1;32m<ipython-input-4-cefa34a8d573>\u001b[0m in \u001b[0;36m<module>\u001b[1;34m()\u001b[0m\n\u001b[0;32m     17\u001b[0m         \u001b[0mclient_sock\u001b[0m\u001b[1;33m,\u001b[0m \u001b[0mclient_addr\u001b[0m \u001b[1;33m=\u001b[0m \u001b[0msock\u001b[0m\u001b[1;33m.\u001b[0m\u001b[0maccept\u001b[0m\u001b[1;33m(\u001b[0m\u001b[1;33m)\u001b[0m\u001b[1;33m\u001b[0m\u001b[0m\n\u001b[0;32m     18\u001b[0m         \u001b[0mq\u001b[0m\u001b[1;33m.\u001b[0m\u001b[0mput\u001b[0m\u001b[1;33m(\u001b[0m\u001b[1;33m(\u001b[0m\u001b[0mclient_sock\u001b[0m\u001b[1;33m,\u001b[0m \u001b[0mclient_addr\u001b[0m\u001b[1;33m)\u001b[0m\u001b[1;33m)\u001b[0m\u001b[1;33m\u001b[0m\u001b[0m\n\u001b[1;32m---> 19\u001b[1;33m \u001b[0mecho_server\u001b[0m\u001b[1;33m(\u001b[0m\u001b[1;33m(\u001b[0m\u001b[1;34m''\u001b[0m\u001b[1;33m,\u001b[0m\u001b[1;36m15000\u001b[0m\u001b[1;33m)\u001b[0m\u001b[1;33m,\u001b[0m \u001b[1;36m128\u001b[0m\u001b[1;33m)\u001b[0m\u001b[1;33m\u001b[0m\u001b[0m\n\u001b[0m",
      "\u001b[1;32m<ipython-input-4-cefa34a8d573>\u001b[0m in \u001b[0;36mecho_server\u001b[1;34m(addr, nworkers)\u001b[0m\n\u001b[0;32m      7\u001b[0m     \u001b[0mq\u001b[0m \u001b[1;33m=\u001b[0m \u001b[0mQueue\u001b[0m\u001b[1;33m(\u001b[0m\u001b[1;33m)\u001b[0m\u001b[1;33m\u001b[0m\u001b[0m\n\u001b[0;32m      8\u001b[0m     \u001b[1;32mfor\u001b[0m \u001b[0mn\u001b[0m \u001b[1;32min\u001b[0m \u001b[0mrange\u001b[0m\u001b[1;33m(\u001b[0m\u001b[0mnworkers\u001b[0m\u001b[1;33m)\u001b[0m\u001b[1;33m:\u001b[0m\u001b[1;33m\u001b[0m\u001b[0m\n\u001b[1;32m----> 9\u001b[1;33m         \u001b[0mt\u001b[0m \u001b[1;33m=\u001b[0m \u001b[0mThread\u001b[0m\u001b[1;33m(\u001b[0m\u001b[0mtarget\u001b[0m\u001b[1;33m=\u001b[0m\u001b[0mecho_client\u001b[0m\u001b[1;33m,\u001b[0m \u001b[0margs\u001b[0m\u001b[1;33m=\u001b[0m\u001b[1;33m(\u001b[0m\u001b[0mq\u001b[0m\u001b[1;33m,\u001b[0m\u001b[1;33m)\u001b[0m\u001b[1;33m)\u001b[0m\u001b[1;33m\u001b[0m\u001b[0m\n\u001b[0m\u001b[0;32m     10\u001b[0m         \u001b[0mt\u001b[0m\u001b[1;33m.\u001b[0m\u001b[0mdaemon\u001b[0m \u001b[1;33m=\u001b[0m \u001b[1;32mTrue\u001b[0m\u001b[1;33m\u001b[0m\u001b[0m\n\u001b[0;32m     11\u001b[0m         \u001b[0mt\u001b[0m\u001b[1;33m.\u001b[0m\u001b[0mstart\u001b[0m\u001b[1;33m(\u001b[0m\u001b[1;33m)\u001b[0m\u001b[1;33m\u001b[0m\u001b[0m\n",
      "\u001b[1;31mNameError\u001b[0m: name 'echo_client' is not defined"
     ]
    }
   ],
   "source": [
    "from socket import socket, AF_INET, SOCK_STREAM\n",
    "from threading import Thread\n",
    "from queue import Queue\n",
    "def echo_server(addr, nworkers):\n",
    "    print('Echo server running at', addr)\n",
    "    # Launch the client workers\n",
    "    q = Queue()\n",
    "    for n in range(nworkers):\n",
    "        t = Thread(target=echo_client, args=(q,))\n",
    "        t.daemon = True\n",
    "        t.start()\n",
    "    # Run the server\n",
    "    sock = socket(AF_INET, SOCK_STREAM)\n",
    "    sock.bind(addr)\n",
    "    sock.listen(5)\n",
    "    while True:\n",
    "        client_sock, client_addr = sock.accept()\n",
    "        q.put((client_sock, client_addr))\n",
    "echo_server(('',15000), 128)"
   ]
  },
  {
   "cell_type": "code",
   "execution_count": null,
   "metadata": {},
   "outputs": [
    {
     "name": "stdout",
     "output_type": "stream",
     "text": [
      "Echo server running at ('', 15000)\n"
     ]
    }
   ],
   "source": [
    "from socket import AF_INET, SOCK_STREAM, socket\n",
    "from concurrent.futures import ThreadPoolExecutor\n",
    "def echo_server(addr):\n",
    "    print('Echo server running at', addr)\n",
    "    pool = ThreadPoolExecutor(128)\n",
    "    sock = socket(AF_INET, SOCK_STREAM)\n",
    "    sock.bind(addr)\n",
    "    sock.listen(5)\n",
    "    while True:\n",
    "        client_sock, client_addr = sock.accept()\n",
    "        pool.submit(echo_client, client_sock, client_addr)\n",
    "echo_server(('',15000))"
   ]
  },
  {
   "cell_type": "markdown",
   "metadata": {},
   "source": [
    "### Section 71.4: Advanced use of multithreads"
   ]
  },
  {
   "cell_type": "code",
   "execution_count": 9,
   "metadata": {},
   "outputs": [],
   "source": [
    "import threading\n",
    "import queue\n",
    "import time\n",
    "import sys\n",
    "import subprocess\n",
    "from backports.shutil_get_terminal_size import get_terminal_size\n",
    "printq = queue.Queue()\n",
    "interrupt = False\n",
    "lines = []\n",
    "def main():\n",
    "    ptt = threading.Thread(target=printer) # Turn the printer on\n",
    "    ptt.daemon = True\n",
    "    ptt.start()\n",
    "    # Stupid example of stuff to print\n",
    "    for i in xrange(1,100):\n",
    "        printq.put(' '.join([str(x) for x in range(1,i)])) # The actual way to send stuffto the printer\n",
    "    time.sleep(.5)\n",
    "def split_line(line, cols):\n",
    "    if len(line) > cols:\n",
    "        new_line = ''\n",
    "        ww = line.split()\n",
    "        i = 0\n",
    "        while len(new_line) <= (cols - len(ww[i]) - 1):\n",
    "            new_line += ww[i] + ' '\n",
    "            i += 1\n",
    "            print (len(new_line))\n",
    "        if new_line == '':\n",
    "            return (line, '')\n",
    "        return (new_line, ' '.join(ww[i:]))\n",
    "    else:\n",
    "        return (line, '')\n",
    "def printer():\n",
    "    while True:\n",
    "        cols, rows = get_terminal_size() # Get the terminal dimensions\n",
    "        msg = '#' + '-' * (cols - 2) + '#\\n' # Create the\n",
    "        try:\n",
    "            new_line = str(printq.get_nowait())\n",
    "            if new_line != '!@#EXIT#@!': # A nice way to turn the printer\n",
    "            # thread out gracefully\n",
    "                lines.append(new_line)\n",
    "                printq.task_done()\n",
    "            else:\n",
    "                printq.task_done()\n",
    "                sys.exit()\n",
    "        except Queue.Empty:\n",
    "            pass\n",
    "        # Build the new message to show and split too long lines\n",
    "        for line in lines:\n",
    "            res = line # The following is to split lines which are\n",
    "            # longer than cols.\n",
    "            while len(res) !=0:\n",
    "                toprint, res = split_line(res, cols)\n",
    "                msg += '\\n' + toprint\n",
    "        # Clear the shell and print the new output\n",
    "        subprocess.check_call('clear') # Keep the shell clean\n",
    "        sys.stdout.write(msg)\n",
    "        sys.stdout.flush()\n",
    "        time.sleep(.5)"
   ]
  },
  {
   "cell_type": "markdown",
   "metadata": {},
   "source": [
    "### Section 71.5: Stoppable Thread with a while Loop"
   ]
  },
  {
   "cell_type": "code",
   "execution_count": 2,
   "metadata": {},
   "outputs": [],
   "source": [
    "import threading\n",
    "import time\n",
    "class StoppableThread(threading.Thread):\n",
    "    \"\"\"Thread class with a stop() method. The thread itself has to check\n",
    "    regularly for the stopped() condition.\"\"\"\n",
    "    def __init__(self):\n",
    "        super(StoppableThread, self).__init__()\n",
    "        self._stop_event = threading.Event()\n",
    "    def stop(self):\n",
    "        self._stop_event.set()\n",
    "    def join(self, *args, **kwargs):\n",
    "        self.stop()\n",
    "        super(StoppableThread,self).join(*args, **kwargs)\n",
    "    def run():\n",
    "        while not self._stop_event.is_set():\n",
    "            print(\"Still running!\")\n",
    "            time.sleep(2)\n",
    "        print(\"stopped!\")"
   ]
  }
 ],
 "metadata": {
  "kernelspec": {
   "display_name": "Python [default]",
   "language": "python",
   "name": "python3"
  },
  "language_info": {
   "codemirror_mode": {
    "name": "ipython",
    "version": 3
   },
   "file_extension": ".py",
   "mimetype": "text/x-python",
   "name": "python",
   "nbconvert_exporter": "python",
   "pygments_lexer": "ipython3",
   "version": "3.6.3"
  }
 },
 "nbformat": 4,
 "nbformat_minor": 2
}
