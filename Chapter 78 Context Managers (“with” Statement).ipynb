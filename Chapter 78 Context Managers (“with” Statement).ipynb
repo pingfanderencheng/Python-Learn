{
 "cells": [
  {
   "cell_type": "raw",
   "metadata": {},
   "source": [
    "While Python's context managers are widely used, few understand the purpose behind their use. These statements,\n",
    "commonly used with reading and writing files, assist the application in conserving system memory and improve\n",
    "resource management by ensuring specific resources are only in use for certain processes. This topic explains and\n",
    "demonstrates the use of Python's context managers."
   ]
  },
  {
   "cell_type": "markdown",
   "metadata": {},
   "source": [
    "### Section 78.1: Introduction to context managers and the with statement"
   ]
  },
  {
   "cell_type": "raw",
   "metadata": {},
   "source": [
    "A context manager is an object that is notified when a context (a block of code) starts and ends. You commonly use\n",
    "one with the with statement. It takes care of the notifying."
   ]
  },
  {
   "cell_type": "raw",
   "metadata": {},
   "source": [
    "For example, file objects are context managers. When a context ends, the file object is closed automatically:"
   ]
  },
  {
   "cell_type": "code",
   "execution_count": 2,
   "metadata": {},
   "outputs": [],
   "source": [
    "filename = \"myfile.txt\"\n",
    "open_file = open(filename)\n",
    "with open_file:\n",
    "    file_contents = open_file.read()"
   ]
  },
  {
   "cell_type": "raw",
   "metadata": {},
   "source": [
    "The above example is usually simplified by using the as keyword:"
   ]
  },
  {
   "cell_type": "code",
   "execution_count": 3,
   "metadata": {},
   "outputs": [],
   "source": [
    "with open(filename) as open_file:\n",
    "    file_contents = open_file.read()"
   ]
  },
  {
   "cell_type": "raw",
   "metadata": {},
   "source": [
    "Anything that ends execution of the block causes the context manager's exit method to be called. This includes\n",
    "exceptions, and can be useful when an error causes you to prematurely exit from an open file or connection.\n",
    "Exiting a script without properly closing files/connections is a bad idea, that may cause data loss or other problems.\n",
    "By using a context manager you can ensure that precautions are always taken to prevent damage or loss in this\n",
    "way. This feature was added in Python 2.5."
   ]
  },
  {
   "cell_type": "markdown",
   "metadata": {},
   "source": [
    "### Section 78.2: Writing your own context manager"
   ]
  },
  {
   "cell_type": "raw",
   "metadata": {},
   "source": [
    "A context manager is any object that implements two magic methods __enter__() and __exit__() (although it can\n",
    "implement other methods as well):"
   ]
  },
  {
   "cell_type": "code",
   "execution_count": 4,
   "metadata": {},
   "outputs": [],
   "source": [
    "class AContextManager():\n",
    "    def __enter__(self):\n",
    "        print(\"Entered\")\n",
    "        # optionally return an object\n",
    "        return \"A-instance\"\n",
    "    def __exit__(self, exc_type, exc_value, traceback):\n",
    "        print(\"Exited\" + (\" (with an exception)\" if exc_type else \"\"))"
   ]
  },
  {
   "cell_type": "raw",
   "metadata": {},
   "source": [
    "If the context exits with an exception, the information about that exception will be passed as a triple exc_type ,\n",
    "exc_value , traceback (these are the same variables as returned by the sys.exc_info() function). If the context\n",
    "exits normally, all three of these arguments will be None "
   ]
  },
  {
   "cell_type": "raw",
   "metadata": {},
   "source": [
    "If an exception occurs and is passed to the __exit__ method, the method can return True in order to suppress the\n",
    "exception, or the exception will be re-raised at the end of the __exit__ function."
   ]
  },
  {
   "cell_type": "code",
   "execution_count": 6,
   "metadata": {},
   "outputs": [
    {
     "name": "stdout",
     "output_type": "stream",
     "text": [
      "Entered\n",
      "a is 'A-instance'\n",
      "Exited\n"
     ]
    }
   ],
   "source": [
    "with AContextManager() as a:\n",
    "    print(\"a is %r\" % a)"
   ]
  },
  {
   "cell_type": "code",
   "execution_count": 7,
   "metadata": {},
   "outputs": [
    {
     "name": "stdout",
     "output_type": "stream",
     "text": [
      "Entered\n",
      "Exited (with an exception)\n"
     ]
    },
    {
     "ename": "TypeError",
     "evalue": "%d format: a number is required, not str",
     "output_type": "error",
     "traceback": [
      "\u001b[1;31m---------------------------------------------------------------------------\u001b[0m",
      "\u001b[1;31mTypeError\u001b[0m                                 Traceback (most recent call last)",
      "\u001b[1;32m<ipython-input-7-5817e7993711>\u001b[0m in \u001b[0;36m<module>\u001b[1;34m()\u001b[0m\n\u001b[0;32m      1\u001b[0m \u001b[1;32mwith\u001b[0m \u001b[0mAContextManager\u001b[0m\u001b[1;33m(\u001b[0m\u001b[1;33m)\u001b[0m \u001b[1;32mas\u001b[0m \u001b[0ma\u001b[0m\u001b[1;33m:\u001b[0m\u001b[1;33m\u001b[0m\u001b[0m\n\u001b[1;32m----> 2\u001b[1;33m     \u001b[0mprint\u001b[0m\u001b[1;33m(\u001b[0m\u001b[1;34m\"a is %d\"\u001b[0m \u001b[1;33m%\u001b[0m \u001b[0ma\u001b[0m\u001b[1;33m)\u001b[0m\u001b[1;33m\u001b[0m\u001b[0m\n\u001b[0m",
      "\u001b[1;31mTypeError\u001b[0m: %d format: a number is required, not str"
     ]
    }
   ],
   "source": [
    "with AContextManager() as a:\n",
    "    print(\"a is %d\" % a)"
   ]
  },
  {
   "cell_type": "raw",
   "metadata": {},
   "source": [
    "Note that in the second example even though an exception occurs in the middle of the body of the with-statement,\n",
    "the __exit__ handler still gets executed, before the exception propagates to the outer scope."
   ]
  },
  {
   "cell_type": "raw",
   "metadata": {},
   "source": [
    "If you only need an __exit__ method, you can return the instance of the context manager:"
   ]
  },
  {
   "cell_type": "code",
   "execution_count": 8,
   "metadata": {},
   "outputs": [],
   "source": [
    "class MyContextManager:\n",
    "    def __enter__(self):\n",
    "        return self\n",
    "    def __exit__(self):\n",
    "        print('something')"
   ]
  },
  {
   "cell_type": "markdown",
   "metadata": {},
   "source": [
    "### Section 78.3: Writing your own contextmanager using generator syntax"
   ]
  },
  {
   "cell_type": "raw",
   "metadata": {},
   "source": [
    "It is also possible to write a context manager using generator syntax thanks to the contextlib.contextmanager decorator:"
   ]
  },
  {
   "cell_type": "code",
   "execution_count": 9,
   "metadata": {},
   "outputs": [
    {
     "name": "stdout",
     "output_type": "stream",
     "text": [
      "Enter\n",
      "Right in the middle with cm = 3\n",
      "Exit\n"
     ]
    }
   ],
   "source": [
    "import contextlib\n",
    "@contextlib.contextmanager\n",
    "def context_manager(num):\n",
    "    print('Enter')\n",
    "    yield num + 1\n",
    "    print('Exit')\n",
    "with context_manager(2) as cm:\n",
    "    # the following instructions are run when the 'yield' point of the context\n",
    "    # manager is reached.\n",
    "    # 'cm' will have the value that was yielded\n",
    "    print('Right in the middle with cm = {}'.format(cm))"
   ]
  },
  {
   "cell_type": "raw",
   "metadata": {},
   "source": [
    "The decorator simplifies the task of writing a context manager by converting a generator into one. Everything\n",
    "before the yield expression becomes the __enter__ method, the value yielded becomes the value returned by the\n",
    "generator (which can be bound to a variable in the with statement), and everything after the yield expression\n",
    "becomes the __exit__ method."
   ]
  },
  {
   "cell_type": "raw",
   "metadata": {},
   "source": [
    "If an exception needs to be handled by the context manager, a try..except..finally -block can be written in the\n",
    "generator and any exception raised in the with -block will be handled by this exception block."
   ]
  },
  {
   "cell_type": "code",
   "execution_count": 10,
   "metadata": {},
   "outputs": [
    {
     "name": "stdout",
     "output_type": "stream",
     "text": [
      "Enter\n",
      "Dividing by cm = 0\n",
      "Caught error\n",
      "Cleaning up\n",
      "Exit\n"
     ]
    }
   ],
   "source": [
    "@contextlib.contextmanager\n",
    "def error_handling_context_manager(num):\n",
    "    print(\"Enter\")\n",
    "    try:\n",
    "        yield num + 1\n",
    "    except ZeroDivisionError:\n",
    "        print(\"Caught error\")\n",
    "    finally:\n",
    "        print(\"Cleaning up\")\n",
    "    print(\"Exit\")\n",
    "with error_handling_context_manager(-1) as cm:\n",
    "    print(\"Dividing by cm = {}\".format(cm))\n",
    "    print(2 / cm)"
   ]
  },
  {
   "cell_type": "markdown",
   "metadata": {},
   "source": [
    "### Section 78.4: Multiple context managers"
   ]
  },
  {
   "cell_type": "raw",
   "metadata": {},
   "source": [
    "You can open several content managers at the same time:"
   ]
  },
  {
   "cell_type": "code",
   "execution_count": null,
   "metadata": {},
   "outputs": [],
   "source": [
    "with open(input_path) as input_file, open(output_path, 'w') as output_file:\n",
    "    # do something with both files.\n",
    "    # e.g. copy the contents of input_file into output_file\n",
    "    for line in input_file:\n",
    "    output_file.write(line + '\\n')"
   ]
  },
  {
   "cell_type": "raw",
   "metadata": {},
   "source": [
    "It has the same effect as nesting context managers:"
   ]
  },
  {
   "cell_type": "code",
   "execution_count": null,
   "metadata": {},
   "outputs": [],
   "source": [
    "with open(input_path) as input_file:\n",
    "    with open(output_path, 'w') as output_file:\n",
    "        for line in input_file:\n",
    "            output_file.write(line + '\\n')"
   ]
  },
  {
   "cell_type": "markdown",
   "metadata": {},
   "source": [
    "### Section 78.5: Assigning to a target"
   ]
  },
  {
   "cell_type": "raw",
   "metadata": {},
   "source": [
    "Many context managers return an object when entered. You can assign that object to a new name in the with statement."
   ]
  },
  {
   "cell_type": "raw",
   "metadata": {},
   "source": [
    "For example, using a database connection in a with statement could give you a cursor object:"
   ]
  },
  {
   "cell_type": "code",
   "execution_count": null,
   "metadata": {},
   "outputs": [],
   "source": [
    "with database_connection as cursor:\n",
    "    cursor.execute(sql_query)"
   ]
  },
  {
   "cell_type": "raw",
   "metadata": {},
   "source": [
    "File objects return themselves, this makes it possible to both open the file object and use it as a context manager in\n",
    "one expression:"
   ]
  },
  {
   "cell_type": "code",
   "execution_count": 12,
   "metadata": {},
   "outputs": [],
   "source": [
    "with open(filename) as open_file:\n",
    "    file_contents = open_file.read()"
   ]
  },
  {
   "cell_type": "markdown",
   "metadata": {},
   "source": [
    "### Section 78.6: Manage Resources"
   ]
  },
  {
   "cell_type": "code",
   "execution_count": 13,
   "metadata": {},
   "outputs": [],
   "source": [
    "class File():\n",
    "    def __init__(self, filename, mode):\n",
    "        self.filename = filename\n",
    "        self.mode = mode\n",
    "    def __enter__(self):\n",
    "        self.open_file = open(self.filename, self.mode)\n",
    "        return self.open_file\n",
    "    def __exit__(self, *args):\n",
    "        self.open_file.close()"
   ]
  },
  {
   "cell_type": "raw",
   "metadata": {},
   "source": [
    "__init__() method sets up the object, in this case setting up the file name and mode to open file. __enter__()\n",
    "opens and returns the file and __exit__() just closes it."
   ]
  },
  {
   "cell_type": "raw",
   "metadata": {},
   "source": [
    "Using these magic methods ( __enter__ , __exit__ ) allows you to implement objects which can be used easily with\n",
    "the with statement."
   ]
  },
  {
   "cell_type": "code",
   "execution_count": 14,
   "metadata": {},
   "outputs": [],
   "source": [
    "for _ in range(10000):\n",
    "    with File('foo.txt', 'w') as f:\n",
    "        f.write('foo')"
   ]
  },
  {
   "cell_type": "code",
   "execution_count": null,
   "metadata": {},
   "outputs": [],
   "source": []
  }
 ],
 "metadata": {
  "kernelspec": {
   "display_name": "Python [default]",
   "language": "python",
   "name": "python3"
  },
  "language_info": {
   "codemirror_mode": {
    "name": "ipython",
    "version": 3
   },
   "file_extension": ".py",
   "mimetype": "text/x-python",
   "name": "python",
   "nbconvert_exporter": "python",
   "pygments_lexer": "ipython3",
   "version": "3.6.3"
  }
 },
 "nbformat": 4,
 "nbformat_minor": 2
}
