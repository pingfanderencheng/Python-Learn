{
 "cells": [
  {
   "cell_type": "markdown",
   "metadata": {},
   "source": [
    "| Parameter | Details |\n",
    "| :----: | :----: |\n",
    "| encoding | The encoding to use, e.g. 'ascii' , 'utf8' , etc... |\n",
    "| errors | The errors mode, e.g. 'replace' to replace bad characters with question marks, 'ignore' to ignore bad characters, etc... |"
   ]
  },
  {
   "cell_type": "markdown",
   "metadata": {},
   "source": [
    "### Section 80.1: Encoding/decoding error handling"
   ]
  },
  {
   "cell_type": "raw",
   "metadata": {},
   "source": [
    ".encode and .decode both have error modes.\n",
    "The default is 'strict' , which raises exceptions on error. Other modes are more forgiving."
   ]
  },
  {
   "cell_type": "code",
   "execution_count": 1,
   "metadata": {},
   "outputs": [
    {
     "data": {
      "text/plain": [
       "b'?13.55'"
      ]
     },
     "execution_count": 1,
     "metadata": {},
     "output_type": "execute_result"
    }
   ],
   "source": [
    "\"£13.55\".encode('ascii', errors='replace')"
   ]
  },
  {
   "cell_type": "code",
   "execution_count": 2,
   "metadata": {},
   "outputs": [
    {
     "data": {
      "text/plain": [
       "b'13.55'"
      ]
     },
     "execution_count": 2,
     "metadata": {},
     "output_type": "execute_result"
    }
   ],
   "source": [
    "\"£13.55\".encode('ascii', errors='ignore')"
   ]
  },
  {
   "cell_type": "code",
   "execution_count": 3,
   "metadata": {},
   "outputs": [
    {
     "data": {
      "text/plain": [
       "b'\\\\N{POUND SIGN}13.55'"
      ]
     },
     "execution_count": 3,
     "metadata": {},
     "output_type": "execute_result"
    }
   ],
   "source": [
    "\"£13.55\".encode('ascii', errors='namereplace')"
   ]
  },
  {
   "cell_type": "code",
   "execution_count": 4,
   "metadata": {},
   "outputs": [
    {
     "data": {
      "text/plain": [
       "b'&#163;13.55'"
      ]
     },
     "execution_count": 4,
     "metadata": {},
     "output_type": "execute_result"
    }
   ],
   "source": [
    "\"£13.55\".encode('ascii', errors='xmlcharrefreplace')"
   ]
  },
  {
   "cell_type": "code",
   "execution_count": 5,
   "metadata": {},
   "outputs": [
    {
     "data": {
      "text/plain": [
       "b'\\\\xa313.55'"
      ]
     },
     "execution_count": 5,
     "metadata": {},
     "output_type": "execute_result"
    }
   ],
   "source": [
    "\"£13.55\".encode('ascii', errors='backslashreplace')"
   ]
  },
  {
   "cell_type": "code",
   "execution_count": 6,
   "metadata": {},
   "outputs": [],
   "source": [
    "b = \"£13.55\".encode('utf8')"
   ]
  },
  {
   "cell_type": "code",
   "execution_count": 7,
   "metadata": {},
   "outputs": [
    {
     "data": {
      "text/plain": [
       "'��13.55'"
      ]
     },
     "execution_count": 7,
     "metadata": {},
     "output_type": "execute_result"
    }
   ],
   "source": [
    "b.decode('ascii', errors='replace')"
   ]
  },
  {
   "cell_type": "code",
   "execution_count": 8,
   "metadata": {},
   "outputs": [
    {
     "data": {
      "text/plain": [
       "'13.55'"
      ]
     },
     "execution_count": 8,
     "metadata": {},
     "output_type": "execute_result"
    }
   ],
   "source": [
    "b.decode('ascii', errors='ignore')"
   ]
  },
  {
   "cell_type": "code",
   "execution_count": 9,
   "metadata": {},
   "outputs": [
    {
     "data": {
      "text/plain": [
       "'\\\\xc2\\\\xa313.55'"
      ]
     },
     "execution_count": 9,
     "metadata": {},
     "output_type": "execute_result"
    }
   ],
   "source": [
    "b.decode('ascii', errors='backslashreplace')"
   ]
  },
  {
   "cell_type": "markdown",
   "metadata": {},
   "source": [
    "### Section 80.2: File I/O"
   ]
  },
  {
   "cell_type": "raw",
   "metadata": {},
   "source": [
    "Files opened in a non-binary mode (e.g. 'r' or 'w' ) deal with strings. The deafult encoding is 'utf8' ."
   ]
  },
  {
   "cell_type": "code",
   "execution_count": null,
   "metadata": {},
   "outputs": [],
   "source": [
    "open(fn, mode='r') # opens file for reading in utf8\n",
    "open(fn, mode='r', encoding='utf16') # opens file for reading utf16\n",
    "# ERROR: cannot write bytes when a string is expected:\n",
    "open(\"foo.txt\", \"w\").write(b\"foo\")"
   ]
  },
  {
   "cell_type": "raw",
   "metadata": {},
   "source": [
    "Files opened in a binary mode (e.g. 'rb' or 'wb' ) deal with bytes. No encoding argument can be specified as there\n",
    "is no encoding."
   ]
  },
  {
   "cell_type": "code",
   "execution_count": null,
   "metadata": {},
   "outputs": [],
   "source": [
    "open(fn, mode='wb') # open file for writing bytes\n",
    "# ERROR: cannot write string when bytes is expected:\n",
    "open(fn, mode='wb').write(\"hi\")"
   ]
  },
  {
   "cell_type": "markdown",
   "metadata": {},
   "source": [
    "### Section 80.3: Basics"
   ]
  },
  {
   "cell_type": "raw",
   "metadata": {},
   "source": [
    "In Python 3 str is the type for unicode-enabled strings, while bytes is the type for sequences of raw bytes."
   ]
  },
  {
   "cell_type": "code",
   "execution_count": 10,
   "metadata": {},
   "outputs": [
    {
     "data": {
      "text/plain": [
       "True"
      ]
     },
     "execution_count": 10,
     "metadata": {},
     "output_type": "execute_result"
    }
   ],
   "source": [
    "type(\"f\") == type(u\"f\")"
   ]
  },
  {
   "cell_type": "code",
   "execution_count": 11,
   "metadata": {},
   "outputs": [
    {
     "data": {
      "text/plain": [
       "bytes"
      ]
     },
     "execution_count": 11,
     "metadata": {},
     "output_type": "execute_result"
    }
   ],
   "source": [
    "type(b\"f\")"
   ]
  },
  {
   "cell_type": "code",
   "execution_count": 12,
   "metadata": {},
   "outputs": [
    {
     "data": {
      "text/plain": [
       "str"
      ]
     },
     "execution_count": 12,
     "metadata": {},
     "output_type": "execute_result"
    }
   ],
   "source": [
    "type(u\"f\")"
   ]
  },
  {
   "cell_type": "raw",
   "metadata": {},
   "source": [
    "In Python 2 a casual string was a sequence of raw bytes by default and the unicode string was every string with \"u\"\n",
    "prefix."
   ]
  },
  {
   "cell_type": "raw",
   "metadata": {},
   "source": [
    "type(\"f\") == type(b\"f\") # True, <type 'str'>\n",
    "type(u\"f\") # <type 'unicode'>"
   ]
  },
  {
   "cell_type": "raw",
   "metadata": {},
   "source": [
    "Unicode strings can be converted to bytes with .encode(encoding) ."
   ]
  },
  {
   "cell_type": "code",
   "execution_count": 14,
   "metadata": {},
   "outputs": [
    {
     "data": {
      "text/plain": [
       "b'\\xc2\\xa313.55'"
      ]
     },
     "execution_count": 14,
     "metadata": {},
     "output_type": "execute_result"
    }
   ],
   "source": [
    "\"£13.55\".encode('utf8')"
   ]
  },
  {
   "cell_type": "code",
   "execution_count": 15,
   "metadata": {},
   "outputs": [
    {
     "data": {
      "text/plain": [
       "b'\\xff\\xfe\\xa3\\x001\\x003\\x00.\\x005\\x005\\x00'"
      ]
     },
     "execution_count": 15,
     "metadata": {},
     "output_type": "execute_result"
    }
   ],
   "source": [
    "\"£13.55\".encode('utf16')"
   ]
  },
  {
   "cell_type": "markdown",
   "metadata": {},
   "source": [
    "#### Python 2\n",
    "in py2 the default console encoding is sys.getdefaultencoding() == 'ascii' and not utf-8 as in py3, therefore\n",
    "printing it as in the previous example is not directly possible."
   ]
  },
  {
   "cell_type": "raw",
   "metadata": {},
   "source": [
    ">>> print type(u\"£13.55\".encode('utf8'))\n",
    "<type 'str'>\n",
    ">>> print u\"£13.55\".encode('utf8')\n",
    "SyntaxError: Non-ASCII character '\\xc2' in...\n",
    "# with encoding set inside a file\n",
    "# -*- coding: utf-8 -*-\n",
    ">>> print u\"£13.55\".encode('utf8')\n",
    "?ú13.55"
   ]
  },
  {
   "cell_type": "raw",
   "metadata": {},
   "source": [
    "If the encoding can't handle the string, a `UnicodeEncodeError` is raised:\n",
    ">>> \"£13.55\".encode('ascii')\n",
    "Traceback (most recent call last):\n",
    "File \"<stdin>\", line 1, in <module>\n",
    "UnicodeEncodeError: 'ascii' codec can't encode character '\\xa3' in position 0: ordinal not in\n",
    "range(128)"
   ]
  },
  {
   "cell_type": "code",
   "execution_count": 16,
   "metadata": {},
   "outputs": [
    {
     "data": {
      "text/plain": [
       "'£13.55'"
      ]
     },
     "execution_count": 16,
     "metadata": {},
     "output_type": "execute_result"
    }
   ],
   "source": [
    "b'\\xc2\\xa313.55'.decode('utf8')"
   ]
  },
  {
   "cell_type": "code",
   "execution_count": 17,
   "metadata": {},
   "outputs": [
    {
     "data": {
      "text/plain": [
       "'123345abc'"
      ]
     },
     "execution_count": 17,
     "metadata": {},
     "output_type": "execute_result"
    }
   ],
   "source": [
    "b'123345abc'.decode('utf8')"
   ]
  },
  {
   "cell_type": "raw",
   "metadata": {},
   "source": [
    "If the encoding can't handle the string, a UnicodeDecodeError is raised:"
   ]
  },
  {
   "cell_type": "code",
   "execution_count": 19,
   "metadata": {},
   "outputs": [
    {
     "ename": "UnicodeDecodeError",
     "evalue": "'utf-16-le' codec can't decode byte 0x35 in position 6: truncated data",
     "output_type": "error",
     "traceback": [
      "\u001b[1;31m---------------------------------------------------------------------------\u001b[0m",
      "\u001b[1;31mUnicodeDecodeError\u001b[0m                        Traceback (most recent call last)",
      "\u001b[1;32m<ipython-input-19-8207cce00b3e>\u001b[0m in \u001b[0;36m<module>\u001b[1;34m()\u001b[0m\n\u001b[1;32m----> 1\u001b[1;33m \u001b[1;34mb'\\xc2\\xa313.55'\u001b[0m\u001b[1;33m.\u001b[0m\u001b[0mdecode\u001b[0m\u001b[1;33m(\u001b[0m\u001b[1;34m'utf16'\u001b[0m\u001b[1;33m)\u001b[0m\u001b[1;33m\u001b[0m\u001b[0m\n\u001b[0m",
      "\u001b[1;31mUnicodeDecodeError\u001b[0m: 'utf-16-le' codec can't decode byte 0x35 in position 6: truncated data"
     ]
    }
   ],
   "source": [
    " b'\\xc2\\xa313.55'.decode('utf16')"
   ]
  },
  {
   "cell_type": "code",
   "execution_count": null,
   "metadata": {},
   "outputs": [],
   "source": []
  }
 ],
 "metadata": {
  "kernelspec": {
   "display_name": "Python [default]",
   "language": "python",
   "name": "python3"
  },
  "language_info": {
   "codemirror_mode": {
    "name": "ipython",
    "version": 3
   },
   "file_extension": ".py",
   "mimetype": "text/x-python",
   "name": "python",
   "nbconvert_exporter": "python",
   "pygments_lexer": "ipython3",
   "version": "3.6.3"
  }
 },
 "nbformat": 4,
 "nbformat_minor": 2
}
