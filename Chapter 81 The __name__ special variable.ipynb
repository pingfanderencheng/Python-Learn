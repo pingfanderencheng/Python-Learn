{
 "cells": [
  {
   "cell_type": "raw",
   "metadata": {},
   "source": [
    "The __name__ special variable is used to check whether a file has been imported as a module or not, and to identify\n",
    "a function, class, module object by their __name__ attribute."
   ]
  },
  {
   "cell_type": "markdown",
   "metadata": {},
   "source": [
    "### Section 81.1: __name__ == '__main__'"
   ]
  },
  {
   "cell_type": "raw",
   "metadata": {},
   "source": [
    "The special variable __name__ is not set by the user. It is mostly used to check whether or not the module is being\n",
    "run by itself or run because an import was performed. To avoid your module to run certain parts of its code when it\n",
    "gets imported, check if __name__ == '__main__' "
   ]
  },
  {
   "cell_type": "raw",
   "metadata": {},
   "source": [
    "Let module_1.py be just one line long:"
   ]
  },
  {
   "cell_type": "code",
   "execution_count": null,
   "metadata": {},
   "outputs": [],
   "source": [
    "import module2.py"
   ]
  },
  {
   "cell_type": "raw",
   "metadata": {},
   "source": [
    "And let's see what happens, depending on module2.py\n",
    "Situation 1\n",
    "module2.py"
   ]
  },
  {
   "cell_type": "code",
   "execution_count": null,
   "metadata": {},
   "outputs": [],
   "source": [
    "print('hello')"
   ]
  },
  {
   "cell_type": "raw",
   "metadata": {},
   "source": [
    "Running module1.py will print hello\n",
    "Running module2.py will print hello"
   ]
  },
  {
   "cell_type": "raw",
   "metadata": {},
   "source": [
    "Situation 2\n",
    "module2.py"
   ]
  },
  {
   "cell_type": "code",
   "execution_count": null,
   "metadata": {},
   "outputs": [],
   "source": [
    "if __name__ == '__main__':\n",
    "    print('hello')"
   ]
  },
  {
   "cell_type": "raw",
   "metadata": {},
   "source": [
    "Running module1.py will print nothing\n",
    "Running module2.py will print hello"
   ]
  },
  {
   "cell_type": "markdown",
   "metadata": {},
   "source": [
    "### Section 81.2: Use in logging"
   ]
  },
  {
   "cell_type": "raw",
   "metadata": {},
   "source": [
    "When configuring the built-in logging functionality, a common pattern is to create a logger with the __name__ of the\n",
    "current module:"
   ]
  },
  {
   "cell_type": "code",
   "execution_count": 2,
   "metadata": {},
   "outputs": [],
   "source": [
    "import logging\n",
    "logger = logging.getLogger(__name__)"
   ]
  },
  {
   "cell_type": "code",
   "execution_count": 3,
   "metadata": {},
   "outputs": [
    {
     "data": {
      "text/plain": [
       "<Logger __main__ (WARNING)>"
      ]
     },
     "execution_count": 3,
     "metadata": {},
     "output_type": "execute_result"
    }
   ],
   "source": [
    "logger"
   ]
  },
  {
   "cell_type": "raw",
   "metadata": {},
   "source": [
    "This means that the fully-qualified name of the module will appear in the logs, making it easier to see where\n",
    "messages have come from."
   ]
  },
  {
   "cell_type": "markdown",
   "metadata": {},
   "source": [
    "### Section 81.3: function_class_or_module.__name__"
   ]
  },
  {
   "cell_type": "raw",
   "metadata": {},
   "source": [
    "The special attribute __name__ of a function, class or module is a string containing its name."
   ]
  },
  {
   "cell_type": "code",
   "execution_count": 4,
   "metadata": {},
   "outputs": [
    {
     "name": "stdout",
     "output_type": "stream",
     "text": [
      "<function f at 0x00000183836D1510>\n",
      "f\n",
      "<class '__main__.C'>\n",
      "C\n",
      "<module 'os' from 'D:\\\\Users\\\\songc\\\\Anaconda3\\\\lib\\\\os.py'>\n",
      "os\n"
     ]
    }
   ],
   "source": [
    "import os\n",
    "class C:\n",
    "    pass\n",
    "def f(x):\n",
    "    x += 2\n",
    "    return x\n",
    "print(f)\n",
    "# <function f at 0x029976B0>\n",
    "print(f.__name__)\n",
    "# f\n",
    "print(C)\n",
    "# <class '__main__.C'>\n",
    "print(C.__name__)\n",
    "# C\n",
    "print(os)\n",
    "# <module 'os' from '/spam/eggs/'>\n",
    "print(os.__name__)"
   ]
  },
  {
   "cell_type": "raw",
   "metadata": {},
   "source": [
    "The __name__ attribute is not, however, the name of the variable which references the class, method or function, rather it is the name given to it when defined."
   ]
  },
  {
   "cell_type": "code",
   "execution_count": 5,
   "metadata": {},
   "outputs": [
    {
     "name": "stdout",
     "output_type": "stream",
     "text": [
      "f\n",
      "f\n"
     ]
    }
   ],
   "source": [
    "def f():\n",
    "    pass\n",
    "print(f.__name__)\n",
    "# f - as expected\n",
    "g = f\n",
    "print(g.__name__)\n",
    "# f - even though the variable is named g, the function is still named f"
   ]
  },
  {
   "cell_type": "code",
   "execution_count": 7,
   "metadata": {},
   "outputs": [
    {
     "name": "stdout",
     "output_type": "stream",
     "text": [
      "-- entering f\n",
      "In: 2\n",
      "Out: 4\n",
      "-- exiting f\n"
     ]
    }
   ],
   "source": [
    "def enter_exit_info(func):\n",
    "    def wrapper(*arg, **kw):\n",
    "        print ('-- entering', func.__name__)\n",
    "        res = func(*arg, **kw)\n",
    "        print ('-- exiting', func.__name__)\n",
    "        return res\n",
    "    return wrapper\n",
    "@enter_exit_info\n",
    "def f(x):\n",
    "    print ('In:', x)\n",
    "    res = x + 2\n",
    "    print ('Out:', res)\n",
    "    return res\n",
    "a = f(2)"
   ]
  },
  {
   "cell_type": "code",
   "execution_count": null,
   "metadata": {},
   "outputs": [],
   "source": []
  }
 ],
 "metadata": {
  "kernelspec": {
   "display_name": "Python [default]",
   "language": "python",
   "name": "python3"
  },
  "language_info": {
   "codemirror_mode": {
    "name": "ipython",
    "version": 3
   },
   "file_extension": ".py",
   "mimetype": "text/x-python",
   "name": "python",
   "nbconvert_exporter": "python",
   "pygments_lexer": "ipython3",
   "version": "3.6.3"
  }
 },
 "nbformat": 4,
 "nbformat_minor": 2
}
