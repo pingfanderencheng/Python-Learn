{
 "cells": [
  {
   "cell_type": "markdown",
   "metadata": {},
   "source": [
    "### Section 83.1: Creating a Simple Http Server"
   ]
  },
  {
   "cell_type": "raw",
   "metadata": {},
   "source": [
    "To share files or to host simple websites(http and javascript) in your local network, you can use Python's builtin\n",
    "SimpleHTTPServer module. Python should be in your Path variable. Go to the folder where your files are and type:"
   ]
  },
  {
   "cell_type": "raw",
   "metadata": {},
   "source": [
    "For python 3 :"
   ]
  },
  {
   "cell_type": "raw",
   "metadata": {},
   "source": [
    "$ python3 -m http.server <portnumber>"
   ]
  },
  {
   "cell_type": "raw",
   "metadata": {},
   "source": [
    "If port number is not given 8000 is the default port. So the output will be:\n",
    "Serving HTTP on 0.0.0.0 port 8000 ...\n",
    "You can access to your files through any device connected to the local network by typing\n",
    "http://hostipaddress:8000/ .\n",
    "hostipaddress is your local ip address which probably starts with 192.168.x.x .\n",
    "To finish the module simply press ctrl+c."
   ]
  },
  {
   "cell_type": "markdown",
   "metadata": {},
   "source": [
    "### Section 83.2: Creating a TCP server"
   ]
  },
  {
   "cell_type": "raw",
   "metadata": {},
   "source": [
    "You can create a TCP server using the socketserver library. Here's a simple echo server."
   ]
  },
  {
   "cell_type": "raw",
   "metadata": {},
   "source": [
    "Server side"
   ]
  },
  {
   "cell_type": "code",
   "execution_count": null,
   "metadata": {},
   "outputs": [
    {
     "name": "stdout",
     "output_type": "stream",
     "text": [
      "connection from: ('127.0.0.1', 7684)\n"
     ]
    }
   ],
   "source": [
    "from socketserver import BaseRequestHandler, TCPServer\n",
    "class EchoHandler(BaseRequestHandler):\n",
    "    def handle(self):\n",
    "        print('connection from:', self.client_address)\n",
    "        while True:\n",
    "            msg = self.request.recv(8192)\n",
    "            if not msg:\n",
    "                break\n",
    "            self.request.send(msg)\n",
    "if __name__ == '__main__':\n",
    "    server = TCPServer(('', 5000), EchoHandler)\n",
    "    server.serve_forever()"
   ]
  },
  {
   "cell_type": "raw",
   "metadata": {},
   "source": [
    "Client side"
   ]
  },
  {
   "cell_type": "code",
   "execution_count": 2,
   "metadata": {},
   "outputs": [
    {
     "data": {
      "text/plain": [
       "b'Monty Python'"
      ]
     },
     "execution_count": 2,
     "metadata": {},
     "output_type": "execute_result"
    }
   ],
   "source": [
    "from socket import socket, AF_INET, SOCK_STREAM\n",
    "sock = socket(AF_INET, SOCK_STREAM)\n",
    "sock.connect(('localhost', 5000))\n",
    "sock.send(b'Monty Python')\n",
    "sock.recv(8192) # returns b'Monty Python'"
   ]
  },
  {
   "cell_type": "markdown",
   "metadata": {},
   "source": [
    "**Server side 和 Client side 不能同时在一个notebook中运行，必须再新建一个notebook，将2个分别放到2个Notebook中运行。**"
   ]
  },
  {
   "cell_type": "raw",
   "metadata": {},
   "source": [
    "socketserver makes it relatively easy to create simple TCP servers. However, you should be aware that, by default,\n",
    "the servers are single threaded and can only serve one client at a time. If you want to handle multiple clients, either\n",
    "instantiate a ThreadingTCPServer instead."
   ]
  },
  {
   "cell_type": "code",
   "execution_count": null,
   "metadata": {},
   "outputs": [],
   "source": [
    "from socketserver import ThreadingTCPServer\n",
    "...\n",
    "if __name__ == '__main__':\n",
    "    server = ThreadingTCPServer(('', 5000), EchoHandler)\n",
    "    server.serve_forever()"
   ]
  },
  {
   "cell_type": "markdown",
   "metadata": {},
   "source": [
    "### Section 83.3: Creating a UDP Server"
   ]
  },
  {
   "cell_type": "raw",
   "metadata": {},
   "source": [
    "A UDP server is easily created using the socketserver library."
   ]
  },
  {
   "cell_type": "raw",
   "metadata": {},
   "source": [
    "a simple time server:"
   ]
  },
  {
   "cell_type": "code",
   "execution_count": null,
   "metadata": {},
   "outputs": [
    {
     "name": "stdout",
     "output_type": "stream",
     "text": [
      "connection from:  ('127.0.0.1', 53661)\n"
     ]
    }
   ],
   "source": [
    "import time\n",
    "from socketserver import BaseRequestHandler, UDPServer\n",
    "class CtimeHandler(BaseRequestHandler):\n",
    "    def handle(self):\n",
    "        print('connection from: ', self.client_address)\n",
    "        # Get message and client socket\n",
    "        msg, sock = self.request\n",
    "        resp = time.ctime()\n",
    "        sock.sendto(resp.encode('ascii'), self.client_address)\n",
    "if __name__ == '__main__':\n",
    "    server = UDPServer(('', 5000), CtimeHandler)\n",
    "    server.serve_forever()"
   ]
  },
  {
   "cell_type": "raw",
   "metadata": {},
   "source": [
    "Client Side"
   ]
  },
  {
   "cell_type": "code",
   "execution_count": 1,
   "metadata": {},
   "outputs": [
    {
     "data": {
      "text/plain": [
       "(b'Mon Mar  5 15:20:04 2018', ('127.0.0.1', 5000))"
      ]
     },
     "execution_count": 1,
     "metadata": {},
     "output_type": "execute_result"
    }
   ],
   "source": [
    "from socket import socket, AF_INET, SOCK_DGRAM\n",
    "sock = socket(AF_INET, SOCK_DGRAM)\n",
    "sock.sendto(b'', ('localhost', 5000))\n",
    "sock.recvfrom(8192)"
   ]
  },
  {
   "cell_type": "markdown",
   "metadata": {},
   "source": [
    "**同上TCP服务器的建立，需要新建一个notebook，（服务端和客户端）2个分开放。**"
   ]
  },
  {
   "cell_type": "markdown",
   "metadata": {},
   "source": [
    "### Section 83.4: Start Simple HttpServer in a thread and open the browser"
   ]
  },
  {
   "cell_type": "code",
   "execution_count": 5,
   "metadata": {},
   "outputs": [
    {
     "data": {
      "text/plain": [
       "True"
      ]
     },
     "execution_count": 5,
     "metadata": {},
     "output_type": "execute_result"
    },
    {
     "name": "stderr",
     "output_type": "stream",
     "text": [
      "127.0.0.1 - - [05/Mar/2018 15:26:14] \"GET / HTTP/1.1\" 200 -\n",
      "127.0.0.1 - - [05/Mar/2018 15:26:15] code 404, message File not found\n",
      "127.0.0.1 - - [05/Mar/2018 15:26:15] \"GET /favicon.ico HTTP/1.1\" 404 -\n",
      "127.0.0.1 - - [05/Mar/2018 15:27:03] \"GET / HTTP/1.1\" 200 -\n"
     ]
    }
   ],
   "source": [
    "from http.server import HTTPServer, CGIHTTPRequestHandler\n",
    "import webbrowser\n",
    "import threading\n",
    "import os\n",
    "def start_server(path, port=8000):\n",
    "    '''Start a simple webserver serving path on port'''\n",
    "    os.chdir(path)\n",
    "    httpd = HTTPServer(('', port), CGIHTTPRequestHandler)\n",
    "    httpd.serve_forever()\n",
    "# Start the server in a new thread\n",
    "port = 8000\n",
    "daemon = threading.Thread(name='daemon_server', target=start_server, args=('.', port))\n",
    "daemon.setDaemon(True) # Set as a daemon so it will be killed once the main thread is dead.\n",
    "daemon.start()\n",
    "# Open the web browser\n",
    "webbrowser.open('http://localhost:{}'.format(port))"
   ]
  },
  {
   "cell_type": "markdown",
   "metadata": {},
   "source": [
    "### Section 83.5: The simplest Python socket client-server example"
   ]
  },
  {
   "cell_type": "raw",
   "metadata": {},
   "source": [
    "Server side:"
   ]
  },
  {
   "cell_type": "code",
   "execution_count": 9,
   "metadata": {},
   "outputs": [
    {
     "name": "stdout",
     "output_type": "stream",
     "text": [
      "b'hello'\n"
     ]
    }
   ],
   "source": [
    "import socket\n",
    "serversocket = socket.socket(socket.AF_INET, socket.SOCK_STREAM)\n",
    "serversocket.bind(('localhost', 8089))\n",
    "serversocket.listen(5) # become a server socket, maximum 5 connections\n",
    "while True:\n",
    "    connection, address = serversocket.accept()\n",
    "    buf = connection.recv(64)\n",
    "    if len(buf) > 0:\n",
    "        print(buf)\n",
    "    break"
   ]
  },
  {
   "cell_type": "raw",
   "metadata": {},
   "source": [
    "Client Side:"
   ]
  },
  {
   "cell_type": "code",
   "execution_count": 7,
   "metadata": {},
   "outputs": [
    {
     "data": {
      "text/plain": [
       "5"
      ]
     },
     "execution_count": 7,
     "metadata": {},
     "output_type": "execute_result"
    }
   ],
   "source": [
    "import socket\n",
    "clientsocket = socket.socket(socket.AF_INET, socket.SOCK_STREAM)\n",
    "clientsocket.connect(('localhost', 8089))\n",
    "clientsocket.send(b'hello')"
   ]
  },
  {
   "cell_type": "markdown",
   "metadata": {},
   "source": [
    "**同上，服务端和客户端必须分开放到2个notebook中运行**"
   ]
  },
  {
   "cell_type": "raw",
   "metadata": {},
   "source": [
    "First run the SocketServer.py, and make sure the server is ready to listen/receive sth Then the client send info to the\n",
    "server; After the server received sth, it terminates"
   ]
  },
  {
   "cell_type": "code",
   "execution_count": null,
   "metadata": {},
   "outputs": [],
   "source": []
  }
 ],
 "metadata": {
  "kernelspec": {
   "display_name": "Python [default]",
   "language": "python",
   "name": "python3"
  },
  "language_info": {
   "codemirror_mode": {
    "name": "ipython",
    "version": 3
   },
   "file_extension": ".py",
   "mimetype": "text/x-python",
   "name": "python",
   "nbconvert_exporter": "python",
   "pygments_lexer": "ipython3",
   "version": "3.6.3"
  }
 },
 "nbformat": 4,
 "nbformat_minor": 2
}
