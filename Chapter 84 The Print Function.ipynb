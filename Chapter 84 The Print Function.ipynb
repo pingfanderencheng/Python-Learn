{
 "cells": [
  {
   "cell_type": "markdown",
   "metadata": {},
   "source": [
    "### Section 84.1: Print basics"
   ]
  },
  {
   "cell_type": "raw",
   "metadata": {},
   "source": [
    "In Python 3 and higher, print is a function rather than a keyword."
   ]
  },
  {
   "cell_type": "code",
   "execution_count": 1,
   "metadata": {},
   "outputs": [
    {
     "name": "stdout",
     "output_type": "stream",
     "text": [
      "hello world!\n",
      "1\n",
      "bar\n",
      "3.14\n"
     ]
    }
   ],
   "source": [
    "print('hello world!')\n",
    "# out: hello world!\n",
    "foo = 1\n",
    "bar = 'bar'\n",
    "baz = 3.14\n",
    "print(foo)\n",
    "# out: 1\n",
    "print(bar)\n",
    "# out: bar\n",
    "print(baz)\n",
    "# out: 3.14"
   ]
  },
  {
   "cell_type": "code",
   "execution_count": 2,
   "metadata": {},
   "outputs": [
    {
     "name": "stdout",
     "output_type": "stream",
     "text": [
      "1 bar 3.14\n"
     ]
    }
   ],
   "source": [
    "print(foo, bar, baz)"
   ]
  },
  {
   "cell_type": "code",
   "execution_count": 3,
   "metadata": {},
   "outputs": [
    {
     "name": "stdout",
     "output_type": "stream",
     "text": [
      "1 bar 3.14\n"
     ]
    }
   ],
   "source": [
    "print(str(foo) + \" \" + bar + \" \" + str(baz))"
   ]
  },
  {
   "cell_type": "code",
   "execution_count": 4,
   "metadata": {},
   "outputs": [
    {
     "ename": "TypeError",
     "evalue": "unsupported operand type(s) for +: 'int' and 'str'",
     "output_type": "error",
     "traceback": [
      "\u001b[1;31m---------------------------------------------------------------------------\u001b[0m",
      "\u001b[1;31mTypeError\u001b[0m                                 Traceback (most recent call last)",
      "\u001b[1;32m<ipython-input-4-8976be46bd53>\u001b[0m in \u001b[0;36m<module>\u001b[1;34m()\u001b[0m\n\u001b[0;32m      1\u001b[0m \u001b[1;31m# Wrong:\u001b[0m\u001b[1;33m\u001b[0m\u001b[1;33m\u001b[0m\u001b[0m\n\u001b[0;32m      2\u001b[0m \u001b[1;31m# type:int str float\u001b[0m\u001b[1;33m\u001b[0m\u001b[1;33m\u001b[0m\u001b[0m\n\u001b[1;32m----> 3\u001b[1;33m \u001b[0mprint\u001b[0m\u001b[1;33m(\u001b[0m\u001b[0mfoo\u001b[0m \u001b[1;33m+\u001b[0m \u001b[0mbar\u001b[0m \u001b[1;33m+\u001b[0m \u001b[0mbaz\u001b[0m\u001b[1;33m)\u001b[0m\u001b[1;33m\u001b[0m\u001b[0m\n\u001b[0m\u001b[0;32m      4\u001b[0m \u001b[1;31m# will result in an error\u001b[0m\u001b[1;33m\u001b[0m\u001b[1;33m\u001b[0m\u001b[0m\n",
      "\u001b[1;31mTypeError\u001b[0m: unsupported operand type(s) for +: 'int' and 'str'"
     ]
    }
   ],
   "source": [
    "# Wrong:\n",
    "# type:int str float\n",
    "print(foo + bar + baz)\n",
    "# will result in an error"
   ]
  },
  {
   "cell_type": "code",
   "execution_count": 5,
   "metadata": {},
   "outputs": [
    {
     "name": "stdout",
     "output_type": "stream",
     "text": [
      "9\n"
     ]
    }
   ],
   "source": [
    "print(4 + 5)"
   ]
  },
  {
   "cell_type": "code",
   "execution_count": 6,
   "metadata": {},
   "outputs": [
    {
     "name": "stdout",
     "output_type": "stream",
     "text": [
      "45\n"
     ]
    }
   ],
   "source": [
    "print(\"4\" + \"5\")"
   ]
  },
  {
   "cell_type": "code",
   "execution_count": 7,
   "metadata": {},
   "outputs": [
    {
     "name": "stdout",
     "output_type": "stream",
     "text": [
      "[4, 5]\n"
     ]
    }
   ],
   "source": [
    "print([4] + [5])"
   ]
  },
  {
   "cell_type": "raw",
   "metadata": {},
   "source": [
    "Otherwise, using a + can be very helpful for a user to read output of variables In the example below the output is\n",
    "very easy to read!\n",
    "The script below demonstrates this"
   ]
  },
  {
   "cell_type": "code",
   "execution_count": 8,
   "metadata": {},
   "outputs": [
    {
     "name": "stdout",
     "output_type": "stream",
     "text": [
      "The randomly generated number was - 9\n"
     ]
    }
   ],
   "source": [
    "import random\n",
    "#telling python to include a function to create random numbers\n",
    "randnum = random.randint(0, 12)\n",
    "#make a random number between 0 and 12 and assign it to a variable\n",
    "print(\"The randomly generated number was - \" + str(randnum))"
   ]
  },
  {
   "cell_type": "raw",
   "metadata": {},
   "source": [
    "You can prevent the print function from automatically printing a newline by using the end parameter:"
   ]
  },
  {
   "cell_type": "code",
   "execution_count": 9,
   "metadata": {},
   "outputs": [
    {
     "name": "stdout",
     "output_type": "stream",
     "text": [
      "this has no newline at the end of it... see?\n"
     ]
    }
   ],
   "source": [
    "print(\"this has no newline at the end of it... \", end=\"\")\n",
    "print(\"see?\")"
   ]
  },
  {
   "cell_type": "code",
   "execution_count": 10,
   "metadata": {},
   "outputs": [],
   "source": [
    "with open('my_file.txt', 'w+') as my_file:\n",
    "    print(\"this goes to the file!\", file=my_file)"
   ]
  },
  {
   "cell_type": "markdown",
   "metadata": {},
   "source": [
    "### Section 84.2: Print parameters"
   ]
  },
  {
   "cell_type": "raw",
   "metadata": {},
   "source": [
    "You can do more than just print text. print also has several parameters to help you."
   ]
  },
  {
   "cell_type": "raw",
   "metadata": {},
   "source": [
    "Argument sep : place a string between arguments."
   ]
  },
  {
   "cell_type": "code",
   "execution_count": 12,
   "metadata": {},
   "outputs": [
    {
     "name": "stdout",
     "output_type": "stream",
     "text": [
      "apples, bannas, cherries\n"
     ]
    }
   ],
   "source": [
    "print('apples','bannas', 'cherries', sep=', ')"
   ]
  },
  {
   "cell_type": "code",
   "execution_count": 13,
   "metadata": {},
   "outputs": [
    {
     "name": "stdout",
     "output_type": "stream",
     "text": [
      "apple+ banna+ cherries\n"
     ]
    }
   ],
   "source": [
    "print('apple','banna', 'cherries', sep='+ ')"
   ]
  },
  {
   "cell_type": "raw",
   "metadata": {},
   "source": [
    "Argument end : use something other than a newline at the end"
   ]
  },
  {
   "cell_type": "raw",
   "metadata": {},
   "source": [
    "Without the end argument, all print() functions write a line and then go to the beginning of the next line. You can\n",
    "change it to do nothing (use an empty string of ''), or double spacing between paragraphs by using two newlines."
   ]
  },
  {
   "cell_type": "code",
   "execution_count": 14,
   "metadata": {},
   "outputs": [
    {
     "name": "stdout",
     "output_type": "stream",
     "text": [
      "<a class='jidn'/>\n"
     ]
    }
   ],
   "source": [
    "print(\"<a\", end=''); print(\" class='jidn'\" if 1 else \"\", end=''); print(\"/>\")"
   ]
  },
  {
   "cell_type": "code",
   "execution_count": 15,
   "metadata": {},
   "outputs": [
    {
     "name": "stdout",
     "output_type": "stream",
     "text": [
      "paragraph1\n",
      "\n",
      "paragraph2\n"
     ]
    }
   ],
   "source": [
    "print(\"paragraph1\", end=\"\\n\\n\"); print(\"paragraph2\")"
   ]
  },
  {
   "cell_type": "raw",
   "metadata": {},
   "source": [
    "Argument file : send output to someplace other than sys.stdout."
   ]
  },
  {
   "cell_type": "raw",
   "metadata": {},
   "source": [
    "Now you can send your text to either stdout, a file, or StringIO and not care which you are given. If it quacks like a\n",
    "file, it works like a file."
   ]
  },
  {
   "cell_type": "code",
   "execution_count": 16,
   "metadata": {},
   "outputs": [],
   "source": [
    "def sendit(out, *values, sep=' ', end='\\n'):\n",
    "    print(*values, sep=sep, end=end, file=out)"
   ]
  },
  {
   "cell_type": "code",
   "execution_count": 18,
   "metadata": {},
   "outputs": [
    {
     "name": "stdout",
     "output_type": "stream",
     "text": [
      "apples\tbannas\tcherries\n"
     ]
    }
   ],
   "source": [
    "import sys\n",
    "sendit(sys.stdout, 'apples', 'bannas', 'cherries', sep='\\t')"
   ]
  },
  {
   "cell_type": "code",
   "execution_count": 19,
   "metadata": {},
   "outputs": [],
   "source": [
    "with open(\"my_file.txt\", \"w+\") as f:\n",
    "    sendit(f, 'apples', 'bannas', 'cherries', sep=' ', end='\\n')"
   ]
  },
  {
   "cell_type": "code",
   "execution_count": 20,
   "metadata": {},
   "outputs": [
    {
     "name": "stdout",
     "output_type": "stream",
     "text": [
      "apples bannas cherries\n",
      "\n"
     ]
    }
   ],
   "source": [
    "with open(\"my_file.txt\", \"rt\") as f:\n",
    "    print(f.read())"
   ]
  },
  {
   "cell_type": "raw",
   "metadata": {},
   "source": [
    "There is a fourth parameter flush which will forcibly flush the stream."
   ]
  },
  {
   "cell_type": "code",
   "execution_count": null,
   "metadata": {},
   "outputs": [],
   "source": []
  }
 ],
 "metadata": {
  "kernelspec": {
   "display_name": "Python [default]",
   "language": "python",
   "name": "python3"
  },
  "language_info": {
   "codemirror_mode": {
    "name": "ipython",
    "version": 3
   },
   "file_extension": ".py",
   "mimetype": "text/x-python",
   "name": "python",
   "nbconvert_exporter": "python",
   "pygments_lexer": "ipython3",
   "version": "3.6.3"
  }
 },
 "nbformat": 4,
 "nbformat_minor": 2
}
