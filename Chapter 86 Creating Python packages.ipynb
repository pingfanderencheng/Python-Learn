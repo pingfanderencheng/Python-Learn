{
 "cells": [
  {
   "cell_type": "raw",
   "metadata": {},
   "source": [
    "### Section 86.1: Introduction"
   ]
  },
  {
   "cell_type": "raw",
   "metadata": {},
   "source": [
    "Every package requires a setup.py file which describes the package.\n",
    "Consider the following directory structure for a simple package:"
   ]
  },
  {
   "cell_type": "code",
   "execution_count": null,
   "metadata": {},
   "outputs": [],
   "source": [
    "+-- package_name\n",
    "| |\n",
    "| +-- __init__.py\n",
    "|\n",
    "+-- setup.py"
   ]
  },
  {
   "cell_type": "code",
   "execution_count": null,
   "metadata": {},
   "outputs": [],
   "source": [
    "The __init__.py contains only the line def foo(): return 100 "
   ]
  },
  {
   "cell_type": "raw",
   "metadata": {},
   "source": [
    "The following setup.py will define the package:"
   ]
  },
  {
   "cell_type": "code",
   "execution_count": null,
   "metadata": {},
   "outputs": [],
   "source": [
    "from setuptools import setup\n",
    "setup(\n",
    "    name='package_name',                 # package name\n",
    "    version='0.1',                       # version\n",
    "    description='Package Description',   # short description\n",
    "    url='http://example.com',            # package URL\n",
    "    install_requires=[],                 # list of packages this package depends\n",
    "    # on.\n",
    "    packages=['package_name'],           # List of module names that installing\n",
    "    # this package will provide.\n",
    ")"
   ]
  },
  {
   "cell_type": "raw",
   "metadata": {},
   "source": [
    "virtualenv is great to test package installs without modifying your other Python environments:"
   ]
  },
  {
   "cell_type": "code",
   "execution_count": null,
   "metadata": {},
   "outputs": [],
   "source": [
    "$ virtualenv .virtualenv\n",
    "...\n",
    "$ source .virtualenv/bin/activate\n",
    "$ python setup.py install\n",
    "running install\n",
    "...\n",
    "Installed .../package_name-0.1-....egg\n",
    "...\n",
    "$ python\n",
    ">>> import package_name\n",
    ">>> package_name.foo()\n",
    "100"
   ]
  },
  {
   "cell_type": "markdown",
   "metadata": {},
   "source": [
    "### Section 86.2: Uploading to PyPI"
   ]
  },
  {
   "cell_type": "raw",
   "metadata": {},
   "source": [
    "Once your setup.py is fully functional (see Introduction), it is very easy to upload your package to PyPI.\n",
    "Setup a .pypirc File\n",
    "This file stores logins and passwords to authenticate your accounts. It is typically stored in your home directory."
   ]
  },
  {
   "cell_type": "code",
   "execution_count": null,
   "metadata": {},
   "outputs": [],
   "source": [
    "# .pypirc file\n",
    "[distutils]\n",
    "index-servers =\n",
    "    pypi\n",
    "    pypitest\n",
    "[pypi]\n",
    "repository=https://pypi.python.org/pypi\n",
    "username=your_username\n",
    "password=your_password\n",
    "[pypitest]\n",
    "repository=https://testpypi.python.org/pypi\n",
    "username=your_username\n",
    "password=your_password"
   ]
  },
  {
   "cell_type": "raw",
   "metadata": {},
   "source": [
    "It is safer to use twine for uploading packages, so make sure that is installed."
   ]
  },
  {
   "cell_type": "raw",
   "metadata": {},
   "source": [
    "$ pip install twine"
   ]
  },
  {
   "cell_type": "markdown",
   "metadata": {},
   "source": [
    "#### Register and Upload to testpypi (optional)"
   ]
  },
  {
   "cell_type": "raw",
   "metadata": {},
   "source": [
    "Note: PyPI does not allow overwriting uploaded packages, so it is prudent to first test your deployment on a\n",
    "dedicated test server, e.g. testpypi. This option will be discussed. Consider a versioning scheme for your package\n",
    "prior to uploading such as calendar versioning or semantic versioning.\n",
    "Either log in, or create a new account at testpypi. Registration is only required the first time, although registering\n",
    "more than once is not harmful.\n",
    "$ python setup.py register -r pypitest\n",
    "While in the root directory of your package:\n",
    "$ twine upload dist/* -r pypitest\n",
    "Your package should now be accessible through your account."
   ]
  },
  {
   "cell_type": "markdown",
   "metadata": {},
   "source": [
    "**Testing**\n",
    "\n",
    "Make a test virtual environment. Try to pip install your package from either testpypi or PyPI."
   ]
  },
  {
   "cell_type": "code",
   "execution_count": null,
   "metadata": {},
   "outputs": [],
   "source": [
    "# Using virtualenv\n",
    "$ mkdir testenv\n",
    "$ cd testenv\n",
    "$ virtualenv .virtualenv\n",
    "...\n",
    "$ source .virtualenv/bin/activate\n",
    "# Test from testpypi\n",
    "(.virtualenv) pip install --verbose --extra-index-url https://testpypi.python.org/pypi\n",
    "package_name\n",
    "...\n",
    "# Or test from PyPI\n",
    "(.virtualenv) $ pip install package_name\n",
    "...\n",
    "(.virtualenv) $ python\n",
    "Python 3.5.1 (default, Jan 27 2016, 19:16:39)\n",
    "[GCC 4.2.1 Compatible Apple LLVM 7.0.2 (clang-700.1.81)] on darwin\n",
    "Type \"help\", \"copyright\", \"credits\" or \"license\" for more information.\n",
    ">>> import package_name\n",
    ">>> package_name.foo()\n",
    "100"
   ]
  },
  {
   "cell_type": "raw",
   "metadata": {},
   "source": [
    "If successful, your package is least importable. You might consider testing your API as well before your final upload\n",
    "to PyPI. If you package failed during testing, do not worry. You can still fix it, re-upload to testpypi and test again."
   ]
  },
  {
   "cell_type": "code",
   "execution_count": null,
   "metadata": {},
   "outputs": [],
   "source": [
    "Make sure twine is installed:\n",
    "$ pip install twine\n",
    "Either log in, or create a new account at PyPI.\n",
    "$ python setup.py register -r pypi\n",
    "$ twine upload dist/*\n",
    "That's it! Your package is now live.\n",
    "If you discover a bug, simply upload a new version of your package.\n",
    "Documentation\n",
    "Don't forget to include at least some kind of documentation for your package. PyPi takes as the default formatting\n",
    "language reStructuredText.\n",
    "Readme\n",
    "If your package doesn't have a big documentation, include what can help other users in README.rst file. When the\n",
    "file is ready, another one is needed to tell PyPi to show it.\n",
    "Create setup.cfg file and put these two lines in it:\n",
    "[metadata]\n",
    "description-file = README.rst\n",
    "Note that if you try to put Markdown file into your package, PyPi will read it as a pure text file without any\n",
    "formatting.\n",
    "Licensing\n",
    "It's often more than welcome to put a LICENSE.txt file in your package with one of the OpenSource licenses to tell\n",
    "users if they can use your package for example in commercial projects or if your code is usable with their license.\n",
    "In more readable way some licenses are explained at TL;DR."
   ]
  },
  {
   "cell_type": "markdown",
   "metadata": {},
   "source": [
    "### Section 86.3: Making package executable"
   ]
  },
  {
   "cell_type": "raw",
   "metadata": {},
   "source": [
    "If your package isn't only a library, but has a piece of code that can be used either as a showcase or a standalone\n",
    "application when your package is installed, put that piece of code into __main__.py file.\n",
    "Put the __main__.py in the package_name folder. This way you will be able to run it directly from console:"
   ]
  },
  {
   "cell_type": "raw",
   "metadata": {},
   "source": [
    "python -m package_name"
   ]
  },
  {
   "cell_type": "raw",
   "metadata": {},
   "source": [
    "If there's no __main__.py file available, the package won't run with this command and this error will be printed:"
   ]
  },
  {
   "cell_type": "markdown",
   "metadata": {},
   "source": [
    "> python: No module named package\\_name\\.\\_\\_main\\_\\_; 'package_name' is a package and cannot be directly\n",
    "executed."
   ]
  },
  {
   "cell_type": "code",
   "execution_count": null,
   "metadata": {},
   "outputs": [],
   "source": []
  }
 ],
 "metadata": {
  "kernelspec": {
   "display_name": "Python [default]",
   "language": "python",
   "name": "python3"
  },
  "language_info": {
   "codemirror_mode": {
    "name": "ipython",
    "version": 3
   },
   "file_extension": ".py",
   "mimetype": "text/x-python",
   "name": "python",
   "nbconvert_exporter": "python",
   "pygments_lexer": "ipython3",
   "version": "3.6.3"
  }
 },
 "nbformat": 4,
 "nbformat_minor": 2
}
