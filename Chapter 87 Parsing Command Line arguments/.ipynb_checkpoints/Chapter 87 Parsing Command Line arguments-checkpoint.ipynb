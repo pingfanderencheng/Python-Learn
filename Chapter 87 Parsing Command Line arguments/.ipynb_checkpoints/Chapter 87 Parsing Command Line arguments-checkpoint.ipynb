{
 "cells": [
  {
   "cell_type": "raw",
   "metadata": {},
   "source": [
    "Most command line tools rely on arguments passed to the program upon its execution. Instead of prompting for\n",
    "input, these programs expect data or specific flags (which become booleans) to be set. This allows both the user\n",
    "and other programs to run the Python file passing it data as it starts. This section explains and demonstrates the\n",
    "implementation and usage of command line arguments in Python."
   ]
  },
  {
   "cell_type": "markdown",
   "metadata": {},
   "source": [
    "### Section 87.1: Hello world in argparse"
   ]
  },
  {
   "cell_type": "raw",
   "metadata": {},
   "source": [
    "The following program says hello to the user. It takes one positional argument, the name of the user, and can also\n",
    "be told the greeting."
   ]
  },
  {
   "cell_type": "code",
   "execution_count": 2,
   "metadata": {},
   "outputs": [
    {
     "name": "stdout",
     "output_type": "stream",
     "text": [
      "Microsoft Windows [版本 10.0.16299.125]\n",
      "(c) 2017 Microsoft Corporation。保留所有权利。\n",
      "\n",
      "E:\\MyFile\\Jupyter\\Python-Learn\\Chapter 87 Parsing Command Line arguments>python hello.py --help\n",
      "usage: hello.py [-h] [-g GREETING] name\n",
      "\n",
      "positional arguments:\n",
      "  name                  name of user\n",
      "\n",
      "optional arguments:\n",
      "  -h, --help            show this help message and exit\n",
      "  -g GREETING, --greeting GREETING\n",
      "                        optional alternate greeting\n",
      "\n",
      "E:\\MyFile\\Jupyter\\Python-Learn\\Chapter 87 Parsing Command Line arguments>"
     ]
    }
   ],
   "source": [
    "%%cmd \n",
    "python hello.py --help"
   ]
  },
  {
   "cell_type": "code",
   "execution_count": 3,
   "metadata": {},
   "outputs": [
    {
     "name": "stdout",
     "output_type": "stream",
     "text": [
      "Microsoft Windows [版本 10.0.16299.125]\n",
      "(c) 2017 Microsoft Corporation。保留所有权利。\n",
      "\n",
      "E:\\MyFile\\Jupyter\\Python-Learn\\Chapter 87 Parsing Command Line arguments>python hello.py world\n",
      "Hello, world!\n",
      "\n",
      "E:\\MyFile\\Jupyter\\Python-Learn\\Chapter 87 Parsing Command Line arguments>"
     ]
    }
   ],
   "source": [
    "%%cmd\n",
    "python hello.py world"
   ]
  },
  {
   "cell_type": "code",
   "execution_count": 4,
   "metadata": {},
   "outputs": [
    {
     "name": "stdout",
     "output_type": "stream",
     "text": [
      "Microsoft Windows [版本 10.0.16299.125]\n",
      "(c) 2017 Microsoft Corporation。保留所有权利。\n",
      "\n",
      "E:\\MyFile\\Jupyter\\Python-Learn\\Chapter 87 Parsing Command Line arguments>python hello.py John -g Howdy\n",
      "Howdy, John!\n",
      "\n",
      "E:\\MyFile\\Jupyter\\Python-Learn\\Chapter 87 Parsing Command Line arguments>"
     ]
    }
   ],
   "source": [
    "%%cmd\n",
    "python hello.py John -g Howdy"
   ]
  },
  {
   "cell_type": "markdown",
   "metadata": {},
   "source": [
    "### Section 87.2: Using command line arguments with argv"
   ]
  },
  {
   "cell_type": "raw",
   "metadata": {},
   "source": [
    "Whenever a Python script is invoked from the command line, the user may supply additional command line\n",
    "arguments which will be passed on to the script. These arguments will be available to the programmer from the\n",
    "system variable sys.argv (\"argv\" is a traditional name used in most programming languages, and it means\n",
    "\"argument vector\")."
   ]
  },
  {
   "cell_type": "raw",
   "metadata": {},
   "source": [
    "By convention, the first element in the sys.argv list is the name of the Python script itself, while the rest of the\n",
    "elements are the tokens passed by the user when invoking the script."
   ]
  },
  {
   "cell_type": "raw",
   "metadata": {},
   "source": [
    "# cli.py\n",
    "import sys\n",
    "print(sys.argv)"
   ]
  },
  {
   "cell_type": "code",
   "execution_count": 5,
   "metadata": {},
   "outputs": [
    {
     "name": "stdout",
     "output_type": "stream",
     "text": [
      "Microsoft Windows [版本 10.0.16299.125]\n",
      "(c) 2017 Microsoft Corporation。保留所有权利。\n",
      "\n",
      "E:\\MyFile\\Jupyter\\Python-Learn\\Chapter 87 Parsing Command Line arguments>python cli.py\n",
      "['cli.py']\n",
      "\n",
      "E:\\MyFile\\Jupyter\\Python-Learn\\Chapter 87 Parsing Command Line arguments>"
     ]
    }
   ],
   "source": [
    "%%cmd\n",
    "python cli.py"
   ]
  },
  {
   "cell_type": "code",
   "execution_count": 6,
   "metadata": {},
   "outputs": [
    {
     "name": "stdout",
     "output_type": "stream",
     "text": [
      "Microsoft Windows [版本 10.0.16299.125]\n",
      "(c) 2017 Microsoft Corporation。保留所有权利。\n",
      "\n",
      "E:\\MyFile\\Jupyter\\Python-Learn\\Chapter 87 Parsing Command Line arguments>python cli.py fizz\n",
      "['cli.py', 'fizz']\n",
      "\n",
      "E:\\MyFile\\Jupyter\\Python-Learn\\Chapter 87 Parsing Command Line arguments>"
     ]
    }
   ],
   "source": [
    "%%cmd\n",
    "python cli.py fizz"
   ]
  },
  {
   "cell_type": "code",
   "execution_count": 7,
   "metadata": {},
   "outputs": [
    {
     "name": "stdout",
     "output_type": "stream",
     "text": [
      "Microsoft Windows [版本 10.0.16299.125]\n",
      "(c) 2017 Microsoft Corporation。保留所有权利。\n",
      "\n",
      "E:\\MyFile\\Jupyter\\Python-Learn\\Chapter 87 Parsing Command Line arguments>python cli.py fizz buzz\n",
      "['cli.py', 'fizz', 'buzz']\n",
      "\n",
      "E:\\MyFile\\Jupyter\\Python-Learn\\Chapter 87 Parsing Command Line arguments>"
     ]
    }
   ],
   "source": [
    "%%cmd\n",
    "python cli.py fizz buzz"
   ]
  },
  {
   "cell_type": "code",
   "execution_count": 8,
   "metadata": {},
   "outputs": [
    {
     "name": "stdout",
     "output_type": "stream",
     "text": [
      "[songc] -f C:\\Users\\songc\\AppData\\Roaming\\jupyter\\runtime\\kernel-00747907-42c3-438b-9fd4-567ea96a762d.json\n"
     ]
    }
   ],
   "source": [
    "import getpass\n",
    "import sys\n",
    "words = sys.argv[1:]\n",
    "sentence = \" \".join(words)\n",
    "print(\"[%s] %s\" % (getpass.getuser(), sentence))"
   ]
  },
  {
   "cell_type": "code",
   "execution_count": 9,
   "metadata": {},
   "outputs": [
    {
     "name": "stdout",
     "output_type": "stream",
     "text": [
      "Microsoft Windows [版本 10.0.16299.125]\n",
      "(c) 2017 Microsoft Corporation。保留所有权利。\n",
      "\n",
      "E:\\MyFile\\Jupyter\\Python-Learn\\Chapter 87 Parsing Command Line arguments>python user.py Hello!\n",
      "[songc] Hello!\n",
      "\n",
      "E:\\MyFile\\Jupyter\\Python-Learn\\Chapter 87 Parsing Command Line arguments>"
     ]
    }
   ],
   "source": [
    "%%cmd\n",
    "python user.py Hello!"
   ]
  },
  {
   "cell_type": "raw",
   "metadata": {},
   "source": [
    "The algorithm commonly used when \"manually\" parsing a number of non-positional arguments is to iterate over\n",
    "the sys.argv list. One way is to go over the list and pop each element of it:"
   ]
  },
  {
   "cell_type": "code",
   "execution_count": null,
   "metadata": {},
   "outputs": [],
   "source": [
    "# reverse and copy sys.argv\n",
    "argv = reversed(sys.argv)\n",
    "# extract the first element\n",
    "arg = argv.pop()\n",
    "# stop iterating when there's no more args to pop()\n",
    "while len(argv) > 0:\n",
    "    if arg in ('-f', '--foo'):\n",
    "        print('seen foo!')\n",
    "    elif arg in ('-b', '--bar'):\n",
    "        print('seen bar!')\n",
    "    elif arg in ('-a', '--with-arg'):\n",
    "        arg = arg.pop()\n",
    "        print('seen value: {}'.format(arg))\n",
    "    # get the next value\n",
    "    arg = argv.pop()"
   ]
  },
  {
   "cell_type": "markdown",
   "metadata": {},
   "source": [
    "### Section 87.3: Setting mutually exclusive arguments with argparse"
   ]
  },
  {
   "cell_type": "raw",
   "metadata": {},
   "source": [
    "If you want two or more arguments to be mutually exclusive. You can use the function\n",
    "argparse.ArgumentParser.add_mutually_exclusive_group() . In the example below, either foo or bar can exist\n",
    "but not both at the same time."
   ]
  },
  {
   "cell_type": "code",
   "execution_count": null,
   "metadata": {},
   "outputs": [],
   "source": [
    "import argparse\n",
    "parser = argparse.ArgumentParser()\n",
    "group = parser.add_mutually_exclusive_group()\n",
    "group.add_argument(\"-f\", \"--foo\")\n",
    "group.add_argument(\"-b\", \"--bar\")\n",
    "args = parser.parse_args()\n",
    "print (\"foo = \", args.foo)\n",
    "print (\"bar = \", args.bar)"
   ]
  },
  {
   "cell_type": "code",
   "execution_count": 10,
   "metadata": {},
   "outputs": [
    {
     "name": "stdout",
     "output_type": "stream",
     "text": [
      "Microsoft Windows [版本 10.0.16299.125]\n",
      "(c) 2017 Microsoft Corporation。保留所有权利。\n",
      "\n",
      "E:\\MyFile\\Jupyter\\Python-Learn\\Chapter 87 Parsing Command Line arguments>python exclusive_arguments.py -f songc\n",
      "foo =  songc\n",
      "bar =  None\n",
      "\n",
      "E:\\MyFile\\Jupyter\\Python-Learn\\Chapter 87 Parsing Command Line arguments>"
     ]
    }
   ],
   "source": [
    "%%cmd\n",
    "python exclusive_arguments.py -f songc"
   ]
  },
  {
   "cell_type": "raw",
   "metadata": {},
   "source": [
    "If you try to run the script specifying both --foo and --bar arguments, the script will complain with the below\n",
    "message."
   ]
  },
  {
   "cell_type": "code",
   "execution_count": 11,
   "metadata": {},
   "outputs": [
    {
     "name": "stdout",
     "output_type": "stream",
     "text": [
      "Microsoft Windows [版本 10.0.16299.125]\n",
      "(c) 2017 Microsoft Corporation。保留所有权利。\n",
      "\n",
      "E:\\MyFile\\Jupyter\\Python-Learn\\Chapter 87 Parsing Command Line arguments>python exclusive_arguments.py -f songc -b song2\n",
      "\n",
      "E:\\MyFile\\Jupyter\\Python-Learn\\Chapter 87 Parsing Command Line arguments>"
     ]
    },
    {
     "name": "stderr",
     "output_type": "stream",
     "text": [
      "usage: exclusive_arguments.py [-h] [-f FOO | -b BAR]\n",
      "exclusive_arguments.py: error: argument -b/--bar: not allowed with argument -f/--foo\n"
     ]
    }
   ],
   "source": [
    "%%cmd\n",
    "python exclusive_arguments.py -f songc -b song2"
   ]
  },
  {
   "cell_type": "markdown",
   "metadata": {},
   "source": [
    "### Section 87.4: Basic example with docopt"
   ]
  },
  {
   "cell_type": "markdown",
   "metadata": {},
   "source": [
    "[docopt](http://docopt.org/) turns command-line argument parsing on its head. Instead of parsing the arguments, you just **write the\n",
    "usage string** for your program, and docopt **parses the usage string** and uses it to extract the command line\n",
    "arguments."
   ]
  },
  {
   "cell_type": "code",
   "execution_count": 9,
   "metadata": {},
   "outputs": [
    {
     "name": "stdout",
     "output_type": "stream",
     "text": [
      "Microsoft Windows [版本 10.0.16299.125]\n",
      "(c) 2017 Microsoft Corporation。保留所有权利。\n",
      "\n",
      "E:\\MyFile\\Jupyter\\Python-Learn\\Chapter 87 Parsing Command Line arguments>python docopt_test.py\n",
      "\n",
      "E:\\MyFile\\Jupyter\\Python-Learn\\Chapter 87 Parsing Command Line arguments>"
     ]
    },
    {
     "name": "stderr",
     "output_type": "stream",
     "text": [
      "Usage:\n",
      "    docopt_test.py [-a] [-b] <path>\n"
     ]
    }
   ],
   "source": [
    "%%cmd\n",
    "python docopt_test.py"
   ]
  },
  {
   "cell_type": "code",
   "execution_count": 10,
   "metadata": {},
   "outputs": [
    {
     "name": "stdout",
     "output_type": "stream",
     "text": [
      "Microsoft Windows [版本 10.0.16299.125]\n",
      "(c) 2017 Microsoft Corporation。保留所有权利。\n",
      "\n",
      "E:\\MyFile\\Jupyter\\Python-Learn\\Chapter 87 Parsing Command Line arguments>python docopt_test.py something\n",
      "{'-a': False,\n",
      " '-b': False,\n",
      " '<path>': 'something'}\n",
      "\n",
      "E:\\MyFile\\Jupyter\\Python-Learn\\Chapter 87 Parsing Command Line arguments>"
     ]
    }
   ],
   "source": [
    "%%cmd\n",
    "python docopt_test.py something"
   ]
  },
  {
   "cell_type": "code",
   "execution_count": 11,
   "metadata": {},
   "outputs": [
    {
     "name": "stdout",
     "output_type": "stream",
     "text": [
      "Microsoft Windows [版本 10.0.16299.125]\n",
      "(c) 2017 Microsoft Corporation。保留所有权利。\n",
      "\n",
      "E:\\MyFile\\Jupyter\\Python-Learn\\Chapter 87 Parsing Command Line arguments>python docopt_test.py something -a\n",
      "{'-a': True,\n",
      " '-b': False,\n",
      " '<path>': 'something'}\n",
      "\n",
      "E:\\MyFile\\Jupyter\\Python-Learn\\Chapter 87 Parsing Command Line arguments>"
     ]
    }
   ],
   "source": [
    "%%cmd \n",
    "python docopt_test.py something -a"
   ]
  },
  {
   "cell_type": "code",
   "execution_count": 12,
   "metadata": {},
   "outputs": [
    {
     "name": "stdout",
     "output_type": "stream",
     "text": [
      "Microsoft Windows [版本 10.0.16299.125]\n",
      "(c) 2017 Microsoft Corporation。保留所有权利。\n",
      "\n",
      "E:\\MyFile\\Jupyter\\Python-Learn\\Chapter 87 Parsing Command Line arguments>python docopt_test.py something -a -b\n",
      "{'-a': True,\n",
      " '-b': True,\n",
      " '<path>': 'something'}\n",
      "\n",
      "E:\\MyFile\\Jupyter\\Python-Learn\\Chapter 87 Parsing Command Line arguments>"
     ]
    }
   ],
   "source": [
    "%%cmd\n",
    "python docopt_test.py something -a -b"
   ]
  },
  {
   "cell_type": "markdown",
   "metadata": {},
   "source": [
    "### Section 87.5: Custom parser error message with argparse"
   ]
  },
  {
   "cell_type": "raw",
   "metadata": {},
   "source": [
    "You can create parser error messages according to your script needs. This is through the\n",
    "argparse.ArgumentParser.error function. The below example shows the script printing a usage and an error\n",
    "message to stderr when --foo is given but not --bar "
   ]
  },
  {
   "cell_type": "code",
   "execution_count": null,
   "metadata": {},
   "outputs": [],
   "source": [
    "import argparse\n",
    "\n",
    "parser = argparse.ArgumentParser()\n",
    "parser.add_argument(\"-f\", \"--foo\")\n",
    "parser.add_argument(\"-b\", \"--bar\")\n",
    "args = parser.parse_args()\n",
    "if args.foo and args.bar is None:\n",
    "    parser.error(\"--foo requires --bar. You did not specify bar.\")\n",
    "print (\"foo =\", args.foo)\n",
    "print (\"bar =\", args.bar)"
   ]
  },
  {
   "cell_type": "code",
   "execution_count": 13,
   "metadata": {},
   "outputs": [
    {
     "name": "stdout",
     "output_type": "stream",
     "text": [
      "Microsoft Windows [版本 10.0.16299.125]\n",
      "(c) 2017 Microsoft Corporation。保留所有权利。\n",
      "\n",
      "E:\\MyFile\\Jupyter\\Python-Learn\\Chapter 87 Parsing Command Line arguments>python sample.py --foo ds_in_fridge\n",
      "\n",
      "E:\\MyFile\\Jupyter\\Python-Learn\\Chapter 87 Parsing Command Line arguments>"
     ]
    },
    {
     "name": "stderr",
     "output_type": "stream",
     "text": [
      "usage: sample.py [-h] [-f FOO] [-b BAR]\n",
      "sample.py: error: --foo requires --bar. You did not specify bar.\n"
     ]
    }
   ],
   "source": [
    "%%cmd\n",
    "python sample.py --foo ds_in_fridge"
   ]
  },
  {
   "cell_type": "code",
   "execution_count": 14,
   "metadata": {},
   "outputs": [
    {
     "name": "stdout",
     "output_type": "stream",
     "text": [
      "Microsoft Windows [版本 10.0.16299.125]\n",
      "(c) 2017 Microsoft Corporation。保留所有权利。\n",
      "\n",
      "E:\\MyFile\\Jupyter\\Python-Learn\\Chapter 87 Parsing Command Line arguments>python sample.py --foo ds_in_fridge --bar this_is_bar\n",
      "foo = ds_in_fridge\n",
      "bar = this_is_bar\n",
      "\n",
      "E:\\MyFile\\Jupyter\\Python-Learn\\Chapter 87 Parsing Command Line arguments>"
     ]
    }
   ],
   "source": [
    "%%cmd\n",
    "python sample.py --foo ds_in_fridge --bar this_is_bar"
   ]
  },
  {
   "cell_type": "markdown",
   "metadata": {},
   "source": [
    "### Section 87.6: Conceptual grouping of arguments withargparse.add_argument_group()"
   ]
  },
  {
   "cell_type": "raw",
   "metadata": {},
   "source": [
    "When you create an argparse ArgumentParser() and run your program with '-h' you get an automated usage\n",
    "message explaining what arguments you can run your software with. By default, positional arguments and\n",
    "conditional arguments are separated into two categories, for example, here is a small script (example.py) and the\n",
    "output when you run python example.py -h ."
   ]
  },
  {
   "cell_type": "code",
   "execution_count": null,
   "metadata": {},
   "outputs": [],
   "source": [
    "import argparse\n",
    "parser = argparse.ArgumentParser(description='Simple example')\n",
    "parser.add_argument('name', help='Who to greet', default='World')\n",
    "parser.add_argument('--bar_this')\n",
    "parser.add_argument('--bar_that')\n",
    "parser.add_argument('--foo_this')\n",
    "parser.add_argument('--foo_that')\n",
    "args = parser.parse_args()"
   ]
  },
  {
   "cell_type": "code",
   "execution_count": 15,
   "metadata": {},
   "outputs": [
    {
     "name": "stdout",
     "output_type": "stream",
     "text": [
      "Microsoft Windows [版本 10.0.16299.125]\n",
      "(c) 2017 Microsoft Corporation。保留所有权利。\n",
      "\n",
      "E:\\MyFile\\Jupyter\\Python-Learn\\Chapter 87 Parsing Command Line arguments>python example.py -h\n",
      "usage: example.py [-h] [--bar_this BAR_THIS] [--bar_that BAR_THAT]\n",
      "                  [--foo_this FOO_THIS] [--foo_that FOO_THAT]\n",
      "                  name\n",
      "\n",
      "Simple example\n",
      "\n",
      "positional arguments:\n",
      "  name                 Who to greet\n",
      "\n",
      "optional arguments:\n",
      "  -h, --help           show this help message and exit\n",
      "  --bar_this BAR_THIS\n",
      "  --bar_that BAR_THAT\n",
      "  --foo_this FOO_THIS\n",
      "  --foo_that FOO_THAT\n",
      "\n",
      "E:\\MyFile\\Jupyter\\Python-Learn\\Chapter 87 Parsing Command Line arguments>"
     ]
    }
   ],
   "source": [
    "%%cmd\n",
    "python example.py -h"
   ]
  },
  {
   "cell_type": "raw",
   "metadata": {},
   "source": [
    "There are some situations where you want to separate your arguments into further conceptual sections to assist\n",
    "your user. For example, you may wish to have all the input options in one group, and all the output formating\n",
    "options in another. The above example can be adjusted to separate the --foo_* args from the --bar_* args like so."
   ]
  },
  {
   "cell_type": "code",
   "execution_count": null,
   "metadata": {},
   "outputs": [],
   "source": [
    "import argparse\n",
    "parser = argparse.ArgumentParser(description='Simple example')\n",
    "parser.add_argument('name', help='Who to greet', default='World')\n",
    "# Create two argument groups\n",
    "foo_group = parser.add_argument_group(title='Foo options')\n",
    "bar_group = parser.add_argument_group(title='Bar options')\n",
    "# Add arguments to those groups\n",
    "foo_group.add_argument('--bar_this')\n",
    "foo_group.add_argument('--bar_that')\n",
    "bar_group.add_argument('--foo_this')\n",
    "bar_group.add_argument('--foo_that')\n",
    "args = parser.parse_args()"
   ]
  },
  {
   "cell_type": "code",
   "execution_count": 17,
   "metadata": {},
   "outputs": [
    {
     "name": "stdout",
     "output_type": "stream",
     "text": [
      "Microsoft Windows [版本 10.0.16299.125]\n",
      "(c) 2017 Microsoft Corporation。保留所有权利。\n",
      "\n",
      "E:\\MyFile\\Jupyter\\Python-Learn\\Chapter 87 Parsing Command Line arguments>python example1.py -h\n",
      "usage: example1.py [-h] [--bar_this BAR_THIS] [--bar_that BAR_THAT]\n",
      "                   [--foo_this FOO_THIS] [--foo_that FOO_THAT]\n",
      "                   name\n",
      "\n",
      "Simple example\n",
      "\n",
      "positional arguments:\n",
      "  name                 Who to greet\n",
      "\n",
      "optional arguments:\n",
      "  -h, --help           show this help message and exit\n",
      "\n",
      "Foo options:\n",
      "  --bar_this BAR_THIS\n",
      "  --bar_that BAR_THAT\n",
      "\n",
      "Bar options:\n",
      "  --foo_this FOO_THIS\n",
      "  --foo_that FOO_THAT\n",
      "\n",
      "E:\\MyFile\\Jupyter\\Python-Learn\\Chapter 87 Parsing Command Line arguments>"
     ]
    }
   ],
   "source": [
    "%%cmd\n",
    "python example1.py -h"
   ]
  },
  {
   "cell_type": "markdown",
   "metadata": {},
   "source": [
    "### Section 87.7: Advanced example with docopt and docopt_dispatch"
   ]
  },
  {
   "cell_type": "raw",
   "metadata": {},
   "source": [
    "As with docopt, with [docopt_dispatch] you craft your --help in the __doc__ variable of your entry-point module.\n",
    "There, you call dispatch with the doc string as argument, so it can run the parser over it.\n",
    "\n",
    "That being done, instead of handling manually the arguments (which usually ends up in a high cyclomatic if/else\n",
    "structure), you leave it to dispatch giving only how you want to handle the set of arguments.\n",
    "\n",
    "This is what the dispatch.on decorator is for: you give it the argument or sequence of arguments that should\n",
    "trigger the function, and that function will be executed with the matching values as parameters."
   ]
  },
  {
   "cell_type": "code",
   "execution_count": null,
   "metadata": {},
   "outputs": [],
   "source": [
    "\"\"\"Run something in development or production mode.\n",
    "\n",
    "Usage:  run.py --development <host> <port>\n",
    "        run.py --production <host> <port>\n",
    "        run.py items add <item>\n",
    "        run.py items delete <item>\n",
    "\"\"\"\n",
    "from docopt_dispatch import dispatch\n",
    "@dispatch.on('--development')\n",
    "def development(host, port, **kwargs):\n",
    "    print('in *development* mode')\n",
    "    \n",
    "@dispatch.on('--production')\n",
    "def development(host, port, **kwargs):\n",
    "    print('in *production* mode')\n",
    "@dispatch.on('items', 'add')\n",
    "def items_add(item, **kwargs):\n",
    "    print('adding item...')\n",
    "@dispatch.on('items', 'delete')\n",
    "def items_delete(item, **kwargs):\n",
    "    print('deleting item...')\n",
    "if __name__ == '__main__':\n",
    "    dispatch(__doc__)"
   ]
  },
  {
   "cell_type": "code",
   "execution_count": 18,
   "metadata": {},
   "outputs": [
    {
     "name": "stdout",
     "output_type": "stream",
     "text": [
      "Microsoft Windows [版本 10.0.16299.125]\n",
      "(c) 2017 Microsoft Corporation。保留所有权利。\n",
      "\n",
      "E:\\MyFile\\Jupyter\\Python-Learn\\Chapter 87 Parsing Command Line arguments>python docopt_dispatch.py -h\n",
      "\n",
      "E:\\MyFile\\Jupyter\\Python-Learn\\Chapter 87 Parsing Command Line arguments>"
     ]
    },
    {
     "name": "stderr",
     "output_type": "stream",
     "text": [
      "Traceback (most recent call last):\n",
      "  File \"docopt_dispatch.py\", line 8, in <module>\n",
      "    from docopt_dispatch import dispatch\n",
      "  File \"E:\\MyFile\\Jupyter\\Python-Learn\\Chapter 87 Parsing Command Line arguments\\docopt_dispatch.py\", line 8, in <module>\n",
      "    from docopt_dispatch import dispatch\n",
      "ImportError: cannot import name 'dispatch'\n"
     ]
    }
   ],
   "source": [
    "%%cmd\n",
    "python docopt_dispatch.py -h"
   ]
  },
  {
   "cell_type": "code",
   "execution_count": 19,
   "metadata": {},
   "outputs": [],
   "source": [
    "docopt_dispatch 不是一个官方的包。我的电脑上没有下载。"
   ]
  },
  {
   "cell_type": "code",
   "execution_count": null,
   "metadata": {},
   "outputs": [],
   "source": []
  }
 ],
 "metadata": {
  "kernelspec": {
   "display_name": "Python [conda env:Anaconda3]",
   "language": "python",
   "name": "conda-env-Anaconda3-py"
  },
  "language_info": {
   "codemirror_mode": {
    "name": "ipython",
    "version": 3
   },
   "file_extension": ".py",
   "mimetype": "text/x-python",
   "name": "python",
   "nbconvert_exporter": "python",
   "pygments_lexer": "ipython3",
   "version": "3.6.3"
  }
 },
 "nbformat": 4,
 "nbformat_minor": 2
}
