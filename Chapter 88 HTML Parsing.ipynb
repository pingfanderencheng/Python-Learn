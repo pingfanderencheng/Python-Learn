{
 "cells": [
  {
   "cell_type": "markdown",
   "metadata": {},
   "source": [
    "### Section 88.1: Using CSS selectors in BeautifulSoup"
   ]
  },
  {
   "cell_type": "markdown",
   "metadata": {},
   "source": [
    "BeautifulSoup has a [limited support for CSS selectors](https://www.crummy.com/software/BeautifulSoup/bs4/doc/#css-selectors), but covers most commonly used ones. Use SELECT() method\n",
    "to find multiple elements and select_one() to find a single element."
   ]
  },
  {
   "cell_type": "code",
   "execution_count": 1,
   "metadata": {},
   "outputs": [
    {
     "name": "stdout",
     "output_type": "stream",
     "text": [
      "item1\n",
      "item2\n",
      "item3\n"
     ]
    }
   ],
   "source": [
    "from bs4 import BeautifulSoup\n",
    "data = \"\"\"\n",
    "<ul>\n",
    "<li class=\"item\">item1</li>\n",
    "<li class=\"item\">item2</li>\n",
    "<li class=\"item\">item3</li>\n",
    "</ul>\n",
    "\"\"\"\n",
    "soup = BeautifulSoup(data, \"html.parser\")\n",
    "for item in soup.select(\"li.item\"):\n",
    "    print(item.get_text())"
   ]
  },
  {
   "cell_type": "markdown",
   "metadata": {},
   "source": [
    "### Section 88.2: PyQuery"
   ]
  },
  {
   "cell_type": "raw",
   "metadata": {},
   "source": [
    "pyquery is a jquery-like library for python. It has very well support for css selectors"
   ]
  },
  {
   "cell_type": "code",
   "execution_count": 3,
   "metadata": {},
   "outputs": [
    {
     "name": "stdout",
     "output_type": "stream",
     "text": [
      "Sales\n",
      "Lorem\t 46\n",
      "Ipsum\t 12\n",
      "Dolor\t 27\n",
      "Sit\t 90\n"
     ]
    }
   ],
   "source": [
    "from pyquery import PyQuery\n",
    "html = \"\"\"\n",
    "<h1>Sales</h1>\n",
    "<table id=\"table\">\n",
    "<tr>\n",
    "<td>Lorem</td>\n",
    "<td>46</td>\n",
    "</tr>\n",
    "<tr>\n",
    "<td>Ipsum</td>\n",
    "<td>12</td>\n",
    "</tr>\n",
    "<tr>\n",
    "<td>Dolor</td>\n",
    "<td>27</td>\n",
    "</tr>\n",
    "<tr>\n",
    "<td>Sit</td>\n",
    "<td>90</td>\n",
    "</tr>\n",
    "</table>\n",
    "\"\"\"\n",
    "doc = PyQuery(html)\n",
    "title = doc('h1').text()\n",
    "print(title)\n",
    "table_data = []\n",
    "rows = doc('#table > tr')\n",
    "for row in rows:\n",
    "    name = PyQuery(row).find('td').eq(0).text()\n",
    "    value = PyQuery(row).find('td').eq(1).text()\n",
    "    print (\"%s\\t %s\" % (name, value))"
   ]
  },
  {
   "cell_type": "markdown",
   "metadata": {},
   "source": [
    "### Section 88.3: Locate a text after an element in BeautifulSoup"
   ]
  },
  {
   "cell_type": "raw",
   "metadata": {},
   "source": [
    "Imagine you have the following HTML:\n",
    "<div>\n",
    "<label>Name:</label>\n",
    "John Smith\n",
    "</div>\n",
    "And you need to locate the text \"John Smith\" after the label element.\n",
    "In this case, you can locate the label element by text and then use .next_sibling property:"
   ]
  },
  {
   "cell_type": "code",
   "execution_count": 4,
   "metadata": {},
   "outputs": [
    {
     "name": "stdout",
     "output_type": "stream",
     "text": [
      "John Smith\n"
     ]
    }
   ],
   "source": [
    "from bs4 import BeautifulSoup\n",
    "data = \"\"\"\n",
    "<div>\n",
    "<label>Name:</label>\n",
    "John Smith\n",
    "</div>\n",
    "\"\"\"\n",
    "soup = BeautifulSoup(data, \"html.parser\")\n",
    "label = soup.find(\"label\", text=\"Name:\")\n",
    "print(label.next_sibling.strip())"
   ]
  },
  {
   "cell_type": "code",
   "execution_count": null,
   "metadata": {},
   "outputs": [],
   "source": []
  }
 ],
 "metadata": {
  "kernelspec": {
   "display_name": "Python [default]",
   "language": "python",
   "name": "python3"
  },
  "language_info": {
   "codemirror_mode": {
    "name": "ipython",
    "version": 3
   },
   "file_extension": ".py",
   "mimetype": "text/x-python",
   "name": "python",
   "nbconvert_exporter": "python",
   "pygments_lexer": "ipython3",
   "version": "3.6.3"
  }
 },
 "nbformat": 4,
 "nbformat_minor": 2
}
