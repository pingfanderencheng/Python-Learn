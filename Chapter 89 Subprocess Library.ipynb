{
 "cells": [
  {
   "cell_type": "markdown",
   "metadata": {},
   "source": [
    "| Parameter | Details |\n",
    "| --- | --- |\n",
    "| args A | single executable, or sequence of executable and arguments - 'ls' , ['ls', '-la'] |\n",
    "| shell | Run under a shell? The default shell to /bin/sh on POSIX.|\n",
    "| cwd | Working directory of the child process. |"
   ]
  },
  {
   "cell_type": "markdown",
   "metadata": {},
   "source": [
    "### Section 89.1: More flexibility with Popen"
   ]
  },
  {
   "cell_type": "raw",
   "metadata": {},
   "source": [
    "Using subprocess.Popen give more fine-grained control over launched processes than subprocess.call ."
   ]
  },
  {
   "cell_type": "raw",
   "metadata": {},
   "source": [
    "Launching a subprocess"
   ]
  },
  {
   "cell_type": "code",
   "execution_count": 3,
   "metadata": {},
   "outputs": [
    {
     "ename": "FileNotFoundError",
     "evalue": "[WinError 2] 系统找不到指定的文件。",
     "output_type": "error",
     "traceback": [
      "\u001b[1;31m---------------------------------------------------------------------------\u001b[0m",
      "\u001b[1;31mFileNotFoundError\u001b[0m                         Traceback (most recent call last)",
      "\u001b[1;32m<ipython-input-3-c584df56a41f>\u001b[0m in \u001b[0;36m<module>\u001b[1;34m()\u001b[0m\n\u001b[0;32m      1\u001b[0m \u001b[1;32mimport\u001b[0m \u001b[0msubprocess\u001b[0m\u001b[1;33m\u001b[0m\u001b[0m\n\u001b[1;32m----> 2\u001b[1;33m \u001b[0mprocess\u001b[0m \u001b[1;33m=\u001b[0m \u001b[0msubprocess\u001b[0m\u001b[1;33m.\u001b[0m\u001b[0mPopen\u001b[0m\u001b[1;33m(\u001b[0m\u001b[1;33m[\u001b[0m\u001b[1;34mr'C:\\path\\to\\app.exe'\u001b[0m\u001b[1;33m,\u001b[0m \u001b[1;34m'arg1'\u001b[0m\u001b[1;33m,\u001b[0m \u001b[1;34m'--flag'\u001b[0m\u001b[1;33m,\u001b[0m \u001b[1;34m'arg'\u001b[0m\u001b[1;33m]\u001b[0m\u001b[1;33m)\u001b[0m\u001b[1;33m\u001b[0m\u001b[0m\n\u001b[0m",
      "\u001b[1;32mD:\\Users\\songc\\Anaconda3\\lib\\subprocess.py\u001b[0m in \u001b[0;36m__init__\u001b[1;34m(self, args, bufsize, executable, stdin, stdout, stderr, preexec_fn, close_fds, shell, cwd, env, universal_newlines, startupinfo, creationflags, restore_signals, start_new_session, pass_fds, encoding, errors)\u001b[0m\n\u001b[0;32m    707\u001b[0m                                 \u001b[0mc2pread\u001b[0m\u001b[1;33m,\u001b[0m \u001b[0mc2pwrite\u001b[0m\u001b[1;33m,\u001b[0m\u001b[1;33m\u001b[0m\u001b[0m\n\u001b[0;32m    708\u001b[0m                                 \u001b[0merrread\u001b[0m\u001b[1;33m,\u001b[0m \u001b[0merrwrite\u001b[0m\u001b[1;33m,\u001b[0m\u001b[1;33m\u001b[0m\u001b[0m\n\u001b[1;32m--> 709\u001b[1;33m                                 restore_signals, start_new_session)\n\u001b[0m\u001b[0;32m    710\u001b[0m         \u001b[1;32mexcept\u001b[0m\u001b[1;33m:\u001b[0m\u001b[1;33m\u001b[0m\u001b[0m\n\u001b[0;32m    711\u001b[0m             \u001b[1;31m# Cleanup if the child failed starting.\u001b[0m\u001b[1;33m\u001b[0m\u001b[1;33m\u001b[0m\u001b[0m\n",
      "\u001b[1;32mD:\\Users\\songc\\Anaconda3\\lib\\subprocess.py\u001b[0m in \u001b[0;36m_execute_child\u001b[1;34m(self, args, executable, preexec_fn, close_fds, pass_fds, cwd, env, startupinfo, creationflags, shell, p2cread, p2cwrite, c2pread, c2pwrite, errread, errwrite, unused_restore_signals, unused_start_new_session)\u001b[0m\n\u001b[0;32m    995\u001b[0m                                          \u001b[0menv\u001b[0m\u001b[1;33m,\u001b[0m\u001b[1;33m\u001b[0m\u001b[0m\n\u001b[0;32m    996\u001b[0m                                          \u001b[0mos\u001b[0m\u001b[1;33m.\u001b[0m\u001b[0mfspath\u001b[0m\u001b[1;33m(\u001b[0m\u001b[0mcwd\u001b[0m\u001b[1;33m)\u001b[0m \u001b[1;32mif\u001b[0m \u001b[0mcwd\u001b[0m \u001b[1;32mis\u001b[0m \u001b[1;32mnot\u001b[0m \u001b[1;32mNone\u001b[0m \u001b[1;32melse\u001b[0m \u001b[1;32mNone\u001b[0m\u001b[1;33m,\u001b[0m\u001b[1;33m\u001b[0m\u001b[0m\n\u001b[1;32m--> 997\u001b[1;33m                                          startupinfo)\n\u001b[0m\u001b[0;32m    998\u001b[0m             \u001b[1;32mfinally\u001b[0m\u001b[1;33m:\u001b[0m\u001b[1;33m\u001b[0m\u001b[0m\n\u001b[0;32m    999\u001b[0m                 \u001b[1;31m# Child is launched. Close the parent's copy of those pipe\u001b[0m\u001b[1;33m\u001b[0m\u001b[1;33m\u001b[0m\u001b[0m\n",
      "\u001b[1;31mFileNotFoundError\u001b[0m: [WinError 2] 系统找不到指定的文件。"
     ]
    }
   ],
   "source": [
    "import subprocess\n",
    "process = subprocess.Popen([r'C:\\path\\to\\app.exe', 'arg1', '--flag', 'arg'])"
   ]
  },
  {
   "cell_type": "raw",
   "metadata": {},
   "source": [
    "The signature for Popen is very similar to the call function; however, Popen will return immediately instead of\n",
    "waiting for the subprocess to complete like call does."
   ]
  },
  {
   "cell_type": "raw",
   "metadata": {},
   "source": [
    "Waiting on a subprocess to complete"
   ]
  },
  {
   "cell_type": "code",
   "execution_count": 2,
   "metadata": {},
   "outputs": [
    {
     "ename": "NameError",
     "evalue": "name 'subprocess' is not defined",
     "output_type": "error",
     "traceback": [
      "\u001b[1;31m---------------------------------------------------------------------------\u001b[0m",
      "\u001b[1;31mNameError\u001b[0m                                 Traceback (most recent call last)",
      "\u001b[1;32m<ipython-input-2-d24f51f5fd3e>\u001b[0m in \u001b[0;36m<module>\u001b[1;34m()\u001b[0m\n\u001b[1;32m----> 1\u001b[1;33m \u001b[0mprocess\u001b[0m \u001b[1;33m=\u001b[0m \u001b[0msubprocess\u001b[0m\u001b[1;33m.\u001b[0m\u001b[0mPopen\u001b[0m\u001b[1;33m(\u001b[0m\u001b[1;33m[\u001b[0m\u001b[1;34mr'C:\\path\\to\\app.exe'\u001b[0m\u001b[1;33m,\u001b[0m \u001b[1;34m'arg1'\u001b[0m\u001b[1;33m,\u001b[0m \u001b[1;34m'--flag'\u001b[0m\u001b[1;33m,\u001b[0m \u001b[1;34m'arg'\u001b[0m\u001b[1;33m]\u001b[0m\u001b[1;33m)\u001b[0m\u001b[1;33m\u001b[0m\u001b[0m\n\u001b[0m\u001b[0;32m      2\u001b[0m \u001b[0mprocess\u001b[0m\u001b[1;33m.\u001b[0m\u001b[0mwait\u001b[0m\u001b[1;33m(\u001b[0m\u001b[1;33m)\u001b[0m\u001b[1;33m\u001b[0m\u001b[0m\n",
      "\u001b[1;31mNameError\u001b[0m: name 'subprocess' is not defined"
     ]
    }
   ],
   "source": [
    "process = subprocess.Popen([r'C:\\path\\to\\app.exe', 'arg1', '--flag', 'arg'])\n",
    "process.wait()"
   ]
  },
  {
   "cell_type": "raw",
   "metadata": {},
   "source": [
    "Reading output from a subprocess"
   ]
  },
  {
   "cell_type": "code",
   "execution_count": null,
   "metadata": {},
   "outputs": [],
   "source": [
    "process = subprocess.Popen([r'C:\\path\\to\\app.exe'], stdout=subprocess.PIPE, stderr=subprocess.PIPE)\n",
    "# This will block until process completes\n",
    "stdout, stderr = process.communicate()\n",
    "print (stdout)\n",
    "print (stderr)"
   ]
  },
  {
   "cell_type": "raw",
   "metadata": {},
   "source": [
    "Interactive access to running subprocesses"
   ]
  },
  {
   "cell_type": "raw",
   "metadata": {},
   "source": [
    "You can read and write on stdin and stdout even while the subprocess hasn't completed. This could be useful\n",
    "when automating functionality in another program"
   ]
  },
  {
   "cell_type": "raw",
   "metadata": {},
   "source": [
    "Writing to a subprocess"
   ]
  },
  {
   "cell_type": "code",
   "execution_count": null,
   "metadata": {},
   "outputs": [],
   "source": [
    "process = subprocess.Popen([r'C:\\path\\to\\app.exe'], stdout = subprocess.PIPE, stdin = subprocess.PIPE)\n",
    "process.stdin.write('line of input\\n') # Write input\n",
    "line = process.stdout.readline() # Read a line from stdout"
   ]
  },
  {
   "cell_type": "raw",
   "metadata": {},
   "source": [
    "However, if you only need one set of input and output, rather than dynamic interaction, you should use\n",
    "communicate() rather than directly accessing stdin and stdout"
   ]
  },
  {
   "cell_type": "markdown",
   "metadata": {},
   "source": [
    "#### Reading a stream from a subprocess"
   ]
  },
  {
   "cell_type": "raw",
   "metadata": {},
   "source": [
    "In case you want to see the output of a subprocess line by line, you can use the following snippet:"
   ]
  },
  {
   "cell_type": "code",
   "execution_count": null,
   "metadata": {},
   "outputs": [],
   "source": [
    "process = subprocess.Popen(<your_command>, stdout=subprocess.PIPE)\n",
    "while process.poll() is None:\n",
    "    output_line = process.stdout.readline()"
   ]
  },
  {
   "cell_type": "raw",
   "metadata": {},
   "source": [
    "in the case the subcommand output do not have EOL character, the above snippet does not work. You can then\n",
    "read the output character by character as follows:"
   ]
  },
  {
   "cell_type": "code",
   "execution_count": null,
   "metadata": {},
   "outputs": [],
   "source": [
    "process = subprocess.Popen(<your_command>, stdout=subprocess.PIPE)\n",
    "while process.poll() is None:\n",
    "    output_line = process.stdout.read(1)"
   ]
  },
  {
   "cell_type": "markdown",
   "metadata": {},
   "source": [
    "The 1 specified as argument to the read method tells read to read 1 character at time. You can specify to read as\n",
    "many characters you want using a different number. Negative number or 0 tells to read to read as a single string\n",
    "until the EOF is encountered [see here](https://docs.python.org/2/library/io.html)."
   ]
  },
  {
   "cell_type": "raw",
   "metadata": {},
   "source": [
    "In both the above snippets, the process.poll() is None until the subprocess finishes. This is used to exit the loop\n",
    "once there is no more output to read."
   ]
  },
  {
   "cell_type": "raw",
   "metadata": {},
   "source": [
    "The same procedure could be applied to the stderr of the subprocess."
   ]
  },
  {
   "cell_type": "markdown",
   "metadata": {},
   "source": [
    "### Section 89.2: Calling External Commands"
   ]
  },
  {
   "cell_type": "raw",
   "metadata": {},
   "source": [
    "The simplest use case is using the subprocess.call function. It accepts a list as the first argument. The first item in\n",
    "the list should be the external application you want to call. The other items in the list are arguments that will be\n",
    "passed to that application."
   ]
  },
  {
   "cell_type": "code",
   "execution_count": null,
   "metadata": {},
   "outputs": [],
   "source": [
    "subprocess.call([r'C:\\path\\to\\app.exe', 'arg1', '--flag', 'arg'])"
   ]
  },
  {
   "cell_type": "raw",
   "metadata": {},
   "source": [
    "For shell commands, set shell=True and provide the command as a string instead of a list."
   ]
  },
  {
   "cell_type": "code",
   "execution_count": null,
   "metadata": {},
   "outputs": [],
   "source": [
    "subprocess.call('echo \"Hello, world\"', shell=True)"
   ]
  },
  {
   "cell_type": "raw",
   "metadata": {},
   "source": [
    "Note that the two command above return only the exit status of the subprocess. Moreover, pay attention when\n",
    "using shell=True since it provides security issues (see here)."
   ]
  },
  {
   "cell_type": "raw",
   "metadata": {},
   "source": [
    "If you want to be able to get the standard output of the subprocess, then substitute the subprocess.call with\n",
    "subprocess.check_output . For more advanced use, refer to this."
   ]
  },
  {
   "cell_type": "markdown",
   "metadata": {},
   "source": [
    "### Section 89.3: How to create the command list argument"
   ]
  },
  {
   "cell_type": "raw",
   "metadata": {},
   "source": [
    "The subprocess method that allows running commands needs the command in form of a list (at least using\n",
    "shell_mode=True )."
   ]
  },
  {
   "cell_type": "raw",
   "metadata": {},
   "source": [
    "The rules to create the list are not always straightforward to follow, especially with complex commands.\n",
    "Fortunately, there is a very helpful tool that allows doing that: shlex . The easiest way of creating the list to be used\n",
    "as command is the following:"
   ]
  },
  {
   "cell_type": "code",
   "execution_count": null,
   "metadata": {},
   "outputs": [],
   "source": [
    "import shlex\n",
    "cmd_to_subprocess = shlex.split(command_used_in_the_shell)"
   ]
  },
  {
   "cell_type": "raw",
   "metadata": {},
   "source": [
    "A simple example:"
   ]
  },
  {
   "cell_type": "code",
   "execution_count": 6,
   "metadata": {},
   "outputs": [
    {
     "data": {
      "text/plain": [
       "['ls', '--color', '-l', '-t', '-r']"
      ]
     },
     "execution_count": 6,
     "metadata": {},
     "output_type": "execute_result"
    }
   ],
   "source": [
    "import shlex\n",
    "shlex.split('ls --color -l -t -r')"
   ]
  },
  {
   "cell_type": "code",
   "execution_count": null,
   "metadata": {},
   "outputs": [],
   "source": []
  }
 ],
 "metadata": {
  "kernelspec": {
   "display_name": "Python [default]",
   "language": "python",
   "name": "python3"
  },
  "language_info": {
   "codemirror_mode": {
    "name": "ipython",
    "version": 3
   },
   "file_extension": ".py",
   "mimetype": "text/x-python",
   "name": "python",
   "nbconvert_exporter": "python",
   "pygments_lexer": "ipython3",
   "version": "3.6.3"
  }
 },
 "nbformat": 4,
 "nbformat_minor": 2
}
