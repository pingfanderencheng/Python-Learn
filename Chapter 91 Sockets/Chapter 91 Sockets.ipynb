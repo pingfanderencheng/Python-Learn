{
 "cells": [
  {
   "cell_type": "markdown",
   "metadata": {},
   "source": [
    "| Parameter | Description |\n",
    "| :---: | :--: |\n",
    "| socket.AF_UNIX | UNIX Socket |\n",
    "| socket.AF_INET | IPv4 |\n",
    "| socket.AF_INET6 | IPv6 |\n",
    "| socket.SOCK_STREAM | TCP |\n",
    "| socket.SOCK_DGRAM | UDP |"
   ]
  },
  {
   "cell_type": "raw",
   "metadata": {},
   "source": [
    "Many programming languages use sockets to communicate across processes or between devices. This topic\n",
    "explains proper usage the the sockets module in Python to facilitate sending and receiving data over common\n",
    "networking protocols."
   ]
  },
  {
   "cell_type": "markdown",
   "metadata": {},
   "source": [
    "### Section 91.1: Raw Sockets on Linux"
   ]
  },
  {
   "cell_type": "raw",
   "metadata": {},
   "source": [
    "First you disable your network card's automatic checksumming:"
   ]
  },
  {
   "cell_type": "code",
   "execution_count": null,
   "metadata": {},
   "outputs": [],
   "source": [
    "sudo ethtool -K eth1 tx off"
   ]
  },
  {
   "cell_type": "raw",
   "metadata": {},
   "source": [
    "Then send your packet, using a SOCK_RAW socket:"
   ]
  },
  {
   "cell_type": "code",
   "execution_count": 1,
   "metadata": {},
   "outputs": [
    {
     "ename": "ImportError",
     "evalue": "cannot import name 'AF_PACKET'",
     "output_type": "error",
     "traceback": [
      "\u001b[1;31m---------------------------------------------------------------------------\u001b[0m",
      "\u001b[1;31mImportError\u001b[0m                               Traceback (most recent call last)",
      "\u001b[1;32m<ipython-input-1-83772217a8b3>\u001b[0m in \u001b[0;36m<module>\u001b[1;34m()\u001b[0m\n\u001b[1;32m----> 1\u001b[1;33m \u001b[1;32mfrom\u001b[0m \u001b[0msocket\u001b[0m \u001b[1;32mimport\u001b[0m \u001b[0msocket\u001b[0m\u001b[1;33m,\u001b[0m \u001b[0mAF_PACKET\u001b[0m\u001b[1;33m,\u001b[0m \u001b[0mSOCK_RAW\u001b[0m\u001b[1;33m\u001b[0m\u001b[0m\n\u001b[0m\u001b[0;32m      2\u001b[0m \u001b[0ms\u001b[0m \u001b[1;33m=\u001b[0m \u001b[0msocket\u001b[0m\u001b[1;33m(\u001b[0m\u001b[0mAF_PACKET\u001b[0m\u001b[1;33m,\u001b[0m \u001b[0mSOCK_RAW\u001b[0m\u001b[1;33m)\u001b[0m\u001b[1;33m\u001b[0m\u001b[0m\n\u001b[0;32m      3\u001b[0m \u001b[0ms\u001b[0m\u001b[1;33m.\u001b[0m\u001b[0mbind\u001b[0m\u001b[1;33m(\u001b[0m\u001b[1;33m(\u001b[0m\u001b[1;34m\"eth1\"\u001b[0m\u001b[1;33m,\u001b[0m \u001b[1;36m0\u001b[0m\u001b[1;33m)\u001b[0m\u001b[1;33m)\u001b[0m\u001b[1;33m\u001b[0m\u001b[0m\n\u001b[0;32m      4\u001b[0m \u001b[1;31m# We're putting together an ethernet frame here,\u001b[0m\u001b[1;33m\u001b[0m\u001b[1;33m\u001b[0m\u001b[0m\n\u001b[0;32m      5\u001b[0m \u001b[1;31m# but you could have anything you want instead\u001b[0m\u001b[1;33m\u001b[0m\u001b[1;33m\u001b[0m\u001b[0m\n",
      "\u001b[1;31mImportError\u001b[0m: cannot import name 'AF_PACKET'"
     ]
    }
   ],
   "source": [
    "from socket import socket, AF_PAXKET, SOCK_RAW\n",
    "s = socket(AF_PACKET, SOCK_RAW)\n",
    "s.bind((\"eth1\", 0))\n",
    "# We're putting together an ethernet frame here,\n",
    "# but you could have anything you want instead\n",
    "# Have a look at the 'struct' module for more\n",
    "# flexible packing/unpacking of binary data\n",
    "# and 'binascii' for 32 bit CRC\n",
    "src_addr = \"\\x01\\x02\\x03\\x04\\x05\\x06\"\n",
    "dst_addr = \"\\x01\\x02\\x03\\x04\\x05\\x06\"\n",
    "payload = (\"[\"*30)+\"PAYLOAD\"+(\"]\"*30)\n",
    "checksum = \"\\x1a\\x2b\\x3c\\x4d\"\n",
    "ethertype = \"\\x08\\x01\"\n",
    "s.send(dst_addr+src_addr+ethertype+payload+checksum)"
   ]
  },
  {
   "cell_type": "markdown",
   "metadata": {},
   "source": [
    "#### 我的电脑是windows， 无法测试该程序，而且，出现引入错误。"
   ]
  },
  {
   "cell_type": "markdown",
   "metadata": {},
   "source": [
    "### Section 91.2: Sending data via UDP"
   ]
  },
  {
   "cell_type": "raw",
   "metadata": {},
   "source": [
    "UDP is a connectionless protocol. Messages to other processes or computers are sent without establishing any sort\n",
    "of connection. There is no automatic confirmation if your message has been received. UDP is usually used in\n",
    "latency sensitive applications or in applications sending network wide broadcasts."
   ]
  },
  {
   "cell_type": "raw",
   "metadata": {},
   "source": [
    "The following code sends a message to a process listening on localhost port 6667 using UDP"
   ]
  },
  {
   "cell_type": "raw",
   "metadata": {},
   "source": [
    "Note that there is no need to \"close\" the socket after the send, because UDP is connectionless."
   ]
  },
  {
   "cell_type": "code",
   "execution_count": 3,
   "metadata": {},
   "outputs": [
    {
     "data": {
      "text/plain": [
       "16"
      ]
     },
     "execution_count": 3,
     "metadata": {},
     "output_type": "execute_result"
    }
   ],
   "source": [
    "from socket import socket, AF_INET, SOCK_DGRAM\n",
    "s = socket(AF_INET, SOCK_DGRAM)\n",
    "msg = (\"Hello you there!\").encode('utf-8') # socket.sendto() takes bytes as input, hence we must encode the string first.\n",
    "s.sendto(msg, ('localhost', 6667))"
   ]
  },
  {
   "cell_type": "markdown",
   "metadata": {},
   "source": [
    "### Section 91.3: Receiving data via UDP"
   ]
  },
  {
   "cell_type": "raw",
   "metadata": {},
   "source": [
    "UDP is a connectionless protocol. This means that peers sending messages do not require establishing a\n",
    "connection before sending messages. socket.recvfrom thus returns a tuple ( msg [the message the socket received],\n",
    "addr [the address of the sender])"
   ]
  },
  {
   "cell_type": "raw",
   "metadata": {},
   "source": [
    "A UDP server using solely the socket module:"
   ]
  },
  {
   "cell_type": "code",
   "execution_count": null,
   "metadata": {},
   "outputs": [
    {
     "name": "stdout",
     "output_type": "stream",
     "text": [
      "Got message from ('127.0.0.1', 51304): b'Hello you there!'\n"
     ]
    }
   ],
   "source": [
    "from socket import socket, AF_INET, SOCK_DGRAM\n",
    "sock = socket(AF_INET, SOCK_DGRAM)\n",
    "sock.bind(('localhost', 6667))\n",
    "while True:\n",
    "    msg, addr = sock.recvfrom(8192) # This is the amount of bytes to read at maximum\n",
    "    print(\"Got message from %s: %s\" % (addr, msg))"
   ]
  },
  {
   "cell_type": "code",
   "execution_count": 2,
   "metadata": {},
   "outputs": [
    {
     "data": {
      "text/plain": [
       "16"
      ]
     },
     "execution_count": 2,
     "metadata": {},
     "output_type": "execute_result"
    }
   ],
   "source": [
    "from socket import socket, AF_INET, SOCK_DGRAM\n",
    "s = socket(AF_INET, SOCK_DGRAM)\n",
    "msg = (\"Hello you there!\").encode('utf-8') # socket.sendto() takes bytes as input, hence we must encode the string first.\n",
    "s.sendto(msg, ('localhost', 6667))"
   ]
  },
  {
   "cell_type": "code",
   "execution_count": null,
   "metadata": {},
   "outputs": [],
   "source": [
    "Below is an alternative implementation using socketserver.UDPServer :"
   ]
  },
  {
   "cell_type": "code",
   "execution_count": null,
   "metadata": {},
   "outputs": [
    {
     "name": "stdout",
     "output_type": "stream",
     "text": [
      "Got connection from: ('127.0.0.1', 59861)\n",
      "It said: b'Hello you there!'\n"
     ]
    }
   ],
   "source": [
    "from socketserver import BaseRequestHandler, UDPServer\n",
    "class MyHandler(BaseRequestHandler):\n",
    "    def handle(self):\n",
    "        print(\"Got connection from:\", self.client_address)\n",
    "        msg, sock = self.request\n",
    "        print(\"It said: %s\" % msg)\n",
    "        sock.sendto(\"Got your message!\".encode(), self.client_address) # Send reply\n",
    "serv = UDPServer(('localhost', 6667), MyHandler)\n",
    "serv.serve_forever()"
   ]
  },
  {
   "cell_type": "markdown",
   "metadata": {},
   "source": [
    "**By default, sockets block. This means that execution of the script will wait until the socket receives data.**"
   ]
  },
  {
   "cell_type": "raw",
   "metadata": {},
   "source": [
    "开启UDP服务器后会阻塞主线程，就不能运行其他的程序。运行UDP服务器程序后，需要重新开一个Notebook运行客户端程序。为了关闭UDP服务器程序，可以重启下Notebook的kernel。"
   ]
  },
  {
   "cell_type": "markdown",
   "metadata": {},
   "source": [
    "### Section 91.4: Sending data via TCP"
   ]
  },
  {
   "cell_type": "raw",
   "metadata": {},
   "source": [
    "Sending data over the internet is made possible using multiple modules. The sockets module provides low-level\n",
    "access to the underlying Operating System operations responsible for sending or receiving data from other\n",
    "computers or processes."
   ]
  },
  {
   "cell_type": "raw",
   "metadata": {},
   "source": [
    "The following code sends the byte string b'Hello' to a TCP server listening on port 6667 on the host localhost and\n",
    "closes the connection when finished:"
   ]
  },
  {
   "cell_type": "code",
   "execution_count": null,
   "metadata": {},
   "outputs": [],
   "source": [
    "from socket import socket, AF_INET, SOCK_STREAM\n",
    "s = socket(AF_INET, SOCK_STREAM)\n",
    "s.connect(('localhost', 6667)) # The address of the TCP server listening\n",
    "s.send(b'Hello')\n",
    "s.close()"
   ]
  },
  {
   "cell_type": "raw",
   "metadata": {},
   "source": [
    "Socket output is blocking by default, that means that the program will wait in the connect and send calls until the\n",
    "action is 'completed'. For connect that means the server actually accepting the connection. For send it only means\n",
    "that the operating system has enough buffer space to queue the data to be send later."
   ]
  },
  {
   "cell_type": "raw",
   "metadata": {},
   "source": [
    "Sockets should always be closed after use."
   ]
  },
  {
   "cell_type": "markdown",
   "metadata": {},
   "source": [
    "### Section 91.5: Multi-threaded TCP Socket Server"
   ]
  },
  {
   "cell_type": "raw",
   "metadata": {},
   "source": [
    "When run with no arguments, this program starts a TCP socket server that listens for connections to 127.0.0.1 on\n",
    "port 5000 . The server handles each connection in a separate thread."
   ]
  },
  {
   "cell_type": "raw",
   "metadata": {},
   "source": [
    "When run with the -c argument, this program connects to the server, reads the client list, and prints it out. The\n",
    "client list is transferred as a JSON string. The client name may be specified by passing the -n argument. By passing\n",
    "different names, the effect on the client list may be observed."
   ]
  },
  {
   "cell_type": "code",
   "execution_count": null,
   "metadata": {},
   "outputs": [],
   "source": [
    "%%cmd\n",
    "python client_list.py"
   ]
  },
  {
   "cell_type": "code",
   "execution_count": null,
   "metadata": {},
   "outputs": [],
   "source": [
    "%%cmd\n",
    "python client_list.py -c -n name1"
   ]
  },
  {
   "cell_type": "raw",
   "metadata": {},
   "source": [
    "未知原因，一直无法成功运行示例程序"
   ]
  },
  {
   "cell_type": "code",
   "execution_count": null,
   "metadata": {},
   "outputs": [],
   "source": []
  }
 ],
 "metadata": {
  "kernelspec": {
   "display_name": "Python [conda env:Anaconda3]",
   "language": "python",
   "name": "conda-env-Anaconda3-py"
  },
  "language_info": {
   "codemirror_mode": {
    "name": "ipython",
    "version": 3
   },
   "file_extension": ".py",
   "mimetype": "text/x-python",
   "name": "python",
   "nbconvert_exporter": "python",
   "pygments_lexer": "ipython3",
   "version": "3.6.3"
  }
 },
 "nbformat": 4,
 "nbformat_minor": 2
}
