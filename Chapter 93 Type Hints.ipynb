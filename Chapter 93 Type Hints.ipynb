{
 "cells": [
  {
   "cell_type": "markdown",
   "metadata": {},
   "source": [
    "### Section 93.1: Adding types to a function"
   ]
  },
  {
   "cell_type": "raw",
   "metadata": {},
   "source": [
    "Let's take an example of a function which receives two arguments and returns a value indicating their sum:"
   ]
  },
  {
   "cell_type": "code",
   "execution_count": 1,
   "metadata": {},
   "outputs": [],
   "source": [
    "def two_sum(a, b):\n",
    "    return a + b"
   ]
  },
  {
   "cell_type": "raw",
   "metadata": {},
   "source": [
    "By looking at this code, one can not safely and without doubt indicate the type of the arguments for function\n",
    "two_sum . It works both when supplied with int values:"
   ]
  },
  {
   "cell_type": "code",
   "execution_count": 2,
   "metadata": {},
   "outputs": [
    {
     "name": "stdout",
     "output_type": "stream",
     "text": [
      "3\n"
     ]
    }
   ],
   "source": [
    "print(two_sum(2, 1)) # result: 3"
   ]
  },
  {
   "cell_type": "raw",
   "metadata": {},
   "source": [
    "and with strings:"
   ]
  },
  {
   "cell_type": "code",
   "execution_count": 3,
   "metadata": {},
   "outputs": [
    {
     "name": "stdout",
     "output_type": "stream",
     "text": [
      "ab\n"
     ]
    }
   ],
   "source": [
    "print(two_sum(\"a\", \"b\")) # result: \"ab\""
   ]
  },
  {
   "cell_type": "raw",
   "metadata": {},
   "source": [
    "and with other values, such as list s, tuple s et cetera."
   ]
  },
  {
   "cell_type": "raw",
   "metadata": {},
   "source": [
    "Due to this dynamic nature of python types, where many are applicable for a given operation, any type checker\n",
    "would not be able to reasonably assert whether a call for this function should be allowed or not."
   ]
  },
  {
   "cell_type": "raw",
   "metadata": {},
   "source": [
    "To assist our type checker we can now provide type hints for it in the Function definition indicating the type that we\n",
    "allow."
   ]
  },
  {
   "cell_type": "raw",
   "metadata": {},
   "source": [
    "To indicate that we only want to allow int types we can change our function definition to look like:"
   ]
  },
  {
   "cell_type": "code",
   "execution_count": 4,
   "metadata": {},
   "outputs": [],
   "source": [
    "def two_sum(a: int, b: int):\n",
    "    return a + b"
   ]
  },
  {
   "cell_type": "code",
   "execution_count": 5,
   "metadata": {},
   "outputs": [
    {
     "data": {
      "text/plain": [
       "3"
      ]
     },
     "execution_count": 5,
     "metadata": {},
     "output_type": "execute_result"
    }
   ],
   "source": [
    "two_sum(1,2)"
   ]
  },
  {
   "cell_type": "code",
   "execution_count": 6,
   "metadata": {},
   "outputs": [
    {
     "data": {
      "text/plain": [
       "'ab'"
      ]
     },
     "execution_count": 6,
     "metadata": {},
     "output_type": "execute_result"
    }
   ],
   "source": [
    "two_sum('a', 'b')"
   ]
  },
  {
   "cell_type": "raw",
   "metadata": {},
   "source": [
    "Similarly, to indicate only str types are allowed, we'd change our function to specify it:"
   ]
  },
  {
   "cell_type": "code",
   "execution_count": 8,
   "metadata": {},
   "outputs": [],
   "source": [
    "def two_sum(a: str, b: str):\n",
    "    return a + b"
   ]
  },
  {
   "cell_type": "raw",
   "metadata": {},
   "source": [
    "Apart from specifying the type of the arguments, one could also indicate the return value of a function call. This is\n",
    "done by adding the -> character followed by the type after the closing parenthesis in the argument list but before\n",
    "the : at the end of the function declaration:"
   ]
  },
  {
   "cell_type": "code",
   "execution_count": 9,
   "metadata": {},
   "outputs": [],
   "source": [
    "def two_sum(a: int, b: int) -> int:\n",
    "    return a + b"
   ]
  },
  {
   "cell_type": "code",
   "execution_count": 10,
   "metadata": {},
   "outputs": [
    {
     "data": {
      "text/plain": [
       "'ab'"
      ]
     },
     "execution_count": 10,
     "metadata": {},
     "output_type": "execute_result"
    }
   ],
   "source": [
    "two_sum('a', 'b')"
   ]
  },
  {
   "cell_type": "raw",
   "metadata": {},
   "source": [
    "Now we've indicated that the return value when calling two_sum should be of type int . Similarly we can define\n",
    "appropriate values for str , float , list , set and others."
   ]
  },
  {
   "cell_type": "markdown",
   "metadata": {},
   "source": [
    "**Although type hints are mostly used by type checkers and IDEs**, sometimes you may need to retrieve them. This can\n",
    "be done using the \\_\\_annotations\\_\\_ special attribute:"
   ]
  },
  {
   "cell_type": "code",
   "execution_count": 11,
   "metadata": {},
   "outputs": [
    {
     "data": {
      "text/plain": [
       "{'a': int, 'b': int, 'return': int}"
      ]
     },
     "execution_count": 11,
     "metadata": {},
     "output_type": "execute_result"
    }
   ],
   "source": [
    "two_sum.__annotations__"
   ]
  },
  {
   "cell_type": "markdown",
   "metadata": {},
   "source": [
    "**类型提示只是针对IDE和类型检测的工具用的，对功能没有影响，设置为Int后，还是可以使用字符串参数**"
   ]
  },
  {
   "cell_type": "markdown",
   "metadata": {},
   "source": [
    "### Section 93.2: NamedTuple"
   ]
  },
  {
   "cell_type": "raw",
   "metadata": {},
   "source": [
    "Creating a namedtuple with type hints is done using the function NamedTuple from the typing module:"
   ]
  },
  {
   "cell_type": "code",
   "execution_count": 12,
   "metadata": {},
   "outputs": [],
   "source": [
    "import typing\n",
    "Point = typing.NamedTuple('Point', [('x', int), ('y', int)])"
   ]
  },
  {
   "cell_type": "raw",
   "metadata": {},
   "source": [
    "Note that the name of the resulting type is the first argument to the function, but it should be assigned to a variable\n",
    "with the same name to ease the work of type checkers."
   ]
  },
  {
   "cell_type": "markdown",
   "metadata": {},
   "source": [
    "### Section 93.3: Generic Types"
   ]
  },
  {
   "cell_type": "code",
   "execution_count": null,
   "metadata": {},
   "outputs": [],
   "source": [
    "The typing.TypeVar is a generic type factory. It's primary goal is to serve as a parameter/placeholder for generic\n",
    "function/class/method annotations:"
   ]
  },
  {
   "cell_type": "code",
   "execution_count": 13,
   "metadata": {},
   "outputs": [],
   "source": [
    "import typing\n",
    "T = typing.TypeVar(\"T\")\n",
    "def get_first_element(l: typing.Sequence[T]) -> T:\n",
    "    \"\"\"Gets the first element of a sequence.\"\"\"\n",
    "    return l[0]"
   ]
  },
  {
   "cell_type": "markdown",
   "metadata": {},
   "source": [
    "### Section 93.4: Variables and Attributes"
   ]
  },
  {
   "cell_type": "raw",
   "metadata": {},
   "source": [
    "Variables are annotated using comments:"
   ]
  },
  {
   "cell_type": "code",
   "execution_count": 17,
   "metadata": {},
   "outputs": [],
   "source": [
    "x = 3 # type: int"
   ]
  },
  {
   "cell_type": "raw",
   "metadata": {},
   "source": [
    "Starting from Python 3.6, there is also new syntax for variable annotations. The code above might use the form"
   ]
  },
  {
   "cell_type": "code",
   "execution_count": 18,
   "metadata": {},
   "outputs": [],
   "source": [
    "x : int = 3"
   ]
  },
  {
   "cell_type": "raw",
   "metadata": {},
   "source": [
    "Unlike with comments, it is also possible to just add a type hint to a variable that was not previously declared,\n",
    "without setting a value to it:"
   ]
  },
  {
   "cell_type": "code",
   "execution_count": 19,
   "metadata": {},
   "outputs": [],
   "source": [
    "y: int"
   ]
  },
  {
   "cell_type": "raw",
   "metadata": {},
   "source": [
    "Additionally if these are used in the module or the class level, the type hints can be retrieved using\n",
    "typing.get_type_hints(class_or_module) :"
   ]
  },
  {
   "cell_type": "code",
   "execution_count": 20,
   "metadata": {},
   "outputs": [
    {
     "name": "stdout",
     "output_type": "stream",
     "text": [
      "{'x': <class 'int'>, 'y': <class 'str'>}\n"
     ]
    }
   ],
   "source": [
    "class Foo:\n",
    "    x: int\n",
    "    y: str = 'abc'\n",
    "print(typing.get_type_hints(Foo))"
   ]
  },
  {
   "cell_type": "raw",
   "metadata": {},
   "source": [
    "Alternatively, they can be accessed by using the __annotations__ special variable or attribute:"
   ]
  },
  {
   "cell_type": "code",
   "execution_count": 21,
   "metadata": {},
   "outputs": [
    {
     "name": "stdout",
     "output_type": "stream",
     "text": [
      "{'x': <class 'int'>, 'y': <class 'int'>}\n"
     ]
    }
   ],
   "source": [
    "x: int\n",
    "print(__annotations__)"
   ]
  },
  {
   "cell_type": "code",
   "execution_count": 22,
   "metadata": {},
   "outputs": [
    {
     "name": "stdout",
     "output_type": "stream",
     "text": [
      "{'s': <class 'str'>}\n"
     ]
    }
   ],
   "source": [
    "class C:\n",
    "    s: str\n",
    "print(C.__annotations__)"
   ]
  },
  {
   "cell_type": "markdown",
   "metadata": {},
   "source": [
    "### Section 93.5: Class Members and Methods"
   ]
  },
  {
   "cell_type": "code",
   "execution_count": 23,
   "metadata": {},
   "outputs": [],
   "source": [
    "class A:\n",
    "    x = None # type: float\n",
    "    def __init__(self, x: float) -> None:\n",
    "        \"\"\"\n",
    "        self should not be annotated\n",
    "        init should be annotated to return None\n",
    "        \"\"\"\n",
    "        self.x = x\n",
    "    @classmethod\n",
    "    def from_int(cls, x: int) -> 'A':\n",
    "        \"\"\"\n",
    "        cls should not be annotated\n",
    "        Use forward reference to refer to current class with string literal 'A'\n",
    "        \"\"\"\n",
    "        return cls(float(x))"
   ]
  },
  {
   "cell_type": "code",
   "execution_count": 25,
   "metadata": {},
   "outputs": [
    {
     "name": "stdout",
     "output_type": "stream",
     "text": [
      "{'x': <class 'int'>, 'return': 'A'}\n"
     ]
    }
   ],
   "source": [
    "print(A.from_int.__annotations__)"
   ]
  },
  {
   "cell_type": "code",
   "execution_count": 26,
   "metadata": {},
   "outputs": [
    {
     "name": "stdout",
     "output_type": "stream",
     "text": [
      "{'x': <class 'float'>, 'return': None}\n"
     ]
    }
   ],
   "source": [
    "print(A.__init__.__annotations__)"
   ]
  },
  {
   "cell_type": "raw",
   "metadata": {},
   "source": [
    "Forward reference of the current class is needed since annotations are evaluated when the function is defined.\n",
    "Forward references can also be used when referring to a class that would cause a circular import if imported."
   ]
  },
  {
   "cell_type": "markdown",
   "metadata": {},
   "source": [
    "### Section 93.6: Type hints for keyword arguments"
   ]
  },
  {
   "cell_type": "code",
   "execution_count": 27,
   "metadata": {},
   "outputs": [],
   "source": [
    "def hello_world(greeting: str = 'Hello'):\n",
    "    print(greeting + ' world!')"
   ]
  },
  {
   "cell_type": "raw",
   "metadata": {},
   "source": [
    "Note the spaces around the equal sign as opposed to how keyword arguments are usually styled."
   ]
  },
  {
   "cell_type": "code",
   "execution_count": 28,
   "metadata": {},
   "outputs": [
    {
     "name": "stdout",
     "output_type": "stream",
     "text": [
      "{'greeting': <class 'str'>}\n"
     ]
    }
   ],
   "source": [
    "print(hello_world.__annotations__)"
   ]
  },
  {
   "cell_type": "code",
   "execution_count": null,
   "metadata": {},
   "outputs": [],
   "source": []
  }
 ],
 "metadata": {
  "kernelspec": {
   "display_name": "Python [default]",
   "language": "python",
   "name": "python3"
  },
  "language_info": {
   "codemirror_mode": {
    "name": "ipython",
    "version": 3
   },
   "file_extension": ".py",
   "mimetype": "text/x-python",
   "name": "python",
   "nbconvert_exporter": "python",
   "pygments_lexer": "ipython3",
   "version": "3.6.3"
  }
 },
 "nbformat": 4,
 "nbformat_minor": 2
}
