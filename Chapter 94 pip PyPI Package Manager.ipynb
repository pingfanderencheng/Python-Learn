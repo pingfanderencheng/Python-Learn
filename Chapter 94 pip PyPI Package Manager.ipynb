{
 "cells": [
  {
   "cell_type": "raw",
   "metadata": {},
   "source": [
    "pip is the most widely-used package manager for the Python Package Index, installed by default with recent\n",
    "versions of Python"
   ]
  },
  {
   "cell_type": "markdown",
   "metadata": {},
   "source": [
    "### Section 94.1: Install Packages"
   ]
  },
  {
   "cell_type": "raw",
   "metadata": {},
   "source": [
    "To install the latest version of a package named SomePackage :"
   ]
  },
  {
   "cell_type": "code",
   "execution_count": null,
   "metadata": {},
   "outputs": [],
   "source": [
    "$ pip install SomePackage"
   ]
  },
  {
   "cell_type": "raw",
   "metadata": {},
   "source": [
    "To install a specific version of a package:"
   ]
  },
  {
   "cell_type": "code",
   "execution_count": null,
   "metadata": {},
   "outputs": [],
   "source": [
    "$ pip install SomePackage==1.0.4"
   ]
  },
  {
   "cell_type": "raw",
   "metadata": {},
   "source": [
    "To specify a minimum version to install for a package:"
   ]
  },
  {
   "cell_type": "code",
   "execution_count": null,
   "metadata": {},
   "outputs": [],
   "source": [
    "$ pip install SomePackage>=1.0.4"
   ]
  },
  {
   "cell_type": "raw",
   "metadata": {},
   "source": [
    "If commands shows permission denied error on Linux/Unix then use sudo with the commands\n",
    "Install from requirements files"
   ]
  },
  {
   "cell_type": "code",
   "execution_count": null,
   "metadata": {},
   "outputs": [],
   "source": [
    "$ pip install -r requirements.txt"
   ]
  },
  {
   "cell_type": "raw",
   "metadata": {},
   "source": [
    "Each line of the requirements file indicates something to be installed, and like arguments to pip install, Details on\n",
    "the format of the files are here: Requirements File Format."
   ]
  },
  {
   "cell_type": "raw",
   "metadata": {},
   "source": [
    "After install the package you can check it using freeze command:"
   ]
  },
  {
   "cell_type": "code",
   "execution_count": null,
   "metadata": {},
   "outputs": [],
   "source": [
    "$ pip freeze"
   ]
  },
  {
   "cell_type": "code",
   "execution_count": 6,
   "metadata": {},
   "outputs": [
    {
     "name": "stdout",
     "output_type": "stream",
     "text": [
      "Microsoft Windows [版本 10.0.16299.125]\n",
      "(c) 2017 Microsoft Corporation。保留所有权利。\n",
      "\n",
      "E:\\MyFile\\Jupyter\\Python-Learn>pip freeze\n",
      "alabaster==0.7.10\n",
      "anaconda-client==1.6.5\n",
      "anaconda-navigator==1.7.0\n",
      "anaconda-project==0.8.0\n",
      "asn1crypto==0.22.0\n",
      "astroid==1.5.3\n",
      "astropy==2.0.2\n",
      "babel==2.5.0\n",
      "backports.shutil-get-terminal-size==1.0.0\n",
      "beautifulsoup4==4.6.0\n",
      "bitarray==0.8.1\n",
      "bkcharts==0.2\n",
      "blaze==0.11.3\n",
      "bleach==2.0.0\n",
      "bokeh==0.12.10\n",
      "boto==2.48.0\n",
      "Bottleneck==1.2.1\n",
      "CacheControl==0.12.3\n",
      "certifi==2018.1.18\n",
      "cffi==1.10.0\n",
      "chardet==3.0.4\n",
      "click==6.7\n",
      "cloudpickle==0.4.0\n",
      "clyent==1.2.2\n",
      "colorama==0.3.9\n",
      "comtypes==1.1.2\n",
      "conda==4.4.8\n",
      "conda-build==3.0.27\n",
      "conda-verify==2.0.0\n",
      "contextlib2==0.5.5\n",
      "cryptography==2.0.3\n",
      "cssselect==1.0.3\n",
      "cycler==0.10.0\n",
      "Cython==0.26.1\n",
      "cytoolz==0.8.2\n",
      "dask==0.15.3\n",
      "datashape==0.5.4\n",
      "decorator==4.1.2\n",
      "distlib==0.2.5\n",
      "distributed==1.19.1\n",
      "docopt==0.6.2\n",
      "docutils==0.14\n",
      "entrypoints==0.2.3\n",
      "et-xmlfile==1.0.1\n",
      "fastcache==1.0.2\n",
      "filelock==2.0.12\n",
      "Flask==0.12.2\n",
      "Flask-Cors==3.0.3\n",
      "gevent==1.2.2\n",
      "glob2==0.5\n",
      "greenlet==0.4.12\n",
      "h5py==2.7.0\n",
      "heapdict==1.0.0\n",
      "html5lib==0.999999999\n",
      "idna==2.6\n",
      "imageio==2.2.0\n",
      "imagesize==0.7.1\n",
      "ipykernel==4.6.1\n",
      "ipyparallel==6.1.1\n",
      "ipython==6.1.0\n",
      "ipython-genutils==0.2.0\n",
      "ipywidgets==7.0.0\n",
      "isort==4.2.15\n",
      "itsdangerous==0.24\n",
      "jdcal==1.3\n",
      "jedi==0.10.2\n",
      "Jinja2==2.9.6\n",
      "jsonschema==2.6.0\n",
      "jupyter-client==5.1.0\n",
      "jupyter-console==5.2.0\n",
      "jupyter-core==4.3.0\n",
      "jupyterlab==0.31.8\n",
      "jupyterlab-launcher==0.10.2\n",
      "lazy-object-proxy==1.3.1\n",
      "llvmlite==0.20.0\n",
      "locket==0.2.0\n",
      "lockfile==0.12.2\n",
      "lxml==4.1.0\n",
      "MarkupSafe==1.0\n",
      "matplotlib==2.1.0\n",
      "mccabe==0.6.1\n",
      "menuinst==1.4.10\n",
      "mistune==0.7.4\n",
      "mpmath==0.19\n",
      "msgpack-python==0.4.8\n",
      "multipledispatch==0.4.9\n",
      "navigator-updater==0.1.0\n",
      "nb-anacondacloud==1.4.0\n",
      "nb-conda==2.2.0\n",
      "nb-conda-kernels==2.1.0\n",
      "nbconvert==5.3.1\n",
      "nbformat==4.4.0\n",
      "nbpresent==3.0.2\n",
      "networkx==2.0\n",
      "nltk==3.2.4\n",
      "nose==1.3.7\n",
      "notebook==5.0.0\n",
      "numba==0.35.0+10.g143f70e\n",
      "numexpr==2.6.2\n",
      "numpy==1.13.3\n",
      "numpydoc==0.7.0\n",
      "odo==0.5.1\n",
      "olefile==0.44\n",
      "openpyxl==2.4.8\n",
      "packaging==16.8\n",
      "pandas==0.20.3\n",
      "pandocfilters==1.4.2\n",
      "partd==0.3.8\n",
      "path.py==10.3.1\n",
      "pathlib2==2.3.0\n",
      "patsy==0.4.1\n",
      "pep8==1.7.0\n",
      "pickleshare==0.7.4\n",
      "Pillow==4.2.1\n",
      "pkginfo==1.4.1\n",
      "ply==3.10\n",
      "progress==1.3\n",
      "prompt-toolkit==1.0.15\n",
      "psutil==5.4.0\n",
      "py==1.4.34\n",
      "pycodestyle==2.3.1\n",
      "pycosat==0.6.3\n",
      "pycparser==2.18\n",
      "pycrypto==2.6.1\n",
      "pycurl==7.43.0\n",
      "pyflakes==1.6.0\n",
      "Pygments==2.2.0\n",
      "pylint==1.7.4\n",
      "pyodbc==4.0.17\n",
      "pyOpenSSL==17.2.0\n",
      "pyparsing==2.2.0\n",
      "pyquery==1.4.0\n",
      "PySocks==1.6.7\n",
      "pytest==3.2.1\n",
      "python-dateutil==2.6.1\n",
      "pytz==2017.2\n",
      "PyWavelets==0.5.2\n",
      "pywin32==221\n",
      "PyYAML==3.12\n",
      "pyzmq==16.0.2\n",
      "QtAwesome==0.4.4\n",
      "qtconsole==4.3.1\n",
      "QtPy==1.3.1\n",
      "requests==2.18.4\n",
      "rope==0.10.5\n",
      "ruamel-yaml==0.11.14\n",
      "scikit-image==0.13.0\n",
      "scikit-learn==0.19.1\n",
      "scipy==0.19.1\n",
      "seaborn==0.8\n",
      "simplegeneric==0.8.1\n",
      "singledispatch==3.4.0.3\n",
      "six==1.11.0\n",
      "snowballstemmer==1.2.1\n",
      "sortedcollections==0.5.3\n",
      "sortedcontainers==1.5.7\n",
      "Sphinx==1.6.3\n",
      "sphinxcontrib-websupport==1.0.1\n",
      "spyder==3.2.4\n",
      "SQLAlchemy==1.1.13\n",
      "statsmodels==0.8.0\n",
      "sympy==1.1.1\n",
      "tables==3.4.2\n",
      "tblib==1.3.2\n",
      "testpath==0.3.1\n",
      "toolz==0.8.2\n",
      "tornado==4.5.2\n",
      "traitlets==4.3.2\n",
      "typing==3.6.2\n",
      "unicodecsv==0.14.1\n",
      "urllib3==1.22\n",
      "wcwidth==0.1.7\n",
      "webencodings==0.5.1\n",
      "Werkzeug==0.12.2\n",
      "widgetsnbextension==3.0.2\n",
      "win-inet-pton==1.0.1\n",
      "win-unicode-console==0.5\n",
      "wincertstore==0.2\n",
      "wrapt==1.10.11\n",
      "xlrd==1.1.0\n",
      "XlsxWriter==1.0.2\n",
      "xlwings==0.11.4\n",
      "xlwt==1.3.0\n",
      "zict==0.1.3\n",
      "\n",
      "E:\\MyFile\\Jupyter\\Python-Learn>"
     ]
    }
   ],
   "source": [
    "%%cmd\n",
    "pip freeze"
   ]
  },
  {
   "cell_type": "markdown",
   "metadata": {},
   "source": [
    "### Section 94.2: To list all packages installed using `pip`"
   ]
  },
  {
   "cell_type": "raw",
   "metadata": {},
   "source": [
    "To list installed packages:"
   ]
  },
  {
   "cell_type": "code",
   "execution_count": 1,
   "metadata": {},
   "outputs": [
    {
     "name": "stdout",
     "output_type": "stream",
     "text": [
      "Microsoft Windows [版本 10.0.16299.125]\n",
      "(c) 2017 Microsoft Corporation。保留所有权利。\n",
      "\n",
      "E:\\MyFile\\Jupyter\\Python-Learn>pip list\n",
      "alabaster (0.7.10)\n",
      "anaconda-client (1.6.5)\n",
      "anaconda-navigator (1.7.0)\n",
      "anaconda-project (0.8.0)\n",
      "asn1crypto (0.22.0)\n",
      "astroid (1.5.3)\n",
      "astropy (2.0.2)\n",
      "babel (2.5.0)\n",
      "backports.shutil-get-terminal-size (1.0.0)\n",
      "beautifulsoup4 (4.6.0)\n",
      "bitarray (0.8.1)\n",
      "bkcharts (0.2)\n",
      "blaze (0.11.3)\n",
      "bleach (2.0.0)\n",
      "bokeh (0.12.10)\n",
      "boto (2.48.0)\n",
      "Bottleneck (1.2.1)\n",
      "CacheControl (0.12.3)\n",
      "certifi (2018.1.18)\n",
      "cffi (1.10.0)\n",
      "chardet (3.0.4)\n",
      "click (6.7)\n",
      "cloudpickle (0.4.0)\n",
      "clyent (1.2.2)\n",
      "colorama (0.3.9)\n",
      "comtypes (1.1.2)\n",
      "conda (4.4.8)\n",
      "conda-build (3.0.27)\n",
      "conda-verify (2.0.0)\n",
      "contextlib2 (0.5.5)\n",
      "cryptography (2.0.3)\n",
      "cssselect (1.0.3)\n",
      "cycler (0.10.0)\n",
      "Cython (0.26.1)\n",
      "cytoolz (0.8.2)\n",
      "dask (0.15.3)\n",
      "datashape (0.5.4)\n",
      "decorator (4.1.2)\n",
      "distlib (0.2.5)\n",
      "distributed (1.19.1)\n",
      "docopt (0.6.2)\n",
      "docutils (0.14)\n",
      "entrypoints (0.2.3)\n",
      "et-xmlfile (1.0.1)\n",
      "fastcache (1.0.2)\n",
      "filelock (2.0.12)\n",
      "Flask (0.12.2)\n",
      "Flask-Cors (3.0.3)\n",
      "gevent (1.2.2)\n",
      "glob2 (0.5)\n",
      "greenlet (0.4.12)\n",
      "h5py (2.7.0)\n",
      "heapdict (1.0.0)\n",
      "html5lib (0.999999999)\n",
      "idna (2.6)\n",
      "imageio (2.2.0)\n",
      "imagesize (0.7.1)\n",
      "ipykernel (4.6.1)\n",
      "ipyparallel (6.1.1)\n",
      "ipython (6.1.0)\n",
      "ipython-genutils (0.2.0)\n",
      "ipywidgets (7.0.0)\n",
      "isort (4.2.15)\n",
      "itsdangerous (0.24)\n",
      "jdcal (1.3)\n",
      "jedi (0.10.2)\n",
      "Jinja2 (2.9.6)\n",
      "jsonschema (2.6.0)\n",
      "jupyter-client (5.1.0)\n",
      "jupyter-console (5.2.0)\n",
      "jupyter-core (4.3.0)\n",
      "jupyterlab (0.31.8)\n",
      "jupyterlab-launcher (0.10.2)\n",
      "lazy-object-proxy (1.3.1)\n",
      "llvmlite (0.20.0)\n",
      "locket (0.2.0)\n",
      "lockfile (0.12.2)\n",
      "lxml (4.1.0)\n",
      "MarkupSafe (1.0)\n",
      "matplotlib (2.1.0)\n",
      "mccabe (0.6.1)\n",
      "menuinst (1.4.10)\n",
      "mistune (0.7.4)\n",
      "mpmath (0.19)\n",
      "msgpack-python (0.4.8)\n",
      "multipledispatch (0.4.9)\n",
      "navigator-updater (0.1.0)\n",
      "nb-anacondacloud (1.4.0)\n",
      "nb-conda (2.2.0)\n",
      "nb-conda-kernels (2.1.0)\n",
      "nbconvert (5.3.1)\n",
      "nbformat (4.4.0)\n",
      "nbpresent (3.0.2)\n",
      "networkx (2.0)\n",
      "nltk (3.2.4)\n",
      "nose (1.3.7)\n",
      "notebook (5.0.0)\n",
      "numba (0.35.0+10.g143f70e)\n",
      "numexpr (2.6.2)\n",
      "numpy (1.13.3)\n",
      "numpydoc (0.7.0)\n",
      "odo (0.5.1)\n",
      "olefile (0.44)\n",
      "openpyxl (2.4.8)\n",
      "packaging (16.8)\n",
      "pandas (0.20.3)\n",
      "pandocfilters (1.4.2)\n",
      "partd (0.3.8)\n",
      "path.py (10.3.1)\n",
      "pathlib2 (2.3.0)\n",
      "patsy (0.4.1)\n",
      "pep8 (1.7.0)\n",
      "pickleshare (0.7.4)\n",
      "Pillow (4.2.1)\n",
      "pip (9.0.1)\n",
      "pkginfo (1.4.1)\n",
      "ply (3.10)\n",
      "progress (1.3)\n",
      "prompt-toolkit (1.0.15)\n",
      "psutil (5.4.0)\n",
      "py (1.4.34)\n",
      "pycodestyle (2.3.1)\n",
      "pycosat (0.6.3)\n",
      "pycparser (2.18)\n",
      "pycrypto (2.6.1)\n",
      "pycurl (7.43.0)\n",
      "pyflakes (1.6.0)\n",
      "Pygments (2.2.0)\n",
      "pylint (1.7.4)\n",
      "pyodbc (4.0.17)\n",
      "pyOpenSSL (17.2.0)\n",
      "pyparsing (2.2.0)\n",
      "pyquery (1.4.0)\n",
      "PySocks (1.6.7)\n",
      "pytest (3.2.1)\n",
      "python-dateutil (2.6.1)\n",
      "pytz (2017.2)\n",
      "PyWavelets (0.5.2)\n",
      "pywin32 (221)\n",
      "PyYAML (3.12)\n",
      "pyzmq (16.0.2)\n",
      "QtAwesome (0.4.4)\n",
      "qtconsole (4.3.1)\n",
      "QtPy (1.3.1)\n",
      "requests (2.18.4)\n",
      "rope (0.10.5)\n",
      "ruamel-yaml (0.11.14)\n",
      "scikit-image (0.13.0)\n",
      "scikit-learn (0.19.1)\n",
      "scipy (0.19.1)\n",
      "seaborn (0.8)\n",
      "setuptools (36.5.0.post20170921)\n",
      "simplegeneric (0.8.1)\n",
      "singledispatch (3.4.0.3)\n",
      "six (1.11.0)\n",
      "snowballstemmer (1.2.1)\n",
      "sortedcollections (0.5.3)\n",
      "sortedcontainers (1.5.7)\n",
      "Sphinx (1.6.3)\n",
      "sphinxcontrib-websupport (1.0.1)\n",
      "spyder (3.2.4)\n",
      "SQLAlchemy (1.1.13)\n",
      "statsmodels (0.8.0)\n",
      "sympy (1.1.1)\n",
      "tables (3.4.2)\n",
      "tblib (1.3.2)\n",
      "testpath (0.3.1)\n",
      "toolz (0.8.2)\n",
      "tornado (4.5.2)\n",
      "traitlets (4.3.2)\n",
      "typing (3.6.2)\n",
      "unicodecsv (0.14.1)\n",
      "urllib3 (1.22)\n",
      "wcwidth (0.1.7)\n",
      "webencodings (0.5.1)\n",
      "Werkzeug (0.12.2)\n",
      "wheel (0.29.0)\n",
      "widgetsnbextension (3.0.2)\n",
      "win-inet-pton (1.0.1)\n",
      "win-unicode-console (0.5)\n",
      "wincertstore (0.2)\n",
      "wrapt (1.10.11)\n",
      "xlrd (1.1.0)\n",
      "XlsxWriter (1.0.2)\n",
      "xlwings (0.11.4)\n",
      "xlwt (1.3.0)\n",
      "zict (0.1.3)\n",
      "\n",
      "E:\\MyFile\\Jupyter\\Python-Learn>"
     ]
    },
    {
     "name": "stderr",
     "output_type": "stream",
     "text": [
      "DEPRECATION: The default format will switch to columns in the future. You can use --format=(legacy|columns) (or define a format=(legacy|columns) in your pip.conf under the [list] section) to disable this warning.\n"
     ]
    }
   ],
   "source": [
    "%%cmd\n",
    "pip list"
   ]
  },
  {
   "cell_type": "raw",
   "metadata": {},
   "source": [
    "To list outdated packages, and show the latest version available:"
   ]
  },
  {
   "cell_type": "code",
   "execution_count": 2,
   "metadata": {},
   "outputs": [
    {
     "name": "stdout",
     "output_type": "stream",
     "text": [
      "Microsoft Windows [版本 10.0.16299.125]\n",
      "(c) 2017 Microsoft Corporation。保留所有权利。\n",
      "\n",
      "E:\\MyFile\\Jupyter\\Python-Learn>pip list --outdated\n",
      "\n",
      "E:\\MyFile\\Jupyter\\Python-Learn>"
     ]
    },
    {
     "name": "stderr",
     "output_type": "stream",
     "text": [
      "DEPRECATION: The default format will switch to columns in the future. You can use --format=(legacy|columns) (or define a format=(legacy|columns) in your pip.conf under the [list] section) to disable this warning.\n",
      "Exception:\n",
      "Traceback (most recent call last):\n",
      "  File \"D:\\Users\\songc\\Anaconda3\\lib\\site-packages\\pip\\basecommand.py\", line 215, in main\n",
      "    status = self.run(options, args)\n",
      "  File \"D:\\Users\\songc\\Anaconda3\\lib\\site-packages\\pip\\commands\\list.py\", line 157, in run\n",
      "    packages = self.get_outdated(packages, options)\n",
      "  File \"D:\\Users\\songc\\Anaconda3\\lib\\site-packages\\pip\\commands\\list.py\", line 168, in get_outdated\n",
      "    dist for dist in self.iter_packages_latest_infos(packages, options)\n",
      "  File \"D:\\Users\\songc\\Anaconda3\\lib\\site-packages\\pip\\commands\\list.py\", line 169, in <listcomp>\n",
      "    if dist.latest_version > dist.parsed_version\n",
      "TypeError: '>' not supported between instances of 'Version' and 'SetuptoolsVersion'\n"
     ]
    }
   ],
   "source": [
    "%%cmd\n",
    "pip list --outdated"
   ]
  },
  {
   "cell_type": "markdown",
   "metadata": {},
   "source": [
    "### Section 94.3: Upgrade Packages"
   ]
  },
  {
   "cell_type": "code",
   "execution_count": null,
   "metadata": {},
   "outputs": [],
   "source": [
    "$ pip install --upgrade SomePackage"
   ]
  },
  {
   "cell_type": "raw",
   "metadata": {},
   "source": [
    "will upgrade package SomePackage and all its dependencies. Also, pip automatically removes older version of the\n",
    "package before upgrade."
   ]
  },
  {
   "cell_type": "raw",
   "metadata": {},
   "source": [
    "To upgrade pip itself, do"
   ]
  },
  {
   "cell_type": "code",
   "execution_count": null,
   "metadata": {},
   "outputs": [],
   "source": [
    "$ pip install --upgrade pip"
   ]
  },
  {
   "cell_type": "raw",
   "metadata": {},
   "source": [
    "on Unix or"
   ]
  },
  {
   "cell_type": "code",
   "execution_count": null,
   "metadata": {},
   "outputs": [],
   "source": [
    "$ python -m pip install --upgrade pip"
   ]
  },
  {
   "cell_type": "raw",
   "metadata": {},
   "source": [
    "on Windows machines."
   ]
  },
  {
   "cell_type": "markdown",
   "metadata": {},
   "source": [
    "### Section 94.4: Uninstall Packages"
   ]
  },
  {
   "cell_type": "code",
   "execution_count": null,
   "metadata": {},
   "outputs": [],
   "source": [
    "$ pip uninstall SomePackage"
   ]
  },
  {
   "cell_type": "markdown",
   "metadata": {},
   "source": [
    "### Section 94.5: Updating all outdated packages on Linux"
   ]
  },
  {
   "cell_type": "raw",
   "metadata": {},
   "source": [
    "pip doesn't current contain a flag to allow a user to update all outdated packages in one shot. However, this can be\n",
    "accomplished by piping commands together in a Linux environment:"
   ]
  },
  {
   "cell_type": "code",
   "execution_count": null,
   "metadata": {},
   "outputs": [],
   "source": [
    "$ pip list --outdated --local | grep -v '^\\-e' | cut -d = -f 1 | xargs -n1 pip install -U"
   ]
  },
  {
   "cell_type": "raw",
   "metadata": {},
   "source": [
    "This command takes all packages in the local virtualenv and checks if they are outdated. From that list, it gets the\n",
    "package name and then pipes that to a pip install -U command. At the end of this process, all local packages\n",
    "should be updated."
   ]
  },
  {
   "cell_type": "markdown",
   "metadata": {},
   "source": [
    "### Section 94.6: Updating all outdated packages on Windows"
   ]
  },
  {
   "cell_type": "raw",
   "metadata": {},
   "source": [
    "pip doesn't current contain a flag to allow a user to update all outdated packages in one shot. However, this can be\n",
    "accomplished by piping commands together in a Windows environment:"
   ]
  },
  {
   "cell_type": "code",
   "execution_count": null,
   "metadata": {},
   "outputs": [],
   "source": [
    "for /F \"delims= \" %i in ('pip list --outdated --local') do pip install -U %i"
   ]
  },
  {
   "cell_type": "raw",
   "metadata": {},
   "source": [
    "This command takes all packages in the local virtualenv and checks if they are outdated. From that list, it gets the\n",
    "package name and then pipes that to a pip install -U command. At the end of this process, all local packages\n",
    "should be updated."
   ]
  },
  {
   "cell_type": "markdown",
   "metadata": {},
   "source": [
    "### Section 94.7: Create a requirements.txt file of all packages on the system"
   ]
  },
  {
   "cell_type": "raw",
   "metadata": {},
   "source": [
    "pip assists in creating requirements.txt files by providing the freeze option."
   ]
  },
  {
   "cell_type": "code",
   "execution_count": 4,
   "metadata": {},
   "outputs": [
    {
     "name": "stdout",
     "output_type": "stream",
     "text": [
      "Microsoft Windows [版本 10.0.16299.125]\n",
      "(c) 2017 Microsoft Corporation。保留所有权利。\n",
      "\n",
      "E:\\MyFile\\Jupyter\\Python-Learn>pip freeze > requirements.txt\n",
      "\n",
      "E:\\MyFile\\Jupyter\\Python-Learn>"
     ]
    }
   ],
   "source": [
    "%%cmd\n",
    "pip freeze > requirements.txt"
   ]
  },
  {
   "cell_type": "raw",
   "metadata": {},
   "source": [
    "This will save a list of all packages and their version installed on the system to a file named requirements.txt in the\n",
    "current folder."
   ]
  },
  {
   "cell_type": "markdown",
   "metadata": {},
   "source": [
    "### Section 94.8: Using a certain Python version with pip"
   ]
  },
  {
   "cell_type": "raw",
   "metadata": {},
   "source": [
    "If you have both Python 3 and Python 2 installed, you can specify which version of Python you would like pip to use.\n",
    "This is useful when packages only support Python 2 or 3 or when you wish to test with both."
   ]
  },
  {
   "cell_type": "raw",
   "metadata": {},
   "source": [
    "If you want to install packages for Python 2, run either:"
   ]
  },
  {
   "cell_type": "code",
   "execution_count": null,
   "metadata": {},
   "outputs": [],
   "source": [
    "pip install [package]"
   ]
  },
  {
   "cell_type": "raw",
   "metadata": {},
   "source": [
    "or:"
   ]
  },
  {
   "cell_type": "code",
   "execution_count": null,
   "metadata": {},
   "outputs": [],
   "source": [
    "pip2 install [package]"
   ]
  },
  {
   "cell_type": "raw",
   "metadata": {},
   "source": [
    "If you would like to install packages for Python 3, do:"
   ]
  },
  {
   "cell_type": "code",
   "execution_count": null,
   "metadata": {},
   "outputs": [],
   "source": [
    "pip3 install [package]"
   ]
  },
  {
   "cell_type": "raw",
   "metadata": {},
   "source": [
    "You can also invoke installation of a package to a specific python installation with:"
   ]
  },
  {
   "cell_type": "raw",
   "metadata": {},
   "source": [
    "\\path\\to\\that\\python.exe -m pip install some_package # on Windows OR\n",
    "/usr/bin/python25 -m pip install some_package # on OS-X/Linux"
   ]
  },
  {
   "cell_type": "raw",
   "metadata": {},
   "source": [
    "On OS-X/Linux/Unix platforms it is important to be aware of the distinction between the system version of python,\n",
    "(which upgrading make render your system inoperable), and the user version(s) of python. You may, depending on\n",
    "which you are trying to upgrade, need to prefix these commands with sudo and input a password."
   ]
  },
  {
   "cell_type": "raw",
   "metadata": {},
   "source": [
    "Likewise on Windows some python installations, especially those that are a part of another package, can end up\n",
    "installed in system directories - those you will have to upgrade from a command window running in Admin mode -\n",
    "if you find that it looks like you need to do this it is a very good idea to check which python installation you are\n",
    "trying to upgrade with a command such as python -c\"import sys;print(sys.path);\" or py -3.5 -c\"import\n",
    "sys;print(sys.path);\" you can also check which pip you are trying to run with pip --version"
   ]
  },
  {
   "cell_type": "raw",
   "metadata": {},
   "source": [
    "On Windows, if you have both python 2 and python 3 installed, and on your path and your python 3 is greater than\n",
    "3.4 then you will probably also have the python launcher py on your system path. You can then do tricks like:"
   ]
  },
  {
   "cell_type": "code",
   "execution_count": null,
   "metadata": {},
   "outputs": [],
   "source": [
    "py -3 -m pip install -U some_package # Install/Upgrade some_package to the latest python 3\n",
    "py -3.3 -m pip install -U some_package # Install/Upgrade some_package to python 3.3 if present\n",
    "py -2 -m pip install -U some_package # Install/Upgrade some_package to the latest python 2 - 64 bit if present\n",
    "py -2.7-32 -m pip install -U some_package # Install/Upgrade some_package to python 2.7 - 32 bit if present"
   ]
  },
  {
   "cell_type": "raw",
   "metadata": {},
   "source": [
    "If you are running & maintaining multiple versions of python I would strongly recommend reading up about the\n",
    "python virtualenv or venv virtual enviroments which allow you to isolate both the version of python and which\n",
    "packages are present."
   ]
  },
  {
   "cell_type": "markdown",
   "metadata": {},
   "source": [
    "### Section 94.9: Create a requirements.txt file of packages only in the current virtualenv"
   ]
  },
  {
   "cell_type": "raw",
   "metadata": {},
   "source": [
    "pip assists in creating requirements.txt files by providing the freeze option.r"
   ]
  },
  {
   "cell_type": "code",
   "execution_count": 7,
   "metadata": {},
   "outputs": [
    {
     "name": "stdout",
     "output_type": "stream",
     "text": [
      "Microsoft Windows [版本 10.0.16299.125]\n",
      "(c) 2017 Microsoft Corporation。保留所有权利。\n",
      "\n",
      "E:\\MyFile\\Jupyter\\Python-Learn>pip freeze --local > requirements.txt\n",
      "\n",
      "E:\\MyFile\\Jupyter\\Python-Learn>"
     ]
    }
   ],
   "source": [
    "%%cmd\n",
    "pip freeze --local > requirements.txt"
   ]
  },
  {
   "cell_type": "raw",
   "metadata": {},
   "source": [
    "The --local parameter will only output a list of packages and versions that are installed locally to a virtualenv."
   ]
  },
  {
   "cell_type": "markdown",
   "metadata": {},
   "source": [
    "### Section 94.10: Installing packages not yet on pip as wheels"
   ]
  },
  {
   "cell_type": "raw",
   "metadata": {},
   "source": [
    "Many, pure python, packages are not yet available on the Python Package Index as wheels but still install fine.\n",
    "However, some packages on Windows give the dreaded vcvarsall.bat not found error."
   ]
  },
  {
   "cell_type": "raw",
   "metadata": {},
   "source": [
    "The problem is that the package that you are trying to install contains a C or C++ extension and is not currently\n",
    "available as a pre-built wheel from the python package index, pypi, and on windows you do not have the tool chain\n",
    "needed to build such items."
   ]
  },
  {
   "cell_type": "raw",
   "metadata": {},
   "source": [
    "The simplest answer is to go to Christoph Gohlke's excellent site and locate the appropriate version of the libraries\n",
    "that you need. By appropriate in the package name a -cpNN- has to match your version of python, i.e. if you are\n",
    "using windows 32 bit python even on win64 the name must include -win32- and if using the 64 bit python it must\n",
    "include -win_amd64- and then the python version must match, i.e. for Python 34 the filename must include -cp34-,\n",
    "etc. this is basically the magic that pip does for you on the pypi site."
   ]
  },
  {
   "cell_type": "raw",
   "metadata": {},
   "source": [
    "Alternatively, you need to get the appropriate windows development kit for the version of python that you are\n",
    "using, the headers for any library that the package you are trying to build interfaces to, possibly the python headers\n",
    "for the version of python, etc."
   ]
  },
  {
   "cell_type": "markdown",
   "metadata": {},
   "source": [
    "Python 2.7 used Visual Studio 2008, Python 3.3 and 3.4 used Visual Studio 2010, and Python 3.5+ uses Visual Studio\n",
    "2015.\n",
    " 1. Install “Visual C++ Compiler Package for Python 2.7”, which is available from Microsoft’s website or\n",
    " 2. Install “Windows SDK for Windows 7 and .NET Framework 4” (v7.1), which is available from Microsoft’s\n",
    "website or\n",
    " 3. Install Visual Studio 2015 Community Edition, (or any later version, when these are released), ensuring you\n",
    "select the options to install C & C++ support no longer the default -I am told that this can take up to 8 hours\n",
    "to download and install so make sure that those options are set on the first try."
   ]
  },
  {
   "cell_type": "raw",
   "metadata": {},
   "source": [
    "Then you may need to locate the header files, at the matching revision for any libraries that your desired package\n",
    "links to and download those to an appropriate locations."
   ]
  },
  {
   "cell_type": "raw",
   "metadata": {},
   "source": [
    "Finally you can let pip do your build - of course if the package has dependencies that you don't yet have you may\n",
    "also need to find the header files for them as well."
   ]
  },
  {
   "cell_type": "raw",
   "metadata": {},
   "source": [
    "Alternatives: It is also worth looking out, both on pypi or Christop's site, for any slightly earlier version of the\n",
    "package that you are looking for that is either pure python or pre-built for your platform and python version and\n",
    "possibly using those, if found, until your package does become available. Likewise if you are using the very latest\n",
    "version of python you may find that it takes the package maintainers a little time to catch up so for projects that\n",
    "really need a specific package you may have to use a slightly older python for the moment. You can also check the\n",
    "packages source site to see if there is a forked version that is available pre-built or as pure python and searching for\n",
    "alternative packages that provide the functionality that you require but are available - one example that springs to\n",
    "mind is the Pillow, actively maintained, drop in replacement for PIL currently not updated in 6 years and not available\n",
    "for python 3."
   ]
  },
  {
   "cell_type": "raw",
   "metadata": {},
   "source": [
    "Afterword, I would encourage anybody who is having this problem to go to the bug tracker for the package and\n",
    "add to, or raise if there isn't one already, a ticket politely requesting that the package maintainers provide a wheel\n",
    "on pypi for your specific combination of platform and python, if this is done then normally things will get better\n",
    "with time, some package maintainers don't realise that they have missed a given combination that people may be\n",
    "using."
   ]
  },
  {
   "cell_type": "markdown",
   "metadata": {},
   "source": [
    "**Note on Installing Pre-Releases**"
   ]
  },
  {
   "cell_type": "raw",
   "metadata": {},
   "source": [
    "Pip follows the rules of Semantic Versioning and by default prefers released packages over pre-releases. So if a\n",
    "given package has been released as V0.98 and there is also a release candidate V1.0-rc1 the default behaviour of\n",
    "pip install will be to install V0.98 - if you wish to install the release candidate, you are advised to test in a virtual\n",
    "environment first, you can enable do so with --pip install --pre package-name or --pip install --pre --\n",
    "upgrade package-name. In many cases pre-releases or release candidates may not have wheels built for all platform\n",
    "& version combinations so you are more likely to encounter the issues above."
   ]
  },
  {
   "cell_type": "markdown",
   "metadata": {},
   "source": [
    "**Note on Installing Development Versions**"
   ]
  },
  {
   "cell_type": "raw",
   "metadata": {},
   "source": [
    "You can also use pip to install development versions of packages from github and other locations, since such code\n",
    "is in flux it is very unlikely to have wheels built for it, so any impure packages will require the presence of the build\n",
    "tools, and they may be broken at any time so the user is strongly encouraged to only install such packages in a\n",
    "virtual environment."
   ]
  },
  {
   "cell_type": "raw",
   "metadata": {},
   "source": [
    "Three options exist for such installations:\n",
    "1. Download compressed snapshot, most online version control systems have the option to download a 1.\n",
    "compressed snapshot of the code. This can be downloaded manually and then installed with pip install\n",
    "path/to/downloaded/file note that for most compression formats pip will handle unpacking to a cache area,\n",
    "etc.\n",
    "2. Let pip handle the download & install for you with: pip install URL/of/package/repository - you may also 2.\n",
    "need to use the --trusted-host , --client-cert and/or --proxy flags for this to work correctly, especially in\n",
    "a corporate environment. e.g:\n",
    "3. Note the git+ prefix to the URL.\n",
    "Clone the repository using git , mercurial or other acceptable tool, preferably a DVCS tool, and use pip 3.\n",
    "install path/to/cloned/repo - this will both process any requires.text file and perform the build and setup\n",
    "steps, you can manually change directory to your cloned repository and run pip install -r requires.txt and\n",
    "then python setup.py install to get the same effect. The big advantages of this approach is that while the\n",
    "initial clone operation may take longer than the snapshot download you can update to the latest with, in the\n",
    "case of git: git pull origin master and if the current version contains errors you can use pip uninstall\n",
    "package-name then use git checkout commands to move back through the repository history to earlier\n",
    "version(s) and re-try."
   ]
  }
 ],
 "metadata": {
  "kernelspec": {
   "display_name": "Python [default]",
   "language": "python",
   "name": "python3"
  },
  "language_info": {
   "codemirror_mode": {
    "name": "ipython",
    "version": 3
   },
   "file_extension": ".py",
   "mimetype": "text/x-python",
   "name": "python",
   "nbconvert_exporter": "python",
   "pygments_lexer": "ipython3",
   "version": "3.6.3"
  }
 },
 "nbformat": 4,
 "nbformat_minor": 2
}
