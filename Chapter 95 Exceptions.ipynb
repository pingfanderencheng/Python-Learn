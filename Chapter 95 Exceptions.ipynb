{
 "cells": [
  {
   "cell_type": "raw",
   "metadata": {},
   "source": [
    "Errors detected during execution are called exceptions and are not unconditionally fatal. Most exceptions are not\n",
    "handled by programs; it is possible to write programs that handle selected exceptions. There are specific features\n",
    "in Python to deal with exceptions and exception logic. Furthermore, exceptions have a rich type hierarchy, all\n",
    "inheriting from the BaseException type."
   ]
  },
  {
   "cell_type": "markdown",
   "metadata": {},
   "source": [
    "### Section 95.1: Catching Exceptions"
   ]
  },
  {
   "cell_type": "raw",
   "metadata": {},
   "source": [
    "Use try...except: to catch exceptions. You should specify as precise an exception as you can:"
   ]
  },
  {
   "cell_type": "code",
   "execution_count": 1,
   "metadata": {},
   "outputs": [
    {
     "name": "stdout",
     "output_type": "stream",
     "text": [
      "Got a divide by zero! The exception was: division by zero\n",
      "The END\n"
     ]
    }
   ],
   "source": [
    "try:\n",
    "    x = 5 / 0\n",
    "except ZeroDivisionError as e:\n",
    "    # `e` is the exception object\n",
    "    print(\"Got a divide by zero! The exception was:\", e)\n",
    "    # handle exceptional case\n",
    "    x = 0\n",
    "finally:\n",
    "    print (\"The END\")\n",
    "    # it runs no matter what execute."
   ]
  },
  {
   "cell_type": "raw",
   "metadata": {},
   "source": [
    "The exception class that is specified - in this case, ZeroDivisionError - catches any exception that is of that class or\n",
    "of any subclass of that exception."
   ]
  },
  {
   "cell_type": "raw",
   "metadata": {},
   "source": [
    "For example, ZeroDivisionError is a subclass of ArithmeticError "
   ]
  },
  {
   "cell_type": "code",
   "execution_count": 2,
   "metadata": {},
   "outputs": [
    {
     "data": {
      "text/plain": [
       "(ArithmeticError,)"
      ]
     },
     "execution_count": 2,
     "metadata": {},
     "output_type": "execute_result"
    }
   ],
   "source": [
    "ZeroDivisionError.__bases__"
   ]
  },
  {
   "cell_type": "code",
   "execution_count": 3,
   "metadata": {},
   "outputs": [
    {
     "data": {
      "text/plain": [
       "type"
      ]
     },
     "execution_count": 3,
     "metadata": {},
     "output_type": "execute_result"
    }
   ],
   "source": [
    "ZeroDivisionError.__class__"
   ]
  },
  {
   "cell_type": "code",
   "execution_count": 4,
   "metadata": {},
   "outputs": [
    {
     "data": {
      "text/plain": [
       "type"
      ]
     },
     "execution_count": 4,
     "metadata": {},
     "output_type": "execute_result"
    }
   ],
   "source": [
    "type(ZeroDivisionError)"
   ]
  },
  {
   "cell_type": "code",
   "execution_count": 5,
   "metadata": {},
   "outputs": [
    {
     "data": {
      "text/plain": [
       "ArithmeticError"
      ]
     },
     "execution_count": 5,
     "metadata": {},
     "output_type": "execute_result"
    }
   ],
   "source": [
    "ZeroDivisionError.__base__"
   ]
  },
  {
   "cell_type": "raw",
   "metadata": {},
   "source": [
    "And so, the following will still catch the ZeroDivisionError :"
   ]
  },
  {
   "cell_type": "code",
   "execution_count": 6,
   "metadata": {},
   "outputs": [
    {
     "name": "stdout",
     "output_type": "stream",
     "text": [
      "Got arithmetic error\n"
     ]
    }
   ],
   "source": [
    "try:\n",
    "    5 / 0\n",
    "except ArithmeticError:\n",
    "    print(\"Got arithmetic error\")"
   ]
  },
  {
   "cell_type": "markdown",
   "metadata": {},
   "source": [
    "### Section 95.2: Do not catch everything!"
   ]
  },
  {
   "cell_type": "code",
   "execution_count": null,
   "metadata": {},
   "outputs": [],
   "source": [
    "While it's often tempting to catch every Exception :"
   ]
  },
  {
   "cell_type": "code",
   "execution_count": null,
   "metadata": {},
   "outputs": [],
   "source": [
    "try:\n",
    "    very_difficult_function()\n",
    "except Exception:\n",
    "    # log / try to reconnect / exit gratiously\n",
    "finally:\n",
    "    print (\"The END\")\n",
    "    # it runs no matter what execute."
   ]
  },
  {
   "cell_type": "code",
   "execution_count": null,
   "metadata": {},
   "outputs": [],
   "source": [
    "Or even everything (that includes BaseException and all its children including Exception ):"
   ]
  },
  {
   "cell_type": "code",
   "execution_count": null,
   "metadata": {},
   "outputs": [],
   "source": [
    "try:\n",
    "    even_more_difficult_function()\n",
    "except:\n",
    "    pass # do whatever needed"
   ]
  },
  {
   "cell_type": "raw",
   "metadata": {},
   "source": [
    "In most cases it's bad practice. It might catch more than intended, such as SystemExit , KeyboardInterrupt and\n",
    "MemoryError - each of which should generally be handled differently than usual system or logic errors. It also\n",
    "means there's no clear understanding for what the internal code may do wrong and how to recover properly from\n",
    "that condition. If you're catching every error, you wont know what error occurred or how to fix it."
   ]
  },
  {
   "cell_type": "raw",
   "metadata": {},
   "source": [
    "This is more commonly referred to as 'bug masking' and should be avoided. Let your program crash instead of\n",
    "silently failing or even worse, failing at deeper level of execution. (Imagine it's a transactional system)\n",
    "Usually these constructs are used at the very outer level of the program, and will log the details of the error so that\n",
    "the bug can be fixed, or the error can be handled more specifically."
   ]
  },
  {
   "cell_type": "markdown",
   "metadata": {},
   "source": [
    "### Section 95.3: Re-raising exceptions"
   ]
  },
  {
   "cell_type": "raw",
   "metadata": {},
   "source": [
    "Sometimes you want to catch an exception just to inspect it, e.g. for logging purposes. After the inspection, you\n",
    "want the exception to continue propagating as it did before."
   ]
  },
  {
   "cell_type": "raw",
   "metadata": {},
   "source": [
    "In this case, simply use the raise statement with no parameters."
   ]
  },
  {
   "cell_type": "code",
   "execution_count": 7,
   "metadata": {},
   "outputs": [
    {
     "name": "stdout",
     "output_type": "stream",
     "text": [
      "Got an error\n"
     ]
    },
    {
     "ename": "ZeroDivisionError",
     "evalue": "division by zero",
     "output_type": "error",
     "traceback": [
      "\u001b[1;31m---------------------------------------------------------------------------\u001b[0m",
      "\u001b[1;31mZeroDivisionError\u001b[0m                         Traceback (most recent call last)",
      "\u001b[1;32m<ipython-input-7-498e22aae91c>\u001b[0m in \u001b[0;36m<module>\u001b[1;34m()\u001b[0m\n\u001b[0;32m      1\u001b[0m \u001b[1;32mtry\u001b[0m\u001b[1;33m:\u001b[0m\u001b[1;33m\u001b[0m\u001b[0m\n\u001b[1;32m----> 2\u001b[1;33m     \u001b[1;36m5\u001b[0m \u001b[1;33m/\u001b[0m \u001b[1;36m0\u001b[0m\u001b[1;33m\u001b[0m\u001b[0m\n\u001b[0m\u001b[0;32m      3\u001b[0m \u001b[1;32mexcept\u001b[0m \u001b[0mZeroDivisionError\u001b[0m\u001b[1;33m:\u001b[0m\u001b[1;33m\u001b[0m\u001b[0m\n\u001b[0;32m      4\u001b[0m     \u001b[0mprint\u001b[0m\u001b[1;33m(\u001b[0m\u001b[1;34m\"Got an error\"\u001b[0m\u001b[1;33m)\u001b[0m\u001b[1;33m\u001b[0m\u001b[0m\n\u001b[0;32m      5\u001b[0m     \u001b[1;32mraise\u001b[0m\u001b[1;33m\u001b[0m\u001b[0m\n",
      "\u001b[1;31mZeroDivisionError\u001b[0m: division by zero"
     ]
    }
   ],
   "source": [
    "try:\n",
    "    5 / 0\n",
    "except ZeroDivisionError:\n",
    "    print(\"Got an error\")\n",
    "    raise"
   ]
  },
  {
   "cell_type": "raw",
   "metadata": {},
   "source": [
    "Keep in mind, though, that someone further up in the caller stack can still catch the exception and handle it\n",
    "somehow. The done output could be a nuisance in this case because it will happen in any case (caught or not\n",
    "caught). So it might be a better idea to raise a different exception, containing your comment about the situation as\n",
    "well as the original exception:"
   ]
  },
  {
   "cell_type": "code",
   "execution_count": 8,
   "metadata": {},
   "outputs": [
    {
     "ename": "ZeroDivisionError",
     "evalue": "('Got an error', ZeroDivisionError('division by zero',))",
     "output_type": "error",
     "traceback": [
      "\u001b[1;31m---------------------------------------------------------------------------\u001b[0m",
      "\u001b[1;31mZeroDivisionError\u001b[0m                         Traceback (most recent call last)",
      "\u001b[1;32m<ipython-input-8-6cfb631194f1>\u001b[0m in \u001b[0;36m<module>\u001b[1;34m()\u001b[0m\n\u001b[0;32m      1\u001b[0m \u001b[1;32mtry\u001b[0m\u001b[1;33m:\u001b[0m\u001b[1;33m\u001b[0m\u001b[0m\n\u001b[1;32m----> 2\u001b[1;33m     \u001b[1;36m5\u001b[0m \u001b[1;33m/\u001b[0m \u001b[1;36m0\u001b[0m\u001b[1;33m\u001b[0m\u001b[0m\n\u001b[0m\u001b[0;32m      3\u001b[0m \u001b[1;32mexcept\u001b[0m \u001b[0mZeroDivisionError\u001b[0m \u001b[1;32mas\u001b[0m \u001b[0me\u001b[0m\u001b[1;33m:\u001b[0m\u001b[1;33m\u001b[0m\u001b[0m\n",
      "\u001b[1;31mZeroDivisionError\u001b[0m: division by zero",
      "\nDuring handling of the above exception, another exception occurred:\n",
      "\u001b[1;31mZeroDivisionError\u001b[0m                         Traceback (most recent call last)",
      "\u001b[1;32m<ipython-input-8-6cfb631194f1>\u001b[0m in \u001b[0;36m<module>\u001b[1;34m()\u001b[0m\n\u001b[0;32m      2\u001b[0m     \u001b[1;36m5\u001b[0m \u001b[1;33m/\u001b[0m \u001b[1;36m0\u001b[0m\u001b[1;33m\u001b[0m\u001b[0m\n\u001b[0;32m      3\u001b[0m \u001b[1;32mexcept\u001b[0m \u001b[0mZeroDivisionError\u001b[0m \u001b[1;32mas\u001b[0m \u001b[0me\u001b[0m\u001b[1;33m:\u001b[0m\u001b[1;33m\u001b[0m\u001b[0m\n\u001b[1;32m----> 4\u001b[1;33m     \u001b[1;32mraise\u001b[0m \u001b[0mZeroDivisionError\u001b[0m\u001b[1;33m(\u001b[0m\u001b[1;34m\"Got an error\"\u001b[0m\u001b[1;33m,\u001b[0m \u001b[0me\u001b[0m\u001b[1;33m)\u001b[0m\u001b[1;33m\u001b[0m\u001b[0m\n\u001b[0m",
      "\u001b[1;31mZeroDivisionError\u001b[0m: ('Got an error', ZeroDivisionError('division by zero',))"
     ]
    }
   ],
   "source": [
    "try:\n",
    "    5 / 0\n",
    "except ZeroDivisionError as e:\n",
    "    raise ZeroDivisionError(\"Got an error\", e)"
   ]
  },
  {
   "cell_type": "raw",
   "metadata": {},
   "source": [
    "But this has the drawback of reducing the exception trace to exactly this raise while the raise without argument\n",
    "retains the original exception trace."
   ]
  },
  {
   "cell_type": "raw",
   "metadata": {},
   "source": [
    "In Python 3 you can keep the original stack by using the raise - from syntax:"
   ]
  },
  {
   "cell_type": "code",
   "execution_count": 9,
   "metadata": {},
   "outputs": [
    {
     "ename": "ZeroDivisionError",
     "evalue": "Got an error",
     "output_type": "error",
     "traceback": [
      "\u001b[1;31m---------------------------------------------------------------------------\u001b[0m",
      "\u001b[1;31mZeroDivisionError\u001b[0m                         Traceback (most recent call last)",
      "\u001b[1;32m<ipython-input-9-529e8a454cc7>\u001b[0m in \u001b[0;36m<module>\u001b[1;34m()\u001b[0m\n\u001b[0;32m      1\u001b[0m \u001b[1;32mtry\u001b[0m\u001b[1;33m:\u001b[0m\u001b[1;33m\u001b[0m\u001b[0m\n\u001b[1;32m----> 2\u001b[1;33m     \u001b[1;36m5\u001b[0m \u001b[1;33m/\u001b[0m \u001b[1;36m0\u001b[0m\u001b[1;33m\u001b[0m\u001b[0m\n\u001b[0m\u001b[0;32m      3\u001b[0m \u001b[1;32mexcept\u001b[0m \u001b[0mZeroDivisionError\u001b[0m \u001b[1;32mas\u001b[0m \u001b[0me\u001b[0m\u001b[1;33m:\u001b[0m\u001b[1;33m\u001b[0m\u001b[0m\n",
      "\u001b[1;31mZeroDivisionError\u001b[0m: division by zero",
      "\nThe above exception was the direct cause of the following exception:\n",
      "\u001b[1;31mZeroDivisionError\u001b[0m                         Traceback (most recent call last)",
      "\u001b[1;32m<ipython-input-9-529e8a454cc7>\u001b[0m in \u001b[0;36m<module>\u001b[1;34m()\u001b[0m\n\u001b[0;32m      2\u001b[0m     \u001b[1;36m5\u001b[0m \u001b[1;33m/\u001b[0m \u001b[1;36m0\u001b[0m\u001b[1;33m\u001b[0m\u001b[0m\n\u001b[0;32m      3\u001b[0m \u001b[1;32mexcept\u001b[0m \u001b[0mZeroDivisionError\u001b[0m \u001b[1;32mas\u001b[0m \u001b[0me\u001b[0m\u001b[1;33m:\u001b[0m\u001b[1;33m\u001b[0m\u001b[0m\n\u001b[1;32m----> 4\u001b[1;33m     \u001b[1;32mraise\u001b[0m \u001b[0mZeroDivisionError\u001b[0m\u001b[1;33m(\u001b[0m\u001b[1;34m\"Got an error\"\u001b[0m\u001b[1;33m)\u001b[0m \u001b[1;32mfrom\u001b[0m \u001b[0me\u001b[0m\u001b[1;33m\u001b[0m\u001b[0m\n\u001b[0m",
      "\u001b[1;31mZeroDivisionError\u001b[0m: Got an error"
     ]
    }
   ],
   "source": [
    "try:\n",
    "    5 / 0\n",
    "except ZeroDivisionError as e:\n",
    "    raise ZeroDivisionError(\"Got an error\") from e"
   ]
  },
  {
   "cell_type": "markdown",
   "metadata": {},
   "source": [
    "### Section 95.4: Catching multiple exceptions"
   ]
  },
  {
   "cell_type": "raw",
   "metadata": {},
   "source": [
    "There are a few ways to catch multiple exceptions."
   ]
  },
  {
   "cell_type": "raw",
   "metadata": {},
   "source": [
    "The first is by creating a tuple of the exception types you wish to catch and handle in the same manner. This\n",
    "example will cause the code to ignore KeyError and AttributeError exceptions."
   ]
  },
  {
   "cell_type": "code",
   "execution_count": 10,
   "metadata": {},
   "outputs": [
    {
     "name": "stdout",
     "output_type": "stream",
     "text": [
      "A KeyError or an AttributeError exception has been caught.\n"
     ]
    }
   ],
   "source": [
    "try:\n",
    "    d = {}\n",
    "    a = d[1]\n",
    "    b = d.non_existing_field\n",
    "except (KeyError, AttributeError) as e:\n",
    "    print(\"A KeyError or an AttributeError exception has been caught.\")"
   ]
  },
  {
   "cell_type": "raw",
   "metadata": {},
   "source": [
    "If you wish to handle different exceptions in different ways, you can provide a separate exception block for each\n",
    "type. In this example, we still catch the KeyError and AttributeError , but handle the exceptions in different\n",
    "manners."
   ]
  },
  {
   "cell_type": "code",
   "execution_count": 11,
   "metadata": {},
   "outputs": [
    {
     "name": "stdout",
     "output_type": "stream",
     "text": [
      "A KeyError has occurred. Exception message: 1\n"
     ]
    }
   ],
   "source": [
    "try:\n",
    "    d = {}\n",
    "    a = d[1]\n",
    "    b = d.non_existing_field\n",
    "except KeyError as e:\n",
    "    print(\"A KeyError has occurred. Exception message:\", e)\n",
    "except AttributeError as e:\n",
    "    print(\"An AttributeError has occurred. Exception message:\", e)"
   ]
  },
  {
   "cell_type": "markdown",
   "metadata": {},
   "source": [
    "### Section 95.5: Exception Hierarchy"
   ]
  },
  {
   "cell_type": "raw",
   "metadata": {},
   "source": [
    "Exception handling occurs based on an exception hierarchy, determined by the inheritance structure of the\n",
    "exception classes."
   ]
  },
  {
   "cell_type": "raw",
   "metadata": {},
   "source": [
    "For example, IOError and OSError are both subclasses of EnvironmentError . Code that catches an IOError will not\n",
    "catch an OSError . However, code that catches an EnvironmentError will catch both IOError s and OSError s."
   ]
  },
  {
   "cell_type": "raw",
   "metadata": {},
   "source": [
    "The hierarchy of built-in exceptions:"
   ]
  },
  {
   "cell_type": "raw",
   "metadata": {},
   "source": [
    "Python 3.x Version ≥ 3.0"
   ]
  },
  {
   "cell_type": "raw",
   "metadata": {},
   "source": [
    "BaseException\n",
    "+-- SystemExit\n",
    "+-- KeyboardInterrupt\n",
    "+-- GeneratorExit\n",
    "+-- Exception\n",
    "    +-- StopIteration\n",
    "    +-- StopAsyncIteration\n",
    "    +-- ArithmeticError\n",
    "    | +-- FloatingPointError\n",
    "    | +-- OverflowError\n",
    "    | +-- ZeroDivisionError\n",
    "    +-- AssertionError\n",
    "    +-- AttributeError\n",
    "    +-- BufferError\n",
    "    +-- EOFError\n",
    "    +-- ImportError\n",
    "    +-- LookupError\n",
    "    | +-- IndexError\n",
    "    | +-- KeyError\n",
    "    +-- MemoryError\n",
    "    +-- NameError\n",
    "    | +-- UnboundLocalError\n",
    "    +-- OSError\n",
    "    | +-- BlockingIOError\n",
    "    | +-- ChildProcessError\n",
    "    | +-- ConnectionError\n",
    "    | | +-- BrokenPipeError\n",
    "    | | +-- ConnectionAbortedError\n",
    "    | | +-- ConnectionRefusedError\n",
    "    | | +-- ConnectionResetError\n",
    "    | +-- FileExistsError\n",
    "    | +-- FileNotFoundError\n",
    "    | +-- InterruptedError\n",
    "    | +-- IsADirectoryError\n",
    "    | +-- NotADirectoryError\n",
    "    | +-- PermissionError\n",
    "    | +-- ProcessLookupError\n",
    "    | +-- TimeoutError\n",
    "    +-- ReferenceError\n",
    "    +-- RuntimeError\n",
    "    | +-- NotImplementedError\n",
    "    | +-- RecursionError\n",
    "    +-- SyntaxError\n",
    "    | +-- IndentationError\n",
    "    | +-- TabError\n",
    "    +-- SystemError\n",
    "    +-- TypeError\n",
    "    +-- ValueError\n",
    "    | +-- UnicodeError\n",
    "    | +-- UnicodeDecodeError\n",
    "    | +-- UnicodeEncodeError\n",
    "    | +-- UnicodeTranslateError\n",
    "    +-- Warning\n",
    "    +-- DeprecationWarning\n",
    "    +-- PendingDeprecationWarning\n",
    "    +-- RuntimeWarning\n",
    "    +-- SyntaxWarning\n",
    "    +-- UserWarning\n",
    "    +-- FutureWarning\n",
    "    +-- ImportWarning\n",
    "    +-- UnicodeWarning\n",
    "    +-- BytesWarning\n",
    "    +-- ResourceWarning"
   ]
  },
  {
   "cell_type": "raw",
   "metadata": {},
   "source": [
    "Python 2.x Version ≥ 2.3"
   ]
  },
  {
   "cell_type": "raw",
   "metadata": {},
   "source": [
    "BaseException\n",
    "+-- SystemExit\n",
    "+-- KeyboardInterrupt\n",
    "+-- GeneratorExit\n",
    "+-- Exception\n",
    "    +-- StopIteration\n",
    "    +-- StandardError\n",
    "    | +-- BufferError\n",
    "    | +-- ArithmeticError\n",
    "    | | +-- FloatingPointError\n",
    "    | | +-- OverflowError\n",
    "    | | +-- ZeroDivisionError\n",
    "    | +-- AssertionError\n",
    "    | +-- AttributeError\n",
    "    | +-- EnvironmentError\n",
    "    | | +-- IOError\n",
    "    | | +-- OSError\n",
    "    | | +-- WindowsError (Windows)\n",
    "    | | +-- VMSError (VMS)\n",
    "    | +-- EOFError\n",
    "    | +-- ImportError\n",
    "    | +-- LookupError\n",
    "    | | +-- IndexError\n",
    "    | | +-- KeyError\n",
    "    | +-- MemoryError\n",
    "    | +-- NameError\n",
    "    | | +-- UnboundLocalError\n",
    "    | +-- ReferenceError\n",
    "    | +-- RuntimeError\n",
    "    | | +-- NotImplementedError\n",
    "    | +-- SyntaxError\n",
    "    | | +-- IndentationError\n",
    "    | |   +-- TabError\n",
    "    | +-- SystemError\n",
    "    | +-- TypeError\n",
    "    | +-- ValueError\n",
    "    |   +-- UnicodeError\n",
    "    |     +-- UnicodeDecodeError\n",
    "    |     +-- UnicodeEncodeError\n",
    "    |     +-- UnicodeTranslateError\n",
    "    +-- Warning\n",
    "      +-- DeprecationWarning\n",
    "      +-- PendingDeprecationWarning\n",
    "      +-- RuntimeWarning\n",
    "      +-- SyntaxWarning\n",
    "      +-- UserWarning\n",
    "      +-- FutureWarning\n",
    "    +-- ImportWarning\n",
    "    +-- UnicodeWarning\n",
    "    +-- BytesWarning"
   ]
  },
  {
   "cell_type": "markdown",
   "metadata": {},
   "source": [
    "### Section 95.6: Else"
   ]
  },
  {
   "cell_type": "raw",
   "metadata": {},
   "source": [
    "Code in an else block will only be run if no exceptions were raised by the code in the try block. This is useful if you\n",
    "have some code you don’t want to run if an exception is thrown, but you don’t want exceptions thrown by that code\n",
    "to be caught."
   ]
  },
  {
   "cell_type": "raw",
   "metadata": {},
   "source": [
    "For example:"
   ]
  },
  {
   "cell_type": "code",
   "execution_count": 12,
   "metadata": {},
   "outputs": [
    {
     "name": "stdout",
     "output_type": "stream",
     "text": [
      "one\n"
     ]
    },
    {
     "ename": "ValueError",
     "evalue": "",
     "output_type": "error",
     "traceback": [
      "\u001b[1;31m---------------------------------------------------------------------------\u001b[0m",
      "\u001b[1;31mValueError\u001b[0m                                Traceback (most recent call last)",
      "\u001b[1;32m<ipython-input-12-71a6eeaf2c99>\u001b[0m in \u001b[0;36m<module>\u001b[1;34m()\u001b[0m\n\u001b[0;32m      5\u001b[0m     \u001b[0mprint\u001b[0m\u001b[1;33m(\u001b[0m\u001b[1;34m'key not found'\u001b[0m\u001b[1;33m)\u001b[0m\u001b[1;33m\u001b[0m\u001b[0m\n\u001b[0;32m      6\u001b[0m \u001b[1;32melse\u001b[0m\u001b[1;33m:\u001b[0m\u001b[1;33m\u001b[0m\u001b[0m\n\u001b[1;32m----> 7\u001b[1;33m     \u001b[1;32mraise\u001b[0m \u001b[0mValueError\u001b[0m\u001b[1;33m(\u001b[0m\u001b[1;33m)\u001b[0m\u001b[1;33m\u001b[0m\u001b[0m\n\u001b[0m\u001b[0;32m      8\u001b[0m \u001b[1;31m# Output: one\u001b[0m\u001b[1;33m\u001b[0m\u001b[1;33m\u001b[0m\u001b[0m\n\u001b[0;32m      9\u001b[0m \u001b[1;31m# Output: ValueError\u001b[0m\u001b[1;33m\u001b[0m\u001b[1;33m\u001b[0m\u001b[0m\n",
      "\u001b[1;31mValueError\u001b[0m: "
     ]
    }
   ],
   "source": [
    "try:\n",
    "    data = {1: 'one', 2: 'two'}\n",
    "    print(data[1])\n",
    "except KeyError as e:\n",
    "    print('key not found')\n",
    "else:\n",
    "    raise ValueError()\n",
    "# Output: one\n",
    "# Output: ValueError"
   ]
  },
  {
   "cell_type": "raw",
   "metadata": {},
   "source": [
    "Note that this kind of else: cannot be combined with an if starting the else-clause to an elif . If you have a\n",
    "following if it needs to stay indented below that else: :"
   ]
  },
  {
   "cell_type": "code",
   "execution_count": null,
   "metadata": {},
   "outputs": [],
   "source": [
    "try:\n",
    "    ...\n",
    "except ...:\n",
    "    ...\n",
    "else:\n",
    "    if ...:\n",
    "        ...\n",
    "    elif ...:\n",
    "        ...\n",
    "    else:\n",
    "        ..."
   ]
  },
  {
   "cell_type": "markdown",
   "metadata": {},
   "source": [
    "### Section 95.7: Raising Exceptions"
   ]
  },
  {
   "cell_type": "raw",
   "metadata": {},
   "source": [
    "If your code encounters a condition it doesn't know how to handle, such as an incorrect parameter, it should raise\n",
    "the appropriate exception."
   ]
  },
  {
   "cell_type": "code",
   "execution_count": 13,
   "metadata": {},
   "outputs": [],
   "source": [
    "def even_the_odds(odds):\n",
    "    if odds % 2 != 1:\n",
    "        raise ValueError(\"Did not get an odd number\")\n",
    "    return odds + 1"
   ]
  },
  {
   "cell_type": "code",
   "execution_count": 14,
   "metadata": {},
   "outputs": [
    {
     "ename": "ValueError",
     "evalue": "Did not get an odd number",
     "output_type": "error",
     "traceback": [
      "\u001b[1;31m---------------------------------------------------------------------------\u001b[0m",
      "\u001b[1;31mValueError\u001b[0m                                Traceback (most recent call last)",
      "\u001b[1;32m<ipython-input-14-770489c1feba>\u001b[0m in \u001b[0;36m<module>\u001b[1;34m()\u001b[0m\n\u001b[1;32m----> 1\u001b[1;33m \u001b[0meven_the_odds\u001b[0m\u001b[1;33m(\u001b[0m\u001b[1;36m4\u001b[0m\u001b[1;33m)\u001b[0m\u001b[1;33m\u001b[0m\u001b[0m\n\u001b[0m",
      "\u001b[1;32m<ipython-input-13-93d08462bb42>\u001b[0m in \u001b[0;36meven_the_odds\u001b[1;34m(odds)\u001b[0m\n\u001b[0;32m      1\u001b[0m \u001b[1;32mdef\u001b[0m \u001b[0meven_the_odds\u001b[0m\u001b[1;33m(\u001b[0m\u001b[0modds\u001b[0m\u001b[1;33m)\u001b[0m\u001b[1;33m:\u001b[0m\u001b[1;33m\u001b[0m\u001b[0m\n\u001b[0;32m      2\u001b[0m     \u001b[1;32mif\u001b[0m \u001b[0modds\u001b[0m \u001b[1;33m%\u001b[0m \u001b[1;36m2\u001b[0m \u001b[1;33m!=\u001b[0m \u001b[1;36m1\u001b[0m\u001b[1;33m:\u001b[0m\u001b[1;33m\u001b[0m\u001b[0m\n\u001b[1;32m----> 3\u001b[1;33m         \u001b[1;32mraise\u001b[0m \u001b[0mValueError\u001b[0m\u001b[1;33m(\u001b[0m\u001b[1;34m\"Did not get an odd number\"\u001b[0m\u001b[1;33m)\u001b[0m\u001b[1;33m\u001b[0m\u001b[0m\n\u001b[0m\u001b[0;32m      4\u001b[0m     \u001b[1;32mreturn\u001b[0m \u001b[0modds\u001b[0m \u001b[1;33m+\u001b[0m \u001b[1;36m1\u001b[0m\u001b[1;33m\u001b[0m\u001b[0m\n",
      "\u001b[1;31mValueError\u001b[0m: Did not get an odd number"
     ]
    }
   ],
   "source": [
    "even_the_odds(4)"
   ]
  },
  {
   "cell_type": "markdown",
   "metadata": {},
   "source": [
    "### Section 95.8: Creating custom exception types"
   ]
  },
  {
   "cell_type": "code",
   "execution_count": null,
   "metadata": {},
   "outputs": [],
   "source": [
    "Create a class inheriting from Exception :"
   ]
  },
  {
   "cell_type": "code",
   "execution_count": 15,
   "metadata": {},
   "outputs": [
    {
     "name": "stdout",
     "output_type": "stream",
     "text": [
      "A FooException was raised.\n"
     ]
    }
   ],
   "source": [
    "class FooException(Exception):\n",
    "    pass\n",
    "try:\n",
    "    raise FooException(\"insert description here\")\n",
    "except FooException:\n",
    "    print(\"A FooException was raised.\")"
   ]
  },
  {
   "cell_type": "code",
   "execution_count": null,
   "metadata": {},
   "outputs": [],
   "source": [
    "or another exception type:"
   ]
  },
  {
   "cell_type": "code",
   "execution_count": 16,
   "metadata": {},
   "outputs": [
    {
     "name": "stdout",
     "output_type": "stream",
     "text": [
      "You entered a negative number!\n"
     ]
    }
   ],
   "source": [
    "class NegativeError(ValueError):\n",
    "    pass\n",
    "def foo(x):\n",
    "    # function that only accepts positive values of x\n",
    "    if x < 0:\n",
    "        raise NegativeError(\"Cannot process negative numbers\")\n",
    "    # rest of function body\n",
    "try:\n",
    "    result = foo(int(input(\"Enter a positive integer: \"))) # raw_input in Python 2.x\n",
    "except NegativeError:\n",
    "    print(\"You entered a negative number!\")\n",
    "else:\n",
    "    print(\"The result was \" + str(result))"
   ]
  },
  {
   "cell_type": "markdown",
   "metadata": {},
   "source": [
    "### Section 95.9: Practical examples of exception handling"
   ]
  },
  {
   "cell_type": "raw",
   "metadata": {},
   "source": [
    "Imagine you want a user to enter a number via input . You want to ensure that the input is a number. You can use\n",
    "try / except for this:"
   ]
  },
  {
   "cell_type": "raw",
   "metadata": {},
   "source": [
    "Python 3.x Version ≥ 3.0"
   ]
  },
  {
   "cell_type": "code",
   "execution_count": 18,
   "metadata": {},
   "outputs": [
    {
     "name": "stdout",
     "output_type": "stream",
     "text": [
      "This is not a number, try again.\n"
     ]
    }
   ],
   "source": [
    "while True:\n",
    "    try:\n",
    "        nb = int(input('Enter a number: '))\n",
    "        break\n",
    "    except ValueError:\n",
    "        print('This is not a number, try again.')"
   ]
  },
  {
   "cell_type": "raw",
   "metadata": {},
   "source": [
    "Note: Python 2.x would use raw_input instead; the function input exists in Python 2.x but has different semantics.\n",
    "In the above example, input would also accept expressions such as 2 + 2 which evaluate to a number."
   ]
  },
  {
   "cell_type": "raw",
   "metadata": {},
   "source": [
    "If the input could not be converted to an integer, a ValueError is raised. You can catch it with except . If no\n",
    "exception is raised, break jumps out of the loop. After the loop, nb contains an integer."
   ]
  },
  {
   "cell_type": "code",
   "execution_count": 19,
   "metadata": {},
   "outputs": [
    {
     "data": {
      "text/plain": [
       "5"
      ]
     },
     "execution_count": 19,
     "metadata": {},
     "output_type": "execute_result"
    }
   ],
   "source": [
    "nb"
   ]
  },
  {
   "cell_type": "raw",
   "metadata": {},
   "source": [
    "Imagine you are iterating over a list of consecutive integers, like range(n) , and you have a list of dictionaries d that\n",
    "contains information about things to do when you encounter some particular integers, say skip the d[i] next ones."
   ]
  },
  {
   "cell_type": "code",
   "execution_count": 25,
   "metadata": {},
   "outputs": [
    {
     "name": "stdout",
     "output_type": "stream",
     "text": [
      "0\n",
      "1\n",
      "2\n"
     ]
    }
   ],
   "source": [
    "d = [{7: 3}, {25: 9}, {38: 5}]\n",
    "for i in range(len(d)): \n",
    "    try:\n",
    "        dic = d[i]\n",
    "        i += dic[i]\n",
    "    except KeyError:\n",
    "        print(i)\n",
    "        i += 1"
   ]
  },
  {
   "cell_type": "code",
   "execution_count": 24,
   "metadata": {},
   "outputs": [
    {
     "data": {
      "text/plain": [
       "{25: 9}"
      ]
     },
     "execution_count": 24,
     "metadata": {},
     "output_type": "execute_result"
    }
   ],
   "source": [
    "d[1]"
   ]
  },
  {
   "cell_type": "markdown",
   "metadata": {},
   "source": [
    "### Section 95.10: Exceptions are Objects too"
   ]
  },
  {
   "cell_type": "raw",
   "metadata": {},
   "source": [
    "Exceptions are just regular Python objects that inherit from the built-in BaseException . A Python script can use the\n",
    "raise statement to interrupt execution, causing Python to print a stack trace of the call stack at that point and a\n",
    "representation of the exception instance. For example:"
   ]
  },
  {
   "cell_type": "code",
   "execution_count": 26,
   "metadata": {},
   "outputs": [],
   "source": [
    "def failing_function():\n",
    "    raise ValueError('Example error!')"
   ]
  },
  {
   "cell_type": "code",
   "execution_count": 27,
   "metadata": {},
   "outputs": [
    {
     "ename": "ValueError",
     "evalue": "Example error!",
     "output_type": "error",
     "traceback": [
      "\u001b[1;31m---------------------------------------------------------------------------\u001b[0m",
      "\u001b[1;31mValueError\u001b[0m                                Traceback (most recent call last)",
      "\u001b[1;32m<ipython-input-27-02e9e449a59a>\u001b[0m in \u001b[0;36m<module>\u001b[1;34m()\u001b[0m\n\u001b[1;32m----> 1\u001b[1;33m \u001b[0mfailing_function\u001b[0m\u001b[1;33m(\u001b[0m\u001b[1;33m)\u001b[0m\u001b[1;33m\u001b[0m\u001b[0m\n\u001b[0m",
      "\u001b[1;32m<ipython-input-26-6efadf203fd6>\u001b[0m in \u001b[0;36mfailing_function\u001b[1;34m()\u001b[0m\n\u001b[0;32m      1\u001b[0m \u001b[1;32mdef\u001b[0m \u001b[0mfailing_function\u001b[0m\u001b[1;33m(\u001b[0m\u001b[1;33m)\u001b[0m\u001b[1;33m:\u001b[0m\u001b[1;33m\u001b[0m\u001b[0m\n\u001b[1;32m----> 2\u001b[1;33m     \u001b[1;32mraise\u001b[0m \u001b[0mValueError\u001b[0m\u001b[1;33m(\u001b[0m\u001b[1;34m'Example error!'\u001b[0m\u001b[1;33m)\u001b[0m\u001b[1;33m\u001b[0m\u001b[0m\n\u001b[0m",
      "\u001b[1;31mValueError\u001b[0m: Example error!"
     ]
    }
   ],
   "source": [
    "failing_function()"
   ]
  },
  {
   "cell_type": "raw",
   "metadata": {},
   "source": [
    "which says that a ValueError with the message 'Example error!' was raised by our failing_function() , which\n",
    "was executed in the interpreter."
   ]
  },
  {
   "cell_type": "raw",
   "metadata": {},
   "source": [
    "Calling code can choose to handle any and all types of exception that a call can raise:"
   ]
  },
  {
   "cell_type": "code",
   "execution_count": 28,
   "metadata": {},
   "outputs": [
    {
     "name": "stdout",
     "output_type": "stream",
     "text": [
      "Handled the error\n"
     ]
    }
   ],
   "source": [
    "try:\n",
    "    failing_function()\n",
    "except ValueError:\n",
    "    print('Handled the error')"
   ]
  },
  {
   "cell_type": "raw",
   "metadata": {},
   "source": [
    "You can get hold of the exception objects by assigning them in the except... part of the exception handling code"
   ]
  },
  {
   "cell_type": "code",
   "execution_count": 29,
   "metadata": {},
   "outputs": [
    {
     "name": "stdout",
     "output_type": "stream",
     "text": [
      "Caught exception ValueError('Example error!',)\n"
     ]
    }
   ],
   "source": [
    "try:\n",
    "    failing_function()\n",
    "except ValueError as e:\n",
    "    print('Caught exception', repr(e))"
   ]
  },
  {
   "cell_type": "markdown",
   "metadata": {},
   "source": [
    "A complete list of built-in Python exceptions along with their descriptions can be found in the [Python\n",
    "Documentation](https://docs.python.org/3.5/library/exceptions.html). And here is the full list arranged hierarchically:\n",
    "Exception Hierarchy."
   ]
  },
  {
   "cell_type": "markdown",
   "metadata": {},
   "source": [
    "### Section 95.11: Running clean-up code with finally"
   ]
  },
  {
   "cell_type": "raw",
   "metadata": {},
   "source": [
    "Sometimes, you may want something to occur regardless of whatever exception happened, for example, if you\n",
    "have to clean up some resources."
   ]
  },
  {
   "cell_type": "raw",
   "metadata": {},
   "source": [
    "The finally block of a try clause will happen regardless of whether any exceptions were raised."
   ]
  },
  {
   "cell_type": "code",
   "execution_count": null,
   "metadata": {},
   "outputs": [],
   "source": [
    "resource = allocate_some_expensive_resource()\n",
    "try:\n",
    "    do_stuff(resource)\n",
    "except SomeException as e:\n",
    "    log_error(e)\n",
    "    raise # re-raise the error\n",
    "finally:\n",
    "    free_expensive_resource(resource)"
   ]
  },
  {
   "cell_type": "raw",
   "metadata": {},
   "source": [
    "This pattern is often better handled with context managers (using the with statement)."
   ]
  },
  {
   "cell_type": "markdown",
   "metadata": {},
   "source": [
    "### Section 95.12: Chain exceptions with raise from"
   ]
  },
  {
   "cell_type": "raw",
   "metadata": {},
   "source": [
    "In the process of handling an exception, you may want to raise another exception. For example, if you get an\n",
    "IOError while reading from a file, you may want to raise an application-specific error to present to the users of your\n",
    "library, instead."
   ]
  },
  {
   "cell_type": "raw",
   "metadata": {},
   "source": [
    "Python 3.x Version ≥ 3.0"
   ]
  },
  {
   "cell_type": "raw",
   "metadata": {},
   "source": [
    "You can chain exceptions to show how the handling of exceptions proceeded:"
   ]
  },
  {
   "cell_type": "code",
   "execution_count": 30,
   "metadata": {},
   "outputs": [
    {
     "ename": "ValueError",
     "evalue": "Division failed",
     "output_type": "error",
     "traceback": [
      "\u001b[1;31m---------------------------------------------------------------------------\u001b[0m",
      "\u001b[1;31mZeroDivisionError\u001b[0m                         Traceback (most recent call last)",
      "\u001b[1;32m<ipython-input-30-258accd53afe>\u001b[0m in \u001b[0;36m<module>\u001b[1;34m()\u001b[0m\n\u001b[0;32m      1\u001b[0m \u001b[1;32mtry\u001b[0m\u001b[1;33m:\u001b[0m\u001b[1;33m\u001b[0m\u001b[0m\n\u001b[1;32m----> 2\u001b[1;33m     \u001b[1;36m5\u001b[0m \u001b[1;33m/\u001b[0m \u001b[1;36m0\u001b[0m\u001b[1;33m\u001b[0m\u001b[0m\n\u001b[0m\u001b[0;32m      3\u001b[0m \u001b[1;32mexcept\u001b[0m \u001b[0mZeroDivisionError\u001b[0m \u001b[1;32mas\u001b[0m \u001b[0me\u001b[0m\u001b[1;33m:\u001b[0m\u001b[1;33m\u001b[0m\u001b[0m\n",
      "\u001b[1;31mZeroDivisionError\u001b[0m: division by zero",
      "\nThe above exception was the direct cause of the following exception:\n",
      "\u001b[1;31mValueError\u001b[0m                                Traceback (most recent call last)",
      "\u001b[1;32m<ipython-input-30-258accd53afe>\u001b[0m in \u001b[0;36m<module>\u001b[1;34m()\u001b[0m\n\u001b[0;32m      2\u001b[0m     \u001b[1;36m5\u001b[0m \u001b[1;33m/\u001b[0m \u001b[1;36m0\u001b[0m\u001b[1;33m\u001b[0m\u001b[0m\n\u001b[0;32m      3\u001b[0m \u001b[1;32mexcept\u001b[0m \u001b[0mZeroDivisionError\u001b[0m \u001b[1;32mas\u001b[0m \u001b[0me\u001b[0m\u001b[1;33m:\u001b[0m\u001b[1;33m\u001b[0m\u001b[0m\n\u001b[1;32m----> 4\u001b[1;33m     \u001b[1;32mraise\u001b[0m \u001b[0mValueError\u001b[0m\u001b[1;33m(\u001b[0m\u001b[1;34m\"Division failed\"\u001b[0m\u001b[1;33m)\u001b[0m \u001b[1;32mfrom\u001b[0m \u001b[0me\u001b[0m\u001b[1;33m\u001b[0m\u001b[0m\n\u001b[0m",
      "\u001b[1;31mValueError\u001b[0m: Division failed"
     ]
    }
   ],
   "source": [
    "try:\n",
    "    5 / 0\n",
    "except ZeroDivisionError as e:\n",
    "    raise ValueError(\"Division failed\") from e"
   ]
  },
  {
   "cell_type": "code",
   "execution_count": null,
   "metadata": {},
   "outputs": [],
   "source": []
  }
 ],
 "metadata": {
  "kernelspec": {
   "display_name": "Python [default]",
   "language": "python",
   "name": "python3"
  },
  "language_info": {
   "codemirror_mode": {
    "name": "ipython",
    "version": 3
   },
   "file_extension": ".py",
   "mimetype": "text/x-python",
   "name": "python",
   "nbconvert_exporter": "python",
   "pygments_lexer": "ipython3",
   "version": "3.6.3"
  }
 },
 "nbformat": 4,
 "nbformat_minor": 2
}
