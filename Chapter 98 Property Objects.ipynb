{
 "cells": [
  {
   "cell_type": "markdown",
   "metadata": {},
   "source": [
    "### Section 98.1: Using the @property decorator for read-write properties"
   ]
  },
  {
   "cell_type": "raw",
   "metadata": {},
   "source": [
    "If you want to use @property to implement custom behavior for setting and getting, use this pattern:"
   ]
  },
  {
   "cell_type": "code",
   "execution_count": 1,
   "metadata": {},
   "outputs": [],
   "source": [
    "class Cash(object):\n",
    "    def __init__(self, value):\n",
    "        self.value = value\n",
    "    @property\n",
    "    def formatted(self):\n",
    "        return '${:.2f}'.format(self.value)\n",
    "    @formatted.setter\n",
    "    def formatted(self, new):\n",
    "        self.value = float(new[1:])"
   ]
  },
  {
   "cell_type": "code",
   "execution_count": 2,
   "metadata": {},
   "outputs": [],
   "source": [
    "wallet = Cash(2.50)"
   ]
  },
  {
   "cell_type": "code",
   "execution_count": 3,
   "metadata": {},
   "outputs": [
    {
     "data": {
      "text/plain": [
       "'$2.50'"
      ]
     },
     "execution_count": 3,
     "metadata": {},
     "output_type": "execute_result"
    }
   ],
   "source": [
    "wallet.formatted"
   ]
  },
  {
   "cell_type": "code",
   "execution_count": 4,
   "metadata": {},
   "outputs": [
    {
     "data": {
      "text/plain": [
       "2.5"
      ]
     },
     "execution_count": 4,
     "metadata": {},
     "output_type": "execute_result"
    }
   ],
   "source": [
    "wallet.value"
   ]
  },
  {
   "cell_type": "code",
   "execution_count": 5,
   "metadata": {},
   "outputs": [],
   "source": [
    "wallet.formatted = \"$123.45\""
   ]
  },
  {
   "cell_type": "code",
   "execution_count": 6,
   "metadata": {},
   "outputs": [
    {
     "data": {
      "text/plain": [
       "123.45"
      ]
     },
     "execution_count": 6,
     "metadata": {},
     "output_type": "execute_result"
    }
   ],
   "source": [
    "wallet.value"
   ]
  },
  {
   "cell_type": "markdown",
   "metadata": {},
   "source": [
    "### Section 98.2: Using the @property decorator"
   ]
  },
  {
   "cell_type": "raw",
   "metadata": {},
   "source": [
    "The @property decorator can be used to define methods in a class which act like attributes. One example where\n",
    "this can be useful is when exposing information which may require an initial (expensive) lookup and simple retrieval\n",
    "thereafter."
   ]
  },
  {
   "cell_type": "raw",
   "metadata": {},
   "source": [
    "Given some module foobar.py :"
   ]
  },
  {
   "cell_type": "raw",
   "metadata": {},
   "source": [
    "class Foo(object): \n",
    "    def __init__(self): \n",
    "        self.__bar = None \n",
    "    @property \n",
    "    def bar(self): \n",
    "        if self.__bar is None: \n",
    "            self.__bar =some_expensive_lookup_operation() \n",
    "            return self.__bar"
   ]
  },
  {
   "cell_type": "raw",
   "metadata": {},
   "source": [
    "Then"
   ]
  },
  {
   "cell_type": "raw",
   "metadata": {},
   "source": [
    ">>> from foobar import Foo >>> foo = Foo() >>> print(foo.bar) # This will take some time since bar is None after\n",
    "initialization 42 >>> print(foo.bar) # This is much faster since bar has a value now 42"
   ]
  },
  {
   "cell_type": "markdown",
   "metadata": {},
   "source": [
    "### Section 98.3: Overriding just a getter, setter or a deleter of a property object"
   ]
  },
  {
   "cell_type": "raw",
   "metadata": {},
   "source": [
    "When you inherit from a class with a property, you can provide a new implementation for one or more of the\n",
    "property getter , setter or deleter functions, by referencing the property object on the parent class:"
   ]
  },
  {
   "cell_type": "code",
   "execution_count": null,
   "metadata": {},
   "outputs": [],
   "source": [
    "class BaseClass(object):\n",
    "    @property\n",
    "    def foo(self):\n",
    "        return some_calculated_value()\n",
    "    @foo.setter\n",
    "    def foo(self, value):\n",
    "        do_something_with_value(value)\n",
    "class DerivedClass(BaseClass):\n",
    "    @BaseClass.foo.setter\n",
    "    def foo(self, value):\n",
    "        do_something_different_with_value(value)"
   ]
  },
  {
   "cell_type": "raw",
   "metadata": {},
   "source": [
    "You can also add a setter or deleter where there was not one on the base class before."
   ]
  },
  {
   "cell_type": "markdown",
   "metadata": {},
   "source": [
    "### Section 98.4: Using properties without decorators"
   ]
  },
  {
   "cell_type": "raw",
   "metadata": {},
   "source": [
    "While using decorator syntax (with the @) is convenient, it also a bit concealing. You can use properties directly,\n",
    "without decorators. The following Python 3.x example shows this:"
   ]
  },
  {
   "cell_type": "code",
   "execution_count": 9,
   "metadata": {},
   "outputs": [],
   "source": [
    "class A:\n",
    "    p = 1234\n",
    "    def getX (self):\n",
    "        return self._x\n",
    "    def setX (self, value):\n",
    "        self._x = value\n",
    "    def getY (self):\n",
    "        return self._y\n",
    "    def setY (self, value):\n",
    "        self._y = 1000 + value # Weird but possible\n",
    "    def getY2 (self):\n",
    "        return self._y\n",
    "    def setY2 (self, value):\n",
    "        self._y = value\n",
    "    def getT (self):\n",
    "        return self._t\n",
    "    def setT (self, value):\n",
    "        self._t = value\n",
    "    def getU (self):\n",
    "        return self._u + 10000\n",
    "    def setU (self, value):\n",
    "        self._u = value - 5000\n",
    "    x, y, y2 = property (getX, setX), property (getY, setY), property (getY2, setY2)\n",
    "    t = property (getT, setT)\n",
    "    u = property (getU, setU)\n",
    "A.q = 5678\n",
    "class B:\n",
    "    def getZ (self):\n",
    "        return self.z_\n",
    "    def setZ (self, value):\n",
    "        self.z_ = value\n",
    "    z = property (getZ, setZ)\n",
    "class C:\n",
    "    def __init__ (self):\n",
    "        self.offset = 1234\n",
    "    def getW (self):\n",
    "        return self.w_ + self.offset\n",
    "    def setW (self, value):\n",
    "        self.w_ = value - self.offset\n",
    "    w = property (getW, setW)"
   ]
  },
  {
   "cell_type": "code",
   "execution_count": 10,
   "metadata": {},
   "outputs": [
    {
     "name": "stdout",
     "output_type": "stream",
     "text": [
      "5 1006 1006\n",
      "7 1008 1008\n",
      "1234 1234 5678 5678\n",
      "77 5088\n",
      "5 100100 200200 300300\n",
      "5 600600 500500 400400\n"
     ]
    }
   ],
   "source": [
    "a1 = A ()\n",
    "a2 = A ()\n",
    "a1.y2 = 1000\n",
    "a2.y2 = 2000\n",
    "a1.x = 5\n",
    "a1.y = 6\n",
    "a2.x = 7\n",
    "a2.y = 8\n",
    "a1.t = 77\n",
    "a1.u = 88\n",
    "print (a1.x, a1.y, a1.y2)\n",
    "print (a2.x, a2.y, a2.y2)\n",
    "print (a1.p, a2.p, a1.q, a2.q)\n",
    "print (a1.t, a1.u)\n",
    "b = B ()\n",
    "c = C ()\n",
    "b.z = 100100\n",
    "c.z = 200200\n",
    "c.w = 300300\n",
    "print (a1.x, b.z, c.z, c.w)\n",
    "c.w = 400400\n",
    "c.z = 500500\n",
    "b.z = 600600\n",
    "print (a1.x, b.z, c.z, c.w)"
   ]
  },
  {
   "cell_type": "code",
   "execution_count": null,
   "metadata": {},
   "outputs": [],
   "source": [
    "5 1006 1006\n",
    "7 1008 1008\n",
    "1234 1234 5678 5678\n",
    "77 5088\n",
    "5 100100 200200 300300\n",
    "5 600600 500500 400400"
   ]
  }
 ],
 "metadata": {
  "kernelspec": {
   "display_name": "Python [default]",
   "language": "python",
   "name": "python3"
  },
  "language_info": {
   "codemirror_mode": {
    "name": "ipython",
    "version": 3
   },
   "file_extension": ".py",
   "mimetype": "text/x-python",
   "name": "python",
   "nbconvert_exporter": "python",
   "pygments_lexer": "ipython3",
   "version": "3.6.3"
  }
 },
 "nbformat": 4,
 "nbformat_minor": 2
}
