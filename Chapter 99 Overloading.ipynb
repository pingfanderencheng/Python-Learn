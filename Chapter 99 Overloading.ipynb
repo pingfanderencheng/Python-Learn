{
 "cells": [
  {
   "cell_type": "markdown",
   "metadata": {},
   "source": [
    "### Section 99.1: Operator overloading"
   ]
  },
  {
   "cell_type": "raw",
   "metadata": {},
   "source": [
    "Below are the operators that can be overloaded in classes, along with the method definitions that are required, and\n",
    "an example of the operator in use within an expression."
   ]
  },
  {
   "cell_type": "raw",
   "metadata": {},
   "source": [
    "N.B. The use of other as a variable name is not mandatory, but is considered the norm."
   ]
  },
  {
   "cell_type": "markdown",
   "metadata": {},
   "source": []
  },
  {
   "cell_type": "raw",
   "metadata": {},
   "source": [
    "Operator                      Method                          Expression\n",
    "+ Addition                    __add__(self, other)            a1 + a2\n",
    "- Subtraction                 __sub__(self, other)            a1 - a2\n",
    "* Multiplication              __mul__(self, other)            a1 * a2\n",
    "@ Matrix Multiplication       __matmul__(self, other)         a1 @ a2 (Python 3.5)\n",
    "/ Division                    __div__(self, other)            a1 / a2 (Python 2 only)\n",
    "/ Division                    __truediv__(self, other)        a1 / a2 (Python 3)\n",
    "// Floor Division             __floordiv__(self, other)       a1 // a2\n",
    "% Modulo/Remainder            __mod__(self, other)            a1 % a2\n",
    "** Power                      __pow__(self, other[, modulo])  a1 ** a2\n",
    "<< Bitwise Left Shift         __lshift__(self, other)         a1 << a2\n",
    ">> Bitwise Right Shift        __rshift__(self, other)         a1 >> a2\n",
    "& Bitwise AND                 __and__(self, other)            a1 & a2\n",
    "^ Bitwise XOR                 __xor__(self, other)            a1 ^ a2\n",
    "| (Bitwise OR)                __or__(self, other)             a1 | a2\n",
    "- Negation (Arithmetic)       __neg__(self)                   -a1\n",
    "+ Positive                    __pos__(self)                   +a1\n",
    "~ Bitwise NOT                 __invert__(self)                ~a1\n",
    "< Less than                   __lt__(self, other)             a1 < a2\n",
    "<= Less than or Equal to      __le__(self, other)             a1 <= a2\n",
    "== Equal to                   __eq__(self, other)             a1 == a2\n",
    "!= Not Equal to               __ne__(self, other)             a1 != a2\n",
    "> Greater than                __gt__(self, other)             a1 > a2\n",
    ">= Greater than or Equal to   __ge__(self, other)             a1 >= a2\n",
    "[index] Index operator        __getitem__(self, index)        a1[index]\n",
    "in In operator                __contains__(self, other)       a2 in a1\n",
    "(*args, ...) Calling          __call__(self, *args, **kwargs) a1(*args, **kwargs)"
   ]
  },
  {
   "cell_type": "raw",
   "metadata": {},
   "source": [
    "The optional parameter modulo for __pow__ is only used by the pow built-in function."
   ]
  },
  {
   "cell_type": "raw",
   "metadata": {},
   "source": [
    "Each of the methods corresponding to a binary operator has a corresponding \"right\" method which start with __r ,\n",
    "for example __radd__ :"
   ]
  },
  {
   "cell_type": "code",
   "execution_count": 1,
   "metadata": {},
   "outputs": [],
   "source": [
    "class A:\n",
    "    def __init__(self, a):\n",
    "        self.a = a\n",
    "    def __add__(self, other):\n",
    "        return self.a + other\n",
    "    def __radd__(self, other):\n",
    "        print(\"radd\")\n",
    "        return other + self.a"
   ]
  },
  {
   "cell_type": "code",
   "execution_count": 2,
   "metadata": {},
   "outputs": [
    {
     "data": {
      "text/plain": [
       "3"
      ]
     },
     "execution_count": 2,
     "metadata": {},
     "output_type": "execute_result"
    }
   ],
   "source": [
    "A(1) + 2"
   ]
  },
  {
   "cell_type": "code",
   "execution_count": 3,
   "metadata": {},
   "outputs": [
    {
     "name": "stdout",
     "output_type": "stream",
     "text": [
      "radd\n"
     ]
    },
    {
     "data": {
      "text/plain": [
       "3"
      ]
     },
     "execution_count": 3,
     "metadata": {},
     "output_type": "execute_result"
    }
   ],
   "source": [
    "2 + A(1)"
   ]
  },
  {
   "cell_type": "raw",
   "metadata": {},
   "source": [
    "as well as a corresponding inplace version, starting with __i "
   ]
  },
  {
   "cell_type": "code",
   "execution_count": 4,
   "metadata": {},
   "outputs": [],
   "source": [
    "class B:\n",
    "    def __init__(self, b):\n",
    "        self.b = b\n",
    "    def __iadd__(self, other):\n",
    "        self.b += other\n",
    "        print(\"iadd\")\n",
    "        return self"
   ]
  },
  {
   "cell_type": "code",
   "execution_count": 5,
   "metadata": {},
   "outputs": [],
   "source": [
    "b = B(2)"
   ]
  },
  {
   "cell_type": "code",
   "execution_count": 6,
   "metadata": {},
   "outputs": [
    {
     "data": {
      "text/plain": [
       "2"
      ]
     },
     "execution_count": 6,
     "metadata": {},
     "output_type": "execute_result"
    }
   ],
   "source": [
    "b.b"
   ]
  },
  {
   "cell_type": "code",
   "execution_count": 7,
   "metadata": {},
   "outputs": [
    {
     "name": "stdout",
     "output_type": "stream",
     "text": [
      "iadd\n"
     ]
    }
   ],
   "source": [
    "b+=1"
   ]
  },
  {
   "cell_type": "code",
   "execution_count": 8,
   "metadata": {},
   "outputs": [
    {
     "data": {
      "text/plain": [
       "3"
      ]
     },
     "execution_count": 8,
     "metadata": {},
     "output_type": "execute_result"
    }
   ],
   "source": [
    "b.b"
   ]
  },
  {
   "cell_type": "raw",
   "metadata": {},
   "source": [
    "Since there's nothing special about these methods, many other parts of the language, parts of the standard library,\n",
    "and even third-party modules add magic methods on their own, like methods to cast an object to a type or checking\n",
    "properties of the object. For example, the builtin str() function calls the object's __str__ method, if it exists. Some\n",
    "of these uses are listed below."
   ]
  },
  {
   "cell_type": "raw",
   "metadata": {},
   "source": [
    "Function                Method                        Expression\n",
    "Casting to int          __int__(self)                 int(a1)\n",
    "Absolute function       __abs__(self)                 abs(a1)\n",
    "Casting to str          __str__(self)                 str(a1)\n",
    "Casting to unicode      __unicode__(self)             unicode(a1) (Python 2 only)\n",
    "String representation   __repr__(self)                repr(a1)\n",
    "Casting to bool         __nonzero__(self)             bool(a1)\n",
    "String formatting       __format__(self, formatstr)   \"Hi {:abc}\".format(a1)\n",
    "Hashing                 __hash__(self)                hash(a1)\n",
    "Length                  __len__(self)                 len(a1)\n",
    "Reversed                __reversed__(self)            reversed(a1)\n",
    "Floor                   __floor__(self)               math.floor(a1)\n",
    "Ceiling                 __ceil__(self)                math.ceil(a1)"
   ]
  },
  {
   "cell_type": "raw",
   "metadata": {},
   "source": [
    "There are also the special methods __enter__ and __exit__ for context managers, and many more"
   ]
  },
  {
   "cell_type": "markdown",
   "metadata": {},
   "source": [
    "### Section 99.2: Magic/Dunder Methods"
   ]
  },
  {
   "cell_type": "raw",
   "metadata": {},
   "source": [
    "Magic (also called dunder as an abbreviation for double-underscore) methods in Python serve a similar purpose to\n",
    "operator overloading in other languages. They allow a class to define its behavior when it is used as an operand in\n",
    "unary or binary operator expressions. They also serve as implementations called by some built-in functions."
   ]
  },
  {
   "cell_type": "raw",
   "metadata": {},
   "source": [
    "Consider this implementation of two-dimensional vectors."
   ]
  },
  {
   "cell_type": "code",
   "execution_count": 9,
   "metadata": {},
   "outputs": [],
   "source": [
    "import math\n",
    "class Vector(object):\n",
    "    # instantiation\n",
    "    def __init__(self, x, y):\n",
    "        self.x = x\n",
    "        self.y = y\n",
    "    # unary negation (-v)\n",
    "    def __neg__(self):\n",
    "        return Vector(-self.x, -self.y)\n",
    "\n",
    "    # addition (v + u)\n",
    "    def __add__(self, other):\n",
    "        return Vector(self.x + other.x, self.y + other.y)\n",
    "    # subtraction (v - u)\n",
    "    def __sub__(self, other):\n",
    "        return self + (-other)\n",
    "    # equality (v == u)\n",
    "    def __eq__(self, other):\n",
    "        return self.x == other.x and self.y == other.y\n",
    "    # abs(v)\n",
    "    def __abs__(self):\n",
    "        return math.hypot(self.x, self.y)\n",
    "    # str(v)\n",
    "    def __str__(self):\n",
    "        return '<{0.x}, {0.y}>'.format(self)\n",
    "    # repr(v)\n",
    "    def __repr__(self):\n",
    "        return 'Vector({0.x}, {0.y})'.format(self)"
   ]
  },
  {
   "cell_type": "code",
   "execution_count": 10,
   "metadata": {},
   "outputs": [
    {
     "data": {
      "text/plain": [
       "Vector(3, 4)"
      ]
     },
     "execution_count": 10,
     "metadata": {},
     "output_type": "execute_result"
    }
   ],
   "source": [
    "v = Vector(1, 4)\n",
    "u = Vector(2, 0)\n",
    "u + v # Vector(3, 4)"
   ]
  },
  {
   "cell_type": "code",
   "execution_count": 11,
   "metadata": {},
   "outputs": [
    {
     "name": "stdout",
     "output_type": "stream",
     "text": [
      "<3, 4>\n"
     ]
    }
   ],
   "source": [
    "print(u + v)"
   ]
  },
  {
   "cell_type": "code",
   "execution_count": 12,
   "metadata": {},
   "outputs": [
    {
     "data": {
      "text/plain": [
       "Vector(1, -4)"
      ]
     },
     "execution_count": 12,
     "metadata": {},
     "output_type": "execute_result"
    }
   ],
   "source": [
    "u - v"
   ]
  },
  {
   "cell_type": "code",
   "execution_count": 13,
   "metadata": {},
   "outputs": [
    {
     "data": {
      "text/plain": [
       "False"
      ]
     },
     "execution_count": 13,
     "metadata": {},
     "output_type": "execute_result"
    }
   ],
   "source": [
    "u == v"
   ]
  },
  {
   "cell_type": "code",
   "execution_count": 14,
   "metadata": {},
   "outputs": [
    {
     "data": {
      "text/plain": [
       "True"
      ]
     },
     "execution_count": 14,
     "metadata": {},
     "output_type": "execute_result"
    }
   ],
   "source": [
    "u + v == v + u"
   ]
  },
  {
   "cell_type": "code",
   "execution_count": 15,
   "metadata": {},
   "outputs": [
    {
     "data": {
      "text/plain": [
       "5.0"
      ]
     },
     "execution_count": 15,
     "metadata": {},
     "output_type": "execute_result"
    }
   ],
   "source": [
    "abs(u + v) "
   ]
  },
  {
   "cell_type": "markdown",
   "metadata": {},
   "source": [
    "### Section 99.3: Container and sequence types"
   ]
  },
  {
   "cell_type": "raw",
   "metadata": {},
   "source": [
    "It is possible to emulate container types, which support accessing values by key or index."
   ]
  },
  {
   "cell_type": "raw",
   "metadata": {},
   "source": [
    "Consider this naive implementation of a sparse list, which stores only its non-zero elements to conserve memory."
   ]
  },
  {
   "cell_type": "code",
   "execution_count": 17,
   "metadata": {},
   "outputs": [],
   "source": [
    "class sparselist(object):\n",
    "    def __init__(self, size):\n",
    "        self.size = size\n",
    "        self.data = {}\n",
    "    # l[index]\n",
    "    def __getitem__(self, index):\n",
    "        if index < 0:\n",
    "            index += self.size\n",
    "        if index >= self.size:\n",
    "            raise IndexError(index)\n",
    "        try:\n",
    "            return self.data[index]\n",
    "        except KeyError:\n",
    "            return 0.0\n",
    "    # l[index] = value\n",
    "    def __setitem__(self, index, value):\n",
    "        self.data[index] = value\n",
    "    # del l[index]\n",
    "    def __delitem__(self, index):\n",
    "        if index in self.data:\n",
    "            del self.data[index]\n",
    "    # value in l\n",
    "    def __contains__(self, value):\n",
    "        return value == 0.0 or value in self.data.values()\n",
    "    # len(l)\n",
    "    def __len__(self):\n",
    "        return self.size\n",
    "    # for value in l: ...\n",
    "    def __iter__(self):\n",
    "        return (self[i] for i in range(self.size)) # use xrange for python2"
   ]
  },
  {
   "cell_type": "raw",
   "metadata": {},
   "source": [
    "Then, we can use a sparselist much like a regular list "
   ]
  },
  {
   "cell_type": "code",
   "execution_count": 18,
   "metadata": {},
   "outputs": [
    {
     "data": {
      "text/plain": [
       "True"
      ]
     },
     "execution_count": 18,
     "metadata": {},
     "output_type": "execute_result"
    }
   ],
   "source": [
    "l = sparselist(10 ** 6) # list with 1 million elements\n",
    "0 in l # True"
   ]
  },
  {
   "cell_type": "code",
   "execution_count": 19,
   "metadata": {},
   "outputs": [
    {
     "data": {
      "text/plain": [
       "False"
      ]
     },
     "execution_count": 19,
     "metadata": {},
     "output_type": "execute_result"
    }
   ],
   "source": [
    "10 in l "
   ]
  },
  {
   "cell_type": "code",
   "execution_count": 20,
   "metadata": {},
   "outputs": [],
   "source": [
    "l[12345] = 10"
   ]
  },
  {
   "cell_type": "code",
   "execution_count": 21,
   "metadata": {},
   "outputs": [
    {
     "data": {
      "text/plain": [
       "True"
      ]
     },
     "execution_count": 21,
     "metadata": {},
     "output_type": "execute_result"
    }
   ],
   "source": [
    "10 in l"
   ]
  },
  {
   "cell_type": "code",
   "execution_count": 22,
   "metadata": {},
   "outputs": [
    {
     "data": {
      "text/plain": [
       "10"
      ]
     },
     "execution_count": 22,
     "metadata": {},
     "output_type": "execute_result"
    }
   ],
   "source": [
    "l[12345]"
   ]
  },
  {
   "cell_type": "code",
   "execution_count": 23,
   "metadata": {},
   "outputs": [
    {
     "data": {
      "text/plain": [
       "1000000"
      ]
     },
     "execution_count": 23,
     "metadata": {},
     "output_type": "execute_result"
    }
   ],
   "source": [
    "i=0\n",
    "for v in l:\n",
    "   i += 1\n",
    "i"
   ]
  },
  {
   "cell_type": "markdown",
   "metadata": {},
   "source": [
    "### Section 99.4: Callable types"
   ]
  },
  {
   "cell_type": "code",
   "execution_count": 24,
   "metadata": {},
   "outputs": [],
   "source": [
    "class adder(object):\n",
    "    def __init__(self, first):\n",
    "        self.first = first\n",
    "    # a(...)\n",
    "    def __call__(self, second):\n",
    "        return self.first + second"
   ]
  },
  {
   "cell_type": "code",
   "execution_count": 25,
   "metadata": {},
   "outputs": [
    {
     "data": {
      "text/plain": [
       "3"
      ]
     },
     "execution_count": 25,
     "metadata": {},
     "output_type": "execute_result"
    }
   ],
   "source": [
    "add2 = adder(2)\n",
    "add2(1)"
   ]
  },
  {
   "cell_type": "code",
   "execution_count": 26,
   "metadata": {},
   "outputs": [
    {
     "data": {
      "text/plain": [
       "4"
      ]
     },
     "execution_count": 26,
     "metadata": {},
     "output_type": "execute_result"
    }
   ],
   "source": [
    "add2(2)"
   ]
  },
  {
   "cell_type": "markdown",
   "metadata": {},
   "source": [
    "### Section 99.5: Handling unimplemented behaviour"
   ]
  },
  {
   "cell_type": "raw",
   "metadata": {},
   "source": [
    "If your class doesn't implement a specific overloaded operator for the argument types provided, it should return\n",
    "NotImplemented (note that this is a special constant, not the same as NotImplementedError ). This will allow Python\n",
    "to fall back to trying other methods to make the operation work:"
   ]
  },
  {
   "cell_type": "raw",
   "metadata": {},
   "source": [
    "When NotImplemented is returned, the interpreter will then try the reflected operation on the other type,\n",
    "or some other fallback, depending on the operator. If all attempted operations return NotImplemented ,\n",
    "the interpreter will raise an appropriate exception."
   ]
  },
  {
   "cell_type": "raw",
   "metadata": {},
   "source": [
    "For example, given x + y , if x.__add__(y) returns unimplemented, y.__radd__(x) is attempted instead."
   ]
  },
  {
   "cell_type": "code",
   "execution_count": 27,
   "metadata": {},
   "outputs": [],
   "source": [
    "class NotAddable(object):\n",
    "    def __init__(self, value):\n",
    "        self.value = value\n",
    "    def __add__(self, other):\n",
    "        return NotImplemented\n",
    "class Addable(NotAddable):\n",
    "    def __add__(self, other):\n",
    "        return Addable(self.value + other.value)\n",
    "    __radd__ = __add__"
   ]
  },
  {
   "cell_type": "raw",
   "metadata": {},
   "source": [
    "As this is the reflected method we have to implement __add__ and __radd__ to get the expected behaviour in all\n",
    "cases; fortunately, as they are both doing the same thing in this simple example, we can take a shortcut."
   ]
  },
  {
   "cell_type": "code",
   "execution_count": 28,
   "metadata": {},
   "outputs": [
    {
     "ename": "TypeError",
     "evalue": "unsupported operand type(s) for +: 'NotAddable' and 'NotAddable'",
     "output_type": "error",
     "traceback": [
      "\u001b[1;31m---------------------------------------------------------------------------\u001b[0m",
      "\u001b[1;31mTypeError\u001b[0m                                 Traceback (most recent call last)",
      "\u001b[1;32m<ipython-input-28-52fd0e19c391>\u001b[0m in \u001b[0;36m<module>\u001b[1;34m()\u001b[0m\n\u001b[0;32m      1\u001b[0m \u001b[0mx\u001b[0m \u001b[1;33m=\u001b[0m \u001b[0mNotAddable\u001b[0m\u001b[1;33m(\u001b[0m\u001b[1;36m1\u001b[0m\u001b[1;33m)\u001b[0m\u001b[1;33m\u001b[0m\u001b[0m\n\u001b[0;32m      2\u001b[0m \u001b[0my\u001b[0m \u001b[1;33m=\u001b[0m \u001b[0mAddable\u001b[0m\u001b[1;33m(\u001b[0m\u001b[1;36m2\u001b[0m\u001b[1;33m)\u001b[0m\u001b[1;33m\u001b[0m\u001b[0m\n\u001b[1;32m----> 3\u001b[1;33m \u001b[0mx\u001b[0m \u001b[1;33m+\u001b[0m \u001b[0mx\u001b[0m\u001b[1;33m\u001b[0m\u001b[0m\n\u001b[0m",
      "\u001b[1;31mTypeError\u001b[0m: unsupported operand type(s) for +: 'NotAddable' and 'NotAddable'"
     ]
    }
   ],
   "source": [
    "x = NotAddable(1)\n",
    "y = Addable(2)\n",
    "x + x"
   ]
  },
  {
   "cell_type": "code",
   "execution_count": 29,
   "metadata": {},
   "outputs": [
    {
     "data": {
      "text/plain": [
       "<__main__.Addable at 0x29cbfaaaf98>"
      ]
     },
     "execution_count": 29,
     "metadata": {},
     "output_type": "execute_result"
    }
   ],
   "source": [
    " y + y"
   ]
  },
  {
   "cell_type": "code",
   "execution_count": 30,
   "metadata": {},
   "outputs": [],
   "source": [
    "z = x + y"
   ]
  },
  {
   "cell_type": "code",
   "execution_count": 31,
   "metadata": {},
   "outputs": [
    {
     "data": {
      "text/plain": [
       "<__main__.Addable at 0x29cbfaaa1d0>"
      ]
     },
     "execution_count": 31,
     "metadata": {},
     "output_type": "execute_result"
    }
   ],
   "source": [
    "z"
   ]
  },
  {
   "cell_type": "code",
   "execution_count": 32,
   "metadata": {},
   "outputs": [
    {
     "data": {
      "text/plain": [
       "3"
      ]
     },
     "execution_count": 32,
     "metadata": {},
     "output_type": "execute_result"
    }
   ],
   "source": [
    "z.value"
   ]
  },
  {
   "cell_type": "code",
   "execution_count": null,
   "metadata": {},
   "outputs": [],
   "source": []
  }
 ],
 "metadata": {
  "kernelspec": {
   "display_name": "Python [default]",
   "language": "python",
   "name": "python3"
  },
  "language_info": {
   "codemirror_mode": {
    "name": "ipython",
    "version": 3
   },
   "file_extension": ".py",
   "mimetype": "text/x-python",
   "name": "python",
   "nbconvert_exporter": "python",
   "pygments_lexer": "ipython3",
   "version": "3.6.3"
  }
 },
 "nbformat": 4,
 "nbformat_minor": 2
}
