{
 "cells": [
  {
   "cell_type": "code",
   "execution_count": 1,
   "metadata": {},
   "outputs": [],
   "source": [
    "def super_secret_function(f):\n",
    "    return f\n",
    "@super_secret_function\n",
    "def my_function():\n",
    "    print(\"This is my secret function.\")"
   ]
  },
  {
   "cell_type": "code",
   "execution_count": 4,
   "metadata": {},
   "outputs": [
    {
     "name": "stdout",
     "output_type": "stream",
     "text": [
      "This is my secret function.\n"
     ]
    }
   ],
   "source": [
    "super_secret_function(my_function)()"
   ]
  },
  {
   "cell_type": "code",
   "execution_count": 5,
   "metadata": {},
   "outputs": [
    {
     "ename": "TypeError",
     "evalue": "'NoneType' object is not callable",
     "output_type": "error",
     "traceback": [
      "\u001b[1;31m---------------------------------------------------------------------------\u001b[0m",
      "\u001b[1;31mTypeError\u001b[0m                                 Traceback (most recent call last)",
      "\u001b[1;32m<ipython-input-5-23d0ab130cdb>\u001b[0m in \u001b[0;36m<module>\u001b[1;34m()\u001b[0m\n\u001b[0;32m      8\u001b[0m \u001b[1;32mdef\u001b[0m \u001b[0mmy_function\u001b[0m\u001b[1;33m(\u001b[0m\u001b[1;33m)\u001b[0m\u001b[1;33m:\u001b[0m\u001b[1;33m\u001b[0m\u001b[0m\n\u001b[0;32m      9\u001b[0m     \u001b[0mprint\u001b[0m\u001b[1;33m(\u001b[0m\u001b[1;34m\"This function can no longer be called...\"\u001b[0m\u001b[1;33m)\u001b[0m\u001b[1;33m\u001b[0m\u001b[0m\n\u001b[1;32m---> 10\u001b[1;33m \u001b[0mmy_function\u001b[0m\u001b[1;33m(\u001b[0m\u001b[1;33m)\u001b[0m\u001b[1;33m\u001b[0m\u001b[0m\n\u001b[0m",
      "\u001b[1;31mTypeError\u001b[0m: 'NoneType' object is not callable"
     ]
    }
   ],
   "source": [
    "def disabled(f):\n",
    "    \"\"\"\n",
    "    This function returns nothing, and hence removes the decorated function\n",
    "    from the local scope.\n",
    "    \"\"\"\n",
    "    pass\n",
    "@disabled\n",
    "def my_function():\n",
    "    print(\"This function can no longer be called...\")\n",
    "my_function()"
   ]
  },
  {
   "cell_type": "code",
   "execution_count": 6,
   "metadata": {},
   "outputs": [
    {
     "name": "stdout",
     "output_type": "stream",
     "text": [
      "(3, 5)\n",
      "{}\n",
      "15\n"
     ]
    }
   ],
   "source": [
    "def print_args(func):\n",
    "    def inner_func(*args, **kwargs):\n",
    "        print(args)\n",
    "        print(kwargs)\n",
    "        return func(*args, **kwargs)\n",
    "    return inner_func\n",
    "@print_args\n",
    "def multiply(num_a, num_b):\n",
    "    return num_a * num_b\n",
    "print(multiply(3, 5))"
   ]
  },
  {
   "cell_type": "code",
   "execution_count": 7,
   "metadata": {},
   "outputs": [],
   "source": [
    "class Decorator(object):\n",
    "    \"\"\"Simple decorator class.\"\"\"\n",
    "    def __init__(self, func):\n",
    "        self.func = func\n",
    "    def __call__(self, *args, **kwargs):\n",
    "        print('Before the function call.')\n",
    "        res = self.func(*args, **kwargs)\n",
    "        print('After the function call.')\n",
    "        return res"
   ]
  },
  {
   "cell_type": "code",
   "execution_count": 8,
   "metadata": {},
   "outputs": [],
   "source": [
    "@Decorator\n",
    "def testfunc():\n",
    "    print('Inside the function.')"
   ]
  },
  {
   "cell_type": "code",
   "execution_count": 9,
   "metadata": {},
   "outputs": [
    {
     "name": "stdout",
     "output_type": "stream",
     "text": [
      "Before the function call.\n",
      "Inside the function.\n",
      "After the function call.\n"
     ]
    }
   ],
   "source": [
    "testfunc()"
   ]
  },
  {
   "cell_type": "code",
   "execution_count": 10,
   "metadata": {},
   "outputs": [
    {
     "data": {
      "text/plain": [
       "False"
      ]
     },
     "execution_count": 10,
     "metadata": {},
     "output_type": "execute_result"
    }
   ],
   "source": [
    "import types\n",
    "isinstance(testfunc, types.FunctionType)"
   ]
  },
  {
   "cell_type": "code",
   "execution_count": 11,
   "metadata": {},
   "outputs": [
    {
     "data": {
      "text/plain": [
       "__main__.Decorator"
      ]
     },
     "execution_count": 11,
     "metadata": {},
     "output_type": "execute_result"
    }
   ],
   "source": [
    "type(testfunc)"
   ]
  },
  {
   "cell_type": "code",
   "execution_count": 12,
   "metadata": {},
   "outputs": [
    {
     "name": "stdout",
     "output_type": "stream",
     "text": [
      "Inside the decorator.\n"
     ]
    }
   ],
   "source": [
    "from types import MethodType\n",
    "class Decorator(object):\n",
    "    def __init__(self, func):\n",
    "        self.func = func\n",
    "    def __call__(self, *args, **kwargs):\n",
    "        print('Inside the decorator.')\n",
    "        return self.func(*args, **kwargs)\n",
    "    def __get__(self, instance, cls):\n",
    "        # Return a Method if it is called on an instance\n",
    "        return self if instance is None else MethodType(self, instance)\n",
    "class Test(object):\n",
    "    @Decorator\n",
    "    def __init__(self):\n",
    "        pass\n",
    "a = Test()"
   ]
  },
  {
   "cell_type": "code",
   "execution_count": 13,
   "metadata": {},
   "outputs": [],
   "source": [
    "class CountCallsDecorator(object):\n",
    "    def __init__(self, func):\n",
    "        self.func = func\n",
    "        self.ncalls = 0 # Number of calls of this method\n",
    "    def __call__(self, *args, **kwargs):\n",
    "        self.ncalls += 1 # Increment the calls counter\n",
    "        return self.func(*args, **kwargs)\n",
    "    def __get__(self, instance, cls):\n",
    "        return self if instance is None else MethodType(self, instance)\n",
    "class Test(object):\n",
    "    def __init__(self):\n",
    "        pass\n",
    "    @CountCallsDecorator\n",
    "    def do_something(self):\n",
    "        return 'something was done'"
   ]
  },
  {
   "cell_type": "code",
   "execution_count": 14,
   "metadata": {},
   "outputs": [
    {
     "data": {
      "text/plain": [
       "2"
      ]
     },
     "execution_count": 14,
     "metadata": {},
     "output_type": "execute_result"
    }
   ],
   "source": [
    "a = Test()\n",
    "a.do_something()\n",
    "a.do_something.ncalls # 1\n",
    "b = Test()\n",
    "b.do_something()\n",
    "b.do_something.ncalls"
   ]
  },
  {
   "cell_type": "code",
   "execution_count": 15,
   "metadata": {},
   "outputs": [],
   "source": [
    "def decoratorfactory(message):\n",
    "    def decorator(func):\n",
    "        def wrapped_func(*args, **kwargs):\n",
    "            print('The decorator wants to tell you: {}'.format(message))\n",
    "            return func(*args, **kwargs)\n",
    "        return wrapped_func\n",
    "    return decorator\n",
    "\n",
    "@decoratorfactory('Hello World')\n",
    "def test():\n",
    "    pass"
   ]
  },
  {
   "cell_type": "code",
   "execution_count": 16,
   "metadata": {},
   "outputs": [
    {
     "name": "stdout",
     "output_type": "stream",
     "text": [
      "The decorator wants to tell you: Hello World\n"
     ]
    }
   ],
   "source": [
    "test()"
   ]
  },
  {
   "cell_type": "code",
   "execution_count": 17,
   "metadata": {},
   "outputs": [
    {
     "ename": "TypeError",
     "evalue": "decorator() missing 1 required positional argument: 'func'",
     "output_type": "error",
     "traceback": [
      "\u001b[1;31m---------------------------------------------------------------------------\u001b[0m",
      "\u001b[1;31mTypeError\u001b[0m                                 Traceback (most recent call last)",
      "\u001b[1;32m<ipython-input-17-7789d0217756>\u001b[0m in \u001b[0;36m<module>\u001b[1;34m()\u001b[0m\n\u001b[0;32m      2\u001b[0m \u001b[1;32mdef\u001b[0m \u001b[0mtest\u001b[0m\u001b[1;33m(\u001b[0m\u001b[1;33m)\u001b[0m\u001b[1;33m:\u001b[0m\u001b[1;33m\u001b[0m\u001b[0m\n\u001b[0;32m      3\u001b[0m     \u001b[1;32mpass\u001b[0m\u001b[1;33m\u001b[0m\u001b[0m\n\u001b[1;32m----> 4\u001b[1;33m \u001b[0mtest\u001b[0m\u001b[1;33m(\u001b[0m\u001b[1;33m)\u001b[0m\u001b[1;33m\u001b[0m\u001b[0m\n\u001b[0m",
      "\u001b[1;31mTypeError\u001b[0m: decorator() missing 1 required positional argument: 'func'"
     ]
    }
   ],
   "source": [
    "@decoratorfactory # Without parentheses\n",
    "def test():\n",
    "    pass\n",
    "test()"
   ]
  },
  {
   "cell_type": "code",
   "execution_count": 18,
   "metadata": {},
   "outputs": [
    {
     "name": "stdout",
     "output_type": "stream",
     "text": [
      "Inside the decorator with arguments (10,)\n"
     ]
    }
   ],
   "source": [
    "def decoratorfactory(*decorator_args, **decorator_kwargs):\n",
    "    class Decorator(object):\n",
    "        def __init__(self, func):\n",
    "            self.func = func\n",
    "        def __call__(self, *args, **kwargs):\n",
    "            print('Inside the decorator with arguments {}'.format(decorator_args))\n",
    "            return self.func(*args, **kwargs)\n",
    "    return Decorator\n",
    "@decoratorfactory(10)\n",
    "def test():\n",
    "    pass\n",
    "\n",
    "test()"
   ]
  },
  {
   "cell_type": "code",
   "execution_count": 19,
   "metadata": {},
   "outputs": [
    {
     "data": {
      "text/plain": [
       "'test'"
      ]
     },
     "execution_count": 19,
     "metadata": {},
     "output_type": "execute_result"
    }
   ],
   "source": [
    "from functools import wraps\n",
    "def decorator(func):\n",
    "    # Copies the docstring, name, annotations and module to the decorator\n",
    "    @wraps(func)\n",
    "    def wrapped_func(*args, **kwargs):\n",
    "        return func(*args, **kwargs)\n",
    "    return wrapped_func\n",
    "@decorator\n",
    "def test():\n",
    "    pass\n",
    "test.__name__"
   ]
  },
  {
   "cell_type": "code",
   "execution_count": 20,
   "metadata": {},
   "outputs": [
    {
     "data": {
      "text/plain": [
       "'Docstring of test.'"
      ]
     },
     "execution_count": 20,
     "metadata": {},
     "output_type": "execute_result"
    }
   ],
   "source": [
    "class Decorator(object):\n",
    "    def __init__(self, func):\n",
    "        # Copies name, module, annotations and docstring to the instance.\n",
    "        self._wrapped = wraps(func)(self)\n",
    "    def __call__(self, *args, **kwargs):\n",
    "        return self._wrapped(*args, **kwargs)\n",
    "@Decorator\n",
    "def test():\n",
    "    \"\"\"Docstring of test.\"\"\"\n",
    "    pass\n",
    "test.__doc__"
   ]
  },
  {
   "cell_type": "code",
   "execution_count": 21,
   "metadata": {},
   "outputs": [
    {
     "data": {
      "text/plain": [
       "'test'"
      ]
     },
     "execution_count": 21,
     "metadata": {},
     "output_type": "execute_result"
    }
   ],
   "source": [
    "test.__name__"
   ]
  },
  {
   "cell_type": "code",
   "execution_count": 22,
   "metadata": {},
   "outputs": [
    {
     "data": {
      "text/plain": [
       "__main__.Decorator"
      ]
     },
     "execution_count": 22,
     "metadata": {},
     "output_type": "execute_result"
    }
   ],
   "source": [
    "type(test)"
   ]
  },
  {
   "cell_type": "code",
   "execution_count": 26,
   "metadata": {},
   "outputs": [],
   "source": [
    "import time\n",
    "def timer(func):\n",
    "    def inner(*args, **kwargs):\n",
    "        t1 = time.time()\n",
    "        f = func(*args, **kwargs)\n",
    "        t2 = time.time()\n",
    "        print ('Runtime took {0} seconds'.format(t2-t1))\n",
    "        return f\n",
    "    return inner\n",
    "@timer\n",
    "def example_function():\n",
    "    pass"
   ]
  },
  {
   "cell_type": "code",
   "execution_count": 27,
   "metadata": {},
   "outputs": [
    {
     "name": "stdout",
     "output_type": "stream",
     "text": [
      "Runtime took 0.0 seconds\n"
     ]
    }
   ],
   "source": [
    "example_function()"
   ]
  },
  {
   "cell_type": "code",
   "execution_count": 28,
   "metadata": {},
   "outputs": [
    {
     "data": {
      "text/plain": [
       "1517312337.931137"
      ]
     },
     "execution_count": 28,
     "metadata": {},
     "output_type": "execute_result"
    }
   ],
   "source": [
    "time.time()"
   ]
  },
  {
   "cell_type": "code",
   "execution_count": 30,
   "metadata": {},
   "outputs": [
    {
     "data": {
      "text/plain": [
       "datetime.datetime(2018, 1, 30, 19, 39, 39, 900617)"
      ]
     },
     "execution_count": 30,
     "metadata": {},
     "output_type": "execute_result"
    }
   ],
   "source": [
    "import datetime\n",
    "datetime.datetime.now()"
   ]
  },
  {
   "cell_type": "code",
   "execution_count": 31,
   "metadata": {},
   "outputs": [
    {
     "name": "stdout",
     "output_type": "stream",
     "text": [
      "2018-01-30 19:40:10.251735\n"
     ]
    }
   ],
   "source": [
    "print(datetime.datetime.now())"
   ]
  },
  {
   "cell_type": "code",
   "execution_count": 33,
   "metadata": {},
   "outputs": [],
   "source": [
    "def singleton(cls):\n",
    "    instance = [None]\n",
    "    def wrapper(*args, **kwargs):\n",
    "        if instance[0] is None:\n",
    "            instance[0] = cls(*args, **kwargs)\n",
    "        return instance[0]\n",
    "    return wrapper"
   ]
  },
  {
   "cell_type": "code",
   "execution_count": 34,
   "metadata": {},
   "outputs": [
    {
     "name": "stdout",
     "output_type": "stream",
     "text": [
      "Created!\n",
      "2\n",
      "3\n"
     ]
    }
   ],
   "source": [
    "@singleton\n",
    "class SomeSingletonClass:\n",
    "    x = 2\n",
    "    def __init__(self):\n",
    "        print(\"Created!\")\n",
    "instance = SomeSingletonClass() # prints: Created!\n",
    "instance = SomeSingletonClass() # doesn't print anything\n",
    "print(instance.x) # 2\n",
    "instance.x = 3\n",
    "print(SomeSingletonClass().x)"
   ]
  },
  {
   "cell_type": "code",
   "execution_count": null,
   "metadata": {},
   "outputs": [],
   "source": []
  }
 ],
 "metadata": {
  "kernelspec": {
   "display_name": "Python [default]",
   "language": "python",
   "name": "python3"
  },
  "language_info": {
   "codemirror_mode": {
    "name": "ipython",
    "version": 3
   },
   "file_extension": ".py",
   "mimetype": "text/x-python",
   "name": "python",
   "nbconvert_exporter": "python",
   "pygments_lexer": "ipython3",
   "version": "3.6.3"
  }
 },
 "nbformat": 4,
 "nbformat_minor": 2
}
