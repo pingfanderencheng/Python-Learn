{
 "cells": [
  {
   "cell_type": "raw",
   "metadata": {},
   "source": [
    "Modules can have a special variable named __all__ to restrict what variables are imported when using from\n",
    "mymodule import * "
   ]
  },
  {
   "cell_type": "code",
   "execution_count": null,
   "metadata": {},
   "outputs": [],
   "source": [
    "# mymodule.py\n",
    "__all__ = ['imported_by_star']\n",
    "imported_by_star = 42\n",
    "not_imported_by_star = 21"
   ]
  },
  {
   "cell_type": "code",
   "execution_count": null,
   "metadata": {},
   "outputs": [],
   "source": [
    "Only imported_by_star is imported when using from mymodule import * "
   ]
  },
  {
   "cell_type": "code",
   "execution_count": null,
   "metadata": {},
   "outputs": [],
   "source": [
    "If you want to import a module that doesn't already exist as a built-in module in the Python Standard Library nor as\n",
    "a side-package, you can do this by adding the path to the directory where your module is found to sys.path . This\n",
    "may be useful where multiple python environments exist on a host."
   ]
  },
  {
   "cell_type": "code",
   "execution_count": null,
   "metadata": {},
   "outputs": [],
   "source": [
    "import sys\n",
    "sys.path.append(\"/path/to/directory/containing/your/module\")\n",
    "import mymodule"
   ]
  },
  {
   "cell_type": "code",
   "execution_count": null,
   "metadata": {},
   "outputs": [],
   "source": [
    "from module_name import *\n",
    "for example:\n",
    "from math import *\n",
    "sqrt(2) # instead of math.sqrt(2)\n",
    "ceil(2.7) # instead of math.ceil(2.7)\n",
    "\n",
    "This will import all names defined in the math module into the global namespace, other than names that begin with\n",
    "an underscore (which indicates that the writer feels that it is for internal use only).\n",
    "Warning: If a function with the same name was already defined or imported, it will be overwritten. Almost always\n",
    "importing only specific names from math import sqrt, ceil is the recommended way:"
   ]
  },
  {
   "cell_type": "code",
   "execution_count": 1,
   "metadata": {},
   "outputs": [],
   "source": [
    "import importlib\n",
    "random = importlib.import_module(\"random\")"
   ]
  },
  {
   "cell_type": "code",
   "execution_count": 2,
   "metadata": {},
   "outputs": [],
   "source": [
    "from math import sqrt, ceil # Not recommended\n",
    "from math import sqrt # Recommended\n",
    "from math import ceil"
   ]
  },
  {
   "cell_type": "code",
   "execution_count": 3,
   "metadata": {},
   "outputs": [
    {
     "data": {
      "text/plain": [
       "2"
      ]
     },
     "execution_count": 3,
     "metadata": {},
     "output_type": "execute_result"
    }
   ],
   "source": [
    "import random\n",
    "random.randrange(1, 10)"
   ]
  },
  {
   "cell_type": "raw",
   "metadata": {},
   "source": [
    "When using the interactive interpreter, you might want to reload a module. This can be useful if you're editing a\n",
    "module and want to import the newest version, or if you've monkey-patched an element of an existing module and\n",
    "want to revert your changes.\n",
    "Note that you can't just import the module again to revert:"
   ]
  },
  {
   "cell_type": "code",
   "execution_count": 4,
   "metadata": {},
   "outputs": [
    {
     "name": "stdout",
     "output_type": "stream",
     "text": [
      "3\n",
      "3\n"
     ]
    }
   ],
   "source": [
    "import math\n",
    "math.pi = 3\n",
    "print(math.pi) # 3\n",
    "import math\n",
    "print(math.pi) "
   ]
  },
  {
   "cell_type": "code",
   "execution_count": 15,
   "metadata": {},
   "outputs": [
    {
     "name": "stdout",
     "output_type": "stream",
     "text": [
      "3.141592653589793\n",
      "3\n"
     ]
    }
   ],
   "source": [
    "import math\n",
    "print(math.pi)\n",
    "math.pi = 3\n",
    "print(math.pi) # 3"
   ]
  },
  {
   "cell_type": "code",
   "execution_count": 16,
   "metadata": {},
   "outputs": [
    {
     "name": "stdout",
     "output_type": "stream",
     "text": [
      "3\n"
     ]
    }
   ],
   "source": [
    "from importlib import reload\n",
    "reload(math)\n",
    "print(math.pi)"
   ]
  },
  {
   "cell_type": "code",
   "execution_count": 14,
   "metadata": {},
   "outputs": [],
   "source": [
    "import sys\n",
    "if 'math' in sys.modules: # Is the ``math`` module in the register?\n",
    "    del sys.modules['math'] # If so, remove it."
   ]
  },
  {
   "cell_type": "code",
   "execution_count": 17,
   "metadata": {},
   "outputs": [
    {
     "name": "stdout",
     "output_type": "stream",
     "text": [
      "3\n"
     ]
    }
   ],
   "source": [
    "import math\n",
    "print(math.pi) "
   ]
  },
  {
   "cell_type": "code",
   "execution_count": 18,
   "metadata": {},
   "outputs": [
    {
     "data": {
      "text/plain": [
       "<module 'math' (built-in)>"
      ]
     },
     "execution_count": 18,
     "metadata": {},
     "output_type": "execute_result"
    }
   ],
   "source": [
    "from importlib import reload\n",
    "reload(math)"
   ]
  },
  {
   "cell_type": "code",
   "execution_count": 19,
   "metadata": {},
   "outputs": [
    {
     "data": {
      "text/plain": [
       "3"
      ]
     },
     "execution_count": 19,
     "metadata": {},
     "output_type": "execute_result"
    }
   ],
   "source": [
    "math.pi"
   ]
  },
  {
   "cell_type": "code",
   "execution_count": null,
   "metadata": {},
   "outputs": [],
   "source": []
  }
 ],
 "metadata": {
  "kernelspec": {
   "display_name": "Python [default]",
   "language": "python",
   "name": "python3"
  },
  "language_info": {
   "codemirror_mode": {
    "name": "ipython",
    "version": 3
   },
   "file_extension": ".py",
   "mimetype": "text/x-python",
   "name": "python",
   "nbconvert_exporter": "python",
   "pygments_lexer": "ipython3",
   "version": "3.6.3"
  }
 },
 "nbformat": 4,
 "nbformat_minor": 2
}
