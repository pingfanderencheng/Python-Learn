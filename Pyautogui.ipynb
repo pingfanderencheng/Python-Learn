{
 "cells": [
  {
   "cell_type": "raw",
   "metadata": {},
   "source": [
    "pyautogui is a module used to control mouse and keyboard. This module is basically used to automate mouse click\n",
    "and keyboard press tasks. For the mouse, the coordinates of the screen (0,0) start from the top-left corner. If you\n",
    "are out of control, then quickly move the mouse cursor to top-left, it will take the control of mouse and keyboard\n",
    "from the Python and give it back to you."
   ]
  },
  {
   "cell_type": "code",
   "execution_count": null,
   "metadata": {},
   "outputs": [],
   "source": [
    "size() #gave you the size of the screen\n",
    "position() #return current position of mouse\n",
    "moveTo(200,0,duration=1.5) #move the cursor to (200,0) position with 1.5 second delay\n",
    "moveRel() #move the cursor relative to your current position.\n",
    "click(337,46) #it will click on the position mention there\n",
    "dragRel() #it will drag the mouse relative to position\n",
    "pyautogui.displayMousePosition() #gave you the current mouse position but should be done onterminal."
   ]
  },
  {
   "cell_type": "code",
   "execution_count": 1,
   "metadata": {},
   "outputs": [
    {
     "ename": "ModuleNotFoundError",
     "evalue": "No module named 'pyautogui'",
     "output_type": "error",
     "traceback": [
      "\u001b[1;31m---------------------------------------------------------------------------\u001b[0m",
      "\u001b[1;31mModuleNotFoundError\u001b[0m                       Traceback (most recent call last)",
      "\u001b[1;32m<ipython-input-1-8400d1a1b3c0>\u001b[0m in \u001b[0;36m<module>\u001b[1;34m()\u001b[0m\n\u001b[1;32m----> 1\u001b[1;33m \u001b[1;32mimport\u001b[0m \u001b[0mpyautogui\u001b[0m\u001b[1;33m\u001b[0m\u001b[0m\n\u001b[0m",
      "\u001b[1;31mModuleNotFoundError\u001b[0m: No module named 'pyautogui'"
     ]
    }
   ],
   "source": [
    "import pyautogui"
   ]
  },
  {
   "cell_type": "code",
   "execution_count": null,
   "metadata": {},
   "outputs": [],
   "source": [
    "typewrite('') #this will type the string on the screen where current window has focused.\n",
    "typewrite(['a','b','left','left','X','Y'])\n",
    "pyautogui.KEYBOARD_KEYS #get the list of all the keyboard_keys.\n",
    "pyautogui.hotkey('ctrl','o') #for the combination of keys to enter."
   ]
  },
  {
   "cell_type": "code",
   "execution_count": null,
   "metadata": {},
   "outputs": [],
   "source": [
    "typewrite('') #this will type the string on the screen where current window has focused.\n",
    "typewrite(['a','b','left','left','X','Y'])\n",
    "pyautogui.KEYBOARD_KEYS #get the list of all the keyboard_keys.\n",
    "pyautogui.hotkey('ctrl','o') #for the combination of keys to enter."
   ]
  }
 ],
 "metadata": {
  "kernelspec": {
   "display_name": "Python [default]",
   "language": "python",
   "name": "python3"
  },
  "language_info": {
   "codemirror_mode": {
    "name": "ipython",
    "version": 3
   },
   "file_extension": ".py",
   "mimetype": "text/x-python",
   "name": "python",
   "nbconvert_exporter": "python",
   "pygments_lexer": "ipython3",
   "version": "3.6.3"
  }
 },
 "nbformat": 4,
 "nbformat_minor": 2
}
