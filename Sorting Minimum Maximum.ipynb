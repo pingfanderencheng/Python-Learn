{
 "cells": [
  {
   "cell_type": "raw",
   "metadata": {},
   "source": [
    "min , max , and sorted all need the objects to be orderable. To be properly orderable, the class needs to define all of the 6 methods __lt__ , __gt__ , __ge__ , __le__ , __ne__ and __eq__ "
   ]
  },
  {
   "cell_type": "code",
   "execution_count": 1,
   "metadata": {},
   "outputs": [],
   "source": [
    "class IntegerContainer(object):\n",
    "    def __init__(self, value):\n",
    "        self.value = value\n",
    "    def __repr__(self):\n",
    "        return \"{}({})\".format(self.__class__.__name__, self.value)\n",
    "    def __lt__(self, other):\n",
    "        print('{!r} - Test less than {!r}'.format(self, other))\n",
    "        return self.value < other.value\n",
    "    def __le__(self, other):\n",
    "        print('{!r} - Test less than or equal to {!r}'.format(self, other))\n",
    "        return self.value <= other.value\n",
    "    def __gt__(self, other):\n",
    "        print('{!r} - Test greater than {!r}'.format(self, other))\n",
    "        return self.value > other.value\n",
    "    def __ge__(self, other):\n",
    "        print('{!r} - Test greater than or equal to {!r}'.format(self, other))\n",
    "        return self.value >= other.value\n",
    "    def __eq__(self, other):\n",
    "        print('{!r} - Test equal to {!r}'.format(self, other))\n",
    "        return self.value == other.value\n",
    "    def __ne__(self, other):\n",
    "        print('{!r} - Test not equal to {!r}'.format(self, other))\n",
    "        return self.value != other.value"
   ]
  },
  {
   "cell_type": "code",
   "execution_count": 2,
   "metadata": {},
   "outputs": [],
   "source": [
    "alist = [IntegerContainer(5), IntegerContainer(3),\n",
    "IntegerContainer(10), IntegerContainer(7)\n",
    "]"
   ]
  },
  {
   "cell_type": "code",
   "execution_count": 3,
   "metadata": {},
   "outputs": [
    {
     "name": "stdout",
     "output_type": "stream",
     "text": [
      "IntegerContainer(3) - Test greater than IntegerContainer(5)\n",
      "IntegerContainer(10) - Test greater than IntegerContainer(5)\n",
      "IntegerContainer(7) - Test greater than IntegerContainer(10)\n"
     ]
    }
   ],
   "source": [
    "res = max(alist)"
   ]
  },
  {
   "cell_type": "code",
   "execution_count": 4,
   "metadata": {},
   "outputs": [
    {
     "name": "stdout",
     "output_type": "stream",
     "text": [
      "IntegerContainer(10)\n"
     ]
    }
   ],
   "source": [
    "print(res)"
   ]
  },
  {
   "cell_type": "code",
   "execution_count": 5,
   "metadata": {},
   "outputs": [
    {
     "name": "stdout",
     "output_type": "stream",
     "text": [
      "IntegerContainer(3) - Test less than IntegerContainer(5)\n",
      "IntegerContainer(10) - Test less than IntegerContainer(3)\n",
      "IntegerContainer(7) - Test less than IntegerContainer(3)\n"
     ]
    }
   ],
   "source": [
    "res = min(alist)"
   ]
  },
  {
   "cell_type": "code",
   "execution_count": 6,
   "metadata": {},
   "outputs": [
    {
     "name": "stdout",
     "output_type": "stream",
     "text": [
      "IntegerContainer(3)\n"
     ]
    }
   ],
   "source": [
    "print(res)"
   ]
  },
  {
   "cell_type": "code",
   "execution_count": 7,
   "metadata": {},
   "outputs": [
    {
     "name": "stdout",
     "output_type": "stream",
     "text": [
      "IntegerContainer(3) - Test less than IntegerContainer(5)\n",
      "IntegerContainer(10) - Test less than IntegerContainer(3)\n",
      "IntegerContainer(10) - Test less than IntegerContainer(5)\n",
      "IntegerContainer(7) - Test less than IntegerContainer(5)\n",
      "IntegerContainer(7) - Test less than IntegerContainer(10)\n"
     ]
    }
   ],
   "source": [
    "res = sorted(alist)"
   ]
  },
  {
   "cell_type": "code",
   "execution_count": 8,
   "metadata": {},
   "outputs": [
    {
     "name": "stdout",
     "output_type": "stream",
     "text": [
      "[IntegerContainer(3), IntegerContainer(5), IntegerContainer(7), IntegerContainer(10)]\n"
     ]
    }
   ],
   "source": [
    "print(res)"
   ]
  },
  {
   "cell_type": "code",
   "execution_count": 9,
   "metadata": {},
   "outputs": [
    {
     "name": "stdout",
     "output_type": "stream",
     "text": [
      "IntegerContainer(10) - Test less than IntegerContainer(7)\n",
      "IntegerContainer(3) - Test less than IntegerContainer(10)\n",
      "IntegerContainer(3) - Test less than IntegerContainer(10)\n",
      "IntegerContainer(3) - Test less than IntegerContainer(7)\n",
      "IntegerContainer(5) - Test less than IntegerContainer(7)\n",
      "IntegerContainer(5) - Test less than IntegerContainer(3)\n"
     ]
    }
   ],
   "source": [
    "res = sorted(alist, reverse=True)"
   ]
  },
  {
   "cell_type": "code",
   "execution_count": 10,
   "metadata": {},
   "outputs": [
    {
     "name": "stdout",
     "output_type": "stream",
     "text": [
      "[IntegerContainer(10), IntegerContainer(7), IntegerContainer(5), IntegerContainer(3)]\n"
     ]
    }
   ],
   "source": [
    "print(res)"
   ]
  },
  {
   "cell_type": "raw",
   "metadata": {},
   "source": [
    "But sorted can use __gt__ instead if the default is not implemented:"
   ]
  },
  {
   "cell_type": "code",
   "execution_count": 11,
   "metadata": {},
   "outputs": [],
   "source": [
    "del IntegerContainer.__lt__"
   ]
  },
  {
   "cell_type": "code",
   "execution_count": 12,
   "metadata": {},
   "outputs": [
    {
     "name": "stdout",
     "output_type": "stream",
     "text": [
      "IntegerContainer(5) - Test greater than IntegerContainer(3)\n",
      "IntegerContainer(3) - Test greater than IntegerContainer(10)\n",
      "IntegerContainer(3) - Test greater than IntegerContainer(7)\n"
     ]
    }
   ],
   "source": [
    "res = min(alist)"
   ]
  },
  {
   "cell_type": "code",
   "execution_count": 13,
   "metadata": {},
   "outputs": [
    {
     "data": {
      "text/plain": [
       "IntegerContainer(3)"
      ]
     },
     "execution_count": 13,
     "metadata": {},
     "output_type": "execute_result"
    }
   ],
   "source": [
    "res"
   ]
  },
  {
   "cell_type": "raw",
   "metadata": {},
   "source": [
    "Sorting methods will raise a TypeError if neither __lt__ nor __gt__ are implemented:"
   ]
  },
  {
   "cell_type": "code",
   "execution_count": 14,
   "metadata": {},
   "outputs": [],
   "source": [
    "del IntegerContainer.__gt__"
   ]
  },
  {
   "cell_type": "code",
   "execution_count": 15,
   "metadata": {},
   "outputs": [
    {
     "ename": "TypeError",
     "evalue": "'<' not supported between instances of 'IntegerContainer' and 'IntegerContainer'",
     "output_type": "error",
     "traceback": [
      "\u001b[1;31m---------------------------------------------------------------------------\u001b[0m",
      "\u001b[1;31mTypeError\u001b[0m                                 Traceback (most recent call last)",
      "\u001b[1;32m<ipython-input-15-a52b7252f9ac>\u001b[0m in \u001b[0;36m<module>\u001b[1;34m()\u001b[0m\n\u001b[1;32m----> 1\u001b[1;33m \u001b[0mres\u001b[0m \u001b[1;33m=\u001b[0m \u001b[0mmin\u001b[0m\u001b[1;33m(\u001b[0m\u001b[0malist\u001b[0m\u001b[1;33m)\u001b[0m\u001b[1;33m\u001b[0m\u001b[0m\n\u001b[0m",
      "\u001b[1;31mTypeError\u001b[0m: '<' not supported between instances of 'IntegerContainer' and 'IntegerContainer'"
     ]
    }
   ],
   "source": [
    "res = min(alist)"
   ]
  },
  {
   "cell_type": "raw",
   "metadata": {},
   "source": [
    "functools.total_ordering decorator can be used simplifying the effort of writing these rich comparison methods.\n",
    "If you decorate your class with total_ordering , you need to implement __eq__ , __ne__ and only one of the __lt__ ,\n",
    "__le__ , __ge__ or __gt__ , and the decorator will fill in the rest:"
   ]
  },
  {
   "cell_type": "code",
   "execution_count": 16,
   "metadata": {},
   "outputs": [],
   "source": [
    "import functools\n",
    "@functools.total_ordering\n",
    "class IntegerContainer(object):\n",
    "    def __init__(self, value):\n",
    "        self.value = value\n",
    "    def __repr__(self):\n",
    "        return \"{}({})\".format(self.__class__.__name__, self.value)\n",
    "    def __lt__(self, other):\n",
    "        print('{!r} - Test less than {!r}'.format(self, other))\n",
    "        return self.value < other.value\n",
    "    def __eq__(self, other):\n",
    "        print('{!r} - Test equal to {!r}'.format(self, other))\n",
    "        return self.value == other.value\n",
    "    def __ne__(self, other):\n",
    "        print('{!r} - Test not equal to {!r}'.format(self, other))\n",
    "        return self.value != other.value"
   ]
  },
  {
   "cell_type": "code",
   "execution_count": 17,
   "metadata": {},
   "outputs": [
    {
     "name": "stdout",
     "output_type": "stream",
     "text": [
      "IntegerContainer(5) - Test less than IntegerContainer(6)\n"
     ]
    },
    {
     "data": {
      "text/plain": [
       "False"
      ]
     },
     "execution_count": 17,
     "metadata": {},
     "output_type": "execute_result"
    }
   ],
   "source": [
    "IntegerContainer(5) > IntegerContainer(6)"
   ]
  },
  {
   "cell_type": "code",
   "execution_count": 18,
   "metadata": {},
   "outputs": [
    {
     "name": "stdout",
     "output_type": "stream",
     "text": [
      "IntegerContainer(6) - Test less than IntegerContainer(5)\n",
      "IntegerContainer(6) - Test not equal to IntegerContainer(5)\n"
     ]
    },
    {
     "data": {
      "text/plain": [
       "True"
      ]
     },
     "execution_count": 18,
     "metadata": {},
     "output_type": "execute_result"
    }
   ],
   "source": [
    "IntegerContainer(6) > IntegerContainer(5)"
   ]
  },
  {
   "cell_type": "code",
   "execution_count": 19,
   "metadata": {},
   "outputs": [
    {
     "data": {
      "text/plain": [
       "'a'"
      ]
     },
     "execution_count": 19,
     "metadata": {},
     "output_type": "execute_result"
    }
   ],
   "source": [
    "adict = {'a': 3, 'b': 5, 'c': 1}\n",
    "min(adict)"
   ]
  },
  {
   "cell_type": "code",
   "execution_count": 20,
   "metadata": {},
   "outputs": [
    {
     "data": {
      "text/plain": [
       "'c'"
      ]
     },
     "execution_count": 20,
     "metadata": {},
     "output_type": "execute_result"
    }
   ],
   "source": [
    "max(adict)"
   ]
  },
  {
   "cell_type": "code",
   "execution_count": 21,
   "metadata": {},
   "outputs": [
    {
     "data": {
      "text/plain": [
       "['a', 'b', 'c']"
      ]
     },
     "execution_count": 21,
     "metadata": {},
     "output_type": "execute_result"
    }
   ],
   "source": [
    "sorted(adict)"
   ]
  },
  {
   "cell_type": "code",
   "execution_count": 22,
   "metadata": {},
   "outputs": [
    {
     "data": {
      "text/plain": [
       "('a', 3)"
      ]
     },
     "execution_count": 22,
     "metadata": {},
     "output_type": "execute_result"
    }
   ],
   "source": [
    "min(adict.items())"
   ]
  },
  {
   "cell_type": "code",
   "execution_count": 24,
   "metadata": {},
   "outputs": [
    {
     "data": {
      "text/plain": [
       "('c', 1)"
      ]
     },
     "execution_count": 24,
     "metadata": {},
     "output_type": "execute_result"
    }
   ],
   "source": [
    "max(adict.items())"
   ]
  },
  {
   "cell_type": "code",
   "execution_count": 25,
   "metadata": {},
   "outputs": [
    {
     "data": {
      "text/plain": [
       "[('a', 3), ('b', 5), ('c', 1)]"
      ]
     },
     "execution_count": 25,
     "metadata": {},
     "output_type": "execute_result"
    }
   ],
   "source": [
    "sorted(adict.items())"
   ]
  },
  {
   "cell_type": "code",
   "execution_count": 26,
   "metadata": {},
   "outputs": [
    {
     "data": {
      "text/plain": [
       "3"
      ]
     },
     "execution_count": 26,
     "metadata": {},
     "output_type": "execute_result"
    }
   ],
   "source": [
    "from collections import OrderedDict\n",
    "OrderedDict(sorted(adict.items()))\n",
    "# Output: OrderedDict([('a', 3), ('b', 5), ('c', 1)])\n",
    "res = OrderedDict(sorted(adict.items()))\n",
    "res['a']"
   ]
  },
  {
   "cell_type": "code",
   "execution_count": 27,
   "metadata": {},
   "outputs": [
    {
     "data": {
      "text/plain": [
       "('c', 1)"
      ]
     },
     "execution_count": 27,
     "metadata": {},
     "output_type": "execute_result"
    }
   ],
   "source": [
    "min(adict.items(), key=lambda x: x[1])"
   ]
  },
  {
   "cell_type": "code",
   "execution_count": 29,
   "metadata": {},
   "outputs": [
    {
     "data": {
      "text/plain": [
       "('b', 5)"
      ]
     },
     "execution_count": 29,
     "metadata": {},
     "output_type": "execute_result"
    }
   ],
   "source": [
    "import operator\n",
    "max(adict.items(), key=operator.itemgetter(1))"
   ]
  },
  {
   "cell_type": "code",
   "execution_count": 31,
   "metadata": {},
   "outputs": [
    {
     "data": {
      "text/plain": [
       "('b', 5)"
      ]
     },
     "execution_count": 31,
     "metadata": {},
     "output_type": "execute_result"
    }
   ],
   "source": [
    "max(adict.items(), key=lambda x: x[1])"
   ]
  },
  {
   "cell_type": "code",
   "execution_count": 30,
   "metadata": {},
   "outputs": [
    {
     "data": {
      "text/plain": [
       "[('b', 5), ('a', 3), ('c', 1)]"
      ]
     },
     "execution_count": 30,
     "metadata": {},
     "output_type": "execute_result"
    }
   ],
   "source": [
    "sorted(adict.items(), key=operator.itemgetter(1), reverse=True)"
   ]
  },
  {
   "cell_type": "code",
   "execution_count": 32,
   "metadata": {},
   "outputs": [
    {
     "data": {
      "text/plain": [
       "(0, 10)"
      ]
     },
     "execution_count": 32,
     "metadata": {},
     "output_type": "execute_result"
    }
   ],
   "source": [
    "list_of_tuples = [(0, 10), (1, 15), (2, 8)]\n",
    "min(list_of_tuples)"
   ]
  },
  {
   "cell_type": "code",
   "execution_count": 33,
   "metadata": {},
   "outputs": [
    {
     "data": {
      "text/plain": [
       "(0, 10)"
      ]
     },
     "execution_count": 33,
     "metadata": {},
     "output_type": "execute_result"
    }
   ],
   "source": [
    "min(list_of_tuples, key=lambda x: x[0]) "
   ]
  },
  {
   "cell_type": "code",
   "execution_count": 34,
   "metadata": {},
   "outputs": [
    {
     "data": {
      "text/plain": [
       "(2, 8)"
      ]
     },
     "execution_count": 34,
     "metadata": {},
     "output_type": "execute_result"
    }
   ],
   "source": [
    "min(list_of_tuples, key=lambda x: x[1])"
   ]
  },
  {
   "cell_type": "code",
   "execution_count": 35,
   "metadata": {},
   "outputs": [
    {
     "data": {
      "text/plain": [
       "[(0, 10), (1, 15), (2, 8)]"
      ]
     },
     "execution_count": 35,
     "metadata": {},
     "output_type": "execute_result"
    }
   ],
   "source": [
    "sorted(list_of_tuples, key=lambda x: x[0])"
   ]
  },
  {
   "cell_type": "code",
   "execution_count": 36,
   "metadata": {},
   "outputs": [
    {
     "data": {
      "text/plain": [
       "[(2, 8), (0, 10), (1, 15)]"
      ]
     },
     "execution_count": 36,
     "metadata": {},
     "output_type": "execute_result"
    }
   ],
   "source": [
    "sorted(list_of_tuples, key=lambda x: x[1])"
   ]
  },
  {
   "cell_type": "code",
   "execution_count": 37,
   "metadata": {},
   "outputs": [
    {
     "data": {
      "text/plain": [
       "(2, 8)"
      ]
     },
     "execution_count": 37,
     "metadata": {},
     "output_type": "execute_result"
    }
   ],
   "source": [
    "import operator\n",
    "# The operator module contains efficient alternatives to the lambda function\n",
    "max(list_of_tuples, key=operator.itemgetter(0))"
   ]
  },
  {
   "cell_type": "code",
   "execution_count": 38,
   "metadata": {},
   "outputs": [
    {
     "data": {
      "text/plain": [
       "(1, 15)"
      ]
     },
     "execution_count": 38,
     "metadata": {},
     "output_type": "execute_result"
    }
   ],
   "source": [
    "max(list_of_tuples, key=operator.itemgetter(1))"
   ]
  },
  {
   "cell_type": "code",
   "execution_count": 39,
   "metadata": {},
   "outputs": [
    {
     "data": {
      "text/plain": [
       "[(2, 8), (1, 15), (0, 10)]"
      ]
     },
     "execution_count": 39,
     "metadata": {},
     "output_type": "execute_result"
    }
   ],
   "source": [
    "sorted(list_of_tuples, key=operator.itemgetter(0), reverse=True)"
   ]
  },
  {
   "cell_type": "code",
   "execution_count": 40,
   "metadata": {},
   "outputs": [
    {
     "data": {
      "text/plain": [
       "[(1, 15), (0, 10), (2, 8)]"
      ]
     },
     "execution_count": 40,
     "metadata": {},
     "output_type": "execute_result"
    }
   ],
   "source": [
    "sorted(list_of_tuples, key=operator.itemgetter(1), reverse=True)"
   ]
  },
  {
   "cell_type": "code",
   "execution_count": 41,
   "metadata": {},
   "outputs": [
    {
     "ename": "ValueError",
     "evalue": "min() arg is an empty sequence",
     "output_type": "error",
     "traceback": [
      "\u001b[1;31m---------------------------------------------------------------------------\u001b[0m",
      "\u001b[1;31mValueError\u001b[0m                                Traceback (most recent call last)",
      "\u001b[1;32m<ipython-input-41-4f8d45810be9>\u001b[0m in \u001b[0;36m<module>\u001b[1;34m()\u001b[0m\n\u001b[1;32m----> 1\u001b[1;33m \u001b[0mmin\u001b[0m\u001b[1;33m(\u001b[0m\u001b[1;33m[\u001b[0m\u001b[1;33m]\u001b[0m\u001b[1;33m)\u001b[0m\u001b[1;33m\u001b[0m\u001b[0m\n\u001b[0m",
      "\u001b[1;31mValueError\u001b[0m: min() arg is an empty sequence"
     ]
    }
   ],
   "source": [
    "min([])"
   ]
  },
  {
   "cell_type": "code",
   "execution_count": 42,
   "metadata": {},
   "outputs": [
    {
     "data": {
      "text/plain": [
       "42"
      ]
     },
     "execution_count": 42,
     "metadata": {},
     "output_type": "execute_result"
    }
   ],
   "source": [
    "max([], default=42)"
   ]
  },
  {
   "cell_type": "code",
   "execution_count": 43,
   "metadata": {},
   "outputs": [
    {
     "data": {
      "text/plain": [
       "0"
      ]
     },
     "execution_count": 43,
     "metadata": {},
     "output_type": "execute_result"
    }
   ],
   "source": [
    "max([], default=0)"
   ]
  },
  {
   "cell_type": "code",
   "execution_count": 44,
   "metadata": {},
   "outputs": [
    {
     "data": {
      "text/plain": [
       "[1, 2, 5, 7]"
      ]
     },
     "execution_count": 44,
     "metadata": {},
     "output_type": "execute_result"
    }
   ],
   "source": [
    "sorted((7, 2, 1, 5)) "
   ]
  },
  {
   "cell_type": "code",
   "execution_count": 45,
   "metadata": {},
   "outputs": [
    {
     "data": {
      "text/plain": [
       "['A', 'b', 'c']"
      ]
     },
     "execution_count": 45,
     "metadata": {},
     "output_type": "execute_result"
    }
   ],
   "source": [
    "sorted(['c', 'A', 'b'])"
   ]
  },
  {
   "cell_type": "code",
   "execution_count": 46,
   "metadata": {},
   "outputs": [
    {
     "data": {
      "text/plain": [
       "[1, 8, 11]"
      ]
     },
     "execution_count": 46,
     "metadata": {},
     "output_type": "execute_result"
    }
   ],
   "source": [
    "sorted({11, 8, 1}) "
   ]
  },
  {
   "cell_type": "code",
   "execution_count": 47,
   "metadata": {},
   "outputs": [
    {
     "data": {
      "text/plain": [
       "['10', '11', '3']"
      ]
     },
     "execution_count": 47,
     "metadata": {},
     "output_type": "execute_result"
    }
   ],
   "source": [
    "sorted({'11': 5, '3': 2, '10': 15})"
   ]
  },
  {
   "cell_type": "code",
   "execution_count": 48,
   "metadata": {},
   "outputs": [
    {
     "data": {
      "text/plain": [
       "['a', 'b', 'c', 'd']"
      ]
     },
     "execution_count": 48,
     "metadata": {},
     "output_type": "execute_result"
    }
   ],
   "source": [
    "sorted('bdca') "
   ]
  },
  {
   "cell_type": "code",
   "execution_count": 49,
   "metadata": {},
   "outputs": [
    {
     "data": {
      "text/plain": [
       "[9, 8, 7, 6, 5]"
      ]
     },
     "execution_count": 49,
     "metadata": {},
     "output_type": "execute_result"
    }
   ],
   "source": [
    "import heapq\n",
    "# get 5 largest items from the range\n",
    "heapq.nlargest(5, range(10))"
   ]
  },
  {
   "cell_type": "code",
   "execution_count": 50,
   "metadata": {},
   "outputs": [
    {
     "data": {
      "text/plain": [
       "[0, 1, 2, 3, 4]"
      ]
     },
     "execution_count": 50,
     "metadata": {},
     "output_type": "execute_result"
    }
   ],
   "source": [
    "heapq.nsmallest(5, range(10))"
   ]
  },
  {
   "cell_type": "code",
   "execution_count": 58,
   "metadata": {},
   "outputs": [],
   "source": [
    "filename = \"C:\\\\Windows\\\\System32\\\\drivers\\\\etc\\\\hosts\"\n",
    "import heapq\n",
    "with open(filename, encoding='utf-8') as f:\n",
    "    longest_lines = heapq.nlargest(1000, f, key=len)"
   ]
  },
  {
   "cell_type": "code",
   "execution_count": 60,
   "metadata": {},
   "outputs": [
    {
     "name": "stdout",
     "output_type": "stream",
     "text": [
      "['2404:6800:4008:c06::80 chromium-browser-symbols.commondatastorage.googleapis.com #storage.l.googleusercontent.com\\n', '52.211.4.175 eventgateway.soundcloud.com #eventgateway-production-2-1558049626.eu-west-1.elb.amazonaws.com\\n', '2001:428:6402:201::cf6c:dc90 fbcdn-sphotos-e-a.akamaihd.net #fbcdn-sphotos-e-a.akamaihd.net.edgesuite.net\\n', '2001:428:6402:201::cf6c:dc89 fbcdn-sphotos-f-a.akamaihd.net #fbcdn-sphotos-f-a.akamaihd.net.edgesuite.net\\n', '2001:418:1401:19::a5fe:2f78 fbcdn-sphotos-a-a.akamaihd.net #fbcdn-sphotos-a-a.akamaihd.net.edgesuite.net\\n', '2001:418:1401:19::a5fe:2f6a fbcdn-sphotos-b-a.akamaihd.net #fbcdn-sphotos-b-a.akamaihd.net.edgesuite.net\\n', '2001:418:1401:19::a5fe:2f83 fbcdn-sphotos-c-a.akamaihd.net #fbcdn-sphotos-c-a.akamaihd.net.edgesuite.net\\n', '2001:418:1401:19::a5fe:2f78 fbcdn-sphotos-d-a.akamaihd.net #fbcdn-sphotos-d-a.akamaihd.net.edgesuite.net\\n', '2001:428:6402:201::cf6c:dc92 fbcdn-photos-a-a.akamaihd.net #fbcdn-photos-a-a.akamaihd.net.edgesuite.net\\n', '2001:428:6402:201::cf6c:dc98 fbcdn-photos-b-a.akamaihd.net #fbcdn-photos-b-a.akamaihd.net.edgesuite.net\\n', '2001:428:6402:201::cf6c:dca0 fbcdn-photos-c-a.akamaihd.net #fbcdn-photos-c-a.akamaihd.net.edgesuite.net\\n', '2001:428:6402:201::cf6c:dc98 fbcdn-photos-d-a.akamaihd.net #fbcdn-photos-d-a.akamaihd.net.edgesuite.net\\n', '2001:428:6402:201::cf6c:dc91 fbcdn-photos-e-a.akamaihd.net #fbcdn-photos-e-a.akamaihd.net.edgesuite.net\\n', '2001:428:6402:201::cf6c:dc88 fbcdn-photos-f-a.akamaihd.net #fbcdn-photos-f-a.akamaihd.net.edgesuite.net\\n', '2001:428:6402:201::cf6c:dcab fbcdn-photos-g-a.akamaihd.net #fbcdn-photos-g-a.akamaihd.net.edgesuite.net\\n', '2001:428:6402:201::cf6c:dc8b fbcdn-photos-h-a.akamaihd.net #fbcdn-photos-h-a.akamaihd.net.edgesuite.net\\n', '2001:418:1401:19::a5fe:2f6b fbcdn-sphotos-a.akamaihd.net #fbcdn-sphotos-a.akamaihd.net.edgesuite.net\\n', '2001:428:6402:201::cf6c:dc9b fbcdn-photos-a.akamaihd.net #fbcdn-photos-a.akamaihd.net.edgesuite.net\\n', '2600:1407:9::173f:e243 fbcdn-sphotos-g-a.akamaihd.net #fbcdn-sphotos-g-a.akamaihd.net.edgesuite.net\\n', '2600:1407:9::173f:e21a fbcdn-sphotos-h-a.akamaihd.net #fbcdn-sphotos-h-a.akamaihd.net.edgesuite.net\\n', '2001:5a0:3a03::3ff3:f308 fbcdn-creative-a.akamaihd.net #fbcdn-creative-a.akamaihd.net.edgesuite.net\\n', '2404:6800:4008:c06::99 r3269-dot-latest-dot-project-slingshot-gp.appspot.com #appspot.l.google.com\\n', '#2404:6800:4005:80b::2003 p5-klu7rokygdnwu-mst6xj5a4c7xsmqz-424575-i1-v6exp3-v4.metric.gstatic.com\\n', '#2404:6800:4005:80b::2003 p5-klu7rokygdnwu-mst6xj5a4c7xsmqz-424575-s1-v6exp3-v4.metric.gstatic.com\\n', '2404:6800:4005:806::200e v1.lscache1.c.android.clients.google.com #bandaid-redirector.l.google.com\\n', '2404:6800:4008:c04::52 google-code-feed-gadget.googlecode.com #googlecode.l.googleusercontent.com\\n', '2001:5a0:3a03::3ff3:f333 fbcdn-video-a-a.akamaihd.net #fbcdn-video-a-a.akamaihd.net.edgesuite.net\\n', '2001:5a0:3a03::3ff3:f318 fbcdn-video-b-a.akamaihd.net #fbcdn-video-b-a.akamaihd.net.edgesuite.net\\n', '2001:5a0:3a03::3ff3:f32a fbcdn-video-c-a.akamaihd.net #fbcdn-video-c-a.akamaihd.net.edgesuite.net\\n', '2001:5a0:3a03::3ff3:f320 fbcdn-video-d-a.akamaihd.net #fbcdn-video-d-a.akamaihd.net.edgesuite.net\\n', '2001:5a0:3a03::3ff3:f320 fbcdn-video-e-a.akamaihd.net #fbcdn-video-e-a.akamaihd.net.edgesuite.net\\n', '2001:5a0:3a03::3ff3:f320 fbcdn-video-f-a.akamaihd.net #fbcdn-video-f-a.akamaihd.net.edgesuite.net\\n', '2001:5a0:3a03::3ff3:f32b fbcdn-video-g-a.akamaihd.net #fbcdn-video-g-a.akamaihd.net.edgesuite.net\\n', '2001:5a0:3a03::3ff3:f319 fbcdn-video-h-a.akamaihd.net #fbcdn-video-h-a.akamaihd.net.edgesuite.net\\n', '2001:5a0:3a03::3ff3:f321 fbcdn-video-i-a.akamaihd.net #fbcdn-video-i-a.akamaihd.net.edgesuite.net\\n', '2001:5a0:3a03::3ff3:f333 fbcdn-video-j-a.akamaihd.net #fbcdn-video-j-a.akamaihd.net.edgesuite.net\\n', '2001:5a0:3a03::3ff3:f32b fbcdn-video-k-a.akamaihd.net #fbcdn-video-k-a.akamaihd.net.edgesuite.net\\n', '2001:5a0:3a03::3ff3:f339 fbcdn-video-l-a.akamaihd.net #fbcdn-video-l-a.akamaihd.net.edgesuite.net\\n', '2001:5a0:3a03::3ff3:f31a fbcdn-video-m-a.akamaihd.net #fbcdn-video-m-a.akamaihd.net.edgesuite.net\\n', '2001:5a0:3a03::3ff3:f322 fbcdn-video-n-a.akamaihd.net #fbcdn-video-n-a.akamaihd.net.edgesuite.net\\n', '2001:5a0:3a03::3ff3:f331 fbcdn-video-o-a.akamaihd.net #fbcdn-video-o-a.akamaihd.net.edgesuite.net\\n', '2001:5a0:3a03::3ff3:f322 fbcdn-video-p-a.akamaihd.net #fbcdn-video-p-a.akamaihd.net.edgesuite.net\\n', '2404:6800:4008:c03::99 newsfeed-dot-latest-dot-rovio-ad-engine.appspot.com #appspot.l.google.com\\n', '#2001:428:2001:302::3fe9:7e2a photos-e.ak.instagram.com #photos-e.ak.instagram.com.edgesuite.net\\n', '#2001:428:2001:302::3fe9:7e18 photos-f.ak.instagram.com #photos-f.ak.instagram.com.edgesuite.net\\n', '#2001:428:2001:302::3fe9:7e11 photos-g.ak.instagram.com #photos-g.ak.instagram.com.edgesuite.net\\n', '2404:6800:4008:c07::80 bucket.commondatastorage.googleapis.com #storage.l.googleusercontent.com\\n', '2404:6800:4005:809::200e v1.lscache1.c.bigcache.googleapis.com #bandaid-redirector.l.google.com\\n', '2001:5a0:3a03::3ff3:f32b fbcdn-vthumb-a.akamaihd.net #fbcdn-vthumb-a.akamaihd.net.edgesuite.net\\n', '2404:6800:4008:c06::84 doubleclickpublishersapi.blogspot.com #blogspot.l.googleusercontent.com\\n', '2404:6800:4008:c07::84 bloggertemplatespreview.blogspot.com #blogspot.l.googleusercontent.com\\n', '2404:6800:4008:c06::84 google-entertainment-it.blogspot.com #blogspot.l.googleusercontent.com\\n', '2404:6800:4008:c07::52 gmaps-samples-flash.googlecode.com #googlecode.l.googleusercontent.com\\n', '2404:6800:4008:c06::84 4lam9a1ki27mb9p1h5q3furvvf58ss02-a-gm-opensocial.googleusercontent.com\\n', '2404:6800:4008:c06::84 nl3atn8402ncgahndqn8rb6qi2ld2g5a-a-gm-opensocial.googleusercontent.com\\n', '2404:6800:4008:c05::84 8fkcem1ves287v3g5lu9gep1j91p3kk1-a-fc-opensocial.googleusercontent.com\\n', '2404:6800:4008:c03::84 r1rk9np7bpcsfoeekl0khkd2juj27q3o-a-fc-opensocial.googleusercontent.com\\n', '2404:6800:4008:c04::84 4fjvqid3r3oq66t548clrdj52df15coc-a-oz-opensocial.googleusercontent.com\\n', '2404:6800:4008:c04::84 53rd6p0catml6vat6qra84rs0del836d-a-oz-opensocial.googleusercontent.com\\n', '2404:6800:4008:c02::84 59cbv4l9s05pbaks9v77vc3mengeqors-a-oz-opensocial.googleusercontent.com\\n', '2404:6800:4008:c06::84 8kubpeu8314p2efdd7jlv09an9i2ljdo-a-oz-opensocial.googleusercontent.com\\n', '2404:6800:4008:c06::84 adstvca8k2ooaknjjmv89j22n9t676ve-a-oz-opensocial.googleusercontent.com\\n', '2404:6800:4008:c02::84 bt26mravu2qpe56n8gnmjnpv2inl84bf-a-oz-opensocial.googleusercontent.com\\n', '2404:6800:4008:c02::84 debh8vg7vd93bco3prdajidmm7dhql3f-a-oz-opensocial.googleusercontent.com\\n', '2404:6800:4008:c03::84 hsco54a20sh11q9jkmb51ad2n3hmkmrg-a-oz-opensocial.googleusercontent.com\\n', '2404:6800:4008:c04::84 i8brh95qor6r54nkl52hidj2ggcs4jgm-a-oz-opensocial.googleusercontent.com\\n', '2404:6800:4008:c04::84 k6v18tjr24doa89b55o3na41kn4v73eb-a-oz-opensocial.googleusercontent.com\\n', '2404:6800:4008:c06::84 ob7f2qc0i50kbjnc81vkhgmb5hsv7a8l-a-oz-opensocial.googleusercontent.com\\n', '2404:6800:4008:c03::84 qhie5b8u979rnch1q0hqbrmbkn9estf7-a-oz-opensocial.googleusercontent.com\\n', '2404:6800:4008:c03::84 r70rmsn4s0rhk6cehcbbcbfbs31pu0va-a-oz-opensocial.googleusercontent.com\\n', '2404:6800:4008:c06::84 rbjhe237k979f79d87gmenp3gejfonu9-a-oz-opensocial.googleusercontent.com\\n', '2404:6800:4008:c07::84 u807isd5egseeabjccgcns005p2miucq-a-oz-opensocial.googleusercontent.com\\n', '2404:6800:4008:c06::84 upt14k1i2veesusrda9nfotcrbp9d7p5-a-oz-opensocial.googleusercontent.com\\n', '2404:6800:4008:c00::84 4098j3r7bdqqvlggmhbnlu6u5i8d08jq-a-oz-opensocial.googleusercontent.com\\n', '#2001:590:1:501::42ab:e018 photos-a.ak.instagram.com #photos-a.ak.instagram.com.edgesuite.net\\n', '#2001:590:1:501::42ab:e010 photos-b.ak.instagram.com #photos-b.ak.instagram.com.edgesuite.net\\n', '2404:6800:4008:c00::84 googlewebmastercentral.blogspot.com #blogspot.l.googleusercontent.com\\n', '#2001:4860:4001:3::10 r11---sn-nwj7knel.c.docs.google.com #r11.sn-nwj7knel.c.docs.google.com\\n', '#2001:4860:4001:3::11 r12---sn-nwj7knel.c.docs.google.com #r12.sn-nwj7knel.c.docs.google.com\\n', '#2001:4860:4001:3::12 r13---sn-nwj7knel.c.docs.google.com #r13.sn-nwj7knel.c.docs.google.com\\n', '#2001:4860:4001:3::13 r14---sn-nwj7knel.c.docs.google.com #r14.sn-nwj7knel.c.docs.google.com\\n', '#2001:4860:4001:3::14 r15---sn-nwj7knel.c.docs.google.com #r15.sn-nwj7knel.c.docs.google.com\\n', '#2001:4860:4001:3::15 r16---sn-nwj7knel.c.docs.google.com #r16.sn-nwj7knel.c.docs.google.com\\n', '#2001:4860:4001:3::16 r17---sn-nwj7knel.c.docs.google.com #r17.sn-nwj7knel.c.docs.google.com\\n', '#2001:4860:4001:3::17 r18---sn-nwj7knel.c.docs.google.com #r18.sn-nwj7knel.c.docs.google.com\\n', '#2001:4860:4001:3::18 r19---sn-nwj7knel.c.docs.google.com #r19.sn-nwj7knel.c.docs.google.com\\n', '#2001:4860:4001:3::19 r20---sn-nwj7knel.c.docs.google.com #r20.sn-nwj7knel.c.docs.google.com\\n', '2404:6800:4008:c04::52 earth-api-samples.googlecode.com #googlecode.l.googleusercontent.com\\n', '#2001:4860:4001:3::f r10---sn-nwj7knel.c.docs.google.com #r10.sn-nwj7knel.c.docs.google.com\\n', '2001:5a0:3a03::3ff3:f312 fbexternal-a.akamaihd.net #fbexternal-a.akamaihd.net.edgesuite.net\\n', '2001:428:4c02:b9c::1aff s1-word-view-15.cdn.office.net #wildcard.cdn.office.net.edgekey.net\\n', '2404:6800:4008:c05::84 google-code-featured.blogspot.com #blogspot.l.googleusercontent.com\\n', '2404:6800:4008:c02::84 googlechromereleases.blogspot.com #blogspot.l.googleusercontent.com\\n', '2404:6800:4008:c04::74 t.doc-0-0-sj.sj.googleusercontent.com #music-streaming.l.google.com\\n', '2404:6800:4008:c07::85 ap1.googleusercontent.com #photos-ugc-lopri.l.googleusercontent.com\\n', '2404:6800:4008:c00::80 c.commondatastorage.googleapis.com #storage.l.googleusercontent.com\\n', '#2600:1404:2::1702:11bb photos-c.ak.instagram.com #photos-c.ak.instagram.com.edgesuite.net\\n', '#2600:1404:2::1702:1191 photos-d.ak.instagram.com #photos-d.ak.instagram.com.edgesuite.net\\n', '#2600:1409:a::173b:be09 photos-h.ak.instagram.com #photos-h.ak.instagram.com.edgesuite.net\\n', '2404:6800:4008:c02::84 googleajaxsearchapi.blogspot.com #blogspot.l.googleusercontent.com\\n', '2404:6800:4008:c06::84 googleappsdeveloper.blogspot.com #blogspot.l.googleusercontent.com\\n', '2404:6800:4008:c04::84 googlegeodevelopers.blogspot.com #blogspot.l.googleusercontent.com\\n', '2404:6800:4008:c05::52 closure-library.googlecode.com #googlecode.l.googleusercontent.com\\n', '2404:6800:4008:c06::52 googleappengine.googlecode.com #googlecode.l.googleusercontent.com\\n', '#2001:4860:4001:3::6 r1---sn-nwj7knel.c.docs.google.com #r1.sn-nwj7knel.c.docs.google.com\\n', '#2001:4860:4001:3::7 r2---sn-nwj7knel.c.docs.google.com #r2.sn-nwj7knel.c.docs.google.com\\n', '#2001:4860:4001:3::8 r3---sn-nwj7knel.c.docs.google.com #r3.sn-nwj7knel.c.docs.google.com\\n', '#2001:4860:4001:3::9 r4---sn-nwj7knel.c.docs.google.com #r4.sn-nwj7knel.c.docs.google.com\\n', '#2001:4860:4001:3::a r5---sn-nwj7knel.c.docs.google.com #r5.sn-nwj7knel.c.docs.google.com\\n', '#2001:4860:4001:3::b r6---sn-nwj7knel.c.docs.google.com #r6.sn-nwj7knel.c.docs.google.com\\n', '#2001:4860:4001:3::c r7---sn-nwj7knel.c.docs.google.com #r7.sn-nwj7knel.c.docs.google.com\\n', '#2001:4860:4001:3::d r8---sn-nwj7knel.c.docs.google.com #r8.sn-nwj7knel.c.docs.google.com\\n', '#2001:4860:4001:3::e r9---sn-nwj7knel.c.docs.google.com #r9.sn-nwj7knel.c.docs.google.com\\n', '2404:6800:4008:c07::89 blob-s-docs.googlegroups.com #googlegroups.l.googleusercontent.com\\n', '2404:6800:4008:c07::84 android-developers.blogspot.com #blogspot.l.googleusercontent.com\\n', '2404:6800:4008:c03::84 googlecustomsearch.blogspot.com #blogspot.l.googleusercontent.com\\n', '2404:6800:4008:c06::84 googlemashupeditor.blogspot.com #blogspot.l.googleusercontent.com\\n', '2404:6800:4008:c03::84 googleplusplatform.blogspot.com #blogspot.l.googleusercontent.com\\n', '2404:6800:4008:c03::84 googlewebmaster-cn.blogspot.com #blogspot.l.googleusercontent.com\\n', '2404:6800:4008:c07::84 music.googleusercontent.com #googlehosted.l.googleusercontent.com\\n', '2404:6800:4008:c03::80 commondatastorage.googleapis.com #storage.l.googleusercontent.com\\n', '2001:428:6402:201::cf6c:dca0 profile.ak.fbcdn.net #profile.ak.facebook.com.edgesuite.net\\n', '2404:6800:4008:c07::84 google-opensource.blogspot.com #blogspot.l.googleusercontent.com\\n', '2404:6800:4008:c00::84 googlecheckoutapi.blogspot.com #blogspot.l.googleusercontent.com\\n', '2404:6800:4008:c06::84 www.orkut.gmodules.com #orkut-opensocial.l.googleusercontent.com\\n', '2404:6800:4008:c03::84 *.a.orkut.gmodules.com #orkut-opensocial.l.googleusercontent.com\\n', '2404:6800:4008:c03::84 officialorkutblog.blogspot.com #blogspot.l.googleusercontent.com\\n', '2a03:2880:f002:107:face:b00c:0:4381 snaptu-p1.facebook.com #snaptu-p1.c10r.facebook.com\\n', '2a03:2880:f002:1a0:face:b00c:0:4382 snaptu-p2.facebook.com #snaptu-p2.c10r.facebook.com\\n', '2a03:2880:f002:110:face:b00c:0:3 connect.facebook.net #connect.facebook.net.edgekey.net\\n', '2001:5a0:3a03::3ff3:f313 fbstatic-a.akamaihd.net #fbstatic-a.akamaihd.net.edgesuite.net\\n', '#2406:2000:f016:1fe::3001 hk.news.yahoo.com #fd-geoycpi-uno-deluxe.gycpi.b.yahoodns.net\\n', '#2406:2000:f016:1fe::3000 tw.news.yahoo.com #fd-geoycpi-uno-deluxe.gycpi.b.yahoodns.net\\n', '#2406:2000:f016:1fe::3001 tw.news.yahoo.com #fd-geoycpi-uno-deluxe.gycpi.b.yahoodns.net\\n', '2404:6800:4008:c02::84 googledevelopers.blogspot.com #blogspot.l.googleusercontent.com\\n', '2404:6800:4008:c07::84 googleenterprise.blogspot.com #blogspot.l.googleusercontent.com\\n', '2404:6800:4008:c07::84 googlewebtoolkit.blogspot.com #blogspot.l.googleusercontent.com\\n', '2404:6800:4008:c07::84 igoogledeveloper.blogspot.com #blogspot.l.googleusercontent.com\\n', '2404:6800:4008:c03::84 ap3.googleusercontent.com #googlehosted.l.googleusercontent.com\\n', '2404:6800:4008:c04::84 ap4.googleusercontent.com #googlehosted.l.googleusercontent.com\\n', '2404:6800:4008:c04::84 ap5.googleusercontent.com #googlehosted.l.googleusercontent.com\\n', '2404:6800:4008:c03::84 ap6.googleusercontent.com #googlehosted.l.googleusercontent.com\\n', '2404:6800:4008:c05::84 ap7.googleusercontent.com #googlehosted.l.googleusercontent.com\\n', '2404:6800:4008:c04::84 ap8.googleusercontent.com #googlehosted.l.googleusercontent.com\\n', '2404:6800:4008:c00::84 ap9.googleusercontent.com #googlehosted.l.googleusercontent.com\\n', '2404:6800:4008:c05::84 gp1.googleusercontent.com #googlehosted.l.googleusercontent.com\\n', '2404:6800:4008:c03::84 gp2.googleusercontent.com #googlehosted.l.googleusercontent.com\\n', '2a03:2880:f102:81:face:b00c:0:e17 snaptu-z.facebook.com #snaptu-mini.c10r.facebook.com\\n', '2404:6800:4008:c00::84 googleappengine.blogspot.com #blogspot.l.googleusercontent.com\\n', '2404:6800:4008:c06::84 googlechinablog.blogspot.com #blogspot.l.googleusercontent.com\\n', '2404:6800:4008:c07::bd filetransferenabled.mail.google.com #b.googlemail.l.google.com\\n', '2404:6800:4008:c03::8a safebrowsing-cache.google.com #safebrowsing.cache.l.google.com\\n', '2404:6800:4008:c03::84 gp.googleusercontent.com #googlehosted.l.googleusercontent.com\\n', '2401:3800:4001:806::101e www.googletagmanager.com #www-googletagmanager.l.google.com\\n', '2404:6800:4008:c07::84 googlecheckout.blogspot.com #blogspot.l.googleusercontent.com\\n', '2404:6800:4008:c05::84 googleresearch.blogspot.com #blogspot.l.googleusercontent.com\\n', '2404:6800:4008:c07::84 youtube-global.blogspot.com #blogspot.l.googleusercontent.com\\n', '2404:6800:4008:c02::84 ap2.googleusercontent.com #photos-ugc.l.googleusercontent.com\\n', '2404:6800:4008:c06::84 gp3.googleusercontent.com #photos-ugc.l.googleusercontent.com\\n', '2404:6800:4008:c07::84 gp4.googleusercontent.com #photos-ugc.l.googleusercontent.com\\n', '2404:6800:4008:c03::84 gp5.googleusercontent.com #photos-ugc.l.googleusercontent.com\\n', '2404:6800:4008:c04::84 gp6.googleusercontent.com #photos-ugc.l.googleusercontent.com\\n', '2401:3800:4001:807::1000 www.google-analytics.com #www-google-analytics.l.google.com\\n', '2404:6800:4005:807::2008 ssl.google-analytics.com #ssl-google-analytics.l.google.com\\n', '2404:6800:4008:c06::75 uploads.stage.gdata.youtube.com #yt-video-upload.l.google.com\\n', '#2600:1417:9::b833:f90 platform.ak.fbcdn.net #platform.ak.facebook.com.edgesuite.net\\n', '#2600:1417:9::b833:f90 photos-a.ak.fbcdn.net #photos-a.ak.facebook.com.edgesuite.net\\n', '#2600:1417:9::b833:f90 photos-b.ak.fbcdn.net #photos-b.ak.facebook.com.edgesuite.net\\n', '#2600:1417:9::b833:f90 photos-c.ak.fbcdn.net #photos-c.ak.facebook.com.edgesuite.net\\n', '#2600:1417:9::b833:f90 photos-e.ak.fbcdn.net #photos-a.ak.facebook.com.edgesuite.net\\n', '#2600:1417:9::b833:f90 photos-f.ak.fbcdn.net #photos-b.ak.facebook.com.edgesuite.net\\n', '#2600:1417:9::b833:f90 photos-g.ak.fbcdn.net #photos-c.ak.facebook.com.edgesuite.net\\n', '#2600:1417:9::b833:f90 photos-h.ak.fbcdn.net #photos-d.ak.facebook.com.edgesuite.net\\n', '2404:6800:4008:c04::84 apacdeveloper.blogspot.com #blogspot.l.googleusercontent.com\\n', '2404:6800:4008:c07::52 android.googlesource.com #googlecode.l.googleusercontent.com\\n', '2404:6800:4008:c05::84 base4.googlehosted.com #googlehosted.l.googleusercontent.com\\n', '2404:6800:4008:c07::84 base5.googlehosted.com #googlehosted.l.googleusercontent.com\\n', '2401:3800:4001:11::100a tpc.googlesyndication.com #pagead-googlehosted.l.google.com\\n', '2001:5a0:3a03::3ff3:f313 external.ak.fbcdn.net #external.ak.fbcdn.net.edgesuite.net\\n', '2404:6800:4008:c04::84 googlemobile.blogspot.com #blogspot.l.googleusercontent.com\\n', '2404:6800:4008:c04::84 developers.googleblog.com #blogspot.l.googleusercontent.com\\n', '2404:6800:4008:c07::52 chromium.googlecode.com #googlecode.l.googleusercontent.com\\n', '2404:6800:4008:c07::76 friendconnect.gmodules.com #gadgets.l.googleusercontent.com\\n', '2404:6800:4008:c06::5f redirector-bigcache.googleapis.com #googleapis.l.google.com\\n', '2401:3800:4001:806::101a pagead2.googlesyndication.com #pagead46.l.doubleclick.net\\n', '2a03:2880:f002:109:face:b00c:0:2 0-edge-chat.messenger.com #star.c10r.facebook.com\\n', '2a03:2880:f002:109:face:b00c:0:2 1-edge-chat.messenger.com #star.c10r.facebook.com\\n', '2a03:2880:f002:109:face:b00c:0:2 2-edge-chat.messenger.com #star.c10r.facebook.com\\n', '2a03:2880:f002:109:face:b00c:0:2 3-edge-chat.messenger.com #star.c10r.facebook.com\\n', '2a03:2880:f002:109:face:b00c:0:2 4-edge-chat.messenger.com #star.c10r.facebook.com\\n', '2a03:2880:f002:109:face:b00c:0:2 5-edge-chat.messenger.com #star.c10r.facebook.com\\n', '2a03:2880:f002:109:face:b00c:0:2 6-edge-chat.messenger.com #star.c10r.facebook.com\\n', '#2600:1406:3:18b::38a s-external.ak.fbcdn.net #s-external.ak.fbcdn.net.edgekey.net\\n', '2001:5a0:3a03::3ff3:f311 static.ak.fbcdn.net #static.ak.facebook.com.edgesuite.net\\n', '2001:428:4c02:b8c::1aff s1-officeapps-15.cdn.office.net #e6911.dspg.akamaiedge.net\\n', '#2606:2800:248:2f:1d8a:787:dc7:17df cdn.api.twitter.com #cs472.wac.edgecastcdn.net\\n', '2404:6800:4008:c03::84 blogsofnote.blogspot.com #blogspot.l.googleusercontent.com\\n', '2404:6800:4008:c03::84 knownissues.blogspot.com #blogspot.l.googleusercontent.com\\n', '2404:6800:4008:c03::84 adsense-zhs.blogspot.com #blogspot.l.googleusercontent.com\\n', '2404:6800:4008:c03::84 webmproject.blogspot.com #blogspot.l.googleusercontent.com\\n', '2404:6800:4008:c07::84 *.ig.ig.gmodules.com #googlehosted.l.googleusercontent.com\\n', '2404:6800:4008:c03::84 www.googlehosted.com #googlehosted.l.googleusercontent.com\\n', '2404:6800:4008:c04::8a spreadsheets.l.google.com #spreadsheets-china.l.google.com\\n', '#2404:6800:4008:c00::9a partner.googleadservices.com #partnerad.l.doubleclick.net\\n', '2a03:2880:f002:109:face:b00c:0:2 0-edge-chat.facebook.com #star.c10r.facebook.com\\n', '2a03:2880:f002:109:face:b00c:0:2 1-edge-chat.facebook.com #star.c10r.facebook.com\\n', '2a03:2880:f002:109:face:b00c:0:2 2-edge-chat.facebook.com #star.c10r.facebook.com\\n', '2a03:2880:f002:109:face:b00c:0:2 4-edge-chat.facebook.com #star.c10r.facebook.com\\n', '2a03:2880:f002:109:face:b00c:0:2 5-edge-chat.facebook.com #star.c10r.facebook.com\\n', '2a03:2880:f002:109:face:b00c:0:2 6-edge-chat.facebook.com #star.c10r.facebook.com\\n', '2a03:2880:f002:109:face:b00c:0:2 attachments.facebook.com #star.c10r.facebook.com\\n', '2404:6800:4008:c03::84 adwordsapi.blogspot.com #blogspot.l.googleusercontent.com\\n', '2404:6800:4008:c00::84 booksearch.blogspot.com #blogspot.l.googleusercontent.com\\n', '2404:6800:4008:c06::84 googleblog.blogspot.com #blogspot.l.googleusercontent.com\\n', '2404:6800:4008:c05::84 googlecode.blogspot.com #blogspot.l.googleusercontent.com\\n', '2404:6800:4008:c07::84 googletalk.blogspot.com #blogspot.l.googleusercontent.com\\n', '2404:6800:4008:c03::84 golangblog.blogspot.com #blogspot.l.googleusercontent.com\\n', '2404:6800:4005:80a::2004 toolbarqueries.google.com.hk #toolbarqueries.google.com\\n', '2404:6800:4008:c03::84 www.ig.gmodules.com #googlehosted.l.googleusercontent.com\\n', '2401:3800:4001:806::100d googleads.g.doubleclick.net #pagead46.l.doubleclick.net\\n', '2a03:2880:f026:13:face:b00c:0:2 3-edge-chat.facebook.com #star.c10r.facebook.com\\n', '2a03:2880:f002:105:face:b00c:0:8e edge-mqtt.facebook.com #mqtt.c10r.facebook.com\\n', '2a03:2880:f002:109:face:b00c:0:2 edge-chat.messenger.com #star.c10r.facebook.com\\n', '2001:428:6402:201::cf6c:dc93 fbcdn-profile-a.akamaihd.net #a2047.dspl.akamai.net\\n', '2001:4998:c:80c::3010 news.yahoo.com #fd-geoycpi-uno-deluxe.gycpi.b.yahoodns.net\\n', '2001:4998:f007:1fb::1001 dstest2.yahoo.com #ds-jpx-ycpi-uno.gycpi.b.yahoodns.net\\n', '2404:6800:4008:c07::84 gearsblog.blogspot.com #blogspot.l.googleusercontent.com\\n', '2404:6800:4008:c03::84 gmailblog.blogspot.com #blogspot.l.googleusercontent.com\\n', '2404:6800:4005:806::2004 toolbarqueries.google.com #toolbarqueries.l.google.com\\n', '2404:6800:4008:c06::52 www.googlesource.com #googlecode.l.googleusercontent.com\\n', '2404:6800:4008:c07::89 *.googlegroups.com #googlegroups.l.googleusercontent.com\\n', '2404:6800:4008:c06::84 skins.gmodules.com #googlehosted.l.googleusercontent.com\\n', '2401:3800:4001:807::1019 static.googleadsserving.cn #pagead46.l.doubleclick.net\\n', '#2404:6800:4008:c00::9a domains.googlesyndication.com #pagead.l.doubleclick.net\\n', '2a03:2880:f002:109:face:b00c:0:2 edge-chat.facebook.com #star.c10r.facebook.com\\n', '#2600:1417:9::b833:f90 creative.ak.fbcdn.net #ads.ak.facebook.com.edgesuite.net\\n', '2001:5a0:3a03::3ff3:f330 vthumb.ak.fbcdn.net #vthumb.facebook.com.edgesuite.net\\n', '2400:cb00:2048:1::6810:2902 www.mozilla.org #www.mozilla.org.cdn.cloudflare.net\\n', '2001:4998:c:401::c:9102 dstest3.yahoo.com #ds-jpx-ycpi-uno.gycpi.b.yahoodns.net\\n', '2404:6800:4008:c04::65 toolbarqueries.clients.google.com #clients.l.google.com\\n', '2404:6800:4008:c03::75 uploadsj.clients.google.com #large-uploads.l.google.com\\n', '2404:6800:4008:c06::84 1.ig.gmodules.com #googlehosted.l.googleusercontent.com\\n', '2404:6800:4008:c04::84 2.ig.gmodules.com #googlehosted.l.googleusercontent.com\\n', '2404:6800:4008:c03::84 3.ig.gmodules.com #googlehosted.l.googleusercontent.com\\n', '2404:6800:4008:c06::84 4.ig.gmodules.com #googlehosted.l.googleusercontent.com\\n', '2404:6800:4008:c04::84 5.ig.gmodules.com #googlehosted.l.googleusercontent.com\\n', '2404:6800:4008:c03::84 6.ig.gmodules.com #googlehosted.l.googleusercontent.com\\n', '2404:6800:4008:c07::84 maps.gmodules.com #googlehosted.l.googleusercontent.com\\n', '2404:6800:4008:c03::84 img0.gmodules.com #googlehosted.l.googleusercontent.com\\n', '2404:6800:4008:c03::84 img1.gmodules.com #googlehosted.l.googleusercontent.com\\n', '2404:6800:4008:c06::84 img2.gmodules.com #googlehosted.l.googleusercontent.com\\n', '2404:6800:4008:c03::84 img3.gmodules.com #googlehosted.l.googleusercontent.com\\n', '2404:6800:4008:c03::76 0.blogger.gmodules.com #gadgets.l.googleusercontent.com\\n', '2404:6800:4008:c04::5f firebasestorage.googleapis.com #googleapis.l.google.com\\n', '2404:6800:4008:c07::80 storage.googleapis.com #storage.l.googleusercontent.com\\n', '#2404:6800:4008:c00::9a pagead2.googleadservices.com #pagead.l.doubleclick.net\\n', '2a03:2880:1010:5f07:face:b00c:0:12c pixel.v6.facebook.com #v6.vvv.facebook.com\\n', '2a03:2880:f102:83:face:b00c:0:25de www.thefacebook.com #star.c10r.facebook.com\\n', '#2600:1406:3:18b::d19 s-static.ak.fbcdn.net #s-static.ak.fbcdn.net.edgekey.net\\n', '#2606:2800:20d:1047:6cf:353:607:e8a www.gravatar.com #cs91.wac.edgecastcdn.net\\n', '#2620:101:8008:5::2:8 releases.mozilla.org #static-non-ssl.zlb.phx.mozilla.net\\n', '2404:6800:4008:c07::8a suggestqueries.google.com #suggestqueries.l.google.com\\n', '2404:6800:4008:c06::99 project-slingshot-gp.appspot.com #appspot.l.google.com\\n', '2404:6800:4008:c04::84 emeadev.blogspot.com #blogspot.l.googleusercontent.com\\n', '2404:6800:4008:c06::bd chatenabled.mail.google.com #b.googlemail.l.google.com\\n', '#2404:6800:4005:800::2011 similar-images.googlelabs.com #appspot.l.google.com\\n', '2404:6800:4008:c06::84 www.gmodules.com #googlehosted.l.googleusercontent.com\\n', '2404:6800:4008:c06::84 ads.gmodules.com #googlehosted.l.googleusercontent.com\\n', '2404:6800:4008:c06::5f beyond-pa.clients6.google.com #googleapis.l.google.com\\n', '#2404:6800:4008:c00::9b pubads.g.doubleclick.net #partnerad.l.doubleclick.net\\n', '2401:3800:4001:10::100d www.googletagservices.com #pagead46.l.doubleclick.net\\n', '2401:3800:4001:10::1003 service.urchin.com #www-google-analytics.l.google.com\\n', '2404:6800:4008:c00::8b youtube-ui.l.google.com #youtube-ui-china.l.google.com\\n', '2404:6800:4008:c03::71 video-stats.video.google.com #video-stats.l.google.com\\n', '2a03:2880:20:8f12:face:b00c:0:12e vupload.facebook.com #vupload2.facebook.com\\n', '2a03:2880:f002:109:face:b00c:0:2 attachment.fbsbx.com #star.c10r.facebook.com\\n', '2620:0:863:ed1a::3:d en.planet.wikimedia.org #misc-web-lb.eqiad.wikimedia.org\\n', '2406:2000:ec:a01::4000 dstest.yahoo.com #ds-jpx-ycpi-uno.gycpi.b.yahoodns.net\\n', '2001:4998:c:293f::6000 ad.yieldmanager.com #ds-kr-world.ngd.gysm.yahoodns.net\\n', '2404:6800:4008:c07::8a encrypted-tbn0.google.com #encrypted-tbn.l.google.com\\n', '2404:6800:4008:c03::8b encrypted-tbn1.google.com #encrypted-tbn.l.google.com\\n', '2404:6800:4008:c03::71 encrypted-tbn2.google.com #encrypted-tbn.l.google.com\\n', '2404:6800:4008:c02::71 encrypted-tbn3.google.com #encrypted-tbn.l.google.com\\n', '2404:6800:4008:c07::84 1.bp.blogspot.com #photos-ugc.l.googleusercontent.com\\n', '2404:6800:4008:c07::84 2.bp.blogspot.com #photos-ugc.l.googleusercontent.com\\n', '2404:6800:4008:c03::84 3.bp.blogspot.com #photos-ugc.l.googleusercontent.com\\n', '2404:6800:4008:c03::84 4.bp.blogspot.com #photos-ugc.l.googleusercontent.com\\n', '2404:6800:4008:c06::84 chrome.blogspot.com #blogspot.l.googleusercontent.com\\n', '2404:6800:4008:c06::bd 10.drive.google.com #browserchannel-docs.l.google.com\\n', '2404:6800:4008:c03::bd 11.drive.google.com #browserchannel-docs.l.google.com\\n', '2404:6800:4008:c03::bd 12.drive.google.com #browserchannel-docs.l.google.com\\n', '2404:6800:4008:c02::bd 13.drive.google.com #browserchannel-docs.l.google.com\\n', '2404:6800:4008:c04::bd 14.drive.google.com #browserchannel-docs.l.google.com\\n', '2404:6800:4008:c03::bd 15.drive.google.com #browserchannel-docs.l.google.com\\n', '2404:6800:4008:c02::bd 16.drive.google.com #browserchannel-docs.l.google.com\\n', '#2404:6800:4005:800::2011 livingstories.googlelabs.com #appspot.l.google.com\\n', '2404:6800:4005:806::200e cache.pack.google.com #redirector.c.pack.google.com\\n', '2404:6800:4008:c00::71 safebrowsing.clients.google.com #clients.l.google.com\\n', '2404:6800:4008:c03::84 ig.gmodules.com #googlehosted.l.googleusercontent.com\\n', '2404:6800:4008:c03::74 stage.gdata.youtube.com #yt-video-upload.l.google.com\\n', '2404:6800:4008:c06::75 upload.video.google.com #sslvideo-upload.l.google.com\\n', '2a03:2880:f002:109:face:b00c:0:2 check6.facebook.com #star.c10r.facebook.com\\n', '2a03:2880:f002:109:face:b00c:0:2 upload.facebook.com #star.c10r.facebook.com\\n', '#2606:2800:20d:1047:6cf:353:607:e8a s.gravatar.com #cs91.wac.edgecastcdn.net\\n', '#2606:2800:20d:1047:6cf:353:607:e8a 0.gravatar.com #cs91.wac.edgecastcdn.net\\n', '#2606:2800:20d:1047:6cf:353:607:e8a 1.gravatar.com #cs91.wac.edgecastcdn.net\\n', '#2606:2800:20d:1047:6cf:353:607:e8a 2.gravatar.com #cs91.wac.edgecastcdn.net\\n', '#2620:101:8008:5::2:6 firefoxflicks.mozilla.org #generic.zlb.phx.mozilla.net\\n', '2404:6800:4008:c07::84 music.googleusercontent.cn #music-china.l.google.com\\n', '2404:6800:4008:c06::99 googlesharedspaces.appspot.com #appspot.l.google.com\\n', '2404:6800:4008:c02::52 *.googlecode.com #googlecode.l.googleusercontent.com\\n', '2404:6800:4008:c03::bd *.drive.google.com #browserchannel-docs.l.google.com\\n', '2404:6800:4008:c06::bd 10.docs.google.com #browserchannel-docs.l.google.com\\n', '2404:6800:4008:c02::bd 11.docs.google.com #browserchannel-docs.l.google.com\\n', '2404:6800:4008:c07::bd 12.docs.google.com #browserchannel-docs.l.google.com\\n', '2404:6800:4008:c03::bd 13.docs.google.com #browserchannel-docs.l.google.com\\n', '2404:6800:4008:c03::bd 14.docs.google.com #browserchannel-docs.l.google.com\\n', '2404:6800:4008:c05::bd 15.docs.google.com #browserchannel-docs.l.google.com\\n', '2404:6800:4008:c07::bd 16.docs.google.com #browserchannel-docs.l.google.com\\n', '2404:6800:4008:c03::bd 0.drive.google.com #browserchannel-docs.l.google.com\\n', '2404:6800:4008:c07::bd 1.drive.google.com #browserchannel-docs.l.google.com\\n', '2404:6800:4008:c07::bd 2.drive.google.com #browserchannel-docs.l.google.com\\n', '2404:6800:4008:c03::bd 3.drive.google.com #browserchannel-docs.l.google.com\\n', '2404:6800:4008:c00::bd 4.drive.google.com #browserchannel-docs.l.google.com\\n', '2404:6800:4008:c03::bd 5.drive.google.com #browserchannel-docs.l.google.com\\n', '2404:6800:4008:c05::bd 6.drive.google.com #browserchannel-docs.l.google.com\\n', '2404:6800:4008:c06::bd 7.drive.google.com #browserchannel-docs.l.google.com\\n', '2404:6800:4008:c05::bd 8.drive.google.com #browserchannel-docs.l.google.com\\n', '2404:6800:4008:c03::bd 9.drive.google.com #browserchannel-docs.l.google.com\\n', '#2404:6800:4005:800::2011 followfinder.googlelabs.com #appspot.l.google.com\\n', '#2404:6800:4005:800::2011 newstimeline.googlelabs.com #appspot.l.google.com\\n', '#2404:6800:4005:800::2011 relatedlinks.googlelabs.com #appspot.l.google.com\\n', '2404:6800:4008:c06::75 upload.photos.google.com #large-uploads.l.google.com\\n', '2404:6800:4008:c03::84 p.gmodules.com #googlehosted.l.googleusercontent.com\\n', '#2404:6800:4008:c00::9a feedads.g.doubleclick.net #pagead.l.doubleclick.net\\n', '2a03:2880:f102:83:face:b00c:0:25de www.facebook.com #star.c10r.facebook.com\\n', '2a03:2880:f002:109:face:b00c:0:2 developers.facebook.com #star.facebook.com\\n', '#2620:101:8008:5::2:7 tbpl.mozilla.org #static-redirect.zlb.phx.mozilla.net\\n', '2404:6800:4008:c07::5e accounts.google.com.hk #accounts-cctld.l.google.com\\n', '2404:6800:4008:c03::99 storegadgetwizard.appspot.com #appspot.l.google.com\\n', '2404:6800:4008:c06::75 upload.drive.google.com #large-uploads.l.google.com\\n', '2404:6800:4008:c06::bd *.docs.google.com #browserchannel-docs.l.google.com\\n', '2404:6800:4008:c03::bd 0.docs.google.com #browserchannel-docs.l.google.com\\n', '2404:6800:4008:c00::bd 1.docs.google.com #browserchannel-docs.l.google.com\\n', '2404:6800:4008:c02::bd 2.docs.google.com #browserchannel-docs.l.google.com\\n', '2404:6800:4008:c03::bd 3.docs.google.com #browserchannel-docs.l.google.com\\n', '2404:6800:4008:c03::bd 4.docs.google.com #browserchannel-docs.l.google.com\\n', '2404:6800:4008:c03::bd 5.docs.google.com #browserchannel-docs.l.google.com\\n', '2404:6800:4008:c02::bd 6.docs.google.com #browserchannel-docs.l.google.com\\n', '2404:6800:4008:c06::bd 7.docs.google.com #browserchannel-docs.l.google.com\\n', '2404:6800:4008:c07::bd 8.docs.google.com #browserchannel-docs.l.google.com\\n', '2404:6800:4008:c06::bd 9.docs.google.com #browserchannel-docs.l.google.com\\n', '2404:6800:4008:c04::bd mail-settings.google.com #b.googlemail.l.google.com\\n', '#2404:6800:4005:800::2011 browsersize.googlelabs.com #appspot.l.google.com\\n', '#2404:6800:4005:800::2011 bodybrowser.googlelabs.com #appspot.l.google.com\\n', '#2404:6800:4005:800::2011 earthengine.googlelabs.com #appspot.l.google.com\\n', '#2404:6800:4005:800::2011 image-swirl.googlelabs.com #appspot.l.google.com\\n', '#2404:6800:4005:800::2011 storegadget.googlelabs.com #appspot.l.google.com\\n', '2404:6800:4008:c04::8b mobilemaps.clients.google.com #clients.l.google.com\\n', '2404:6800:4008:c04::5f securetoken.googleapis.com #googleapis.l.google.com\\n', '2404:6800:4005:801::200a translate.googleapis.com #googleapis.l.google.com\\n', '#2404:6800:4008:c00::95 n4061ad.hk.doubleclick.net #dart.l.doubleclick.net\\n', '2404:6800:4008:c03::99 art-project-media.appspot.com #appspot.l.google.com\\n', '#2607:f8b0:400e:c01::97 chrome.googleechotest.com #chromeecho.l.google.com\\n', '#2404:6800:4008:c00::9a www.googleadservices.com #pagead.l.doubleclick.net\\n', '2a03:2880:f002:105:face:b00c:0:8e mqtt.facebook.com #mqtt.vvv.facebook.com\\n', '2a03:2880:f002:109:face:b00c:0:2 star.facebook.com #star.c10r.facebook.com\\n', '2a03:2880:f002:109:face:b00c:0:2 www.messenger.com #star.c10r.facebook.com\\n', '#2620:101:8008:5::2:7 www.mozilla.com #static-redirect.zlb.phx.mozilla.net\\n', '2404:6800:4008:c06::5e clients1.google.com.hk #clients-cctld.l.google.com\\n', '2404:6800:4008:c02::5e clients1.google.com.tw #clients-cctld.l.google.com\\n', '2404:6800:4008:c05::84 img.blogblog.com #blogspot.l.googleusercontent.com\\n', '2404:6800:4008:c06::74 upload.docs.google.com #large-uploads.l.google.com\\n', '2404:6800:4008:c03::8a spreadsheets.google.com #spreadsheets.l.google.com\\n', '#2404:6800:4005:800::2011 scriptconv.googlelabs.com #appspot.l.google.com\\n', '2404:6800:4008:c07::84 mua3.ggpht.com #photos-ugc.l.googleusercontent.com\\n', '2404:6800:4008:c07::84 mua4.ggpht.com #photos-ugc.l.googleusercontent.com\\n', '2404:6800:4008:c05::84 mua5.ggpht.com #photos-ugc.l.googleusercontent.com\\n', '2404:6800:4008:c06::84 mua6.ggpht.com #photos-ugc.l.googleusercontent.com\\n', '2404:6800:4008:c06::54 accounts.l.google.com #accounts-china.l.google.com\\n', '2404:6800:4008:c03::84 www-trixcopysheet-opensocial.googleusercontent.com\\n', '2a03:2880:f002:109:face:b00c:0:2 api.facebook.com #star.c10r.facebook.com\\n', '2a03:2880:f102:84:face:b00c:0:14c9 b-graph.facebook.com #z-m.facebook.com\\n', '2a03:2880:f102:83:face:b00c:0:25de connect.facebook.com #www.facebook.com\\n', '2a03:2880:f102:84:face:b00c:0:14c9 m.facebook.com #star.c10r.facebook.com\\n', '2a03:2880:20:8f08:face:b00c:0:1 apps.v6.facebook.com #v6.vvv.facebook.com\\n', '#2600:1406:3:18b::236 s-static.ak.facebook.com #e566.dspe1.akamaiedge.net\\n', '#2600:1406:1a::173d:c228 a1.sphotos.ak.fbcdn.net #a1001.dspw40.akamai.net\\n', '#2600:1406:1a::173d:c220 a2.sphotos.ak.fbcdn.net #a1402.dspw40.akamai.net\\n', '#2600:1406:1a::173d:c221 a3.sphotos.ak.fbcdn.net #a1003.dspw41.akamai.net\\n', '#2600:1406:1a::173d:c211 a4.sphotos.ak.fbcdn.net #a1404.dspw41.akamai.net\\n', '2620:0:861:1:208:80:154:11 dumps.wikimedia.org #dataset1001.wikimedia.org\\n', '##  __                                 __                               \\n', '## |__| _____  __ __ ┌─────┐          |  |                  __          \\n', '## |  ||     ||  |  ||   ──|  ______  |  |──┐┌─────┐.─────.|  |_ .─────.\\n', '## |  ||  ─  ||  |  ||  ─  | |______| |     ||  ─  ||__ ──||   _||__ ──|\\n', '## |__||  ┌──┘ \\\\___/ |_____|          |__|__||_____||_____||____||_____|\\n', '##     |__|                                                             \\n', '##                                                          · lennylxx ·\\n', \"## +-------------------------  >>d(' _ ')b<<  -------------------------+\\n\", '## |                                                                   |\\n', '## |         Project: https://github.com/lennylxx/ipv6-hosts           |\\n', '## |         Update : Fri, 24 Mar 2017 20:14:58 +0800                  |\\n', '## |                                                                   |\\n', '## +-------------------------------------------------------------------+\\n', '2404:6800:4008:c07::8b linkhelp.clients.google.com #clients.l.google.com\\n', '2404:6800:4008:c06::99 ld-social-stats.appspot.com #appspot.l.google.com\\n', '#2404:6800:4008:c00::66 browsersync.google.com #browsersync.l.google.com\\n', '2404:6800:4008:c00::8b cloudssh.developers.google.com #www3.l.google.com\\n', '2404:6800:4008:c07::66 spreadsheet.google.com #spreadsheets.l.google.com\\n', '2404:6800:4008:c05::10 smtp.googlemail.com #googlemail-smtp.l.google.com\\n', '2404:6800:4008:c06::10 imap.googlemail.com #googlemail-imap.l.google.com\\n', '#2404:6800:4005:800::2011 citytours.googlelabs.com #appspot.l.google.com\\n', '#2404:6800:4005:800::2011 correlate.googlelabs.com #appspot.l.google.com\\n', '#2404:6800:4005:800::2011 pagespeed.googlelabs.com #appspot.l.google.com\\n', '2404:6800:4008:c07::79 gsamplemaps.googlepages.com #ghs.googlehosted.com\\n', '2404:6800:4008:c05::84 gm1.ggpht.com #photos-ugc.l.googleusercontent.com\\n', '2404:6800:4008:c00::84 gm2.ggpht.com #photos-ugc.l.googleusercontent.com\\n', '2404:6800:4008:c06::84 gm3.ggpht.com #photos-ugc.l.googleusercontent.com\\n', '2404:6800:4008:c07::84 gm4.ggpht.com #photos-ugc.l.googleusercontent.com\\n', '2404:6800:4008:c07::84 lh3.ggpht.com #photos-ugc.l.googleusercontent.com\\n', '2404:6800:4008:c03::84 lh4.ggpht.com #photos-ugc.l.googleusercontent.com\\n', '2404:6800:4008:c05::84 lh5.ggpht.com #photos-ugc.l.googleusercontent.com\\n', '2404:6800:4008:c03::84 lh6.ggpht.com #photos-ugc.l.googleusercontent.com\\n', '2404:6800:4008:c03::84 nt0.ggpht.com #photos-ugc.l.googleusercontent.com\\n', '2404:6800:4008:c05::84 nt1.ggpht.com #photos-ugc.l.googleusercontent.com\\n', '2404:6800:4008:c04::84 nt2.ggpht.com #photos-ugc.l.googleusercontent.com\\n', '2404:6800:4008:c06::84 nt3.ggpht.com #photos-ugc.l.googleusercontent.com\\n', '2404:6800:4008:c03::84 yt3.ggpht.com #photos-ugc.l.googleusercontent.com\\n', '2404:6800:4008:c06::84 yt4.ggpht.com #photos-ugc.l.googleusercontent.com\\n', '2404:6800:4008:c06::5f datasaver.googleapis.com #googleapis.l.google.com\\n', '## GoogleUserContent 用户自定义的Google服务 googlehosted.l.googleusercontent.com\\n', '2404:6800:4008:c00::84 images1-esmobile-opensocial.googleusercontent.com\\n', '2404:6800:4008:c03::84 images2-esmobile-opensocial.googleusercontent.com\\n', '2404:6800:4008:c04::84 images3-esmobile-opensocial.googleusercontent.com\\n', '2404:6800:4008:c07::84 images4-esmobile-opensocial.googleusercontent.com\\n', '2404:6800:4008:c04::84 images5-esmobile-opensocial.googleusercontent.com\\n', '2404:6800:4008:c00::84 images6-esmobile-opensocial.googleusercontent.com\\n', '2404:6800:4008:c06::84 images7-esmobile-opensocial.googleusercontent.com\\n', '2404:6800:4008:c05::84 images8-esmobile-opensocial.googleusercontent.com\\n', '2404:6800:4008:c03::84 images9-esmobile-opensocial.googleusercontent.com\\n', '2404:6800:4008:c07::84 www-fusiontables-opensocial.googleusercontent.com\\n', '2404:6800:4008:c06::65 www.youtube-nocookie.com #youtube-ui.l.google.com\\n', '2a03:2880:f002:109:face:b00c:0:2 api-read.facebook.com #api.facebook.com\\n', '2a03:2880:f102:84:face:b00c:0:14c9 pixel.facebook.com #star.facebook.com\\n', '2a03:2880:20:cf04:face:b00c:0:12c m.v6.facebook.com #v6.vvv.facebook.com\\n', '2a03:2880:20:8f08:face:b00c:0:1 www.v6.facebook.com #v6.vvv.facebook.com\\n', '#2600:1409:a::b81b:b241 a5.sphotos.ak.fbcdn.net #a1005.dspw42.akamai.net\\n', '#2600:1409:a::b81b:b220 a6.sphotos.ak.fbcdn.net #a1406.dspw42.akamai.net\\n', '#2600:1409:a::173b:be10 a7.sphotos.ak.fbcdn.net #a1007.dspw43.akamai.net\\n', '#2600:1409:a::173b:be13 a8.sphotos.ak.fbcdn.net #a1408.dspw43.akamai.net\\n', '#2620:0:860:2:21d:9ff:fe33:f235 static.wikipedia.org #hume.wikimedia.org\\n', '#2620:101:8008:5::2:9 bugzilla.mozilla.org #bugzilla.zlb.phx.mozilla.net\\n', '## +-------------------------------------------------------------------+\\n', '## |                            End of File                            |\\n', '## +-------------------------------------------------------------------+\\n', '2404:6800:4008:c04::99 evolutionofweb.appspot.com #appspot.l.google.com\\n', '2404:6800:4008:c02::84 *.blogspot.com #blogspot.l.googleusercontent.com\\n', '#2404:6800:4005:800::2011 datawiki.googlelabs.com #appspot.l.google.com\\n', '#2404:6800:4005:800::2011 fastflip.googlelabs.com #appspot.l.google.com\\n', '#2404:6800:4005:800::2011 juliamap.googlelabs.com #appspot.l.google.com\\n', '2404:6800:4008:c02::5f bigcache.googleapis.com #googleapis.l.google.com\\n', '2404:6800:4008:c03::5f youtubei.googleapis.com #googleapis.l.google.com\\n', '#2404:6800:4008:c00::95 ad-apac.doubleclick.net #dart.l.doubleclick.net\\n', '2404:6800:4008:c00::93 ds.ipv6test.google.com #ds.ipv6test.l.google.com\\n', '2404:6800:4008:c03::70 adwords.l.google.com #adwords-china.l.google.com\\n', '2404:6800:4008:c06::66 clients.l.google.com #clients-china.l.google.com\\n', '2404:6800:4008:c03::53 googlemail.l.google.com #mail-china.l.google.com\\n', '2404:6800:4008:c07::8a writely.l.google.com #writely-china.l.google.com\\n', '2404:6800:4008:c06::be android.clients.google.com #android.l.google.com\\n', '2404:6800:4008:c03::84 images1-hangout-opensocial.googleusercontent.com\\n', '2404:6800:4008:c04::84 images2-hangout-opensocial.googleusercontent.com\\n', '2404:6800:4008:c02::84 images3-hangout-opensocial.googleusercontent.com\\n', '2404:6800:4008:c06::84 images4-hangout-opensocial.googleusercontent.com\\n', '2404:6800:4008:c02::84 images5-hangout-opensocial.googleusercontent.com\\n', '2404:6800:4008:c03::84 images6-hangout-opensocial.googleusercontent.com\\n', '2404:6800:4008:c03::84 images7-hangout-opensocial.googleusercontent.com\\n', '2404:6800:4008:c07::84 images8-hangout-opensocial.googleusercontent.com\\n', '2404:6800:4008:c03::84 images9-hangout-opensocial.googleusercontent.com\\n', '2404:6800:4008:c04::75 upload.youtube.com #yt-video-upload.l.google.com\\n', '2a03:2880:f126:84:face:b00c:0:14c9 b-api.facebook.com #z-m.facebook.com\\n', '#2620:101:8008:5::2:6 pastebin.mozilla.org #generic.zlb.phx.mozilla.net\\n', '2a01:4f8:172:39ca:0:dad3:3:1 trac.torproject.org #troodi.torproject.org\\n', '2404:6800:4008:c06::65 upload.clients.google.com #clients.l.google.com\\n', '2404:6800:4008:c04::99 chrometophone.appspot.com #appspot.l.google.com\\n', '2404:6800:4008:c04::99 googcloudlabs.appspot.com #appspot.l.google.com\\n', '2404:6800:4008:c02::63 blogsearch.google.com.hk #blogsearch.google.com\\n', '2404:6800:4008:c07::68 blogsearch.google.com.tw #blogsearch.google.com\\n', '2404:6800:4008:c06::10 pop.googlemail.com #googlemail-pop.l.google.com\\n', '2404:6800:4008:c02::5f android.googleapis.com #googleapis.l.google.com\\n', '2404:6800:4008:c03::5f content.googleapis.com #googleapis.l.google.com\\n', '2404:6800:4005:80b::200a fonts.googleapis.com #googleapis.l.google.com\\n', '2404:6800:4008:c06::5f youtube.googleapis.com #googleapis.l.google.com\\n', '#2404:6800:4008:c00::95 fls.uk.doubleclick.net #dart.l.doubleclick.net\\n', '2404:6800:4008:c05::76 market.android.com #android-market.l.google.com\\n', '2404:6800:4008:c06::84 images-blogger-opensocial.googleusercontent.com\\n', '2404:6800:4008:c07::84 images-onepick-opensocial.googleusercontent.com\\n', '2404:6800:4008:c03::71 insight.youtube.com #video-analytics.google.com\\n', '2a03:2880:f002:109:face:b00c:0:2 login.facebook.com #star.facebook.com\\n', '2a03:2880:f002:109:face:b00c:0:2 zh-cn.facebook.com #star.facebook.com\\n', '2a03:2880:f002:109:face:b00c:0:2 zh-tw.facebook.com #star.facebook.com\\n', '2620:0:6b0:b:1a1a:0:26e5:4810 atlas.torproject.org #www.torproject.org\\n', '2404:6800:4008:c02::99 productideas.appspot.com #appspot.l.google.com\\n', '2404:6800:4008:c02::99 welcome-cros.appspot.com #appspot.l.google.com\\n', '#2404:6800:4005:80b::2003 bks10.books.google.com.hk #books.google.com\\n', '#2404:6800:4005:800::2011 listen.googlelabs.com #appspot.l.google.com\\n', '#2404:6800:4005:800::2011 ngrams.googlelabs.com #appspot.l.google.com\\n', '#2404:6800:4005:800::2011 scribe.googlelabs.com #appspot.l.google.com\\n', '#2404:6800:4005:800::2011 swiffy.googlelabs.com #appspot.l.google.com\\n', '#2404:6800:4005:800::2011 tables.googlelabs.com #appspot.l.google.com\\n', '#2404:6800:4003:c01::55 promote.orkut.com #orkut-promote.l.google.com\\n', '2404:6800:4008:c00::71 talkgadget.google.com #talkgadget.l.google.com\\n', '2404:6800:4008:c00::80 static.panoramio.com #c.storage.googleapis.com\\n', '2404:6800:4008:c07::8a www.oneworldmanystories.com #www3.l.google.com\\n', '2404:6800:4008:c07::64 groups.l.google.com #groups-china.l.google.com\\n', '2404:6800:4008:c07::84 images0-focus-opensocial.googleusercontent.com\\n', '2404:6800:4008:c02::84 images1-focus-opensocial.googleusercontent.com\\n', '2404:6800:4008:c06::84 images2-focus-opensocial.googleusercontent.com\\n', '2404:6800:4008:c07::84 images3-focus-opensocial.googleusercontent.com\\n', '2404:6800:4008:c02::84 images4-focus-opensocial.googleusercontent.com\\n', '2404:6800:4008:c03::84 images5-focus-opensocial.googleusercontent.com\\n', '2404:6800:4008:c07::84 images6-focus-opensocial.googleusercontent.com\\n', '2404:6800:4008:c03::84 images7-focus-opensocial.googleusercontent.com\\n', '2404:6800:4008:c04::84 images8-focus-opensocial.googleusercontent.com\\n', '2404:6800:4008:c07::84 images9-focus-opensocial.googleusercontent.com\\n', '2404:6800:4008:c05::84 images*-focus-opensocial.googleusercontent.com\\n', '2a03:2880:f002:109:face:b00c:0:2 apps.facebook.com #star.facebook.com\\n', '2a03:2880:f002:109:face:b00c:0:2 code.facebook.com #star.facebook.com\\n', '2a03:2880:f002:109:face:b00c:0:2 graph.facebook.com #api.facebook.com\\n', '2a03:2880:f102:83:face:b00c:0:25de www.fb.com #star.c10r.facebook.com\\n', '#2620:101:8020:5::2:132 addons.mozilla.org #addons.dynect.mozilla.net\\n', '#2620:101:8008:5::2:7 nightly.mozilla.org #static.zlb.phx.mozilla.net\\n', '2001:428:4c02:b99::2886 i2.microsoft.com #i.microsoft.com.edgekey.net\\n', '2001:428:4c02:b96::2886 i3.microsoft.com #i.microsoft.com.edgekey.net\\n', '2001:5a0:3a03::3ff3:f308 i4.microsoft.com #i.toggle.www.ms.akadns.net\\n', '2a01:4f8:172:1b46:0:abba:14:1 svn.torproject.org #gayi.torproject.org\\n', '151.101.192.133 avatars0.githubusercontent.com #github.map.fastly.net\\n', '151.101.192.133 avatars1.githubusercontent.com #github.map.fastly.net\\n', '151.101.192.133 avatars2.githubusercontent.com #github.map.fastly.net\\n', '151.101.192.133 avatars3.githubusercontent.com #github.map.fastly.net\\n', '52.208.134.40 eventlogger.soundcloud.com #eventgateway.soundcloud.com\\n', '2404:6800:4008:c03::74 upload.google.com #large-uploads.l.google.com\\n', '2404:6800:4008:c06::5b picasaweb.google.com.hk #picasaweb.google.com\\n', '2404:6800:4008:c00::88 picasaweb.google.com.tw #picasaweb.google.com\\n', '2404:6800:4008:c04::99 feedly-beta.appspot.com #appspot.l.google.com\\n', '2404:6800:4008:c03::99 haiticrisis.appspot.com #appspot.l.google.com\\n', '2404:6800:4008:c07::64 wenda.google.com.hk #wenda-china.l.google.com\\n', '#2404:6800:4005:80b::2003 bks0.books.google.com.hk #books.google.com\\n', '#2404:6800:4005:80b::2003 bks1.books.google.com.hk #books.google.com\\n', '#2404:6800:4005:80b::2003 bks2.books.google.com.hk #books.google.com\\n', '#2404:6800:4005:80b::2003 bks3.books.google.com.hk #books.google.com\\n', '#2404:6800:4005:80b::2003 bks4.books.google.com.hk #books.google.com\\n', '#2404:6800:4005:80b::2003 bks5.books.google.com.hk #books.google.com\\n', '#2404:6800:4005:80b::2003 bks6.books.google.com.hk #books.google.com\\n', '#2404:6800:4005:80b::2003 bks7.books.google.com.hk #books.google.com\\n', '#2404:6800:4005:80b::2003 bks8.books.google.com.hk #books.google.com\\n', '#2404:6800:4005:80b::2003 bks9.books.google.com.hk #books.google.com\\n', '2404:6800:4008:c06::71 productforums.google.com #groups.l.google.com\\n', '2404:6800:4008:c07::8a maps-api-ssl.google.com #clients.l.google.com\\n', '#2404:6800:4003:c01::57 static1.orkut.com #orkut-static.l.google.com\\n', '#2404:6800:4003:c01::56 static2.orkut.com #orkut-static.l.google.com\\n', '#2404:6800:4003:c00::57 static3.orkut.com #orkut-static.l.google.com\\n', '#2404:6800:4003:c00::56 static4.orkut.com #orkut-static.l.google.com\\n', '2404:6800:4008:c02::5f chart.googleapis.com #googleapis.l.google.com\\n', '#2404:6800:4008:c00::95 ad-g.doubleclick.net #dart.l.doubleclick.net\\n', '#2404:6800:4008:c00::95 *.au.doubleclick.net #dart.l.doubleclick.net\\n', '#2404:6800:4008:c00::95 *.de.doubleclick.net #dart.l.doubleclick.net\\n', '#2404:6800:4008:c00::95 *.uk.doubleclick.net #dart.l.doubleclick.net\\n', '#2404:6800:4008:c00::95 *.fr.doubleclick.net #dart.l.doubleclick.net\\n', '#2404:6800:4008:c00::95 *.jp.doubleclick.net #dart.l.doubleclick.net\\n', '2404:6800:4008:c07::8a www.googleinsidesearch.com #www3.l.google.com\\n', '2404:6800:4008:c06::79 www.thegobridgeoglepuzzle.com #ghs.google.com\\n', '2404:6800:4008:c07::64 www.googleinsidesearch.com #www3.l.google.com\\n', '2404:6800:4008:c02::69 buttons.googlesyndication.com #www.google.com\\n', '2607:f8b0:401c:14::10 r11---sn-a5m7znee.c.android.clients.google.com\\n', '2607:f8b0:401c:14::11 r12---sn-a5m7znee.c.android.clients.google.com\\n', '2607:f8b0:401c:14::12 r13---sn-a5m7znee.c.android.clients.google.com\\n', '2607:f8b0:401c:14::13 r14---sn-a5m7znee.c.android.clients.google.com\\n', '2607:f8b0:401c:14::14 r15---sn-a5m7znee.c.android.clients.google.com\\n', '2607:f8b0:401c:14::15 r16---sn-a5m7znee.c.android.clients.google.com\\n', '2607:f8b0:401c:14::16 r17---sn-a5m7znee.c.android.clients.google.com\\n', '2607:f8b0:401c:14::17 r18---sn-a5m7znee.c.android.clients.google.com\\n', '2607:f8b0:401c:14::18 r19---sn-a5m7znee.c.android.clients.google.com\\n', '2607:f8b0:401c:14::19 r20---sn-a5m7znee.c.android.clients.google.com\\n', '#2404:6800:4005:5::10 r11---sn-i3b7sn7d.c.android.clients.google.com\\n', '#2404:6800:4005:5::11 r12---sn-i3b7sn7d.c.android.clients.google.com\\n', '#2404:6800:4005:5::12 r13---sn-i3b7sn7d.c.android.clients.google.com\\n', '#2404:6800:4005:5::13 r14---sn-i3b7sn7d.c.android.clients.google.com\\n', '#2404:6800:4005:5::14 r15---sn-i3b7sn7d.c.android.clients.google.com\\n', '#2404:6800:4005:5::15 r16---sn-i3b7sn7d.c.android.clients.google.com\\n', '#2404:6800:4005:5::16 r17---sn-i3b7sn7d.c.android.clients.google.com\\n', '#2404:6800:4005:5::17 r18---sn-i3b7sn7d.c.android.clients.google.com\\n', '#2404:6800:4005:5::18 r19---sn-i3b7sn7d.c.android.clients.google.com\\n', '#2404:6800:4005:5::19 r20---sn-i3b7sn7d.c.android.clients.google.com\\n', '2404:6800:4001:11::10 r11---sn-30a7en7d.c.android.clients.google.com\\n', '2404:6800:4001:11::11 r12---sn-30a7en7d.c.android.clients.google.com\\n', '2404:6800:4001:11::12 r13---sn-30a7en7d.c.android.clients.google.com\\n', '2404:6800:4001:11::13 r14---sn-30a7en7d.c.android.clients.google.com\\n', '2404:6800:4001:11::14 r15---sn-30a7en7d.c.android.clients.google.com\\n', '2404:6800:4001:11::15 r16---sn-30a7en7d.c.android.clients.google.com\\n', '2404:6800:4001:11::16 r17---sn-30a7en7d.c.android.clients.google.com\\n', '2404:6800:4001:11::17 r18---sn-30a7en7d.c.android.clients.google.com\\n', '2404:6800:4001:11::18 r19---sn-30a7en7d.c.android.clients.google.com\\n', '2404:6800:4001:11::19 r20---sn-30a7en7d.c.android.clients.google.com\\n', '#2404:6800:4003:4::10 r11---sn-npo7ene7.c.android.clients.google.com\\n', '#2404:6800:4003:4::11 r12---sn-npo7ene7.c.android.clients.google.com\\n', '#2404:6800:4003:4::12 r13---sn-npo7ene7.c.android.clients.google.com\\n', '#2404:6800:4003:4::13 r14---sn-npo7ene7.c.android.clients.google.com\\n', '#2404:6800:4003:4::14 r15---sn-npo7ene7.c.android.clients.google.com\\n', '#2404:6800:4003:4::15 r16---sn-npo7ene7.c.android.clients.google.com\\n', '#2404:6800:4003:4::16 r17---sn-npo7ene7.c.android.clients.google.com\\n', '#2404:6800:4003:4::17 r18---sn-npo7ene7.c.android.clients.google.com\\n', '#2404:6800:4003:4::18 r19---sn-npo7ene7.c.android.clients.google.com\\n', '#2404:6800:4003:4::19 r20---sn-npo7ene7.c.android.clients.google.com\\n', '#2404:6800:4003:5::10 r11---sn-npo7enee.c.android.clients.google.com\\n', '#2404:6800:4003:5::11 r12---sn-npo7enee.c.android.clients.google.com\\n', '#2404:6800:4003:5::12 r13---sn-npo7enee.c.android.clients.google.com\\n', '#2404:6800:4003:5::13 r14---sn-npo7enee.c.android.clients.google.com\\n', '#2404:6800:4003:5::14 r15---sn-npo7enee.c.android.clients.google.com\\n', '#2404:6800:4003:5::15 r16---sn-npo7enee.c.android.clients.google.com\\n', '#2404:6800:4003:5::16 r17---sn-npo7enee.c.android.clients.google.com\\n', '#2404:6800:4003:5::17 r18---sn-npo7enee.c.android.clients.google.com\\n', '#2404:6800:4003:5::18 r19---sn-npo7enee.c.android.clients.google.com\\n', '#2404:6800:4003:5::19 r20---sn-npo7enee.c.android.clients.google.com\\n', '#2404:6800:4003:6::18 r19---sn-npo7enel.c.android.clients.google.com\\n', '#2404:6800:4003:6::10 r11---sn-npo7enel.c.android.clients.google.com\\n', '#2404:6800:4003:6::11 r12---sn-npo7enel.c.android.clients.google.com\\n', '#2404:6800:4003:6::12 r13---sn-npo7enel.c.android.clients.google.com\\n', '#2404:6800:4003:6::13 r14---sn-npo7enel.c.android.clients.google.com\\n', '#2404:6800:4003:6::14 r15---sn-npo7enel.c.android.clients.google.com\\n', '#2404:6800:4003:6::15 r16---sn-npo7enel.c.android.clients.google.com\\n', '#2404:6800:4003:6::16 r17---sn-npo7enel.c.android.clients.google.com\\n', '#2404:6800:4003:6::17 r18---sn-npo7enel.c.android.clients.google.com\\n', '#2404:6800:4003:6::18 r19---sn-npo7enel.c.android.clients.google.com\\n', '#2404:6800:4003:6::19 r20---sn-npo7enel.c.android.clients.google.com\\n', '#2404:6800:4003:7::10 r11---sn-npo7enes.c.android.clients.google.com\\n', '#2404:6800:4003:7::11 r12---sn-npo7enes.c.android.clients.google.com\\n', '#2404:6800:4003:7::12 r13---sn-npo7enes.c.android.clients.google.com\\n', '#2404:6800:4003:7::13 r14---sn-npo7enes.c.android.clients.google.com\\n', '#2404:6800:4003:7::14 r15---sn-npo7enes.c.android.clients.google.com\\n', '#2404:6800:4003:7::15 r16---sn-npo7enes.c.android.clients.google.com\\n', '#2404:6800:4003:7::16 r17---sn-npo7enes.c.android.clients.google.com\\n', '#2404:6800:4003:7::17 r18---sn-npo7enes.c.android.clients.google.com\\n', '#2404:6800:4003:7::18 r19---sn-npo7enes.c.android.clients.google.com\\n', '#2404:6800:4003:7::19 r20---sn-npo7enes.c.android.clients.google.com\\n', '2404:6800:4008:c02::84 spreadsheets-opensocial.googleusercontent.com\\n', '2404:6800:4008:c06::84 spreadsheets-opensocial.googleusercontent.com\\n', '2404:6800:4008:c06::66 youtubei.youtube.com #youtube-ui.l.google.com\\n', '#2620:101:8008:5::2:6 hacks.mozilla.org #generic.zlb.phx.mozilla.net\\n', '#2620:101:8008:5::2:7 planet.mozilla.org #static.zlb.phx.mozilla.net\\n', '68.232.46.220 ec-rtmp-media.soundcloud.com #fms.658d.edgecastcdn.net\\n', '#2404:6800:4008:c00::63 desktop.google.com.hk #desktop.l.google.com\\n', '2404:6800:4008:c03::99 codereview.appspot.com #appspot.l.google.com\\n', '2404:6800:4008:c03::99 yt-debates.appspot.com #appspot.l.google.com\\n', '#2404:6800:4005:800::2011 guru.googlelabs.com #appspot.l.google.com\\n', '2404:6800:4008:c03::5b picasaweb.google.com #picasaweb.l.google.com\\n', '2404:6800:4008:c03::5f ajax.googleapis.com #googleapis.l.google.com\\n', '2404:6800:4008:c06::5f maps.googleapis.com #googleapis.l.google.com\\n', '2404:6800:4008:c06::5f play.googleapis.com #googleapis.l.google.com\\n', '2404:6800:4008:c06::5f plus.googleapis.com #googleapis.l.google.com\\n', '2404:6800:4008:c06::5f mts0.googleapis.com #googleapis.l.google.com\\n', '2404:6800:4008:c04::5f mts1.googleapis.com #googleapis.l.google.com\\n', '2404:6800:4008:c06::5f mts2.googleapis.com #googleapis.l.google.com\\n', '2404:6800:4008:c02::5f mts3.googleapis.com #googleapis.l.google.com\\n', '#2404:6800:4008:c00::95 fls.doubleclick.net #dart.l.doubleclick.net\\n', '#2404:6800:4008:c00::79 www.emailintervention.com #ghs.l.google.com\\n', '2404:6800:4008:c07::65 tools.l.google.com #tools-china.l.google.com\\n', '2404:6800:4008:c07::8a video.l.google.com #video-china.l.google.com\\n', '2607:f8b0:401c:14::f r10---sn-a5m7znee.c.android.clients.google.com\\n', '2607:f8b0:4007:6::10 r11---sn-a5m7zne7.c.android.clients.google.com\\n', '2607:f8b0:4007:6::11 r12---sn-a5m7zne7.c.android.clients.google.com\\n', '2607:f8b0:4007:6::12 r13---sn-a5m7zne7.c.android.clients.google.com\\n', '2607:f8b0:4007:6::13 r14---sn-a5m7zne7.c.android.clients.google.com\\n', '2607:f8b0:4007:6::14 r15---sn-a5m7zne7.c.android.clients.google.com\\n', '2607:f8b0:4007:6::15 r16---sn-a5m7zne7.c.android.clients.google.com\\n', '2607:f8b0:4007:6::16 r17---sn-a5m7zne7.c.android.clients.google.com\\n', '2607:f8b0:4007:6::17 r18---sn-a5m7zne7.c.android.clients.google.com\\n', '2607:f8b0:4007:6::18 r19---sn-a5m7zne7.c.android.clients.google.com\\n', '2607:f8b0:4007:6::19 r20---sn-a5m7zne7.c.android.clients.google.com\\n', '#2404:6800:4005:5::f r10---sn-i3b7sn7d.c.android.clients.google.com\\n', '2404:6800:4001:11::f r10---sn-30a7en7d.c.android.clients.google.com\\n', '#2404:6800:4003:4::f r10---sn-npo7ene7.c.android.clients.google.com\\n', '#2404:6800:4003:5::f r10---sn-npo7enee.c.android.clients.google.com\\n', '#2404:6800:4003:7::f r10---sn-npo7enes.c.android.clients.google.com\\n', '2404:6800:4008:c04::84 www-blogger-opensocial.googleusercontent.com\\n', '2404:6800:4008:c02::84 images-docs-opensocial.googleusercontent.com\\n', '2404:6800:4008:c07::84 images-docs-opensocial.googleusercontent.com\\n', '2404:6800:4008:c05::84 www-opensocial-sandbox.googleusercontent.com\\n', '2404:6800:4008:c06::84 www-onepick-opensocial.googleusercontent.com\\n', '#2620:101:8008:5::2:6 blog.mozilla.org #generic.zlb.phx.mozilla.net\\n', '#2620:101:8008:5::2:3 support.mozilla.org #sumo.zlb.phx.mozilla.net\\n', '#2620:101:8008:5::2:6 wiki.mozilla.org #generic.zlb.phx.mozilla.net\\n', '2a02:26f0:2d:19c::747 www.microsoft.com #e10088.dscb.akamaiedge.net\\n', '2a01:4f8:172:1b46:0:abba:5:1 deb.torproject.org #www.torproject.org\\n', '2a01:e0d:1:3:58bf:fa02:c0de:5 www.videolan.org #ganesh.videolan.org\\n', '2001:7b8:3:37::21:3 ipv6.torrent.ubuntu.com #ubuntuv6tracker.bit.nl\\n', '2404:6800:4008:c06::99 betaspike.appspot.com #appspot.l.google.com\\n', '2404:6800:4008:c03::99 gv-gadget.appspot.com #appspot.l.google.com\\n', '2404:6800:4008:c03::99 moderator.appspot.com #appspot.l.google.com\\n', '2404:6800:4008:c06::99 santa-api.appspot.com #appspot.l.google.com\\n', '2404:6800:4008:c05::64 bp0.blogger.com #bloggerphotos.l.google.com\\n', '2404:6800:4008:c00::64 bp1.blogger.com #bloggerphotos.l.google.com\\n', '2404:6800:4008:c03::8b bp2.blogger.com #bloggerphotos.l.google.com\\n', '2404:6800:4008:c03::64 bp3.blogger.com #bloggerphotos.l.google.com\\n', '#2404:6800:4005:80b::2003 bks10.books.google.com #books.google.com\\n', '#2404:6800:4008:c00::73 checkout.google.com #checkout.l.google.com\\n', '#2404:6800:4005:805::2004 desktop.google.com #desktop.l.google.com\\n', '2404:6800:4008:c07::8b storage.cloud.google.com #www3.l.google.com\\n', '2404:6800:4008:c02::64 spreadsheets0.google.com #www3.l.google.com\\n', '2404:6800:4008:c07::65 spreadsheets1.google.com #www3.l.google.com\\n', '2404:6800:4008:c07::8b spreadsheets2.google.com #www3.l.google.com\\n', '2404:6800:4008:c04::8b spreadsheets3.google.com #www3.l.google.com\\n', '2404:6800:4008:c03::65 spreadsheets4.google.com #www3.l.google.com\\n', '2404:6800:4008:c03::66 spreadsheets5.google.com #www3.l.google.com\\n', '2404:6800:4008:c00::64 spreadsheets6.google.com #www3.l.google.com\\n', '2404:6800:4008:c00::71 spreadsheets7.google.com #www3.l.google.com\\n', '2404:6800:4008:c05::64 spreadsheets8.google.com #www3.l.google.com\\n', '2404:6800:4008:c07::8a spreadsheets9.google.com #www3.l.google.com\\n', '2404:6800:4008:c02::6c smtp.gmail.com #gmail-smtp-msa.l.google.com\\n', '2404:6800:4008:c03::64 groups-beta.google.com #groups.l.google.com\\n', '#2404:6800:4005:800::2011 www.googlelabs.com #appspot.l.google.com\\n', '2404:6800:4008:c02::5e maps.google.com.hk #maps-cctld.l.google.com\\n', '2404:6800:4008:c04::5e maps.google.com.tw #maps-cctld.l.google.com\\n', '2404:6800:4008:c04::5e news.google.com.hk #news-cctld.l.google.com\\n', '2404:6800:4008:c04::5e news.google.com.tw #news-cctld.l.google.com\\n', '2404:6800:4008:c05::bc mtalk.google.com #mobile-gtalk.l.google.com\\n', '2404:6800:4008:c05::64 chart.apis.google.com #clients.l.google.com\\n', '2404:6800:4008:c03::5f www.googleapis.com #googleapis.l.google.com\\n', '#2404:6800:4008:c00::94 ad.doubleclick.net #dart.l.doubleclick.net\\n', '2404:6800:4008:c04::71 www.googleartproject.com #www3.l.google.com\\n', '#2404:6800:4008:c00::63 ipv6test.google.com #ipv6test.l.google.com\\n', '2404:6800:4008:c06::71 www.teachparentstech.org #www3.l.google.com\\n', '2404:6800:4005:80b::200e v10.lscache1.c.android.clients.google.com\\n', '2401:3800:4001:806::1006 v10.lscache2.c.android.clients.google.com\\n', '2404:6800:4005:800::200e v10.lscache3.c.android.clients.google.com\\n', '2401:3800:4001:806::1005 v10.lscache4.c.android.clients.google.com\\n', '2404:6800:4005:805::200e v10.lscache5.c.android.clients.google.com\\n', '2401:3800:4001:806::1008 v10.lscache7.c.android.clients.google.com\\n', '2401:3800:4001:806::100e v10.lscache8.c.android.clients.google.com\\n', '2404:6800:4005:806::200e v11.lscache1.c.android.clients.google.com\\n', '2404:6800:4005:804::200e v11.lscache2.c.android.clients.google.com\\n', '2401:3800:4001:806::1000 v11.lscache3.c.android.clients.google.com\\n', '2401:3800:4001:807::1003 v11.lscache4.c.android.clients.google.com\\n', '2401:3800:4001:807::1001 v11.lscache6.c.android.clients.google.com\\n', '2404:6800:4005:800::200e v12.lscache1.c.android.clients.google.com\\n', '2401:3800:4001:806::1001 v12.lscache2.c.android.clients.google.com\\n', '2404:6800:4005:809::200e v12.lscache3.c.android.clients.google.com\\n', '2401:3800:4001:807::1005 v12.lscache4.c.android.clients.google.com\\n', '2404:6800:4005:806::200e v12.lscache5.c.android.clients.google.com\\n', '2404:6800:4005:808::200e v12.lscache7.c.android.clients.google.com\\n', '2404:6800:4005:808::200e v13.lscache3.c.android.clients.google.com\\n', '2401:3800:4001:806::1008 v13.lscache4.c.android.clients.google.com\\n', '2401:3800:4001:807::1002 v13.lscache5.c.android.clients.google.com\\n', '2401:3800:4001:806::1007 v13.lscache6.c.android.clients.google.com\\n', '2401:3800:4001:806::100e v13.lscache7.c.android.clients.google.com\\n', '2404:6800:4005:801::200e v13.lscache8.c.android.clients.google.com\\n', '2404:6800:4005:806::200e v14.lscache1.c.android.clients.google.com\\n', '2401:3800:4001:807::1005 v14.lscache2.c.android.clients.google.com\\n', '2401:3800:4001:806::1005 v14.lscache3.c.android.clients.google.com\\n', '2404:6800:4005:808::200e v14.lscache5.c.android.clients.google.com\\n', '2404:6800:4005:800::200e v14.lscache6.c.android.clients.google.com\\n', '2404:6800:4005:805::200e v14.lscache8.c.android.clients.google.com\\n', '2401:3800:4001:806::1000 v15.lscache1.c.android.clients.google.com\\n', '2404:6800:4005:808::200e v15.lscache2.c.android.clients.google.com\\n', '2401:3800:4001:806::100e v15.lscache3.c.android.clients.google.com\\n', '2404:6800:4005:808::200e v15.lscache5.c.android.clients.google.com\\n', '2404:6800:4005:800::200e v15.lscache6.c.android.clients.google.com\\n', '2401:3800:4001:806::1008 v15.lscache7.c.android.clients.google.com\\n', '2404:6800:4005:80b::200e v15.lscache8.c.android.clients.google.com\\n', '2401:3800:4001:806::1000 v16.lscache1.c.android.clients.google.com\\n', '2404:6800:4005:809::200e v16.lscache2.c.android.clients.google.com\\n', '2401:3800:4001:807::1007 v16.lscache4.c.android.clients.google.com\\n', '2404:6800:4005:802::200e v16.lscache5.c.android.clients.google.com\\n', '2404:6800:4005:806::200e v16.lscache6.c.android.clients.google.com\\n', '2404:6800:4005:806::200e v16.lscache7.c.android.clients.google.com\\n', '2404:6800:4005:80a::200e v16.lscache8.c.android.clients.google.com\\n', '2404:6800:4005:807::200e v17.lscache1.c.android.clients.google.com\\n', '2401:3800:4001:806::1007 v17.lscache2.c.android.clients.google.com\\n', '2401:3800:4001:806::1007 v17.lscache3.c.android.clients.google.com\\n', '2401:3800:4001:807::1001 v17.lscache4.c.android.clients.google.com\\n', '2401:3800:4001:806::1004 v17.lscache5.c.android.clients.google.com\\n', '2401:3800:4001:806::1001 v17.lscache6.c.android.clients.google.com\\n', '2401:3800:4001:806::1008 v17.lscache7.c.android.clients.google.com\\n', '2404:6800:4005:808::200e v17.lscache8.c.android.clients.google.com\\n', '2401:3800:4001:807::1003 v18.lscache1.c.android.clients.google.com\\n', '2401:3800:4001:807::1008 v18.lscache6.c.android.clients.google.com\\n', '2404:6800:4005:808::200e v18.lscache8.c.android.clients.google.com\\n', '2404:6800:4005:800::200e v19.lscache1.c.android.clients.google.com\\n', '2401:3800:4001:806::1002 v19.lscache2.c.android.clients.google.com\\n', '2401:3800:4001:807::1008 v19.lscache3.c.android.clients.google.com\\n', '2404:6800:4005:807::200e v19.lscache4.c.android.clients.google.com\\n', '2404:6800:4005:802::200e v19.lscache5.c.android.clients.google.com\\n', '2401:3800:4001:806::1003 v19.lscache6.c.android.clients.google.com\\n', '2401:3800:4001:807::1007 v19.lscache7.c.android.clients.google.com\\n', '2401:3800:4001:807::1008 v19.lscache8.c.android.clients.google.com\\n', '2401:3800:4001:806::1005 v20.lscache2.c.android.clients.google.com\\n', '2401:3800:4001:806::1003 v20.lscache4.c.android.clients.google.com\\n', '2401:3800:4001:806::1002 v20.lscache7.c.android.clients.google.com\\n', '2401:3800:4001:806::1005 v20.lscache8.c.android.clients.google.com\\n', '2401:3800:4001:807::1003 v21.lscache1.c.android.clients.google.com\\n', '2401:3800:4002:805::1002 v21.lscache3.c.android.clients.google.com\\n', '2401:3800:4001:806::1002 v21.lscache4.c.android.clients.google.com\\n', '2404:6800:4005:806::200e v21.lscache5.c.android.clients.google.com\\n', '2401:3800:4001:806::1007 v21.lscache6.c.android.clients.google.com\\n', '2401:3800:4001:807::1001 v21.lscache8.c.android.clients.google.com\\n', '2404:6800:4005:808::200e v22.lscache1.c.android.clients.google.com\\n', '2401:3800:4001:807::100e v22.lscache2.c.android.clients.google.com\\n', '2404:6800:4005:804::200e v22.lscache3.c.android.clients.google.com\\n', '2401:3800:4001:806::1003 v22.lscache5.c.android.clients.google.com\\n', '2401:3800:4001:806::1008 v22.lscache7.c.android.clients.google.com\\n', '2401:3800:4001:806::1005 v23.lscache2.c.android.clients.google.com\\n', '2401:3800:4001:807::1001 v23.lscache3.c.android.clients.google.com\\n', '2404:6800:4005:802::200e v23.lscache4.c.android.clients.google.com\\n', '2404:6800:4005:805::200e v23.lscache8.c.android.clients.google.com\\n', '2401:3800:4001:807::1002 v24.lscache1.c.android.clients.google.com\\n', '2401:3800:4001:806::1005 v24.lscache2.c.android.clients.google.com\\n', '2404:6800:4005:80b::200e v24.lscache3.c.android.clients.google.com\\n', '2404:6800:4005:80a::200e v24.lscache4.c.android.clients.google.com\\n', '2404:6800:4005:808::200e v24.lscache6.c.android.clients.google.com\\n', '2401:3800:4001:807::1000 v24.lscache8.c.android.clients.google.com\\n', '2607:f8b0:401c:14::6 r1---sn-a5m7znee.c.android.clients.google.com\\n', '2607:f8b0:401c:14::7 r2---sn-a5m7znee.c.android.clients.google.com\\n', '2607:f8b0:401c:14::8 r3---sn-a5m7znee.c.android.clients.google.com\\n', '2607:f8b0:401c:14::9 r4---sn-a5m7znee.c.android.clients.google.com\\n', '2607:f8b0:401c:14::a r5---sn-a5m7znee.c.android.clients.google.com\\n', '2607:f8b0:401c:14::b r6---sn-a5m7znee.c.android.clients.google.com\\n', '2607:f8b0:401c:14::c r7---sn-a5m7znee.c.android.clients.google.com\\n', '2607:f8b0:401c:14::d r8---sn-a5m7znee.c.android.clients.google.com\\n', '2607:f8b0:401c:14::e r9---sn-a5m7znee.c.android.clients.google.com\\n', '2607:f8b0:4007:6::f r10---sn-a5m7zne7.c.android.clients.google.com\\n', '#2404:6800:4005:5::6 r1---sn-i3b7sn7d.c.android.clients.google.com\\n', '#2404:6800:4005:5::7 r2---sn-i3b7sn7d.c.android.clients.google.com\\n', '#2404:6800:4005:5::8 r3---sn-i3b7sn7d.c.android.clients.google.com\\n', '#2404:6800:4005:5::9 r4---sn-i3b7sn7d.c.android.clients.google.com\\n', '#2404:6800:4005:5::a r5---sn-i3b7sn7d.c.android.clients.google.com\\n', '#2404:6800:4005:5::b r6---sn-i3b7sn7d.c.android.clients.google.com\\n', '#2404:6800:4005:5::c r7---sn-i3b7sn7d.c.android.clients.google.com\\n', '#2404:6800:4005:5::d r8---sn-i3b7sn7d.c.android.clients.google.com\\n', '#2404:6800:4005:5::e r9---sn-i3b7sn7d.c.android.clients.google.com\\n', '2404:6800:4001:11::6 r1---sn-30a7en7d.c.android.clients.google.com\\n', '2404:6800:4001:11::7 r2---sn-30a7en7d.c.android.clients.google.com\\n', '2404:6800:4001:11::8 r3---sn-30a7en7d.c.android.clients.google.com\\n', '2404:6800:4001:11::9 r4---sn-30a7en7d.c.android.clients.google.com\\n', '2404:6800:4001:11::a r5---sn-30a7en7d.c.android.clients.google.com\\n', '2404:6800:4001:11::b r6---sn-30a7en7d.c.android.clients.google.com\\n', '2404:6800:4001:11::c r7---sn-30a7en7d.c.android.clients.google.com\\n', '2404:6800:4001:11::d r8---sn-30a7en7d.c.android.clients.google.com\\n', '2404:6800:4001:11::e r9---sn-30a7en7d.c.android.clients.google.com\\n', '#2404:6800:4003:4::6 r1---sn-npo7ene7.c.android.clients.google.com\\n', '#2404:6800:4003:4::7 r2---sn-npo7ene7.c.android.clients.google.com\\n', '#2404:6800:4003:4::8 r3---sn-npo7ene7.c.android.clients.google.com\\n', '#2404:6800:4003:4::9 r4---sn-npo7ene7.c.android.clients.google.com\\n', '#2404:6800:4003:4::a r5---sn-npo7ene7.c.android.clients.google.com\\n', '#2404:6800:4003:4::b r6---sn-npo7ene7.c.android.clients.google.com\\n', '#2404:6800:4003:4::c r7---sn-npo7ene7.c.android.clients.google.com\\n', '#2404:6800:4003:4::d r8---sn-npo7ene7.c.android.clients.google.com\\n', '#2404:6800:4003:4::e r9---sn-npo7ene7.c.android.clients.google.com\\n', '#2404:6800:4003:5::6 r1---sn-npo7enee.c.android.clients.google.com\\n', '#2404:6800:4003:5::7 r2---sn-npo7enee.c.android.clients.google.com\\n', '#2404:6800:4003:5::8 r3---sn-npo7enee.c.android.clients.google.com\\n', '#2404:6800:4003:5::9 r4---sn-npo7enee.c.android.clients.google.com\\n', '#2404:6800:4003:5::a r5---sn-npo7enee.c.android.clients.google.com\\n', '#2404:6800:4003:5::b r6---sn-npo7enee.c.android.clients.google.com\\n', '#2404:6800:4003:5::c r7---sn-npo7enee.c.android.clients.google.com\\n', '#2404:6800:4003:5::d r8---sn-npo7enee.c.android.clients.google.com\\n', '#2404:6800:4003:5::e r9---sn-npo7enee.c.android.clients.google.com\\n', '#2404:6800:4003:6::6 r1---sn-npo7enel.c.android.clients.google.com\\n', '#2404:6800:4003:6::7 r2---sn-npo7enel.c.android.clients.google.com\\n', '#2404:6800:4003:6::8 r3---sn-npo7enel.c.android.clients.google.com\\n', '#2404:6800:4003:6::9 r4---sn-npo7enel.c.android.clients.google.com\\n', '#2404:6800:4003:6::a r5---sn-npo7enel.c.android.clients.google.com\\n', '#2404:6800:4003:6::b r6---sn-npo7enel.c.android.clients.google.com\\n', '#2404:6800:4003:6::c r7---sn-npo7enel.c.android.clients.google.com\\n', '#2404:6800:4003:6::d r8---sn-npo7enel.c.android.clients.google.com\\n', '#2404:6800:4003:6::e r9---sn-npo7enel.c.android.clients.google.com\\n', '#2404:6800:4003:7::6 r1---sn-npo7enes.c.android.clients.google.com\\n', '#2404:6800:4003:7::7 r2---sn-npo7enes.c.android.clients.google.com\\n', '#2404:6800:4003:7::8 r3---sn-npo7enes.c.android.clients.google.com\\n', '#2404:6800:4003:7::9 r4---sn-npo7enes.c.android.clients.google.com\\n', '#2404:6800:4003:7::a r5---sn-npo7enes.c.android.clients.google.com\\n', '#2404:6800:4003:7::b r6---sn-npo7enes.c.android.clients.google.com\\n', '#2404:6800:4003:7::c r7---sn-npo7enes.c.android.clients.google.com\\n', '#2404:6800:4003:7::d r8---sn-npo7enes.c.android.clients.google.com\\n', '#2404:6800:4003:7::e r9---sn-npo7enes.c.android.clients.google.com\\n', '2404:6800:4008:c07::84 doc-00-2g-3dwarehouse.googleusercontent.com\\n', '2404:6800:4008:c06::84 doc-04-2g-3dwarehouse.googleusercontent.com\\n', '2404:6800:4008:c02::84 doc-08-2g-3dwarehouse.googleusercontent.com\\n', '2404:6800:4008:c06::84 doc-0c-2g-3dwarehouse.googleusercontent.com\\n', '2404:6800:4008:c00::84 doc-0g-2g-3dwarehouse.googleusercontent.com\\n', '2404:6800:4008:c03::84 doc-0k-2g-3dwarehouse.googleusercontent.com\\n', '2404:6800:4008:c06::84 doc-0o-2g-3dwarehouse.googleusercontent.com\\n', '2404:6800:4008:c03::84 doc-0s-2g-3dwarehouse.googleusercontent.com\\n', '2404:6800:4008:c02::84 doc-10-2g-3dwarehouse.googleusercontent.com\\n', '2404:6800:4008:c00::84 doc-14-2g-3dwarehouse.googleusercontent.com\\n', '2404:6800:4008:c04::84 images-lso-opensocial.googleusercontent.com\\n', '2404:6800:4008:c04::84 images-pos-opensocial.googleusercontent.com\\n', '2404:6800:4008:c00::84 images-lso-opensocial.googleusercontent.com\\n', '2404:6800:4008:c04::84 images-pos-opensocial.googleusercontent.com\\n', '2404:6800:4008:c03::64 gaming.youtube.com #youtube-ui.l.google.com\\n', '2a03:2880:f222:c4:face:b00c:0:43fe scontent-a-sjc.cdninstagram.com\\n', '2a03:2880:f222:c4:face:b00c:0:43fe scontent-b-sjc.cdninstagram.com\\n', '2a03:2880:f20b:c4:face:b00c:0:43fe scontent-a-ord.cdninstagram.com\\n', '2a03:2880:f20b:c4:face:b00c:0:43fe scontent-b-ord.cdninstagram.com\\n', '2a03:2880:f20d:c4:face:b00c:0:43fe scontent-a-lax.cdninstagram.com\\n', '2a03:2880:f20d:c4:face:b00c:0:43fe scontent-b-lax.cdninstagram.com\\n', '2a02:26f0:2d:193::1aca www.apple.com #www.isg-apple.com.akadns.net\\n', '#2620:101:8008:5::2:6 air.mozilla.org #generic.zlb.phx.mozilla.net\\n', '151.101.192.133 cloud.githubusercontent.com #github.map.fastly.net\\n', '#2606:2800:248:1347:709:24f:182c:618 si0.twimg.com #ipv6.twimg.com\\n', '#2606:2800:248:1347:709:24f:182c:618 si1.twimg.com #ipv6.twimg.com\\n', '#2606:2800:248:1347:709:24f:182c:618 si2.twimg.com #ipv6.twimg.com\\n', '#2606:2800:248:1347:709:24f:182c:618 si3.twimg.com #ipv6.twimg.com\\n', '#2606:2800:248:1347:709:24f:182c:618 si4.twimg.com #ipv6.twimg.com\\n', '#2606:2800:248:1347:709:24f:182c:618 si5.twimg.com #ipv6.twimg.com\\n', '174.129.2.23 cdn-www.xda-developers.com #cs261.wac.edgecastcdn.net\\n', '2404:6800:4008:c00::54 accounts.google.com #accounts.l.google.com\\n', '2404:6800:4008:c02::71 santatracker.google.com #www3.l.google.com\\n', '2404:6800:4008:c02::99 i18napis.appspot.com #appspot.l.google.com\\n', '#2404:6800:4005:80b::2003 bks0.books.google.com #books.google.com\\n', '#2404:6800:4005:80b::2003 bks1.books.google.com #books.google.com\\n', '#2404:6800:4005:80b::2003 bks2.books.google.com #books.google.com\\n', '#2404:6800:4005:80b::2003 bks3.books.google.com #books.google.com\\n', '#2404:6800:4005:80b::2003 bks4.books.google.com #books.google.com\\n', '#2404:6800:4005:80b::2003 bks5.books.google.com #books.google.com\\n', '#2404:6800:4005:80b::2003 bks6.books.google.com #books.google.com\\n', '#2404:6800:4005:80b::2003 bks7.books.google.com #books.google.com\\n', '#2404:6800:4005:80b::2003 bks8.books.google.com #books.google.com\\n', '#2404:6800:4005:80b::2003 bks9.books.google.com #books.google.com\\n', '2404:6800:4008:c07::8d developer.chrome.com #appspot.l.google.com\\n', '#2404:6800:4008:c00::79 codereview.chromium.org #ghs.l.google.com\\n', '#2404:6800:4003:c01::57 img1.orkut.com #orkut-images.l.google.com\\n', '#2404:6800:4003:c02::55 img2.orkut.com #orkut-images.l.google.com\\n', '#2404:6800:4003:c00::57 img3.orkut.com #orkut-images.l.google.com\\n', '#2404:6800:4003:c00::56 img4.orkut.com #orkut-images.l.google.com\\n', '#2404:6800:4003:c02::57 img5.orkut.com #orkut-images.l.google.com\\n', '#2404:6800:4003:c00::56 img6.orkut.com #orkut-images.l.google.com\\n', '#2404:6800:4003:c02::56 img7.orkut.com #orkut-images.l.google.com\\n', '#2404:6800:4003:c00::56 img8.orkut.com #orkut-images.l.google.com\\n', '#2404:6800:4003:c00::57 img9.orkut.com #orkut-images.l.google.com\\n', '2404:6800:4008:c06::65 sites.google.com #sites-china.l.google.com\\n', '2404:6800:4008:c02::5f ct.googleapis.com #googleapis.l.google.com\\n', '#2404:6800:4005:800::2011 www.panoramio.com #appspot.l.google.com\\n', '2404:6800:4008:c03::68 api-secure.recaptcha.net #www.l.google.com\\n', '2404:6800:4008:c03::71 www.data-vocabulary.org #www3.l.google.com\\n', '2404:6800:4008:c03::8b www3.l.google.com #www3-china.l.google.com\\n', '2404:6800:4008:c04::66 khms.l.google.com #khms-china.l.google.com\\n', '2404:6800:4008:c02::66 maps.l.google.com #maps-china.l.google.com\\n', '2404:6800:4008:c03::66 plus.l.google.com #plus-china.l.google.com\\n', '2607:f8b0:4003:c03::7d talkx.l.google.com #alt1.talk.l.google.com\\n', '2404:6800:4005:805::200e v1.lscache6.c.android.clients.google.com\\n', '2404:6800:4005:809::200e v1.lscache7.c.android.clients.google.com\\n', '2401:3800:4001:806::1005 v1.lscache8.c.android.clients.google.com\\n', '2401:3800:4001:806::1005 v2.lscache2.c.android.clients.google.com\\n', '2401:3800:4001:807::1008 v2.lscache4.c.android.clients.google.com\\n', '2401:3800:4001:806::1004 v2.lscache5.c.android.clients.google.com\\n', '2401:3800:4001:807::1004 v2.lscache7.c.android.clients.google.com\\n', '2401:3800:4001:807::1008 v2.lscache8.c.android.clients.google.com\\n', '2401:3800:4001:807::1000 v3.lscache1.c.android.clients.google.com\\n', '2401:3800:4001:807::1006 v3.lscache3.c.android.clients.google.com\\n', '2401:3800:4001:807::1001 v3.lscache8.c.android.clients.google.com\\n', '2401:3800:4001:806::1003 v4.lscache1.c.android.clients.google.com\\n', '2401:3800:4001:806::1007 v4.lscache5.c.android.clients.google.com\\n', '2401:3800:4001:807::100e v4.lscache6.c.android.clients.google.com\\n', '2401:3800:4001:807::1003 v5.lscache1.c.android.clients.google.com\\n', '2401:3800:4001:806::1005 v5.lscache2.c.android.clients.google.com\\n', '2404:6800:4005:801::200e v5.lscache5.c.android.clients.google.com\\n', '2401:3800:4001:807::1002 v5.lscache6.c.android.clients.google.com\\n', '2401:3800:4001:807::1003 v5.lscache7.c.android.clients.google.com\\n', '2401:3800:4001:806::1005 v5.lscache8.c.android.clients.google.com\\n', '2401:3800:4001:807::1007 v6.lscache1.c.android.clients.google.com\\n', '2404:6800:4005:800::200e v6.lscache2.c.android.clients.google.com\\n', '2401:3800:4001:807::1006 v6.lscache3.c.android.clients.google.com\\n', '2404:6800:4005:809::200e v6.lscache6.c.android.clients.google.com\\n', '2404:6800:4005:807::200e v6.lscache7.c.android.clients.google.com\\n', '2404:6800:4005:800::200e v6.lscache8.c.android.clients.google.com\\n', '2401:3800:4001:807::1008 v7.lscache2.c.android.clients.google.com\\n', '2401:3800:4001:806::1007 v7.lscache3.c.android.clients.google.com\\n', '2401:3800:4001:806::1006 v7.lscache4.c.android.clients.google.com\\n', '2401:3800:4001:806::1004 v7.lscache5.c.android.clients.google.com\\n', '2401:3800:4001:806::1001 v7.lscache6.c.android.clients.google.com\\n', '2401:3800:4001:806::1002 v7.lscache7.c.android.clients.google.com\\n', '2401:3800:4001:807::1001 v7.lscache8.c.android.clients.google.com\\n', '2401:3800:4001:806::1004 v8.lscache1.c.android.clients.google.com\\n', '2401:3800:4001:806::1003 v8.lscache2.c.android.clients.google.com\\n', '2401:3800:4001:806::1009 v8.lscache3.c.android.clients.google.com\\n', '2404:6800:4005:806::200e v8.lscache5.c.android.clients.google.com\\n', '2401:3800:4001:807::1006 v9.lscache1.c.android.clients.google.com\\n', '2401:3800:4001:806::1007 v9.lscache2.c.android.clients.google.com\\n', '2404:6800:4005:806::200e v9.lscache3.c.android.clients.google.com\\n', '2404:6800:4005:807::200e v9.lscache8.c.android.clients.google.com\\n', '2401:3800:4001:11::1000 v10.lscache6.c.android.clients.google.com\\n', '2401:3800:4001:10::1005 v11.lscache5.c.android.clients.google.com\\n', '2401:3800:4001:11::1008 v11.lscache7.c.android.clients.google.com\\n', '2401:3800:4001:11::1004 v11.lscache8.c.android.clients.google.com\\n', '2401:3800:4001:10::1005 v12.lscache6.c.android.clients.google.com\\n', '2401:3800:4001:10::1004 v12.lscache8.c.android.clients.google.com\\n', '2401:3800:4001:10::1008 v13.lscache1.c.android.clients.google.com\\n', '2401:3800:4001:10::1005 v13.lscache2.c.android.clients.google.com\\n', '2401:3800:4001:11::1005 v14.lscache4.c.android.clients.google.com\\n', '2401:3800:4001:10::1008 v14.lscache7.c.android.clients.google.com\\n']\n"
     ]
    }
   ],
   "source": [
    "print(longest_lines)"
   ]
  },
  {
   "cell_type": "code",
   "execution_count": 56,
   "metadata": {},
   "outputs": [],
   "source": [
    "f = open(filename, 'r', encoding='utf-8')\n",
    "longest_lines = sorted(f, key=len)[1000:]\n",
    "f.close()"
   ]
  },
  {
   "cell_type": "code",
   "execution_count": 57,
   "metadata": {},
   "outputs": [
    {
     "data": {
      "text/plain": [
       "['2620:0:863:ed1a::1 bar.wikipedia.org\\n',\n",
       " '2620:0:863:ed1a::1 bcl.wikipedia.org\\n',\n",
       " '2620:0:863:ed1a::1 bpy.wikipedia.org\\n',\n",
       " '2620:0:863:ed1a::1 bug.wikipedia.org\\n',\n",
       " '2620:0:863:ed1a::1 bxr.wikipedia.org\\n',\n",
       " '2620:0:863:ed1a::1 cdo.wikipedia.org\\n',\n",
       " '2620:0:863:ed1a::1 ceb.wikipedia.org\\n',\n",
       " '2620:0:863:ed1a::1 chr.wikipedia.org\\n',\n",
       " '2620:0:863:ed1a::1 chy.wikipedia.org\\n',\n",
       " '2620:0:863:ed1a::1 ckb.wikipedia.org\\n',\n",
       " '2620:0:863:ed1a::1 crh.wikipedia.org\\n',\n",
       " '2620:0:863:ed1a::1 csb.wikipedia.org\\n',\n",
       " '2620:0:863:ed1a::1 diq.wikipedia.org\\n',\n",
       " '2620:0:863:ed1a::1 dsb.wikipedia.org\\n',\n",
       " '2620:0:863:ed1a::1 eml.wikipedia.org\\n',\n",
       " '2620:0:863:ed1a::1 ext.wikipedia.org\\n',\n",
       " '2620:0:863:ed1a::1 frp.wikipedia.org\\n',\n",
       " '2620:0:863:ed1a::1 fur.wikipedia.org\\n',\n",
       " '2620:0:863:ed1a::1 gan.wikipedia.org\\n',\n",
       " '2620:0:863:ed1a::1 glk.wikipedia.org\\n',\n",
       " '2620:0:863:ed1a::1 got.wikipedia.org\\n',\n",
       " '2620:0:863:ed1a::1 hak.wikipedia.org\\n',\n",
       " '2620:0:863:ed1a::1 haw.wikipedia.org\\n',\n",
       " '2620:0:863:ed1a::1 hif.wikipedia.org\\n',\n",
       " '2620:0:863:ed1a::1 hsb.wikipedia.org\\n',\n",
       " '2620:0:863:ed1a::1 ilo.wikipedia.org\\n',\n",
       " '2620:0:863:ed1a::1 jbo.wikipedia.org\\n',\n",
       " '2620:0:863:ed1a::1 kaa.wikipedia.org\\n',\n",
       " '2620:0:863:ed1a::1 kab.wikipedia.org\\n',\n",
       " '2620:0:863:ed1a::1 krc.wikipedia.org\\n',\n",
       " '2620:0:863:ed1a::1 ksh.wikipedia.org\\n',\n",
       " '2620:0:863:ed1a::1 lad.wikipedia.org\\n',\n",
       " '2620:0:863:ed1a::1 lbe.wikipedia.org\\n',\n",
       " '2620:0:863:ed1a::1 lij.wikipedia.org\\n',\n",
       " '2620:0:863:ed1a::1 lmo.wikipedia.org\\n',\n",
       " '2620:0:863:ed1a::1 mdf.wikipedia.org\\n',\n",
       " '2620:0:863:ed1a::1 mhr.wikipedia.org\\n',\n",
       " '2620:0:863:ed1a::1 mwl.wikipedia.org\\n',\n",
       " '2620:0:863:ed1a::1 myv.wikipedia.org\\n',\n",
       " '2620:0:863:ed1a::1 mzn.wikipedia.org\\n',\n",
       " '2620:0:863:ed1a::1 nah.wikipedia.org\\n',\n",
       " '2620:0:863:ed1a::1 nap.wikipedia.org\\n',\n",
       " '2620:0:863:ed1a::1 nds.wikipedia.org\\n',\n",
       " '2620:0:863:ed1a::1 new.wikipedia.org\\n',\n",
       " '2620:0:863:ed1a::1 nov.wikipedia.org\\n',\n",
       " '2620:0:863:ed1a::1 nrm.wikipedia.org\\n',\n",
       " '2620:0:863:ed1a::1 pag.wikipedia.org\\n',\n",
       " '2620:0:863:ed1a::1 pam.wikipedia.org\\n',\n",
       " '2620:0:863:ed1a::1 pap.wikipedia.org\\n',\n",
       " '2620:0:863:ed1a::1 pcd.wikipedia.org\\n',\n",
       " '2620:0:863:ed1a::1 pdc.wikipedia.org\\n',\n",
       " '2620:0:863:ed1a::1 pih.wikipedia.org\\n',\n",
       " '2620:0:863:ed1a::1 pms.wikipedia.org\\n',\n",
       " '2620:0:863:ed1a::1 pnb.wikipedia.org\\n',\n",
       " '2620:0:863:ed1a::1 pnt.wikipedia.org\\n',\n",
       " '2620:0:863:ed1a::1 rmy.wikipedia.org\\n',\n",
       " '2620:0:863:ed1a::1 sah.wikipedia.org\\n',\n",
       " '2620:0:863:ed1a::1 scn.wikipedia.org\\n',\n",
       " '2620:0:863:ed1a::1 sco.wikipedia.org\\n',\n",
       " '2620:0:863:ed1a::1 srn.wikipedia.org\\n',\n",
       " '2620:0:863:ed1a::1 stq.wikipedia.org\\n',\n",
       " '2620:0:863:ed1a::1 szl.wikipedia.org\\n',\n",
       " '2620:0:863:ed1a::1 tet.wikipedia.org\\n',\n",
       " '2620:0:863:ed1a::1 tpi.wikipedia.org\\n',\n",
       " '2620:0:863:ed1a::1 tum.wikipedia.org\\n',\n",
       " '2620:0:863:ed1a::1 udm.wikipedia.org\\n',\n",
       " '2620:0:863:ed1a::1 vec.wikipedia.org\\n',\n",
       " '2620:0:863:ed1a::1 vls.wikipedia.org\\n',\n",
       " '2620:0:863:ed1a::1 war.wikipedia.org\\n',\n",
       " '2620:0:863:ed1a::1 wuu.wikipedia.org\\n',\n",
       " '2620:0:863:ed1a::1 xal.wikipedia.org\\n',\n",
       " '2620:0:863:ed1a::1 zea.wikipedia.org\\n',\n",
       " '2620:0:863:ed1a::1 www.wikiquote.org\\n',\n",
       " '2620:0:863:ed1a::1 als.wikiquote.org\\n',\n",
       " '2620:0:863:ed1a::1 ang.wikiquote.org\\n',\n",
       " '2620:0:863:ed1a::1 ast.wikiquote.org\\n',\n",
       " '2620:0:863:ed1a::1 nds.wikiquote.org\\n',\n",
       " '2620:0:863:ed1a::1 ar.wikisource.org\\n',\n",
       " '2620:0:863:ed1a::1 az.wikisource.org\\n',\n",
       " '2620:0:863:ed1a::1 bg.wikisource.org\\n',\n",
       " '2620:0:863:ed1a::1 bn.wikisource.org\\n',\n",
       " '2620:0:863:ed1a::1 br.wikisource.org\\n',\n",
       " '2620:0:863:ed1a::1 bs.wikisource.org\\n',\n",
       " '2620:0:863:ed1a::1 ca.wikisource.org\\n',\n",
       " '2620:0:863:ed1a::1 cs.wikisource.org\\n',\n",
       " '2620:0:863:ed1a::1 cy.wikisource.org\\n',\n",
       " '2620:0:863:ed1a::1 da.wikisource.org\\n',\n",
       " '2620:0:863:ed1a::1 de.wikisource.org\\n',\n",
       " '2620:0:863:ed1a::1 el.wikisource.org\\n',\n",
       " '2620:0:863:ed1a::1 en.wikisource.org\\n',\n",
       " '2620:0:863:ed1a::1 eo.wikisource.org\\n',\n",
       " '2620:0:863:ed1a::1 es.wikisource.org\\n',\n",
       " '2620:0:863:ed1a::1 et.wikisource.org\\n',\n",
       " '2620:0:863:ed1a::1 fa.wikisource.org\\n',\n",
       " '2620:0:863:ed1a::1 fi.wikisource.org\\n',\n",
       " '2620:0:863:ed1a::1 fo.wikisource.org\\n',\n",
       " '2620:0:863:ed1a::1 fr.wikisource.org\\n',\n",
       " '2620:0:863:ed1a::1 gl.wikisource.org\\n',\n",
       " '2620:0:863:ed1a::1 he.wikisource.org\\n',\n",
       " '2620:0:863:ed1a::1 hr.wikisource.org\\n',\n",
       " '2620:0:863:ed1a::1 ht.wikisource.org\\n',\n",
       " '2620:0:863:ed1a::1 hu.wikisource.org\\n',\n",
       " '2620:0:863:ed1a::1 hy.wikisource.org\\n',\n",
       " '2620:0:863:ed1a::1 id.wikisource.org\\n',\n",
       " '2620:0:863:ed1a::1 is.wikisource.org\\n',\n",
       " '2620:0:863:ed1a::1 it.wikisource.org\\n',\n",
       " '2620:0:863:ed1a::1 ja.wikisource.org\\n',\n",
       " '2620:0:863:ed1a::1 kn.wikisource.org\\n',\n",
       " '2620:0:863:ed1a::1 ko.wikisource.org\\n',\n",
       " '2620:0:863:ed1a::1 la.wikisource.org\\n',\n",
       " '2620:0:863:ed1a::1 li.wikisource.org\\n',\n",
       " '2620:0:863:ed1a::1 lt.wikisource.org\\n',\n",
       " '2620:0:863:ed1a::1 mk.wikisource.org\\n',\n",
       " '2620:0:863:ed1a::1 ml.wikisource.org\\n',\n",
       " '2620:0:863:ed1a::1 nl.wikisource.org\\n',\n",
       " '2620:0:863:ed1a::1 no.wikisource.org\\n',\n",
       " '2620:0:863:ed1a::1 pl.wikisource.org\\n',\n",
       " '2620:0:863:ed1a::1 pt.wikisource.org\\n',\n",
       " '2620:0:863:ed1a::1 ro.wikisource.org\\n',\n",
       " '2620:0:863:ed1a::1 ru.wikisource.org\\n',\n",
       " '2620:0:863:ed1a::1 sa.wikisource.org\\n',\n",
       " '2620:0:863:ed1a::1 sk.wikisource.org\\n',\n",
       " '2620:0:863:ed1a::1 sl.wikisource.org\\n',\n",
       " '2620:0:863:ed1a::1 sr.wikisource.org\\n',\n",
       " '2620:0:863:ed1a::1 sv.wikisource.org\\n',\n",
       " '2620:0:863:ed1a::1 ta.wikisource.org\\n',\n",
       " '2620:0:863:ed1a::1 te.wikisource.org\\n',\n",
       " '2620:0:863:ed1a::1 th.wikisource.org\\n',\n",
       " '2620:0:863:ed1a::1 tr.wikisource.org\\n',\n",
       " '2620:0:863:ed1a::1 uk.wikisource.org\\n',\n",
       " '2620:0:863:ed1a::1 vi.wikisource.org\\n',\n",
       " '2620:0:863:ed1a::1 yi.wikisource.org\\n',\n",
       " '2620:0:863:ed1a::1 zh.wikisource.org\\n',\n",
       " '2620:0:863:ed1a::1 aa.wiktionary.org\\n',\n",
       " '2620:0:863:ed1a::1 ab.wiktionary.org\\n',\n",
       " '2620:0:863:ed1a::1 af.wiktionary.org\\n',\n",
       " '2620:0:863:ed1a::1 ak.wiktionary.org\\n',\n",
       " '2620:0:863:ed1a::1 am.wiktionary.org\\n',\n",
       " '2620:0:863:ed1a::1 an.wiktionary.org\\n',\n",
       " '2620:0:863:ed1a::1 ar.wiktionary.org\\n',\n",
       " '2620:0:863:ed1a::1 as.wiktionary.org\\n',\n",
       " '2620:0:863:ed1a::1 av.wiktionary.org\\n',\n",
       " '2620:0:863:ed1a::1 ay.wiktionary.org\\n',\n",
       " '2620:0:863:ed1a::1 az.wiktionary.org\\n',\n",
       " '2620:0:863:ed1a::1 be.wiktionary.org\\n',\n",
       " '2620:0:863:ed1a::1 bg.wiktionary.org\\n',\n",
       " '2620:0:863:ed1a::1 bh.wiktionary.org\\n',\n",
       " '2620:0:863:ed1a::1 bi.wiktionary.org\\n',\n",
       " '2620:0:863:ed1a::1 bm.wiktionary.org\\n',\n",
       " '2620:0:863:ed1a::1 bn.wiktionary.org\\n',\n",
       " '2620:0:863:ed1a::1 bo.wiktionary.org\\n',\n",
       " '2620:0:863:ed1a::1 br.wiktionary.org\\n',\n",
       " '2620:0:863:ed1a::1 bs.wiktionary.org\\n',\n",
       " '2620:0:863:ed1a::1 ca.wiktionary.org\\n',\n",
       " '2620:0:863:ed1a::1 ch.wiktionary.org\\n',\n",
       " '2620:0:863:ed1a::1 co.wiktionary.org\\n',\n",
       " '2620:0:863:ed1a::1 cr.wiktionary.org\\n',\n",
       " '2620:0:863:ed1a::1 cs.wiktionary.org\\n',\n",
       " '2620:0:863:ed1a::1 cy.wiktionary.org\\n',\n",
       " '2620:0:863:ed1a::1 da.wiktionary.org\\n',\n",
       " '2620:0:863:ed1a::1 de.wiktionary.org\\n',\n",
       " '2620:0:863:ed1a::1 dv.wiktionary.org\\n',\n",
       " '2620:0:863:ed1a::1 dz.wiktionary.org\\n',\n",
       " '2620:0:863:ed1a::1 el.wiktionary.org\\n',\n",
       " '2620:0:863:ed1a::1 en.wiktionary.org\\n',\n",
       " '2620:0:863:ed1a::1 eo.wiktionary.org\\n',\n",
       " '2620:0:863:ed1a::1 es.wiktionary.org\\n',\n",
       " '2620:0:863:ed1a::1 et.wiktionary.org\\n',\n",
       " '2620:0:863:ed1a::1 eu.wiktionary.org\\n',\n",
       " '2620:0:863:ed1a::1 fa.wiktionary.org\\n',\n",
       " '2620:0:863:ed1a::1 fi.wiktionary.org\\n',\n",
       " '2620:0:863:ed1a::1 fj.wiktionary.org\\n',\n",
       " '2620:0:863:ed1a::1 fo.wiktionary.org\\n',\n",
       " '2620:0:863:ed1a::1 fr.wiktionary.org\\n',\n",
       " '2620:0:863:ed1a::1 fy.wiktionary.org\\n',\n",
       " '2620:0:863:ed1a::1 ga.wiktionary.org\\n',\n",
       " '2620:0:863:ed1a::1 gd.wiktionary.org\\n',\n",
       " '2620:0:863:ed1a::1 gl.wiktionary.org\\n',\n",
       " '2620:0:863:ed1a::1 gn.wiktionary.org\\n',\n",
       " '2620:0:863:ed1a::1 gu.wiktionary.org\\n',\n",
       " '2620:0:863:ed1a::1 gv.wiktionary.org\\n',\n",
       " '2620:0:863:ed1a::1 ha.wiktionary.org\\n',\n",
       " '2620:0:863:ed1a::1 he.wiktionary.org\\n',\n",
       " '2620:0:863:ed1a::1 hi.wiktionary.org\\n',\n",
       " '2620:0:863:ed1a::1 hr.wiktionary.org\\n',\n",
       " '2620:0:863:ed1a::1 hu.wiktionary.org\\n',\n",
       " '2620:0:863:ed1a::1 hy.wiktionary.org\\n',\n",
       " '2620:0:863:ed1a::1 ia.wiktionary.org\\n',\n",
       " '2620:0:863:ed1a::1 id.wiktionary.org\\n',\n",
       " '2620:0:863:ed1a::1 ie.wiktionary.org\\n',\n",
       " '2620:0:863:ed1a::1 ik.wiktionary.org\\n',\n",
       " '2620:0:863:ed1a::1 io.wiktionary.org\\n',\n",
       " '2620:0:863:ed1a::1 is.wiktionary.org\\n',\n",
       " '2620:0:863:ed1a::1 it.wiktionary.org\\n',\n",
       " '2620:0:863:ed1a::1 iu.wiktionary.org\\n',\n",
       " '2620:0:863:ed1a::1 ja.wiktionary.org\\n',\n",
       " '2620:0:863:ed1a::1 jv.wiktionary.org\\n',\n",
       " '2620:0:863:ed1a::1 ka.wiktionary.org\\n',\n",
       " '2620:0:863:ed1a::1 kk.wiktionary.org\\n',\n",
       " '2620:0:863:ed1a::1 kl.wiktionary.org\\n',\n",
       " '2620:0:863:ed1a::1 km.wiktionary.org\\n',\n",
       " '2620:0:863:ed1a::1 kn.wiktionary.org\\n',\n",
       " '2620:0:863:ed1a::1 ko.wiktionary.org\\n',\n",
       " '2620:0:863:ed1a::1 ks.wiktionary.org\\n',\n",
       " '2620:0:863:ed1a::1 ku.wiktionary.org\\n',\n",
       " '2620:0:863:ed1a::1 kw.wiktionary.org\\n',\n",
       " '2620:0:863:ed1a::1 ky.wiktionary.org\\n',\n",
       " '2620:0:863:ed1a::1 la.wiktionary.org\\n',\n",
       " '2620:0:863:ed1a::1 lb.wiktionary.org\\n',\n",
       " '2620:0:863:ed1a::1 li.wiktionary.org\\n',\n",
       " '2620:0:863:ed1a::1 ln.wiktionary.org\\n',\n",
       " '2620:0:863:ed1a::1 lo.wiktionary.org\\n',\n",
       " '2620:0:863:ed1a::1 lt.wiktionary.org\\n',\n",
       " '2620:0:863:ed1a::1 lv.wiktionary.org\\n',\n",
       " '2620:0:863:ed1a::1 mg.wiktionary.org\\n',\n",
       " '2620:0:863:ed1a::1 mh.wiktionary.org\\n',\n",
       " '2620:0:863:ed1a::1 mi.wiktionary.org\\n',\n",
       " '2620:0:863:ed1a::1 mk.wiktionary.org\\n',\n",
       " '2620:0:863:ed1a::1 ml.wiktionary.org\\n',\n",
       " '2620:0:863:ed1a::1 mn.wiktionary.org\\n',\n",
       " '2620:0:863:ed1a::1 mo.wiktionary.org\\n',\n",
       " '2620:0:863:ed1a::1 mr.wiktionary.org\\n',\n",
       " '2620:0:863:ed1a::1 ms.wiktionary.org\\n',\n",
       " '2620:0:863:ed1a::1 mt.wiktionary.org\\n',\n",
       " '2620:0:863:ed1a::1 my.wiktionary.org\\n',\n",
       " '2620:0:863:ed1a::1 na.wiktionary.org\\n',\n",
       " '2620:0:863:ed1a::1 ne.wiktionary.org\\n',\n",
       " '2620:0:863:ed1a::1 nl.wiktionary.org\\n',\n",
       " '2620:0:863:ed1a::1 nn.wiktionary.org\\n',\n",
       " '2620:0:863:ed1a::1 no.wiktionary.org\\n',\n",
       " '2620:0:863:ed1a::1 oc.wiktionary.org\\n',\n",
       " '2620:0:863:ed1a::1 om.wiktionary.org\\n',\n",
       " '2620:0:863:ed1a::1 or.wiktionary.org\\n',\n",
       " '2620:0:863:ed1a::1 pa.wiktionary.org\\n',\n",
       " '2620:0:863:ed1a::1 pi.wiktionary.org\\n',\n",
       " '2620:0:863:ed1a::1 pl.wiktionary.org\\n',\n",
       " '2620:0:863:ed1a::1 ps.wiktionary.org\\n',\n",
       " '2620:0:863:ed1a::1 pt.wiktionary.org\\n',\n",
       " '2620:0:863:ed1a::1 qu.wiktionary.org\\n',\n",
       " '2620:0:863:ed1a::1 rm.wiktionary.org\\n',\n",
       " '2620:0:863:ed1a::1 rn.wiktionary.org\\n',\n",
       " '2620:0:863:ed1a::1 ro.wiktionary.org\\n',\n",
       " '2620:0:863:ed1a::1 ru.wiktionary.org\\n',\n",
       " '2620:0:863:ed1a::1 rw.wiktionary.org\\n',\n",
       " '2620:0:863:ed1a::1 sa.wiktionary.org\\n',\n",
       " '2620:0:863:ed1a::1 sc.wiktionary.org\\n',\n",
       " '2620:0:863:ed1a::1 sd.wiktionary.org\\n',\n",
       " '2620:0:863:ed1a::1 sg.wiktionary.org\\n',\n",
       " '2620:0:863:ed1a::1 sh.wiktionary.org\\n',\n",
       " '2620:0:863:ed1a::1 si.wiktionary.org\\n',\n",
       " '2620:0:863:ed1a::1 sk.wiktionary.org\\n',\n",
       " '2620:0:863:ed1a::1 sl.wiktionary.org\\n',\n",
       " '2620:0:863:ed1a::1 sm.wiktionary.org\\n',\n",
       " '2620:0:863:ed1a::1 sn.wiktionary.org\\n',\n",
       " '2620:0:863:ed1a::1 so.wiktionary.org\\n',\n",
       " '2620:0:863:ed1a::1 sq.wiktionary.org\\n',\n",
       " '2620:0:863:ed1a::1 sr.wiktionary.org\\n',\n",
       " '2620:0:863:ed1a::1 ss.wiktionary.org\\n',\n",
       " '2620:0:863:ed1a::1 st.wiktionary.org\\n',\n",
       " '2620:0:863:ed1a::1 su.wiktionary.org\\n',\n",
       " '2620:0:863:ed1a::1 sv.wiktionary.org\\n',\n",
       " '2620:0:863:ed1a::1 sw.wiktionary.org\\n',\n",
       " '2620:0:863:ed1a::1 ta.wiktionary.org\\n',\n",
       " '2620:0:863:ed1a::1 te.wiktionary.org\\n',\n",
       " '2620:0:863:ed1a::1 tg.wiktionary.org\\n',\n",
       " '2620:0:863:ed1a::1 th.wiktionary.org\\n',\n",
       " '2620:0:863:ed1a::1 ti.wiktionary.org\\n',\n",
       " '2620:0:863:ed1a::1 tk.wiktionary.org\\n',\n",
       " '2620:0:863:ed1a::1 tl.wiktionary.org\\n',\n",
       " '2620:0:863:ed1a::1 tn.wiktionary.org\\n',\n",
       " '2620:0:863:ed1a::1 to.wiktionary.org\\n',\n",
       " '2620:0:863:ed1a::1 tr.wiktionary.org\\n',\n",
       " '2620:0:863:ed1a::1 ts.wiktionary.org\\n',\n",
       " '2620:0:863:ed1a::1 tt.wiktionary.org\\n',\n",
       " '2620:0:863:ed1a::1 tw.wiktionary.org\\n',\n",
       " '2620:0:863:ed1a::1 ug.wiktionary.org\\n',\n",
       " '2620:0:863:ed1a::1 uk.wiktionary.org\\n',\n",
       " '2620:0:863:ed1a::1 ur.wiktionary.org\\n',\n",
       " '2620:0:863:ed1a::1 uz.wiktionary.org\\n',\n",
       " '2620:0:863:ed1a::1 vi.wiktionary.org\\n',\n",
       " '2620:0:863:ed1a::1 vo.wiktionary.org\\n',\n",
       " '2620:0:863:ed1a::1 wa.wiktionary.org\\n',\n",
       " '2620:0:863:ed1a::1 wo.wiktionary.org\\n',\n",
       " '2620:0:863:ed1a::1 xh.wiktionary.org\\n',\n",
       " '2620:0:863:ed1a::1 yi.wiktionary.org\\n',\n",
       " '2620:0:863:ed1a::1 yo.wiktionary.org\\n',\n",
       " '2620:0:863:ed1a::1 za.wiktionary.org\\n',\n",
       " '2620:0:863:ed1a::1 zh.wiktionary.org\\n',\n",
       " '2620:0:863:ed1a::1 zu.wiktionary.org\\n',\n",
       " '#2a01:111:2003::200 bj1.api.bing.com\\n',\n",
       " '#2a01:111:2003::200 tse1.mm.bing.net\\n',\n",
       " '#2a01:111:2003::200 tse2.mm.bing.net\\n',\n",
       " '#2a01:111:2003::200 tse3.mm.bing.net\\n',\n",
       " '#2a01:111:2003::200 tse4.mm.bing.net\\n',\n",
       " '#2606:1f80:a000:100::4 edge.vncdn.co\\n',\n",
       " '#2606:1f80:a000:100::11 mid.vncdn.co\\n',\n",
       " '#2606:1f80:a000:100::5 v.cdn.vine.co\\n',\n",
       " '2600:1406:3:18b::c8c blogs.nvidia.cn\\n',\n",
       " '#2600:1417:9::b833:f5b www.intel.com\\n',\n",
       " '#2600:1417:9::b833:f5b ark.intel.com\\n',\n",
       " '#2600:1406:3:18b::b engage.intel.com\\n',\n",
       " '#111.119.3.1 soundcloud.hs.llnwd.net\\n',\n",
       " '151.101.1.69 anime.stackexchange.com\\n',\n",
       " '151.101.1.69 apple.stackexchange.com\\n',\n",
       " '151.101.1.69 chess.stackexchange.com\\n',\n",
       " '151.101.1.69 emacs.stackexchange.com\\n',\n",
       " '151.101.1.69 islam.stackexchange.com\\n',\n",
       " '151.101.1.69 money.stackexchange.com\\n',\n",
       " '151.101.1.69 music.stackexchange.com\\n',\n",
       " '151.101.1.69 photo.stackexchange.com\\n',\n",
       " '151.101.1.69 poker.stackexchange.com\\n',\n",
       " '151.101.1.69 quant.stackexchange.com\\n',\n",
       " '151.101.1.69 scifi.stackexchange.com\\n',\n",
       " '151.101.1.69 sound.stackexchange.com\\n',\n",
       " '151.101.1.69 space.stackexchange.com\\n',\n",
       " '151.101.1.69 stats.stackexchange.com\\n',\n",
       " '151.101.1.69 video.stackexchange.com\\n',\n",
       " '151.101.1.69 cdn-careers.sstatic.net\\n',\n",
       " '209.58.128.90 www.xda-developers.com\\n',\n",
       " '2001:4860:4802:32::1d registry.google\\n',\n",
       " '2404:6800:4008:c02::63 www.google.com\\n',\n",
       " '2404:6800:4008:c03::65 cse.google.com\\n',\n",
       " '2404:6800:4008:c04::8b dns.google.com\\n',\n",
       " '2404:6800:4008:c00::65 get.google.com\\n',\n",
       " '2404:6800:4008:c04::66 withgoogle.com\\n',\n",
       " '2404:6800:4008:c04::a0 ditu.google.cn\\n',\n",
       " '2404:6800:4008:c06::6a googlewave.com\\n',\n",
       " '2404:6800:4008:c07::84 geo0.ggpht.com\\n',\n",
       " '2404:6800:4008:c03::84 geo1.ggpht.com\\n',\n",
       " '2404:6800:4008:c06::84 geo2.ggpht.com\\n',\n",
       " '2404:6800:4008:c05::84 geo3.ggpht.com\\n',\n",
       " '#2404:6800:4008:c00::62 nt4.ggpht.com\\n',\n",
       " '#2404:6800:4008:c00::62 nt5.ggpht.com\\n',\n",
       " '2404:6800:4008:c06::5e g0.gstatic.com\\n',\n",
       " '2404:6800:4008:c06::5e g1.gstatic.com\\n',\n",
       " '2404:6800:4008:c06::5e g2.gstatic.com\\n',\n",
       " '2404:6800:4008:c07::5e g3.gstatic.com\\n',\n",
       " '2404:6800:4008:c06::6a t0.gstatic.com\\n',\n",
       " '2404:6800:4008:c06::93 t1.gstatic.com\\n',\n",
       " '2404:6800:4008:c06::6a t2.gstatic.com\\n',\n",
       " '2404:6800:4008:c06::6a t3.gstatic.com\\n',\n",
       " '2404:6800:4008:c03::63 googleapis.com\\n',\n",
       " '2620:0:863:ed1a::1 meta.wikimedia.org\\n',\n",
       " '2620:0:863:ed1a::1 en.m.wikipedia.org\\n',\n",
       " '2620:0:863:ed1a::1 zh.m.wikipedia.org\\n',\n",
       " '2620:0:863:ed1a::1 www.wikisource.org\\n',\n",
       " '2620:0:863:ed1a::1 ang.wikisource.org\\n',\n",
       " '2620:0:863:ed1a::1 sah.wikisource.org\\n',\n",
       " '2620:0:863:ed1a::1 vec.wikisource.org\\n',\n",
       " '2620:0:863:ed1a::1 www.wiktionary.org\\n',\n",
       " '2620:0:863:ed1a::1 als.wiktionary.org\\n',\n",
       " '2620:0:863:ed1a::1 ang.wiktionary.org\\n',\n",
       " '2620:0:863:ed1a::1 ast.wiktionary.org\\n',\n",
       " '2620:0:863:ed1a::1 chr.wiktionary.org\\n',\n",
       " '2620:0:863:ed1a::1 csb.wiktionary.org\\n',\n",
       " '2620:0:863:ed1a::1 hsb.wiktionary.org\\n',\n",
       " '2620:0:863:ed1a::1 jbo.wiktionary.org\\n',\n",
       " '2620:0:863:ed1a::1 nah.wiktionary.org\\n',\n",
       " '2620:0:863:ed1a::1 nds.wiktionary.org\\n',\n",
       " '2620:0:863:ed1a::1 scn.wiktionary.org\\n',\n",
       " '2620:0:863:ed1a::1 tpi.wiktionary.org\\n',\n",
       " '2620:0:863:ed1a::1 ar.wikiversity.org\\n',\n",
       " '2620:0:863:ed1a::1 cs.wikiversity.org\\n',\n",
       " '2620:0:863:ed1a::1 de.wikiversity.org\\n',\n",
       " '2620:0:863:ed1a::1 el.wikiversity.org\\n',\n",
       " '2620:0:863:ed1a::1 en.wikiversity.org\\n',\n",
       " '2620:0:863:ed1a::1 es.wikiversity.org\\n',\n",
       " '2620:0:863:ed1a::1 fi.wikiversity.org\\n',\n",
       " '2620:0:863:ed1a::1 fr.wikiversity.org\\n',\n",
       " '2620:0:863:ed1a::1 it.wikiversity.org\\n',\n",
       " '2620:0:863:ed1a::1 ja.wikiversity.org\\n',\n",
       " '2620:0:863:ed1a::1 pt.wikiversity.org\\n',\n",
       " '2620:0:863:ed1a::1 ru.wikiversity.org\\n',\n",
       " '2620:0:863:ed1a::1 sv.wikiversity.org\\n',\n",
       " '2600:1406:3:18b::376 blogs.nvidia.com\\n',\n",
       " '#2600:1406:3:18b::7b4 www.geforce.com\\n',\n",
       " '#2600:1417:9::b833:f5b www.geforce.cn\\n',\n",
       " '#2600:1406:3:18b::b51 support.amd.com\\n',\n",
       " '#2600:1406:3:18b::b www-ssl.intel.com\\n',\n",
       " '151.101.1.69 area51.stackexchange.com\\n',\n",
       " '151.101.1.69 coffee.stackexchange.com\\n',\n",
       " '151.101.1.69 cogsci.stackexchange.com\\n',\n",
       " '151.101.1.69 crypto.stackexchange.com\\n',\n",
       " '151.101.1.69 drupal.stackexchange.com\\n',\n",
       " '151.101.1.69 ebooks.stackexchange.com\\n',\n",
       " '151.101.1.69 french.stackexchange.com\\n',\n",
       " '151.101.1.69 gaming.stackexchange.com\\n',\n",
       " '151.101.1.69 german.stackexchange.com\\n',\n",
       " '151.101.1.69 health.stackexchange.com\\n',\n",
       " '151.101.1.69 joomla.stackexchange.com\\n',\n",
       " '151.101.1.69 movies.stackexchange.com\\n',\n",
       " '151.101.1.69 sports.stackexchange.com\\n',\n",
       " '151.101.1.69 travel.stackexchange.com\\n',\n",
       " '68.232.44.253 gs1.wac.edgecastcdn.net\\n',\n",
       " '2404:6800:4008:c05::c0 supl.google.com\\n',\n",
       " '2001:4860:4802:32::1b www.chromium.org\\n',\n",
       " '2001:4860:4802:32::1b dev.chromium.org\\n',\n",
       " '2404:6800:4008:c06::84 googledrive.com\\n',\n",
       " '2404:6800:4008:c02::71 docs.google.com\\n',\n",
       " '2404:6800:4008:c05::66 maps.google.com\\n',\n",
       " '2404:6800:4008:c04::7b wifi.google.com\\n',\n",
       " '2404:6800:4008:c07::5e ssl.gstatic.com\\n',\n",
       " '2404:6800:4008:c07::5e www.gstatic.com\\n',\n",
       " '2401:3800:4001:10::1018 www.gstatic.cn\\n',\n",
       " '2404:6800:4008:c07::64 mt0.gstatic.com\\n',\n",
       " '2404:6800:4008:c00::8b mt1.gstatic.com\\n',\n",
       " '2404:6800:4008:c04::8b mt2.gstatic.com\\n',\n",
       " '2404:6800:4008:c04::8b mt3.gstatic.com\\n',\n",
       " '2404:6800:4008:c03::65 mt4.gstatic.com\\n',\n",
       " '2404:6800:4008:c04::64 mt5.gstatic.com\\n',\n",
       " '2404:6800:4008:c04::71 mt6.gstatic.com\\n',\n",
       " '2404:6800:4008:c03::64 mt7.gstatic.com\\n',\n",
       " '## The Go Programming Language Go 编程语言\\n',\n",
       " '2404:6800:4008:c02::6a webmproject.org\\n',\n",
       " '2404:6800:4008:c06::5e id.l.google.com\\n',\n",
       " '2404:6800:4008:c05::65 mt.l.google.com\\n',\n",
       " '2404:6800:4008:c00::5d sb.l.google.com\\n',\n",
       " '#2620:0:862:1::80:2 blog.wikimedia.org\\n',\n",
       " '#2620:0:863:ed1a::1 bits.wikimedia.org\\n',\n",
       " '2620:0:863:ed1a::1 www.wikiversity.org\\n',\n",
       " '#2606:1f80:a000:100::5 mtc.cdn.vine.co\\n',\n",
       " '2600:1406:3:18b::a90 images.nvidia.com\\n',\n",
       " '2600:1406:3:18b::778 shield.nvidia.com\\n',\n",
       " '#2600:1406:3:18b::c8c nfans.geforce.cn\\n',\n",
       " '#2600:1406:3:18b::75 newsroom.intel.cn\\n',\n",
       " '#2600:1406:3:18b::b newsroom.intel.com\\n',\n",
       " '#2600:1406:3:18b::b software.intel.com\\n',\n",
       " '2001:dc0:2001:11::205 submit.apnic.net\\n',\n",
       " '52.200.197.215 collector.githubapp.com\\n',\n",
       " '151.101.1.69 android.stackexchange.com\\n',\n",
       " '151.101.1.69 arduino.stackexchange.com\\n',\n",
       " '151.101.1.69 biology.stackexchange.com\\n',\n",
       " '151.101.1.69 bitcoin.stackexchange.com\\n',\n",
       " '151.101.1.69 blender.stackexchange.com\\n',\n",
       " '151.101.65.69 bricks.stackexchange.com\\n',\n",
       " '151.101.1.69 chinese.stackexchange.com\\n',\n",
       " '151.101.1.69 civicrm.stackexchange.com\\n',\n",
       " '151.101.1.69 cooking.stackexchange.com\\n',\n",
       " '151.101.1.69 english.stackexchange.com\\n',\n",
       " '151.101.1.69 fitness.stackexchange.com\\n',\n",
       " '151.101.1.69 gamedev.stackexchange.com\\n',\n",
       " '151.101.1.69 italian.stackexchange.com\\n',\n",
       " '151.101.1.69 judaism.stackexchange.com\\n',\n",
       " '151.101.1.69 magento.stackexchange.com\\n',\n",
       " '151.101.1.69 patents.stackexchange.com\\n',\n",
       " '151.101.1.69 physics.stackexchange.com\\n',\n",
       " '151.101.1.69 russian.stackexchange.com\\n',\n",
       " '151.101.1.69 scicomp.stackexchange.com\\n',\n",
       " '151.101.1.69 spanish.stackexchange.com\\n',\n",
       " '151.101.1.69 tridion.stackexchange.com\\n',\n",
       " '151.101.1.69 webapps.stackexchange.com\\n',\n",
       " '151.101.1.69 writers.stackexchange.com\\n',\n",
       " '104.244.42.196 downloads.tweetdeck.com\\n',\n",
       " '2404:6800:4008:c03::71 admin.google.com\\n',\n",
       " '2404:6800:4008:c07::64 pixel.google.com\\n',\n",
       " '2404:6800:4008:c07::64 store.google.com\\n',\n",
       " '2404:6800:4008:c06::5e www.google.co.jp\\n',\n",
       " '2404:6800:4008:c06::5e www.google.co.il\\n',\n",
       " '2404:6800:4008:c05::5e www.google.co.in\\n',\n",
       " '2404:6800:4008:c06::5e www.google.co.jp\\n',\n",
       " '2404:6800:4008:c03::5e www.google.co.kr\\n',\n",
       " '2404:6800:4008:c03::5e www.google.co.nz\\n',\n",
       " '2404:6800:4008:c07::5e www.google.co.th\\n',\n",
       " '2404:6800:4008:c07::5e www.google.co.uk\\n',\n",
       " '2404:6800:4008:c06::5e www.google.co.ve\\n',\n",
       " '2404:6800:4008:c07::5e www.google.co.za\\n',\n",
       " '#2404:6800:4008:c00::62 guru.google.com\\n',\n",
       " '2001:4860:4802:32::1b blog.chromium.org\\n',\n",
       " '2404:6800:4008:c06::64 drive.google.com\\n',\n",
       " '#2404:6800:4008:c00::62 tbn4.google.com\\n',\n",
       " '#2404:6800:4008:c00::62 tbn5.google.com\\n',\n",
       " '#2404:6800:4008:c00::62 tbn6.google.com\\n',\n",
       " '2404:6800:4008:c07::53 inbox.google.com\\n',\n",
       " '2404:6800:4008:c06::5e maps.gstatic.com\\n',\n",
       " '2404:6800:4008:c05::6a www.l.google.com\\n',\n",
       " '2401:3800:4001:4::18 cache.l.google.com\\n',\n",
       " '2404:6800:4008:c00::66 cbk.l.google.com\\n',\n",
       " '2404:6800:4008:c04::79 ghs.l.google.com\\n',\n",
       " '#2404:6800:4008:c04::5d kh.l.google.com\\n',\n",
       " '2404:6800:4008:c03::64 lh2.l.google.com\\n',\n",
       " '2404:6800:4008:c07::69 tbn.l.google.com\\n',\n",
       " '## c.youtube.com和googlevideo.com指向的IP相同\\n',\n",
       " '## 公开视频 bandaid-redirector.l.google.com\\n',\n",
       " '#2610:d0:face::9 www.lisp6.facebook.com\\n',\n",
       " '2620:0:863:ed1a::1 secure.wikimedia.org\\n',\n",
       " '2620:0:863:ed1a::1 simple.wikibooks.org\\n',\n",
       " '2620:0:863:ed1a::1 nds-nl.wikipedia.org\\n',\n",
       " '2620:0:863:ed1a::1 simple.wikipedia.org\\n',\n",
       " '2620:0:863:ed1a::1 zh-yue.wikipedia.org\\n',\n",
       " '2620:0:863:ed1a::1 simple.wikiquote.org\\n',\n",
       " '2620:0:863:ed1a::1 beta.wikiversity.org\\n',\n",
       " '2001:428:4c02:b96::2886 i.microsoft.com\\n',\n",
       " '#2a01:111:2003::200 tse1-mm.cn.bing.net\\n',\n",
       " '#2a01:111:2003::200 tse2-mm.cn.bing.net\\n',\n",
       " '#2a01:111:2003::200 tse3-mm.cn.bing.net\\n',\n",
       " '#2a01:111:2003::200 tse4-mm.cn.bing.net\\n',\n",
       " '#2600:1406:3:18b::7b4 gfwsl.geforce.com\\n',\n",
       " '2001:df0:2ed:feed::feed ftp.jaist.ac.jp\\n',\n",
       " '151.101.1.69 academia.stackexchange.com\\n',\n",
       " '151.101.1.69 aviation.stackexchange.com\\n',\n",
       " '151.101.1.69 bicycles.stackexchange.com\\n',\n",
       " '151.101.1.69 buddhism.stackexchange.com\\n',\n",
       " '151.101.1.69 codegolf.stackexchange.com\\n',\n",
       " '151.101.1.69 craftcms.stackexchange.com\\n',\n",
       " '151.101.1.69 cstheory.stackexchange.com\\n',\n",
       " '151.101.1.69 hinduism.stackexchange.com\\n',\n",
       " '151.101.1.69 homebrew.stackexchange.com\\n',\n",
       " '151.101.1.69 japanese.stackexchange.com\\n',\n",
       " '151.101.1.69 opendata.stackexchange.com\\n',\n",
       " '151.101.1.69 outdoors.stackexchange.com\\n',\n",
       " '151.101.1.69 politics.stackexchange.com\\n',\n",
       " '151.101.1.69 puzzling.stackexchange.com\\n',\n",
       " '151.101.1.69 robotics.stackexchange.com\\n',\n",
       " '151.101.1.69 security.stackexchange.com\\n',\n",
       " '151.101.1.69 skeptics.stackexchange.com\\n',\n",
       " '151.101.1.69 startups.stackexchange.com\\n',\n",
       " '2404:6800:4008:c02::8b design.google.com\\n',\n",
       " '2404:6800:4008:c04::66 events.google.com\\n',\n",
       " '2404:6800:4008:c06::c7 www.google.com.hk\\n',\n",
       " '2404:6800:4008:c07::5e www.google.com.tw\\n',\n",
       " '2404:6800:4008:c00::5e www.google.com.ar\\n',\n",
       " '2404:6800:4008:c06::5e www.google.com.au\\n',\n",
       " '2404:6800:4008:c03::5e www.google.com.br\\n',\n",
       " '2404:6800:4008:c06::5e www.google.com.gr\\n',\n",
       " '2404:6800:4008:c06::5e www.google.com.ly\\n',\n",
       " '2404:6800:4008:c00::5e www.google.com.my\\n',\n",
       " '2404:6800:4008:c06::5e www.google.com.pe\\n',\n",
       " '2404:6800:4008:c03::5e www.google.com.ph\\n',\n",
       " '2404:6800:4008:c02::5e www.google.com.pk\\n',\n",
       " '2404:6800:4008:c05::5e www.google.com.ru\\n',\n",
       " '2404:6800:4008:c04::5e www.google.com.sg\\n',\n",
       " '2404:6800:4008:c05::5e www.google.com.tr\\n',\n",
       " '2404:6800:4008:c05::5e www.google.com.ua\\n',\n",
       " '2404:6800:4008:c06::5e www.google.com.vn\\n',\n",
       " '2404:6800:4008:c04::69 googlemashups.com\\n',\n",
       " '2404:6800:4008:c06::8a wallet.google.com\\n',\n",
       " '#2404:6800:4008:c00::62 smtp1.google.com\\n',\n",
       " '#2404:6800:4008:c00::62 smtp2.google.com\\n',\n",
       " '#2404:6800:4008:c00::62 smtp3.google.com\\n',\n",
       " '#2404:6800:4008:c00::62 rtmp0.google.com\\n',\n",
       " '#2404:6800:4008:c00::76 wave0.google.com\\n',\n",
       " '2404:6800:4008:c03::63 www2.l.google.com\\n',\n",
       " '2404:6800:4008:c02::76 www4.l.google.com\\n',\n",
       " '#2404:6800:4008:c00::62 afd.l.google.com\\n',\n",
       " '2404:6800:4008:c06::64 code.l.google.com\\n',\n",
       " '2401:3800:4001:807::1004 dl.l.google.com\\n',\n",
       " '2404:6800:4008:c05::64 ipv6.l.google.com\\n',\n",
       " '2404:6800:4008:c04::8a news.l.google.com\\n',\n",
       " '2404:6800:4008:c05::7d talk.l.google.com\\n',\n",
       " '2404:6800:4008:c04::7b wifi.l.google.com\\n',\n",
       " '#2607:f8b0:4007:805::100e s2.youtube.com\\n',\n",
       " '## 多次重定向 bandaid-redirector.l.google.com\\n',\n",
       " '2620:0:863:ed1a::1 commons.wikimedia.org\\n',\n",
       " '2620:0:863:ed1a::1 species.wikimedia.org\\n',\n",
       " '2620:0:863:ed1a::1 bat-smg.wikipedia.org\\n',\n",
       " '2620:0:863:ed1a::1 cbk-zam.wikipedia.org\\n',\n",
       " '2620:0:863:ed1a::1 fiu-vro.wikipedia.org\\n',\n",
       " '2620:0:863:ed1a::1 map-bms.wikipedia.org\\n',\n",
       " '2620:0:863:ed1a::1 roa-rup.wikipedia.org\\n',\n",
       " '2620:0:863:ed1a::1 simple.wiktionary.org\\n',\n",
       " '#134.170.120.48 skyapi.onedrive.live.com\\n',\n",
       " '#2600:1417:9::b833:f5b a248.e.akamai.net\\n',\n",
       " '2600:1406:3:18b::376 research.nvidia.com\\n',\n",
       " '2600:1406:3:18b::778 contests.nvidia.com\\n',\n",
       " '#2600:1417:9::b833:f5b www.tegrazone.com\\n',\n",
       " '2400:cb00:2048:1::681b:d41e bitsnoop.com\\n',\n",
       " '151.101.1.69 astronomy.stackexchange.com\\n',\n",
       " '151.101.1.69 chemistry.stackexchange.com\\n',\n",
       " '151.101.1.69 economics.stackexchange.com\\n',\n",
       " '151.101.1.69 gardening.stackexchange.com\\n',\n",
       " '151.101.1.69 genealogy.stackexchange.com\\n',\n",
       " '151.101.129.69 history.stackexchange.com\\n',\n",
       " '151.101.1.69 lifehacks.stackexchange.com\\n',\n",
       " '151.101.1.69 musicfans.stackexchange.com\\n',\n",
       " '151.101.1.69 parenting.stackexchange.com\\n',\n",
       " '151.101.1.69 wordpress.stackexchange.com\\n',\n",
       " '151.101.1.69 workplace.stackexchange.com\\n',\n",
       " '192.229.144.96 cs261.wac.edgecastcdn.net\\n',\n",
       " '2404:6800:4008:c03::71 privacy.google.com\\n',\n",
       " '2404:6800:4008:c03::8d fvm.withgoogle.com\\n',\n",
       " '2404:6800:4008:c06::71 domains.google.com\\n',\n",
       " '2404:6800:4008:c06::be scholar.google.com\\n',\n",
       " '2404:6800:4008:c06::1b aspmx.l.google.com\\n',\n",
       " '2a00:1450:400e:800::2003 csi.l.google.com\\n',\n",
       " '2404:6800:4008:c05::79 ghs46.l.google.com\\n',\n",
       " '#2404:6800:4008:c00::63 ipv4.l.google.com\\n',\n",
       " '2401:3800:4001:807::1006 khm.l.google.com\\n',\n",
       " '2404:6800:4008:c06::8a ytimg.l.google.com\\n',\n",
       " '#2404:6800:4008:c00::62 pagead.google.com\\n',\n",
       " '2a03:2880:f102:83:face:b00c:0:25de fb.com\\n',\n",
       " '2620:0:863:ed1a::1 download.wikimedia.org\\n',\n",
       " '2620:0:863:ed1a::1 download.wikipedia.org\\n',\n",
       " '2620:0:863:ed1a::2:b upload.wikimedia.org\\n',\n",
       " '2620:0:863:ed1a::1 be-x-old.wikipedia.org\\n',\n",
       " '2620:0:863:ed1a::1 roa-tara.wikipedia.org\\n',\n",
       " '2620:0:863:ed1a::1 roa-rup.wiktionary.org\\n',\n",
       " '#2620:101:8008:5::2:6 quality.mozilla.org\\n',\n",
       " '#204.79.197.217 skyweb.skyprod.akadns.net\\n',\n",
       " '2600:1406:3:18b::a90 developer.nvidia.com\\n',\n",
       " '2001:428:4c02:b94::2c4b community.amd.com\\n',\n",
       " '#2600:1406:3:18b::b communities.intel.com\\n',\n",
       " '2400:cb00:2048:1::6814:3bc2 www.apnic.net\\n',\n",
       " '162.125.18.129 photos-thumb.x.dropbox.com\\n',\n",
       " '192.30.253.112 www.github.com #github.com\\n',\n",
       " '151.101.1.69 boardgames.stackexchange.com\\n',\n",
       " '151.101.1.69 codereview.stackexchange.com\\n',\n",
       " '151.101.65.69 mythology.stackexchange.com\\n',\n",
       " '151.101.1.69 opensource.stackexchange.com\\n',\n",
       " '151.101.1.69 philosophy.stackexchange.com\\n',\n",
       " '151.101.1.69 portuguese.stackexchange.com\\n',\n",
       " '151.101.1.69 salesforce.stackexchange.com\\n',\n",
       " '151.101.1.69 sharepoint.stackexchange.com\\n',\n",
       " '151.101.1.69 webmasters.stackexchange.com\\n',\n",
       " '117.18.237.70 o.twimg.com #ipv6.twimg.com\\n',\n",
       " '104.244.43.39 p.twimg.com #ipv6.twimg.com\\n',\n",
       " '2404:6800:4008:c07::71 www.registry.google\\n',\n",
       " '2404:6800:4008:c00::66 material.google.com\\n',\n",
       " '2404:6800:4008:c07::65 payments.google.com\\n',\n",
       " '2404:6800:4008:c04::8b thinkwithgoogle.com\\n',\n",
       " '2404:6800:4008:c07::64 profiles.google.com\\n',\n",
       " '2401:3800:4001:807::100f fonts.gstatic.com\\n',\n",
       " '2401:3800:4001:11::1017 cdn.ampproject.org\\n',\n",
       " '#2001:4860:4802:32::1d check.googlezip.net\\n',\n",
       " '2404:6800:4008:c04::d3 proxy.googlezip.net\\n',\n",
       " '2404:6800:4008:c00::5d dl-ssl.l.google.com\\n',\n",
       " '2404:6800:4008:c06::71 images.l.google.com\\n',\n",
       " '2404:6800:4008:c03::c1 mobile.l.google.com\\n',\n",
       " '2404:6800:4008:c03::5d sb-ssl.l.google.com\\n',\n",
       " '2620:0:863:ed1a::1 wikimediafoundation.org\\n',\n",
       " '2620:0:863:ed1a::1 incubator.wikimedia.org\\n',\n",
       " '#2600:1406:3:18b::3a7 api.steampowered.com\\n',\n",
       " '#2600:1417:9::b833:f5b pcdoeswhat.intel.cn\\n',\n",
       " '2a01:e0d:1:3:58bf:fa02:c0de:5 videolan.org\\n',\n",
       " '2001:67c:4e8:fa60:3:0:811:139 telegram.org\\n',\n",
       " '151.101.1.69 datascience.stackexchange.com\\n',\n",
       " '151.101.1.69 electronics.stackexchange.com\\n',\n",
       " '151.101.1.69 engineering.stackexchange.com\\n',\n",
       " '151.101.1.69 expatriates.stackexchange.com\\n',\n",
       " '151.101.1.69 freelancing.stackexchange.com\\n',\n",
       " '151.101.1.69 linguistics.stackexchange.com\\n',\n",
       " '151.101.1.69 martialarts.stackexchange.com\\n',\n",
       " '151.101.1.69 mathematica.stackexchange.com\\n',\n",
       " '151.101.129.69 mechanics.stackexchange.com\\n',\n",
       " '151.101.1.69 programmers.stackexchange.com\\n',\n",
       " '151.101.1.69 raspberrypi.stackexchange.com\\n',\n",
       " '151.101.1.69 woodworking.stackexchange.com\\n',\n",
       " '104.244.43.7 amp.twimg.com #ipv6.twimg.com\\n',\n",
       " '117.18.237.70 ea.twimg.com #ipv6.twimg.com\\n',\n",
       " '117.18.237.211 g.twimg.com #ipv6.twimg.com\\n',\n",
       " '104.244.43.7 hca.twimg.com #ipv6.twimg.com\\n',\n",
       " '2404:6800:4008:c04::a0 www.265.com #265.com\\n',\n",
       " '2404:6800:4008:c04::8d think.withgoogle.com\\n',\n",
       " '#2404:6800:4008:c00::62 smtp-out.google.com\\n',\n",
       " '#2404:6800:4008:c00::66 sketchup.google.com\\n',\n",
       " '2404:6800:4008:c07::5e accounts.gstatic.com\\n',\n",
       " '2404:6800:4008:c06::be android.l.google.com\\n',\n",
       " '2404:6800:4008:c02::8d appspot.l.google.com\\n',\n",
       " '2404:6800:4008:c04::bf blogger.l.google.com\\n',\n",
       " '2404:6800:4008:c03::76 gadgets.l.google.com\\n',\n",
       " '2404:6800:4008:c02::64 history.l.google.com\\n',\n",
       " '2401:3800:4001:807::1009 khmdb.l.google.com\\n',\n",
       " '#2404:6800:4008:c00::9a pagead.l.google.com\\n',\n",
       " '2404:6800:4008:c06::be scholar.l.google.com\\n',\n",
       " '2620:0:863:ed1a::1 zh-min-nan.wikibooks.org\\n',\n",
       " '2620:0:863:ed1a::1 zh-min-nan.wikipedia.org\\n',\n",
       " '2620:0:863:ed1a::1 zh-min-nan.wikiquote.org\\n',\n",
       " '2400:cb00:2048:1::681c:1a21 uncyclopedia.hk\\n',\n",
       " '2400:cb00:2048:1::681c:1304 uncyclopedia.tw\\n',\n",
       " '2400:cb00:2048:1::681c:b56 uncyclomedia.org\\n',\n",
       " '#2600:1417:9::b833:f5b cdn.steampowered.com\\n',\n",
       " '151.101.1.69 christianity.stackexchange.com\\n',\n",
       " '151.101.1.69 earthscience.stackexchange.com\\n',\n",
       " '151.101.1.69 elementaryos.stackexchange.com\\n',\n",
       " '151.101.1.69 hardwarerecs.stackexchange.com\\n',\n",
       " '151.101.1.69 hermeneutics.stackexchange.com\\n',\n",
       " '151.101.1.69 productivity.stackexchange.com\\n',\n",
       " '151.101.1.69 softwarerecs.stackexchange.com\\n',\n",
       " '151.101.1.69 windowsphone.stackexchange.com\\n',\n",
       " '117.18.237.70 abs.twimg.com #ipv6.twimg.com\\n',\n",
       " '117.18.237.70 pbs.twimg.com #ipv6.twimg.com\\n',\n",
       " '104.244.43.103 gu.twimg.com #ipv6.twimg.com\\n',\n",
       " '104.244.43.103 jp.twimg.com #ipv6.twimg.com\\n',\n",
       " '104.244.43.167 ma.twimg.com #ipv6.twimg.com\\n',\n",
       " '2401:3800:4001:10::101e googletagmanager.com\\n',\n",
       " '2404:6800:4008:c02::8d devart.withgoogle.com\\n',\n",
       " '2404:6800:4008:c06::8d foobar.withgoogle.com\\n',\n",
       " '#2404:6800:4008:c00::62 smtp-out3.google.com\\n',\n",
       " '2404:6800:4008:c06::be scholar.google.com.hk\\n',\n",
       " '2404:6800:4008:c06::be scholar.google.com.tw\\n',\n",
       " '#2404:6800:4008:c00::68 desktop.l.google.com\\n',\n",
       " '2404:6800:4008:c00::76 mw-small.l.google.com\\n',\n",
       " '2404:6800:4008:c06::451 sandbox.l.google.com\\n',\n",
       " '2404:6800:4008:c05::c7 www-wide.l.google.com\\n',\n",
       " '2404:6800:4008:c07::71 ytstatic.l.google.com\\n',\n",
       " '#2404:6800:4008:c00::64 clients1.youtube.com\\n',\n",
       " '2404:6800:4005:809::200e redirector.gvt1.com\\n',\n",
       " '2620:0:863:ed1a::1 zh-min-nan.wikisource.org\\n',\n",
       " '2620:0:863:ed1a::1 zh-min-nan.wiktionary.org\\n',\n",
       " '2400:cb00:2048:1::681c:183a images.uncyc.org\\n',\n",
       " '2400:cb00:2048:1::681c:193a static.uncyc.org\\n',\n",
       " '#2600:1417:9::b833:f5b repo.steampowered.com\\n',\n",
       " '2600:1406:3:18b::778 services.gfe.nvidia.com\\n',\n",
       " '2600:1417:9::b833:f5b cn.download.nvidia.com\\n',\n",
       " '2600:1417:9::b833:f5b us.download.nvidia.com\\n',\n",
       " '#2600:1406:3:18b::b downloadcenter.intel.com\\n',\n",
       " '#2600:1406:3:18b::b downloadmirror.intel.com\\n',\n",
       " '#54.239.130.34 d2dskowxfbo68o.cloudfront.net\\n',\n",
       " '151.101.1.69 graphicdesign.stackexchange.com\\n',\n",
       " '151.101.1.69 matheducators.stackexchange.com\\n',\n",
       " '151.101.1.69 meta.academia.stackexchange.com\\n',\n",
       " '151.101.1.69 worldbuilding.stackexchange.com\\n',\n",
       " '104.244.43.199 dnt.twimg.com #ipv6.twimg.com\\n',\n",
       " '192.229.237.154 g2.twimg.com #ipv6.twimg.com\\n',\n",
       " '104.244.43.167 oem.twimg.com #ipv6.twimg.com\\n',\n",
       " '104.244.43.135 ton.twimg.com #ipv6.twimg.com\\n',\n",
       " '2404:6800:4008:c03::8d mapping.withgoogle.com\\n',\n",
       " '2404:6800:4008:c06::8d nikhelp.withgoogle.com\\n',\n",
       " '2404:6800:4008:c05::8d spellup.withgoogle.com\\n',\n",
       " '2404:6800:4008:c02::8d www.fvm.withgoogle.com\\n',\n",
       " '#2404:6800:4008:c00::62 users.talk.google.com\\n',\n",
       " '2404:6800:4008:c07::a0 0.gvt0.cn #www.gvt0.cn\\n',\n",
       " '2404:6800:4008:c06::a0 1.gvt0.cn #www.gvt0.cn\\n',\n",
       " '2404:6800:4008:c07::a0 2.gvt0.cn #www.gvt0.cn\\n',\n",
       " '2404:6800:4008:c05::a0 3.gvt0.cn #www.gvt0.cn\\n',\n",
       " '2404:6800:4008:c07::d3 compress.googlezip.net\\n',\n",
       " '2607:f8b0:4003:c03::7d alt1.talk.l.google.com\\n',\n",
       " '#2404:6800:4008:c00::73 checkout.l.google.com\\n',\n",
       " '2404:6800:4008:c00::6d gmail-pop.l.google.com\\n',\n",
       " '#2404:6800:4008:c00::63 ipv6test.l.google.com\\n',\n",
       " '2401:3800:4001:807::100e keyhole.l.google.com\\n',\n",
       " '2404:6800:4008:c06::76 mw-medium.l.google.com\\n',\n",
       " '#2404:6800:4003:c01::57 orkut-fe.l.google.com\\n',\n",
       " '2404:6800:4008:c07::be picasaweb.l.google.com\\n',\n",
       " '#2404:6800:4008:c00::66 sketchup.l.google.com\\n',\n",
       " '## nonxt 私密视频 bandaid-redirector.l.google.com\\n',\n",
       " '2620:4b::c r1---sn-f2bpm-tfbe.googlevideo.com\\n',\n",
       " '2620:4b::d r2---sn-f2bpm-tfbe.googlevideo.com\\n',\n",
       " '2620:4b::e r3---sn-f2bpm-tfbe.googlevideo.com\\n',\n",
       " '#2600:1417:9::b833:faa static.ak.facebook.com\\n',\n",
       " '#2620:0:862:1::80:2 geoiplookup.wikimedia.org\\n',\n",
       " '#2620:0:863:ed1a::1 wikinews-lb.wikimedia.org\\n',\n",
       " '2620:0:863:ed1a::1 zh-classical.wikipedia.org\\n',\n",
       " '2001:428:4c02:b84::e59 download.microsoft.com\\n',\n",
       " '#204.79.197.217 webedgegeo.skyprod.akadns.net\\n',\n",
       " '2400:cb00:2048:1::681c:1a09 uncyclopedia.info\\n',\n",
       " '#2600:1417:9::b833:f5b media.steampowered.com\\n',\n",
       " '#2600:1417:9::b833:f5b cdn.steamcommunity.com\\n',\n",
       " '#2600:1417:9::b833:f5b corpredirect.intel.com\\n',\n",
       " '#2406:2000:fc:402::c:2207 c9.staticflickr.com\\n',\n",
       " '151.101.1.69 sustainability.stackexchange.com\\n',\n",
       " '104.244.43.35 abs-0.twimg.com #ipv6.twimg.com\\n',\n",
       " '2404:6800:4008:c03::8d trendstw.withgoogle.com\\n',\n",
       " '2404:6800:4008:c02::8d yourtour.withgoogle.com\\n',\n",
       " '2404:6800:4008:c06::8d www.thinkwithgoogle.com\\n',\n",
       " '2404:6800:4008:c03::5e translate.google.com.hk\\n',\n",
       " '2404:6800:4008:c00::5e translate.google.com.tw\\n',\n",
       " '#2404:6800:4008:c00::95 dart.l.doubleclick.net\\n',\n",
       " '#2404:6800:4008:c00::61 *.google-analytics.com\\n',\n",
       " '2404:6800:4008:c07::d3 proxy-dev.googlezip.net\\n',\n",
       " '2404:6800:4008:c07::6c gmail-imap.l.google.com\\n',\n",
       " '2a00:1450:400b:c00::6d gmail-smtp.l.google.com\\n',\n",
       " '2404:6800:4008:c06::e gmr-smtp-in.l.google.com\\n',\n",
       " '2404:6800:4008:c04::5f googleapis.l.google.com\\n',\n",
       " '2404:6800:4008:c06::52 googlecode.l.google.com\\n',\n",
       " '2404:6800:4008:c06::5e maps-cctld.l.google.com\\n',\n",
       " '2404:6800:4008:c06::84 pagead-tpc.l.google.com\\n',\n",
       " '#2404:6800:4008:c00::9a partnerad.l.google.com\\n',\n",
       " '2404:6800:4008:c07::66 talkgadget.l.google.com\\n',\n",
       " '2a03:2880:f002:109:face:b00c:0:2 messenger.com\\n',\n",
       " '#2620:0:863:ed1a::1 wikimedia-lb.wikimedia.org\\n',\n",
       " '#2620:0:863:ed1a::1 wikipedia-lb.wikimedia.org\\n',\n",
       " '#2620:0:863:ed1a::1 wikiquote-lb.wikimedia.org\\n',\n",
       " '#2620:0:863:ed1a::1 wikibooks-lb.wikimedia.org\\n',\n",
       " '#2620:0:863:ed1a::1 mediawiki-lb.wikimedia.org\\n',\n",
       " '2620:0:861:ed1a::1 text-lb.eqiad.wikimedia.org\\n',\n",
       " '2620:0:863:ed1a::1 text-lb.ulsfo.wikimedia.org\\n',\n",
       " '2400:cb00:2048:1::681c:1009 ansaikuropedia.org\\n',\n",
       " '#2600:1406:3:18b::3a7 support.steampowered.com\\n',\n",
       " '#2600:1417:9::b833:f5b media4.steampowered.com\\n',\n",
       " '#2600:1417:9::b833:f5b steamcdn-a.akamaihd.net\\n',\n",
       " '#2600:1417:9::b833:f5b store.valvesoftware.com\\n',\n",
       " '108.160.172.193 d.dropbox.com #d.v.dropbox.com\\n',\n",
       " '192.0.77.48 s.w.org #cs287.wac.edgecastcdn.net\\n',\n",
       " '2404:6800:4008:c06::8d cardboard.withgoogle.com\\n',\n",
       " '2404:6800:4008:c06::8d datasense.withgoogle.com\\n',\n",
       " '2404:6800:4008:c05::8d insgruene.withgoogle.com\\n',\n",
       " '2404:6800:4008:c05::8d streetart.withgoogle.com\\n',\n",
       " '#2404:6800:4008:c00::62 default.talk.google.com\\n',\n",
       " '#2a00:1450:4007:812::2001 blogspot.l.google.com\\n',\n",
       " '#2607:f8b0:400e:c01::97 chromeecho.l.google.com\\n',\n",
       " '2404:6800:4008:c03::63 ds.ipv6test.l.google.com\\n',\n",
       " '2404:6800:4008:c02::84 music-china.l.google.com\\n',\n",
       " '2404:6800:4008:c07::66 video-stats.l.google.com\\n',\n",
       " '2404:6800:4008:c04::84 s1.googleusercontent.com\\n',\n",
       " '2404:6800:4008:c06::84 s2.googleusercontent.com\\n',\n",
       " '2404:6800:4008:c02::84 sj.googleusercontent.com\\n',\n",
       " '2404:6800:4008:c02::be manifest.googlevideo.com\\n',\n",
       " '2404:6800:4007::6 r1---maa03s08.googlevideo.com\\n',\n",
       " '2404:6800:4007::7 r2---maa03s08.googlevideo.com\\n',\n",
       " '2404:6800:4007::8 r3---maa03s08.googlevideo.com\\n',\n",
       " '2404:6800:4007::9 r4---maa03s08.googlevideo.com\\n',\n",
       " '2404:6800:4007::a r5---maa03s08.googlevideo.com\\n',\n",
       " '2404:6800:4007::b r6---maa03s08.googlevideo.com\\n',\n",
       " '2404:6800:4007::c r7---maa03s08.googlevideo.com\\n',\n",
       " '2404:6800:4007::d r8---maa03s08.googlevideo.com\\n',\n",
       " '2404:6800:4007::e r9---maa03s08.googlevideo.com\\n',\n",
       " '2a03:2880:f102:83:face:b00c:0:25de facebook.com\\n',\n",
       " '#2620:0:863:ed1a::1 wiktionary-lb.wikimedia.org\\n',\n",
       " '#2620:0:863:ed1a::1 wikisource-lb.wikimedia.org\\n',\n",
       " '#2600:1417:9::b833:f5b cloud-3.steampowered.com\\n',\n",
       " '2001:67c:4e8:fa60:3:0:811:139 core.telegram.org\\n',\n",
       " '162.125.82.1 www.dropbox.com #www.v.dropbox.com\\n',\n",
       " '151.101.1.69 computergraphics.stackexchange.com\\n',\n",
       " '151.101.1.69 expressionengine.stackexchange.com\\n',\n",
       " '192.229.232.217 video.twimg.com #ipv6.twimg.com\\n',\n",
       " '192.0.78.13 www.wordpress.com #lb.wordpress.com\\n',\n",
       " '192.0.77.32 s0.wp.com #cs82.wac.edgecastcdn.net\\n',\n",
       " '192.0.77.32 s1.wp.com #cs82.wac.edgecastcdn.net\\n',\n",
       " '192.0.77.32 s2.wp.com #cs82.wac.edgecastcdn.net\\n',\n",
       " '192.0.77.48 ts.w.org #cs287.wac.edgecastcdn.net\\n',\n",
       " '2404:6800:4008:c03::71 client-channel.google.com\\n',\n",
       " '2404:6800:4008:c02::8d accelerate.withgoogle.com\\n',\n",
       " '2404:6800:4008:c05::8d atmosphere.withgoogle.com\\n',\n",
       " '2404:6800:4008:c03::8d candidatos.withgoogle.com\\n',\n",
       " '2404:6800:4008:c05::8d lightsaber.withgoogle.com\\n',\n",
       " '2404:6800:4008:c07::8d smartypins.withgoogle.com\\n',\n",
       " '2404:6800:4008:c02::8d takeaction.withgoogle.com\\n',\n",
       " '2404:6800:4008:c04::8d whichphone.withgoogle.com\\n',\n",
       " '2404:6800:4008:c03::bd b.googlemail.l.google.com\\n',\n",
       " '#2404:6800:4008:c00::66 browsersync.l.google.com\\n',\n",
       " '2404:6800:4008:c03::84 googlehosted.l.google.com\\n',\n",
       " '2404:6800:4008:c06::bc mobile-gtalk.l.google.com\\n',\n",
       " '#2404:6800:4008:c00::62 writely-com.l.google.com\\n',\n",
       " '2404:6800:4008:c03::84 www.googleusercontent.com\\n',\n",
       " '2404:6800:4008:c00::84 ap2.googleusercontent.com\\n',\n",
       " '2404:6800:4008:c03::84 ci1.googleusercontent.com\\n',\n",
       " '2404:6800:4008:c05::84 ci2.googleusercontent.com\\n',\n",
       " '2404:6800:4008:c00::84 ci3.googleusercontent.com\\n',\n",
       " '2404:6800:4008:c03::84 ci4.googleusercontent.com\\n',\n",
       " '2404:6800:4008:c03::84 ci5.googleusercontent.com\\n',\n",
       " '2404:6800:4008:c00::84 ci6.googleusercontent.com\\n',\n",
       " '2404:6800:4008:c06::84 lh0.googleusercontent.com\\n',\n",
       " '2404:6800:4008:c05::84 lh1.googleusercontent.com\\n',\n",
       " '2404:6800:4008:c00::84 lh2.googleusercontent.com\\n',\n",
       " '2404:6800:4008:c07::84 lh3.googleusercontent.com\\n',\n",
       " '2404:6800:4008:c06::84 lh4.googleusercontent.com\\n',\n",
       " '2404:6800:4008:c02::84 lh5.googleusercontent.com\\n',\n",
       " '2404:6800:4008:c06::84 lh6.googleusercontent.com\\n',\n",
       " '2404:6800:4007::f r10---maa03s08.googlevideo.com\\n',\n",
       " '2001:f90:9:6::c r1---sn-juh-h4hs.googlevideo.com\\n',\n",
       " '2001:f90:9:6::d r2---sn-juh-h4hs.googlevideo.com\\n',\n",
       " '2001:f90:9:6::e r3---sn-juh-h4hs.googlevideo.com\\n',\n",
       " '2001:f90:9:6::f r4---sn-juh-h4hs.googlevideo.com\\n',\n",
       " '2001:f90:8:6::c r1---sn-juh-h4hz.googlevideo.com\\n',\n",
       " '2001:f90:8:6::d r2---sn-juh-h4hz.googlevideo.com\\n',\n",
       " '2001:f90:8:6::e r3---sn-juh-h4hz.googlevideo.com\\n',\n",
       " '2001:f90:8:6::f r4---sn-juh-h4hz.googlevideo.com\\n',\n",
       " '2a03:2880:f002:109:face:b00c:0:2 thefacebook.com\\n',\n",
       " '2a03:2880:f20d:c4:face:b00c:0:43fe instagram.com\\n',\n",
       " '#2620:0:863:ed1a::1 wikiversity-lb.wikimedia.org\\n',\n",
       " '2002:836b:9820::836b:9886 www.ipv6.microsoft.com\\n',\n",
       " '2400:cb00:2048:1::681c:b56 meta.uncyclomedia.org\\n',\n",
       " '#2600:1417:9::b833:f5b content8.steampowered.com\\n',\n",
       " '#2600:1417:9::b833:f5b steamstore-a.akamaihd.net\\n',\n",
       " '2600:1406:3:18b::a91 download-cdn.gfe.nvidia.com\\n',\n",
       " '2001:df0:2ed:feed::feed jaist.dl.sourceforge.net\\n',\n",
       " '124.108.101.57 s.yimg.com #s.gycs.b.yahoodns.net\\n',\n",
       " '54.182.2.159 i1.sndcdn.com #img.x.soundcloud.com\\n',\n",
       " '151.101.1.69 communitybuilding.stackexchange.com\\n',\n",
       " '2404:6800:4008:c05::a0 m.google.cn #www.google.cn\\n',\n",
       " '2404:6800:4008:c02::64 encrypted-tbn0.gstatic.com\\n',\n",
       " '2404:6800:4008:c06::8b encrypted-tbn1.gstatic.com\\n',\n",
       " '2404:6800:4008:c05::8b encrypted-tbn2.gstatic.com\\n',\n",
       " '2404:6800:4008:c03::65 encrypted-tbn3.gstatic.com\\n',\n",
       " '## Google Wave Federation Protocol · GWave 协议开源计划\\n',\n",
       " '2404:6800:4008:c04::8b bloggerphotos.l.google.com\\n',\n",
       " '2404:6800:4008:c05::5e clients-cctld.l.google.com\\n',\n",
       " '2404:6800:4008:c07::71 encrypted-tbn.l.google.com\\n',\n",
       " '2404:6800:4008:c03::1b gmail-smtp-in.l.google.com\\n',\n",
       " '2404:6800:4008:c03::75 large-uploads.l.google.com\\n',\n",
       " '#2404:6800:4003:c02::56 orkut-images.l.google.com\\n',\n",
       " '#2404:6800:4003:c02::55 orkut-static.l.google.com\\n',\n",
       " '#2a00:1450:4007:812::2001 photos-ugc.l.google.com\\n',\n",
       " '#2607:f8b0:4005:400::17 static.cache.l.google.com\\n',\n",
       " '2404:6800:4008:c06::66 writely-china.l.google.com\\n',\n",
       " '#2404:6800:4008:c00::62 www.googlesyndication.com\\n',\n",
       " '2404:6800:4008:c04::84 mua3.googleusercontent.com\\n',\n",
       " '2404:6800:4008:c07::84 mua4.googleusercontent.com\\n',\n",
       " '2404:6800:4008:c03::84 mua5.googleusercontent.com\\n',\n",
       " '2404:6800:4008:c03::84 mua6.googleusercontent.com\\n',\n",
       " '2404:6800:4008:c03::84 1-ps.googleusercontent.com\\n',\n",
       " '2404:6800:4008:c07::84 2-ps.googleusercontent.com\\n',\n",
       " '2404:6800:4008:c03::84 3-ps.googleusercontent.com\\n',\n",
       " '2404:6800:4008:c07::84 4-ps.googleusercontent.com\\n',\n",
       " '2404:6800:4008:c00::84 wave.googleusercontent.com\\n',\n",
       " '2401:3800:4001:11::1000 v1.nonxt5.googlevideo.com\\n',\n",
       " '2401:3800:4001:10::1004 v2.nonxt1.googlevideo.com\\n',\n",
       " '2401:3800:4001:10::1005 v2.nonxt2.googlevideo.com\\n',\n",
       " '2401:3800:4001:11::1009 v2.nonxt6.googlevideo.com\\n',\n",
       " '2401:3800:4001:10::1002 v3.nonxt2.googlevideo.com\\n',\n",
       " '2401:3800:4001:11::1005 v3.nonxt4.googlevideo.com\\n',\n",
       " '2401:3800:4001:10::1005 v3.nonxt5.googlevideo.com\\n',\n",
       " '2401:3800:4001:10::1002 v4.nonxt2.googlevideo.com\\n',\n",
       " '2401:3800:4001:10::1001 v4.nonxt7.googlevideo.com\\n',\n",
       " '2401:3800:4001:10::1001 v5.nonxt1.googlevideo.com\\n',\n",
       " '2401:3800:4001:11::1007 v5.nonxt3.googlevideo.com\\n',\n",
       " '2401:3800:4001:11::1009 v5.nonxt6.googlevideo.com\\n',\n",
       " '2401:3800:4001:10::1002 v6.nonxt1.googlevideo.com\\n',\n",
       " '2401:3800:4001:11::1005 v6.nonxt3.googlevideo.com\\n',\n",
       " '2401:3800:4001:11::1009 v6.nonxt4.googlevideo.com\\n',\n",
       " '2401:3800:4001:10::1001 v6.nonxt7.googlevideo.com\\n',\n",
       " '2401:3800:4001:11::1002 v7.nonxt1.googlevideo.com\\n',\n",
       " '2401:3800:4001:10::1000 v7.nonxt5.googlevideo.com\\n',\n",
       " '2401:3800:4001:11::1005 v7.nonxt7.googlevideo.com\\n',\n",
       " '2401:3800:4001:10::1009 v8.nonxt1.googlevideo.com\\n',\n",
       " '2401:3800:4001:11::1009 v8.nonxt2.googlevideo.com\\n',\n",
       " '2401:3800:4001:10::1003 v8.nonxt3.googlevideo.com\\n',\n",
       " '2401:3800:4001:11::1001 v8.nonxt6.googlevideo.com\\n',\n",
       " '2401:3800:4001:10::1005 v8.nonxt7.googlevideo.com\\n',\n",
       " '2401:3800:4001:10::1004 v9.nonxt2.googlevideo.com\\n',\n",
       " '2401:3800:4001:11::1005 v9.nonxt3.googlevideo.com\\n',\n",
       " '2401:3800:4001:10::1006 v9.nonxt7.googlevideo.com\\n',\n",
       " '2401:3800:4001:10::1001 v1.cache1.googlevideo.com\\n',\n",
       " '2401:3800:4001:11::1008 v1.cache2.googlevideo.com\\n',\n",
       " '2401:3800:4001:11::100e v1.cache4.googlevideo.com\\n',\n",
       " '2401:3800:4001:11::1009 v1.cache5.googlevideo.com\\n',\n",
       " '2401:3800:4001:11::1002 v1.cache7.googlevideo.com\\n',\n",
       " '2401:3800:4001:11::1006 v1.cache8.googlevideo.com\\n',\n",
       " '2401:3800:4001:10::100e v2.cache5.googlevideo.com\\n',\n",
       " '2401:3800:4001:11::1004 v3.cache2.googlevideo.com\\n',\n",
       " '2401:3800:4001:10::1004 v3.cache3.googlevideo.com\\n',\n",
       " '2401:3800:4001:11::1005 v3.cache5.googlevideo.com\\n',\n",
       " '2401:3800:4001:10::1004 v4.cache1.googlevideo.com\\n',\n",
       " '2401:3800:4001:10::1003 v4.cache2.googlevideo.com\\n',\n",
       " '2401:3800:4001:11::1000 v4.cache4.googlevideo.com\\n',\n",
       " '2401:3800:4001:10::1005 v4.cache6.googlevideo.com\\n',\n",
       " '2401:3800:4001:10::1002 v5.cache4.googlevideo.com\\n',\n",
       " '2401:3800:4001:10::1007 v5.cache7.googlevideo.com\\n',\n",
       " '2401:3800:4001:11::1002 v6.cache1.googlevideo.com\\n',\n",
       " '2401:3800:4001:11::1001 v6.cache2.googlevideo.com\\n',\n",
       " '2401:3800:4001:10::1000 v6.cache8.googlevideo.com\\n',\n",
       " '2401:3800:4001:10::1005 v7.cache1.googlevideo.com\\n',\n",
       " '2401:3800:4001:10::1001 v7.cache2.googlevideo.com\\n',\n",
       " '2401:3800:4001:10::1003 v7.cache3.googlevideo.com\\n',\n",
       " '2401:3800:4001:11::100e v7.cache6.googlevideo.com\\n',\n",
       " '2401:3800:4001:10::1005 v8.cache1.googlevideo.com\\n',\n",
       " '2404:6800:4007::10 r11---maa03s08.googlevideo.com\\n',\n",
       " '2404:6800:4007::11 r12---maa03s08.googlevideo.com\\n',\n",
       " '2404:6800:4007::12 r13---maa03s08.googlevideo.com\\n',\n",
       " '2404:6800:4007::13 r14---maa03s08.googlevideo.com\\n',\n",
       " '2404:6800:4007::14 r15---maa03s08.googlevideo.com\\n',\n",
       " '2404:6800:4007::15 r16---maa03s08.googlevideo.com\\n',\n",
       " '2404:6800:4007::16 r17---maa03s08.googlevideo.com\\n',\n",
       " '2404:6800:4007::17 r18---maa03s08.googlevideo.com\\n',\n",
       " '2404:6800:4007::18 r19---maa03s08.googlevideo.com\\n',\n",
       " '2404:6800:4007::19 r20---maa03s08.googlevideo.com\\n',\n",
       " '2404:6800:4007:1::6 r1---maa03s09.googlevideo.com\\n',\n",
       " '2404:6800:4007:1::7 r2---maa03s09.googlevideo.com\\n',\n",
       " '2404:6800:4007:1::8 r3---maa03s09.googlevideo.com\\n',\n",
       " '2404:6800:4007:1::9 r4---maa03s09.googlevideo.com\\n',\n",
       " '2404:6800:4007:1::a r5---maa03s09.googlevideo.com\\n',\n",
       " '2404:6800:4007:1::b r6---maa03s09.googlevideo.com\\n',\n",
       " '2404:6800:4007:1::c r7---maa03s09.googlevideo.com\\n',\n",
       " '2404:6800:4007:1::d r8---maa03s09.googlevideo.com\\n',\n",
       " '2404:6800:4007:1::e r9---maa03s09.googlevideo.com\\n',\n",
       " '2404:6800:4007:2::6 r1---maa03s10.googlevideo.com\\n',\n",
       " '2404:6800:4007:2::7 r2---maa03s10.googlevideo.com\\n',\n",
       " '2404:6800:4007:2::8 r3---maa03s10.googlevideo.com\\n',\n",
       " '2404:6800:4007:2::9 r4---maa03s10.googlevideo.com\\n',\n",
       " '2404:6800:4007:2::a r5---maa03s10.googlevideo.com\\n',\n",
       " '2404:6800:4007:2::b r6---maa03s10.googlevideo.com\\n',\n",
       " '2404:6800:4007:2::c r7---maa03s10.googlevideo.com\\n',\n",
       " '2404:6800:4007:2::d r8---maa03s10.googlevideo.com\\n',\n",
       " '2404:6800:4007:2::e r9---maa03s10.googlevideo.com\\n',\n",
       " '2404:6800:4007:3::6 r1---maa03s11.googlevideo.com\\n',\n",
       " '2404:6800:4007:3::7 r2---maa03s11.googlevideo.com\\n',\n",
       " '2404:6800:4007:3::8 r3---maa03s11.googlevideo.com\\n',\n",
       " '2404:6800:4007:3::9 r4---maa03s11.googlevideo.com\\n',\n",
       " '2404:6800:4007:3::a r5---maa03s11.googlevideo.com\\n',\n",
       " '2404:6800:4007:3::b r6---maa03s11.googlevideo.com\\n',\n",
       " '2404:6800:4007:3::c r7---maa03s11.googlevideo.com\\n',\n",
       " '2404:6800:4007:3::d r8---maa03s11.googlevideo.com\\n',\n",
       " '2404:6800:4007:3::e r9---maa03s11.googlevideo.com\\n',\n",
       " '2404:6800:4007:4::6 r1---maa03s12.googlevideo.com\\n',\n",
       " '2404:6800:4007:4::7 r2---maa03s12.googlevideo.com\\n',\n",
       " '2404:6800:4007:4::8 r3---maa03s12.googlevideo.com\\n',\n",
       " '2404:6800:4007:4::9 r4---maa03s12.googlevideo.com\\n',\n",
       " '2404:6800:4007:4::a r5---maa03s12.googlevideo.com\\n',\n",
       " '2404:6800:4007:4::b r6---maa03s12.googlevideo.com\\n',\n",
       " '2404:6800:4007:4::c r7---maa03s12.googlevideo.com\\n',\n",
       " '2404:6800:4007:4::d r8---maa03s12.googlevideo.com\\n',\n",
       " '2404:6800:4007:4::e r9---maa03s12.googlevideo.com\\n',\n",
       " '2404:6800:4007:5::6 r1---maa03s13.googlevideo.com\\n',\n",
       " '2404:6800:4007:5::7 r2---maa03s13.googlevideo.com\\n',\n",
       " '2404:6800:4007:5::8 r3---maa03s13.googlevideo.com\\n',\n",
       " '2404:6800:4007:5::9 r4---maa03s13.googlevideo.com\\n',\n",
       " '2404:6800:4007:5::a r5---maa03s13.googlevideo.com\\n',\n",
       " '2404:6800:4007:5::b r6---maa03s13.googlevideo.com\\n',\n",
       " '2404:6800:4007:5::c r7---maa03s13.googlevideo.com\\n',\n",
       " '2404:6800:4007:5::d r8---maa03s13.googlevideo.com\\n',\n",
       " ...]"
      ]
     },
     "execution_count": 57,
     "metadata": {},
     "output_type": "execute_result"
    }
   ],
   "source": [
    "longest_lines"
   ]
  },
  {
   "cell_type": "code",
   "execution_count": 61,
   "metadata": {},
   "outputs": [
    {
     "data": {
      "text/plain": [
       "1"
      ]
     },
     "execution_count": 61,
     "metadata": {},
     "output_type": "execute_result"
    }
   ],
   "source": [
    "min(7,2,1,5)"
   ]
  },
  {
   "cell_type": "code",
   "execution_count": 62,
   "metadata": {},
   "outputs": [
    {
     "data": {
      "text/plain": [
       "7"
      ]
     },
     "execution_count": 62,
     "metadata": {},
     "output_type": "execute_result"
    }
   ],
   "source": [
    "max(7,2,1,5)"
   ]
  },
  {
   "cell_type": "code",
   "execution_count": 63,
   "metadata": {},
   "outputs": [
    {
     "data": {
      "text/plain": [
       "2"
      ]
     },
     "execution_count": 63,
     "metadata": {},
     "output_type": "execute_result"
    }
   ],
   "source": [
    "min([2, 7, 5])"
   ]
  },
  {
   "cell_type": "code",
   "execution_count": 64,
   "metadata": {},
   "outputs": [
    {
     "data": {
      "text/plain": [
       "2"
      ]
     },
     "execution_count": 64,
     "metadata": {},
     "output_type": "execute_result"
    }
   ],
   "source": [
    "sorted([2, 7, 5])[0]"
   ]
  },
  {
   "cell_type": "code",
   "execution_count": 65,
   "metadata": {},
   "outputs": [
    {
     "data": {
      "text/plain": [
       "7"
      ]
     },
     "execution_count": 65,
     "metadata": {},
     "output_type": "execute_result"
    }
   ],
   "source": [
    "max([2, 7, 5])"
   ]
  },
  {
   "cell_type": "raw",
   "metadata": {},
   "source": [
    "The maximum is a bit more complicated, because sorted keeps order and max returns the first encountered value.\n",
    "In case there are no duplicates the maximum is the same as the last element of the sorted return:"
   ]
  },
  {
   "cell_type": "code",
   "execution_count": 66,
   "metadata": {},
   "outputs": [
    {
     "data": {
      "text/plain": [
       "7"
      ]
     },
     "execution_count": 66,
     "metadata": {},
     "output_type": "execute_result"
    }
   ],
   "source": [
    "sorted([2, 7, 5])[-1]"
   ]
  },
  {
   "cell_type": "code",
   "execution_count": 67,
   "metadata": {},
   "outputs": [],
   "source": [
    "class MyClass(object):\n",
    "    def __init__(self, value, name):\n",
    "        self.value = value\n",
    "        self.name = name\n",
    "    def __lt__(self, other):\n",
    "        return self.value < other.value\n",
    "    def __repr__(self):\n",
    "        return str(self.name)"
   ]
  },
  {
   "cell_type": "code",
   "execution_count": 68,
   "metadata": {},
   "outputs": [
    {
     "data": {
      "text/plain": [
       "[second, first, third]"
      ]
     },
     "execution_count": 68,
     "metadata": {},
     "output_type": "execute_result"
    }
   ],
   "source": [
    "sorted([MyClass(4, 'first'), MyClass(1, 'second'), MyClass(4, 'third')])"
   ]
  },
  {
   "cell_type": "code",
   "execution_count": 69,
   "metadata": {},
   "outputs": [
    {
     "data": {
      "text/plain": [
       "first"
      ]
     },
     "execution_count": 69,
     "metadata": {},
     "output_type": "execute_result"
    }
   ],
   "source": [
    "max([MyClass(4, 'first'), MyClass(1, 'second'), MyClass(4, 'third')])"
   ]
  },
  {
   "cell_type": "code",
   "execution_count": null,
   "metadata": {},
   "outputs": [],
   "source": []
  }
 ],
 "metadata": {
  "kernelspec": {
   "display_name": "Python [default]",
   "language": "python",
   "name": "python3"
  },
  "language_info": {
   "codemirror_mode": {
    "name": "ipython",
    "version": 3
   },
   "file_extension": ".py",
   "mimetype": "text/x-python",
   "name": "python",
   "nbconvert_exporter": "python",
   "pygments_lexer": "ipython3",
   "version": "3.6.3"
  }
 },
 "nbformat": 4,
 "nbformat_minor": 2
}
