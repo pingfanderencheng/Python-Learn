{
 "cells": [
  {
   "cell_type": "raw",
   "metadata": {},
   "source": [
    "Parameter Details\n",
    "webbrowser.open()\n",
    "url the URL to open in the web browser\n",
    "new 0 opens the URL in the existing tab, 1 opens in a new window, 2 opens in new tab\n",
    "autoraise if set to True, the window will be moved on top of the other windows\n",
    "webbrowser.open_new()\n",
    "url the URL to open in the web browser\n",
    "webbrowser.open_new_tab()\n",
    "url the URL to open in the web browser\n",
    "webbrowser.get()\n",
    "using the browser to use\n",
    "webbrowser.register()\n",
    "url browser name\n",
    "constructor path to the executable browser (help)\n",
    "instance An instance of a web browser returned from the webbrowser.get() method\n",
    "According to Python's standard documentation, the webbrowser module provides a high-level interface to allow\n",
    "displaying Web-based documents to users. This topic explains and demonstrates proper usage of the webbrowser\n",
    "module."
   ]
  },
  {
   "cell_type": "code",
   "execution_count": 1,
   "metadata": {},
   "outputs": [
    {
     "data": {
      "text/plain": [
       "True"
      ]
     },
     "execution_count": 1,
     "metadata": {},
     "output_type": "execute_result"
    }
   ],
   "source": [
    "import webbrowser\n",
    "webbrowser.open(\"http://stackoverflow.com\")"
   ]
  },
  {
   "cell_type": "code",
   "execution_count": 2,
   "metadata": {},
   "outputs": [
    {
     "data": {
      "text/plain": [
       "True"
      ]
     },
     "execution_count": 2,
     "metadata": {},
     "output_type": "execute_result"
    }
   ],
   "source": [
    "import webbrowser\n",
    "webbrowser.open_new(\"http://stackoverflow.com\")"
   ]
  },
  {
   "cell_type": "code",
   "execution_count": 3,
   "metadata": {},
   "outputs": [
    {
     "data": {
      "text/plain": [
       "True"
      ]
     },
     "execution_count": 3,
     "metadata": {},
     "output_type": "execute_result"
    }
   ],
   "source": [
    "import webbrowser\n",
    "webbrowser.open_new_tab(\"http://stackoverflow.com\")"
   ]
  },
  {
   "cell_type": "code",
   "execution_count": 14,
   "metadata": {},
   "outputs": [
    {
     "data": {
      "text/plain": [
       "{'c:\\\\program files\\\\internet explorer\\\\iexplore.exe': [None,\n",
       "  <webbrowser.BackgroundBrowser at 0x2acd8c3eeb8>],\n",
       " 'windows-default': [webbrowser.WindowsDefault, None]}"
      ]
     },
     "execution_count": 14,
     "metadata": {},
     "output_type": "execute_result"
    }
   ],
   "source": [
    "webbrowser._browsers"
   ]
  },
  {
   "cell_type": "code",
   "execution_count": 17,
   "metadata": {},
   "outputs": [
    {
     "data": {
      "text/plain": [
       "True"
      ]
     },
     "execution_count": 17,
     "metadata": {},
     "output_type": "execute_result"
    }
   ],
   "source": [
    "import webbrowser\n",
    "ff = webbrowser.get(\"c:\\\\program files\\\\internet explorer\\\\iexplore.exe\")\n",
    "# ff = webbrowser.get(ff_path)\n",
    "ff.open(\"http://stackoverflow.com/\")"
   ]
  },
  {
   "cell_type": "code",
   "execution_count": 18,
   "metadata": {},
   "outputs": [
    {
     "data": {
      "text/plain": [
       "True"
      ]
     },
     "execution_count": 18,
     "metadata": {},
     "output_type": "execute_result"
    }
   ],
   "source": [
    "import webbrowser\n",
    "ff = webbrowser.get(\"c:\\\\program files\\\\internet explorer\\\\iexplore.exe\")\n",
    "# ff = webbrowser.get(ff_path)\n",
    "webbrowser.register('firefox', None, ff)\n",
    "# Now to refer to use Firefox in the future you can use this\n",
    "webbrowser.get('firefox').open(\"https://stackoverflow.com/\")"
   ]
  },
  {
   "cell_type": "code",
   "execution_count": null,
   "metadata": {},
   "outputs": [],
   "source": []
  }
 ],
 "metadata": {
  "kernelspec": {
   "display_name": "Python [default]",
   "language": "python",
   "name": "python3"
  },
  "language_info": {
   "codemirror_mode": {
    "name": "ipython",
    "version": 3
   },
   "file_extension": ".py",
   "mimetype": "text/x-python",
   "name": "python",
   "nbconvert_exporter": "python",
   "pygments_lexer": "ipython3",
   "version": "3.6.3"
  }
 },
 "nbformat": 4,
 "nbformat_minor": 2
}
